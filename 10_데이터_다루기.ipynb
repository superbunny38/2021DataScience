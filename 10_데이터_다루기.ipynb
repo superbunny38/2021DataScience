{
  "nbformat": 4,
  "nbformat_minor": 0,
  "metadata": {
    "colab": {
      "name": "10 데이터 다루기.ipynb",
      "provenance": [],
      "collapsed_sections": [],
      "toc_visible": true,
      "authorship_tag": "ABX9TyNnFuKUtG1czZb12djKBDvU",
      "include_colab_link": true
    },
    "kernelspec": {
      "name": "python3",
      "display_name": "Python 3"
    },
    "language_info": {
      "name": "python"
    },
    "accelerator": "GPU"
  },
  "cells": [
    {
      "cell_type": "markdown",
      "metadata": {
        "id": "view-in-github",
        "colab_type": "text"
      },
      "source": [
        "<a href=\"https://colab.research.google.com/github/superbunny38/2021DataScience/blob/main/10_%EB%8D%B0%EC%9D%B4%ED%84%B0_%EB%8B%A4%EB%A3%A8%EA%B8%B0.ipynb\" target=\"_parent\"><img src=\"https://colab.research.google.com/assets/colab-badge.svg\" alt=\"Open In Colab\"/></a>"
      ]
    },
    {
      "cell_type": "code",
      "source": [
        "!git clone https://github.com/joelgrus/data-science-from-scratch.git book"
      ],
      "metadata": {
        "colab": {
          "base_uri": "https://localhost:8080/"
        },
        "id": "jY1uwJRP-fqK",
        "outputId": "25e026e8-1eba-4dcf-883d-96b4de9f8c86"
      },
      "execution_count": 2,
      "outputs": [
        {
          "output_type": "stream",
          "name": "stdout",
          "text": [
            "fatal: destination path 'book' already exists and is not an empty directory.\n"
          ]
        }
      ]
    },
    {
      "cell_type": "code",
      "source": [
        "!mkdir workspace"
      ],
      "metadata": {
        "colab": {
          "base_uri": "https://localhost:8080/"
        },
        "id": "8DhZ8RB5-q7A",
        "outputId": "8df924a1-49d7-4e4e-a954-3ffed579d3e7"
      },
      "execution_count": 3,
      "outputs": [
        {
          "output_type": "stream",
          "name": "stdout",
          "text": [
            "mkdir: cannot create directory ‘workspace’: File exists\n"
          ]
        }
      ]
    },
    {
      "cell_type": "code",
      "source": [
        "!mv /content/book/scratch workspace"
      ],
      "metadata": {
        "colab": {
          "base_uri": "https://localhost:8080/"
        },
        "id": "-RHa3vqw-tHJ",
        "outputId": "332ee998-bc39-4c0a-a9fa-9c0ee8b07a0d"
      },
      "execution_count": 4,
      "outputs": [
        {
          "output_type": "stream",
          "name": "stdout",
          "text": [
            "mv: cannot stat '/content/book/scratch': No such file or directory\n"
          ]
        }
      ]
    },
    {
      "cell_type": "code",
      "source": [
        "%cd workspace"
      ],
      "metadata": {
        "colab": {
          "base_uri": "https://localhost:8080/"
        },
        "id": "zOvzUCEr-xD3",
        "outputId": "8589d106-2e17-4eaa-ff7a-a9c3cf979708"
      },
      "execution_count": 5,
      "outputs": [
        {
          "output_type": "stream",
          "name": "stdout",
          "text": [
            "/content/workspace\n"
          ]
        }
      ]
    },
    {
      "cell_type": "markdown",
      "source": [
        "## 1차원 데이터"
      ],
      "metadata": {
        "id": "mxix60RP_rgf"
      }
    },
    {
      "cell_type": "code",
      "execution_count": 1,
      "metadata": {
        "id": "GtfIZMv28lM2"
      },
      "outputs": [],
      "source": [
        "from typing import List, Dict\n",
        "from collections import Counter\n",
        "import math\n",
        "import matplotlib.pyplot as plt"
      ]
    },
    {
      "cell_type": "code",
      "source": [
        "def bucketize(point: float, bucket_size: float) -> float:#각 데이터를 bucket_size의 배수에 해당하는 구간에 위치시킨다.\n",
        "    \"\"\"Floor the point to the next lower multiple of bucket_size\"\"\"\n",
        "    return bucket_size * math.floor(point / bucket_size)"
      ],
      "metadata": {
        "id": "ek2vZnks9rMI"
      },
      "execution_count": 6,
      "outputs": []
    },
    {
      "cell_type": "code",
      "source": [
        "def make_histogram(points: List[float], bucket_size: float) -> Dict[float, int]:#구간을 생성하고 각 구간 안의 데이터 개수를 계산해준다\n",
        "    \"\"\"Buckets the points and counts how many in each bucket\"\"\"\n",
        "    return Counter(bucketize(point, bucket_size) for point in points)"
      ],
      "metadata": {
        "id": "JanKxvc_9992"
      },
      "execution_count": 3,
      "outputs": []
    },
    {
      "cell_type": "code",
      "source": [
        "def plot_histogram(points: List[float], bucket_size: float, title: str = \"\"):\n",
        "    histogram = make_histogram(points, bucket_size)\n",
        "    plt.bar(histogram.keys(), histogram.values(), width=bucket_size)\n",
        "    plt.title(title)"
      ],
      "metadata": {
        "id": "iovBWx2U-Ggy"
      },
      "execution_count": 4,
      "outputs": []
    },
    {
      "cell_type": "code",
      "source": [
        "import random\n",
        "from scratch.probability import inverse_normal_cdf\n",
        "\n",
        "random.seed(0)\n",
        "\n",
        "#-100과 100 사이의 균등 분포\n",
        "uniform = [200*random.random() -100 for _ in range(10000)]\n",
        "uniform[:10]"
      ],
      "metadata": {
        "colab": {
          "base_uri": "https://localhost:8080/"
        },
        "id": "_SJ2Mhnj-KDk",
        "outputId": "a47ab166-6524-4846-bdee-9cefc41aa4b1"
      },
      "execution_count": 11,
      "outputs": [
        {
          "output_type": "execute_result",
          "data": {
            "text/plain": [
              "[68.88437030500961,\n",
              " 51.590880588060486,\n",
              " -15.885683833830996,\n",
              " -48.21664994140733,\n",
              " 2.254944273721705,\n",
              " -19.01317250991714,\n",
              " 56.75971780695451,\n",
              " -39.33745478421451,\n",
              " -4.680609169528836,\n",
              " 16.676407891006235]"
            ]
          },
          "metadata": {},
          "execution_count": 11
        }
      ]
    },
    {
      "cell_type": "code",
      "source": [
        "#평균이 0이고 표준편차가 57인 정규분포\n",
        "normal = [57*inverse_normal_cdf(random.random()) for _ in range(10000)]"
      ],
      "metadata": {
        "id": "muyWm5M--dJD"
      },
      "execution_count": 12,
      "outputs": []
    },
    {
      "cell_type": "code",
      "source": [
        "normal[:10]"
      ],
      "metadata": {
        "colab": {
          "base_uri": "https://localhost:8080/"
        },
        "id": "W8wR2VJM-_0K",
        "outputId": "2623a09e-13d9-48f4-f432-1ac8d47bac5d"
      },
      "execution_count": 13,
      "outputs": [
        {
          "output_type": "execute_result",
          "data": {
            "text/plain": [
              "[50.763559341430664,\n",
              " 18.96437644958496,\n",
              " 21.814985275268555,\n",
              " -78.38902473449707,\n",
              " 9.092702865600586,\n",
              " 33.36962699890137,\n",
              " -73.94894599914551,\n",
              " -59.80679512023926,\n",
              " -47.64876365661621,\n",
              " -39.27197456359863]"
            ]
          },
          "metadata": {},
          "execution_count": 13
        }
      ]
    },
    {
      "cell_type": "markdown",
      "source": [
        "### 분포의 차이 이해하기"
      ],
      "metadata": {
        "id": "T5t4qBKd_mDI"
      }
    },
    {
      "cell_type": "markdown",
      "source": [
        "uniform, normal 모두 평균이 대략 0, 표준편차가 대략 58이지만 굉장히 다른 모양의 분포를 띈다. 균등분포의 모양은 다음과 같다."
      ],
      "metadata": {
        "id": "HLhj0Gxd_IZA"
      }
    },
    {
      "cell_type": "code",
      "source": [
        "plot_histogram(uniform, 10, \"Uniform Histogram\")"
      ],
      "metadata": {
        "colab": {
          "base_uri": "https://localhost:8080/",
          "height": 281
        },
        "id": "RApgCCgi_BBm",
        "outputId": "aafe30a9-cd7e-4172-8ae6-f131c28410b6"
      },
      "execution_count": 14,
      "outputs": [
        {
          "output_type": "display_data",
          "data": {
            "image/png": "[encoded data removed]",
            "text/plain": [
              "<Figure size 432x288 with 1 Axes>"
            ]
          },
          "metadata": {
            "needs_background": "light"
          }
        }
      ]
    },
    {
      "cell_type": "code",
      "source": [
        "plot_histogram(normal, 10, \"Normal Histogram\")"
      ],
      "metadata": {
        "colab": {
          "base_uri": "https://localhost:8080/",
          "height": 281
        },
        "id": "7TpaZUSq_VOB",
        "outputId": "d782edc3-e6b2-4058-ace6-fe0bad01dd93"
      },
      "execution_count": 16,
      "outputs": [
        {
          "output_type": "display_data",
          "data": {
            "image/png": "[encoded data removed]",
            "text/plain": [
              "<Figure size 432x288 with 1 Axes>"
            ]
          },
          "metadata": {
            "needs_background": "light"
          }
        }
      ]
    },
    {
      "cell_type": "markdown",
      "source": [
        "## 2차원 데이터"
      ],
      "metadata": {
        "id": "FExywzCj_pTY"
      }
    },
    {
      "cell_type": "code",
      "source": [
        "def random_normal() -> float:#표준 정규 분포를 따르는 임의의 데이터를 변환\n",
        "    \"\"\"Returns a random draw from a standard normal distribution\"\"\"\n",
        "    return inverse_normal_cdf(random.random())"
      ],
      "metadata": {
        "id": "JRzdw-No_dKg"
      },
      "execution_count": 17,
      "outputs": []
    },
    {
      "cell_type": "code",
      "source": [
        "xs = [random_normal() for _ in range(1000)]\n",
        "ys1 = [ x + random_normal() / 2 for x in xs]\n",
        "ys2 = [-x + random_normal() / 2 for x in xs]"
      ],
      "metadata": {
        "id": "Iv4psDKs_3S1"
      },
      "execution_count": 18,
      "outputs": []
    },
    {
      "cell_type": "code",
      "source": [
        "xs[:10]"
      ],
      "metadata": {
        "colab": {
          "base_uri": "https://localhost:8080/"
        },
        "id": "0gM50oVNAABI",
        "outputId": "450cc3ab-de19-4657-8a4a-139f3ff075c0"
      },
      "execution_count": 19,
      "outputs": [
        {
          "output_type": "execute_result",
          "data": {
            "text/plain": [
              "[-0.5221271514892578,\n",
              " -0.27518272399902344,\n",
              " 0.5436038970947266,\n",
              " -0.03283500671386719,\n",
              " 2.1323299407958984,\n",
              " -0.7730770111083984,\n",
              " 0.5921840667724609,\n",
              " -0.6050968170166016,\n",
              " -1.1173343658447266,\n",
              " -1.761789321899414]"
            ]
          },
          "metadata": {},
          "execution_count": 19
        }
      ]
    },
    {
      "cell_type": "code",
      "source": [
        "count = 0\n",
        "for one, two in zip(ys1, ys2):\n",
        "  if count >10:\n",
        "    break\n",
        "  print(one,two)\n",
        "  count+=1"
      ],
      "metadata": {
        "colab": {
          "base_uri": "https://localhost:8080/"
        },
        "id": "JqkfOy0YAC-m",
        "outputId": "9e5ede4c-e939-4d07-8544-24b43d515ad0"
      },
      "execution_count": 20,
      "outputs": [
        {
          "output_type": "stream",
          "name": "stdout",
          "text": [
            "-0.5430078506469727 0.3635740280151367\n",
            "-0.7516717910766602 0.3903627395629883\n",
            "0.4345273971557617 -1.1683225631713867\n",
            "0.17117023468017578 0.13103961944580078\n",
            "1.1177778244018555 -1.3953638076782227\n",
            "-1.0557126998901367 0.8678483963012695\n",
            "0.790858268737793 -1.2434053421020508\n",
            "-1.0265398025512695 0.9239816665649414\n",
            "-1.817612648010254 0.22305965423583984\n",
            "-1.6959810256958008 1.7318105697631836\n",
            "-0.5400514602661133 0.3174161911010742\n"
          ]
        }
      ]
    },
    {
      "cell_type": "markdown",
      "source": [
        "ys1, ys2의 평균과 표준편차는 동일하다"
      ],
      "metadata": {
        "id": "m-xEPYS0ASQy"
      }
    },
    {
      "cell_type": "code",
      "source": [
        "plot_histogram(ys1, 5, \"ys1\")"
      ],
      "metadata": {
        "colab": {
          "base_uri": "https://localhost:8080/",
          "height": 281
        },
        "id": "1hwrJQJDAXQN",
        "outputId": "4c86a796-84ff-4495-ff81-fb9b4c0645c7"
      },
      "execution_count": 23,
      "outputs": [
        {
          "output_type": "display_data",
          "data": {
            "image/png": "[encoded data removed]",
            "text/plain": [
              "<Figure size 432x288 with 1 Axes>"
            ]
          },
          "metadata": {
            "needs_background": "light"
          }
        }
      ]
    },
    {
      "cell_type": "code",
      "source": [
        "plot_histogram(ys2, 5, \"ys2\")"
      ],
      "metadata": {
        "colab": {
          "base_uri": "https://localhost:8080/",
          "height": 281
        },
        "id": "xePQuFGeAbZh",
        "outputId": "f3aaefe8-6760-4f4d-ecbd-9da9d268562d"
      },
      "execution_count": 24,
      "outputs": [
        {
          "output_type": "display_data",
          "data": {
            "image/png": "[encoded data removed]",
            "text/plain": [
              "<Figure size 432x288 with 1 Axes>"
            ]
          },
          "metadata": {
            "needs_background": "light"
          }
        }
      ]
    },
    {
      "cell_type": "markdown",
      "source": [
        "결합확률분포는 다르다"
      ],
      "metadata": {
        "id": "b6MKdSwyAjSG"
      }
    },
    {
      "cell_type": "code",
      "source": [
        "plt.scatter(xs, ys1, marker='.', color='black', label='ys1')\n",
        "plt.scatter(xs, ys2, marker='.', color='gray',  label='ys2')\n",
        "plt.xlabel('xs')\n",
        "plt.ylabel('ys')\n",
        "plt.legend(loc=9)\n",
        "plt.title(\"Very Different Joint Distributions\")\n",
        "# plt.show()"
      ],
      "metadata": {
        "colab": {
          "base_uri": "https://localhost:8080/",
          "height": 313
        },
        "id": "mMTSaaX3_6Uv",
        "outputId": "2016c40b-ecb0-4516-8af4-6fa7f6b615e4"
      },
      "execution_count": 21,
      "outputs": [
        {
          "output_type": "execute_result",
          "data": {
            "text/plain": [
              "Text(0.5, 1.0, 'Very Different Joint Distributions')"
            ]
          },
          "metadata": {},
          "execution_count": 21
        },
        {
          "output_type": "display_data",
          "data": {
            "image/png": "[encoded data removed]",
            "text/plain": [
              "<Figure size 432x288 with 1 Axes>"
            ]
          },
          "metadata": {
            "needs_background": "light"
          }
        }
      ]
    },
    {
      "cell_type": "markdown",
      "source": [
        "상관관계를 통해 차이를 확인할 수도 있다"
      ],
      "metadata": {
        "id": "_zF3-GrtAn1T"
      }
    },
    {
      "cell_type": "code",
      "source": [
        "from scratch.statistics import correlation\n",
        "plt.gca().clear()\n",
        "plt.axis('off')\n",
        "correlation(xs, ys1)"
      ],
      "metadata": {
        "colab": {
          "base_uri": "https://localhost:8080/",
          "height": 266
        },
        "id": "US0Xmf69AN4_",
        "outputId": "06c60438-d5ba-40b0-dd75-2fdc7bd7df8e"
      },
      "execution_count": 29,
      "outputs": [
        {
          "output_type": "execute_result",
          "data": {
            "text/plain": [
              "0.9010493686379609"
            ]
          },
          "metadata": {},
          "execution_count": 29
        },
        {
          "output_type": "display_data",
          "data": {
            "image/png": "[encoded data removed]",
            "text/plain": [
              "<Figure size 432x288 with 1 Axes>"
            ]
          },
          "metadata": {
            "needs_background": "light"
          }
        }
      ]
    },
    {
      "cell_type": "code",
      "source": [
        "plt.gca().clear()\n",
        "plt.axis('off')\n",
        "correlation(xs, ys2)"
      ],
      "metadata": {
        "colab": {
          "base_uri": "https://localhost:8080/",
          "height": 266
        },
        "id": "9B4esj-qAvn6",
        "outputId": "8469a16e-f09e-493c-f558-c3cbfabb2e3b"
      },
      "execution_count": 30,
      "outputs": [
        {
          "output_type": "execute_result",
          "data": {
            "text/plain": [
              "-0.8920981526880033"
            ]
          },
          "metadata": {},
          "execution_count": 30
        },
        {
          "output_type": "display_data",
          "data": {
            "image/png": "[encoded data removed]",
            "text/plain": [
              "<Figure size 432x288 with 1 Axes>"
            ]
          },
          "metadata": {
            "needs_background": "light"
          }
        }
      ]
    },
    {
      "cell_type": "markdown",
      "source": [
        "## 다차원 데이터"
      ],
      "metadata": {
        "id": "J0GKqZDTBA22"
      }
    },
    {
      "cell_type": "markdown",
      "source": [
        "상관관계 행렬로 어떻게 연관되어있는지 살펴보기<br>\n",
        "상관관계 행렬의 i번째 행과 j번째 열에 해당하는 값은 i번째 차원과 j번째 차원의 상관관계 행렬을 나타냄"
      ],
      "metadata": {
        "id": "h2aG82w-CZsU"
      }
    },
    {
      "cell_type": "code",
      "source": [
        "from scratch.linear_algebra import Matrix, Vector, make_matrix"
      ],
      "metadata": {
        "id": "eoGQZWeqA9p0"
      },
      "execution_count": 9,
      "outputs": []
    },
    {
      "cell_type": "code",
      "source": [
        "def correlation_matrix(data: List[Vector])->Matrix:\n",
        "  def correlation_ij(i: int, j: int) -> float:\n",
        "    return correlation(data[i], data[j])\n",
        "  return make_matrix(len(data), len(data), correlation_ij)"
      ],
      "metadata": {
        "id": "5HQuV31zBGt9"
      },
      "execution_count": 10,
      "outputs": []
    },
    {
      "cell_type": "markdown",
      "source": [
        "만약 차원의 수가 많지 않다면 산포도행렬(scatterplotmatrix)를 이용해서 각 차원의 쌍별로 산포도를 시각화할 수 있다."
      ],
      "metadata": {
        "id": "Wqj30xwdC9b-"
      }
    },
    {
      "cell_type": "code",
      "source": [
        "import pandas as pd\n",
        "corr_data = pd.read_csv(\"/content/sample_data/california_housing_train.csv\")"
      ],
      "metadata": {
        "id": "EbgNNFqlDvL-"
      },
      "execution_count": 11,
      "outputs": []
    },
    {
      "cell_type": "code",
      "source": [
        "corr_data = corr_data[[\"housing_median_age\",\"total_rooms\",\"population\",\"median_income\"]]"
      ],
      "metadata": {
        "id": "iS211D9vC6-a"
      },
      "execution_count": 12,
      "outputs": []
    },
    {
      "cell_type": "code",
      "source": [
        "corr_data"
      ],
      "metadata": {
        "colab": {
          "base_uri": "https://localhost:8080/",
          "height": 423
        },
        "id": "4HBsxRsXDbFE",
        "outputId": "a3e60c70-69c5-478a-a1cb-96f271bde0ff"
      },
      "execution_count": 13,
      "outputs": [
        {
          "output_type": "execute_result",
          "data": {
            "text/html": [
              "\n",
              "  <div id=\"df-790e2e26-d726-4bf7-9b6a-6ead59ec53c2\">\n",
              "    <div class=\"colab-df-container\">\n",
              "      <div>\n",
              "<style scoped>\n",
              "    .dataframe tbody tr th:only-of-type {\n",
              "        vertical-align: middle;\n",
              "    }\n",
              "\n",
              "    .dataframe tbody tr th {\n",
              "        vertical-align: top;\n",
              "    }\n",
              "\n",
              "    .dataframe thead th {\n",
              "        text-align: right;\n",
              "    }\n",
              "</style>\n",
              "<table border=\"1\" class=\"dataframe\">\n",
              "  <thead>\n",
              "    <tr style=\"text-align: right;\">\n",
              "      <th></th>\n",
              "      <th>housing_median_age</th>\n",
              "      <th>total_rooms</th>\n",
              "      <th>population</th>\n",
              "      <th>median_income</th>\n",
              "    </tr>\n",
              "  </thead>\n",
              "  <tbody>\n",
              "    <tr>\n",
              "      <th>0</th>\n",
              "      <td>15.0</td>\n",
              "      <td>5612.0</td>\n",
              "      <td>1015.0</td>\n",
              "      <td>1.4936</td>\n",
              "    </tr>\n",
              "    <tr>\n",
              "      <th>1</th>\n",
              "      <td>19.0</td>\n",
              "      <td>7650.0</td>\n",
              "      <td>1129.0</td>\n",
              "      <td>1.8200</td>\n",
              "    </tr>\n",
              "    <tr>\n",
              "      <th>2</th>\n",
              "      <td>17.0</td>\n",
              "      <td>720.0</td>\n",
              "      <td>333.0</td>\n",
              "      <td>1.6509</td>\n",
              "    </tr>\n",
              "    <tr>\n",
              "      <th>3</th>\n",
              "      <td>14.0</td>\n",
              "      <td>1501.0</td>\n",
              "      <td>515.0</td>\n",
              "      <td>3.1917</td>\n",
              "    </tr>\n",
              "    <tr>\n",
              "      <th>4</th>\n",
              "      <td>20.0</td>\n",
              "      <td>1454.0</td>\n",
              "      <td>624.0</td>\n",
              "      <td>1.9250</td>\n",
              "    </tr>\n",
              "    <tr>\n",
              "      <th>...</th>\n",
              "      <td>...</td>\n",
              "      <td>...</td>\n",
              "      <td>...</td>\n",
              "      <td>...</td>\n",
              "    </tr>\n",
              "    <tr>\n",
              "      <th>16995</th>\n",
              "      <td>52.0</td>\n",
              "      <td>2217.0</td>\n",
              "      <td>907.0</td>\n",
              "      <td>2.3571</td>\n",
              "    </tr>\n",
              "    <tr>\n",
              "      <th>16996</th>\n",
              "      <td>36.0</td>\n",
              "      <td>2349.0</td>\n",
              "      <td>1194.0</td>\n",
              "      <td>2.5179</td>\n",
              "    </tr>\n",
              "    <tr>\n",
              "      <th>16997</th>\n",
              "      <td>17.0</td>\n",
              "      <td>2677.0</td>\n",
              "      <td>1244.0</td>\n",
              "      <td>3.0313</td>\n",
              "    </tr>\n",
              "    <tr>\n",
              "      <th>16998</th>\n",
              "      <td>19.0</td>\n",
              "      <td>2672.0</td>\n",
              "      <td>1298.0</td>\n",
              "      <td>1.9797</td>\n",
              "    </tr>\n",
              "    <tr>\n",
              "      <th>16999</th>\n",
              "      <td>52.0</td>\n",
              "      <td>1820.0</td>\n",
              "      <td>806.0</td>\n",
              "      <td>3.0147</td>\n",
              "    </tr>\n",
              "  </tbody>\n",
              "</table>\n",
              "<p>17000 rows × 4 columns</p>\n",
              "</div>\n",
              "      <button class=\"colab-df-convert\" onclick=\"convertToInteractive('df-790e2e26-d726-4bf7-9b6a-6ead59ec53c2')\"\n",
              "              title=\"Convert this dataframe to an interactive table.\"\n",
              "              style=\"display:none;\">\n",
              "        \n",
              "  <svg xmlns=\"http://www.w3.org/2000/svg\" height=\"24px\"viewBox=\"0 0 24 24\"\n",
              "       width=\"24px\">\n",
              "    <path d=\"M0 0h24v24H0V0z\" fill=\"none\"/>\n",
              "    <path d=\"M18.56 5.44l.94 2.06.94-2.06 2.06-.94-2.06-.94-.94-2.06-.94 2.06-2.06.94zm-11 1L8.5 8.5l.94-2.06 2.06-.94-2.06-.94L8.5 2.5l-.94 2.06-2.06.94zm10 10l.94 2.06.94-2.06 2.06-.94-2.06-.94-.94-2.06-.94 2.06-2.06.94z\"/><path d=\"M17.41 7.96l-1.37-1.37c-.4-.4-.92-.59-1.43-.59-.52 0-1.04.2-1.43.59L10.3 9.45l-7.72 7.72c-.78.78-.78 2.05 0 2.83L4 21.41c.39.39.9.59 1.41.59.51 0 1.02-.2 1.41-.59l7.78-7.78 2.81-2.81c.8-.78.8-2.07 0-2.86zM5.41 20L4 18.59l7.72-7.72 1.47 1.35L5.41 20z\"/>\n",
              "  </svg>\n",
              "      </button>\n",
              "      \n",
              "  <style>\n",
              "    .colab-df-container {\n",
              "      display:flex;\n",
              "      flex-wrap:wrap;\n",
              "      gap: 12px;\n",
              "    }\n",
              "\n",
              "    .colab-df-convert {\n",
              "      background-color: #E8F0FE;\n",
              "      border: none;\n",
              "      border-radius: 50%;\n",
              "      cursor: pointer;\n",
              "      display: none;\n",
              "      fill: #1967D2;\n",
              "      height: 32px;\n",
              "      padding: 0 0 0 0;\n",
              "      width: 32px;\n",
              "    }\n",
              "\n",
              "    .colab-df-convert:hover {\n",
              "      background-color: #E2EBFA;\n",
              "      box-shadow: 0px 1px 2px rgba(60, 64, 67, 0.3), 0px 1px 3px 1px rgba(60, 64, 67, 0.15);\n",
              "      fill: #174EA6;\n",
              "    }\n",
              "\n",
              "    [theme=dark] .colab-df-convert {\n",
              "      background-color: #3B4455;\n",
              "      fill: #D2E3FC;\n",
              "    }\n",
              "\n",
              "    [theme=dark] .colab-df-convert:hover {\n",
              "      background-color: #434B5C;\n",
              "      box-shadow: 0px 1px 3px 1px rgba(0, 0, 0, 0.15);\n",
              "      filter: drop-shadow(0px 1px 2px rgba(0, 0, 0, 0.3));\n",
              "      fill: #FFFFFF;\n",
              "    }\n",
              "  </style>\n",
              "\n",
              "      <script>\n",
              "        const buttonEl =\n",
              "          document.querySelector('#df-790e2e26-d726-4bf7-9b6a-6ead59ec53c2 button.colab-df-convert');\n",
              "        buttonEl.style.display =\n",
              "          google.colab.kernel.accessAllowed ? 'block' : 'none';\n",
              "\n",
              "        async function convertToInteractive(key) {\n",
              "          const element = document.querySelector('#df-790e2e26-d726-4bf7-9b6a-6ead59ec53c2');\n",
              "          const dataTable =\n",
              "            await google.colab.kernel.invokeFunction('convertToInteractive',\n",
              "                                                     [key], {});\n",
              "          if (!dataTable) return;\n",
              "\n",
              "          const docLinkHtml = 'Like what you see? Visit the ' +\n",
              "            '<a target=\"_blank\" href=https://colab.research.google.com/notebooks/data_table.ipynb>data table notebook</a>'\n",
              "            + ' to learn more about interactive tables.';\n",
              "          element.innerHTML = '';\n",
              "          dataTable['output_type'] = 'display_data';\n",
              "          await google.colab.output.renderOutput(dataTable, element);\n",
              "          const docLink = document.createElement('div');\n",
              "          docLink.innerHTML = docLinkHtml;\n",
              "          element.appendChild(docLink);\n",
              "        }\n",
              "      </script>\n",
              "    </div>\n",
              "  </div>\n",
              "  "
            ],
            "text/plain": [
              "       housing_median_age  total_rooms  population  median_income\n",
              "0                    15.0       5612.0      1015.0         1.4936\n",
              "1                    19.0       7650.0      1129.0         1.8200\n",
              "2                    17.0        720.0       333.0         1.6509\n",
              "3                    14.0       1501.0       515.0         3.1917\n",
              "4                    20.0       1454.0       624.0         1.9250\n",
              "...                   ...          ...         ...            ...\n",
              "16995                52.0       2217.0       907.0         2.3571\n",
              "16996                36.0       2349.0      1194.0         2.5179\n",
              "16997                17.0       2677.0      1244.0         3.0313\n",
              "16998                19.0       2672.0      1298.0         1.9797\n",
              "16999                52.0       1820.0       806.0         3.0147\n",
              "\n",
              "[17000 rows x 4 columns]"
            ]
          },
          "metadata": {},
          "execution_count": 13
        }
      ]
    },
    {
      "cell_type": "code",
      "source": [
        "corr_data.dtypes"
      ],
      "metadata": {
        "colab": {
          "base_uri": "https://localhost:8080/"
        },
        "id": "pV94c4D0b_BL",
        "outputId": "dd8384ca-3930-4cab-9bc8-09df9819315e"
      },
      "execution_count": 31,
      "outputs": [
        {
          "output_type": "execute_result",
          "data": {
            "text/plain": [
              "housing_median_age    float64\n",
              "total_rooms           float64\n",
              "population            float64\n",
              "median_income         float64\n",
              "dtype: object"
            ]
          },
          "metadata": {},
          "execution_count": 31
        }
      ]
    },
    {
      "cell_type": "code",
      "source": [
        "corr_data.columns"
      ],
      "metadata": {
        "colab": {
          "base_uri": "https://localhost:8080/"
        },
        "id": "DfKD2rg7a2vO",
        "outputId": "636ef411-f9fb-4859-9f07-7b549814a435"
      },
      "execution_count": 15,
      "outputs": [
        {
          "output_type": "execute_result",
          "data": {
            "text/plain": [
              "Index(['housing_median_age', 'total_rooms', 'population', 'median_income'], dtype='object')"
            ]
          },
          "metadata": {},
          "execution_count": 15
        }
      ]
    },
    {
      "cell_type": "code",
      "source": [
        "real_corr_data = []\n",
        "for col in corr_data.columns:\n",
        "  real_corr_data.append(list(corr_data[col][:100]))"
      ],
      "metadata": {
        "id": "8ZDVzNa5bB1a"
      },
      "execution_count": 21,
      "outputs": []
    },
    {
      "cell_type": "code",
      "source": [
        "len(real_corr_data)"
      ],
      "metadata": {
        "colab": {
          "base_uri": "https://localhost:8080/"
        },
        "id": "k6zJuNWIbMx6",
        "outputId": "58e1f652-a4bd-4d56-e33f-f7de9dacbcc5"
      },
      "execution_count": 22,
      "outputs": [
        {
          "output_type": "execute_result",
          "data": {
            "text/plain": [
              "4"
            ]
          },
          "metadata": {},
          "execution_count": 22
        }
      ]
    },
    {
      "cell_type": "code",
      "source": [
        "len(real_corr_data[0])"
      ],
      "metadata": {
        "colab": {
          "base_uri": "https://localhost:8080/"
        },
        "id": "zO9bIag5bRSi",
        "outputId": "417cb736-fdde-4298-a01e-57b95b857e70"
      },
      "execution_count": 33,
      "outputs": [
        {
          "output_type": "execute_result",
          "data": {
            "text/plain": [
              "100"
            ]
          },
          "metadata": {},
          "execution_count": 33
        }
      ]
    },
    {
      "cell_type": "code",
      "source": [
        "real_corr_data[0][:10]"
      ],
      "metadata": {
        "colab": {
          "base_uri": "https://localhost:8080/"
        },
        "id": "DVq2TVRPc3vk",
        "outputId": "3ebded0e-02bb-4e9d-edcc-73762f004627"
      },
      "execution_count": 36,
      "outputs": [
        {
          "output_type": "execute_result",
          "data": {
            "text/plain": [
              "[15.0, 19.0, 17.0, 14.0, 20.0, 29.0, 25.0, 41.0, 34.0, 46.0]"
            ]
          },
          "metadata": {},
          "execution_count": 36
        }
      ]
    },
    {
      "cell_type": "code",
      "source": [
        "num_vectors = len(real_corr_data)\n",
        "num_vectors"
      ],
      "metadata": {
        "colab": {
          "base_uri": "https://localhost:8080/"
        },
        "id": "q7zjcoQ0afuk",
        "outputId": "c224918a-815b-4a35-8a0e-3f09b3085eb6"
      },
      "execution_count": 32,
      "outputs": [
        {
          "output_type": "execute_result",
          "data": {
            "text/plain": [
              "4"
            ]
          },
          "metadata": {},
          "execution_count": 32
        }
      ]
    },
    {
      "cell_type": "code",
      "source": [
        "columns = corr_data.columns"
      ],
      "metadata": {
        "id": "FKRaCC8AeB_c"
      },
      "execution_count": 39,
      "outputs": []
    },
    {
      "cell_type": "code",
      "source": [
        "columns"
      ],
      "metadata": {
        "colab": {
          "base_uri": "https://localhost:8080/"
        },
        "id": "_7ZOZkWMeERb",
        "outputId": "2d676921-87ac-41b2-afd6-aaea36a80d29"
      },
      "execution_count": 40,
      "outputs": [
        {
          "output_type": "execute_result",
          "data": {
            "text/plain": [
              "Index(['housing_median_age', 'total_rooms', 'population', 'median_income'], dtype='object')"
            ]
          },
          "metadata": {},
          "execution_count": 40
        }
      ]
    },
    {
      "cell_type": "code",
      "source": [
        "num_vectors = len(real_corr_data)\n",
        "fig, ax = plt.subplots(num_vectors, num_vectors, figsize=(15,15))\n",
        "\n",
        "for i in range(num_vectors):\n",
        "  for j in range(num_vectors):\n",
        "    if i!= j:\n",
        "      ax[i][j].scatter(real_corr_data[j],real_corr_data[i])\n",
        "      ax[i][j].set_title(\"{},{}\".format(columns[j], columns[i]))\n",
        "    else:\n",
        "      ax[i][j].annotate(\"series \"+str(i), (0.5,0.5),ha = \"center\", va= \"center\")"
      ],
      "metadata": {
        "colab": {
          "base_uri": "https://localhost:8080/",
          "height": 879
        },
        "id": "H3BWRijsEAqR",
        "outputId": "49b577c7-a169-428c-8fa3-21a2621b3331"
      },
      "execution_count": 53,
      "outputs": [
        {
          "output_type": "display_data",
          "data": {
            "image/png": "[encoded data removed]",
            "text/plain": [
              "<Figure size 1080x1080 with 16 Axes>"
            ]
          },
          "metadata": {
            "needs_background": "light"
          }
        }
      ]
    },
    {
      "cell_type": "markdown",
      "source": [
        "### NamedTuple 사용하기"
      ],
      "metadata": {
        "id": "czAsQFapgAPC"
      }
    },
    {
      "cell_type": "code",
      "source": [
        "import datetime\n",
        "stock_price = {'closing_price':102.06,\n",
        "               'date': datetime.date(2014,8,29),\n",
        "               'symbol':'AAPL'}"
      ],
      "metadata": {
        "id": "asGaTdBJaYIs"
      },
      "execution_count": 54,
      "outputs": []
    },
    {
      "cell_type": "code",
      "source": [
        "stock_price"
      ],
      "metadata": {
        "colab": {
          "base_uri": "https://localhost:8080/"
        },
        "id": "AXa0iqAygK6H",
        "outputId": "f755a202-a687-43f0-8221-741950633ec7"
      },
      "execution_count": 55,
      "outputs": [
        {
          "output_type": "execute_result",
          "data": {
            "text/plain": [
              "{'closing_price': 102.06, 'date': datetime.date(2014, 8, 29), 'symbol': 'AAPL'}"
            ]
          },
          "metadata": {},
          "execution_count": 55
        }
      ]
    },
    {
      "cell_type": "markdown",
      "source": [
        "다양한 타입의 값을 들고 있는 딕셔너리를 표현할 수 있는 좋은 어노테이션 방법은 없다"
      ],
      "metadata": {
        "id": "ZDSAKt-whgMG"
      }
    },
    {
      "cell_type": "code",
      "source": [
        "from collections import namedtuple\n",
        "\n",
        "StockPrice = namedtuple('StockPrice', ['symbol', 'date', 'closing_price'])\n",
        "price = StockPrice('MSFT', datetime.date(2018,12,14), 106.03)"
      ],
      "metadata": {
        "id": "TYTCM3XRhJep"
      },
      "execution_count": 57,
      "outputs": []
    },
    {
      "cell_type": "code",
      "source": [
        "price.symbol"
      ],
      "metadata": {
        "colab": {
          "base_uri": "https://localhost:8080/",
          "height": 35
        },
        "id": "_OLvIMNxiMrD",
        "outputId": "18cd3a5d-a95c-4aa7-da1e-422fc734e2a8"
      },
      "execution_count": 58,
      "outputs": [
        {
          "output_type": "execute_result",
          "data": {
            "application/vnd.google.colaboratory.intrinsic+json": {
              "type": "string"
            },
            "text/plain": [
              "'MSFT'"
            ]
          },
          "metadata": {},
          "execution_count": 58
        }
      ]
    },
    {
      "cell_type": "code",
      "source": [
        "price.closing_price"
      ],
      "metadata": {
        "colab": {
          "base_uri": "https://localhost:8080/"
        },
        "id": "xTlt8Q_siOqm",
        "outputId": "e5e4a6e2-ae77-4309-e32c-228b4ffcd2d6"
      },
      "execution_count": 59,
      "outputs": [
        {
          "output_type": "execute_result",
          "data": {
            "text/plain": [
              "106.03"
            ]
          },
          "metadata": {},
          "execution_count": 59
        }
      ]
    },
    {
      "cell_type": "markdown",
      "source": [
        "어노테이션 문제 해결하기 위해선 NamedTuple 사용"
      ],
      "metadata": {
        "id": "xg4S0kuykwvv"
      }
    },
    {
      "cell_type": "code",
      "source": [
        "from typing import NamedTuple\n",
        "\n",
        "class StockPrice(NamedTuple):\n",
        "  symbol:str\n",
        "  date: datetime.date\n",
        "  closing_price: float\n",
        "\n",
        "  def is_high_tech(self)->bool:\n",
        "    return self.symbol in ['MSFT','GOOG','FB','AMZN','AAPL']"
      ],
      "metadata": {
        "id": "pVfQerIqi9Jw"
      },
      "execution_count": 61,
      "outputs": []
    },
    {
      "cell_type": "code",
      "source": [
        "price = StockPrice('MSFT', datetime.date(2018,12,14),106.03)"
      ],
      "metadata": {
        "id": "vX-h0NFii-nz"
      },
      "execution_count": 62,
      "outputs": []
    },
    {
      "cell_type": "code",
      "source": [
        "price.symbol"
      ],
      "metadata": {
        "colab": {
          "base_uri": "https://localhost:8080/",
          "height": 35
        },
        "id": "BFyUpYHplOVH",
        "outputId": "69b57647-3c00-482e-e57f-0b80a04f6bb4"
      },
      "execution_count": 63,
      "outputs": [
        {
          "output_type": "execute_result",
          "data": {
            "application/vnd.google.colaboratory.intrinsic+json": {
              "type": "string"
            },
            "text/plain": [
              "'MSFT'"
            ]
          },
          "metadata": {},
          "execution_count": 63
        }
      ]
    },
    {
      "cell_type": "code",
      "source": [
        "price.closing_price"
      ],
      "metadata": {
        "colab": {
          "base_uri": "https://localhost:8080/"
        },
        "id": "-cxFXg9PlQFn",
        "outputId": "1eed009a-76eb-4dd7-d962-2d2911c2f04e"
      },
      "execution_count": 64,
      "outputs": [
        {
          "output_type": "execute_result",
          "data": {
            "text/plain": [
              "106.03"
            ]
          },
          "metadata": {},
          "execution_count": 64
        }
      ]
    },
    {
      "cell_type": "code",
      "source": [
        "price.is_high_tech()"
      ],
      "metadata": {
        "colab": {
          "base_uri": "https://localhost:8080/"
        },
        "id": "nROBO3H7lRb_",
        "outputId": "a98bff87-afa0-4d18-e85a-aa41eb402edf"
      },
      "execution_count": 65,
      "outputs": [
        {
          "output_type": "execute_result",
          "data": {
            "text/plain": [
              "True"
            ]
          },
          "metadata": {},
          "execution_count": 65
        }
      ]
    },
    {
      "cell_type": "markdown",
      "source": [
        "### Data classes"
      ],
      "metadata": {
        "id": "n6gTCNPVldxl"
      }
    },
    {
      "cell_type": "markdown",
      "source": [
        "데코레이터(@) 활용"
      ],
      "metadata": {
        "id": "SDhL1hD5ltc8"
      }
    },
    {
      "cell_type": "code",
      "source": [
        "from dataclasses import dataclass\n",
        "\n",
        "@dataclass\n",
        "class StockPrice2:\n",
        "  symbol:str\n",
        "  date: datetime.date\n",
        "  closing_price: float\n",
        "\n",
        "  def is_high_tech(self)->bool:\n",
        "    return self.symbol in ['MSFT','GOOG','FB','AMZN','AAPL']"
      ],
      "metadata": {
        "id": "lAA1lPSelTDy"
      },
      "execution_count": 66,
      "outputs": []
    },
    {
      "cell_type": "code",
      "source": [
        "price2 = StockPrice2('MSFT',datetime.date(2018,12,14),106.03)"
      ],
      "metadata": {
        "id": "UUGZV39Ol7aN"
      },
      "execution_count": 67,
      "outputs": []
    },
    {
      "cell_type": "markdown",
      "source": [
        "NamedTuple과 dataclasses의 가장 큰 차이:\n",
        "dataclasses의 인스턴스 값을 수정할 수 있다는 점"
      ],
      "metadata": {
        "id": "tB9jvZN-mEm0"
      }
    },
    {
      "cell_type": "code",
      "source": [
        "price2.closing_price /= 2"
      ],
      "metadata": {
        "id": "Du_4LqsgmAyb"
      },
      "execution_count": 68,
      "outputs": []
    },
    {
      "cell_type": "markdown",
      "source": [
        "### 정제하고 합치기"
      ],
      "metadata": {
        "id": "ZKbMz8FWmS00"
      }
    },
    {
      "cell_type": "code",
      "source": [
        "from dateutil.parser import parse"
      ],
      "metadata": {
        "id": "u9pQtvPZmNiw"
      },
      "execution_count": 70,
      "outputs": []
    },
    {
      "cell_type": "code",
      "source": [
        "def parse_row(row:List[str])->StockPrice:\n",
        "  symbol, date, closing_price = row\n",
        "  return StockPrice(symbol = symbol, date = parse(date).date(), closing_price = float(closing_price))"
      ],
      "metadata": {
        "id": "i8r8gQ3UmbMD"
      },
      "execution_count": 71,
      "outputs": []
    },
    {
      "cell_type": "code",
      "source": [
        "stock = parse_row([\"MSFT\", \"2018-12-14\", \"106.03\"])"
      ],
      "metadata": {
        "id": "_uu5XIc7oY4D"
      },
      "execution_count": 72,
      "outputs": []
    },
    {
      "cell_type": "markdown",
      "source": [
        "나쁜 데이터가 포함되어 있다면 None으로 파싱하기"
      ],
      "metadata": {
        "id": "hWzMWMcwpE5Y"
      }
    },
    {
      "cell_type": "code",
      "source": [
        "from contextlib import nullcontext\n",
        "from typing import Optional\n",
        "import re\n",
        "\n",
        "def try_parse_row(row: List[str])->Optional[StockPrice]:\n",
        "  symbol, date_, closing_price_ = row\n",
        "\n",
        "  #주가 심벌은 모두 대문자로 구성되어 있다.\n",
        "  if not re.match(r\"^[A-Z]+$\",symbol):\n",
        "    return None\n",
        "  \n",
        "  try:\n",
        "    date = parse(date_).date()\n",
        "\n",
        "  except ValueError:\n",
        "    return None\n",
        "  \n",
        "  try:\n",
        "    closing_price = float(closing_price_)\n",
        "  except ValueError:\n",
        "    return None\n",
        "  return StockPrice(symbol, date, closing_price)"
      ],
      "metadata": {
        "id": "yvqsBnhNoeWb"
      },
      "execution_count": 77,
      "outputs": []
    },
    {
      "cell_type": "code",
      "source": [
        "# Should return None for errors\n",
        "assert try_parse_row([\"MSFT0\", \"2018-12-14\", \"106.03\"]) is None\n",
        "assert try_parse_row([\"MSFT\", \"2018-12--14\", \"106.03\"]) is None\n",
        "assert try_parse_row([\"MSFT\", \"2018-12-14\", \"x\"]) is None"
      ],
      "metadata": {
        "id": "VYJ1uXtxpZwD"
      },
      "execution_count": 78,
      "outputs": []
    },
    {
      "cell_type": "markdown",
      "source": [
        "나쁜 주가 데이터가 포함되어 있을 때 유효한 행만 파싱할 수 있다"
      ],
      "metadata": {
        "id": "1sAzi6yLp4Uf"
      }
    },
    {
      "cell_type": "code",
      "source": [
        "#나쁜 주가 데이터 출력\n",
        "import csv\n",
        "\n",
        "with open(\"/content/book/comma_delimited_stock_prices.csv\", \"r\") as f:\n",
        "  for line in f:\n",
        "    print(line.strip())"
      ],
      "metadata": {
        "colab": {
          "base_uri": "https://localhost:8080/"
        },
        "id": "zx3G23_pqhyf",
        "outputId": "1195b008-06d2-4991-e375-1fdb767e9376"
      },
      "execution_count": 80,
      "outputs": [
        {
          "output_type": "stream",
          "name": "stdout",
          "text": [
            "AAPL,6/20/2014,90.91\n",
            "MSFT,6/20/2014,41.68\n",
            "FB,6/20/3014,64.5\n",
            "AAPL,6/19/2014,91.86\n",
            "MSFT,6/19/2014,n/a\n",
            "FB,6/19/2014,64.34\n"
          ]
        }
      ]
    },
    {
      "cell_type": "code",
      "source": [
        "import csv\n",
        "data: List[StockPrice] = []\n",
        "with open(\"/content/book/comma_delimited_stock_prices.csv\", \"r\") as f:\n",
        "    reader = csv.reader(f)\n",
        "    for row in reader:\n",
        "      maybe_stock = try_parse_row(row)\n",
        "      if maybe_stock is None:\n",
        "        print(f\"skipping invalid row: {row}\")\n",
        "      else:\n",
        "        data.append(maybe_stock)"
      ],
      "metadata": {
        "colab": {
          "base_uri": "https://localhost:8080/"
        },
        "id": "1U2JCNq2psiU",
        "outputId": "48611944-f03d-4380-86ef-05155f13c669"
      },
      "execution_count": 82,
      "outputs": [
        {
          "output_type": "stream",
          "name": "stdout",
          "text": [
            "skipping invalid row: ['MSFT', '6/19/2014', 'n/a']\n"
          ]
        }
      ]
    },
    {
      "cell_type": "code",
      "source": [
        "data"
      ],
      "metadata": {
        "colab": {
          "base_uri": "https://localhost:8080/"
        },
        "id": "2mDb3wm9qAfP",
        "outputId": "c2500811-aca9-4c25-8535-e5f52f55dd9b"
      },
      "execution_count": 83,
      "outputs": [
        {
          "output_type": "execute_result",
          "data": {
            "text/plain": [
              "[StockPrice(symbol='AAPL', date=datetime.date(2014, 6, 20), closing_price=90.91),\n",
              " StockPrice(symbol='MSFT', date=datetime.date(2014, 6, 20), closing_price=41.68),\n",
              " StockPrice(symbol='FB', date=datetime.date(3014, 6, 20), closing_price=64.5),\n",
              " StockPrice(symbol='AAPL', date=datetime.date(2014, 6, 19), closing_price=91.86),\n",
              " StockPrice(symbol='FB', date=datetime.date(2014, 6, 19), closing_price=64.34)]"
            ]
          },
          "metadata": {},
          "execution_count": 83
        }
      ]
    },
    {
      "cell_type": "markdown",
      "source": [
        "### 데이터 처리"
      ],
      "metadata": {
        "id": "uuS4hI3Mq3DL"
      }
    },
    {
      "cell_type": "markdown",
      "source": [
        "### 척도 조절"
      ],
      "metadata": {
        "id": "O8DUp7VqrxBX"
      }
    },
    {
      "cell_type": "markdown",
      "source": [
        "유클리드 거리 함수 distance"
      ],
      "metadata": {
        "id": "kuxdRjmVsJwM"
      }
    },
    {
      "cell_type": "code",
      "source": [
        "#사람, 키(인치), 키(cm), 몸무게(파운드)\n",
        "data = [['A',63,160,150],['B',67,170.2,160],['C',70,177.8,171]]\n",
        "df = pd.DataFrame(data)\n",
        "df.columns = ['사람', '키(인치)', '키(cm)', '몸무게(파운드)']\n",
        "df"
      ],
      "metadata": {
        "colab": {
          "base_uri": "https://localhost:8080/",
          "height": 143
        },
        "id": "dQ1LvpRfsuPh",
        "outputId": "7b76b9cf-7534-4ec6-800d-0af665662be3"
      },
      "execution_count": 88,
      "outputs": [
        {
          "output_type": "execute_result",
          "data": {
            "text/html": [
              "\n",
              "  <div id=\"df-d8e723e1-eeb4-44c7-9a4b-82ade5b765b5\">\n",
              "    <div class=\"colab-df-container\">\n",
              "      <div>\n",
              "<style scoped>\n",
              "    .dataframe tbody tr th:only-of-type {\n",
              "        vertical-align: middle;\n",
              "    }\n",
              "\n",
              "    .dataframe tbody tr th {\n",
              "        vertical-align: top;\n",
              "    }\n",
              "\n",
              "    .dataframe thead th {\n",
              "        text-align: right;\n",
              "    }\n",
              "</style>\n",
              "<table border=\"1\" class=\"dataframe\">\n",
              "  <thead>\n",
              "    <tr style=\"text-align: right;\">\n",
              "      <th></th>\n",
              "      <th>사람</th>\n",
              "      <th>키(인치)</th>\n",
              "      <th>키(cm)</th>\n",
              "      <th>몸무게(파운드)</th>\n",
              "    </tr>\n",
              "  </thead>\n",
              "  <tbody>\n",
              "    <tr>\n",
              "      <th>0</th>\n",
              "      <td>A</td>\n",
              "      <td>63</td>\n",
              "      <td>160.0</td>\n",
              "      <td>150</td>\n",
              "    </tr>\n",
              "    <tr>\n",
              "      <th>1</th>\n",
              "      <td>B</td>\n",
              "      <td>67</td>\n",
              "      <td>170.2</td>\n",
              "      <td>160</td>\n",
              "    </tr>\n",
              "    <tr>\n",
              "      <th>2</th>\n",
              "      <td>C</td>\n",
              "      <td>70</td>\n",
              "      <td>177.8</td>\n",
              "      <td>171</td>\n",
              "    </tr>\n",
              "  </tbody>\n",
              "</table>\n",
              "</div>\n",
              "      <button class=\"colab-df-convert\" onclick=\"convertToInteractive('df-d8e723e1-eeb4-44c7-9a4b-82ade5b765b5')\"\n",
              "              title=\"Convert this dataframe to an interactive table.\"\n",
              "              style=\"display:none;\">\n",
              "        \n",
              "  <svg xmlns=\"http://www.w3.org/2000/svg\" height=\"24px\"viewBox=\"0 0 24 24\"\n",
              "       width=\"24px\">\n",
              "    <path d=\"M0 0h24v24H0V0z\" fill=\"none\"/>\n",
              "    <path d=\"M18.56 5.44l.94 2.06.94-2.06 2.06-.94-2.06-.94-.94-2.06-.94 2.06-2.06.94zm-11 1L8.5 8.5l.94-2.06 2.06-.94-2.06-.94L8.5 2.5l-.94 2.06-2.06.94zm10 10l.94 2.06.94-2.06 2.06-.94-2.06-.94-.94-2.06-.94 2.06-2.06.94z\"/><path d=\"M17.41 7.96l-1.37-1.37c-.4-.4-.92-.59-1.43-.59-.52 0-1.04.2-1.43.59L10.3 9.45l-7.72 7.72c-.78.78-.78 2.05 0 2.83L4 21.41c.39.39.9.59 1.41.59.51 0 1.02-.2 1.41-.59l7.78-7.78 2.81-2.81c.8-.78.8-2.07 0-2.86zM5.41 20L4 18.59l7.72-7.72 1.47 1.35L5.41 20z\"/>\n",
              "  </svg>\n",
              "      </button>\n",
              "      \n",
              "  <style>\n",
              "    .colab-df-container {\n",
              "      display:flex;\n",
              "      flex-wrap:wrap;\n",
              "      gap: 12px;\n",
              "    }\n",
              "\n",
              "    .colab-df-convert {\n",
              "      background-color: #E8F0FE;\n",
              "      border: none;\n",
              "      border-radius: 50%;\n",
              "      cursor: pointer;\n",
              "      display: none;\n",
              "      fill: #1967D2;\n",
              "      height: 32px;\n",
              "      padding: 0 0 0 0;\n",
              "      width: 32px;\n",
              "    }\n",
              "\n",
              "    .colab-df-convert:hover {\n",
              "      background-color: #E2EBFA;\n",
              "      box-shadow: 0px 1px 2px rgba(60, 64, 67, 0.3), 0px 1px 3px 1px rgba(60, 64, 67, 0.15);\n",
              "      fill: #174EA6;\n",
              "    }\n",
              "\n",
              "    [theme=dark] .colab-df-convert {\n",
              "      background-color: #3B4455;\n",
              "      fill: #D2E3FC;\n",
              "    }\n",
              "\n",
              "    [theme=dark] .colab-df-convert:hover {\n",
              "      background-color: #434B5C;\n",
              "      box-shadow: 0px 1px 3px 1px rgba(0, 0, 0, 0.15);\n",
              "      filter: drop-shadow(0px 1px 2px rgba(0, 0, 0, 0.3));\n",
              "      fill: #FFFFFF;\n",
              "    }\n",
              "  </style>\n",
              "\n",
              "      <script>\n",
              "        const buttonEl =\n",
              "          document.querySelector('#df-d8e723e1-eeb4-44c7-9a4b-82ade5b765b5 button.colab-df-convert');\n",
              "        buttonEl.style.display =\n",
              "          google.colab.kernel.accessAllowed ? 'block' : 'none';\n",
              "\n",
              "        async function convertToInteractive(key) {\n",
              "          const element = document.querySelector('#df-d8e723e1-eeb4-44c7-9a4b-82ade5b765b5');\n",
              "          const dataTable =\n",
              "            await google.colab.kernel.invokeFunction('convertToInteractive',\n",
              "                                                     [key], {});\n",
              "          if (!dataTable) return;\n",
              "\n",
              "          const docLinkHtml = 'Like what you see? Visit the ' +\n",
              "            '<a target=\"_blank\" href=https://colab.research.google.com/notebooks/data_table.ipynb>data table notebook</a>'\n",
              "            + ' to learn more about interactive tables.';\n",
              "          element.innerHTML = '';\n",
              "          dataTable['output_type'] = 'display_data';\n",
              "          await google.colab.output.renderOutput(dataTable, element);\n",
              "          const docLink = document.createElement('div');\n",
              "          docLink.innerHTML = docLinkHtml;\n",
              "          element.appendChild(docLink);\n",
              "        }\n",
              "      </script>\n",
              "    </div>\n",
              "  </div>\n",
              "  "
            ],
            "text/plain": [
              "  사람  키(인치)  키(cm)  몸무게(파운드)\n",
              "0  A     63  160.0       150\n",
              "1  B     67  170.2       160\n",
              "2  C     70  177.8       171"
            ]
          },
          "metadata": {},
          "execution_count": 88
        }
      ]
    },
    {
      "cell_type": "code",
      "source": [
        "from scratch.linear_algebra import distance\n",
        "#인치 사용\n",
        "a_to_b = distance([63, 150], [67, 160])        # 10.77\n",
        "a_to_c = distance([63, 150], [70, 171])        # 22.14\n",
        "b_to_c = distance([67, 160], [70, 171])        # 11.40"
      ],
      "metadata": {
        "id": "ZxQy-0jYqtS3"
      },
      "execution_count": 89,
      "outputs": []
    },
    {
      "cell_type": "code",
      "source": [
        "min(a_to_b, a_to_c, b_to_c)#b와 가장 가까운 체형: a"
      ],
      "metadata": {
        "colab": {
          "base_uri": "https://localhost:8080/"
        },
        "id": "8XbTp2XltpwM",
        "outputId": "2d14bd12-b58e-4993-cc2d-54da4ba33b37"
      },
      "execution_count": 90,
      "outputs": [
        {
          "output_type": "execute_result",
          "data": {
            "text/plain": [
              "10.770329614269007"
            ]
          },
          "metadata": {},
          "execution_count": 90
        }
      ]
    },
    {
      "cell_type": "code",
      "source": [
        "#cm 사용\n",
        "a_to_b = distance([160, 150], [170.2, 160])    # 14.28\n",
        "a_to_c = distance([160, 150], [177.8, 171])    # 27.53\n",
        "b_to_c = distance([170.2, 160], [177.8, 171])  # 13.37"
      ],
      "metadata": {
        "id": "X-MXnB6Utsxu"
      },
      "execution_count": 91,
      "outputs": []
    },
    {
      "cell_type": "code",
      "source": [
        "min(a_to_b, a_to_c, b_to_c)#b와 가장 가까운 체형: c"
      ],
      "metadata": {
        "colab": {
          "base_uri": "https://localhost:8080/"
        },
        "id": "jpk_3yevt1XM",
        "outputId": "d528cea2-3ca1-4fbb-c35c-0e8d0f9de66d"
      },
      "execution_count": 92,
      "outputs": [
        {
          "output_type": "execute_result",
          "data": {
            "text/plain": [
              "13.370115930686627"
            ]
          },
          "metadata": {},
          "execution_count": 92
        }
      ]
    },
    {
      "cell_type": "markdown",
      "source": [
        "키의 척도에 따라 결과가 달라짐"
      ],
      "metadata": {
        "id": "DQu1cjOWt6Y6"
      }
    },
    {
      "cell_type": "markdown",
      "source": [
        "### 해결책: 각 차원의 평균을 0, 표준편차를 1로 변환시키면 척도 조절 가능"
      ],
      "metadata": {
        "id": "afZUlPn-uECC"
      }
    },
    {
      "cell_type": "code",
      "source": [
        "from typing import Tuple\n",
        "\n",
        "from scratch.linear_algebra import vector_mean\n",
        "from scratch.statistics import standard_deviation\n",
        "\n",
        "def scale(data: List[Vector]) -> Tuple[Vector, Vector]:#각 열의 평균 mean과 표준편차 standard_deviation을 계산\n",
        "    \"\"\"returns the means and standard deviations for each position\"\"\"\n",
        "    dim = len(data[0])\n",
        "\n",
        "    means = vector_mean(data)\n",
        "    stdevs = [standard_deviation([vector[i] for vector in data])\n",
        "              for i in range(dim)]\n",
        "\n",
        "    return means, stdevs"
      ],
      "metadata": {
        "id": "gu3rUx8Ft2Vm"
      },
      "execution_count": null,
      "outputs": []
    },
    {
      "cell_type": "code",
      "source": [
        "vectors = [[-3, -1, 1], [-1, 0, 1], [1, 1, 1]]\n",
        "means, stdevs = scale(vectors)"
      ],
      "metadata": {
        "id": "-oJ5VtM1uSCQ"
      },
      "execution_count": 94,
      "outputs": []
    },
    {
      "cell_type": "code",
      "source": [
        "len(vectors)"
      ],
      "metadata": {
        "colab": {
          "base_uri": "https://localhost:8080/"
        },
        "id": "H-odyqivvLo3",
        "outputId": "a3e404ee-e0b9-433a-fe44-25470a44d3a4"
      },
      "execution_count": 103,
      "outputs": [
        {
          "output_type": "execute_result",
          "data": {
            "text/plain": [
              "3"
            ]
          },
          "metadata": {},
          "execution_count": 103
        }
      ]
    },
    {
      "cell_type": "code",
      "source": [
        "means"
      ],
      "metadata": {
        "colab": {
          "base_uri": "https://localhost:8080/"
        },
        "id": "48tXA7DIubJa",
        "outputId": "777d20b2-83b2-47bd-b32f-8eae8f1a5267"
      },
      "execution_count": 95,
      "outputs": [
        {
          "output_type": "execute_result",
          "data": {
            "text/plain": [
              "[-1.0, 0.0, 1.0]"
            ]
          },
          "metadata": {},
          "execution_count": 95
        }
      ]
    },
    {
      "cell_type": "code",
      "source": [
        "stdevs"
      ],
      "metadata": {
        "colab": {
          "base_uri": "https://localhost:8080/"
        },
        "id": "6U6fjhoVub82",
        "outputId": "433b1174-e997-4c52-eb9c-fe6304b588c0"
      },
      "execution_count": 96,
      "outputs": [
        {
          "output_type": "execute_result",
          "data": {
            "text/plain": [
              "[2.0, 1.0, 0.0]"
            ]
          },
          "metadata": {},
          "execution_count": 96
        }
      ]
    },
    {
      "cell_type": "code",
      "source": [
        "def rescale(data: List[Vector])->List[Vector]:\n",
        "  \"\"\"각 열의 평균을 0, 표준편차를 1로 변환하면서 입력되는 데이터의 척도를 조절. 편차가 없는 열은 그대로 유지\"\"\"\n",
        "  dim = len(data[0])\n",
        "  means, stdevs = scale(data)\n",
        "\n",
        "  #각 벡터의 복사본을 생성\n",
        "  rescaled = [v[:] for v in data]\n",
        "\n",
        "  for v in rescaled:\n",
        "    for i in range(dim):\n",
        "      if stdevs[i] > 0:\n",
        "        v[i] = (v[i]-means[i])/stdevs[i]\n",
        "\n",
        "  return rescaled"
      ],
      "metadata": {
        "id": "rzDZZ3qGwNnp"
      },
      "execution_count": 114,
      "outputs": []
    },
    {
      "cell_type": "code",
      "source": [
        "means, stdevs = scale(rescale(vectors))"
      ],
      "metadata": {
        "id": "bxqT4ZKuwwaR"
      },
      "execution_count": 115,
      "outputs": []
    },
    {
      "cell_type": "code",
      "source": [
        "means == [0, 0, 1]"
      ],
      "metadata": {
        "colab": {
          "base_uri": "https://localhost:8080/"
        },
        "id": "UUsrgJ__w0C1",
        "outputId": "4717d561-6d8f-4ca0-e188-1f15045d926b"
      },
      "execution_count": 116,
      "outputs": [
        {
          "output_type": "execute_result",
          "data": {
            "text/plain": [
              "True"
            ]
          },
          "metadata": {},
          "execution_count": 116
        }
      ]
    },
    {
      "cell_type": "code",
      "source": [
        "stdevs == [1, 1, 0]"
      ],
      "metadata": {
        "colab": {
          "base_uri": "https://localhost:8080/"
        },
        "id": "sM_7mfrkw4C4",
        "outputId": "c209e659-a632-4a97-e3d1-417cc7d138b9"
      },
      "execution_count": 117,
      "outputs": [
        {
          "output_type": "execute_result",
          "data": {
            "text/plain": [
              "True"
            ]
          },
          "metadata": {},
          "execution_count": 117
        }
      ]
    },
    {
      "cell_type": "code",
      "source": [
        "vectors2 = [[-3, -1, 1], [-1, 0, 1], [1, 1, 1],[4,3,1]]\n",
        "mea, stde = scale(vectors2)"
      ],
      "metadata": {
        "id": "cux17q_ovPcD"
      },
      "execution_count": 113,
      "outputs": []
    },
    {
      "cell_type": "code",
      "source": [
        "pd.DataFrame(vectors2)"
      ],
      "metadata": {
        "colab": {
          "base_uri": "https://localhost:8080/",
          "height": 174
        },
        "id": "iLoldevsvbbF",
        "outputId": "a52c11b4-762b-4fae-95d2-a0972d1cbaaa"
      },
      "execution_count": 106,
      "outputs": [
        {
          "output_type": "execute_result",
          "data": {
            "text/html": [
              "\n",
              "  <div id=\"df-1697ea39-1334-4e8f-bfce-b61fa842860f\">\n",
              "    <div class=\"colab-df-container\">\n",
              "      <div>\n",
              "<style scoped>\n",
              "    .dataframe tbody tr th:only-of-type {\n",
              "        vertical-align: middle;\n",
              "    }\n",
              "\n",
              "    .dataframe tbody tr th {\n",
              "        vertical-align: top;\n",
              "    }\n",
              "\n",
              "    .dataframe thead th {\n",
              "        text-align: right;\n",
              "    }\n",
              "</style>\n",
              "<table border=\"1\" class=\"dataframe\">\n",
              "  <thead>\n",
              "    <tr style=\"text-align: right;\">\n",
              "      <th></th>\n",
              "      <th>0</th>\n",
              "      <th>1</th>\n",
              "      <th>2</th>\n",
              "    </tr>\n",
              "  </thead>\n",
              "  <tbody>\n",
              "    <tr>\n",
              "      <th>0</th>\n",
              "      <td>-3</td>\n",
              "      <td>-1</td>\n",
              "      <td>1</td>\n",
              "    </tr>\n",
              "    <tr>\n",
              "      <th>1</th>\n",
              "      <td>-1</td>\n",
              "      <td>0</td>\n",
              "      <td>1</td>\n",
              "    </tr>\n",
              "    <tr>\n",
              "      <th>2</th>\n",
              "      <td>1</td>\n",
              "      <td>1</td>\n",
              "      <td>1</td>\n",
              "    </tr>\n",
              "    <tr>\n",
              "      <th>3</th>\n",
              "      <td>4</td>\n",
              "      <td>3</td>\n",
              "      <td>1</td>\n",
              "    </tr>\n",
              "  </tbody>\n",
              "</table>\n",
              "</div>\n",
              "      <button class=\"colab-df-convert\" onclick=\"convertToInteractive('df-1697ea39-1334-4e8f-bfce-b61fa842860f')\"\n",
              "              title=\"Convert this dataframe to an interactive table.\"\n",
              "              style=\"display:none;\">\n",
              "        \n",
              "  <svg xmlns=\"http://www.w3.org/2000/svg\" height=\"24px\"viewBox=\"0 0 24 24\"\n",
              "       width=\"24px\">\n",
              "    <path d=\"M0 0h24v24H0V0z\" fill=\"none\"/>\n",
              "    <path d=\"M18.56 5.44l.94 2.06.94-2.06 2.06-.94-2.06-.94-.94-2.06-.94 2.06-2.06.94zm-11 1L8.5 8.5l.94-2.06 2.06-.94-2.06-.94L8.5 2.5l-.94 2.06-2.06.94zm10 10l.94 2.06.94-2.06 2.06-.94-2.06-.94-.94-2.06-.94 2.06-2.06.94z\"/><path d=\"M17.41 7.96l-1.37-1.37c-.4-.4-.92-.59-1.43-.59-.52 0-1.04.2-1.43.59L10.3 9.45l-7.72 7.72c-.78.78-.78 2.05 0 2.83L4 21.41c.39.39.9.59 1.41.59.51 0 1.02-.2 1.41-.59l7.78-7.78 2.81-2.81c.8-.78.8-2.07 0-2.86zM5.41 20L4 18.59l7.72-7.72 1.47 1.35L5.41 20z\"/>\n",
              "  </svg>\n",
              "      </button>\n",
              "      \n",
              "  <style>\n",
              "    .colab-df-container {\n",
              "      display:flex;\n",
              "      flex-wrap:wrap;\n",
              "      gap: 12px;\n",
              "    }\n",
              "\n",
              "    .colab-df-convert {\n",
              "      background-color: #E8F0FE;\n",
              "      border: none;\n",
              "      border-radius: 50%;\n",
              "      cursor: pointer;\n",
              "      display: none;\n",
              "      fill: #1967D2;\n",
              "      height: 32px;\n",
              "      padding: 0 0 0 0;\n",
              "      width: 32px;\n",
              "    }\n",
              "\n",
              "    .colab-df-convert:hover {\n",
              "      background-color: #E2EBFA;\n",
              "      box-shadow: 0px 1px 2px rgba(60, 64, 67, 0.3), 0px 1px 3px 1px rgba(60, 64, 67, 0.15);\n",
              "      fill: #174EA6;\n",
              "    }\n",
              "\n",
              "    [theme=dark] .colab-df-convert {\n",
              "      background-color: #3B4455;\n",
              "      fill: #D2E3FC;\n",
              "    }\n",
              "\n",
              "    [theme=dark] .colab-df-convert:hover {\n",
              "      background-color: #434B5C;\n",
              "      box-shadow: 0px 1px 3px 1px rgba(0, 0, 0, 0.15);\n",
              "      filter: drop-shadow(0px 1px 2px rgba(0, 0, 0, 0.3));\n",
              "      fill: #FFFFFF;\n",
              "    }\n",
              "  </style>\n",
              "\n",
              "      <script>\n",
              "        const buttonEl =\n",
              "          document.querySelector('#df-1697ea39-1334-4e8f-bfce-b61fa842860f button.colab-df-convert');\n",
              "        buttonEl.style.display =\n",
              "          google.colab.kernel.accessAllowed ? 'block' : 'none';\n",
              "\n",
              "        async function convertToInteractive(key) {\n",
              "          const element = document.querySelector('#df-1697ea39-1334-4e8f-bfce-b61fa842860f');\n",
              "          const dataTable =\n",
              "            await google.colab.kernel.invokeFunction('convertToInteractive',\n",
              "                                                     [key], {});\n",
              "          if (!dataTable) return;\n",
              "\n",
              "          const docLinkHtml = 'Like what you see? Visit the ' +\n",
              "            '<a target=\"_blank\" href=https://colab.research.google.com/notebooks/data_table.ipynb>data table notebook</a>'\n",
              "            + ' to learn more about interactive tables.';\n",
              "          element.innerHTML = '';\n",
              "          dataTable['output_type'] = 'display_data';\n",
              "          await google.colab.output.renderOutput(dataTable, element);\n",
              "          const docLink = document.createElement('div');\n",
              "          docLink.innerHTML = docLinkHtml;\n",
              "          element.appendChild(docLink);\n",
              "        }\n",
              "      </script>\n",
              "    </div>\n",
              "  </div>\n",
              "  "
            ],
            "text/plain": [
              "   0  1  2\n",
              "0 -3 -1  1\n",
              "1 -1  0  1\n",
              "2  1  1  1\n",
              "3  4  3  1"
            ]
          },
          "metadata": {},
          "execution_count": 106
        }
      ]
    },
    {
      "cell_type": "code",
      "source": [
        "mea"
      ],
      "metadata": {
        "colab": {
          "base_uri": "https://localhost:8080/"
        },
        "id": "_tkcgEs2vV46",
        "outputId": "75b3aa9b-6e72-4478-85a3-d51154cba81c"
      },
      "execution_count": 105,
      "outputs": [
        {
          "output_type": "execute_result",
          "data": {
            "text/plain": [
              "[0.25, 0.75, 1.0]"
            ]
          },
          "metadata": {},
          "execution_count": 105
        }
      ]
    },
    {
      "cell_type": "markdown",
      "source": [
        "아까 data(real_corr_data) 표준화해보기"
      ],
      "metadata": {
        "id": "e3pKY0Juuu92"
      }
    },
    {
      "cell_type": "code",
      "source": [
        "len(real_corr_data)"
      ],
      "metadata": {
        "colab": {
          "base_uri": "https://localhost:8080/"
        },
        "id": "AS0B_j_NuctC",
        "outputId": "eaa71c84-deb7-4550-ecbb-5d3d8b11b635"
      },
      "execution_count": 98,
      "outputs": [
        {
          "output_type": "execute_result",
          "data": {
            "text/plain": [
              "4"
            ]
          },
          "metadata": {},
          "execution_count": 98
        }
      ]
    },
    {
      "cell_type": "code",
      "source": [
        "import numpy as np\n",
        "m, std = scale(list(np.array(real_corr_data).T))"
      ],
      "metadata": {
        "id": "hCL6ATYOu09c"
      },
      "execution_count": 110,
      "outputs": []
    },
    {
      "cell_type": "code",
      "source": [
        "m"
      ],
      "metadata": {
        "colab": {
          "base_uri": "https://localhost:8080/"
        },
        "id": "_70f8N0yu7TC",
        "outputId": "12fc94d2-081d-4531-d64f-a0d5dd398b6b"
      },
      "execution_count": 111,
      "outputs": [
        {
          "output_type": "execute_result",
          "data": {
            "text/plain": [
              "[23.16, 1677.8500000000001, 1077.71, 2.462202]"
            ]
          },
          "metadata": {},
          "execution_count": 111
        }
      ]
    },
    {
      "cell_type": "code",
      "source": [
        "std"
      ],
      "metadata": {
        "colab": {
          "base_uri": "https://localhost:8080/"
        },
        "id": "H8RHzlbxu8EN",
        "outputId": "4b983563-76c1-4b1f-ea8f-acbb97980b06"
      },
      "execution_count": 112,
      "outputs": [
        {
          "output_type": "execute_result",
          "data": {
            "text/plain": [
              "[9.23401704065304, 1070.4545279761517, 675.5595854063084, 1.1684843105649145]"
            ]
          },
          "metadata": {},
          "execution_count": 112
        }
      ]
    },
    {
      "cell_type": "markdown",
      "source": [
        "## tqdm: 진행 표시줄 생성\n",
        "\n",
        "이터러블(하나씩 차례로 반환 가능한 객체)을 tqdm.tqdm으로 감사면 진행표시줄이 생성됨"
      ],
      "metadata": {
        "id": "lQyEHDRtw9Zp"
      }
    },
    {
      "cell_type": "code",
      "source": [
        "import tqdm"
      ],
      "metadata": {
        "id": "h-C8KmP5vv04"
      },
      "execution_count": 118,
      "outputs": []
    },
    {
      "cell_type": "code",
      "source": [
        "import random\n",
        "for i in tqdm.tqdm(range(100)):\n",
        "  _ = [random.random() for _ in range(1000000)]"
      ],
      "metadata": {
        "colab": {
          "base_uri": "https://localhost:8080/"
        },
        "id": "xMbyXLo0xEkM",
        "outputId": "58885cbd-55b1-4b33-fea8-1649dbc69d1e"
      },
      "execution_count": 120,
      "outputs": [
        {
          "output_type": "stream",
          "name": "stderr",
          "text": [
            "100%|██████████| 100/100 [00:18<00:00,  5.31it/s]\n"
          ]
        }
      ]
    },
    {
      "cell_type": "code",
      "source": [
        "from typing import List\n",
        "def primes_up_to(n:int)->List[int]:\n",
        "  primes = [2]\n",
        "\n",
        "  with tqdm.trange(3,n) as t:#range를 tqdm으로 감싸는 대신 활용\n",
        "    for i in t:\n",
        "      #i가 더 작은 소수로 나뉘지 않는다면 소수\n",
        "      i_is_prime = not any(i%p == 0 for p in primes)\n",
        "      if i_is_prime:\n",
        "        primes.append(i)\n",
        "\n",
        "      t.set_description(f\"{len(primes)} primes\")#with를 통해 진행표시줄의 설명 설정 가능\n",
        "  return primes"
      ],
      "metadata": {
        "id": "UMMQ5hapxe2_"
      },
      "execution_count": 121,
      "outputs": []
    },
    {
      "cell_type": "code",
      "source": [
        "my_primes = primes_up_to(100_000)"
      ],
      "metadata": {
        "colab": {
          "base_uri": "https://localhost:8080/",
          "height": 342
        },
        "id": "ABL1sfyNyKdf",
        "outputId": "5bc95f62-8936-44b2-f891-259a18951251"
      },
      "execution_count": 122,
      "outputs": [
        {
          "output_type": "stream",
          "name": "stderr",
          "text": [
            "5932 primes:  59%|█████▊    | 58610/99997 [02:09<01:31, 453.55it/s]\n"
          ]
        },
        {
          "output_type": "error",
          "ename": "KeyboardInterrupt",
          "evalue": "ignored",
          "traceback": [
            "\u001b[0;31m---------------------------------------------------------------------------\u001b[0m",
            "\u001b[0;31mKeyboardInterrupt\u001b[0m                         Traceback (most recent call last)",
            "\u001b[0;32m<ipython-input-122-f34d0e112cad>\u001b[0m in \u001b[0;36m<module>\u001b[0;34m()\u001b[0m\n\u001b[0;32m----> 1\u001b[0;31m \u001b[0mmy_primes\u001b[0m \u001b[0;34m=\u001b[0m \u001b[0mprimes_up_to\u001b[0m\u001b[0;34m(\u001b[0m\u001b[0;36m100_000\u001b[0m\u001b[0;34m)\u001b[0m\u001b[0;34m\u001b[0m\u001b[0;34m\u001b[0m\u001b[0m\n\u001b[0m",
            "\u001b[0;32m<ipython-input-121-d7e339c3c72f>\u001b[0m in \u001b[0;36mprimes_up_to\u001b[0;34m(n)\u001b[0m\n\u001b[1;32m     10\u001b[0m         \u001b[0mprimes\u001b[0m\u001b[0;34m.\u001b[0m\u001b[0mappend\u001b[0m\u001b[0;34m(\u001b[0m\u001b[0mi\u001b[0m\u001b[0;34m)\u001b[0m\u001b[0;34m\u001b[0m\u001b[0;34m\u001b[0m\u001b[0m\n\u001b[1;32m     11\u001b[0m \u001b[0;34m\u001b[0m\u001b[0m\n\u001b[0;32m---> 12\u001b[0;31m       \u001b[0mt\u001b[0m\u001b[0;34m.\u001b[0m\u001b[0mset_description\u001b[0m\u001b[0;34m(\u001b[0m\u001b[0;34mf\"{len(primes)} primes\"\u001b[0m\u001b[0;34m)\u001b[0m\u001b[0;31m#with를 통해 진행표시줄의 설명 설정 가능\u001b[0m\u001b[0;34m\u001b[0m\u001b[0;34m\u001b[0m\u001b[0m\n\u001b[0m\u001b[1;32m     13\u001b[0m   \u001b[0;32mreturn\u001b[0m \u001b[0mprimes\u001b[0m\u001b[0;34m\u001b[0m\u001b[0;34m\u001b[0m\u001b[0m\n",
            "\u001b[0;32m/usr/local/lib/python3.7/dist-packages/tqdm/std.py\u001b[0m in \u001b[0;36mset_description\u001b[0;34m(self, desc, refresh)\u001b[0m\n\u001b[1;32m   1391\u001b[0m         \u001b[0mself\u001b[0m\u001b[0;34m.\u001b[0m\u001b[0mdesc\u001b[0m \u001b[0;34m=\u001b[0m \u001b[0mdesc\u001b[0m \u001b[0;34m+\u001b[0m \u001b[0;34m': '\u001b[0m \u001b[0;32mif\u001b[0m \u001b[0mdesc\u001b[0m \u001b[0;32melse\u001b[0m \u001b[0;34m''\u001b[0m\u001b[0;34m\u001b[0m\u001b[0;34m\u001b[0m\u001b[0m\n\u001b[1;32m   1392\u001b[0m         \u001b[0;32mif\u001b[0m \u001b[0mrefresh\u001b[0m\u001b[0;34m:\u001b[0m\u001b[0;34m\u001b[0m\u001b[0;34m\u001b[0m\u001b[0m\n\u001b[0;32m-> 1393\u001b[0;31m             \u001b[0mself\u001b[0m\u001b[0;34m.\u001b[0m\u001b[0mrefresh\u001b[0m\u001b[0;34m(\u001b[0m\u001b[0;34m)\u001b[0m\u001b[0;34m\u001b[0m\u001b[0;34m\u001b[0m\u001b[0m\n\u001b[0m\u001b[1;32m   1394\u001b[0m \u001b[0;34m\u001b[0m\u001b[0m\n\u001b[1;32m   1395\u001b[0m     \u001b[0;32mdef\u001b[0m \u001b[0mset_description_str\u001b[0m\u001b[0;34m(\u001b[0m\u001b[0mself\u001b[0m\u001b[0;34m,\u001b[0m \u001b[0mdesc\u001b[0m\u001b[0;34m=\u001b[0m\u001b[0;32mNone\u001b[0m\u001b[0;34m,\u001b[0m \u001b[0mrefresh\u001b[0m\u001b[0;34m=\u001b[0m\u001b[0;32mTrue\u001b[0m\u001b[0;34m)\u001b[0m\u001b[0;34m:\u001b[0m\u001b[0;34m\u001b[0m\u001b[0;34m\u001b[0m\u001b[0m\n",
            "\u001b[0;32m/usr/local/lib/python3.7/dist-packages/tqdm/std.py\u001b[0m in \u001b[0;36mrefresh\u001b[0;34m(self, nolock, lock_args)\u001b[0m\n\u001b[1;32m   1344\u001b[0m             \u001b[0;32melse\u001b[0m\u001b[0;34m:\u001b[0m\u001b[0;34m\u001b[0m\u001b[0;34m\u001b[0m\u001b[0m\n\u001b[1;32m   1345\u001b[0m                 \u001b[0mself\u001b[0m\u001b[0;34m.\u001b[0m\u001b[0m_lock\u001b[0m\u001b[0;34m.\u001b[0m\u001b[0macquire\u001b[0m\u001b[0;34m(\u001b[0m\u001b[0;34m)\u001b[0m\u001b[0;34m\u001b[0m\u001b[0;34m\u001b[0m\u001b[0m\n\u001b[0;32m-> 1346\u001b[0;31m         \u001b[0mself\u001b[0m\u001b[0;34m.\u001b[0m\u001b[0mdisplay\u001b[0m\u001b[0;34m(\u001b[0m\u001b[0;34m)\u001b[0m\u001b[0;34m\u001b[0m\u001b[0;34m\u001b[0m\u001b[0m\n\u001b[0m\u001b[1;32m   1347\u001b[0m         \u001b[0;32mif\u001b[0m \u001b[0;32mnot\u001b[0m \u001b[0mnolock\u001b[0m\u001b[0;34m:\u001b[0m\u001b[0;34m\u001b[0m\u001b[0;34m\u001b[0m\u001b[0m\n\u001b[1;32m   1348\u001b[0m             \u001b[0mself\u001b[0m\u001b[0;34m.\u001b[0m\u001b[0m_lock\u001b[0m\u001b[0;34m.\u001b[0m\u001b[0mrelease\u001b[0m\u001b[0;34m(\u001b[0m\u001b[0;34m)\u001b[0m\u001b[0;34m\u001b[0m\u001b[0;34m\u001b[0m\u001b[0m\n",
            "\u001b[0;32m/usr/local/lib/python3.7/dist-packages/tqdm/std.py\u001b[0m in \u001b[0;36mdisplay\u001b[0;34m(self, msg, pos)\u001b[0m\n\u001b[1;32m   1492\u001b[0m         \u001b[0;32mif\u001b[0m \u001b[0mpos\u001b[0m\u001b[0;34m:\u001b[0m\u001b[0;34m\u001b[0m\u001b[0;34m\u001b[0m\u001b[0m\n\u001b[1;32m   1493\u001b[0m             \u001b[0mself\u001b[0m\u001b[0;34m.\u001b[0m\u001b[0mmoveto\u001b[0m\u001b[0;34m(\u001b[0m\u001b[0mpos\u001b[0m\u001b[0;34m)\u001b[0m\u001b[0;34m\u001b[0m\u001b[0;34m\u001b[0m\u001b[0m\n\u001b[0;32m-> 1494\u001b[0;31m         \u001b[0mself\u001b[0m\u001b[0;34m.\u001b[0m\u001b[0msp\u001b[0m\u001b[0;34m(\u001b[0m\u001b[0mself\u001b[0m\u001b[0;34m.\u001b[0m\u001b[0m__str__\u001b[0m\u001b[0;34m(\u001b[0m\u001b[0;34m)\u001b[0m \u001b[0;32mif\u001b[0m \u001b[0mmsg\u001b[0m \u001b[0;32mis\u001b[0m \u001b[0;32mNone\u001b[0m \u001b[0;32melse\u001b[0m \u001b[0mmsg\u001b[0m\u001b[0;34m)\u001b[0m\u001b[0;34m\u001b[0m\u001b[0;34m\u001b[0m\u001b[0m\n\u001b[0m\u001b[1;32m   1495\u001b[0m         \u001b[0;32mif\u001b[0m \u001b[0mpos\u001b[0m\u001b[0;34m:\u001b[0m\u001b[0;34m\u001b[0m\u001b[0;34m\u001b[0m\u001b[0m\n\u001b[1;32m   1496\u001b[0m             \u001b[0mself\u001b[0m\u001b[0;34m.\u001b[0m\u001b[0mmoveto\u001b[0m\u001b[0;34m(\u001b[0m\u001b[0;34m-\u001b[0m\u001b[0mpos\u001b[0m\u001b[0;34m)\u001b[0m\u001b[0;34m\u001b[0m\u001b[0;34m\u001b[0m\u001b[0m\n",
            "\u001b[0;32m/usr/local/lib/python3.7/dist-packages/tqdm/std.py\u001b[0m in \u001b[0;36mprint_status\u001b[0;34m(s)\u001b[0m\n\u001b[1;32m    348\u001b[0m         \u001b[0;32mdef\u001b[0m \u001b[0mprint_status\u001b[0m\u001b[0;34m(\u001b[0m\u001b[0ms\u001b[0m\u001b[0;34m)\u001b[0m\u001b[0;34m:\u001b[0m\u001b[0;34m\u001b[0m\u001b[0;34m\u001b[0m\u001b[0m\n\u001b[1;32m    349\u001b[0m             \u001b[0mlen_s\u001b[0m \u001b[0;34m=\u001b[0m \u001b[0mdisp_len\u001b[0m\u001b[0;34m(\u001b[0m\u001b[0ms\u001b[0m\u001b[0;34m)\u001b[0m\u001b[0;34m\u001b[0m\u001b[0;34m\u001b[0m\u001b[0m\n\u001b[0;32m--> 350\u001b[0;31m             \u001b[0mfp_write\u001b[0m\u001b[0;34m(\u001b[0m\u001b[0;34m'\\r'\u001b[0m \u001b[0;34m+\u001b[0m \u001b[0ms\u001b[0m \u001b[0;34m+\u001b[0m \u001b[0;34m(\u001b[0m\u001b[0;34m' '\u001b[0m \u001b[0;34m*\u001b[0m \u001b[0mmax\u001b[0m\u001b[0;34m(\u001b[0m\u001b[0mlast_len\u001b[0m\u001b[0;34m[\u001b[0m\u001b[0;36m0\u001b[0m\u001b[0;34m]\u001b[0m \u001b[0;34m-\u001b[0m \u001b[0mlen_s\u001b[0m\u001b[0;34m,\u001b[0m \u001b[0;36m0\u001b[0m\u001b[0;34m)\u001b[0m\u001b[0;34m)\u001b[0m\u001b[0;34m)\u001b[0m\u001b[0;34m\u001b[0m\u001b[0;34m\u001b[0m\u001b[0m\n\u001b[0m\u001b[1;32m    351\u001b[0m             \u001b[0mlast_len\u001b[0m\u001b[0;34m[\u001b[0m\u001b[0;36m0\u001b[0m\u001b[0;34m]\u001b[0m \u001b[0;34m=\u001b[0m \u001b[0mlen_s\u001b[0m\u001b[0;34m\u001b[0m\u001b[0;34m\u001b[0m\u001b[0m\n\u001b[1;32m    352\u001b[0m \u001b[0;34m\u001b[0m\u001b[0m\n",
            "\u001b[0;32m/usr/local/lib/python3.7/dist-packages/tqdm/std.py\u001b[0m in \u001b[0;36mfp_write\u001b[0;34m(s)\u001b[0m\n\u001b[1;32m    342\u001b[0m         \u001b[0;32mdef\u001b[0m \u001b[0mfp_write\u001b[0m\u001b[0;34m(\u001b[0m\u001b[0ms\u001b[0m\u001b[0;34m)\u001b[0m\u001b[0;34m:\u001b[0m\u001b[0;34m\u001b[0m\u001b[0;34m\u001b[0m\u001b[0m\n\u001b[1;32m    343\u001b[0m             \u001b[0mfp\u001b[0m\u001b[0;34m.\u001b[0m\u001b[0mwrite\u001b[0m\u001b[0;34m(\u001b[0m\u001b[0m_unicode\u001b[0m\u001b[0;34m(\u001b[0m\u001b[0ms\u001b[0m\u001b[0;34m)\u001b[0m\u001b[0;34m)\u001b[0m\u001b[0;34m\u001b[0m\u001b[0;34m\u001b[0m\u001b[0m\n\u001b[0;32m--> 344\u001b[0;31m             \u001b[0mfp_flush\u001b[0m\u001b[0;34m(\u001b[0m\u001b[0;34m)\u001b[0m\u001b[0;34m\u001b[0m\u001b[0;34m\u001b[0m\u001b[0m\n\u001b[0m\u001b[1;32m    345\u001b[0m \u001b[0;34m\u001b[0m\u001b[0m\n\u001b[1;32m    346\u001b[0m         \u001b[0mlast_len\u001b[0m \u001b[0;34m=\u001b[0m \u001b[0;34m[\u001b[0m\u001b[0;36m0\u001b[0m\u001b[0;34m]\u001b[0m\u001b[0;34m\u001b[0m\u001b[0;34m\u001b[0m\u001b[0m\n",
            "\u001b[0;32m/usr/local/lib/python3.7/dist-packages/tqdm/utils.py\u001b[0m in \u001b[0;36minner\u001b[0;34m(*args, **kwargs)\u001b[0m\n\u001b[1;32m    143\u001b[0m         \u001b[0;32mdef\u001b[0m \u001b[0minner\u001b[0m\u001b[0;34m(\u001b[0m\u001b[0;34m*\u001b[0m\u001b[0margs\u001b[0m\u001b[0;34m,\u001b[0m \u001b[0;34m**\u001b[0m\u001b[0mkwargs\u001b[0m\u001b[0;34m)\u001b[0m\u001b[0;34m:\u001b[0m\u001b[0;34m\u001b[0m\u001b[0;34m\u001b[0m\u001b[0m\n\u001b[1;32m    144\u001b[0m             \u001b[0;32mtry\u001b[0m\u001b[0;34m:\u001b[0m\u001b[0;34m\u001b[0m\u001b[0;34m\u001b[0m\u001b[0m\n\u001b[0;32m--> 145\u001b[0;31m                 \u001b[0;32mreturn\u001b[0m \u001b[0mfunc\u001b[0m\u001b[0;34m(\u001b[0m\u001b[0;34m*\u001b[0m\u001b[0margs\u001b[0m\u001b[0;34m,\u001b[0m \u001b[0;34m**\u001b[0m\u001b[0mkwargs\u001b[0m\u001b[0;34m)\u001b[0m\u001b[0;34m\u001b[0m\u001b[0;34m\u001b[0m\u001b[0m\n\u001b[0m\u001b[1;32m    146\u001b[0m             \u001b[0;32mexcept\u001b[0m \u001b[0mOSError\u001b[0m \u001b[0;32mas\u001b[0m \u001b[0me\u001b[0m\u001b[0;34m:\u001b[0m\u001b[0;34m\u001b[0m\u001b[0;34m\u001b[0m\u001b[0m\n\u001b[1;32m    147\u001b[0m                 \u001b[0;32mif\u001b[0m \u001b[0me\u001b[0m\u001b[0;34m.\u001b[0m\u001b[0merrno\u001b[0m \u001b[0;34m!=\u001b[0m \u001b[0;36m5\u001b[0m\u001b[0;34m:\u001b[0m\u001b[0;34m\u001b[0m\u001b[0;34m\u001b[0m\u001b[0m\n",
            "\u001b[0;32m/usr/local/lib/python3.7/dist-packages/ipykernel/iostream.py\u001b[0m in \u001b[0;36mflush\u001b[0;34m(self)\u001b[0m\n\u001b[1;32m    347\u001b[0m                 \u001b[0mself\u001b[0m\u001b[0;34m.\u001b[0m\u001b[0mpub_thread\u001b[0m\u001b[0;34m.\u001b[0m\u001b[0mschedule\u001b[0m\u001b[0;34m(\u001b[0m\u001b[0mevt\u001b[0m\u001b[0;34m.\u001b[0m\u001b[0mset\u001b[0m\u001b[0;34m)\u001b[0m\u001b[0;34m\u001b[0m\u001b[0;34m\u001b[0m\u001b[0m\n\u001b[1;32m    348\u001b[0m                 \u001b[0;31m# and give a timeout to avoid\u001b[0m\u001b[0;34m\u001b[0m\u001b[0;34m\u001b[0m\u001b[0;34m\u001b[0m\u001b[0m\n\u001b[0;32m--> 349\u001b[0;31m                 \u001b[0;32mif\u001b[0m \u001b[0;32mnot\u001b[0m \u001b[0mevt\u001b[0m\u001b[0;34m.\u001b[0m\u001b[0mwait\u001b[0m\u001b[0;34m(\u001b[0m\u001b[0mself\u001b[0m\u001b[0;34m.\u001b[0m\u001b[0mflush_timeout\u001b[0m\u001b[0;34m)\u001b[0m\u001b[0;34m:\u001b[0m\u001b[0;34m\u001b[0m\u001b[0;34m\u001b[0m\u001b[0m\n\u001b[0m\u001b[1;32m    350\u001b[0m                     \u001b[0;31m# write directly to __stderr__ instead of warning because\u001b[0m\u001b[0;34m\u001b[0m\u001b[0;34m\u001b[0m\u001b[0;34m\u001b[0m\u001b[0m\n\u001b[1;32m    351\u001b[0m                     \u001b[0;31m# if this is happening sys.stderr may be the problem.\u001b[0m\u001b[0;34m\u001b[0m\u001b[0;34m\u001b[0m\u001b[0;34m\u001b[0m\u001b[0m\n",
            "\u001b[0;32m/usr/lib/python3.7/threading.py\u001b[0m in \u001b[0;36mwait\u001b[0;34m(self, timeout)\u001b[0m\n\u001b[1;32m    550\u001b[0m             \u001b[0msignaled\u001b[0m \u001b[0;34m=\u001b[0m \u001b[0mself\u001b[0m\u001b[0;34m.\u001b[0m\u001b[0m_flag\u001b[0m\u001b[0;34m\u001b[0m\u001b[0;34m\u001b[0m\u001b[0m\n\u001b[1;32m    551\u001b[0m             \u001b[0;32mif\u001b[0m \u001b[0;32mnot\u001b[0m \u001b[0msignaled\u001b[0m\u001b[0;34m:\u001b[0m\u001b[0;34m\u001b[0m\u001b[0;34m\u001b[0m\u001b[0m\n\u001b[0;32m--> 552\u001b[0;31m                 \u001b[0msignaled\u001b[0m \u001b[0;34m=\u001b[0m \u001b[0mself\u001b[0m\u001b[0;34m.\u001b[0m\u001b[0m_cond\u001b[0m\u001b[0;34m.\u001b[0m\u001b[0mwait\u001b[0m\u001b[0;34m(\u001b[0m\u001b[0mtimeout\u001b[0m\u001b[0;34m)\u001b[0m\u001b[0;34m\u001b[0m\u001b[0;34m\u001b[0m\u001b[0m\n\u001b[0m\u001b[1;32m    553\u001b[0m             \u001b[0;32mreturn\u001b[0m \u001b[0msignaled\u001b[0m\u001b[0;34m\u001b[0m\u001b[0;34m\u001b[0m\u001b[0m\n\u001b[1;32m    554\u001b[0m \u001b[0;34m\u001b[0m\u001b[0m\n",
            "\u001b[0;32m/usr/lib/python3.7/threading.py\u001b[0m in \u001b[0;36mwait\u001b[0;34m(self, timeout)\u001b[0m\n\u001b[1;32m    298\u001b[0m             \u001b[0;32melse\u001b[0m\u001b[0;34m:\u001b[0m\u001b[0;34m\u001b[0m\u001b[0;34m\u001b[0m\u001b[0m\n\u001b[1;32m    299\u001b[0m                 \u001b[0;32mif\u001b[0m \u001b[0mtimeout\u001b[0m \u001b[0;34m>\u001b[0m \u001b[0;36m0\u001b[0m\u001b[0;34m:\u001b[0m\u001b[0;34m\u001b[0m\u001b[0;34m\u001b[0m\u001b[0m\n\u001b[0;32m--> 300\u001b[0;31m                     \u001b[0mgotit\u001b[0m \u001b[0;34m=\u001b[0m \u001b[0mwaiter\u001b[0m\u001b[0;34m.\u001b[0m\u001b[0macquire\u001b[0m\u001b[0;34m(\u001b[0m\u001b[0;32mTrue\u001b[0m\u001b[0;34m,\u001b[0m \u001b[0mtimeout\u001b[0m\u001b[0;34m)\u001b[0m\u001b[0;34m\u001b[0m\u001b[0;34m\u001b[0m\u001b[0m\n\u001b[0m\u001b[1;32m    301\u001b[0m                 \u001b[0;32melse\u001b[0m\u001b[0;34m:\u001b[0m\u001b[0;34m\u001b[0m\u001b[0;34m\u001b[0m\u001b[0m\n\u001b[1;32m    302\u001b[0m                     \u001b[0mgotit\u001b[0m \u001b[0;34m=\u001b[0m \u001b[0mwaiter\u001b[0m\u001b[0;34m.\u001b[0m\u001b[0macquire\u001b[0m\u001b[0;34m(\u001b[0m\u001b[0;32mFalse\u001b[0m\u001b[0;34m)\u001b[0m\u001b[0;34m\u001b[0m\u001b[0;34m\u001b[0m\u001b[0m\n",
            "\u001b[0;31mKeyboardInterrupt\u001b[0m: "
          ]
        }
      ]
    },
    {
      "cell_type": "markdown",
      "source": [
        "## 차원 축소\n",
        "\n",
        "주성분 분석(Principal Component Analysis)를 통해 데이터의 편차를 최대한 포착하는 차원을 찾아낼 수 있음"
      ],
      "metadata": {
        "id": "OC7Rv_anyXUs"
      }
    },
    {
      "cell_type": "code",
      "source": [
        "pca_data = [\n",
        "[20.9666776351559,-13.1138080189357],\n",
        "[22.7719907680008,-19.8890894944696],\n",
        "[25.6687103160153,-11.9956004517219],\n",
        "[18.0019794950564,-18.1989191165133],\n",
        "[21.3967402102156,-10.8893126308196],\n",
        "[0.443696899177716,-19.7221132386308],\n",
        "[29.9198322142127,-14.0958668502427],\n",
        "[19.0805843080126,-13.7888747608312],\n",
        "[16.4685063521314,-11.2612927034291],\n",
        "[21.4597664701884,-12.4740034586705],\n",
        "[3.87655283720532,-17.575162461771],\n",
        "[34.5713920556787,-10.705185165378],\n",
        "[13.3732115747722,-16.7270274494424],\n",
        "[20.7281704141919,-8.81165591556553],\n",
        "[24.839851437942,-12.1240962157419],\n",
        "[20.3019544741252,-12.8725060780898],\n",
        "[21.9021426929599,-17.3225432396452],\n",
        "[23.2285885715486,-12.2676568419045],\n",
        "[28.5749111681851,-13.2616470619453],\n",
        "[29.2957424128701,-14.6299928678996],\n",
        "[15.2495527798625,-18.4649714274207],\n",
        "[26.5567257400476,-9.19794350561966],\n",
        "[30.1934232346361,-12.6272709845971],\n",
        "[36.8267446011057,-7.25409849336718],\n",
        "[32.157416823084,-10.4729534347553],\n",
        "[5.85964365291694,-22.6573731626132],\n",
        "[25.7426190674693,-14.8055803854566],\n",
        "[16.237602636139,-16.5920595763719],\n",
        "[14.7408608850568,-20.0537715298403],\n",
        "[6.85907008242544,-18.3965586884781],\n",
        "[26.5918329233128,-8.92664811750842],\n",
        "[-11.2216019958228,-27.0519081982856],\n",
        "[8.93593745011035,-20.8261235122575],\n",
        "[24.4481258671796,-18.0324012215159],\n",
        "[2.82048515404903,-22.4208457598703],\n",
        "[30.8803004755948,-11.455358009593],\n",
        "[15.4586738236098,-11.1242825084309],\n",
        "[28.5332537090494,-14.7898744423126],\n",
        "[40.4830293441052,-2.41946428697183],\n",
        "[15.7563759125684,-13.5771266003795],\n",
        "[19.3635588851727,-20.6224770470434],\n",
        "[13.4212840786467,-19.0238227375766],\n",
        "[7.77570680426702,-16.6385739839089],\n",
        "[21.4865983854408,-15.290799330002],\n",
        "[12.6392705930724,-23.6433305964301],\n",
        "[12.4746151388128,-17.9720169566614],\n",
        "[23.4572410437998,-14.602080545086],\n",
        "[13.6878189833565,-18.9687408182414],\n",
        "[15.4077465943441,-14.5352487124086],\n",
        "[20.3356581548895,-10.0883159703702],\n",
        "[20.7093833689359,-12.6939091236766],\n",
        "[11.1032293684441,-14.1383848928755],\n",
        "[17.5048321498308,-9.2338593361801],\n",
        "[16.3303688220188,-15.1054735529158],\n",
        "[26.6929062710726,-13.306030567991],\n",
        "[34.4985678099711,-9.86199941278607],\n",
        "[39.1374291499406,-10.5621430853401],\n",
        "[21.9088956482146,-9.95198845621849],\n",
        "[22.2367457578087,-17.2200123442707],\n",
        "[10.0032784145577,-19.3557700653426],\n",
        "[14.045833906665,-15.871937521131],\n",
        "[15.5640911917607,-18.3396956121887],\n",
        "[24.4771926581586,-14.8715313479137],\n",
        "[26.533415556629,-14.693883922494],\n",
        "[12.8722580202544,-21.2750596021509],\n",
        "[24.4768291376862,-15.9592080959207],\n",
        "[18.2230748567433,-14.6541444069985],\n",
        "[4.1902148367447,-20.6144032528762],\n",
        "[12.4332594022086,-16.6079789231489],\n",
        "[20.5483758651873,-18.8512560786321],\n",
        "[17.8180560451358,-12.5451990696752],\n",
        "[11.0071081078049,-20.3938092335862],\n",
        "[8.30560561422449,-22.9503944138682],\n",
        "[33.9857852657284,-4.8371294974382],\n",
        "[17.4376502239652,-14.5095976075022],\n",
        "[29.0379635148943,-14.8461553663227],\n",
        "[29.1344666599319,-7.70862921632672],\n",
        "[32.9730697624544,-15.5839178785654],\n",
        "[13.4211493998212,-20.150199857584],\n",
        "[11.380538260355,-12.8619410359766],\n",
        "[28.672631499186,-8.51866271785711],\n",
        "[16.4296061111902,-23.3326051279759],\n",
        "[25.7168371582585,-13.8899296143829],\n",
        "[13.3185154732595,-17.8959160024249],\n",
        "[3.60832478605376,-25.4023343597712],\n",
        "[39.5445949652652,-11.466377647931],\n",
        "[25.1693484426101,-12.2752652925707],\n",
        "[25.2884257196471,-7.06710309184533],\n",
        "[6.77665715793125,-22.3947299635571],\n",
        "[20.1844223778907,-16.0427471125407],\n",
        "[25.5506805272535,-9.33856532270204],\n",
        "[25.1495682602477,-7.17350567090738],\n",
        "[15.6978431006492,-17.5979197162642],\n",
        "[37.42780451491,-10.843637288504],\n",
        "[22.974620174842,-10.6171162611686],\n",
        "[34.6327117468934,-9.26182440487384],\n",
        "[34.7042513789061,-6.9630753351114],\n",
        "[15.6563953929008,-17.2196961218915],\n",
        "[25.2049825789225,-14.1592086208169]\n",
        "]"
      ],
      "metadata": {
        "id": "Sz2nWhqeyNzr"
      },
      "execution_count": 6,
      "outputs": []
    },
    {
      "cell_type": "code",
      "source": [
        "import pandas as pd\n",
        "df = pd.DataFrame(pca_data)"
      ],
      "metadata": {
        "id": "qpEuCij5zT3G"
      },
      "execution_count": 10,
      "outputs": []
    },
    {
      "cell_type": "code",
      "source": [
        "df"
      ],
      "metadata": {
        "colab": {
          "base_uri": "https://localhost:8080/",
          "height": 423
        },
        "id": "697HTN2AzZcG",
        "outputId": "a6b54a1a-901e-4eb0-c8e9-84b304acc88a"
      },
      "execution_count": 12,
      "outputs": [
        {
          "output_type": "execute_result",
          "data": {
            "text/html": [
              "\n",
              "  <div id=\"df-64c54c33-c40e-46a9-85a3-9504758b2705\">\n",
              "    <div class=\"colab-df-container\">\n",
              "      <div>\n",
              "<style scoped>\n",
              "    .dataframe tbody tr th:only-of-type {\n",
              "        vertical-align: middle;\n",
              "    }\n",
              "\n",
              "    .dataframe tbody tr th {\n",
              "        vertical-align: top;\n",
              "    }\n",
              "\n",
              "    .dataframe thead th {\n",
              "        text-align: right;\n",
              "    }\n",
              "</style>\n",
              "<table border=\"1\" class=\"dataframe\">\n",
              "  <thead>\n",
              "    <tr style=\"text-align: right;\">\n",
              "      <th></th>\n",
              "      <th>0</th>\n",
              "      <th>1</th>\n",
              "    </tr>\n",
              "  </thead>\n",
              "  <tbody>\n",
              "    <tr>\n",
              "      <th>0</th>\n",
              "      <td>20.966678</td>\n",
              "      <td>-13.113808</td>\n",
              "    </tr>\n",
              "    <tr>\n",
              "      <th>1</th>\n",
              "      <td>22.771991</td>\n",
              "      <td>-19.889089</td>\n",
              "    </tr>\n",
              "    <tr>\n",
              "      <th>2</th>\n",
              "      <td>25.668710</td>\n",
              "      <td>-11.995600</td>\n",
              "    </tr>\n",
              "    <tr>\n",
              "      <th>3</th>\n",
              "      <td>18.001979</td>\n",
              "      <td>-18.198919</td>\n",
              "    </tr>\n",
              "    <tr>\n",
              "      <th>4</th>\n",
              "      <td>21.396740</td>\n",
              "      <td>-10.889313</td>\n",
              "    </tr>\n",
              "    <tr>\n",
              "      <th>...</th>\n",
              "      <td>...</td>\n",
              "      <td>...</td>\n",
              "    </tr>\n",
              "    <tr>\n",
              "      <th>94</th>\n",
              "      <td>22.974620</td>\n",
              "      <td>-10.617116</td>\n",
              "    </tr>\n",
              "    <tr>\n",
              "      <th>95</th>\n",
              "      <td>34.632712</td>\n",
              "      <td>-9.261824</td>\n",
              "    </tr>\n",
              "    <tr>\n",
              "      <th>96</th>\n",
              "      <td>34.704251</td>\n",
              "      <td>-6.963075</td>\n",
              "    </tr>\n",
              "    <tr>\n",
              "      <th>97</th>\n",
              "      <td>15.656395</td>\n",
              "      <td>-17.219696</td>\n",
              "    </tr>\n",
              "    <tr>\n",
              "      <th>98</th>\n",
              "      <td>25.204983</td>\n",
              "      <td>-14.159209</td>\n",
              "    </tr>\n",
              "  </tbody>\n",
              "</table>\n",
              "<p>99 rows × 2 columns</p>\n",
              "</div>\n",
              "      <button class=\"colab-df-convert\" onclick=\"convertToInteractive('df-64c54c33-c40e-46a9-85a3-9504758b2705')\"\n",
              "              title=\"Convert this dataframe to an interactive table.\"\n",
              "              style=\"display:none;\">\n",
              "        \n",
              "  <svg xmlns=\"http://www.w3.org/2000/svg\" height=\"24px\"viewBox=\"0 0 24 24\"\n",
              "       width=\"24px\">\n",
              "    <path d=\"M0 0h24v24H0V0z\" fill=\"none\"/>\n",
              "    <path d=\"M18.56 5.44l.94 2.06.94-2.06 2.06-.94-2.06-.94-.94-2.06-.94 2.06-2.06.94zm-11 1L8.5 8.5l.94-2.06 2.06-.94-2.06-.94L8.5 2.5l-.94 2.06-2.06.94zm10 10l.94 2.06.94-2.06 2.06-.94-2.06-.94-.94-2.06-.94 2.06-2.06.94z\"/><path d=\"M17.41 7.96l-1.37-1.37c-.4-.4-.92-.59-1.43-.59-.52 0-1.04.2-1.43.59L10.3 9.45l-7.72 7.72c-.78.78-.78 2.05 0 2.83L4 21.41c.39.39.9.59 1.41.59.51 0 1.02-.2 1.41-.59l7.78-7.78 2.81-2.81c.8-.78.8-2.07 0-2.86zM5.41 20L4 18.59l7.72-7.72 1.47 1.35L5.41 20z\"/>\n",
              "  </svg>\n",
              "      </button>\n",
              "      \n",
              "  <style>\n",
              "    .colab-df-container {\n",
              "      display:flex;\n",
              "      flex-wrap:wrap;\n",
              "      gap: 12px;\n",
              "    }\n",
              "\n",
              "    .colab-df-convert {\n",
              "      background-color: #E8F0FE;\n",
              "      border: none;\n",
              "      border-radius: 50%;\n",
              "      cursor: pointer;\n",
              "      display: none;\n",
              "      fill: #1967D2;\n",
              "      height: 32px;\n",
              "      padding: 0 0 0 0;\n",
              "      width: 32px;\n",
              "    }\n",
              "\n",
              "    .colab-df-convert:hover {\n",
              "      background-color: #E2EBFA;\n",
              "      box-shadow: 0px 1px 2px rgba(60, 64, 67, 0.3), 0px 1px 3px 1px rgba(60, 64, 67, 0.15);\n",
              "      fill: #174EA6;\n",
              "    }\n",
              "\n",
              "    [theme=dark] .colab-df-convert {\n",
              "      background-color: #3B4455;\n",
              "      fill: #D2E3FC;\n",
              "    }\n",
              "\n",
              "    [theme=dark] .colab-df-convert:hover {\n",
              "      background-color: #434B5C;\n",
              "      box-shadow: 0px 1px 3px 1px rgba(0, 0, 0, 0.15);\n",
              "      filter: drop-shadow(0px 1px 2px rgba(0, 0, 0, 0.3));\n",
              "      fill: #FFFFFF;\n",
              "    }\n",
              "  </style>\n",
              "\n",
              "      <script>\n",
              "        const buttonEl =\n",
              "          document.querySelector('#df-64c54c33-c40e-46a9-85a3-9504758b2705 button.colab-df-convert');\n",
              "        buttonEl.style.display =\n",
              "          google.colab.kernel.accessAllowed ? 'block' : 'none';\n",
              "\n",
              "        async function convertToInteractive(key) {\n",
              "          const element = document.querySelector('#df-64c54c33-c40e-46a9-85a3-9504758b2705');\n",
              "          const dataTable =\n",
              "            await google.colab.kernel.invokeFunction('convertToInteractive',\n",
              "                                                     [key], {});\n",
              "          if (!dataTable) return;\n",
              "\n",
              "          const docLinkHtml = 'Like what you see? Visit the ' +\n",
              "            '<a target=\"_blank\" href=https://colab.research.google.com/notebooks/data_table.ipynb>data table notebook</a>'\n",
              "            + ' to learn more about interactive tables.';\n",
              "          element.innerHTML = '';\n",
              "          dataTable['output_type'] = 'display_data';\n",
              "          await google.colab.output.renderOutput(dataTable, element);\n",
              "          const docLink = document.createElement('div');\n",
              "          docLink.innerHTML = docLinkHtml;\n",
              "          element.appendChild(docLink);\n",
              "        }\n",
              "      </script>\n",
              "    </div>\n",
              "  </div>\n",
              "  "
            ],
            "text/plain": [
              "            0          1\n",
              "0   20.966678 -13.113808\n",
              "1   22.771991 -19.889089\n",
              "2   25.668710 -11.995600\n",
              "3   18.001979 -18.198919\n",
              "4   21.396740 -10.889313\n",
              "..        ...        ...\n",
              "94  22.974620 -10.617116\n",
              "95  34.632712  -9.261824\n",
              "96  34.704251  -6.963075\n",
              "97  15.656395 -17.219696\n",
              "98  25.204983 -14.159209\n",
              "\n",
              "[99 rows x 2 columns]"
            ]
          },
          "metadata": {},
          "execution_count": 12
        }
      ]
    },
    {
      "cell_type": "markdown",
      "source": [
        "original data with wrong axis"
      ],
      "metadata": {
        "id": "MOKtb25Szqp6"
      }
    },
    {
      "cell_type": "code",
      "source": [
        "plt.scatter(df[0],df[1])\n",
        "plt.ylim(-40,40)\n",
        "plt.xlim(-50,50)\n",
        "plt.grid(True)\n",
        "plt.show()"
      ],
      "metadata": {
        "colab": {
          "base_uri": "https://localhost:8080/",
          "height": 269
        },
        "id": "P06WMFeyzG9v",
        "outputId": "37082a7d-795f-4bc5-ee86-f41992ab8aa7"
      },
      "execution_count": 28,
      "outputs": [
        {
          "output_type": "display_data",
          "data": {
            "image/png": "[encoded data removed]",
            "text/plain": [
              "<Figure size 432x288 with 1 Axes>"
            ]
          },
          "metadata": {
            "needs_background": "light"
          }
        }
      ]
    },
    {
      "cell_type": "markdown",
      "source": [
        "#### alter data to have mean as 0 for each dimension"
      ],
      "metadata": {
        "id": "5vhghcl5ztZY"
      }
    },
    {
      "cell_type": "code",
      "source": [
        "from scratch.linear_algebra import subtract\n",
        "from scratch.linear_algebra import Matrix, Vector, make_matrix\n",
        "from scratch.linear_algebra import vector_mean\n",
        "def de_mean(data: List[Vector]) -> List[Vector]:\n",
        "    \"\"\"Recenters the data to have mean 0 in every dimension\"\"\"\n",
        "    mean = vector_mean(data)\n",
        "    return [subtract(vector, mean) for vector in data]"
      ],
      "metadata": {
        "id": "vo1D4tA3zJA6"
      },
      "execution_count": 25,
      "outputs": []
    },
    {
      "cell_type": "code",
      "source": [
        "mean_df = de_mean(pca_data)\n",
        "mean_df = pd.DataFrame(mean_df)"
      ],
      "metadata": {
        "id": "m0b-I7Qzz6vO"
      },
      "execution_count": 26,
      "outputs": []
    },
    {
      "cell_type": "code",
      "source": [
        "plt.scatter(mean_df[0],mean_df[1])\n",
        "plt.ylim(-40,40)\n",
        "plt.xlim(-50,50)\n",
        "plt.grid(True)\n",
        "plt.show()#원점으로 모임(평균을 제거한 데이터)"
      ],
      "metadata": {
        "colab": {
          "base_uri": "https://localhost:8080/",
          "height": 269
        },
        "id": "oTMacRns0Am_",
        "outputId": "6ed04407-ee51-4c6d-c0c6-a5197158c43f"
      },
      "execution_count": 30,
      "outputs": [
        {
          "output_type": "display_data",
          "data": {
            "image/png": "[encoded data removed]",
            "text/plain": [
              "<Figure size 432x288 with 1 Axes>"
            ]
          },
          "metadata": {
            "needs_background": "light"
          }
        }
      ]
    },
    {
      "cell_type": "markdown",
      "source": [
        "이제 어떤 방향이 데이터의 편차를 가장 많이 잡아내는지 알아볼 수 있다"
      ],
      "metadata": {
        "id": "IXSVMXcC0v8V"
      }
    },
    {
      "cell_type": "code",
      "source": [
        "from scratch.linear_algebra import magnitude\n",
        "\n",
        "def direction(w: Vector) -> Vector:\n",
        "    mag = magnitude(w)\n",
        "    return [w_i / mag for w_i in w]"
      ],
      "metadata": {
        "id": "hVvTzlUR0WVD"
      },
      "execution_count": 31,
      "outputs": []
    },
    {
      "cell_type": "code",
      "source": [
        "from scratch.linear_algebra import dot\n",
        "\n",
        "def directional_variance(data: List[Vector], w: Vector) -> float:\n",
        "    \"\"\"\n",
        "    Returns the variance of x in the direction of w\n",
        "    \"\"\"\n",
        "    w_dir = direction(w)\n",
        "    return sum(dot(v, w_dir) ** 2 for v in data)"
      ],
      "metadata": {
        "id": "DebKVwNh0zFo"
      },
      "execution_count": 32,
      "outputs": []
    },
    {
      "cell_type": "markdown",
      "source": [
        "편차를 최대화하는 방향을 찾기 위해 경사하강법을 사용"
      ],
      "metadata": {
        "id": "C5d9F1XO069Y"
      }
    },
    {
      "cell_type": "code",
      "source": [
        "def directional_variance_gradient(data: List[Vector], w: Vector) -> Vector:\n",
        "    \"\"\"\n",
        "    The gradient of directional variance with respect to w\n",
        "    \"\"\"\n",
        "    w_dir = direction(w)\n",
        "    return [sum(2 * dot(v, w_dir) * v[i] for v in data)\n",
        "            for i in range(len(w))]"
      ],
      "metadata": {
        "id": "-C2bxn3903z-"
      },
      "execution_count": 33,
      "outputs": []
    },
    {
      "cell_type": "markdown",
      "source": [
        "제1 주성분은 directional_variance 함수를 최대화시키는 방향"
      ],
      "metadata": {
        "id": "r90POkGH1Gs6"
      }
    },
    {
      "cell_type": "code",
      "source": [
        "from scratch.gradient_descent import gradient_step\n",
        "import tqdm\n",
        "def first_principal_component(data: List[Vector],\n",
        "                              n: int = 100,\n",
        "                              step_size: float = 0.1) -> Vector:\n",
        "    # Start with a random guess\n",
        "    guess = [1.0 for _ in data[0]]\n",
        "\n",
        "    with tqdm.trange(n) as t:\n",
        "        for _ in t:\n",
        "            dv = directional_variance(data, guess)\n",
        "            gradient = directional_variance_gradient(data, guess)\n",
        "            guess = gradient_step(guess, gradient, step_size)\n",
        "            t.set_description(f\"dv: {dv:.3f}\")\n",
        "\n",
        "    return direction(guess)"
      ],
      "metadata": {
        "id": "706SGcas1AHR"
      },
      "execution_count": 37,
      "outputs": []
    },
    {
      "cell_type": "code",
      "source": [
        "mean_pca_data = de_mean(pca_data)"
      ],
      "metadata": {
        "id": "enZBlTyr1LAb"
      },
      "execution_count": 38,
      "outputs": []
    },
    {
      "cell_type": "code",
      "source": [
        "dir = first_principal_component(mean_pca_data)"
      ],
      "metadata": {
        "colab": {
          "base_uri": "https://localhost:8080/"
        },
        "id": "gmMuZlQj1X4j",
        "outputId": "cca042fc-e9f9-49fc-cfc1-2327dad48b93"
      },
      "execution_count": 40,
      "outputs": [
        {
          "output_type": "stream",
          "name": "stderr",
          "text": [
            "dv: 10279.151: 100%|██████████| 100/100 [00:00<00:00, 173.84it/s]\n"
          ]
        }
      ]
    },
    {
      "cell_type": "code",
      "source": [
        "dir"
      ],
      "metadata": {
        "colab": {
          "base_uri": "https://localhost:8080/"
        },
        "id": "1q0-Dy-51buJ",
        "outputId": "be488e61-4d0e-4576-a02e-fb18744f66b6"
      },
      "execution_count": 41,
      "outputs": [
        {
          "output_type": "execute_result",
          "data": {
            "text/plain": [
              "[0.9237307801943212, 0.3830423549969252]"
            ]
          },
          "metadata": {},
          "execution_count": 41
        }
      ]
    },
    {
      "cell_type": "code",
      "source": [
        "move_x = dir[0]\n",
        "move_y = dir[1]\n",
        "\n",
        "plt.scatter(mean_df[0],mean_df[1])\n",
        "plt.ylim(-40,40)\n",
        "plt.xlim(-50,50)\n",
        "plt.arrow(0,0, move_x*20, move_y*20,head_width = 5,\n",
        "          width = 1,\n",
        "          color ='pink')\n",
        "plt.grid(True)\n",
        "plt.show()#원점으로 모임(평균을 제거한 데이터)"
      ],
      "metadata": {
        "colab": {
          "base_uri": "https://localhost:8080/",
          "height": 269
        },
        "id": "wNY-t9Pg1kAW",
        "outputId": "e4e7a096-0cdd-4b35-8850-57fa759dcf4c"
      },
      "execution_count": 53,
      "outputs": [
        {
          "output_type": "display_data",
          "data": {
            "image/png": "[encoded data removed]",
            "text/plain": [
              "<Figure size 432x288 with 1 Axes>"
            ]
          },
          "metadata": {
            "needs_background": "light"
          }
        }
      ]
    },
    {
      "cell_type": "code",
      "source": [
        "from scratch.linear_algebra import scalar_multiply\n",
        "\n",
        "def project(v: Vector, w: Vector) -> Vector:\n",
        "    \"\"\"return the projection of v onto the direction w\"\"\"\n",
        "    #v를 w 방향으로 투영\n",
        "    projection_length = dot(v, w)\n",
        "    return scalar_multiply(projection_length, w)"
      ],
      "metadata": {
        "id": "wgxgvXY_2ojw"
      },
      "execution_count": 55,
      "outputs": []
    },
    {
      "cell_type": "markdown",
      "source": [
        "다른 성분들을 찾고 싶다면 먼저 투영된 데이터를 제거해야 한다"
      ],
      "metadata": {
        "id": "MBVO9-OI4Azd"
      }
    },
    {
      "cell_type": "code",
      "source": [
        "from scratch.linear_algebra import subtract\n",
        "\n",
        "def remove_projection_from_vector(v: Vector, w: Vector) -> Vector:\n",
        "    \"\"\"projects v onto w and subtracts the result from v\"\"\"\n",
        "    return subtract(v, project(v, w))\n",
        "\n",
        "def remove_projection(data: List[Vector], w: Vector) -> List[Vector]:\n",
        "    return [remove_projection_from_vector(v, w) for v in data]"
      ],
      "metadata": {
        "id": "BajctX8V3k8w"
      },
      "execution_count": 56,
      "outputs": []
    },
    {
      "cell_type": "markdown",
      "source": [
        "고차원 데이터에서는 이러한 반복적인 과정에서 원하는 만큼 많은 주성분을 찾을 수 있다"
      ],
      "metadata": {
        "id": "srzOszHR5wC7"
      }
    },
    {
      "cell_type": "code",
      "source": [
        "def pca(data: List[Vector], num_components: int) -> List[Vector]:\n",
        "    components: List[Vector] = []\n",
        "    for _ in range(num_components):\n",
        "        component = first_principal_component(data)\n",
        "        components.append(component)\n",
        "        data = remove_projection(data, component)\n",
        "\n",
        "    return components"
      ],
      "metadata": {
        "id": "kL_r5rc25fGD"
      },
      "execution_count": 59,
      "outputs": []
    },
    {
      "cell_type": "markdown",
      "source": [
        "계산된 성분을 사용하면 주어진 데이터를 저차원 공간에서 생성시킬 수 있다"
      ],
      "metadata": {
        "id": "OdiqOm3H5nEx"
      }
    },
    {
      "cell_type": "code",
      "source": [
        "def transform_vector(v: Vector, components: List[Vector]) -> Vector:\n",
        "    return [dot(v, w) for w in components]\n",
        "\n",
        "def transform(data: List[Vector], components: List[Vector]) -> List[Vector]:\n",
        "    return [transform_vector(v, components) for v in data]"
      ],
      "metadata": {
        "id": "aP8QVB585fXn"
      },
      "execution_count": 60,
      "outputs": []
    },
    {
      "cell_type": "markdown",
      "source": [
        "차원 축소의 중요성:\n",
        "1. 잡음에 해당되는 차원을 제거&연관된 차우너을 합쳐 주며 데이터 정제\n",
        "2. 저차원으로 축소된 데이터에서 다양한 기법 사용 가능"
      ],
      "metadata": {
        "id": "AiV6viYf6CEy"
      }
    }
  ]
}