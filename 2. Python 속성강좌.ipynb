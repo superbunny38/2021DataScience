{
 "cells": [
  {
   "cell_type": "markdown",
   "id": "dca91458",
   "metadata": {},
   "source": [
    "# 2. 파이썬 속성 강좌 (p.15~47)"
   ]
  },
  {
   "cell_type": "markdown",
   "id": "27ba1dc7",
   "metadata": {},
   "source": [
    "## 2.5 모듈"
   ]
  },
  {
   "cell_type": "markdown",
   "id": "c15d7016",
   "metadata": {},
   "source": [
    "- 모듈 불러오기"
   ]
  },
  {
   "cell_type": "code",
   "execution_count": 3,
   "id": "f0c8348d",
   "metadata": {},
   "outputs": [],
   "source": [
    "import re\n",
    "my_regex = re.compile(\"[0-9]+\",re.I)"
   ]
  },
  {
   "cell_type": "markdown",
   "id": "7275de95",
   "metadata": {},
   "source": [
    "- 특정 이름으로 모듈 불러오기"
   ]
  },
  {
   "cell_type": "code",
   "execution_count": 4,
   "id": "b04d32da",
   "metadata": {},
   "outputs": [],
   "source": [
    "import re as regrex\n",
    "my_regrex = regrex.compile(\"[0-9]+\",regrex.I)"
   ]
  },
  {
   "cell_type": "markdown",
   "id": "b6ed199d",
   "metadata": {},
   "source": [
    "- 많이 쓰이는 이름"
   ]
  },
  {
   "cell_type": "code",
   "execution_count": 8,
   "id": "7026ef39",
   "metadata": {},
   "outputs": [
    {
     "name": "stdout",
     "output_type": "stream",
     "text": [
      "Requirement already satisfied: matplotlib in c:\\anaconda3\\envs\\dsfs\\lib\\site-packages (3.4.2)\n",
      "Requirement already satisfied: kiwisolver>=1.0.1 in c:\\anaconda3\\envs\\dsfs\\lib\\site-packages (from matplotlib) (1.3.1)\n",
      "Requirement already satisfied: python-dateutil>=2.7 in c:\\anaconda3\\envs\\dsfs\\lib\\site-packages (from matplotlib) (2.8.1)\n",
      "Requirement already satisfied: cycler>=0.10 in c:\\anaconda3\\envs\\dsfs\\lib\\site-packages (from matplotlib) (0.10.0)\n",
      "Requirement already satisfied: pillow>=6.2.0 in c:\\anaconda3\\envs\\dsfs\\lib\\site-packages (from matplotlib) (8.2.0)\n",
      "Requirement already satisfied: numpy>=1.16 in c:\\anaconda3\\envs\\dsfs\\lib\\site-packages (from matplotlib) (1.21.0)\n",
      "Requirement already satisfied: pyparsing>=2.2.1 in c:\\anaconda3\\envs\\dsfs\\lib\\site-packages (from matplotlib) (2.4.7)\n",
      "Requirement already satisfied: six in c:\\anaconda3\\envs\\dsfs\\lib\\site-packages (from cycler>=0.10->matplotlib) (1.16.0)\n"
     ]
    },
    {
     "ename": "TypeError",
     "evalue": "float() argument must be a string or a number, not 'ellipsis'",
     "output_type": "error",
     "traceback": [
      "\u001b[1;31m---------------------------------------------------------------------------\u001b[0m",
      "\u001b[1;31mTypeError\u001b[0m                                 Traceback (most recent call last)",
      "\u001b[1;32m<ipython-input-8-0a7cddd22600>\u001b[0m in \u001b[0;36m<module>\u001b[1;34m\u001b[0m\n\u001b[0;32m      1\u001b[0m \u001b[0mget_ipython\u001b[0m\u001b[1;33m(\u001b[0m\u001b[1;33m)\u001b[0m\u001b[1;33m.\u001b[0m\u001b[0msystem\u001b[0m\u001b[1;33m(\u001b[0m\u001b[1;34m'pip install matplotlib'\u001b[0m\u001b[1;33m)\u001b[0m\u001b[1;33m\u001b[0m\u001b[1;33m\u001b[0m\u001b[0m\n\u001b[0;32m      2\u001b[0m \u001b[1;32mimport\u001b[0m \u001b[0mmatplotlib\u001b[0m\u001b[1;33m.\u001b[0m\u001b[0mpyplot\u001b[0m \u001b[1;32mas\u001b[0m \u001b[0mplt\u001b[0m\u001b[1;33m\u001b[0m\u001b[1;33m\u001b[0m\u001b[0m\n\u001b[1;32m----> 3\u001b[1;33m \u001b[0mplt\u001b[0m\u001b[1;33m.\u001b[0m\u001b[0mplot\u001b[0m\u001b[1;33m(\u001b[0m\u001b[1;33m...\u001b[0m\u001b[1;33m)\u001b[0m\u001b[1;33m\u001b[0m\u001b[1;33m\u001b[0m\u001b[0m\n\u001b[0m",
      "\u001b[1;32mC:\\Anaconda3\\envs\\dsfs\\lib\\site-packages\\matplotlib\\pyplot.py\u001b[0m in \u001b[0;36mplot\u001b[1;34m(scalex, scaley, data, *args, **kwargs)\u001b[0m\n\u001b[0;32m   3017\u001b[0m \u001b[1;33m@\u001b[0m\u001b[0m_copy_docstring_and_deprecators\u001b[0m\u001b[1;33m(\u001b[0m\u001b[0mAxes\u001b[0m\u001b[1;33m.\u001b[0m\u001b[0mplot\u001b[0m\u001b[1;33m)\u001b[0m\u001b[1;33m\u001b[0m\u001b[1;33m\u001b[0m\u001b[0m\n\u001b[0;32m   3018\u001b[0m \u001b[1;32mdef\u001b[0m \u001b[0mplot\u001b[0m\u001b[1;33m(\u001b[0m\u001b[1;33m*\u001b[0m\u001b[0margs\u001b[0m\u001b[1;33m,\u001b[0m \u001b[0mscalex\u001b[0m\u001b[1;33m=\u001b[0m\u001b[1;32mTrue\u001b[0m\u001b[1;33m,\u001b[0m \u001b[0mscaley\u001b[0m\u001b[1;33m=\u001b[0m\u001b[1;32mTrue\u001b[0m\u001b[1;33m,\u001b[0m \u001b[0mdata\u001b[0m\u001b[1;33m=\u001b[0m\u001b[1;32mNone\u001b[0m\u001b[1;33m,\u001b[0m \u001b[1;33m**\u001b[0m\u001b[0mkwargs\u001b[0m\u001b[1;33m)\u001b[0m\u001b[1;33m:\u001b[0m\u001b[1;33m\u001b[0m\u001b[1;33m\u001b[0m\u001b[0m\n\u001b[1;32m-> 3019\u001b[1;33m     return gca().plot(\n\u001b[0m\u001b[0;32m   3020\u001b[0m         \u001b[1;33m*\u001b[0m\u001b[0margs\u001b[0m\u001b[1;33m,\u001b[0m \u001b[0mscalex\u001b[0m\u001b[1;33m=\u001b[0m\u001b[0mscalex\u001b[0m\u001b[1;33m,\u001b[0m \u001b[0mscaley\u001b[0m\u001b[1;33m=\u001b[0m\u001b[0mscaley\u001b[0m\u001b[1;33m,\u001b[0m\u001b[1;33m\u001b[0m\u001b[1;33m\u001b[0m\u001b[0m\n\u001b[0;32m   3021\u001b[0m         **({\"data\": data} if data is not None else {}), **kwargs)\n",
      "\u001b[1;32mC:\\Anaconda3\\envs\\dsfs\\lib\\site-packages\\matplotlib\\axes\\_axes.py\u001b[0m in \u001b[0;36mplot\u001b[1;34m(self, scalex, scaley, data, *args, **kwargs)\u001b[0m\n\u001b[0;32m   1605\u001b[0m         \u001b[0mlines\u001b[0m \u001b[1;33m=\u001b[0m \u001b[1;33m[\u001b[0m\u001b[1;33m*\u001b[0m\u001b[0mself\u001b[0m\u001b[1;33m.\u001b[0m\u001b[0m_get_lines\u001b[0m\u001b[1;33m(\u001b[0m\u001b[1;33m*\u001b[0m\u001b[0margs\u001b[0m\u001b[1;33m,\u001b[0m \u001b[0mdata\u001b[0m\u001b[1;33m=\u001b[0m\u001b[0mdata\u001b[0m\u001b[1;33m,\u001b[0m \u001b[1;33m**\u001b[0m\u001b[0mkwargs\u001b[0m\u001b[1;33m)\u001b[0m\u001b[1;33m]\u001b[0m\u001b[1;33m\u001b[0m\u001b[1;33m\u001b[0m\u001b[0m\n\u001b[0;32m   1606\u001b[0m         \u001b[1;32mfor\u001b[0m \u001b[0mline\u001b[0m \u001b[1;32min\u001b[0m \u001b[0mlines\u001b[0m\u001b[1;33m:\u001b[0m\u001b[1;33m\u001b[0m\u001b[1;33m\u001b[0m\u001b[0m\n\u001b[1;32m-> 1607\u001b[1;33m             \u001b[0mself\u001b[0m\u001b[1;33m.\u001b[0m\u001b[0madd_line\u001b[0m\u001b[1;33m(\u001b[0m\u001b[0mline\u001b[0m\u001b[1;33m)\u001b[0m\u001b[1;33m\u001b[0m\u001b[1;33m\u001b[0m\u001b[0m\n\u001b[0m\u001b[0;32m   1608\u001b[0m         \u001b[0mself\u001b[0m\u001b[1;33m.\u001b[0m\u001b[0m_request_autoscale_view\u001b[0m\u001b[1;33m(\u001b[0m\u001b[0mscalex\u001b[0m\u001b[1;33m=\u001b[0m\u001b[0mscalex\u001b[0m\u001b[1;33m,\u001b[0m \u001b[0mscaley\u001b[0m\u001b[1;33m=\u001b[0m\u001b[0mscaley\u001b[0m\u001b[1;33m)\u001b[0m\u001b[1;33m\u001b[0m\u001b[1;33m\u001b[0m\u001b[0m\n\u001b[0;32m   1609\u001b[0m         \u001b[1;32mreturn\u001b[0m \u001b[0mlines\u001b[0m\u001b[1;33m\u001b[0m\u001b[1;33m\u001b[0m\u001b[0m\n",
      "\u001b[1;32mC:\\Anaconda3\\envs\\dsfs\\lib\\site-packages\\matplotlib\\axes\\_base.py\u001b[0m in \u001b[0;36madd_line\u001b[1;34m(self, line)\u001b[0m\n\u001b[0;32m   2099\u001b[0m             \u001b[0mline\u001b[0m\u001b[1;33m.\u001b[0m\u001b[0mset_clip_path\u001b[0m\u001b[1;33m(\u001b[0m\u001b[0mself\u001b[0m\u001b[1;33m.\u001b[0m\u001b[0mpatch\u001b[0m\u001b[1;33m)\u001b[0m\u001b[1;33m\u001b[0m\u001b[1;33m\u001b[0m\u001b[0m\n\u001b[0;32m   2100\u001b[0m \u001b[1;33m\u001b[0m\u001b[0m\n\u001b[1;32m-> 2101\u001b[1;33m         \u001b[0mself\u001b[0m\u001b[1;33m.\u001b[0m\u001b[0m_update_line_limits\u001b[0m\u001b[1;33m(\u001b[0m\u001b[0mline\u001b[0m\u001b[1;33m)\u001b[0m\u001b[1;33m\u001b[0m\u001b[1;33m\u001b[0m\u001b[0m\n\u001b[0m\u001b[0;32m   2102\u001b[0m         \u001b[1;32mif\u001b[0m \u001b[1;32mnot\u001b[0m \u001b[0mline\u001b[0m\u001b[1;33m.\u001b[0m\u001b[0mget_label\u001b[0m\u001b[1;33m(\u001b[0m\u001b[1;33m)\u001b[0m\u001b[1;33m:\u001b[0m\u001b[1;33m\u001b[0m\u001b[1;33m\u001b[0m\u001b[0m\n\u001b[0;32m   2103\u001b[0m             \u001b[0mline\u001b[0m\u001b[1;33m.\u001b[0m\u001b[0mset_label\u001b[0m\u001b[1;33m(\u001b[0m\u001b[1;34m'_line%d'\u001b[0m \u001b[1;33m%\u001b[0m \u001b[0mlen\u001b[0m\u001b[1;33m(\u001b[0m\u001b[0mself\u001b[0m\u001b[1;33m.\u001b[0m\u001b[0mlines\u001b[0m\u001b[1;33m)\u001b[0m\u001b[1;33m)\u001b[0m\u001b[1;33m\u001b[0m\u001b[1;33m\u001b[0m\u001b[0m\n",
      "\u001b[1;32mC:\\Anaconda3\\envs\\dsfs\\lib\\site-packages\\matplotlib\\axes\\_base.py\u001b[0m in \u001b[0;36m_update_line_limits\u001b[1;34m(self, line)\u001b[0m\n\u001b[0;32m   2121\u001b[0m         \u001b[0mFigures\u001b[0m \u001b[0mout\u001b[0m \u001b[0mthe\u001b[0m \u001b[0mdata\u001b[0m \u001b[0mlimit\u001b[0m \u001b[0mof\u001b[0m \u001b[0mthe\u001b[0m \u001b[0mgiven\u001b[0m \u001b[0mline\u001b[0m\u001b[1;33m,\u001b[0m \u001b[0mupdating\u001b[0m \u001b[0mself\u001b[0m\u001b[1;33m.\u001b[0m\u001b[0mdataLim\u001b[0m\u001b[1;33m.\u001b[0m\u001b[1;33m\u001b[0m\u001b[1;33m\u001b[0m\u001b[0m\n\u001b[0;32m   2122\u001b[0m         \"\"\"\n\u001b[1;32m-> 2123\u001b[1;33m         \u001b[0mpath\u001b[0m \u001b[1;33m=\u001b[0m \u001b[0mline\u001b[0m\u001b[1;33m.\u001b[0m\u001b[0mget_path\u001b[0m\u001b[1;33m(\u001b[0m\u001b[1;33m)\u001b[0m\u001b[1;33m\u001b[0m\u001b[1;33m\u001b[0m\u001b[0m\n\u001b[0m\u001b[0;32m   2124\u001b[0m         \u001b[1;32mif\u001b[0m \u001b[0mpath\u001b[0m\u001b[1;33m.\u001b[0m\u001b[0mvertices\u001b[0m\u001b[1;33m.\u001b[0m\u001b[0msize\u001b[0m \u001b[1;33m==\u001b[0m \u001b[1;36m0\u001b[0m\u001b[1;33m:\u001b[0m\u001b[1;33m\u001b[0m\u001b[1;33m\u001b[0m\u001b[0m\n\u001b[0;32m   2125\u001b[0m             \u001b[1;32mreturn\u001b[0m\u001b[1;33m\u001b[0m\u001b[1;33m\u001b[0m\u001b[0m\n",
      "\u001b[1;32mC:\\Anaconda3\\envs\\dsfs\\lib\\site-packages\\matplotlib\\lines.py\u001b[0m in \u001b[0;36mget_path\u001b[1;34m(self)\u001b[0m\n\u001b[0;32m   1020\u001b[0m         \"\"\"\n\u001b[0;32m   1021\u001b[0m         \u001b[1;32mif\u001b[0m \u001b[0mself\u001b[0m\u001b[1;33m.\u001b[0m\u001b[0m_invalidy\u001b[0m \u001b[1;32mor\u001b[0m \u001b[0mself\u001b[0m\u001b[1;33m.\u001b[0m\u001b[0m_invalidx\u001b[0m\u001b[1;33m:\u001b[0m\u001b[1;33m\u001b[0m\u001b[1;33m\u001b[0m\u001b[0m\n\u001b[1;32m-> 1022\u001b[1;33m             \u001b[0mself\u001b[0m\u001b[1;33m.\u001b[0m\u001b[0mrecache\u001b[0m\u001b[1;33m(\u001b[0m\u001b[1;33m)\u001b[0m\u001b[1;33m\u001b[0m\u001b[1;33m\u001b[0m\u001b[0m\n\u001b[0m\u001b[0;32m   1023\u001b[0m         \u001b[1;32mreturn\u001b[0m \u001b[0mself\u001b[0m\u001b[1;33m.\u001b[0m\u001b[0m_path\u001b[0m\u001b[1;33m\u001b[0m\u001b[1;33m\u001b[0m\u001b[0m\n\u001b[0;32m   1024\u001b[0m \u001b[1;33m\u001b[0m\u001b[0m\n",
      "\u001b[1;32mC:\\Anaconda3\\envs\\dsfs\\lib\\site-packages\\matplotlib\\lines.py\u001b[0m in \u001b[0;36mrecache\u001b[1;34m(self, always)\u001b[0m\n\u001b[0;32m    666\u001b[0m         \u001b[1;32mif\u001b[0m \u001b[0malways\u001b[0m \u001b[1;32mor\u001b[0m \u001b[0mself\u001b[0m\u001b[1;33m.\u001b[0m\u001b[0m_invalidy\u001b[0m\u001b[1;33m:\u001b[0m\u001b[1;33m\u001b[0m\u001b[1;33m\u001b[0m\u001b[0m\n\u001b[0;32m    667\u001b[0m             \u001b[0myconv\u001b[0m \u001b[1;33m=\u001b[0m \u001b[0mself\u001b[0m\u001b[1;33m.\u001b[0m\u001b[0mconvert_yunits\u001b[0m\u001b[1;33m(\u001b[0m\u001b[0mself\u001b[0m\u001b[1;33m.\u001b[0m\u001b[0m_yorig\u001b[0m\u001b[1;33m)\u001b[0m\u001b[1;33m\u001b[0m\u001b[1;33m\u001b[0m\u001b[0m\n\u001b[1;32m--> 668\u001b[1;33m             \u001b[0my\u001b[0m \u001b[1;33m=\u001b[0m \u001b[0m_to_unmasked_float_array\u001b[0m\u001b[1;33m(\u001b[0m\u001b[0myconv\u001b[0m\u001b[1;33m)\u001b[0m\u001b[1;33m.\u001b[0m\u001b[0mravel\u001b[0m\u001b[1;33m(\u001b[0m\u001b[1;33m)\u001b[0m\u001b[1;33m\u001b[0m\u001b[1;33m\u001b[0m\u001b[0m\n\u001b[0m\u001b[0;32m    669\u001b[0m         \u001b[1;32melse\u001b[0m\u001b[1;33m:\u001b[0m\u001b[1;33m\u001b[0m\u001b[1;33m\u001b[0m\u001b[0m\n\u001b[0;32m    670\u001b[0m             \u001b[0my\u001b[0m \u001b[1;33m=\u001b[0m \u001b[0mself\u001b[0m\u001b[1;33m.\u001b[0m\u001b[0m_y\u001b[0m\u001b[1;33m\u001b[0m\u001b[1;33m\u001b[0m\u001b[0m\n",
      "\u001b[1;32mC:\\Anaconda3\\envs\\dsfs\\lib\\site-packages\\matplotlib\\cbook\\__init__.py\u001b[0m in \u001b[0;36m_to_unmasked_float_array\u001b[1;34m(x)\u001b[0m\n\u001b[0;32m   1331\u001b[0m         \u001b[1;32mreturn\u001b[0m \u001b[0mnp\u001b[0m\u001b[1;33m.\u001b[0m\u001b[0mma\u001b[0m\u001b[1;33m.\u001b[0m\u001b[0masarray\u001b[0m\u001b[1;33m(\u001b[0m\u001b[0mx\u001b[0m\u001b[1;33m,\u001b[0m \u001b[0mfloat\u001b[0m\u001b[1;33m)\u001b[0m\u001b[1;33m.\u001b[0m\u001b[0mfilled\u001b[0m\u001b[1;33m(\u001b[0m\u001b[0mnp\u001b[0m\u001b[1;33m.\u001b[0m\u001b[0mnan\u001b[0m\u001b[1;33m)\u001b[0m\u001b[1;33m\u001b[0m\u001b[1;33m\u001b[0m\u001b[0m\n\u001b[0;32m   1332\u001b[0m     \u001b[1;32melse\u001b[0m\u001b[1;33m:\u001b[0m\u001b[1;33m\u001b[0m\u001b[1;33m\u001b[0m\u001b[0m\n\u001b[1;32m-> 1333\u001b[1;33m         \u001b[1;32mreturn\u001b[0m \u001b[0mnp\u001b[0m\u001b[1;33m.\u001b[0m\u001b[0masarray\u001b[0m\u001b[1;33m(\u001b[0m\u001b[0mx\u001b[0m\u001b[1;33m,\u001b[0m \u001b[0mfloat\u001b[0m\u001b[1;33m)\u001b[0m\u001b[1;33m\u001b[0m\u001b[1;33m\u001b[0m\u001b[0m\n\u001b[0m\u001b[0;32m   1334\u001b[0m \u001b[1;33m\u001b[0m\u001b[0m\n\u001b[0;32m   1335\u001b[0m \u001b[1;33m\u001b[0m\u001b[0m\n",
      "\u001b[1;31mTypeError\u001b[0m: float() argument must be a string or a number, not 'ellipsis'"
     ]
    },
    {
     "data": {
      "image/png": "[encoded data removed]",
      "text/plain": [
       "<Figure size 432x288 with 1 Axes>"
      ]
     },
     "metadata": {
      "needs_background": "light"
     },
     "output_type": "display_data"
    }
   ],
   "source": [
    "!pip install matplotlib\n",
    "import matplotlib.pyplot as plt\n",
    "plt.plot(...)"
   ]
  },
  {
   "cell_type": "markdown",
   "id": "95d6bb12",
   "metadata": {},
   "source": [
    "- 전체가 아닌 해당 기능만 명시해서 불러오기"
   ]
  },
  {
   "cell_type": "code",
   "execution_count": 10,
   "id": "64488732",
   "metadata": {},
   "outputs": [],
   "source": [
    "from collections import defaultdict, Counter\n",
    "lookup = defaultdict(int)\n",
    "my_counter = Counter()"
   ]
  },
  {
   "cell_type": "markdown",
   "id": "7784f5c8",
   "metadata": {},
   "source": [
    "- 좋지 않은 습관: 모듈의 기능을 통채로 불러와서 기존의 변수들을 덮어쓰기"
   ]
  },
  {
   "cell_type": "code",
   "execution_count": 11,
   "id": "b7c345a0",
   "metadata": {},
   "outputs": [
    {
     "name": "stdout",
     "output_type": "stream",
     "text": [
      "<function match at 0x000002337BAC1A60>\n"
     ]
    }
   ],
   "source": [
    "match = 10\n",
    "from re import * #re에도 match라는 함수가 존재\n",
    "print(match)"
   ]
  },
  {
   "cell_type": "markdown",
   "id": "03af87fb",
   "metadata": {},
   "source": [
    "## 2.6 함수"
   ]
  },
  {
   "cell_type": "code",
   "execution_count": 12,
   "id": "7f25a5b1",
   "metadata": {},
   "outputs": [],
   "source": [
    "def double(x):\n",
    "    \"\"\"\n",
    "    함수에 대한 설명 적어놓은 공간\n",
    "    \"\"\"\n",
    "    return x*2"
   ]
  },
  {
   "cell_type": "markdown",
   "id": "5c3fce0b",
   "metadata": {},
   "source": [
    "- 일급함수(dirst-class)의 특성: 파이썬 함수들은 변수로 할당되거나 함수의 인자로 전달할 수 있다."
   ]
  },
  {
   "cell_type": "code",
   "execution_count": 16,
   "id": "d06e1f69",
   "metadata": {},
   "outputs": [
    {
     "name": "stdout",
     "output_type": "stream",
     "text": [
      "2\n"
     ]
    }
   ],
   "source": [
    "def apply_to_one(f):\n",
    "    \"\"\"\n",
    "    인자가 1인 함수 f를 호출\n",
    "    \"\"\"\n",
    "    return f(1)\n",
    "my_double = double\n",
    "x = apply_to_one(my_double)\n",
    "print(x)"
   ]
  },
  {
   "cell_type": "markdown",
   "id": "8f734b40",
   "metadata": {},
   "source": [
    "- 짧은 익명의 **람다함수(lambda function)**"
   ]
  },
  {
   "cell_type": "code",
   "execution_count": 19,
   "id": "c922541b",
   "metadata": {},
   "outputs": [
    {
     "name": "stdout",
     "output_type": "stream",
     "text": [
      "5\n"
     ]
    }
   ],
   "source": [
    "y = apply_to_one(lambda x:x+4)\n",
    "print(y)#1+4"
   ]
  },
  {
   "cell_type": "markdown",
   "id": "32cf9f91",
   "metadata": {},
   "source": [
    "- 변수에 람다함수 할당"
   ]
  },
  {
   "cell_type": "code",
   "execution_count": 21,
   "id": "fe849e7d",
   "metadata": {},
   "outputs": [],
   "source": [
    "another_double= lambda x: 2*x"
   ]
  },
  {
   "cell_type": "markdown",
   "id": "85755d61",
   "metadata": {},
   "source": [
    "- 기본값 외의 값을 전달하고 싶을 때는 값을 직접 명시"
   ]
  },
  {
   "cell_type": "code",
   "execution_count": 22,
   "id": "96721afe",
   "metadata": {},
   "outputs": [
    {
     "name": "stdout",
     "output_type": "stream",
     "text": [
      "hello\n",
      "my default message\n"
     ]
    }
   ],
   "source": [
    "def my_print(message = \"my default message\"):\n",
    "    print(message)\n",
    "\n",
    "my_print(\"hello\")\n",
    "my_print()"
   ]
  },
  {
   "cell_type": "markdown",
   "id": "43114561",
   "metadata": {},
   "source": [
    "- 인자의 이름 명시"
   ]
  },
  {
   "cell_type": "code",
   "execution_count": 28,
   "id": "bb303c28",
   "metadata": {},
   "outputs": [
    {
     "name": "stdout",
     "output_type": "stream",
     "text": [
      "Joel Grus\n",
      "Joel Something\n",
      "what's-his-name Grus\n"
     ]
    },
    {
     "data": {
      "text/plain": [
       "\"what's-his-name Something\""
      ]
     },
     "execution_count": 28,
     "metadata": {},
     "output_type": "execute_result"
    }
   ],
   "source": [
    "def full_name(first = \"what's-his-name\",last=\"Something\"):\n",
    "    return first+\" \"+last\n",
    "\n",
    "print(full_name(\"Joel\",\"Grus\"))\n",
    "print(full_name(\"Joel\"))\n",
    "print(full_name(last=\"Grus\"))\n",
    "full_name()"
   ]
  },
  {
   "cell_type": "markdown",
   "id": "9855e514",
   "metadata": {},
   "source": [
    "## 2.7 문자열"
   ]
  },
  {
   "cell_type": "code",
   "execution_count": 30,
   "id": "b3c2be2a",
   "metadata": {},
   "outputs": [],
   "source": [
    "single_quoted_string = 'data science'\n",
    "double_quoted_string = \"data science\""
   ]
  },
  {
   "cell_type": "markdown",
   "id": "9d54818a",
   "metadata": {},
   "source": [
    "- 특수문자 인코딩할 때 역슬래시 사용"
   ]
  },
  {
   "cell_type": "code",
   "execution_count": 31,
   "id": "013045db",
   "metadata": {},
   "outputs": [
    {
     "data": {
      "text/plain": [
       "1"
      ]
     },
     "execution_count": 31,
     "metadata": {},
     "output_type": "execute_result"
    }
   ],
   "source": [
    "tab_string ='\\t'\n",
    "len(tab_string)"
   ]
  },
  {
   "cell_type": "markdown",
   "id": "e42fcf90",
   "metadata": {},
   "source": [
    "- 역슬래시 표기하려면 r을 붙여 raw string이라고 명시"
   ]
  },
  {
   "cell_type": "code",
   "execution_count": 33,
   "id": "57f6c21b",
   "metadata": {},
   "outputs": [
    {
     "data": {
      "text/plain": [
       "2"
      ]
     },
     "execution_count": 33,
     "metadata": {},
     "output_type": "execute_result"
    }
   ],
   "source": [
    "not_tab_string = r\"\\t\"\n",
    "len(not_tab_string)"
   ]
  },
  {
   "cell_type": "markdown",
   "id": "7ab892e7",
   "metadata": {},
   "source": [
    "- \"\"\" 세개의 따옴표를 사용하면 하나의 문자열을 여러 줄로 나눠서 나타낼 수 있다"
   ]
  },
  {
   "cell_type": "code",
   "execution_count": 34,
   "id": "a7ac7067",
   "metadata": {},
   "outputs": [
    {
     "name": "stdout",
     "output_type": "stream",
     "text": [
      "This is the first line.\n",
      "and this is the second line\n",
      "and this is the third line\n"
     ]
    }
   ],
   "source": [
    "multi_line_string = \"\"\"This is the first line.\n",
    "and this is the second line\n",
    "and this is the third line\"\"\"\n",
    "\n",
    "print(multi_line_string)"
   ]
  },
  {
   "cell_type": "markdown",
   "id": "f332ab34",
   "metadata": {},
   "source": [
    "- 문자열 합치기"
   ]
  },
  {
   "cell_type": "code",
   "execution_count": 40,
   "id": "6158fc05",
   "metadata": {},
   "outputs": [
    {
     "name": "stdout",
     "output_type": "stream",
     "text": [
      "Joel Grus\n",
      "Joel Grus\n",
      "Joel Grus\n",
      "True\n"
     ]
    }
   ],
   "source": [
    "first_name = \"Joel\"\n",
    "last_name = \"Grus\"\n",
    "full_name1 = first_name + \" \" + last_name#기본 문자열 합치기\n",
    "full_name2 = \"{0} {1}\".format(first_name, last_name)#.format을 통한 문자열 합치기\n",
    "full_name3 = \"{} {}\".format(first_name, last_name)\n",
    "print(full_name1)\n",
    "print(full_name2)\n",
    "print(full_name3)\n",
    "print(full_name1 == full_name2 == full_name3)"
   ]
  },
  {
   "cell_type": "markdown",
   "id": "7e268488",
   "metadata": {},
   "source": [
    "- ***fstring 사용***"
   ]
  },
  {
   "cell_type": "code",
   "execution_count": 42,
   "id": "fc449043",
   "metadata": {},
   "outputs": [
    {
     "name": "stdout",
     "output_type": "stream",
     "text": [
      "Joel Grus\n"
     ]
    }
   ],
   "source": [
    "full_name4 = f\"{first_name} {last_name}\"\n",
    "print(full_name4)"
   ]
  },
  {
   "cell_type": "markdown",
   "id": "64153194",
   "metadata": {},
   "source": [
    "## 2.8 예외 처리"
   ]
  },
  {
   "cell_type": "markdown",
   "id": "38e6536f",
   "metadata": {},
   "source": [
    "- try 해보고 안되면 except 실행"
   ]
  },
  {
   "cell_type": "code",
   "execution_count": 53,
   "id": "24eb3f08",
   "metadata": {},
   "outputs": [
    {
     "name": "stdout",
     "output_type": "stream",
     "text": [
      "cannot divide by zero\n"
     ]
    }
   ],
   "source": [
    "try:\n",
    "    print(0/0)\n",
    "except:#except ZeroDevisionError <- 이거 왜 안됨\n",
    "    print(\"cannot divide by zero\")"
   ]
  },
  {
   "cell_type": "markdown",
   "id": "9dc6d667",
   "metadata": {},
   "source": [
    "## 2.9 리스트"
   ]
  },
  {
   "cell_type": "markdown",
   "id": "85dd1d29",
   "metadata": {},
   "source": [
    "- 리스트: 순서가 있는 자료의 집합. 배열과 유사하지만 리스트의 기능이 조금 더 풍부하다"
   ]
  },
  {
   "cell_type": "code",
   "execution_count": 56,
   "id": "9d421a5a",
   "metadata": {},
   "outputs": [
    {
     "name": "stdout",
     "output_type": "stream",
     "text": [
      "3\n",
      "6\n"
     ]
    }
   ],
   "source": [
    "integer_list = [1,2,3]\n",
    "heterogenous_list = [\"string\",0.1,True]\n",
    "list_of_lists = [integer_list,heterogenous_list,[]]\n",
    "\n",
    "list_length = len(integer_list)#길이\n",
    "list_sum = sum(integer_list)#합\n",
    "print(list_length)\n",
    "print(list_sum)"
   ]
  },
  {
   "cell_type": "code",
   "execution_count": 68,
   "id": "21e7c139",
   "metadata": {},
   "outputs": [
    {
     "name": "stdout",
     "output_type": "stream",
     "text": [
      "[0, 1, 2, 3, 4, 5, 6, 7, 8, 9]\n",
      "[-1, 1, 2, 3, 4, 5, 6, 7, 8, 9]\n"
     ]
    }
   ],
   "source": [
    "x = [i for i in range(10)]\n",
    "print(x)\n",
    "#뒤에서 두번째\n",
    "x[-2]\n",
    "x[0] = -1\n",
    "print(x)"
   ]
  },
  {
   "cell_type": "markdown",
   "id": "2e5ec908",
   "metadata": {},
   "source": [
    "- 슬라이싱(slicing): 특정 범위의 리스트로 분리\n",
    "<br>[i:j]면 i포함, j미포함"
   ]
  },
  {
   "cell_type": "code",
   "execution_count": 65,
   "id": "f426563a",
   "metadata": {},
   "outputs": [
    {
     "name": "stdout",
     "output_type": "stream",
     "text": [
      "y: [1, 2, 3, 4, 5, 6, 7, 8, 9, 10]\n"
     ]
    }
   ],
   "source": [
    "y = [i+1 for i in range(10)]\n",
    "print(f\"y: {y}\")#fstring 사용"
   ]
  },
  {
   "cell_type": "code",
   "execution_count": 66,
   "id": "09da61b7",
   "metadata": {},
   "outputs": [
    {
     "name": "stdout",
     "output_type": "stream",
     "text": [
      "first_three: [1, 2, 3]\n",
      "three_to_end: [3, 4, 5, 6, 7, 8, 9, 10]\n",
      "one_to_four: [1, 2, 3, 4]\n",
      "last_three: [8, 9, 10]\n",
      "without_first_and_last: [2, 3, 4, 5, 6, 7, 8, 9]\n",
      "copy_of_y: [1, 2, 3, 4, 5, 6, 7, 8, 9, 10]\n"
     ]
    }
   ],
   "source": [
    "#y 버전\n",
    "first_three= y[0:3]\n",
    "print(f\"first_three: {first_three}\")\n",
    "three_to_end= y[2:]\n",
    "print(f\"three_to_end: {three_to_end}\")\n",
    "one_to_four = y[:4]\n",
    "print(f\"one_to_four: {one_to_four}\")\n",
    "last_three = y[-3:]\n",
    "print(f\"last_three: {last_three}\")\n",
    "without_first_and_last= y[1:-1]\n",
    "print(f\"without_first_and_last: {without_first_and_last}\")\n",
    "copy_of_y = y[:]\n",
    "print(f\"copy_of_y: {copy_of_y}\")"
   ]
  },
  {
   "cell_type": "code",
   "execution_count": 69,
   "id": "31a2a39b",
   "metadata": {},
   "outputs": [
    {
     "name": "stdout",
     "output_type": "stream",
     "text": [
      "[-1, 1, 2, 3, 4, 5, 6, 7, 8, 9]\n"
     ]
    }
   ],
   "source": [
    "print(x)"
   ]
  },
  {
   "cell_type": "code",
   "execution_count": 75,
   "id": "c2dad874",
   "metadata": {},
   "outputs": [
    {
     "name": "stdout",
     "output_type": "stream",
     "text": [
      "first_three: [-1, 1, 2]\n",
      "three_to_end: [3, 4, 5, 6, 7, 8, 9]\n",
      "one_to_four: [1, 2, 3, 4]\n",
      "last_three: [7, 8, 9]\n",
      "without_first_and_last: [1, 2, 3, 4, 5, 6, 7, 8]\n",
      "copy_of_x: [-1, 1, 2, 3, 4, 5, 6, 7, 8, 9]\n"
     ]
    }
   ],
   "source": [
    "#x 버전\n",
    "first_three= x[:3]\n",
    "print(f\"first_three: {first_three}\")\n",
    "three_to_end= x[3:]\n",
    "print(f\"three_to_end: {three_to_end}\")\n",
    "one_to_four = x[1:5]\n",
    "print(f\"one_to_four: {one_to_four}\")\n",
    "last_three = x[-3:]\n",
    "print(f\"last_three: {last_three}\")\n",
    "without_first_and_last= x[1:-1]\n",
    "print(f\"without_first_and_last: {without_first_and_last}\")\n",
    "copy_of_y = x[:]\n",
    "print(f\"copy_of_x: {copy_of_y}\")"
   ]
  },
  {
   "cell_type": "markdown",
   "id": "95af029f",
   "metadata": {},
   "source": [
    "- 순차형 변수로 나누기(간격 설정)"
   ]
  },
  {
   "cell_type": "code",
   "execution_count": 73,
   "id": "d417274b",
   "metadata": {},
   "outputs": [
    {
     "name": "stdout",
     "output_type": "stream",
     "text": [
      "[-1, 3, 6, 9]\n"
     ]
    }
   ],
   "source": [
    "every_third = x[::3]\n",
    "print(every_third)"
   ]
  },
  {
   "cell_type": "code",
   "execution_count": 76,
   "id": "479c6969",
   "metadata": {},
   "outputs": [
    {
     "name": "stdout",
     "output_type": "stream",
     "text": [
      "[5, 4, 3]\n"
     ]
    }
   ],
   "source": [
    "five_to_three = x[5:2:-1]\n",
    "print(five_to_three)"
   ]
  },
  {
   "cell_type": "markdown",
   "id": "d865c54d",
   "metadata": {},
   "source": [
    "- In: 항목의 존재 여부 확인"
   ]
  },
  {
   "cell_type": "code",
   "execution_count": 77,
   "id": "3f05c9ee",
   "metadata": {},
   "outputs": [
    {
     "data": {
      "text/plain": [
       "True"
      ]
     },
     "execution_count": 77,
     "metadata": {},
     "output_type": "execute_result"
    }
   ],
   "source": [
    "1 in [1,2,3]"
   ]
  },
  {
   "cell_type": "code",
   "execution_count": 78,
   "id": "b8915794",
   "metadata": {},
   "outputs": [
    {
     "data": {
      "text/plain": [
       "False"
      ]
     },
     "execution_count": 78,
     "metadata": {},
     "output_type": "execute_result"
    }
   ],
   "source": [
    "4 in [0,1]"
   ]
  },
  {
   "cell_type": "markdown",
   "id": "970a7c09",
   "metadata": {},
   "source": [
    "- Extend: 주어진 리스트에 다른 리스트를 추가"
   ]
  },
  {
   "cell_type": "code",
   "execution_count": 85,
   "id": "1390ac3c",
   "metadata": {},
   "outputs": [
    {
     "name": "stdout",
     "output_type": "stream",
     "text": [
      "[1, 2, 3, 4, 5]\n",
      "[1, 2, 3, 4, 5, 4, 5]\n"
     ]
    }
   ],
   "source": [
    "x = [1,2,3]\n",
    "y = [4,5]\n",
    "x.extend([4,5])\n",
    "print(x)\n",
    "x.extend(y)\n",
    "print(x)"
   ]
  },
  {
   "cell_type": "markdown",
   "id": "52299e26",
   "metadata": {},
   "source": [
    "- 각각 할당"
   ]
  },
  {
   "cell_type": "code",
   "execution_count": 86,
   "id": "7b814d55",
   "metadata": {},
   "outputs": [
    {
     "name": "stdout",
     "output_type": "stream",
     "text": [
      "1\n",
      "2\n"
     ]
    }
   ],
   "source": [
    "x,y = [1,2]\n",
    "print(x)\n",
    "print(y)"
   ]
  },
  {
   "cell_type": "code",
   "execution_count": 87,
   "id": "f30fb514",
   "metadata": {},
   "outputs": [
    {
     "ename": "TypeError",
     "evalue": "bad operand type for unary -: 'type'",
     "output_type": "error",
     "traceback": [
      "\u001b[1;31m---------------------------------------------------------------------------\u001b[0m",
      "\u001b[1;31mTypeError\u001b[0m                                 Traceback (most recent call last)",
      "\u001b[1;32m<ipython-input-87-2c05d7b967b5>\u001b[0m in \u001b[0;36m<module>\u001b[1;34m\u001b[0m\n\u001b[1;32m----> 1\u001b[1;33m \u001b[1;33m-\u001b[0m \u001b[0mValueError\u001b[0m\u001b[1;33m\u001b[0m\u001b[1;33m\u001b[0m\u001b[0m\n\u001b[0m\u001b[0;32m      2\u001b[0m \u001b[0ma\u001b[0m\u001b[1;33m,\u001b[0m \u001b[1;33m=\u001b[0m \u001b[1;33m[\u001b[0m\u001b[1;36m1\u001b[0m\u001b[1;33m,\u001b[0m\u001b[1;36m2\u001b[0m\u001b[1;33m]\u001b[0m\u001b[1;33m\u001b[0m\u001b[1;33m\u001b[0m\u001b[0m\n\u001b[0;32m      3\u001b[0m \u001b[0mprint\u001b[0m\u001b[1;33m(\u001b[0m\u001b[0ma\u001b[0m\u001b[1;33m)\u001b[0m\u001b[1;33m\u001b[0m\u001b[1;33m\u001b[0m\u001b[0m\n",
      "\u001b[1;31mTypeError\u001b[0m: bad operand type for unary -: 'type'"
     ]
    }
   ],
   "source": [
    "- ValueError\n",
    "a, = [1,2]\n",
    "print(a)"
   ]
  },
  {
   "cell_type": "markdown",
   "id": "3dc4a38a",
   "metadata": {},
   "source": [
    "- _: 버릴 항목 표시"
   ]
  },
  {
   "cell_type": "code",
   "execution_count": 89,
   "id": "1448a37f",
   "metadata": {},
   "outputs": [
    {
     "name": "stdout",
     "output_type": "stream",
     "text": [
      "2\n",
      "4\n"
     ]
    }
   ],
   "source": [
    "_,y = 1,2\n",
    "print(y)\n",
    "_,b = [3,4]\n",
    "print(b)"
   ]
  },
  {
   "cell_type": "markdown",
   "id": "e7dc50d4",
   "metadata": {},
   "source": [
    "## 2.10 튜플: 변경할 수 없는 리스트"
   ]
  },
  {
   "cell_type": "markdown",
   "id": "d1b606f4",
   "metadata": {},
   "source": [
    "- 수정 불가\n",
    "- 괄호() 사용\n",
    "- 그냥 사용 <br>   ex) ch_tuple = 3,4\n",
    "- [ ]는 리스트"
   ]
  },
  {
   "cell_type": "code",
   "execution_count": 90,
   "id": "c44a46ad",
   "metadata": {},
   "outputs": [
    {
     "name": "stdout",
     "output_type": "stream",
     "text": [
      "[1, 2]\n",
      "(1, 2)\n",
      "(3, 4)\n"
     ]
    }
   ],
   "source": [
    "my_list = [1,2]\n",
    "my_tuple = (1,2)\n",
    "other_tuple = 3,4\n",
    "print(my_list)\n",
    "print(my_tuple)\n",
    "print(other_tuple)"
   ]
  },
  {
   "cell_type": "code",
   "execution_count": 91,
   "id": "52196d93",
   "metadata": {},
   "outputs": [
    {
     "name": "stdout",
     "output_type": "stream",
     "text": [
      "cannot modify a tuple\n"
     ]
    }
   ],
   "source": [
    "my_list[1] = 3\n",
    "try:\n",
    "    my_tuple[1] = 3\n",
    "except TypeError:\n",
    "    print(\"cannot modify a tuple\")"
   ]
  },
  {
   "cell_type": "markdown",
   "id": "7325b827",
   "metadata": {},
   "source": [
    "- 함수에서 여러 값을 반환할 떄 튜플을  사용하면 편리하다."
   ]
  },
  {
   "cell_type": "code",
   "execution_count": 92,
   "id": "6dbd62b0",
   "metadata": {},
   "outputs": [],
   "source": [
    "def sum_and_product(x,y):\n",
    "    return (x+y),(x*y)"
   ]
  },
  {
   "cell_type": "code",
   "execution_count": 94,
   "id": "42823176",
   "metadata": {},
   "outputs": [
    {
     "name": "stdout",
     "output_type": "stream",
     "text": [
      "(5, 6)\n"
     ]
    }
   ],
   "source": [
    "sp = sum_and_product(2,3)\n",
    "print(sp)"
   ]
  },
  {
   "cell_type": "code",
   "execution_count": 96,
   "id": "dbc0b7b1",
   "metadata": {},
   "outputs": [
    {
     "name": "stdout",
     "output_type": "stream",
     "text": [
      "s:5 p:6\n"
     ]
    }
   ],
   "source": [
    "s, p = sum_and_product(2,3)\n",
    "print(f\"s:{s} p:{p}\")"
   ]
  },
  {
   "cell_type": "markdown",
   "id": "5f49fa69",
   "metadata": {},
   "source": [
    "- 다중할당(multiple assignment): 리스트, 튜플 둘 다 가능"
   ]
  },
  {
   "cell_type": "code",
   "execution_count": 97,
   "id": "e2148017",
   "metadata": {},
   "outputs": [],
   "source": [
    "x,y = 1,2"
   ]
  },
  {
   "cell_type": "code",
   "execution_count": 98,
   "id": "4d2be3bf",
   "metadata": {},
   "outputs": [
    {
     "name": "stdout",
     "output_type": "stream",
     "text": [
      "x:2, y:1\n"
     ]
    }
   ],
   "source": [
    "x,y = y,x\n",
    "print(f\"x:{x}, y:{y}\")"
   ]
  },
  {
   "cell_type": "markdown",
   "id": "a9d19e86",
   "metadata": {},
   "source": [
    "## 2.11 딕셔너리: 값(value)과 연관된 키(key) 연결, 이를 사용해 값을 빠르게 검색 가능"
   ]
  },
  {
   "cell_type": "markdown",
   "id": "ccdfbcde",
   "metadata": {},
   "source": [
    "- 딕셔너리 생성\n",
    "- { }\n",
    "- dict()"
   ]
  },
  {
   "cell_type": "code",
   "execution_count": 104,
   "id": "7c96b40d",
   "metadata": {},
   "outputs": [
    {
     "name": "stdout",
     "output_type": "stream",
     "text": [
      "True\n"
     ]
    }
   ],
   "source": [
    "empty_dict = { } \n",
    "empty_dict3 = {}\n",
    "print(empty_dict == empty_dict3)\n",
    "empty_dict2 = dict()\n",
    "dict3 = {\"Joel\":80, \"Tim\":95}"
   ]
  },
  {
   "cell_type": "code",
   "execution_count": 105,
   "id": "b6fef9bb",
   "metadata": {},
   "outputs": [
    {
     "name": "stdout",
     "output_type": "stream",
     "text": [
      "{'Joel': 80, 'Tim': 95}\n"
     ]
    }
   ],
   "source": [
    "print(dict3)"
   ]
  },
  {
   "cell_type": "markdown",
   "id": "fc11aeff",
   "metadata": {},
   "source": [
    "- [  ] 사용: 키값 불러오기"
   ]
  },
  {
   "cell_type": "code",
   "execution_count": 108,
   "id": "275551c6",
   "metadata": {},
   "outputs": [
    {
     "name": "stdout",
     "output_type": "stream",
     "text": [
      "80\n"
     ]
    }
   ],
   "source": [
    "joels_grade = dict3[\"Joel\"]\n",
    "print(joels_grade)"
   ]
  },
  {
   "cell_type": "code",
   "execution_count": 110,
   "id": "6a4e52da",
   "metadata": {},
   "outputs": [
    {
     "name": "stdout",
     "output_type": "stream",
     "text": [
      "no grade for Kate!\n"
     ]
    }
   ],
   "source": [
    "try:\n",
    "    kates_grade = dict3[\"Kate\"]\n",
    "except KeyError:\n",
    "    print(\"no grade for Kate!\")"
   ]
  },
  {
   "cell_type": "markdown",
   "id": "28ea6483",
   "metadata": {},
   "source": [
    "- in: 키의 존재 여부 확인"
   ]
  },
  {
   "cell_type": "code",
   "execution_count": 111,
   "id": "2599fd23",
   "metadata": {},
   "outputs": [
    {
     "name": "stdout",
     "output_type": "stream",
     "text": [
      "True\n",
      "False\n"
     ]
    }
   ],
   "source": [
    "joel_has_grade = \"Joel\" in dict3\n",
    "Kate_has_grade = \"Kate\" in dict3\n",
    "print(joel_has_grade)\n",
    "print(Kate_has_grade)"
   ]
  },
  {
   "cell_type": "markdown",
   "id": "c11a5ef5",
   "metadata": {},
   "source": [
    "- get(): 키의 존재 여부 확인"
   ]
  },
  {
   "cell_type": "code",
   "execution_count": 191,
   "id": "772b8e32",
   "metadata": {},
   "outputs": [
    {
     "name": "stdout",
     "output_type": "stream",
     "text": [
      "3\n",
      "80\n",
      "80\n",
      "80\n"
     ]
    }
   ],
   "source": [
    "joels_grade = dict3.get(\"Joel\")\n",
    "joels_grade2 = dict3.get(\"Joel\",1)#없으면 1로 대체\n",
    "joels_grade3 = dict3.get(\"Joel\",'a')#문자여도 되나봄\n",
    "real = dict3.get(\"Ch\",3)\n",
    "print(real)\n",
    "print(joels_grade)\n",
    "print(joels_grade2)\n",
    "print(joels_grade3)"
   ]
  },
  {
   "cell_type": "code",
   "execution_count": 123,
   "id": "2568f695",
   "metadata": {},
   "outputs": [
    {
     "name": "stdout",
     "output_type": "stream",
     "text": [
      "None\n",
      "None\n"
     ]
    }
   ],
   "source": [
    "kates_grade = dict3.get(\"Kate\")\n",
    "print(kates_grade)\n",
    "no_ones_grade = dict3.get(\"No One\")\n",
    "print(no_ones_grade)"
   ]
  },
  {
   "cell_type": "markdown",
   "id": "b5d3770c",
   "metadata": {},
   "source": [
    "- 키와 값을 새로 지정(대괄호 [ ] 사용)"
   ]
  },
  {
   "cell_type": "code",
   "execution_count": 126,
   "id": "79f77ac1",
   "metadata": {},
   "outputs": [
    {
     "name": "stdout",
     "output_type": "stream",
     "text": [
      "3\n",
      "{'Joel': 80, 'Tim': 99, 'Kate': 100}\n"
     ]
    }
   ],
   "source": [
    "dict3[\"Tim\"] = 99\n",
    "dict3[\"Kate\"] = 100\n",
    "num_students = len(dict3)\n",
    "print(num_students)\n",
    "print(dict3)"
   ]
  },
  {
   "cell_type": "code",
   "execution_count": 131,
   "id": "382ce95a",
   "metadata": {},
   "outputs": [],
   "source": [
    "tweet = {\"user\":\"joelgrus\", \n",
    "         \"text\":\"Data Science is Awesome\", \n",
    "         \"retweet_count\":100, \n",
    "         \"hashtags\":[\"#data\",\"#science\",\"awesome\",\"yolo\"]}"
   ]
  },
  {
   "cell_type": "markdown",
   "id": "c192d345",
   "metadata": {},
   "source": [
    "- .keys(): 딕셔너리의 키에 대한 리스트 출력"
   ]
  },
  {
   "cell_type": "code",
   "execution_count": 129,
   "id": "9b5b8294",
   "metadata": {},
   "outputs": [
    {
     "name": "stdout",
     "output_type": "stream",
     "text": [
      "dict_keys(['user', 'text', 'retweet_count', 'hashtags'])\n"
     ]
    }
   ],
   "source": [
    "tweet_keys = tweet.keys()\n",
    "print(tweet_keys)"
   ]
  },
  {
   "cell_type": "markdown",
   "id": "5ae9a1e8",
   "metadata": {},
   "source": [
    "- .values(): 딕셔너리의 값에 대한 리스트 출력"
   ]
  },
  {
   "cell_type": "code",
   "execution_count": 130,
   "id": "3329a49b",
   "metadata": {},
   "outputs": [
    {
     "name": "stdout",
     "output_type": "stream",
     "text": [
      "dict_values(['joelgrus', 'Data Science is Awesome', 100, ['#data', '#science', 'awesome', 'yolo']])\n"
     ]
    }
   ],
   "source": [
    "tweet_values = tweet.values()\n",
    "print(tweet_values)"
   ]
  },
  {
   "cell_type": "markdown",
   "id": "21a6a31a",
   "metadata": {},
   "source": [
    "- .items(): 딕셔너리의 튜플에 대한 리스트 출력"
   ]
  },
  {
   "cell_type": "code",
   "execution_count": 136,
   "id": "67d6ad60",
   "metadata": {},
   "outputs": [
    {
     "name": "stdout",
     "output_type": "stream",
     "text": [
      "dict_items([('user', 'joelgrus'), ('text', 'Data Science is Awesome'), ('retweet_count', 100), ('hashtags', ['#data', '#science', 'awesome', 'yolo'])])\n",
      "\n",
      "\n",
      "\n",
      "key:user value:joelgrus\n",
      "key:text value:Data Science is Awesome\n",
      "key:retweet_count value:100\n",
      "key:hashtags value:['#data', '#science', 'awesome', 'yolo']\n"
     ]
    }
   ],
   "source": [
    "tweet_items = tweet.items()\n",
    "print(tweet_items)\n",
    "print(\"\\n\\n\")\n",
    "for k,v in tweet_items:\n",
    "    print(f\"key:{k} value:{v}\")"
   ]
  },
  {
   "cell_type": "markdown",
   "id": "a5ff3738",
   "metadata": {},
   "source": [
    "- 그냥 출력"
   ]
  },
  {
   "cell_type": "code",
   "execution_count": 133,
   "id": "dc451af9",
   "metadata": {},
   "outputs": [
    {
     "name": "stdout",
     "output_type": "stream",
     "text": [
      "{'user': 'joelgrus', 'text': 'Data Science is Awesome', 'retweet_count': 100, 'hashtags': ['#data', '#science', 'awesome', 'yolo']}\n"
     ]
    }
   ],
   "source": [
    "print(tweet)"
   ]
  },
  {
   "cell_type": "markdown",
   "id": "036ce051",
   "metadata": {},
   "source": [
    "- 키 수정 불가\n",
    "- 리스트를 키로 사용 불가\n",
    "- 튜플은 키로 사용 가능"
   ]
  },
  {
   "cell_type": "markdown",
   "id": "ff17577b",
   "metadata": {},
   "source": [
    "## 2.11.1 defaultdict"
   ]
  },
  {
   "cell_type": "markdown",
   "id": "13fc8e21",
   "metadata": {},
   "source": [
    "- 단어의 빈도수 세기"
   ]
  },
  {
   "cell_type": "code",
   "execution_count": 139,
   "id": "1f20e803",
   "metadata": {},
   "outputs": [
    {
     "name": "stdout",
     "output_type": "stream",
     "text": [
      "Collecting random-word\n",
      "  Downloading Random_Word-1.0.7-py3-none-any.whl (8.0 kB)\n",
      "Collecting nose\n",
      "  Downloading nose-1.3.7-py3-none-any.whl (154 kB)\n",
      "Collecting requests\n",
      "  Using cached requests-2.25.1-py2.py3-none-any.whl (61 kB)\n",
      "Requirement already satisfied: certifi>=2017.4.17 in c:\\anaconda3\\envs\\dsfs\\lib\\site-packages (from requests->random-word) (2021.5.30)\n",
      "Collecting urllib3<1.27,>=1.21.1\n",
      "  Downloading urllib3-1.26.6-py2.py3-none-any.whl (138 kB)\n",
      "Collecting chardet<5,>=3.0.2\n",
      "  Downloading chardet-4.0.0-py2.py3-none-any.whl (178 kB)\n",
      "Collecting idna<3,>=2.5\n",
      "  Using cached idna-2.10-py2.py3-none-any.whl (58 kB)\n",
      "Installing collected packages: urllib3, idna, chardet, requests, nose, random-word\n",
      "Successfully installed chardet-4.0.0 idna-2.10 nose-1.3.7 random-word-1.0.7 requests-2.25.1 urllib3-1.26.6\n"
     ]
    }
   ],
   "source": [
    "!pip install random-word"
   ]
  },
  {
   "cell_type": "code",
   "execution_count": 144,
   "id": "b274386d",
   "metadata": {},
   "outputs": [
    {
     "name": "stdout",
     "output_type": "stream",
     "text": [
      "Collecting pyyaml\n",
      "  Downloading PyYAML-5.4.1-cp39-cp39-win_amd64.whl (213 kB)\n",
      "Installing collected packages: pyyaml\n",
      "Successfully installed pyyaml-5.4.1\n"
     ]
    }
   ],
   "source": [
    "!pip install pyyaml"
   ]
  },
  {
   "cell_type": "code",
   "execution_count": 15,
   "id": "71a916c2",
   "metadata": {},
   "outputs": [],
   "source": [
    "from random_word import RandomWords\n",
    "r = RandomWords()\n",
    "\n",
    "document = r.get_random_words()\n",
    "day = r.word_of_the_day()"
   ]
  },
  {
   "cell_type": "code",
   "execution_count": 171,
   "id": "c19a6d0d",
   "metadata": {},
   "outputs": [
    {
     "name": "stdout",
     "output_type": "stream",
     "text": [
      "\n",
      "document: ['amazonian', 'tottered', 'monoamines', 'surveillances', 'engineerings', 'forestalling', 'eyeblack', 'polemical', 'unbolded', 'be-inked', 'prickmadam', 'tap-borer', 'NHLer', 'focusing', 'toponymic', 'pleopoda', 'shame', 'governess', 'road-runner', 'functionally', 'industry', 'inexcusability', 'safe-guarding', 'whinner', 'varicosity', 'lieth', 'goosery', 'land-service', 'suspensible', 'operational', 'sharply', 'odynophagia', 'voetsek', 'vortices', 'enlarges', 'icemakers', 'sewellel', 'pronominal', 'tussah', 'triers', 'maypoles', 'discontinuously', 'aburst', 'unhung', 'lipidoids', 'drearihead', 'extending', 'sophists', 'urubu', 'mutters']\n"
     ]
    }
   ],
   "source": [
    "print(f\"\\ndocument: {document}\")"
   ]
  },
  {
   "cell_type": "code",
   "execution_count": 178,
   "id": "a60b7a73",
   "metadata": {},
   "outputs": [
    {
     "name": "stdout",
     "output_type": "stream",
     "text": [
      "궁금해서 출력해 봄:  {\"word\": \"lurdane\", \"definations\": [{\"source\": \"wiktionary\", \"text\": \"A lazy, stupid person; a sluggard.\", \"note\": null, \"partOfSpeech\": \"noun\"}]}\n"
     ]
    }
   ],
   "source": [
    "print(\"궁금해서 출력해 봄: \",day)"
   ]
  },
  {
   "cell_type": "markdown",
   "id": "85b4b849",
   "metadata": {},
   "source": [
    "- 방법1"
   ]
  },
  {
   "cell_type": "code",
   "execution_count": 186,
   "id": "a6237f33",
   "metadata": {},
   "outputs": [
    {
     "name": "stdout",
     "output_type": "stream",
     "text": [
      "{'regrinds': 1, 'prorogator': 1, 'music-loft': 1, 'periorbital': 1, 'rustproofs': 1, 'parabola': 1, 'toastrack': 1, 'skillfully': 1, 'cablegrams': 1, 'pufferfishes': 1, 'puffiest': 1, 'glimpses': 1, 'oligarchize': 1, 'sulfuration': 1, 'conspiracism': 1, 'confectioning': 1, 'greaseball': 1, 'prejudge': 1, 'roofed': 1, 'centerpieces': 1, 'northbound': 1, 'widgeons': 1, 'proceeded': 1, 'indignancy': 1, 'hellbound': 1, 'hypopygium': 1, 'sewerage': 1, 'firebrick': 1, 'enrollee': 1, 'megalitres': 1, 'bioacoustics': 1, 'Kokyo': 1, 'chattering': 1, 'paisans': 1, 'sparto': 1, 'Moseley': 1, 'practics': 1, 'unsurety': 1, 'antinephritic': 1, 'unhobbled': 1, 'whiggism': 1, 'greenweed': 1, 'kidaris': 1, 'Muskogee': 1, 'seeding': 1, 'brook-fish': 1, 'machine-shop': 1, 'angelophany': 1, 'mincingly': 1, 'straight-armed': 1}\n"
     ]
    }
   ],
   "source": [
    "word_counts = {}\n",
    "for word in document:\n",
    "    if word in word_counts:\n",
    "        word_counts[word] += 1\n",
    "    else:\n",
    "        word_counts[word] = 1\n",
    "print(word_counts)"
   ]
  },
  {
   "cell_type": "markdown",
   "id": "8d1af066",
   "metadata": {},
   "source": [
    "- 방법2"
   ]
  },
  {
   "cell_type": "code",
   "execution_count": 188,
   "id": "bc476f81",
   "metadata": {},
   "outputs": [
    {
     "name": "stdout",
     "output_type": "stream",
     "text": [
      "{'regrinds': 1, 'prorogator': 1, 'music-loft': 1, 'periorbital': 1, 'rustproofs': 1, 'parabola': 1, 'toastrack': 1, 'skillfully': 1, 'cablegrams': 1, 'pufferfishes': 1, 'puffiest': 1, 'glimpses': 1, 'oligarchize': 1, 'sulfuration': 1, 'conspiracism': 1, 'confectioning': 1, 'greaseball': 1, 'prejudge': 1, 'roofed': 1, 'centerpieces': 1, 'northbound': 1, 'widgeons': 1, 'proceeded': 1, 'indignancy': 1, 'hellbound': 1, 'hypopygium': 1, 'sewerage': 1, 'firebrick': 1, 'enrollee': 1, 'megalitres': 1, 'bioacoustics': 1, 'Kokyo': 1, 'chattering': 1, 'paisans': 1, 'sparto': 1, 'Moseley': 1, 'practics': 1, 'unsurety': 1, 'antinephritic': 1, 'unhobbled': 1, 'whiggism': 1, 'greenweed': 1, 'kidaris': 1, 'Muskogee': 1, 'seeding': 1, 'brook-fish': 1, 'machine-shop': 1, 'angelophany': 1, 'mincingly': 1, 'straight-armed': 1}\n",
      "True\n"
     ]
    }
   ],
   "source": [
    "word_counts2 = {}\n",
    "for word in document:\n",
    "    try: \n",
    "        word_counts2[word] +=1\n",
    "    except KeyError:\n",
    "        word_counts2[word] = 1\n",
    "print(word_counts2)\n",
    "print(word_counts2== word_counts)"
   ]
  },
  {
   "cell_type": "markdown",
   "id": "dc5dd446",
   "metadata": {},
   "source": [
    "- 방법3"
   ]
  },
  {
   "cell_type": "code",
   "execution_count": 190,
   "id": "dab135d8",
   "metadata": {},
   "outputs": [
    {
     "name": "stdout",
     "output_type": "stream",
     "text": [
      "{'regrinds': 1, 'prorogator': 1, 'music-loft': 1, 'periorbital': 1, 'rustproofs': 1, 'parabola': 1, 'toastrack': 1, 'skillfully': 1, 'cablegrams': 1, 'pufferfishes': 1, 'puffiest': 1, 'glimpses': 1, 'oligarchize': 1, 'sulfuration': 1, 'conspiracism': 1, 'confectioning': 1, 'greaseball': 1, 'prejudge': 1, 'roofed': 1, 'centerpieces': 1, 'northbound': 1, 'widgeons': 1, 'proceeded': 1, 'indignancy': 1, 'hellbound': 1, 'hypopygium': 1, 'sewerage': 1, 'firebrick': 1, 'enrollee': 1, 'megalitres': 1, 'bioacoustics': 1, 'Kokyo': 1, 'chattering': 1, 'paisans': 1, 'sparto': 1, 'Moseley': 1, 'practics': 1, 'unsurety': 1, 'antinephritic': 1, 'unhobbled': 1, 'whiggism': 1, 'greenweed': 1, 'kidaris': 1, 'Muskogee': 1, 'seeding': 1, 'brook-fish': 1, 'machine-shop': 1, 'angelophany': 1, 'mincingly': 1, 'straight-armed': 1}\n"
     ]
    }
   ],
   "source": [
    "word_counts3 = {}\n",
    "for word in document:\n",
    "    previous_count = word_counts3.get(word,0)#없으면 0으로 대체\n",
    "    word_counts3[word] = previous_count + 1\n",
    "\n",
    "print(word_counts3)"
   ]
  },
  {
   "cell_type": "markdown",
   "id": "e9a972a0",
   "metadata": {},
   "source": [
    "***defaultdict***: \n",
    "- 만약 존재하지 않는 키가 주어진다면 defaultdict는 이 키와 인자에서 주어진 값으로 dict에 새로운 항목을 추가해 줌\n",
    "- 해당 키가 없다는 error 안 뜸\n",
    "- 만약 키를 사용해서 어떤 결과를 수집하는 중이라면 매번 키가 존재하는지 확인할 필요없이 딕셔너리를 생성할 수 있다."
   ]
  },
  {
   "cell_type": "code",
   "execution_count": 2,
   "id": "06f82747",
   "metadata": {},
   "outputs": [],
   "source": [
    "from collections import defaultdict"
   ]
  },
  {
   "cell_type": "code",
   "execution_count": 5,
   "id": "e9fea49c",
   "metadata": {},
   "outputs": [
    {
     "name": "stdout",
     "output_type": "stream",
     "text": [
      "defaultdict(<class 'int'>, {'venomously': 1, \"'twas\": 1, 'magnifier': 1, 'wuthering': 1, 'doughballs': 1, 'precipitancy': 1, 'sybilline': 1, 'proponents': 1, 'braaing': 1, 'childraising': 1, 'top-and': 1, 'telexed': 1, 'praetorium': 1, 'refuse': 1, 'rimes': 1, 'interim': 1, 'wind-drift': 1, 'haltering': 1, 'Herrnhuter': 1, 'sandbath': 1, 'frontopontine': 1, 'hydranth': 1, 'eroticized': 1, 'shemagh': 1, 'marchese': 1, 'homogenate': 1, 'Gherkin': 1, 'helper': 1, 'terminal': 1, 'lactoproteins': 1, 'seven-membered': 1, 'muscularis': 1, 'northeasters': 1, 'unpower': 1, 'undressed': 1, 'conceptually': 1, 'tacitness': 1, 'correcteth': 1, 'triorchidism': 1, 'lace-curtain': 1, 'enervates': 1, 'phonemicize': 1, 'judiciality': 1, 'mosts': 1, 'numbskull': 1, 'directiveness': 1, 'squire': 1, 'portly': 1, 'voluntaristic': 1, 'boren': 1})\n"
     ]
    }
   ],
   "source": [
    "word_counts_d = defaultdict(int)\n",
    "for word in document:\n",
    "    word_counts_d[word]+=1\n",
    "print(word_counts_d)"
   ]
  },
  {
   "cell_type": "markdown",
   "id": "07bf419f",
   "metadata": {},
   "source": [
    "- 리스트, 딕셔너리 혹은 직접 만든 함수를 인자에 넣어줄 수 있다"
   ]
  },
  {
   "cell_type": "code",
   "execution_count": 6,
   "id": "bc274ccb",
   "metadata": {},
   "outputs": [
    {
     "name": "stdout",
     "output_type": "stream",
     "text": [
      "defaultdict(<class 'list'>, {})\n",
      "defaultdict(<class 'list'>, {2: [1]})\n"
     ]
    }
   ],
   "source": [
    "dd_list = defaultdict(list) #list()는 빈 리스트를 생성\n",
    "print(dd_list)\n",
    "dd_list[2].append(1)\n",
    "print(dd_list)"
   ]
  },
  {
   "cell_type": "code",
   "execution_count": 7,
   "id": "6d689510",
   "metadata": {},
   "outputs": [
    {
     "name": "stdout",
     "output_type": "stream",
     "text": [
      "defaultdict(<class 'dict'>, {})\n",
      "defaultdict(<class 'dict'>, {'Joel': {'City': 'Seattle'}})\n"
     ]
    }
   ],
   "source": [
    "dd_dict = defaultdict(dict) #dict()는 빈 딕셔너리를 생성\n",
    "print(dd_dict)\n",
    "dd_dict[\"Joel\"][\"City\"] = \"Seattle\"\n",
    "print(dd_dict)"
   ]
  },
  {
   "cell_type": "code",
   "execution_count": 9,
   "id": "f365ca67",
   "metadata": {},
   "outputs": [
    {
     "name": "stdout",
     "output_type": "stream",
     "text": [
      "<function <lambda> at 0x0000022191004040>\n",
      "defaultdict(<function <lambda> at 0x0000022191004280>, {})\n",
      "defaultdict(<function <lambda> at 0x0000022191004280>, {2: [0, 1]})\n"
     ]
    }
   ],
   "source": [
    "m = lambda:[0,0]\n",
    "print(m)\n",
    "dd_pair = defaultdict(lambda: [0,0])\n",
    "print(dd_pair)\n",
    "dd_pair[2][1] = 1\n",
    "print(dd_pair)"
   ]
  },
  {
   "cell_type": "markdown",
   "id": "67bc6515",
   "metadata": {},
   "source": [
    "## 2.12 Counter<br>\n",
    "- 연속된 값을 defaultdict(int)와 유사한 객체로 변환해주며, 키와 값의 빈도를 연결시켜 줌"
   ]
  },
  {
   "cell_type": "code",
   "execution_count": 17,
   "id": "25544b3b",
   "metadata": {},
   "outputs": [
    {
     "name": "stdout",
     "output_type": "stream",
     "text": [
      "Counter({0: 2, 1: 1, 2: 1})\n"
     ]
    }
   ],
   "source": [
    "from collections import Counter\n",
    "c = Counter([0,1,2,0])\n",
    "print(c)#0: 두개, 1: 1개, 2: 1개"
   ]
  },
  {
   "cell_type": "markdown",
   "id": "ba82c052",
   "metadata": {},
   "source": [
    "- 특정 문서에서 단어의 개수를 셀 때도 유용"
   ]
  },
  {
   "cell_type": "code",
   "execution_count": 14,
   "id": "9cf22ddc",
   "metadata": {},
   "outputs": [
    {
     "name": "stdout",
     "output_type": "stream",
     "text": [
      "Counter({'venomously': 1, \"'twas\": 1, 'magnifier': 1, 'wuthering': 1, 'doughballs': 1, 'precipitancy': 1, 'sybilline': 1, 'proponents': 1, 'braaing': 1, 'childraising': 1, 'top-and': 1, 'telexed': 1, 'praetorium': 1, 'refuse': 1, 'rimes': 1, 'interim': 1, 'wind-drift': 1, 'haltering': 1, 'Herrnhuter': 1, 'sandbath': 1, 'frontopontine': 1, 'hydranth': 1, 'eroticized': 1, 'shemagh': 1, 'marchese': 1, 'homogenate': 1, 'Gherkin': 1, 'helper': 1, 'terminal': 1, 'lactoproteins': 1, 'seven-membered': 1, 'muscularis': 1, 'northeasters': 1, 'unpower': 1, 'undressed': 1, 'conceptually': 1, 'tacitness': 1, 'correcteth': 1, 'triorchidism': 1, 'lace-curtain': 1, 'enervates': 1, 'phonemicize': 1, 'judiciality': 1, 'mosts': 1, 'numbskull': 1, 'directiveness': 1, 'squire': 1, 'portly': 1, 'voluntaristic': 1, 'boren': 1})\n"
     ]
    }
   ],
   "source": [
    "word_counts_c = Counter(document)\n",
    "print(word_counts_c)"
   ]
  },
  {
   "cell_type": "markdown",
   "id": "3e6b1c0e",
   "metadata": {},
   "source": [
    "- Counter 객체 내 most_common 함수"
   ]
  },
  {
   "cell_type": "code",
   "execution_count": 24,
   "id": "dc4b7c48",
   "metadata": {},
   "outputs": [
    {
     "name": "stdout",
     "output_type": "stream",
     "text": [
      "Counter({'decoherer': 31, 'tornadic': 23, 'sintu': 23, 'zoster': 23, 'numbering': 19, 'polyisobutylene': 19, 'Lytton': 19, 'wattle-tree': 18, 'tephra': 17, 'transfections': 16, 'systematists': 16, 'hallanshaker': 16, 'premed': 16, 'merchandize': 14, 'aërophone': 14, 'sailed': 14, 'nonutilized': 14, 'cementite': 12, 'Zohar': 9, 'alchemize': 7, 'ladyism': 1, 'Plauen': 1, 'palmate': 1, 'manicuring': 1, 'wheeler-dealer': 1, 'escalations': 1, 'operous': 1, 'words': 1, 'diamictites': 1, 'tegumen': 1, 'arousals': 1, 'outwards': 1, 'harvest-month': 1, 'prodigiousness': 1, 'Co-ordinated': 1, 'taming': 1, 'minnie mouse': 1, 'middling': 1, 'waiters': 1, 'platin': 1, 'Xvid_MP3': 1, 'taskmistress': 1, 'four-in-hand': 1, 'Parry': 1, 'surveilled': 1, 'faradaic': 1, 'disallowing': 1, 'anthem': 1, 'cathode': 1, 'unscathed': 1, 'aurify': 1, 'Massai': 1, 'Czechs': 1, 'scuffle': 1, 'helmed': 1, \"RV'ing\": 1, 'bushiest': 1, 'cheesemaker': 1, 'realised': 1, 'prominencies': 1, 'sagaciously': 1, 'reidentifying': 1, 'fox-tailed': 1, 'cross-reference': 1, 'scattershot': 1, 'prompt-note': 1, 'Greta': 1, 'lambdacism': 1, 'echolocate': 1, 'Phillipp': 1, 'theistic': 1, 'nondrugged': 1, 'statist': 1, 'berylliosis': 1, 'lead-tree': 1, 'Almighty': 1, 'adrenaline': 1, 'sibylline': 1, 'ploughboy': 1, 'communistically': 1, 'fruitage': 1, 'dressless': 1, 'Khorramshahr': 1, 'oasis': 1, 'amphid': 1, 'touzles': 1, 'detachment': 1, 'belis': 1, 'slideshow': 1, 'grill': 1, 'perman': 1, 'ansibles': 1, 'umpteen': 1, 'permatemp': 1, 'paperbag': 1, 'Anaprox': 1, 'euterpean': 1, 'acheté': 1, 'high-mindedness': 1, 'sower': 1, 'defraudation': 1, 'offings': 1, 'takingness': 1, 'mordacity': 1, 'fantasizes': 1, 'top-boot': 1, 'unsurpassably': 1, 'slouchers': 1, 'water-battery': 1, 'microsleep': 1, 'renormalisation': 1, 'flutter-wheel': 1, 'Ruwenzori': 1, 'horse-sickness': 1, 'bearded': 1, 'bimbo': 1, 'bang-beggar': 1, 'galaxian': 1, 'upgradation': 1, 'indeclinably': 1, 'rood-altar': 1, '-resistant': 1, 'woops': 1, 'testimonials': 1, 'grins': 1, 'unsurety': 1, 'encrusts': 1, 'Mosby': 1, 'selenites': 1, 'divarication': 1, 'outeats': 1, 'storm-tossed': 1, 'nondeliberate': 1, 'nonacademic': 1, 'unworldly': 1, 'subinvolution': 1, 'unfunniest': 1, 'tillman': 1, 'antidiabetes': 1, 'chickenhouses': 1, 'rebbes': 1, 'screecher': 1, 'cogitates': 1, 'torment': 1, 'younged': 1, 'woodnote': 1, 'longjohns': 1, 'swamp-maple': 1, 'ænigmas': 1, 'motherhood': 1, 'crewels': 1, 'dæmon': 1, 'studious': 1, 'mistruster': 1, 'knell': 1, 'papelardie': 1, 'nonoptical': 1, 'instructress': 1, 'manatee': 1, 'moval': 1, 'remated': 1, 'sleeks': 1, 'unwearably': 1, 'India Pale Ales': 1, 'shawlless': 1, 'Gulag': 1, 'enrollers': 1, 'interlude': 1, 'firebrick': 1, 'overachieved': 1, 'perfumer': 1, 'flowchart': 1, 'interacting': 1, 'resheathes': 1, 'taxometer': 1, 'OVERDUE': 1, 'demonry': 1, 'borecole': 1, 'awrong': 1, 'massage': 1, 'tullibee': 1, 'dutifully': 1, 'pardah': 1, 'hoose': 1, 'signallers': 1, 'Saamis': 1, 'smilax': 1, 'anadiplosis': 1, 'nicor': 1, 'bewildering': 1, 'unburied': 1, 'altercates': 1, 'allergists': 1, 'longeing': 1, 'emolumentary': 1, 'wrongdoing': 1, 'lovelessness': 1, 'jurisprudence': 1, 'heights': 1, 'hypopygium': 1, 'unalterability': 1, 'Thurs': 1, 'combatable': 1, 'knowe': 1, 'switcheroos': 1, 'junkanoo': 1, 'wheeziest': 1, 'thruway': 1, 'charitative': 1, 'permittees': 1, 'archaebacterial': 1, 'hatful': 1, 'hybridization': 1, 'tonsillotomy': 1, 'acenes': 1, 'awakens': 1, 'bedded': 1, 'urbanise': 1, 'Frankfurt': 1, 'fire-sale': 1, 'unsafeness': 1, 'sunsetlike': 1, 'ungird': 1, 'punishably': 1, 'earthiest': 1, 'lumbering': 1, 'puffeth': 1, 'preparateur': 1, 'unfillable': 1, 'degenerative': 1, 'zoographic': 1, 'decreed': 1, 'praiseless': 1, 'name-dropping': 1, 'East German': 1, 'trinominal': 1, 'crystallize': 1, 'under-served': 1, 'stand-patter': 1, 'governess': 1, 'unsheriff': 1, 'misunderstand': 1, 'lymantria': 1, 'annoyed': 1, 'erodes': 1, 'sexologists': 1, 'single-mindedly': 1, 'connection': 1, 'reinstalment': 1, 'reeker': 1, 'Jacksonesque': 1, 'contriver': 1, 'bathes': 1, 'unsullied': 1, 'vilifiers': 1, 'stomache': 1, 'dabbler': 1, 'undemanding': 1, 'Lepus': 1, 'configurators': 1, 're-evaluates': 1, 'ditch': 1, 'hodman': 1, 'parhelion': 1, 'bistered': 1, 'cogitator': 1, 'kalam': 1, 'hypernormal': 1, 'mistify': 1, 'unseasonal': 1, 'unobligated': 1, 'whiteflies': 1, 'bussed': 1, 'Waksman': 1, 'turriculate': 1, 'eegrass': 1, 'night-blind': 1, 'deuterogamy': 1, 'poust': 1, 'pumey': 1, 'hexadecane': 1, 'ministrative': 1, 'thyrotoxic': 1, 'fuckin': 1, 'damosella': 1, 'miscite': 1, 'weaver-finch': 1, 'epiphyses': 1, 'glassed-in': 1, 'modishest': 1, 'sheathers': 1, 'sniff': 1, 'rinforzando': 1, 'stairgate': 1, 'dismantle': 1, 'grubble': 1, 'discrowning': 1, 'Galway': 1, 'plagiarises': 1, 'metallists': 1, 'portend': 1, 'sawlog': 1, 'navigates': 1, 'grafting': 1, 'religiously': 1, 'gowning': 1, 'recreation': 1, 'inequivalve': 1, 'beneficience': 1, 'challie': 1, 'criers': 1, 'glucophage': 1, 'titulars': 1, 'venipuncture': 1, 'sorcerizing': 1, 'okara': 1, 'outkicking': 1, 'nonadhesive': 1, 'bilateran': 1, 'mirages': 1, 'embold': 1, 'tetramerous': 1, 'flacon': 1, 'judged': 1, 'uncopyable': 1, 'wimpier': 1, 'forelock': 1, 'sulfisoxazole': 1, 'panhandlers': 1, 'avoiders': 1, 'Shloime': 1, 'anesthetizing': 1, 'responses': 1, 'manorexia': 1, 'unbiassed': 1, 'horse-coursing': 1, 'Mamoudzou': 1, 'recalling': 1, 'delegitimise': 1, 'spoilsport': 1, 'crousely': 1, 'blockaded': 1, 'chickaree': 1, 'thickish': 1, 'workday': 1, 'left-handedness': 1, 'Wolff': 1, 'ergodically': 1, 'culturable': 1, 'bantamweight': 1})\n"
     ]
    }
   ],
   "source": [
    "document2 = r.get_random_words()\n",
    "document = document + document2\n",
    "\n",
    "import random\n",
    "for i in range(300):\n",
    "    n = random.randint(1,20)\n",
    "    document.append(document[n])\n",
    "word_counts_c = Counter(document)\n",
    "print(word_counts_c)"
   ]
  },
  {
   "cell_type": "code",
   "execution_count": 26,
   "id": "0bac0b97",
   "metadata": {},
   "outputs": [
    {
     "name": "stdout",
     "output_type": "stream",
     "text": [
      "decoherer 31\n",
      "tornadic 23\n",
      "sintu 23\n",
      "zoster 23\n",
      "numbering 19\n",
      "polyisobutylene 19\n",
      "Lytton 19\n",
      "wattle-tree 18\n",
      "tephra 17\n",
      "transfections 16\n"
     ]
    }
   ],
   "source": [
    "#가장 자주 나오는 단어 10개와 이 단어들의 빈도수 출력\n",
    "for word, count in word_counts_c.most_common(10):\n",
    "    print(word,count)"
   ]
  },
  {
   "cell_type": "markdown",
   "id": "fb573597",
   "metadata": {},
   "source": [
    "## 2.13 Set\n",
    "- 파이썬의 데이터 구조 중 유일한 ***항목의 집합***을 나타내는 구조\n",
    "- 중괄호 { } 사용해서 정의\n",
    "- set() 사용해서 정의"
   ]
  },
  {
   "cell_type": "code",
   "execution_count": 27,
   "id": "026fd6b3",
   "metadata": {},
   "outputs": [],
   "source": [
    "primes_below_10 = {2,3,5,7}"
   ]
  },
  {
   "cell_type": "code",
   "execution_count": 30,
   "id": "f53a1e69",
   "metadata": {},
   "outputs": [
    {
     "name": "stdout",
     "output_type": "stream",
     "text": [
      "{1, 2, 3}\n"
     ]
    }
   ],
   "source": [
    "s = set()\n",
    "s.add(2)\n",
    "s.add(1)\n",
    "s.add(3)\n",
    "s.add(2)\n",
    "print(s)#자동으로 정렬됨 + 중복 제거"
   ]
  },
  {
   "cell_type": "code",
   "execution_count": 31,
   "id": "f6ccc37c",
   "metadata": {},
   "outputs": [
    {
     "data": {
      "text/plain": [
       "3"
      ]
     },
     "execution_count": 31,
     "metadata": {},
     "output_type": "execute_result"
    }
   ],
   "source": [
    "len(s)"
   ]
  },
  {
   "cell_type": "code",
   "execution_count": 35,
   "id": "8c5677d4",
   "metadata": {},
   "outputs": [
    {
     "name": "stdout",
     "output_type": "stream",
     "text": [
      "y:True, z:False\n"
     ]
    }
   ],
   "source": [
    "y = 2 in s\n",
    "z = 9 in s\n",
    "print(f\"y:{y}, z:{z}\")"
   ]
  },
  {
   "cell_type": "markdown",
   "id": "f635ddf2",
   "metadata": {},
   "source": [
    "- in은 집합에서 굉장히 빠르게 작동한다.\n",
    "- 특정 항목의 존재 여부를 확인해 보기 위해서 리스트를 사용하는 것보다 집합을 사용하는 것이 훨씬 효율적이다"
   ]
  },
  {
   "cell_type": "code",
   "execution_count": 38,
   "id": "2cdd03b1",
   "metadata": {},
   "outputs": [],
   "source": [
    "#리스트에서 존재여부 확인\n",
    "stopwords_list = [\"a\",\"an\",\"at\"] + document + [\"yet\",\"you\"]"
   ]
  },
  {
   "cell_type": "code",
   "execution_count": 37,
   "id": "e57e1000",
   "metadata": {},
   "outputs": [
    {
     "data": {
      "text/plain": [
       "False"
      ]
     },
     "execution_count": 37,
     "metadata": {},
     "output_type": "execute_result"
    }
   ],
   "source": [
    "\"zip\" in stopwords_list#모든 항목 확인해야 함"
   ]
  },
  {
   "cell_type": "code",
   "execution_count": 39,
   "id": "e4c31d15",
   "metadata": {},
   "outputs": [
    {
     "data": {
      "text/plain": [
       "False"
      ]
     },
     "execution_count": 39,
     "metadata": {},
     "output_type": "execute_result"
    }
   ],
   "source": [
    "#집합에서 존재여부 확인\n",
    "stopwords_set = set(stopwords_list)\n",
    "\"zip\" in stopwords_set#빠르게 확인 가능"
   ]
  },
  {
   "cell_type": "code",
   "execution_count": 40,
   "id": "c5940863",
   "metadata": {},
   "outputs": [],
   "source": [
    "#중복된 원소가 없는 Set\n",
    "item_list = [1,2,3,1,2,3]\n",
    "num_items = len(item_list)\n",
    "item_set = set(item_list)\n",
    "num_distinct_items = len(item_set)\n",
    "distinct_item_list = list(item_set)"
   ]
  },
  {
   "cell_type": "markdown",
   "id": "94c697c6",
   "metadata": {},
   "source": [
    "## 2.14 흐름 제어\n",
    "- if를 사용하면 조건에 따라 코드를 제어할 수 있다"
   ]
  },
  {
   "cell_type": "code",
   "execution_count": 43,
   "id": "676f4eef",
   "metadata": {},
   "outputs": [
    {
     "name": "stdout",
     "output_type": "stream",
     "text": [
      "when all else fails use else (if you want to )\n"
     ]
    }
   ],
   "source": [
    "if 1>2:\n",
    "    message = \"if only 1 were greater than two...\"\n",
    "elif 1>3:\n",
    "    message = \"elif stands for 'else if'\"\n",
    "else:\n",
    "    message = \"when all else fails use else (if you want to )\"\n",
    "print(message)"
   ]
  },
  {
   "cell_type": "code",
   "execution_count": 44,
   "id": "34b52e3e",
   "metadata": {},
   "outputs": [
    {
     "name": "stdout",
     "output_type": "stream",
     "text": [
      "입력: 1\n",
      "odd\n"
     ]
    }
   ],
   "source": [
    "x = int(input(\"입력: \"))\n",
    "parity = \"even\" if x%2==0 else \"odd\"\n",
    "print(parity)"
   ]
  },
  {
   "cell_type": "code",
   "execution_count": 46,
   "id": "74b2a08f",
   "metadata": {},
   "outputs": [
    {
     "name": "stdout",
     "output_type": "stream",
     "text": [
      "0 is less than 10\n",
      "1 is less than 10\n",
      "2 is less than 10\n",
      "3 is less than 10\n",
      "4 is less than 10\n",
      "5 is less than 10\n",
      "6 is less than 10\n",
      "7 is less than 10\n",
      "8 is less than 10\n",
      "9 is less than 10\n"
     ]
    }
   ],
   "source": [
    "#while\n",
    "x = 0\n",
    "while x<10:\n",
    "    print(f\"{x} is less than 10\")\n",
    "    x += 1"
   ]
  },
  {
   "cell_type": "code",
   "execution_count": 48,
   "id": "807b85e0",
   "metadata": {},
   "outputs": [
    {
     "name": "stdout",
     "output_type": "stream",
     "text": [
      "0 is less than 10\n",
      "1 is less than 10\n",
      "2 is less than 10\n",
      "3 is less than 10\n",
      "4 is less than 10\n",
      "5 is less than 10\n",
      "6 is less than 10\n",
      "7 is less than 10\n",
      "8 is less than 10\n",
      "9 is less than 10\n"
     ]
    }
   ],
   "source": [
    "#for\n",
    "for x in range(10):\n",
    "    print(f\"{x} is less than 10\")"
   ]
  },
  {
   "cell_type": "code",
   "execution_count": 51,
   "id": "9fad4e7c",
   "metadata": {},
   "outputs": [
    {
     "name": "stdout",
     "output_type": "stream",
     "text": [
      "0\n",
      "1\n",
      "2\n",
      "4\n",
      "6\n"
     ]
    }
   ],
   "source": [
    "#continue, break\n",
    "for x in range(10):\n",
    "    if x == 3:\n",
    "        continue#현재 if문 통과-> 다음 경우로 넘어감\n",
    "    if x == 7:\n",
    "        break\n",
    "    if x == 5:\n",
    "        continue\n",
    "    print(x)"
   ]
  },
  {
   "cell_type": "markdown",
   "id": "899d8df0",
   "metadata": {},
   "source": [
    "## 2.15 True와 False"
   ]
  },
  {
   "cell_type": "code",
   "execution_count": 53,
   "id": "569aa420",
   "metadata": {},
   "outputs": [],
   "source": [
    "one_is_less_than_two = 1<2\n",
    "true_equals_false = True == False"
   ]
  },
  {
   "cell_type": "code",
   "execution_count": 54,
   "id": "ca11376d",
   "metadata": {},
   "outputs": [
    {
     "name": "stdout",
     "output_type": "stream",
     "text": [
      "True\n",
      "False\n"
     ]
    }
   ],
   "source": [
    "print(one_is_less_than_two)\n",
    "print(true_equals_false)"
   ]
  },
  {
   "cell_type": "markdown",
   "id": "d644d1ba",
   "metadata": {},
   "source": [
    "- None: 존재하지 않는 값"
   ]
  },
  {
   "cell_type": "code",
   "execution_count": 73,
   "id": "e58ce359",
   "metadata": {},
   "outputs": [],
   "source": [
    "x = None\n",
    "assert x == None, \"this is not the Pythonic way to check for None\""
   ]
  },
  {
   "cell_type": "code",
   "execution_count": 79,
   "id": "9fac1d37",
   "metadata": {},
   "outputs": [],
   "source": [
    "assert x is None, \"this is the Pythonic way to check for None\""
   ]
  },
  {
   "cell_type": "code",
   "execution_count": 80,
   "id": "1118ca62",
   "metadata": {},
   "outputs": [
    {
     "data": {
      "text/plain": [
       "True"
      ]
     },
     "execution_count": 80,
     "metadata": {},
     "output_type": "execute_result"
    }
   ],
   "source": [
    "x == None #안 씀"
   ]
  },
  {
   "cell_type": "code",
   "execution_count": 82,
   "id": "3b39a12e",
   "metadata": {},
   "outputs": [
    {
     "data": {
      "text/plain": [
       "True"
      ]
     },
     "execution_count": 82,
     "metadata": {},
     "output_type": "execute_result"
    }
   ],
   "source": [
    "x is None #이렇게 써야 함"
   ]
  },
  {
   "cell_type": "markdown",
   "id": "937d0d20",
   "metadata": {},
   "source": [
    "거짓(False)와 동일한 의미를 갖는 것:\n",
    "- False\n",
    "- None\n",
    "- [  ] 빈 리스트 \n",
    "- { } 빈 딕셔너리\n",
    "- \"\"\n",
    "- set()\n",
    "- 0\n",
    "- 0.0\n",
    "\n",
    "<br>\n",
    "나머지 거의 모든 것은 참(True)를 의미"
   ]
  },
  {
   "cell_type": "code",
   "execution_count": 88,
   "id": "9e8da074",
   "metadata": {},
   "outputs": [
    {
     "name": "stdout",
     "output_type": "stream",
     "text": [
      "a\n"
     ]
    }
   ],
   "source": [
    "def some_function_that_returns_a_string():\n",
    "    return \"abc\"\n",
    "s = some_function_that_returns_a_string()\n",
    "if s:\n",
    "    first_char = s[0]\n",
    "else:\n",
    "    first_char=\"\"\n",
    "print(first_char)"
   ]
  },
  {
   "cell_type": "code",
   "execution_count": 90,
   "id": "53be3ce7",
   "metadata": {},
   "outputs": [
    {
     "name": "stdout",
     "output_type": "stream",
     "text": [
      "a\n"
     ]
    }
   ],
   "source": [
    "first_char = s and s[0]\n",
    "print(first_char)"
   ]
  },
  {
   "cell_type": "code",
   "execution_count": 91,
   "id": "8a8cff0f",
   "metadata": {},
   "outputs": [
    {
     "name": "stdout",
     "output_type": "stream",
     "text": [
      "False\n"
     ]
    }
   ],
   "source": [
    "andd = \"a\" and False\n",
    "print(andd)"
   ]
  },
  {
   "cell_type": "markdown",
   "id": "6ef60806",
   "metadata": {},
   "source": [
    "- all 함수: 리스트의 모든 항목이 참이면 True 반환\n",
    "- any 함수: 리스트의 적어도 하나의 항목이 참이라면 True 반환"
   ]
  },
  {
   "cell_type": "code",
   "execution_count": 92,
   "id": "d76ae2d0",
   "metadata": {},
   "outputs": [
    {
     "data": {
      "text/plain": [
       "True"
      ]
     },
     "execution_count": 92,
     "metadata": {},
     "output_type": "execute_result"
    }
   ],
   "source": [
    "all([True,1,{3}])"
   ]
  },
  {
   "cell_type": "code",
   "execution_count": 93,
   "id": "6633a688",
   "metadata": {},
   "outputs": [
    {
     "data": {
      "text/plain": [
       "False"
      ]
     },
     "execution_count": 93,
     "metadata": {},
     "output_type": "execute_result"
    }
   ],
   "source": [
    "all([0,True])"
   ]
  },
  {
   "cell_type": "code",
   "execution_count": 94,
   "id": "37abe865",
   "metadata": {},
   "outputs": [
    {
     "data": {
      "text/plain": [
       "False"
      ]
     },
     "execution_count": 94,
     "metadata": {},
     "output_type": "execute_result"
    }
   ],
   "source": [
    "all([{},1])"
   ]
  },
  {
   "cell_type": "code",
   "execution_count": 95,
   "id": "46c62f67",
   "metadata": {},
   "outputs": [
    {
     "data": {
      "text/plain": [
       "False"
      ]
     },
     "execution_count": 95,
     "metadata": {},
     "output_type": "execute_result"
    }
   ],
   "source": [
    "all([set()])"
   ]
  },
  {
   "cell_type": "code",
   "execution_count": 96,
   "id": "34d33979",
   "metadata": {},
   "outputs": [
    {
     "data": {
      "text/plain": [
       "False"
      ]
     },
     "execution_count": 96,
     "metadata": {},
     "output_type": "execute_result"
    }
   ],
   "source": [
    "any([])#해설: 참인 항목이 없기 때문에"
   ]
  },
  {
   "cell_type": "code",
   "execution_count": 97,
   "id": "a5bb98ef",
   "metadata": {},
   "outputs": [
    {
     "data": {
      "text/plain": [
       "True"
      ]
     },
     "execution_count": 97,
     "metadata": {},
     "output_type": "execute_result"
    }
   ],
   "source": [
    "any([1,[]])"
   ]
  },
  {
   "cell_type": "code",
   "execution_count": 98,
   "id": "eae8ff6f",
   "metadata": {},
   "outputs": [
    {
     "data": {
      "text/plain": [
       "True"
      ]
     },
     "execution_count": 98,
     "metadata": {},
     "output_type": "execute_result"
    }
   ],
   "source": [
    "all([])#?!!??!!?!?!?!?!?!?!?!!!!!!!!!!!!???????????? 해설: 거짓된 항목이 없기 때문에"
   ]
  },
  {
   "cell_type": "markdown",
   "id": "af9da029",
   "metadata": {},
   "source": [
    "## 2.16 정렬"
   ]
  },
  {
   "cell_type": "markdown",
   "id": "f7fe50b6",
   "metadata": {},
   "source": [
    "- sort 메서드\n",
    "- sorted 함수\n",
    "\n",
    "기본적으로 오름차순으로 정렬"
   ]
  },
  {
   "cell_type": "code",
   "execution_count": 103,
   "id": "e66e4b7e",
   "metadata": {},
   "outputs": [
    {
     "name": "stdout",
     "output_type": "stream",
     "text": [
      "x:[4, 1, 2, 3], y:[1, 2, 3, 4]\n",
      "[1, 2, 3, 4]\n"
     ]
    }
   ],
   "source": [
    "x = [4,1,2,3]\n",
    "y = sorted(x)\n",
    "print(f\"x:{x}, y:{y}\")\n",
    "x.sort()\n",
    "print(x)#x 자체가 정렬됨"
   ]
  },
  {
   "cell_type": "markdown",
   "id": "925114dd",
   "metadata": {},
   "source": [
    "- reverse = True 내림차순 \n",
    "- key가 정렬 기준\n",
    "<br>ex 1) key = abs 절대값 씌운채 고려<br>ex 2) key = lambda x:x[1] 두번째 요소 고려"
   ]
  },
  {
   "cell_type": "code",
   "execution_count": 107,
   "id": "bc2569d9",
   "metadata": {},
   "outputs": [
    {
     "name": "stdout",
     "output_type": "stream",
     "text": [
      "[-4, 3, -2, 1]\n",
      "[-4, -2, 1, 3]\n"
     ]
    }
   ],
   "source": [
    "#절대값의 내림차순으로 리스트를 정렬\n",
    "x = sorted([-4,1,-2,3],key = abs, reverse=True)\n",
    "print(x)#절대값의 내림차순\n",
    "x.sort()\n",
    "print(x)#내림차순"
   ]
  },
  {
   "cell_type": "code",
   "execution_count": 110,
   "id": "0fc6ebde",
   "metadata": {},
   "outputs": [
    {
     "name": "stdout",
     "output_type": "stream",
     "text": [
      "[('decoherer', 31), ('tornadic', 23), ('sintu', 23), ('zoster', 23), ('numbering', 19), ('polyisobutylene', 19), ('Lytton', 19), ('wattle-tree', 18), ('tephra', 17), ('transfections', 16), ('systematists', 16), ('hallanshaker', 16), ('premed', 16), ('merchandize', 14), ('aërophone', 14), ('sailed', 14), ('nonutilized', 14), ('cementite', 12), ('Zohar', 9), ('alchemize', 7), ('ladyism', 1), ('Plauen', 1), ('palmate', 1), ('manicuring', 1), ('wheeler-dealer', 1), ('escalations', 1), ('operous', 1), ('words', 1), ('diamictites', 1), ('tegumen', 1), ('arousals', 1), ('outwards', 1), ('harvest-month', 1), ('prodigiousness', 1), ('Co-ordinated', 1), ('taming', 1), ('minnie mouse', 1), ('middling', 1), ('waiters', 1), ('platin', 1), ('Xvid_MP3', 1), ('taskmistress', 1), ('four-in-hand', 1), ('Parry', 1), ('surveilled', 1), ('faradaic', 1), ('disallowing', 1), ('anthem', 1), ('cathode', 1), ('unscathed', 1), ('aurify', 1), ('Massai', 1), ('Czechs', 1), ('scuffle', 1), ('helmed', 1), (\"RV'ing\", 1), ('bushiest', 1), ('cheesemaker', 1), ('realised', 1), ('prominencies', 1), ('sagaciously', 1), ('reidentifying', 1), ('fox-tailed', 1), ('cross-reference', 1), ('scattershot', 1), ('prompt-note', 1), ('Greta', 1), ('lambdacism', 1), ('echolocate', 1), ('Phillipp', 1), ('theistic', 1), ('nondrugged', 1), ('statist', 1), ('berylliosis', 1), ('lead-tree', 1), ('Almighty', 1), ('adrenaline', 1), ('sibylline', 1), ('ploughboy', 1), ('communistically', 1), ('fruitage', 1), ('dressless', 1), ('Khorramshahr', 1), ('oasis', 1), ('amphid', 1), ('touzles', 1), ('detachment', 1), ('belis', 1), ('slideshow', 1), ('grill', 1), ('perman', 1), ('ansibles', 1), ('umpteen', 1), ('permatemp', 1), ('paperbag', 1), ('Anaprox', 1), ('euterpean', 1), ('acheté', 1), ('high-mindedness', 1), ('sower', 1), ('defraudation', 1), ('offings', 1), ('takingness', 1), ('mordacity', 1), ('fantasizes', 1), ('top-boot', 1), ('unsurpassably', 1), ('slouchers', 1), ('water-battery', 1), ('microsleep', 1), ('renormalisation', 1), ('flutter-wheel', 1), ('Ruwenzori', 1), ('horse-sickness', 1), ('bearded', 1), ('bimbo', 1), ('bang-beggar', 1), ('galaxian', 1), ('upgradation', 1), ('indeclinably', 1), ('rood-altar', 1), ('-resistant', 1), ('woops', 1), ('testimonials', 1), ('grins', 1), ('unsurety', 1), ('encrusts', 1), ('Mosby', 1), ('selenites', 1), ('divarication', 1), ('outeats', 1), ('storm-tossed', 1), ('nondeliberate', 1), ('nonacademic', 1), ('unworldly', 1), ('subinvolution', 1), ('unfunniest', 1), ('tillman', 1), ('antidiabetes', 1), ('chickenhouses', 1), ('rebbes', 1), ('screecher', 1), ('cogitates', 1), ('torment', 1), ('younged', 1), ('woodnote', 1), ('longjohns', 1), ('swamp-maple', 1), ('ænigmas', 1), ('motherhood', 1), ('crewels', 1), ('dæmon', 1), ('studious', 1), ('mistruster', 1), ('knell', 1), ('papelardie', 1), ('nonoptical', 1), ('instructress', 1), ('manatee', 1), ('moval', 1), ('remated', 1), ('sleeks', 1), ('unwearably', 1), ('India Pale Ales', 1), ('shawlless', 1), ('Gulag', 1), ('enrollers', 1), ('interlude', 1), ('firebrick', 1), ('overachieved', 1), ('perfumer', 1), ('flowchart', 1), ('interacting', 1), ('resheathes', 1), ('taxometer', 1), ('OVERDUE', 1), ('demonry', 1), ('borecole', 1), ('awrong', 1), ('massage', 1), ('tullibee', 1), ('dutifully', 1), ('pardah', 1), ('hoose', 1), ('signallers', 1), ('Saamis', 1), ('smilax', 1), ('anadiplosis', 1), ('nicor', 1), ('bewildering', 1), ('unburied', 1), ('altercates', 1), ('allergists', 1), ('longeing', 1), ('emolumentary', 1), ('wrongdoing', 1), ('lovelessness', 1), ('jurisprudence', 1), ('heights', 1), ('hypopygium', 1), ('unalterability', 1), ('Thurs', 1), ('combatable', 1), ('knowe', 1), ('switcheroos', 1), ('junkanoo', 1), ('wheeziest', 1), ('thruway', 1), ('charitative', 1), ('permittees', 1), ('archaebacterial', 1), ('hatful', 1), ('hybridization', 1), ('tonsillotomy', 1), ('acenes', 1), ('awakens', 1), ('bedded', 1), ('urbanise', 1), ('Frankfurt', 1), ('fire-sale', 1), ('unsafeness', 1), ('sunsetlike', 1), ('ungird', 1), ('punishably', 1), ('earthiest', 1), ('lumbering', 1), ('puffeth', 1), ('preparateur', 1), ('unfillable', 1), ('degenerative', 1), ('zoographic', 1), ('decreed', 1), ('praiseless', 1), ('name-dropping', 1), ('East German', 1), ('trinominal', 1), ('crystallize', 1), ('under-served', 1), ('stand-patter', 1), ('governess', 1), ('unsheriff', 1), ('misunderstand', 1), ('lymantria', 1), ('annoyed', 1), ('erodes', 1), ('sexologists', 1), ('single-mindedly', 1), ('connection', 1), ('reinstalment', 1), ('reeker', 1), ('Jacksonesque', 1), ('contriver', 1), ('bathes', 1), ('unsullied', 1), ('vilifiers', 1), ('stomache', 1), ('dabbler', 1), ('undemanding', 1), ('Lepus', 1), ('configurators', 1), ('re-evaluates', 1), ('ditch', 1), ('hodman', 1), ('parhelion', 1), ('bistered', 1), ('cogitator', 1), ('kalam', 1), ('hypernormal', 1), ('mistify', 1), ('unseasonal', 1), ('unobligated', 1), ('whiteflies', 1), ('bussed', 1), ('Waksman', 1), ('turriculate', 1), ('eegrass', 1), ('night-blind', 1), ('deuterogamy', 1), ('poust', 1), ('pumey', 1), ('hexadecane', 1), ('ministrative', 1), ('thyrotoxic', 1), ('fuckin', 1), ('damosella', 1), ('miscite', 1), ('weaver-finch', 1), ('epiphyses', 1), ('glassed-in', 1), ('modishest', 1), ('sheathers', 1), ('sniff', 1), ('rinforzando', 1), ('stairgate', 1), ('dismantle', 1), ('grubble', 1), ('discrowning', 1), ('Galway', 1), ('plagiarises', 1), ('metallists', 1), ('portend', 1), ('sawlog', 1), ('navigates', 1), ('grafting', 1), ('religiously', 1), ('gowning', 1), ('recreation', 1), ('inequivalve', 1), ('beneficience', 1), ('challie', 1), ('criers', 1), ('glucophage', 1), ('titulars', 1), ('venipuncture', 1), ('sorcerizing', 1), ('okara', 1), ('outkicking', 1), ('nonadhesive', 1), ('bilateran', 1), ('mirages', 1), ('embold', 1), ('tetramerous', 1), ('flacon', 1), ('judged', 1), ('uncopyable', 1), ('wimpier', 1), ('forelock', 1), ('sulfisoxazole', 1), ('panhandlers', 1), ('avoiders', 1), ('Shloime', 1), ('anesthetizing', 1), ('responses', 1), ('manorexia', 1), ('unbiassed', 1), ('horse-coursing', 1), ('Mamoudzou', 1), ('recalling', 1), ('delegitimise', 1), ('spoilsport', 1), ('crousely', 1), ('blockaded', 1), ('chickaree', 1), ('thickish', 1), ('workday', 1), ('left-handedness', 1), ('Wolff', 1), ('ergodically', 1), ('culturable', 1), ('bantamweight', 1)]\n"
     ]
    }
   ],
   "source": [
    "#빈도의 내림차순으로 단어와 빈도를 정렬\n",
    "wc = sorted(word_counts_c.items(), key = lambda word_and_count: word_and_count[1], reverse=True)\n",
    "print(wc)"
   ]
  },
  {
   "cell_type": "markdown",
   "id": "b68c4c56",
   "metadata": {},
   "source": [
    "## 2.17 리스트 컴프리헨션\n",
    "- 기존의 리스트에서 특정 항목을 선택하거나 변환시킨 결과를 새로운 리스트에 저장해야 하는 경우"
   ]
  },
  {
   "cell_type": "code",
   "execution_count": 112,
   "id": "587c57b9",
   "metadata": {},
   "outputs": [
    {
     "name": "stdout",
     "output_type": "stream",
     "text": [
      "[0, 2, 4, 6, 8]\n"
     ]
    }
   ],
   "source": [
    "even_numbers = [x for x in range(10) if x%2==0]\n",
    "print(even_numbers)"
   ]
  },
  {
   "cell_type": "code",
   "execution_count": 114,
   "id": "6bab2535",
   "metadata": {},
   "outputs": [
    {
     "name": "stdout",
     "output_type": "stream",
     "text": [
      "[1, 3, 5, 7, 9]\n"
     ]
    }
   ],
   "source": [
    "odd_numbers = [x for x in range(10) if x%2 == 1]\n",
    "print(odd_numbers)"
   ]
  },
  {
   "cell_type": "code",
   "execution_count": 115,
   "id": "547e49bd",
   "metadata": {},
   "outputs": [
    {
     "name": "stdout",
     "output_type": "stream",
     "text": [
      "[0, 1, 4, 9, 16, 25, 36, 49, 64, 81]\n"
     ]
    }
   ],
   "source": [
    "squares = [x**2 for x in range(10)]\n",
    "print(squares)"
   ]
  },
  {
   "cell_type": "code",
   "execution_count": 116,
   "id": "db6e685a",
   "metadata": {},
   "outputs": [
    {
     "name": "stdout",
     "output_type": "stream",
     "text": [
      "[0, 4, 16, 36, 64]\n"
     ]
    }
   ],
   "source": [
    "even_squares = [x**2 for x in range(10) if x%2 == 0]\n",
    "print(even_squares)"
   ]
  },
  {
   "cell_type": "code",
   "execution_count": 117,
   "id": "9bd858ce",
   "metadata": {},
   "outputs": [
    {
     "name": "stdout",
     "output_type": "stream",
     "text": [
      "[1, 9, 25, 49, 81]\n"
     ]
    }
   ],
   "source": [
    "odd_squares = [x**2 for x in range(10) if x%2==1]\n",
    "print(odd_squares)"
   ]
  },
  {
   "cell_type": "markdown",
   "id": "57d719d0",
   "metadata": {},
   "source": [
    "- 딕셔너리나 집합"
   ]
  },
  {
   "cell_type": "code",
   "execution_count": 122,
   "id": "41bd4938",
   "metadata": {},
   "outputs": [
    {
     "name": "stdout",
     "output_type": "stream",
     "text": [
      "{0: 0, 1: 1, 2: 4, 3: 9, 4: 16}\n"
     ]
    }
   ],
   "source": [
    "#딕셔너리\n",
    "square_dict = {x:x*x for x in range(5)}\n",
    "print(square_dict)"
   ]
  },
  {
   "cell_type": "code",
   "execution_count": 124,
   "id": "5d84f2cd",
   "metadata": {},
   "outputs": [
    {
     "name": "stdout",
     "output_type": "stream",
     "text": [
      "{1, 4}\n"
     ]
    }
   ],
   "source": [
    "#집합\n",
    "square_set = {x*x for x in [1,-1,2]}\n",
    "print(square_set)"
   ]
  },
  {
   "cell_type": "markdown",
   "id": "17c77b55",
   "metadata": {},
   "source": [
    "- _: 리스트에서 불필요한 값"
   ]
  },
  {
   "cell_type": "code",
   "execution_count": 126,
   "id": "86157b9f",
   "metadata": {},
   "outputs": [
    {
     "name": "stdout",
     "output_type": "stream",
     "text": [
      "[0, 0, 0, 0, 0]\n"
     ]
    }
   ],
   "source": [
    "zeros = [0 for _ in even_numbers]\n",
    "print(zeros)"
   ]
  },
  {
   "cell_type": "markdown",
   "id": "b3e25415",
   "metadata": {},
   "source": [
    "- 여러 for 포함 가능"
   ]
  },
  {
   "cell_type": "code",
   "execution_count": 129,
   "id": "63887289",
   "metadata": {},
   "outputs": [
    {
     "name": "stdout",
     "output_type": "stream",
     "text": [
      "[(0, 0), (0, 1), (0, 2), (0, 3), (0, 4), (0, 5), (0, 6), (1, 0), (1, 1), (1, 2), (1, 3), (1, 4), (1, 5), (1, 6), (2, 0), (2, 1), (2, 2), (2, 3), (2, 4), (2, 5), (2, 6)]\n"
     ]
    }
   ],
   "source": [
    "pairs = [(x,y) for x in range(3) for y in range(7)]\n",
    "print(pairs)"
   ]
  },
  {
   "cell_type": "code",
   "execution_count": 132,
   "id": "16a772a1",
   "metadata": {},
   "outputs": [
    {
     "name": "stdout",
     "output_type": "stream",
     "text": [
      "[(0, 1), (0, 2), (0, 3), (1, 2), (1, 3), (2, 3)]\n"
     ]
    }
   ],
   "source": [
    "increasing_pairs = [(x,y) for x in range(3)\n",
    "                   for y in range(x+1, 4)]\n",
    "print(increasing_pairs)"
   ]
  },
  {
   "cell_type": "code",
   "execution_count": 134,
   "id": "218fd88c",
   "metadata": {},
   "outputs": [
    {
     "name": "stdout",
     "output_type": "stream",
     "text": [
      "[(0, 1), (0, 2), (0, 3), (0, 4), (0, 5), (0, 6), (0, 7), (0, 8), (0, 9), (1, 2), (1, 3), (1, 4), (1, 5), (1, 6), (1, 7), (1, 8), (1, 9), (2, 3), (2, 4), (2, 5), (2, 6), (2, 7), (2, 8), (2, 9), (3, 4), (3, 5), (3, 6), (3, 7), (3, 8), (3, 9), (4, 5), (4, 6), (4, 7), (4, 8), (4, 9), (5, 6), (5, 7), (5, 8), (5, 9), (6, 7), (6, 8), (6, 9), (7, 8), (7, 9), (8, 9)]\n"
     ]
    }
   ],
   "source": [
    "increasing_pairs = [(x,y) for x in range(10)\n",
    "                   for y in range(x+1, 10)]\n",
    "print(increasing_pairs)"
   ]
  },
  {
   "cell_type": "markdown",
   "id": "3e981c76",
   "metadata": {},
   "source": [
    "## 2.18 자동 테스트와 assert\n",
    "- type\n",
    "- automated test\n",
    "- assert"
   ]
  },
  {
   "cell_type": "markdown",
   "id": "f75b89c5",
   "metadata": {},
   "source": [
    "assert: 지정된 조건이 충족되지 않는다면 AssertionError를 반환한다"
   ]
  },
  {
   "cell_type": "code",
   "execution_count": 135,
   "id": "613973bf",
   "metadata": {},
   "outputs": [],
   "source": [
    "assert 1+1==2\n",
    "assert 1+1 == 2, \"1+1 should equal 2 but didn't\""
   ]
  },
  {
   "cell_type": "code",
   "execution_count": 138,
   "id": "80159220",
   "metadata": {},
   "outputs": [],
   "source": [
    "#직접 작성된 함수를 테스팅\n",
    "def smallest_item(xs):\n",
    "    return min(xs)\n",
    "\n",
    "assert smallest_item([10,20,5,40]) == 5\n",
    "assert smallest_item([1,0,-1,2]) == -1"
   ]
  },
  {
   "cell_type": "markdown",
   "id": "34794312",
   "metadata": {},
   "source": [
    "- 함수 인자 검증시 assert 사용"
   ]
  },
  {
   "cell_type": "code",
   "execution_count": 139,
   "id": "500508f7",
   "metadata": {},
   "outputs": [],
   "source": [
    "def smallest_items(xs):\n",
    "    assert xs, \"empty  list has no smallest item\"\n",
    "    return min(xs)"
   ]
  },
  {
   "cell_type": "markdown",
   "id": "f04134c9",
   "metadata": {},
   "source": [
    "## 2.19 객체 지향 프로그래밍"
   ]
  },
  {
   "cell_type": "code",
   "execution_count": 141,
   "id": "866b4aaa",
   "metadata": {},
   "outputs": [],
   "source": [
    "#몇 명이 참가했는지 확인해주는 클래스\n",
    "class CountingClicker:\n",
    "    def __init__(self, count = 0):\n",
    "        self.count = count\n",
    "        "
   ]
  },
  {
   "cell_type": "markdown",
   "id": "08763b1a",
   "metadata": {},
   "source": [
    "- 클래스의 인스턴스 생성"
   ]
  },
  {
   "cell_type": "code",
   "execution_count": 142,
   "id": "ce804397",
   "metadata": {},
   "outputs": [],
   "source": [
    "clicker1 = CountingClicker()# count = 0으로 생성된 인스턴스\n",
    "clicker2 = CountingClicker(100)# count = 100으로 생성된 인스턴스\n",
    "clicker3 = CountingClicker(count = 100)#정확히 명시해줌"
   ]
  },
  {
   "cell_type": "markdown",
   "id": "604ec49b",
   "metadata": {},
   "source": [
    "밑줄표시(_ _):\n",
    "- dunder(double-UNDERscore)메서드\n",
    "- 프라이빗 매서드(메서드의 이름이 밑줄 표시로 시작되는 경우): 클래스 밖에서 호출을 하면 안됨을 의미 "
   ]
  },
  {
   "cell_type": "markdown",
   "id": "65dc20d2",
   "metadata": {},
   "source": [
    "- _ _repr_ _: 클래스 인스턴스를 문자열 형태로 변환해주는 dunder 메서드"
   ]
  },
  {
   "cell_type": "code",
   "execution_count": 147,
   "id": "aa210d50",
   "metadata": {},
   "outputs": [],
   "source": [
    "#몇 명이 참가했는지 확인해주는 클래스\n",
    "class CountingClicker:\n",
    "    \n",
    "    def __init__(self, count = 0):#self는 인스턴스를 의미\n",
    "        self.count = count\n",
    "    \n",
    "    def __repr__(self):#클래스 인스턴스를 문자열 형태로 변환해주는 dunder 메서드\n",
    "        return f\"CountingClicker(count = {self.count})\"\n",
    "    \n",
    "    def click(self, num_times = 1):\n",
    "        \"\"\"한 번 실행할 때마다 num_times만큼 count가 증가\"\"\"\n",
    "        self.count += num_times\n",
    "    \n",
    "    def read(self):\n",
    "        return self.count\n",
    "    \n",
    "    def reset(self):\n",
    "        self.count = 0\n",
    "        "
   ]
  },
  {
   "cell_type": "code",
   "execution_count": 151,
   "id": "56216d7f",
   "metadata": {},
   "outputs": [
    {
     "ename": "AssertionError",
     "evalue": "clicker should start with count 0",
     "output_type": "error",
     "traceback": [
      "\u001b[1;31m---------------------------------------------------------------------------\u001b[0m",
      "\u001b[1;31mAssertionError\u001b[0m                            Traceback (most recent call last)",
      "\u001b[1;32m<ipython-input-151-b29d106beeaf>\u001b[0m in \u001b[0;36m<module>\u001b[1;34m\u001b[0m\n\u001b[0;32m      1\u001b[0m \u001b[0mclicker\u001b[0m \u001b[1;33m=\u001b[0m \u001b[0mCountingClicker\u001b[0m\u001b[1;33m(\u001b[0m\u001b[1;33m)\u001b[0m\u001b[1;33m\u001b[0m\u001b[1;33m\u001b[0m\u001b[0m\n\u001b[1;32m----> 2\u001b[1;33m \u001b[1;32massert\u001b[0m \u001b[0mclicker\u001b[0m\u001b[1;33m.\u001b[0m\u001b[0mread\u001b[0m \u001b[1;33m==\u001b[0m \u001b[1;36m0\u001b[0m\u001b[1;33m,\u001b[0m\u001b[1;34m\"clicker should start with count 0\"\u001b[0m\u001b[1;33m\u001b[0m\u001b[1;33m\u001b[0m\u001b[0m\n\u001b[0m\u001b[0;32m      3\u001b[0m \u001b[0mclicker\u001b[0m\u001b[1;33m.\u001b[0m\u001b[0mclick\u001b[0m\u001b[1;33m(\u001b[0m\u001b[1;33m)\u001b[0m\u001b[1;33m\u001b[0m\u001b[1;33m\u001b[0m\u001b[0m\n\u001b[0;32m      4\u001b[0m \u001b[0mclicker\u001b[0m\u001b[1;33m.\u001b[0m\u001b[0mclick\u001b[0m\u001b[1;33m(\u001b[0m\u001b[1;33m)\u001b[0m\u001b[1;33m\u001b[0m\u001b[1;33m\u001b[0m\u001b[0m\n\u001b[0;32m      5\u001b[0m \u001b[1;32massert\u001b[0m \u001b[0mcicker\u001b[0m\u001b[1;33m.\u001b[0m\u001b[0mread\u001b[0m\u001b[1;33m(\u001b[0m\u001b[1;33m)\u001b[0m \u001b[1;33m==\u001b[0m \u001b[1;36m2\u001b[0m\u001b[1;33m,\u001b[0m \u001b[1;34m\"after two clicks, clicker should have count 2\"\u001b[0m\u001b[1;33m\u001b[0m\u001b[1;33m\u001b[0m\u001b[0m\n",
      "\u001b[1;31mAssertionError\u001b[0m: clicker should start with count 0"
     ]
    }
   ],
   "source": [
    "clicker = CountingClicker()\n",
    "assert clicker.read == 0,\"clicker should start with count 0\"\n",
    "clicker.click()\n",
    "clicker.click()\n",
    "assert cicker.read() == 2, \"after two clicks, clicker should have count 2\"\n",
    "ciicker.reset()\n",
    "assert clicker.read() == 0,\"after resert, clicker should be back to 0\""
   ]
  },
  {
   "cell_type": "code",
   "execution_count": 153,
   "id": "c2c2ee70",
   "metadata": {},
   "outputs": [],
   "source": [
    "#부모 클래스의 모든 기능을 상속받는 서브클래스\n",
    "class NoResetClicker(CountingClicker):\n",
    "    #CountingCLicker와 동일한 매서드를 포함\n",
    "    #하지만 reset 매서드는 아무런 기능이 없도록 변경된다\n",
    "    def reset(self):\n",
    "        pass#오버라이딩"
   ]
  },
  {
   "cell_type": "code",
   "execution_count": 155,
   "id": "1fdfaf11",
   "metadata": {},
   "outputs": [],
   "source": [
    "clicker2 = NoResetClicker()\n",
    "assert clicker2.read() == 0\n",
    "clicker2.click()\n",
    "assert clicker2.read() == 1\n",
    "clicker2.reset()\n",
    "assert clicker2.read()==1, \"reset shouldn't do anything\""
   ]
  },
  {
   "cell_type": "markdown",
   "id": "f4c70137",
   "metadata": {},
   "source": [
    "## 2.20 이터레이터와 제너레이터"
   ]
  },
  {
   "cell_type": "markdown",
   "id": "6493c8c8",
   "metadata": {},
   "source": [
    "###### 제너레이터(generator):\n",
    "- (주로 for문을 통해서) 반복할 수 있다\n",
    "- 제너레이터의 각 항목은 필요한 순간에 그때그때 생성된다\n",
    "- 제너레이터를 만드는 한 가지 방법은 함수와 yield를 활용하는 것이다"
   ]
  },
  {
   "cell_type": "code",
   "execution_count": 176,
   "id": "9296f4d4",
   "metadata": {},
   "outputs": [],
   "source": [
    "def generate_range(n):\n",
    "    i = 0\n",
    "    while i<n:\n",
    "        yield 10+i#return은 함수를 끝내는데 이건 계속 반환해주는듯\n",
    "        i+=1"
   ]
  },
  {
   "cell_type": "code",
   "execution_count": 165,
   "id": "2f4627cf",
   "metadata": {},
   "outputs": [
    {
     "name": "stdout",
     "output_type": "stream",
     "text": [
      "i: 0\n",
      "i: 1\n",
      "i: 2\n",
      "i: 3\n",
      "i: 4\n",
      "i: 5\n",
      "i: 6\n",
      "i: 7\n",
      "i: 8\n",
      "i: 9\n"
     ]
    }
   ],
   "source": [
    "for i in generate_range(10):\n",
    "    print(f\"i: {i}\")"
   ]
  },
  {
   "cell_type": "code",
   "execution_count": 175,
   "id": "a28ec35e",
   "metadata": {},
   "outputs": [],
   "source": [
    "def generate_range2(n):\n",
    "    i = 0\n",
    "    while i<n:\n",
    "        return i+10#return을 yield대신 사용하면 안됨\n",
    "        i+=1"
   ]
  },
  {
   "cell_type": "code",
   "execution_count": 170,
   "id": "adeb7889",
   "metadata": {},
   "outputs": [
    {
     "ename": "TypeError",
     "evalue": "'int' object is not iterable",
     "output_type": "error",
     "traceback": [
      "\u001b[1;31m---------------------------------------------------------------------------\u001b[0m",
      "\u001b[1;31mTypeError\u001b[0m                                 Traceback (most recent call last)",
      "\u001b[1;32m<ipython-input-170-fe09e9d91afe>\u001b[0m in \u001b[0;36m<module>\u001b[1;34m\u001b[0m\n\u001b[1;32m----> 1\u001b[1;33m \u001b[1;32mfor\u001b[0m \u001b[0mi\u001b[0m \u001b[1;32min\u001b[0m \u001b[0mgenerate_range2\u001b[0m\u001b[1;33m(\u001b[0m\u001b[1;36m10\u001b[0m\u001b[1;33m)\u001b[0m\u001b[1;33m:\u001b[0m\u001b[1;33m\u001b[0m\u001b[1;33m\u001b[0m\u001b[0m\n\u001b[0m\u001b[0;32m      2\u001b[0m     \u001b[0mprint\u001b[0m\u001b[1;33m(\u001b[0m\u001b[1;34mf\"i: {i}\"\u001b[0m\u001b[1;33m)\u001b[0m\u001b[1;33m\u001b[0m\u001b[1;33m\u001b[0m\u001b[0m\n",
      "\u001b[1;31mTypeError\u001b[0m: 'int' object is not iterable"
     ]
    }
   ],
   "source": [
    "for i in generate_range2(10):\n",
    "    print(f\"i: {i}\")"
   ]
  },
  {
   "cell_type": "code",
   "execution_count": 172,
   "id": "b39ebdad",
   "metadata": {},
   "outputs": [
    {
     "name": "stdout",
     "output_type": "stream",
     "text": [
      "<generator object generate_range at 0x0000022192640890>\n"
     ]
    }
   ],
   "source": [
    "print(generate_range(10))"
   ]
  },
  {
   "cell_type": "code",
   "execution_count": 177,
   "id": "da305483",
   "metadata": {},
   "outputs": [
    {
     "name": "stdout",
     "output_type": "stream",
     "text": [
      "10\n",
      "11\n",
      "12\n",
      "13\n",
      "14\n",
      "15\n",
      "16\n",
      "17\n",
      "18\n",
      "19\n"
     ]
    }
   ],
   "source": [
    "for i in generate_range(10):\n",
    "    print(i)"
   ]
  },
  {
   "cell_type": "markdown",
   "id": "927e59e1",
   "metadata": {},
   "source": [
    "- break없이 무한 수열 생성하는 것은 추천하지 않는다"
   ]
  },
  {
   "cell_type": "code",
   "execution_count": 178,
   "id": "c10080fc",
   "metadata": {},
   "outputs": [],
   "source": [
    "def natural_numbers():\n",
    "    \"\"\"1,2,3, ...을 반환\"\"\"\n",
    "    n = 1\n",
    "    while True:\n",
    "        yield n\n",
    "        n+=1"
   ]
  },
  {
   "cell_type": "markdown",
   "id": "0fc94b02",
   "metadata": {},
   "source": [
    "- 제너레이터 만드는 방법2: for문 추가"
   ]
  },
  {
   "cell_type": "code",
   "execution_count": 181,
   "id": "5f707205",
   "metadata": {},
   "outputs": [
    {
     "name": "stdout",
     "output_type": "stream",
     "text": [
      "<generator object <genexpr> at 0x00000221913C06D0>\n"
     ]
    }
   ],
   "source": [
    "evens_below_20 = (i for i in generate_range(20) if i %2==0)\n",
    "print(evens_below_20)"
   ]
  },
  {
   "cell_type": "code",
   "execution_count": 182,
   "id": "27dd278f",
   "metadata": {},
   "outputs": [
    {
     "name": "stdout",
     "output_type": "stream",
     "text": [
      "10\n",
      "12\n",
      "14\n",
      "16\n",
      "18\n",
      "20\n",
      "22\n",
      "24\n",
      "26\n",
      "28\n"
     ]
    }
   ],
   "source": [
    "for i in evens_below_20:\n",
    "    print(i)"
   ]
  },
  {
   "cell_type": "code",
   "execution_count": 183,
   "id": "0a17fe4b",
   "metadata": {},
   "outputs": [
    {
     "data": {
      "text/plain": [
       "generator"
      ]
     },
     "execution_count": 183,
     "metadata": {},
     "output_type": "execute_result"
    }
   ],
   "source": [
    "type(evens_below_20)"
   ]
  },
  {
   "cell_type": "code",
   "execution_count": 185,
   "id": "dda3dcd4",
   "metadata": {},
   "outputs": [],
   "source": [
    "#실제 반복문이 시작되기 전까지는 제너레이터가 생성되지 않는다\n",
    "data = natural_numbers()\n",
    "evens = (x for x in data if x%2==0)\n",
    "even_squares = (x*x for x in evens)\n",
    "even_squares_ending_in_six=(x for x in even_squares if x%10 == 6)\n",
    "#등등"
   ]
  },
  {
   "cell_type": "markdown",
   "id": "4c653f54",
   "metadata": {},
   "source": [
    "#### enumerate 함수: (순서, 항목) 형태로 반환 가능"
   ]
  },
  {
   "cell_type": "code",
   "execution_count": 186,
   "id": "a95e376c",
   "metadata": {},
   "outputs": [],
   "source": [
    "names = [\"Alice\",\"Bob\",\"Charlie\",\"Debbie\"]"
   ]
  },
  {
   "cell_type": "code",
   "execution_count": 188,
   "id": "0c106d2a",
   "metadata": {},
   "outputs": [
    {
     "name": "stdout",
     "output_type": "stream",
     "text": [
      "name 0 is Alice\n",
      "name 1 is Bob\n",
      "name 2 is Charlie\n",
      "name 3 is Debbie\n"
     ]
    }
   ],
   "source": [
    "#파이썬스럽지 않다.\n",
    "for i in range(len(names)):\n",
    "    print(f\"name {i} is {names[i]}\")"
   ]
  },
  {
   "cell_type": "code",
   "execution_count": 191,
   "id": "9619285a",
   "metadata": {},
   "outputs": [
    {
     "name": "stdout",
     "output_type": "stream",
     "text": [
      "name 0 is Alice\n",
      "name 1 is Bob\n",
      "name 2 is Charlie\n",
      "name 3 is Debbie\n"
     ]
    }
   ],
   "source": [
    "#파이썬스럽지 않다.\n",
    "i = 0\n",
    "for name in names:\n",
    "    print(f\"name {i} is {names[i]}\")\n",
    "    i+=1"
   ]
  },
  {
   "cell_type": "code",
   "execution_count": 193,
   "id": "ddfa3095",
   "metadata": {},
   "outputs": [
    {
     "name": "stdout",
     "output_type": "stream",
     "text": [
      "name0 is Alice\n",
      "name1 is Bob\n",
      "name2 is Charlie\n",
      "name3 is Debbie\n"
     ]
    }
   ],
   "source": [
    "#파이썬스럽다.\n",
    "for i, name in enumerate(names):\n",
    "    print(f\"name{i} is {name}\")"
   ]
  },
  {
   "cell_type": "markdown",
   "id": "c52bd140",
   "metadata": {},
   "source": [
    "## 2.21 난수 생성"
   ]
  },
  {
   "cell_type": "markdown",
   "id": "73350991",
   "metadata": {},
   "source": [
    "- 수도 랜덤(pseudo random): 결정론적으로 동일한 난수"
   ]
  },
  {
   "cell_type": "code",
   "execution_count": 197,
   "id": "54e9b559",
   "metadata": {},
   "outputs": [
    {
     "name": "stdout",
     "output_type": "stream",
     "text": [
      "[0.5714025946899135, 0.4288890546751146, 0.5780913011344704, 0.20609823213950174]\n"
     ]
    }
   ],
   "source": [
    "import random\n",
    "random.seed(10)#매번 동일한 결과 생성\n",
    "four_uniform_randoms = [random.random() for _ in range(4)]\n",
    "print(four_uniform_randoms)"
   ]
  },
  {
   "cell_type": "code",
   "execution_count": 198,
   "id": "cab8a861",
   "metadata": {},
   "outputs": [
    {
     "name": "stdout",
     "output_type": "stream",
     "text": [
      "0.5714025946899135\n",
      "0.5714025946899135\n"
     ]
    }
   ],
   "source": [
    "random.seed(10)\n",
    "print(random.random())\n",
    "random.seed(10)\n",
    "print(random.random())"
   ]
  },
  {
   "cell_type": "markdown",
   "id": "6580b2ae",
   "metadata": {},
   "source": [
    "- random.randrange: range()에 해당하는 구간 안에서 난수 생성 가능"
   ]
  },
  {
   "cell_type": "code",
   "execution_count": 199,
   "id": "063e1d7d",
   "metadata": {},
   "outputs": [
    {
     "name": "stdout",
     "output_type": "stream",
     "text": [
      "6\n",
      "7\n",
      "9\n"
     ]
    }
   ],
   "source": [
    "for _ in range(3):\n",
    "    print(random.randrange(10))"
   ]
  },
  {
   "cell_type": "markdown",
   "id": "a3f2a56b",
   "metadata": {},
   "source": [
    "- random.shuffle: 리스트의 항목을 임의 순서로 재정렬"
   ]
  },
  {
   "cell_type": "code",
   "execution_count": 202,
   "id": "295e18cd",
   "metadata": {},
   "outputs": [
    {
     "name": "stdout",
     "output_type": "stream",
     "text": [
      "up_to_ten: [1, 2, 3, 4, 5, 6, 7, 8, 9, 10]\n",
      "셔플 후: [8, 2, 1, 4, 3, 6, 9, 5, 10, 7]\n"
     ]
    }
   ],
   "source": [
    "up_to_ten = [x+1 for x in range(10)]\n",
    "print(f\"up_to_ten: {up_to_ten}\")\n",
    "random.shuffle(up_to_ten)\n",
    "print(\"셔플 후:\",up_to_ten)"
   ]
  },
  {
   "cell_type": "markdown",
   "id": "a82cbddf",
   "metadata": {},
   "source": [
    "- random.choice: 리스트에서 임의의 항목을 하나 선택할 수 있다"
   ]
  },
  {
   "cell_type": "code",
   "execution_count": 206,
   "id": "c80a33f5",
   "metadata": {},
   "outputs": [
    {
     "name": "stdout",
     "output_type": "stream",
     "text": [
      "Alice\n"
     ]
    }
   ],
   "source": [
    "my_best_friend = random.choice([\"Alice\",\"Bob\",\"Charlie\"])\n",
    "print(my_best_friend)"
   ]
  },
  {
   "cell_type": "markdown",
   "id": "2cd55305",
   "metadata": {},
   "source": [
    "- random.sample: 리스트에서 중복이 허용되지 않은 임의의 표본 리스트를 만들 수 있음"
   ]
  },
  {
   "cell_type": "code",
   "execution_count": 211,
   "id": "1f4b47bd",
   "metadata": {},
   "outputs": [
    {
     "name": "stdout",
     "output_type": "stream",
     "text": [
      "[29, 49, 55, 15, 28, 39]\n"
     ]
    }
   ],
   "source": [
    "lottery_numbers = range(60)\n",
    "winning_numbers = random.sample(lottery_numbers, 6)\n",
    "print(winning_numbers)"
   ]
  },
  {
   "cell_type": "markdown",
   "id": "ecee3941",
   "metadata": {},
   "source": [
    "- 중복이 허용되는 임의의 표본 리스트를 만들고 싶다면: random.choice 메서드를 여러 번 사용"
   ]
  },
  {
   "cell_type": "code",
   "execution_count": 212,
   "id": "ed7710f7",
   "metadata": {},
   "outputs": [
    {
     "name": "stdout",
     "output_type": "stream",
     "text": [
      "[6, 0, 9, 0]\n"
     ]
    }
   ],
   "source": [
    "four_with_replacement = [random.choice(range(10)) for _ in range(4)]\n",
    "print(four_with_replacement)"
   ]
  },
  {
   "cell_type": "markdown",
   "id": "9fd03ed2",
   "metadata": {},
   "source": [
    "## 2.22 정규표현식(regular expressions, regex)"
   ]
  },
  {
   "cell_type": "markdown",
   "id": "32946dab",
   "metadata": {},
   "source": [
    "- re.match : 문자열의 시작이 정규표현식과 같은지 비교\n",
    "- re.search : 문자열 전체에서 정규표현식고 ㅏ같은 부분이 있는지 찾음"
   ]
  },
  {
   "cell_type": "code",
   "execution_count": 215,
   "id": "67573a9f",
   "metadata": {},
   "outputs": [],
   "source": [
    "import re\n",
    "re_examples = [\n",
    "    not re.match(\"a\",\"cat\"),#'cat'은 'a'로 시작하지 않기 때문에\n",
    "    re.search(\"a\",\"cat\"),#'cat'안에는 'a'가 존재하기 때문에\n",
    "    not re.search(\"c\",\"dog\"),#'dog'안에는 'c'가 존재하지 않기 때문에\n",
    "    3 == len(re.split(\"[ab]\",\"carbs\")),#a 와 b기준으로 분리하면 ['c','r','s']가 생성되기 때문에\n",
    "    \n",
    "    \"R-D-\" == re.sub(\"[0-9]\",\"-\",\"R2D2\")#숫자를 \"-\"로 대체하기 때문에\n",
    "]\n",
    "assert all(re_examples), \"all the regex examples should be True\""
   ]
  },
  {
   "cell_type": "markdown",
   "id": "8550d878",
   "metadata": {},
   "source": [
    "## 2.23 함수형 도구"
   ]
  },
  {
   "cell_type": "markdown",
   "id": "a24dc4d3",
   "metadata": {},
   "source": [
    "## 2.24 zip과 인자 언패킹"
   ]
  },
  {
   "cell_type": "markdown",
   "id": "51c1f5d6",
   "metadata": {},
   "source": [
    "- zip: 여러 개의 리스트를 서로 상응하는 항목의 튜플로 구성된 리스트로 변환"
   ]
  },
  {
   "cell_type": "code",
   "execution_count": 216,
   "id": "52dfc492",
   "metadata": {},
   "outputs": [],
   "source": [
    "list1 = ['a','b','c']\n",
    "list2 = [1,2,3]"
   ]
  },
  {
   "cell_type": "code",
   "execution_count": 219,
   "id": "c577532d",
   "metadata": {},
   "outputs": [
    {
     "name": "stdout",
     "output_type": "stream",
     "text": [
      "[('a', 1), ('b', 2), ('c', 3)]\n"
     ]
    }
   ],
   "source": [
    "#실제 반복문이 시작되기 전까지는 묶어주지 않는다\n",
    "pairs = [pair for pair in zip(list1,list2)]\n",
    "print(pairs)"
   ]
  },
  {
   "cell_type": "markdown",
   "id": "5047d75e",
   "metadata": {},
   "source": [
    "-인자 언패킹(*): zip 풀기"
   ]
  },
  {
   "cell_type": "code",
   "execution_count": 220,
   "id": "9529b22f",
   "metadata": {},
   "outputs": [
    {
     "name": "stdout",
     "output_type": "stream",
     "text": [
      "('a', 'b', 'c')\n",
      "(1, 2, 3)\n"
     ]
    }
   ],
   "source": [
    "letters, numbers = zip(*pairs)\n",
    "print(letters)\n",
    "print(numbers)"
   ]
  },
  {
   "cell_type": "code",
   "execution_count": 221,
   "id": "6926806a",
   "metadata": {},
   "outputs": [
    {
     "name": "stdout",
     "output_type": "stream",
     "text": [
      "('a', 'b', 'c')\n",
      "(1, 2, 3)\n"
     ]
    }
   ],
   "source": [
    "letters, numbers = zip(('a',1),('b',2),('c',3))\n",
    "print(letters)\n",
    "print(numbers)"
   ]
  },
  {
   "cell_type": "code",
   "execution_count": 231,
   "id": "d8ed780f",
   "metadata": {},
   "outputs": [
    {
     "ename": "ValueError",
     "evalue": "too many values to unpack (expected 2)",
     "output_type": "error",
     "traceback": [
      "\u001b[1;31m---------------------------------------------------------------------------\u001b[0m",
      "\u001b[1;31mValueError\u001b[0m                                Traceback (most recent call last)",
      "\u001b[1;32m<ipython-input-231-466c0df91bf1>\u001b[0m in \u001b[0;36m<module>\u001b[1;34m\u001b[0m\n\u001b[1;32m----> 1\u001b[1;33m \u001b[0mletters\u001b[0m\u001b[1;33m,\u001b[0m \u001b[0mnumbers\u001b[0m \u001b[1;33m=\u001b[0m \u001b[0mzip\u001b[0m\u001b[1;33m(\u001b[0m\u001b[0mtuple\u001b[0m\u001b[1;33m(\u001b[0m\u001b[0mpairs\u001b[0m\u001b[1;33m)\u001b[0m\u001b[1;33m)\u001b[0m\u001b[1;33m\u001b[0m\u001b[1;33m\u001b[0m\u001b[0m\n\u001b[0m\u001b[0;32m      2\u001b[0m \u001b[0mprint\u001b[0m\u001b[1;33m(\u001b[0m\u001b[0mletters\u001b[0m\u001b[1;33m)\u001b[0m\u001b[1;33m\u001b[0m\u001b[1;33m\u001b[0m\u001b[0m\n\u001b[0;32m      3\u001b[0m \u001b[0mprint\u001b[0m\u001b[1;33m(\u001b[0m\u001b[0mnumbers\u001b[0m\u001b[1;33m)\u001b[0m\u001b[1;33m\u001b[0m\u001b[1;33m\u001b[0m\u001b[0m\n",
      "\u001b[1;31mValueError\u001b[0m: too many values to unpack (expected 2)"
     ]
    }
   ],
   "source": [
    "letters, numbers = zip(tuple(pairs))\n",
    "print(letters)\n",
    "print(numbers)"
   ]
  },
  {
   "cell_type": "code",
   "execution_count": 223,
   "id": "0cc1929d",
   "metadata": {},
   "outputs": [
    {
     "name": "stdout",
     "output_type": "stream",
     "text": [
      "[('a', 1), ('b', 2), ('c', 3)]\n",
      "(('a', 1), ('b', 2), ('c', 3))\n"
     ]
    }
   ],
   "source": [
    "print(pairs)\n",
    "pairs = tuple(pairs)\n",
    "print(pairs)"
   ]
  },
  {
   "cell_type": "code",
   "execution_count": 226,
   "id": "8fd18547",
   "metadata": {},
   "outputs": [
    {
     "name": "stdout",
     "output_type": "stream",
     "text": [
      "('a', 'b', 'c')\n",
      "(1, 2, 3)\n"
     ]
    }
   ],
   "source": [
    "l, n = zip(*pairs)\n",
    "print(l)\n",
    "print(n)"
   ]
  },
  {
   "cell_type": "code",
   "execution_count": 228,
   "id": "abec2787",
   "metadata": {},
   "outputs": [
    {
     "name": "stdout",
     "output_type": "stream",
     "text": [
      "[('ch', '1'), ('a', '1'), ('e', '2')]\n"
     ]
    }
   ],
   "source": [
    "#리스트의 길이가 서로 다른 경우 zip은 짧은 리스트가 끝나면 멈춘다.1\n",
    "le = ['ch','a','e','e','u','n']\n",
    "nu = ['1','1','2']\n",
    "p = [x for x in zip(le,nu)]\n",
    "print(p)"
   ]
  },
  {
   "cell_type": "code",
   "execution_count": 230,
   "id": "984957c1",
   "metadata": {},
   "outputs": [
    {
     "name": "stdout",
     "output_type": "stream",
     "text": [
      "[('ch', '1'), ('a', '1'), ('e', '2'), ('ㅕ', '1')]\n"
     ]
    }
   ],
   "source": [
    "#리스트의 길이가 서로 다른 경우 zip은 짧은 리스트가 끝나면 멈춘다.2\n",
    "le = ['ch','a','e','ㅕ']\n",
    "nu = ['1','1','2','1','2']\n",
    "p = [x for x in zip(le,nu)]\n",
    "print(p)"
   ]
  },
  {
   "cell_type": "code",
   "execution_count": 232,
   "id": "f9857bab",
   "metadata": {},
   "outputs": [
    {
     "name": "stdout",
     "output_type": "stream",
     "text": [
      "add expects two uinputs\n"
     ]
    }
   ],
   "source": [
    "def add(a,b): return a+b\n",
    "add(1,2)\n",
    "try:\n",
    "    add([1,2])\n",
    "except TypeError:\n",
    "    print(\"add expects two uinputs\")"
   ]
  },
  {
   "cell_type": "code",
   "execution_count": 233,
   "id": "f4ec7cbc",
   "metadata": {},
   "outputs": [
    {
     "data": {
      "text/plain": [
       "3"
      ]
     },
     "execution_count": 233,
     "metadata": {},
     "output_type": "execute_result"
    }
   ],
   "source": [
    "add(*[1,2])"
   ]
  },
  {
   "cell_type": "code",
   "execution_count": 234,
   "id": "91141df6",
   "metadata": {},
   "outputs": [
    {
     "data": {
      "text/plain": [
       "3"
      ]
     },
     "execution_count": 234,
     "metadata": {},
     "output_type": "execute_result"
    }
   ],
   "source": [
    "l = [1,2]\n",
    "add(*l)"
   ]
  },
  {
   "cell_type": "markdown",
   "id": "85485fd0",
   "metadata": {},
   "source": [
    "## 2.25 args와 kwargs"
   ]
  },
  {
   "cell_type": "code",
   "execution_count": 235,
   "id": "17f36474",
   "metadata": {},
   "outputs": [],
   "source": [
    "#특정 함수 f를 입력하면 f의 결과를 두 배로 만드는 함수를 반환해 주는 고차함수를 만들고 싶을 때\n",
    "def doubler(f):\n",
    "    #f를 참조하는 새로운 함수\n",
    "    def g(x):\n",
    "        return 2*f(x)\n",
    "    return g"
   ]
  },
  {
   "cell_type": "code",
   "execution_count": 236,
   "id": "dae8d048",
   "metadata": {},
   "outputs": [],
   "source": [
    "def f1(x):\n",
    "    return x+1\n",
    "\n",
    "g = doubler(f1)\n",
    "assert g(3) == 8, \"(3+1) * 2 should equal 8\"\n",
    "assert g(-1) == 0, \"(-1+1)*2 should equal 0\""
   ]
  },
  {
   "cell_type": "code",
   "execution_count": 237,
   "id": "f4576500",
   "metadata": {},
   "outputs": [
    {
     "name": "stdout",
     "output_type": "stream",
     "text": [
      "as defined, g only takes one argument\n"
     ]
    }
   ],
   "source": [
    "#두 개 이상의 인자를 받는 함수의 경우에는 문제가 발생\n",
    "def f2(x,y):\n",
    "    return x+y\n",
    "\n",
    "g = doubler(f2)\n",
    "try:\n",
    "    g(1,2)\n",
    "except TypeError:\n",
    "    print(\"as defined, g only takes one argument\")"
   ]
  },
  {
   "cell_type": "markdown",
   "id": "7c44417c",
   "metadata": {},
   "source": [
    "- 임의의 수의 인자를 받는 함수"
   ]
  },
  {
   "cell_type": "code",
   "execution_count": 239,
   "id": "f4772fd9",
   "metadata": {},
   "outputs": [
    {
     "data": {
      "text/plain": [
       "(('a', 1), ('b', 2), ('c', 3))"
      ]
     },
     "execution_count": 239,
     "metadata": {},
     "output_type": "execute_result"
    }
   ],
   "source": [
    "pairs"
   ]
  },
  {
   "cell_type": "code",
   "execution_count": 240,
   "id": "0841062c",
   "metadata": {},
   "outputs": [
    {
     "name": "stdout",
     "output_type": "stream",
     "text": [
      "('a', 'b', 'c')\n",
      "(1, 2, 3)\n"
     ]
    }
   ],
   "source": [
    "a,b = zip(*pairs)#인자 언패킹\n",
    "print(a)\n",
    "print(b)"
   ]
  },
  {
   "cell_type": "code",
   "execution_count": 242,
   "id": "73f6941f",
   "metadata": {},
   "outputs": [
    {
     "name": "stdout",
     "output_type": "stream",
     "text": [
      "unnamed args: (1, 2)\n",
      "keyword args: {'key': 'word', 'key2': 'word2'}\n"
     ]
    }
   ],
   "source": [
    "#책에 있는 것\n",
    "def magic(*args, **kwargs):\n",
    "    print(\"unnamed args:\",args)\n",
    "    print(\"keyword args:\",kwargs)\n",
    "\n",
    "magic(1,2,key=\"word\",key2=\"word2\")"
   ]
  },
  {
   "cell_type": "markdown",
   "id": "af3666f6",
   "metadata": {},
   "source": [
    "위의 함수에서:\n",
    "- args: 이름이 없는 인자로 구성된 튜플\n",
    "- kwargs: 이름이 주어진 인자로 구성된 딕셔너리"
   ]
  },
  {
   "cell_type": "code",
   "execution_count": 250,
   "id": "8cab0272",
   "metadata": {},
   "outputs": [
    {
     "name": "stdout",
     "output_type": "stream",
     "text": [
      "unnamed args: (1, 2, 3)\n",
      "keyword args: {'key': 'word', 'key2': 'word2', 'k': 'a'}\n"
     ]
    }
   ],
   "source": [
    "def magic(*args, **kwargs):\n",
    "    print(\"unnamed args:\",args)\n",
    "    print(\"keyword args:\",kwargs)\n",
    "    \n",
    "magic(1,2,3,key=\"word\",key2=\"word2\", k=\"a\")"
   ]
  },
  {
   "cell_type": "code",
   "execution_count": 256,
   "id": "90bf3168",
   "metadata": {},
   "outputs": [
    {
     "ename": "SyntaxError",
     "evalue": "positional argument follows keyword argument (<ipython-input-256-1d84da4ee918>, line 5)",
     "output_type": "error",
     "traceback": [
      "\u001b[1;36m  File \u001b[1;32m\"<ipython-input-256-1d84da4ee918>\"\u001b[1;36m, line \u001b[1;32m5\u001b[0m\n\u001b[1;33m    magic(key=\"word\",key2=\"word2\", k=\"a\",1,2,3)\u001b[0m\n\u001b[1;37m                                              ^\u001b[0m\n\u001b[1;31mSyntaxError\u001b[0m\u001b[1;31m:\u001b[0m positional argument follows keyword argument\n"
     ]
    }
   ],
   "source": [
    "def magic(*kwargs, **args):\n",
    "    print(\"unnamed args:\",args)\n",
    "    print(\"keyword args:\",kwargs)\n",
    "    \n",
    "magic(key=\"word\",key2=\"word2\", k=\"a\",1,2,3)"
   ]
  },
  {
   "cell_type": "markdown",
   "id": "ff99d9d5",
   "metadata": {},
   "source": [
    "- 정해진 수의 인자가 있는 함수를 호출할 때도 리스트나 딕셔너리로 인자를 전달할 수 있다"
   ]
  },
  {
   "cell_type": "code",
   "execution_count": 260,
   "id": "391c8de1",
   "metadata": {},
   "outputs": [
    {
     "name": "stdout",
     "output_type": "stream",
     "text": [
      "z: 3\n"
     ]
    }
   ],
   "source": [
    "def other_way_magic(x,y,z):\n",
    "    print(\"z:\",z)\n",
    "    return x+y+z\n",
    "x_y_list = [1,2]\n",
    "z_dict = {\"z\":3}\n",
    "assert other_way_magic(*x_y_list, **z_dict)==6, \"1+2+3 should be 6\""
   ]
  },
  {
   "cell_type": "code",
   "execution_count": 268,
   "id": "395a24be",
   "metadata": {},
   "outputs": [
    {
     "name": "stdout",
     "output_type": "stream",
     "text": [
      "f: <function f2 at 0x0000022191064F70>\n",
      "g: <function double_correct.<locals>.g at 0x0000022190CC4D30>\n",
      "g에서 반환: 6\n",
      "args: (1, 2)\n",
      "kwargs: {}\n",
      "결국: 6\n",
      "g에서 반환: 6\n",
      "args: (1, 2)\n",
      "kwargs: {}\n"
     ]
    }
   ],
   "source": [
    "def double_correct(f):\n",
    "    \"\"\" f의 인자에 상관없이 작동한다.\"\"\"\n",
    "    print(\"f:\",f)\n",
    "    def g(*args, **kwargs):\n",
    "        \"\"\"g의 인자가 무엇이든간에 f로 보내준다\"\"\"\n",
    "        print(\"g에서 반환:\",2*f(*args, **kwargs))\n",
    "        print(\"args:\",args)\n",
    "        print(\"kwargs:\",kwargs)\n",
    "        return 2*f(*args, **kwargs)\n",
    "    print(\"g:\",g)\n",
    "    return g\n",
    "g = double_correct(f2)\n",
    "print(\"결국:\",g(1,2))\n",
    "assert g(1,2)==6, \"doubler should work now\""
   ]
  },
  {
   "cell_type": "markdown",
   "id": "e1f902e0",
   "metadata": {},
   "source": [
    "## 2.26 타입 어노테이션\n",
    "- 파이썬은 동적 타입(dynamically typed)언어다.\n",
    "- 변수를 올바르게만 사용한다면 타입은 신경쓰지 않아도 된다"
   ]
  },
  {
   "cell_type": "code",
   "execution_count": 271,
   "id": "659dc743",
   "metadata": {},
   "outputs": [
    {
     "name": "stdout",
     "output_type": "stream",
     "text": [
      "cannot add an int to a string\n"
     ]
    }
   ],
   "source": [
    "def add(a,b):\n",
    "    return a+b\n",
    "assert add(10,5) == 15, \"+ is valid for numbers\"\n",
    "assert add([1,2],[3]) == [1,2,3], \"+ is valid for lists\"\n",
    "assert add(\"yo\",\" there\") == \"yo there\", \"+ is valid for strings\"\n",
    "\n",
    "try:\n",
    "    add(10,\"five\")\n",
    "except TypeError:\n",
    "    print(\"cannot add an int to a string\")"
   ]
  },
  {
   "cell_type": "markdown",
   "id": "6d8818ec",
   "metadata": {},
   "source": [
    "- 정적 타입인 경우 모든 함수나 객체의 타입을 명시해야 한다"
   ]
  },
  {
   "cell_type": "code",
   "execution_count": 275,
   "id": "94c3915e",
   "metadata": {},
   "outputs": [
    {
     "data": {
      "text/plain": [
       "15"
      ]
     },
     "execution_count": 275,
     "metadata": {},
     "output_type": "execute_result"
    }
   ],
   "source": [
    "def add(a: int, b: int)-> int:\n",
    "    return a+b\n",
    "add(10,5)"
   ]
  },
  {
   "cell_type": "code",
   "execution_count": 274,
   "id": "dabc17ae",
   "metadata": {},
   "outputs": [
    {
     "data": {
      "text/plain": [
       "15"
      ]
     },
     "execution_count": 274,
     "metadata": {},
     "output_type": "execute_result"
    }
   ],
   "source": [
    "def add2(a: int, b: int):\n",
    "    return a+b\n",
    "add2(10,5)"
   ]
  },
  {
   "cell_type": "code",
   "execution_count": 276,
   "id": "9c3c64df",
   "metadata": {},
   "outputs": [
    {
     "data": {
      "text/plain": [
       "'hithere'"
      ]
     },
     "execution_count": 276,
     "metadata": {},
     "output_type": "execute_result"
    }
   ],
   "source": [
    "add(\"hi\",\"there\")"
   ]
  },
  {
   "cell_type": "code",
   "execution_count": 277,
   "id": "65479182",
   "metadata": {},
   "outputs": [
    {
     "data": {
      "text/plain": [
       "'hithere'"
      ]
     },
     "execution_count": 277,
     "metadata": {},
     "output_type": "execute_result"
    }
   ],
   "source": [
    "add2(\"hi\",\"there\")"
   ]
  },
  {
   "cell_type": "markdown",
   "id": "689c7acf",
   "metadata": {},
   "source": [
    "하지만 타입을 명시하는 것이 좋다"
   ]
  },
  {
   "cell_type": "markdown",
   "id": "6b54ab29",
   "metadata": {},
   "source": [
    "## 2.26.1 타입 어노테이션하는 방법"
   ]
  },
  {
   "cell_type": "code",
   "execution_count": 322,
   "id": "a90044e1",
   "metadata": {},
   "outputs": [],
   "source": [
    "def total(xs: list)->float:\n",
    "    return sum(total)"
   ]
  },
  {
   "cell_type": "code",
   "execution_count": 334,
   "id": "6186e9fd",
   "metadata": {},
   "outputs": [
    {
     "ename": "TypeError",
     "evalue": "'function' object is not iterable",
     "output_type": "error",
     "traceback": [
      "\u001b[1;31m---------------------------------------------------------------------------\u001b[0m",
      "\u001b[1;31mTypeError\u001b[0m                                 Traceback (most recent call last)",
      "\u001b[1;32m<ipython-input-334-56088daac3de>\u001b[0m in \u001b[0;36m<module>\u001b[1;34m\u001b[0m\n\u001b[0;32m      1\u001b[0m \u001b[0mxs\u001b[0m \u001b[1;33m=\u001b[0m \u001b[1;33m(\u001b[0m\u001b[1;33m)\u001b[0m\u001b[1;33m\u001b[0m\u001b[1;33m\u001b[0m\u001b[0m\n\u001b[1;32m----> 2\u001b[1;33m \u001b[0mprint\u001b[0m\u001b[1;33m(\u001b[0m\u001b[0mtotal\u001b[0m\u001b[1;33m(\u001b[0m\u001b[0mxs\u001b[0m\u001b[1;33m)\u001b[0m\u001b[1;33m)\u001b[0m\u001b[1;33m\u001b[0m\u001b[1;33m\u001b[0m\u001b[0m\n\u001b[0m",
      "\u001b[1;32m<ipython-input-322-3251e4ee6dd2>\u001b[0m in \u001b[0;36mtotal\u001b[1;34m(xs)\u001b[0m\n\u001b[0;32m      1\u001b[0m \u001b[1;32mdef\u001b[0m \u001b[0mtotal\u001b[0m\u001b[1;33m(\u001b[0m\u001b[0mxs\u001b[0m\u001b[1;33m:\u001b[0m \u001b[0mlist\u001b[0m\u001b[1;33m)\u001b[0m\u001b[1;33m->\u001b[0m\u001b[0mfloat\u001b[0m\u001b[1;33m:\u001b[0m\u001b[1;33m\u001b[0m\u001b[1;33m\u001b[0m\u001b[0m\n\u001b[1;32m----> 2\u001b[1;33m     \u001b[1;32mreturn\u001b[0m \u001b[0msum\u001b[0m\u001b[1;33m(\u001b[0m\u001b[0mtotal\u001b[0m\u001b[1;33m)\u001b[0m\u001b[1;33m\u001b[0m\u001b[1;33m\u001b[0m\u001b[0m\n\u001b[0m",
      "\u001b[1;31mTypeError\u001b[0m: 'function' object is not iterable"
     ]
    }
   ],
   "source": [
    "xs = ()\n",
    "print(total(xs))"
   ]
  },
  {
   "cell_type": "markdown",
   "id": "73ffc489",
   "metadata": {},
   "source": [
    "- typing 모듈을 사용한 구체적 타입 명시"
   ]
  },
  {
   "cell_type": "code",
   "execution_count": 292,
   "id": "463a3984",
   "metadata": {},
   "outputs": [],
   "source": [
    "from typing import List #L은 대문자\n",
    "def total(xs: List[float])->float:\n",
    "    return sum(total)"
   ]
  },
  {
   "cell_type": "markdown",
   "id": "5fb1348b",
   "metadata": {},
   "source": [
    "- 변수 타입 명시 방법 (자명하기 때문에 필요는 없음)"
   ]
  },
  {
   "cell_type": "code",
   "execution_count": 293,
   "id": "89e19ebe",
   "metadata": {},
   "outputs": [],
   "source": [
    "x: int = 5"
   ]
  },
  {
   "cell_type": "code",
   "execution_count": 294,
   "id": "9134aa8d",
   "metadata": {},
   "outputs": [
    {
     "data": {
      "text/plain": [
       "int"
      ]
     },
     "execution_count": 294,
     "metadata": {},
     "output_type": "execute_result"
    }
   ],
   "source": [
    "type(x)"
   ]
  },
  {
   "cell_type": "markdown",
   "id": "11530a0c",
   "metadata": {},
   "source": [
    "- 종종 변수의 타입이 명확하지 않을 때"
   ]
  },
  {
   "cell_type": "code",
   "execution_count": 295,
   "id": "6e8e6c7c",
   "metadata": {},
   "outputs": [],
   "source": [
    "values = []\n",
    "best_so_far = None"
   ]
  },
  {
   "cell_type": "code",
   "execution_count": 296,
   "id": "c605bd98",
   "metadata": {},
   "outputs": [
    {
     "data": {
      "text/plain": [
       "list"
      ]
     },
     "execution_count": 296,
     "metadata": {},
     "output_type": "execute_result"
    }
   ],
   "source": [
    "type(values)"
   ]
  },
  {
   "cell_type": "code",
   "execution_count": 297,
   "id": "a759b79d",
   "metadata": {},
   "outputs": [
    {
     "data": {
      "text/plain": [
       "NoneType"
      ]
     },
     "execution_count": 297,
     "metadata": {},
     "output_type": "execute_result"
    }
   ],
   "source": [
    "type(best_so_far)"
   ]
  },
  {
   "cell_type": "markdown",
   "id": "df7045af",
   "metadata": {},
   "source": [
    "- 변수를 정의할 때 타입에 대한 힌트 추가"
   ]
  },
  {
   "cell_type": "code",
   "execution_count": 298,
   "id": "c04df5bc",
   "metadata": {},
   "outputs": [],
   "source": [
    "from typing import Optional\n",
    "values: List[int] = []\n",
    "best_so_far: Optional[float] = None#float이나 None으로 타입 명시"
   ]
  },
  {
   "cell_type": "code",
   "execution_count": 299,
   "id": "d344c8c0",
   "metadata": {},
   "outputs": [
    {
     "data": {
      "text/plain": [
       "list"
      ]
     },
     "execution_count": 299,
     "metadata": {},
     "output_type": "execute_result"
    }
   ],
   "source": [
    "type(values)"
   ]
  },
  {
   "cell_type": "code",
   "execution_count": 300,
   "id": "9a73f327",
   "metadata": {},
   "outputs": [
    {
     "data": {
      "text/plain": [
       "NoneType"
      ]
     },
     "execution_count": 300,
     "metadata": {},
     "output_type": "execute_result"
    }
   ],
   "source": [
    "type(best_so_far)"
   ]
  },
  {
   "cell_type": "markdown",
   "id": "10e4502b",
   "metadata": {},
   "source": [
    "- 자주 사용하는 다양한 유형의 typing 모듈"
   ]
  },
  {
   "cell_type": "code",
   "execution_count": 301,
   "id": "824f7468",
   "metadata": {},
   "outputs": [],
   "source": [
    "#여기서 명시하고 있는 타입들은 너무 자명하여 굳이 명시할 필요는 없다\n",
    "from typing import Dict, Iterable, Tuple"
   ]
  },
  {
   "cell_type": "code",
   "execution_count": 302,
   "id": "4f08e47d",
   "metadata": {},
   "outputs": [],
   "source": [
    "#키는 문자열, 값은 int\n",
    "counts: Dict[str, int] = {'data':1, 'science':2}"
   ]
  },
  {
   "cell_type": "code",
   "execution_count": 303,
   "id": "d1575899",
   "metadata": {},
   "outputs": [
    {
     "data": {
      "text/plain": [
       "dict"
      ]
     },
     "execution_count": 303,
     "metadata": {},
     "output_type": "execute_result"
    }
   ],
   "source": [
    "type(counts)"
   ]
  },
  {
   "cell_type": "code",
   "execution_count": 318,
   "id": "b9b3eb41",
   "metadata": {},
   "outputs": [
    {
     "data": {
      "text/plain": [
       "str"
      ]
     },
     "execution_count": 318,
     "metadata": {},
     "output_type": "execute_result"
    }
   ],
   "source": [
    "a= [i for i in counts.keys()]#key:str\n",
    "type(a[0])"
   ]
  },
  {
   "cell_type": "code",
   "execution_count": 319,
   "id": "51b738c4",
   "metadata": {},
   "outputs": [
    {
     "data": {
      "text/plain": [
       "int"
      ]
     },
     "execution_count": 319,
     "metadata": {},
     "output_type": "execute_result"
    }
   ],
   "source": [
    "a= [i for i in counts.values()]#values:int\n",
    "type(a[0])"
   ]
  },
  {
   "cell_type": "code",
   "execution_count": 320,
   "id": "6346c8b9",
   "metadata": {},
   "outputs": [
    {
     "ename": "NameError",
     "evalue": "name 'lazy' is not defined",
     "output_type": "error",
     "traceback": [
      "\u001b[1;31m---------------------------------------------------------------------------\u001b[0m",
      "\u001b[1;31mNameError\u001b[0m                                 Traceback (most recent call last)",
      "\u001b[1;32m<ipython-input-320-f3741a7c8e70>\u001b[0m in \u001b[0;36m<module>\u001b[1;34m\u001b[0m\n\u001b[0;32m      1\u001b[0m \u001b[1;31m#리스트와 제너레이터는 모두 이터러블이다\u001b[0m\u001b[1;33m\u001b[0m\u001b[1;33m\u001b[0m\u001b[1;33m\u001b[0m\u001b[0m\n\u001b[1;32m----> 2\u001b[1;33m \u001b[1;32mif\u001b[0m \u001b[0mlazy\u001b[0m\u001b[1;33m:\u001b[0m\u001b[1;33m\u001b[0m\u001b[1;33m\u001b[0m\u001b[0m\n\u001b[0m\u001b[0;32m      3\u001b[0m     \u001b[0mevens\u001b[0m \u001b[1;33m=\u001b[0m \u001b[0mIterable\u001b[0m\u001b[1;33m[\u001b[0m\u001b[0mint\u001b[0m\u001b[1;33m]\u001b[0m \u001b[1;33m=\u001b[0m \u001b[1;33m(\u001b[0m\u001b[0mx\u001b[0m \u001b[1;32mfor\u001b[0m \u001b[0mx\u001b[0m \u001b[1;32min\u001b[0m \u001b[0mrange\u001b[0m\u001b[1;33m(\u001b[0m\u001b[1;36m10\u001b[0m\u001b[1;33m)\u001b[0m \u001b[1;32mif\u001b[0m \u001b[0mx\u001b[0m\u001b[1;33m%\u001b[0m\u001b[1;36m2\u001b[0m \u001b[1;33m==\u001b[0m \u001b[1;36m0\u001b[0m\u001b[1;33m)\u001b[0m\u001b[1;33m\u001b[0m\u001b[1;33m\u001b[0m\u001b[0m\n\u001b[0;32m      4\u001b[0m \u001b[1;32melse\u001b[0m\u001b[1;33m:\u001b[0m\u001b[1;33m\u001b[0m\u001b[1;33m\u001b[0m\u001b[0m\n\u001b[0;32m      5\u001b[0m     \u001b[0mevens\u001b[0m \u001b[1;33m=\u001b[0m \u001b[1;33m[\u001b[0m\u001b[1;36m0\u001b[0m\u001b[1;33m,\u001b[0m\u001b[1;36m2\u001b[0m\u001b[1;33m,\u001b[0m\u001b[1;36m4\u001b[0m\u001b[1;33m,\u001b[0m\u001b[1;36m6\u001b[0m\u001b[1;33m,\u001b[0m\u001b[1;36m8\u001b[0m\u001b[1;33m]\u001b[0m\u001b[1;33m\u001b[0m\u001b[1;33m\u001b[0m\u001b[0m\n",
      "\u001b[1;31mNameError\u001b[0m: name 'lazy' is not defined"
     ]
    }
   ],
   "source": [
    "#리스트와 제너레이터는 모두 이터러블이다\n",
    "if lazy:\n",
    "    evens = Iterable[int] = (x for x in range(10) if x%2 == 0)\n",
    "else:\n",
    "    evens = [0,2,4,6,8]"
   ]
  },
  {
   "cell_type": "code",
   "execution_count": 321,
   "id": "49d3b8cd",
   "metadata": {},
   "outputs": [],
   "source": [
    "#튜플 안의 각 항목들의 타입을 구체적으로 명시\n",
    "triple: Tuple[int, float, int] = (10,2.3,5)"
   ]
  },
  {
   "cell_type": "markdown",
   "id": "2499052d",
   "metadata": {},
   "source": [
    "- 일급 함수(first-class functions)에 대해서도 타입 명시 가능"
   ]
  },
  {
   "cell_type": "code",
   "execution_count": 339,
   "id": "d6f9f635",
   "metadata": {},
   "outputs": [],
   "source": [
    "#예시\n",
    "from typing import Callable\n",
    "\n",
    "#repeater함수가 문자열과 int를 인자로 받고\n",
    "#문자열을 변환해 준다는 것을 명시\n",
    "def twice(repeater: Callable[[str,int],str],s: str)->str:\n",
    "    \n",
    "    return repeater(s,2)\n",
    "\n",
    "def comma_repeater(s: str, n:int)->str:\n",
    "    n_copies = [s for _ in range(n)]\n",
    "    return ', '.join(n_copies)\n",
    "\n",
    "assert twice(comma_repeater, \"type hints\") == \"type hints, type hints\""
   ]
  },
  {
   "cell_type": "markdown",
   "id": "4721f3a0",
   "metadata": {},
   "source": [
    "- 명시된 타입 자체도 파이썬 객체이기 때문에 변수로 선언할 수 있다."
   ]
  },
  {
   "cell_type": "code",
   "execution_count": 340,
   "id": "918ddfb9",
   "metadata": {},
   "outputs": [],
   "source": [
    "Number = int\n",
    "Numbers = List[Number]\n",
    "\n",
    "def total(xs: Numbers)->Number:\n",
    "    return sum(xs)"
   ]
  }
 ],
 "metadata": {
  "kernelspec": {
   "display_name": "Python 3",
   "language": "python",
   "name": "python3"
  },
  "language_info": {
   "codemirror_mode": {
    "name": "ipython",
    "version": 3
   },
   "file_extension": ".py",
   "mimetype": "text/x-python",
   "name": "python",
   "nbconvert_exporter": "python",
   "pygments_lexer": "ipython3",
   "version": "3.9.5"
  }
 },
 "nbformat": 4,
 "nbformat_minor": 5
}
