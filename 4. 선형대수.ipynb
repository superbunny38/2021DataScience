{
 "cells": [
  {
   "cell_type": "markdown",
   "id": "86a24ad5",
   "metadata": {},
   "source": [
    "## 선형대수\n",
    ": 벡터 공간을 다루는 수학의 한 분야"
   ]
  },
  {
   "cell_type": "markdown",
   "id": "60dd7123",
   "metadata": {},
   "source": [
    "## 4.1 벡터"
   ]
  },
  {
   "cell_type": "code",
   "execution_count": 3,
   "id": "957c4f66",
   "metadata": {},
   "outputs": [],
   "source": [
    "from typing import List\n",
    "Vector = List[float]\n",
    "height_weight_age = [70,#인치\n",
    "                     170,#파운드\n",
    "                     40]#나이\n",
    "grades = [95,#시험1 점수\n",
    "         80,#시험2 점수\n",
    "         75,#시험3 점수\n",
    "         62#시험4점수\n",
    "         ]"
   ]
  },
  {
   "cell_type": "markdown",
   "id": "a64c0201",
   "metadata": {},
   "source": [
    "#### 벡터 덧셈"
   ]
  },
  {
   "cell_type": "code",
   "execution_count": 4,
   "id": "92460eed",
   "metadata": {},
   "outputs": [],
   "source": [
    "def add(v:Vector, w:Vector)->Vector:\n",
    "    assert len(v)==len(w),\"vectors must be the same length\"\n",
    "    \n",
    "    return [v_i + w_i for v_i, w_i in zip(v,w)]\n",
    "assert add([1,2,3],[4,5,6])==[5,7,9]"
   ]
  },
  {
   "cell_type": "markdown",
   "id": "f63c3057",
   "metadata": {},
   "source": [
    "#### 벡터 뺄셈"
   ]
  },
  {
   "cell_type": "code",
   "execution_count": 14,
   "id": "138a01f1",
   "metadata": {},
   "outputs": [],
   "source": [
    "def subtract(v:Vector, w:Vector)->Vector:\n",
    "    assert len(v)==len(w),\"vector must be the same length\"\n",
    "    return [v_i - w_i for v_i, w_i in zip(v,w)]"
   ]
  },
  {
   "cell_type": "markdown",
   "id": "18b067f3",
   "metadata": {},
   "source": [
    "#### 벡터 총합"
   ]
  },
  {
   "cell_type": "code",
   "execution_count": 56,
   "id": "3746f557",
   "metadata": {},
   "outputs": [],
   "source": [
    "#모든 벡터의 각 성분들끼리 더한다\n",
    "def vector_sum(vectors: List[Vector])->Vector:\n",
    "    \n",
    "    #vectors가 비어있는지 확인\n",
    "    assert vectors, \"no vectors provided!\"\n",
    "    \n",
    "    #모든 벡터의 길이가 동일한지 확인\n",
    "    num_elements = len(vectors[0])\n",
    "    assert all(len(v) == num_elements for v in vectors),\"different sizes!\"\n",
    "    \n",
    "    #i번째 결과값은 모든 벡터의 i번째 성분을 더한 값\n",
    "    return [sum(vector[i] for vector in vectors) for i in range(num_elements)]"
   ]
  },
  {
   "cell_type": "code",
   "execution_count": 57,
   "id": "175cd594",
   "metadata": {},
   "outputs": [],
   "source": [
    "assert vector_sum([[1,2],[3,4],[5,6],[7,8]])==[16,20]"
   ]
  },
  {
   "cell_type": "markdown",
   "id": "43eeaaf1",
   "metadata": {},
   "source": [
    "#### 벡터의 각 원소와 스칼라 곱셈"
   ]
  },
  {
   "cell_type": "code",
   "execution_count": 43,
   "id": "63250da8",
   "metadata": {},
   "outputs": [],
   "source": [
    "def scalar_multiply(c:float, v:Vector)->Vector:\n",
    "    \"\"\"모든 성분을 c로 곱하기\"\"\"\n",
    "    return [c*v_i for v_i in v]"
   ]
  },
  {
   "cell_type": "code",
   "execution_count": 44,
   "id": "1e10a8f4",
   "metadata": {},
   "outputs": [],
   "source": [
    "assert scalar_multiply(2,[1,2,3])==[2,4,6]"
   ]
  },
  {
   "cell_type": "markdown",
   "id": "64539264",
   "metadata": {},
   "source": [
    "#### 벡터 성분 별 평균"
   ]
  },
  {
   "cell_type": "code",
   "execution_count": 58,
   "id": "14915712",
   "metadata": {},
   "outputs": [],
   "source": [
    "def vector_mean(vectors: List[Vector])->Vector:\n",
    "    \"\"\"각 성분별 평균을 계산\"\"\"\n",
    "    n = len(vectors)\n",
    "    return scalar_multiply(1/n,vector_sum(vectors))"
   ]
  },
  {
   "cell_type": "code",
   "execution_count": 60,
   "id": "693dfe9d",
   "metadata": {},
   "outputs": [],
   "source": [
    "assert vector_mean([[1,2],[3,4],[5,6]])==[3,4]"
   ]
  },
  {
   "cell_type": "code",
   "execution_count": 64,
   "id": "ef55e22b",
   "metadata": {},
   "outputs": [
    {
     "data": {
      "text/plain": [
       "3"
      ]
     },
     "execution_count": 64,
     "metadata": {},
     "output_type": "execute_result"
    }
   ],
   "source": [
    "sum([1,2])"
   ]
  },
  {
   "cell_type": "markdown",
   "id": "462826d2",
   "metadata": {},
   "source": [
    "#### 벡터의 내적"
   ]
  },
  {
   "cell_type": "code",
   "execution_count": 65,
   "id": "b43b5db7",
   "metadata": {},
   "outputs": [],
   "source": [
    "def dot(v:Vector, w:Vector)->float:\n",
    "    assert len(v)==len(w),\"vectors must be the same length\"\n",
    "    return sum(v_i*w_i for v_i,w_i in zip(v,w))"
   ]
  },
  {
   "cell_type": "code",
   "execution_count": 66,
   "id": "147b5eda",
   "metadata": {},
   "outputs": [],
   "source": [
    "assert dot([1,2,3],[4,5,6])==32"
   ]
  },
  {
   "cell_type": "markdown",
   "id": "b1847783",
   "metadata": {},
   "source": [
    "#### 각 성분의 제곱 값의 합"
   ]
  },
  {
   "cell_type": "code",
   "execution_count": 67,
   "id": "b42fbdd3",
   "metadata": {},
   "outputs": [],
   "source": [
    "def sum_of_squares(v:Vector)->float:\n",
    "    return dot(v,v)"
   ]
  },
  {
   "cell_type": "code",
   "execution_count": 68,
   "id": "8f07207a",
   "metadata": {},
   "outputs": [],
   "source": [
    "assert sum_of_squares([1,2,3])==14"
   ]
  },
  {
   "cell_type": "markdown",
   "id": "e2a4b980",
   "metadata": {},
   "source": [
    "#### 벡터의 크기"
   ]
  },
  {
   "cell_type": "code",
   "execution_count": 69,
   "id": "7d5c220f",
   "metadata": {},
   "outputs": [],
   "source": [
    "import math\n",
    "def magnitude(v:Vector)->float:\n",
    "    \"\"\"벡터 v의 크기를 반환\"\"\"\n",
    "    return math.sqrt(sum_of_squares(v))"
   ]
  },
  {
   "cell_type": "code",
   "execution_count": 70,
   "id": "b0c6f96c",
   "metadata": {},
   "outputs": [],
   "source": [
    "assert magnitude([3,4])==5"
   ]
  },
  {
   "cell_type": "code",
   "execution_count": 75,
   "id": "0c470c20",
   "metadata": {},
   "outputs": [],
   "source": [
    "def squared_distance(v:Vector, w:Vector)->float:\n",
    "    \"\"\"(v_i - w_i)**2\"\"\"\n",
    "    s = subtract(v,w)\n",
    "    return sum_of_squares(s)"
   ]
  },
  {
   "cell_type": "markdown",
   "id": "63282eea",
   "metadata": {},
   "source": [
    "#### 벡터 간 거리"
   ]
  },
  {
   "cell_type": "code",
   "execution_count": 76,
   "id": "7a9f0264",
   "metadata": {},
   "outputs": [],
   "source": [
    "def distance(v:Vector, w:Vector)->float:\n",
    "    return math.sqrt(squared_distance(v,w))"
   ]
  },
  {
   "cell_type": "code",
   "execution_count": 77,
   "id": "9ba2cfec",
   "metadata": {},
   "outputs": [],
   "source": [
    "#magnitude활용\n",
    "def distance2(v:Vector, w:Vector)->float:\n",
    "    return magnitude(subtract(v,w))"
   ]
  },
  {
   "cell_type": "markdown",
   "id": "9b5e4389",
   "metadata": {},
   "source": [
    "## 4.2 행렬"
   ]
  },
  {
   "cell_type": "code",
   "execution_count": 78,
   "id": "9c792c85",
   "metadata": {},
   "outputs": [],
   "source": [
    "Matrix = List[List[float]]\n",
    "A = [[1,2,3],[4,5,6]]\n",
    "B = [[1,2],[3,4],[5,6]]"
   ]
  },
  {
   "cell_type": "markdown",
   "id": "4e836c2e",
   "metadata": {},
   "source": [
    "- 행: len(A)\n",
    "- 열: len(A[0])"
   ]
  },
  {
   "cell_type": "code",
   "execution_count": 79,
   "id": "13568712",
   "metadata": {},
   "outputs": [],
   "source": [
    "from typing import Tuple\n",
    "def shape(A: Matrix)->Tuple[int,int]:\n",
    "    \"\"\"(열의 개수, 행의 개수)를 반환\"\"\"\n",
    "    num_rows = len(A)\n",
    "    num_cols= len(A[0]) if A else 0\n",
    "    return num_rows, num_cols"
   ]
  },
  {
   "cell_type": "code",
   "execution_count": 80,
   "id": "ba640580",
   "metadata": {},
   "outputs": [],
   "source": [
    "assert shape([[1,2,3],[4,5,6]])==(2,3)"
   ]
  },
  {
   "cell_type": "code",
   "execution_count": 82,
   "id": "9640488e",
   "metadata": {},
   "outputs": [],
   "source": [
    "M = [[1,2,3],[4,5,6]]"
   ]
  },
  {
   "cell_type": "code",
   "execution_count": 90,
   "id": "c34531f3",
   "metadata": {},
   "outputs": [],
   "source": [
    "def get_row(A:Matrix, i:int)->Vector:\n",
    "    return A[i]"
   ]
  },
  {
   "cell_type": "code",
   "execution_count": 91,
   "id": "c32e38fb",
   "metadata": {},
   "outputs": [
    {
     "data": {
      "text/plain": [
       "[1, 2, 3]"
      ]
     },
     "execution_count": 91,
     "metadata": {},
     "output_type": "execute_result"
    }
   ],
   "source": [
    "get_row(M,0)"
   ]
  },
  {
   "cell_type": "code",
   "execution_count": 93,
   "id": "e12a4f6b",
   "metadata": {},
   "outputs": [],
   "source": [
    "def get_column(A: Matrix, i:int)->Vector:\n",
    "    return [a[i] for a in A]"
   ]
  },
  {
   "cell_type": "code",
   "execution_count": 94,
   "id": "74bb1596",
   "metadata": {},
   "outputs": [
    {
     "data": {
      "text/plain": [
       "[1, 4]"
      ]
     },
     "execution_count": 94,
     "metadata": {},
     "output_type": "execute_result"
    }
   ],
   "source": [
    "get_column(M,0)"
   ]
  },
  {
   "cell_type": "markdown",
   "id": "e0ec5a37",
   "metadata": {},
   "source": [
    "#### 행렬 생성"
   ]
  },
  {
   "cell_type": "code",
   "execution_count": 98,
   "id": "3dd04027",
   "metadata": {},
   "outputs": [],
   "source": [
    "from typing import Callable\n",
    "def make_matrix(num_rows: int, num_cols: int, entry_fn: Callable[int,int])->Matrix:\n",
    "    return [[entry_fn(i,j) for j in range(num_cols)] for i in range(num_rows)]"
   ]
  },
  {
   "cell_type": "markdown",
   "id": "bfac2c43",
   "metadata": {},
   "source": [
    "#### identity matrix(단위 행렬)"
   ]
  },
  {
   "cell_type": "code",
   "execution_count": 99,
   "id": "c380bfce",
   "metadata": {},
   "outputs": [],
   "source": [
    "def identity_matrix(n:int)->Matrix:\n",
    "    return make_matrix(n,n,lambda i,j: 1 if i==j else 0)"
   ]
  },
  {
   "cell_type": "code",
   "execution_count": 100,
   "id": "bd352453",
   "metadata": {},
   "outputs": [],
   "source": [
    "assert identity_matrix(5)==[[1,0,0,0,0],[0,1,0,0,0],[0,0,1,0,0],[0,0,0,1,0],[0,0,0,0,1]]"
   ]
  }
 ],
 "metadata": {
  "kernelspec": {
   "display_name": "Python 3",
   "language": "python",
   "name": "python3"
  },
  "language_info": {
   "codemirror_mode": {
    "name": "ipython",
    "version": 3
   },
   "file_extension": ".py",
   "mimetype": "text/x-python",
   "name": "python",
   "nbconvert_exporter": "python",
   "pygments_lexer": "ipython3",
   "version": "3.9.5"
  }
 },
 "nbformat": 4,
 "nbformat_minor": 5
}
