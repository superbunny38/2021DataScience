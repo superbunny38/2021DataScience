{
 "cells": [
  {
   "cell_type": "markdown",
   "id": "adebec42",
   "metadata": {},
   "source": [
    "## 5.1 데이터셋 설명하기"
   ]
  },
  {
   "cell_type": "markdown",
   "id": "fbfb4ee2",
   "metadata": {},
   "source": [
    "사용자들이 몇 명의 친구를 갖고있는지 설명"
   ]
  },
  {
   "cell_type": "code",
   "execution_count": 4,
   "id": "cf8d0a7f",
   "metadata": {},
   "outputs": [
    {
     "data": {
      "text/plain": [
       "[96, 73, 107, 56, 115, 125, 41, 128, 50, 9]"
      ]
     },
     "execution_count": 4,
     "metadata": {},
     "output_type": "execute_result"
    }
   ],
   "source": [
    "import random\n",
    "num_friends = [random.randint(3,130) for i in range(200)]\n",
    "num_friends[:10]"
   ]
  },
  {
   "cell_type": "code",
   "execution_count": null,
   "id": "13eed7e4",
   "metadata": {},
   "outputs": [],
   "source": []
  },
  {
   "cell_type": "code",
   "execution_count": 10,
   "id": "bd6c3bcc",
   "metadata": {},
   "outputs": [
    {
     "name": "stdout",
     "output_type": "stream",
     "text": [
      "Counter({50: 5, 25: 4, 113: 4, 33: 4, 51: 4, 85: 4, 42: 4, 130: 4, 39: 3, 93: 3, 109: 3, 90: 3, 88: 3, 124: 3, 117: 3, 79: 3, 67: 3, 18: 3, 65: 3, 36: 3, 48: 3, 52: 3, 64: 3, 96: 2, 115: 2, 125: 2, 128: 2, 16: 2, 114: 2, 14: 2, 28: 2, 19: 2, 81: 2, 10: 2, 112: 2, 92: 2, 91: 2, 55: 2, 57: 2, 40: 2, 59: 2, 121: 2, 89: 2, 110: 2, 30: 2, 5: 2, 122: 2, 108: 2, 69: 2, 95: 2, 82: 2, 6: 2, 58: 2, 46: 2, 84: 2, 102: 2, 15: 2, 53: 2, 126: 2, 17: 2, 73: 1, 107: 1, 56: 1, 41: 1, 9: 1, 71: 1, 101: 1, 45: 1, 44: 1, 106: 1, 98: 1, 49: 1, 26: 1, 35: 1, 27: 1, 76: 1, 61: 1, 22: 1, 99: 1, 21: 1, 78: 1, 31: 1, 32: 1, 62: 1, 118: 1, 80: 1, 66: 1, 54: 1, 7: 1, 74: 1, 13: 1, 63: 1, 24: 1, 127: 1, 4: 1, 8: 1, 123: 1, 86: 1, 83: 1, 75: 1, 11: 1, 70: 1, 119: 1, 43: 1, 103: 1, 116: 1, 100: 1, 29: 1})\n",
      "len:  108\n"
     ]
    }
   ],
   "source": [
    "from collections import Counter\n",
    "import matplotlib.pyplot as plt\n",
    "\n",
    "friend_counts = Counter(num_friends)#num_friends의 item이 몇개 있는지 세어줌\n",
    "print(friend_counts)\n",
    "print(\"len: \",len(friend_counts))"
   ]
  },
  {
   "cell_type": "code",
   "execution_count": 11,
   "id": "4de8ab53",
   "metadata": {},
   "outputs": [
    {
     "data": {
      "text/plain": [
       "range(0, 101)"
      ]
     },
     "execution_count": 11,
     "metadata": {},
     "output_type": "execute_result"
    }
   ],
   "source": [
    "xs = range(101)\n",
    "xs"
   ]
  },
  {
   "cell_type": "code",
   "execution_count": 12,
   "id": "83c7d30e",
   "metadata": {},
   "outputs": [
    {
     "name": "stdout",
     "output_type": "stream",
     "text": [
      "0\n",
      "0\n",
      "0\n",
      "0\n",
      "1\n",
      "2\n",
      "2\n",
      "1\n",
      "1\n",
      "1\n",
      "2\n",
      "1\n",
      "0\n",
      "1\n",
      "2\n",
      "2\n",
      "2\n",
      "2\n",
      "3\n",
      "2\n",
      "0\n",
      "1\n",
      "1\n",
      "0\n",
      "1\n",
      "4\n",
      "1\n",
      "1\n",
      "2\n",
      "1\n",
      "2\n",
      "1\n",
      "1\n",
      "4\n",
      "0\n",
      "1\n",
      "3\n",
      "0\n",
      "0\n",
      "3\n",
      "2\n",
      "1\n",
      "4\n",
      "1\n",
      "1\n",
      "1\n",
      "2\n",
      "0\n",
      "3\n",
      "1\n",
      "5\n",
      "4\n",
      "3\n",
      "2\n",
      "1\n",
      "2\n",
      "1\n",
      "2\n",
      "2\n",
      "2\n",
      "0\n",
      "1\n",
      "1\n",
      "1\n",
      "3\n",
      "3\n",
      "1\n",
      "3\n",
      "0\n",
      "2\n",
      "1\n",
      "1\n",
      "0\n",
      "1\n",
      "1\n",
      "1\n",
      "1\n",
      "0\n",
      "1\n",
      "3\n",
      "1\n",
      "2\n",
      "2\n",
      "1\n",
      "2\n",
      "4\n",
      "1\n",
      "0\n",
      "3\n",
      "2\n",
      "3\n",
      "2\n",
      "2\n",
      "3\n",
      "0\n",
      "2\n",
      "2\n",
      "0\n",
      "1\n",
      "1\n",
      "1\n"
     ]
    }
   ],
   "source": [
    "for x in xs:\n",
    "    print(friend_counts[x])#x명 친구 있는 사람은 몇 명"
   ]
  },
  {
   "cell_type": "code",
   "execution_count": 13,
   "id": "398d448f",
   "metadata": {},
   "outputs": [],
   "source": [
    "ys = [friend_counts[x] for x in xs]"
   ]
  },
  {
   "cell_type": "code",
   "execution_count": 14,
   "id": "65c2e299",
   "metadata": {},
   "outputs": [
    {
     "data": {
      "text/plain": [
       "[0,\n",
       " 0,\n",
       " 0,\n",
       " 0,\n",
       " 1,\n",
       " 2,\n",
       " 2,\n",
       " 1,\n",
       " 1,\n",
       " 1,\n",
       " 2,\n",
       " 1,\n",
       " 0,\n",
       " 1,\n",
       " 2,\n",
       " 2,\n",
       " 2,\n",
       " 2,\n",
       " 3,\n",
       " 2,\n",
       " 0,\n",
       " 1,\n",
       " 1,\n",
       " 0,\n",
       " 1,\n",
       " 4,\n",
       " 1,\n",
       " 1,\n",
       " 2,\n",
       " 1,\n",
       " 2,\n",
       " 1,\n",
       " 1,\n",
       " 4,\n",
       " 0,\n",
       " 1,\n",
       " 3,\n",
       " 0,\n",
       " 0,\n",
       " 3,\n",
       " 2,\n",
       " 1,\n",
       " 4,\n",
       " 1,\n",
       " 1,\n",
       " 1,\n",
       " 2,\n",
       " 0,\n",
       " 3,\n",
       " 1,\n",
       " 5,\n",
       " 4,\n",
       " 3,\n",
       " 2,\n",
       " 1,\n",
       " 2,\n",
       " 1,\n",
       " 2,\n",
       " 2,\n",
       " 2,\n",
       " 0,\n",
       " 1,\n",
       " 1,\n",
       " 1,\n",
       " 3,\n",
       " 3,\n",
       " 1,\n",
       " 3,\n",
       " 0,\n",
       " 2,\n",
       " 1,\n",
       " 1,\n",
       " 0,\n",
       " 1,\n",
       " 1,\n",
       " 1,\n",
       " 1,\n",
       " 0,\n",
       " 1,\n",
       " 3,\n",
       " 1,\n",
       " 2,\n",
       " 2,\n",
       " 1,\n",
       " 2,\n",
       " 4,\n",
       " 1,\n",
       " 0,\n",
       " 3,\n",
       " 2,\n",
       " 3,\n",
       " 2,\n",
       " 2,\n",
       " 3,\n",
       " 0,\n",
       " 2,\n",
       " 2,\n",
       " 0,\n",
       " 1,\n",
       " 1,\n",
       " 1]"
      ]
     },
     "execution_count": 14,
     "metadata": {},
     "output_type": "execute_result"
    }
   ],
   "source": [
    "ys#index명 친구 있는 사람 몇명"
   ]
  },
  {
   "cell_type": "code",
   "execution_count": 16,
   "id": "fb1e83c4",
   "metadata": {},
   "outputs": [
    {
     "data": {
      "image/png": "[encoded data removed]",
      "text/plain": [
       "<Figure size 432x288 with 1 Axes>"
      ]
     },
     "metadata": {
      "needs_background": "light"
     },
     "output_type": "display_data"
    }
   ],
   "source": [
    "plt.bar(xs,ys)\n",
    "plt.axis([0,101,0,25])\n",
    "plt.title(\"Histogram of Friend Counts\")\n",
    "plt.xlabel(\"# of friends\")\n",
    "plt.ylabel(\"# of people\")\n",
    "plt.show()"
   ]
  },
  {
   "cell_type": "code",
   "execution_count": 18,
   "id": "01a8280a",
   "metadata": {},
   "outputs": [
    {
     "data": {
      "text/plain": [
       "200"
      ]
     },
     "execution_count": 18,
     "metadata": {},
     "output_type": "execute_result"
    }
   ],
   "source": [
    "num_points = len(num_friends)\n",
    "num_points"
   ]
  },
  {
   "cell_type": "code",
   "execution_count": 19,
   "id": "b890e946",
   "metadata": {},
   "outputs": [
    {
     "data": {
      "text/plain": [
       "130"
      ]
     },
     "execution_count": 19,
     "metadata": {},
     "output_type": "execute_result"
    }
   ],
   "source": [
    "#최대값\n",
    "largest_value = max(num_friends)\n",
    "largest_value"
   ]
  },
  {
   "cell_type": "code",
   "execution_count": 20,
   "id": "20085aa3",
   "metadata": {},
   "outputs": [
    {
     "data": {
      "text/plain": [
       "4"
      ]
     },
     "execution_count": 20,
     "metadata": {},
     "output_type": "execute_result"
    }
   ],
   "source": [
    "#최소값\n",
    "smallest_value = min(num_friends)\n",
    "smallest_value"
   ]
  },
  {
   "cell_type": "code",
   "execution_count": 21,
   "id": "16391b5a",
   "metadata": {},
   "outputs": [
    {
     "name": "stdout",
     "output_type": "stream",
     "text": [
      "4\n",
      "5\n",
      "130\n",
      "130\n"
     ]
    }
   ],
   "source": [
    "#정렬을 통해 최대&최소를 특정 위치로 표현할 수 있음\n",
    "sorted_values = sorted(num_friends)\n",
    "smallest_value = sorted_values[0]\n",
    "second_smallest_value = sorted_values[1]\n",
    "lagest_value = sorted_values[-1]\n",
    "second_larest_value = sorted_values[-2]\n",
    "print(smallest_value)\n",
    "print(second_smallest_value)\n",
    "print(largest_value)\n",
    "print(second_larest_value)"
   ]
  },
  {
   "cell_type": "markdown",
   "id": "33f3dc7c",
   "metadata": {},
   "source": [
    "### 5.1.1 중심 경향성\n",
    ": 데이터의 중심이 어디 있는지"
   ]
  },
  {
   "cell_type": "markdown",
   "id": "45553844",
   "metadata": {},
   "source": [
    "평균"
   ]
  },
  {
   "cell_type": "code",
   "execution_count": 24,
   "id": "e4639610",
   "metadata": {},
   "outputs": [
    {
     "data": {
      "text/plain": [
       "67.895"
      ]
     },
     "execution_count": 24,
     "metadata": {},
     "output_type": "execute_result"
    }
   ],
   "source": [
    "from typing import List\n",
    "def mean(xs:List[float])->float:#평균\n",
    "    return sum(xs)/len(xs)\n",
    "\n",
    "mean(num_friends)"
   ]
  },
  {
   "cell_type": "markdown",
   "id": "34b4d984",
   "metadata": {},
   "source": [
    "중앙값<br>\n",
    ":데이터의 개수가 짝수라면 가장 중앙에 있는 두 데이터 포인트의 평균을 의미<br>\n",
    "**밑줄표시(_)로 시작하는 함수는 프라이빗 함수를 의미"
   ]
  },
  {
   "cell_type": "code",
   "execution_count": 36,
   "id": "f93f463a",
   "metadata": {},
   "outputs": [],
   "source": [
    "def _median_odd(xs:List[float])->float:\n",
    "    \"\"\"len(xs)가 홀수면 중앙값을 반환\"\"\"\n",
    "    idx = len(xs)//2\n",
    "    return sorted(xs)[idx]"
   ]
  },
  {
   "cell_type": "code",
   "execution_count": 40,
   "id": "b6f992cf",
   "metadata": {},
   "outputs": [],
   "source": [
    "def _median_even(xs:List[float])->float:\n",
    "    \"\"\"len(xs)가 짝수면 두 중앙값의 평균을 반환\"\"\"\n",
    "    sorted_xs = sorted(xs)\n",
    "    hi_midpoint= len(sorted_xs)//2\n",
    "    return (sorted_xs[hi_midpoint]+sorted_xs[hi_midpoint-1])/2"
   ]
  },
  {
   "cell_type": "code",
   "execution_count": 38,
   "id": "57f23dfe",
   "metadata": {},
   "outputs": [],
   "source": [
    "def median(v:List[float])->float:\n",
    "    \"\"\"v의 중앙값을 계산\"\"\"\n",
    "    return _median_odd(v) if len(v)%2==1 else _median_even(v)"
   ]
  },
  {
   "cell_type": "code",
   "execution_count": 39,
   "id": "6464825c",
   "metadata": {},
   "outputs": [],
   "source": [
    "assert median([1,10,2,9,5])==5"
   ]
  },
  {
   "cell_type": "code",
   "execution_count": 41,
   "id": "64a987d7",
   "metadata": {},
   "outputs": [],
   "source": [
    "assert median([1,9,2,10])==(2+9)/2"
   ]
  },
  {
   "cell_type": "code",
   "execution_count": 42,
   "id": "b5312e65",
   "metadata": {},
   "outputs": [
    {
     "name": "stdout",
     "output_type": "stream",
     "text": [
      "65.0\n"
     ]
    }
   ],
   "source": [
    "#사용자별 친구 수의 중앙값\n",
    "print(median(num_friends))"
   ]
  },
  {
   "cell_type": "markdown",
   "id": "ebd65f82",
   "metadata": {},
   "source": [
    "분위(quantile): 중앙값을 포괄하는 개념으로 특정 백분위보다 낮은 분위에 속하는 데이터를 의미\n",
    "<br>(중앙값은 상위 50%의 데이터보다 작은 값을 의미)"
   ]
  },
  {
   "cell_type": "code",
   "execution_count": 32,
   "id": "70ca96bb",
   "metadata": {},
   "outputs": [],
   "source": [
    "def quantile(xs: List[float],p:float)->float:\n",
    "    \"\"\"x의 p분위에 위치하는 값을 반환\"\"\"\n",
    "    p_index = int(p*len(xs))\n",
    "    return sorted(xs)[p_index]"
   ]
  },
  {
   "cell_type": "code",
   "execution_count": 33,
   "id": "819b395a",
   "metadata": {},
   "outputs": [],
   "source": [
    "#assert quantile(num_friends,0.10)==1"
   ]
  },
  {
   "cell_type": "markdown",
   "id": "a90fa0d0",
   "metadata": {},
   "source": [
    "최빈값(mode: 데이터에서 가장 자주 나오는 값)<br>\n",
    "(1개 이상일수 있음)"
   ]
  },
  {
   "cell_type": "code",
   "execution_count": 45,
   "id": "9b21773c",
   "metadata": {},
   "outputs": [],
   "source": [
    "def mode(x:List[float])->List[float]:\n",
    "    \"\"\"최빈값이 하나보다 많을 수도 있으니 결과를 리스트로 반환\"\"\"\n",
    "    counts = Counter(x)\n",
    "    max_count = max(counts.values())\n",
    "    return [x_i for x_i, count in counts.items() if count == max_count]"
   ]
  },
  {
   "cell_type": "code",
   "execution_count": 46,
   "id": "ec2e0bcf",
   "metadata": {},
   "outputs": [
    {
     "name": "stdout",
     "output_type": "stream",
     "text": [
      "[50]\n"
     ]
    }
   ],
   "source": [
    "print(mode(num_friends))"
   ]
  },
  {
   "cell_type": "markdown",
   "id": "3fd8f778",
   "metadata": {},
   "source": [
    "### 5.1.2 산포도 Dispersion\n",
    "산포도는 데이터가 얼마나 퍼져 있는지를 나타낸다.<br>\n",
    "보통 0과 근접한 값이면 데이터가 거의 퍼져있지 않다는 의미이고 큰 값이면 매우 퍼져있다는 것을 의미하는 통계치다<br>\n",
    "예를 들어 가장 큰 값과 작은 값의 차이를 나타내는 범위는 산포도를 나타내는 가장 간단한 통계치다."
   ]
  },
  {
   "cell_type": "code",
   "execution_count": 47,
   "id": "5f691506",
   "metadata": {},
   "outputs": [],
   "source": [
    "#파이썬에서 \"range\"는 이미 다른 것을 의미하기 때문에 다른 이름을 사용\n",
    "def data_range(xs:List[float])->float:\n",
    "    return max(xs)-min(xs)"
   ]
  },
  {
   "cell_type": "code",
   "execution_count": 48,
   "id": "09119d1d",
   "metadata": {},
   "outputs": [
    {
     "data": {
      "text/plain": [
       "126"
      ]
     },
     "execution_count": 48,
     "metadata": {},
     "output_type": "execute_result"
    }
   ],
   "source": [
    "data_range(num_friends)"
   ]
  },
  {
   "cell_type": "code",
   "execution_count": 49,
   "id": "04db3bd4",
   "metadata": {},
   "outputs": [
    {
     "data": {
      "text/plain": [
       "130"
      ]
     },
     "execution_count": 49,
     "metadata": {},
     "output_type": "execute_result"
    }
   ],
   "source": [
    "max(num_friends)"
   ]
  },
  {
   "cell_type": "code",
   "execution_count": 50,
   "id": "a34b8866",
   "metadata": {},
   "outputs": [
    {
     "data": {
      "text/plain": [
       "4"
      ]
     },
     "execution_count": 50,
     "metadata": {},
     "output_type": "execute_result"
    }
   ],
   "source": [
    "min(num_friends)"
   ]
  },
  {
   "cell_type": "markdown",
   "id": "0cbc8131",
   "metadata": {},
   "source": [
    "<b>분산</b>\n",
    "<br>n대신 n01로 나누는 이유:<br>\n",
    "편차의 제곱합을 n으로 나누면 편향(bias)때문에 모분산에 대한 추정값이 실제 모분산보다 작게 계산되는 것을 보정"
   ]
  },
  {
   "cell_type": "code",
   "execution_count": 52,
   "id": "c596c8c6",
   "metadata": {},
   "outputs": [
    {
     "name": "stdout",
     "output_type": "stream",
     "text": [
      "Collecting scratch\n",
      "  Downloading scratch-1.0.0.tar.gz (4.3 kB)\n",
      "Building wheels for collected packages: scratch\n",
      "  Building wheel for scratch (setup.py): started\n",
      "  Building wheel for scratch (setup.py): finished with status 'done'\n",
      "  Created wheel for scratch: filename=scratch-1.0.0-py2.py3-none-any.whl size=4893 sha256=a15f63c1c4f815830753c5ac582b32d24e2e296d8744e96e63df850b388cdc31\n",
      "  Stored in directory: c:\\users\\lg\\appdata\\local\\pip\\cache\\wheels\\22\\6a\\5d\\4071c3f884b9bb193cda477843edb30b1517fede937f9fa627\n",
      "Successfully built scratch\n",
      "Installing collected packages: scratch\n",
      "Successfully installed scratch-1.0.0\n"
     ]
    }
   ],
   "source": [
    "!pip install scratch"
   ]
  },
  {
   "cell_type": "code",
   "execution_count": 55,
   "id": "e6d68cca",
   "metadata": {},
   "outputs": [],
   "source": [
    "def de_mean(xs: List[float])->List[float]:\n",
    "    \"\"\"x의 모든 데이터 포인트에서 평균을 뺌(평균을 0으로 만들기 위해)\"\"\"\n",
    "    x_bar = mean(xs)\n",
    "    return [x-x_bar for x in xs]"
   ]
  },
  {
   "cell_type": "code",
   "execution_count": 57,
   "id": "c60c9549",
   "metadata": {},
   "outputs": [],
   "source": [
    "def sum_of_squares(xs: List[float])->List[float]:\n",
    "    li = [x**2 for x in xs]\n",
    "    return sum(li)"
   ]
  },
  {
   "cell_type": "code",
   "execution_count": 63,
   "id": "2a04c040",
   "metadata": {},
   "outputs": [],
   "source": [
    "a = [1,2,3]\n",
    "assert sum_of_squares(a)==14"
   ]
  },
  {
   "cell_type": "code",
   "execution_count": 60,
   "id": "903a1ecf",
   "metadata": {},
   "outputs": [],
   "source": [
    "def variance(xs:List[float])->float:\n",
    "    \"\"\"편차의 제곱의 (거의) 평균\"\"\"\n",
    "    n = len(xs)\n",
    "    assert len(xs)>=2, \"variance requires at least two elements\"#0으로 나누는거 방지\n",
    "    return sum_of_squares(de_mean(xs))/(n-1)"
   ]
  },
  {
   "cell_type": "code",
   "execution_count": 61,
   "id": "69d90e33",
   "metadata": {},
   "outputs": [
    {
     "data": {
      "text/plain": [
       "1339.7225879396988"
      ]
     },
     "execution_count": 61,
     "metadata": {},
     "output_type": "execute_result"
    }
   ],
   "source": [
    "variance(num_friends)"
   ]
  },
  {
   "cell_type": "markdown",
   "id": "e2768bea",
   "metadata": {},
   "source": [
    "표준편차"
   ]
  },
  {
   "cell_type": "code",
   "execution_count": 64,
   "id": "8d192c79",
   "metadata": {},
   "outputs": [],
   "source": [
    "import math\n",
    "def standard_deviation(xs:List[float])->float:\n",
    "    \"\"\"표준편차는 분산의 제곱근\"\"\"\n",
    "    return math.sqrt(variance(xs))"
   ]
  },
  {
   "cell_type": "code",
   "execution_count": 65,
   "id": "2cc53d1b",
   "metadata": {},
   "outputs": [
    {
     "data": {
      "text/plain": [
       "36.60222107932385"
      ]
     },
     "execution_count": 65,
     "metadata": {},
     "output_type": "execute_result"
    }
   ],
   "source": [
    "standard_deviation(num_friends)"
   ]
  },
  {
   "cell_type": "markdown",
   "id": "9009f6d7",
   "metadata": {},
   "source": [
    "단, 분산과 표준쳔차 또한 평균처럼 이상치에 민감하게 반응하는 문제가 있다.<br>\n",
    "<b>안정적인 방법: 상위 25%에 해당되는 값과 하위 25%에 해당되는 값의 차이를 계산</b>"
   ]
  },
  {
   "cell_type": "code",
   "execution_count": 66,
   "id": "98f80f54",
   "metadata": {},
   "outputs": [],
   "source": [
    "def interquartile_range(xs:List[float])->float:\n",
    "    \"\"\"상위 25%에 해당하는 값과 하위 25%에 해당하는 값의 차이를 반환\"\"\"\n",
    "    return quantile(xs,0.75)-quantile(xs,0.25)"
   ]
  },
  {
   "cell_type": "markdown",
   "id": "5bc390c0",
   "metadata": {},
   "source": [
    "#### <b>공분산 Covariance</b>\n",
    ": 두 변수가 각각의 평균에서 얼마나 떨어져 있는지<br>\n",
    "- 공분산이 양수이면 x의 값이 클수록 y의 값이 크고, x의 값이 작을수록 y의 값이 작다는 것을 의미한다.(x와 y는 정비례)<br>\n",
    "- 공분산이 음수이면 x의 값이 클수록 y의 값이 작고, x의 값이 작을수록 y의 값이 크다는 것을 의미한다.(x와 y는 반비례)<br>\n",
    "- 공분산이 0이면 그와 같은 관계가 존재하지 않는다는 의미"
   ]
  },
  {
   "cell_type": "code",
   "execution_count": 70,
   "id": "445a65d2",
   "metadata": {},
   "outputs": [],
   "source": [
    "from typing import List\n",
    "\n",
    "Vector = List[float]\n",
    "\n",
    "def dot(v: Vector, w: Vector) -> float:\n",
    "    \"\"\"Computes v_1 * w_1 + ... + v_n * w_n\"\"\"\n",
    "    assert len(v) == len(w), \"vectors must be same length\"\n",
    "\n",
    "    return sum(v_i * w_i for v_i, w_i in zip(v, w))\n",
    "\n",
    "def covariance(xs: List[float],ys:List[float]):\n",
    "    assert len(xs) == len(ys),\"xs and ys must have same number of elements\"\n",
    "    return dot(de_mean(xs),de_mean(ys))/(len(xs)-1)"
   ]
  },
  {
   "cell_type": "code",
   "execution_count": 71,
   "id": "135c7647",
   "metadata": {},
   "outputs": [],
   "source": [
    "daily_minutes = [random.randint(10,110) for i in range(200)]"
   ]
  },
  {
   "cell_type": "code",
   "execution_count": 72,
   "id": "09521768",
   "metadata": {},
   "outputs": [
    {
     "data": {
      "text/plain": [
       "-56.9214824120603"
      ]
     },
     "execution_count": 72,
     "metadata": {},
     "output_type": "execute_result"
    }
   ],
   "source": [
    "covariance(num_friends, daily_minutes)"
   ]
  },
  {
   "cell_type": "markdown",
   "id": "1c019597",
   "metadata": {},
   "source": [
    "하지만, 공분산을 해석하는 것은 다음과 같은 이유 때문에 쉽지 않다.\n",
    "1. <b>공분산의 단위는 입력 변수의 단위들을 곱해서 계산되기 때문에 이해하기 쉽지 않다.</b> (예를 들어, 친구 수 x 하루 사용량(분)이라는 단위는 무엇을 의미하는 것일까?)\n",
    "2. 만약 모든 사용자의 하루 사용량은 변하지 않고 친구 수만 두 배로 증가한다면 공분산 또한 두 배로 증가할 것이다. 하지만 생각해 보면 두 변수의 관계는 변하지 않았다. <b>즉, 공분산의 절대적인 값만으로는 '크다'고 판단하기 어렵다</b>"
   ]
  },
  {
   "cell_type": "markdown",
   "id": "13d12460",
   "metadata": {},
   "source": [
    "### 상관관계\n",
    "공분산의 결점때문에 상관관계 사용<br>\n",
    "상관관계 = 공분산에서 각각의 표준편차를 나눔"
   ]
  },
  {
   "cell_type": "code",
   "execution_count": 73,
   "id": "734e8ee7",
   "metadata": {},
   "outputs": [],
   "source": [
    "def correlation(xs: List[float],ys:List[float])->float:\n",
    "    \"\"\"xs와 ys의 값이 각각의 평균에서 얼마나 떨어져 있는지 계산\"\"\"\n",
    "    stdev_x = standard_deviation(xs)\n",
    "    stdev_y = standard_deviation(ys)\n",
    "    if stdev_x>0 and stdev_y>0:\n",
    "        return covariance(xs,ys)/stdev_x/stdev_y\n",
    "    else:\n",
    "        return 0#편차가 존재하지 않는다면 상관관계는 0"
   ]
  },
  {
   "cell_type": "code",
   "execution_count": 74,
   "id": "98f4873f",
   "metadata": {},
   "outputs": [
    {
     "data": {
      "text/plain": [
       "-0.05019553835110087"
      ]
     },
     "execution_count": 74,
     "metadata": {},
     "output_type": "execute_result"
    }
   ],
   "source": [
    "correlation(num_friends,daily_minutes)"
   ]
  },
  {
   "cell_type": "markdown",
   "id": "e411be6d",
   "metadata": {},
   "source": [
    "상관관계는 단위가 없으며 항상 -1(완벽한 음의 상관관계)에서 1(완벽한 양의 상관관계)사이의 값을 갖는다.\n",
    "<br>예를 들어 상관관계가 0.25라면 상대적으로 약한 양의 상관관계를 의미한다."
   ]
  },
  {
   "cell_type": "code",
   "execution_count": 77,
   "id": "ac7e4d84",
   "metadata": {},
   "outputs": [
    {
     "data": {
      "image/png": "[encoded data removed]",
      "text/plain": [
       "<Figure size 432x288 with 1 Axes>"
      ]
     },
     "metadata": {
      "needs_background": "light"
     },
     "output_type": "display_data"
    }
   ],
   "source": [
    "plt.title(\"correlation with an Outlier\")\n",
    "plt.scatter(num_friends,daily_minutes)\n",
    "plt.show()"
   ]
  },
  {
   "cell_type": "code",
   "execution_count": 78,
   "id": "ae3207d4",
   "metadata": {},
   "outputs": [],
   "source": [
    "outlier = num_friends.index(100)#이상치의 인덱스"
   ]
  },
  {
   "cell_type": "code",
   "execution_count": 79,
   "id": "f37f771a",
   "metadata": {},
   "outputs": [
    {
     "data": {
      "text/plain": [
       "191"
      ]
     },
     "execution_count": 79,
     "metadata": {},
     "output_type": "execute_result"
    }
   ],
   "source": [
    "outlier"
   ]
  },
  {
   "cell_type": "code",
   "execution_count": 80,
   "id": "7cd1a7ad",
   "metadata": {},
   "outputs": [],
   "source": [
    "num_friends_good = [x for i,x in enumerate(num_friends) if i!= outlier]#이상치 재거"
   ]
  },
  {
   "cell_type": "code",
   "execution_count": 81,
   "id": "6a2182d5",
   "metadata": {},
   "outputs": [],
   "source": [
    "daily_minutes_good = [x for i,x  in enumerate(daily_minutes) if i!= outlier]"
   ]
  },
  {
   "cell_type": "code",
   "execution_count": 82,
   "id": "9d39cf67",
   "metadata": {},
   "outputs": [],
   "source": [
    "daily_hours_good = [dm/60 for dm in daily_minutes_good]"
   ]
  },
  {
   "cell_type": "code",
   "execution_count": 83,
   "id": "10064320",
   "metadata": {},
   "outputs": [
    {
     "data": {
      "text/plain": [
       "<matplotlib.collections.PathCollection at 0x22e47892a00>"
      ]
     },
     "execution_count": 83,
     "metadata": {},
     "output_type": "execute_result"
    },
    {
     "data": {
      "image/png": "[encoded data removed]",
      "text/plain": [
       "<Figure size 432x288 with 1 Axes>"
      ]
     },
     "metadata": {
      "needs_background": "light"
     },
     "output_type": "display_data"
    }
   ],
   "source": [
    "plt.scatter(num_friends_good,daily_minutes_good)"
   ]
  }
 ],
 "metadata": {
  "kernelspec": {
   "display_name": "Python 3",
   "language": "python",
   "name": "python3"
  },
  "language_info": {
   "codemirror_mode": {
    "name": "ipython",
    "version": 3
   },
   "file_extension": ".py",
   "mimetype": "text/x-python",
   "name": "python",
   "nbconvert_exporter": "python",
   "pygments_lexer": "ipython3",
   "version": "3.9.5"
  }
 },
 "nbformat": 4,
 "nbformat_minor": 5
}
