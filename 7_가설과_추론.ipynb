{
  "nbformat": 4,
  "nbformat_minor": 0,
  "metadata": {
    "colab": {
      "name": "7. 가설과 추론.ipynb",
      "provenance": [],
      "collapsed_sections": [],
      "authorship_tag": "ABX9TyOPG2Uj6hZen7fhqIFbh1XL",
      "include_colab_link": true
    },
    "kernelspec": {
      "name": "python3",
      "display_name": "Python 3"
    },
    "language_info": {
      "name": "python"
    },
    "accelerator": "GPU"
  },
  "cells": [
    {
      "cell_type": "markdown",
      "metadata": {
        "id": "view-in-github",
        "colab_type": "text"
      },
      "source": [
        "<a href=\"https://colab.research.google.com/github/superbunny38/2021DataScience/blob/main/7_%EA%B0%80%EC%84%A4%EA%B3%BC_%EC%B6%94%EB%A1%A0.ipynb\" target=\"_parent\"><img src=\"https://colab.research.google.com/assets/colab-badge.svg\" alt=\"Open In Colab\"/></a>"
      ]
    },
    {
      "cell_type": "code",
      "source": [
        "!git clone https://github.com/joelgrus/data-science-from-scratch.git book"
      ],
      "metadata": {
        "colab": {
          "base_uri": "https://localhost:8080/"
        },
        "id": "sbrDTiYcetCS",
        "outputId": "adc3536f-57d6-4439-b922-01ffa3a2a0d8"
      },
      "execution_count": 1,
      "outputs": [
        {
          "output_type": "stream",
          "name": "stdout",
          "text": [
            "Cloning into 'book'...\n",
            "remote: Enumerating objects: 392, done.\u001b[K\n",
            "remote: Total 392 (delta 0), reused 0 (delta 0), pack-reused 392\u001b[K\n",
            "Receiving objects: 100% (392/392), 769.61 KiB | 4.69 MiB/s, done.\n",
            "Resolving deltas: 100% (206/206), done.\n"
          ]
        }
      ]
    },
    {
      "cell_type": "code",
      "source": [
        "%pwd"
      ],
      "metadata": {
        "colab": {
          "base_uri": "https://localhost:8080/",
          "height": 35
        },
        "id": "WwFc8x7sexc1",
        "outputId": "80a3743e-763e-4454-d84c-34856b05f6db"
      },
      "execution_count": 2,
      "outputs": [
        {
          "output_type": "execute_result",
          "data": {
            "application/vnd.google.colaboratory.intrinsic+json": {
              "type": "string"
            },
            "text/plain": [
              "'/content'"
            ]
          },
          "metadata": {},
          "execution_count": 2
        }
      ]
    },
    {
      "cell_type": "code",
      "source": [
        "!mkdir workspace"
      ],
      "metadata": {
        "id": "qEPAsEOie4J9"
      },
      "execution_count": 3,
      "outputs": []
    },
    {
      "cell_type": "code",
      "source": [
        "!mv /content/book/scratch workspace"
      ],
      "metadata": {
        "id": "K4JUT3Zse7AK"
      },
      "execution_count": 4,
      "outputs": []
    },
    {
      "cell_type": "code",
      "source": [
        "%cd workspace"
      ],
      "metadata": {
        "colab": {
          "base_uri": "https://localhost:8080/"
        },
        "id": "sI2FwIcne_xz",
        "outputId": "97e4bc72-9da3-4f92-fcc2-1559152ed007"
      },
      "execution_count": 5,
      "outputs": [
        {
          "output_type": "stream",
          "name": "stdout",
          "text": [
            "/content/workspace\n"
          ]
        }
      ]
    },
    {
      "cell_type": "markdown",
      "source": [
        "### 예시: 동전 던지기"
      ],
      "metadata": {
        "id": "hmJjoz0bcNBp"
      }
    },
    {
      "cell_type": "code",
      "execution_count": 6,
      "metadata": {
        "id": "C-Vdfq38b1bP"
      },
      "outputs": [],
      "source": [
        "from typing import Tuple\n",
        "import math\n",
        "\n",
        "def normal_approximation_to_binomial(n: int, p: float)->Tuple[float, float]:#재귀분포->이항분포\n",
        "  mu = p*n#평균\n",
        "  sigma = math.sqrt(p*(1-p)*n)#표준편차\n",
        "  return mu, sigma"
      ]
    },
    {
      "cell_type": "markdown",
      "source": [
        "확률 변수가 정규분포를 따른다는 가정하에 normal_cdf를 사용하면 실제 동전던지기로부터 얻은 값이 구간 안(혹은 밖)에 존재할 확률을 계산할 수 있다."
      ],
      "metadata": {
        "id": "xE5jMt73cs9u"
      }
    },
    {
      "cell_type": "code",
      "source": [
        "from scratch.probability import normal_cdf\n",
        "\n",
        "#누적 분포 함수는 확률 변수가 트정 값보다 작을 확률을 나타낸다\n",
        "normal_probability_below = normal_cdf"
      ],
      "metadata": {
        "id": "EBTNdKI6dRiR"
      },
      "execution_count": 9,
      "outputs": []
    },
    {
      "cell_type": "code",
      "source": [
        "def normal_probability_above(lo:float, mu:float = 0, sigma:float = 1)->float:\n",
        "  return 1- normal_cdf(lo,mu,sigma)"
      ],
      "metadata": {
        "id": "RUaOK_ddgZ0C"
      },
      "execution_count": 10,
      "outputs": []
    },
    {
      "cell_type": "code",
      "source": [
        "def normal_probability_between(lo:float, hi:float, mu:float = 0,sigma:float=1)->float:\n",
        "  return normal_cdf(hi,mu,sigma) - normal_cdf(lo, mu, sigma)"
      ],
      "metadata": {
        "id": "J7kg4eW9gvhT"
      },
      "execution_count": 11,
      "outputs": []
    },
    {
      "cell_type": "code",
      "source": [
        "def normal_probability_outside(lo:float,\n",
        "                               hi:float,\n",
        "                               mu:float = 0,\n",
        "                               sigma:float = 1)->float:\n",
        "                               return 1 - normal_probability_between(lo,hi,mu,sigma)"
      ],
      "metadata": {
        "id": "Wp0hOaQJhDYr"
      },
      "execution_count": 12,
      "outputs": []
    },
    {
      "cell_type": "code",
      "source": [
        "from scratch.probability import inverse_normal_cdf\n",
        "def normal_upper_bound(probability:float,\n",
        "                       mu:float=0,\n",
        "                       sigma:float = 1)->float:\n",
        "                       return inverse_normal_cdf(probability, mu, sigma)#꼬리 부분"
      ],
      "metadata": {
        "id": "uh6viatRhOk4"
      },
      "execution_count": 13,
      "outputs": []
    },
    {
      "cell_type": "code",
      "source": [
        "def normal_lower_bound(probability:float,\n",
        "                            mu:float=0,\n",
        "                            sigma:float=1)->float:\n",
        "                            return inverse_normal_cdf(1-probability, mu, sigma)"
      ],
      "metadata": {
        "id": "7IF5M7lQhhH1"
      },
      "execution_count": 16,
      "outputs": []
    },
    {
      "cell_type": "code",
      "source": [
        "def normal_two_sided_bounds(probability:float,\n",
        "                            mu:float=0,\n",
        "                            sigma:float=1)->float:\n",
        "                            #입력한 probability 값을 포함하고 평균을 중심으로 대칭적인 구간을 반환\n",
        "                            tail_probability = (1-probability)/2\n",
        "                            upper_bound = normal_lower_bound(tail_probability, mu, sigma)\n",
        "                            lower_bound = normal_upper_bound(tail_probability, mu, sigma)\n",
        "                            return lower_bound, upper_bound"
      ],
      "metadata": {
        "id": "oWDQ8BWBhuHs"
      },
      "execution_count": 17,
      "outputs": []
    },
    {
      "cell_type": "code",
      "source": [
        "mu_0, sigma_0 = normal_approximation_to_binomial(1000,0.5)#동전을 1000번 던져봄"
      ],
      "metadata": {
        "id": "LwVsHwIrilh6"
      },
      "execution_count": 19,
      "outputs": []
    },
    {
      "cell_type": "code",
      "source": [
        "mu_0#앞이 나올 평균(1000번 중 500번)"
      ],
      "metadata": {
        "colab": {
          "base_uri": "https://localhost:8080/"
        },
        "id": "BV-K6tbqi-ve",
        "outputId": "c4b49fd1-ec99-45fb-f9f6-e3acdc65acf5"
      },
      "execution_count": 21,
      "outputs": [
        {
          "output_type": "execute_result",
          "data": {
            "text/plain": [
              "500.0"
            ]
          },
          "metadata": {},
          "execution_count": 21
        }
      ]
    },
    {
      "cell_type": "code",
      "source": [
        "sigma_0#표준편차"
      ],
      "metadata": {
        "colab": {
          "base_uri": "https://localhost:8080/"
        },
        "id": "BFvxuexJi_-Y",
        "outputId": "2286c143-fb33-4984-b047-94e01e4f013b"
      },
      "execution_count": 23,
      "outputs": [
        {
          "output_type": "execute_result",
          "data": {
            "text/plain": [
              "15.811388300841896"
            ]
          },
          "metadata": {},
          "execution_count": 23
        }
      ]
    },
    {
      "cell_type": "code",
      "source": [
        "lower_bound, upper_bound = normal_two_sided_bounds(0.95, mu_0, sigma_0)#유의 수준: 5%\n",
        "print(lower_bound, upper_bound)"
      ],
      "metadata": {
        "colab": {
          "base_uri": "https://localhost:8080/"
        },
        "id": "Noce-pH2jCsw",
        "outputId": "7705c7ee-3d55-4cbd-9897-138dc07d6c93"
      },
      "execution_count": 24,
      "outputs": [
        {
          "output_type": "stream",
          "name": "stdout",
          "text": [
            "469.01026640487555 530.9897335951244\n"
          ]
        }
      ]
    },
    {
      "cell_type": "markdown",
      "source": [
        "검정력(power)"
      ],
      "metadata": {
        "id": "IsnJ40pXkMoX"
      }
    },
    {
      "cell_type": "code",
      "source": [
        "#p가 0.5라고 가정할 때, 유의수준이 5%인 구간\n",
        "lo, hi = normal_two_sided_bounds(0.95,mu_0,sigma_0)"
      ],
      "metadata": {
        "id": "WGx-I4o1jVDj"
      },
      "execution_count": 26,
      "outputs": []
    },
    {
      "cell_type": "code",
      "source": [
        "print(lo,hi)"
      ],
      "metadata": {
        "colab": {
          "base_uri": "https://localhost:8080/"
        },
        "id": "qTNna5TpjupA",
        "outputId": "a40a9366-5180-4c09-a3fc-93565958e2b4"
      },
      "execution_count": 29,
      "outputs": [
        {
          "output_type": "stream",
          "name": "stdout",
          "text": [
            "469.01026640487555 530.9897335951244\n"
          ]
        }
      ]
    },
    {
      "cell_type": "code",
      "source": [
        "#p = 0.55인 경우(약간 편향)의 실제 평균과 표준편차\n",
        "#앞면이 나올 확률이 55%일 때\n",
        "mu_1, sigma_1 = normal_approximation_to_binomial(1000,0.55)#평균, 표준편차\n",
        "print(mu_1, sigma_1)"
      ],
      "metadata": {
        "colab": {
          "base_uri": "https://localhost:8080/"
        },
        "id": "CE5iMfIJjwYW",
        "outputId": "ce7e22c6-eb76-4cd4-c976-c73a19a4c77d"
      },
      "execution_count": 30,
      "outputs": [
        {
          "output_type": "stream",
          "name": "stdout",
          "text": [
            "550.0 15.732132722552274\n"
          ]
        }
      ]
    },
    {
      "cell_type": "code",
      "source": [
        "#X가 주어진 구간 안에 존재할 경우\n",
        "type_2_probability = normal_probability_between(lo, hi, mu_1, sigma_1)\n",
        "power = 1-type_2_probability\n",
        "power"
      ],
      "metadata": {
        "colab": {
          "base_uri": "https://localhost:8080/"
        },
        "id": "ayXpJ1Ftjwt5",
        "outputId": "6b31c97a-15cf-4da4-b9a1-811e0ee68d10"
      },
      "execution_count": 31,
      "outputs": [
        {
          "output_type": "execute_result",
          "data": {
            "text/plain": [
              "0.886548001295367"
            ]
          },
          "metadata": {},
          "execution_count": 31
        }
      ]
    },
    {
      "cell_type": "code",
      "source": [
        "hi = normal_upper_bound(0.95, mu_0, sigma_0)\n",
        "hi"
      ],
      "metadata": {
        "colab": {
          "base_uri": "https://localhost:8080/"
        },
        "id": "OvJsK2Txke3k",
        "outputId": "1715856c-bfff-4f85-8554-99c66fe43c67"
      },
      "execution_count": 32,
      "outputs": [
        {
          "output_type": "execute_result",
          "data": {
            "text/plain": [
              "526.0073585242053"
            ]
          },
          "metadata": {},
          "execution_count": 32
        }
      ]
    },
    {
      "cell_type": "code",
      "source": [
        "type_2_probability = normal_probability_below(hi, mu_1, sigma_1)\n",
        "power = 1-type_2_probability\n",
        "power"
      ],
      "metadata": {
        "colab": {
          "base_uri": "https://localhost:8080/"
        },
        "id": "jz04bhRskpbQ",
        "outputId": "278d2658-fcca-48e2-bece-883c07bb9358"
      },
      "execution_count": 34,
      "outputs": [
        {
          "output_type": "execute_result",
          "data": {
            "text/plain": [
              "0.9363794803307173"
            ]
          },
          "metadata": {},
          "execution_count": 34
        }
      ]
    },
    {
      "cell_type": "code",
      "source": [
        "def two_sided_p_value(x: float, mu: float = 0, sigma: float = 1) -> float:\n",
        "    \"\"\"\n",
        "    How likely are we to see a value at least as extreme as x (in either\n",
        "    direction) if our values are from a N(mu, sigma)?\n",
        "    \"\"\"\n",
        "    if x >= mu:\n",
        "        # x is greater than the mean, so the tail is everything greater than x\n",
        "        return 2 * normal_probability_above(x, mu, sigma)\n",
        "    else:\n",
        "        # x is less than the mean, so the tail is everything less than x\n",
        "        return 2 * normal_probability_below(x, mu, sigma)\n",
        "\n",
        "two_sided_p_value(529.5, mu_0, sigma_0)   # 0.062"
      ],
      "metadata": {
        "colab": {
          "base_uri": "https://localhost:8080/"
        },
        "id": "H4LJ72Vbk0Sc",
        "outputId": "5cf6a1a9-da39-486f-f485-d301aff5942d"
      },
      "execution_count": 35,
      "outputs": [
        {
          "output_type": "execute_result",
          "data": {
            "text/plain": [
              "0.06207721579598835"
            ]
          },
          "metadata": {},
          "execution_count": 35
        }
      ]
    },
    {
      "cell_type": "code",
      "source": [
        "import random\n",
        "\n",
        "extreme_value_count = 0\n",
        "for _ in range(1000):\n",
        "    num_heads = sum(1 if random.random() < 0.5 else 0    # Count # of heads\n",
        "                    for _ in range(1000))                # in 1000 flips,\n",
        "    if num_heads >= 530 or num_heads <= 470:             # and count how often\n",
        "        extreme_value_count += 1                         # the # is 'extreme'\n"
      ],
      "metadata": {
        "id": "rgegwXR_lXuy"
      },
      "execution_count": 36,
      "outputs": []
    },
    {
      "cell_type": "code",
      "source": [
        "extreme_value_count"
      ],
      "metadata": {
        "colab": {
          "base_uri": "https://localhost:8080/"
        },
        "id": "UJ8p-MsMlh_G",
        "outputId": "9d1bbf05-ccd7-47ca-97a6-74dc0185bf56"
      },
      "execution_count": 37,
      "outputs": [
        {
          "output_type": "execute_result",
          "data": {
            "text/plain": [
              "69"
            ]
          },
          "metadata": {},
          "execution_count": 37
        }
      ]
    },
    {
      "cell_type": "code",
      "source": [
        "\n",
        "two_sided_p_value(531.5, mu_0, sigma_0)"
      ],
      "metadata": {
        "colab": {
          "base_uri": "https://localhost:8080/"
        },
        "id": "t62MzBfUljix",
        "outputId": "c12acd37-f70b-4554-de16-9be4adab7896"
      },
      "execution_count": 38,
      "outputs": [
        {
          "output_type": "execute_result",
          "data": {
            "text/plain": [
              "0.046345287837786575"
            ]
          },
          "metadata": {},
          "execution_count": 38
        }
      ]
    },
    {
      "cell_type": "code",
      "source": [
        "upper_p_value = normal_probability_above\n",
        "lower_p_value = normal_probability_below"
      ],
      "metadata": {
        "id": "Ynw7xPf3lqlS"
      },
      "execution_count": 41,
      "outputs": []
    },
    {
      "cell_type": "code",
      "source": [
        "upper_p_value(524.5, mu_0, sigma_0) # 0.061"
      ],
      "metadata": {
        "colab": {
          "base_uri": "https://localhost:8080/"
        },
        "id": "BYmaT8_olukn",
        "outputId": "9a1ef980-2a1b-4d9d-dbd3-86455868b50d"
      },
      "execution_count": 42,
      "outputs": [
        {
          "output_type": "execute_result",
          "data": {
            "text/plain": [
              "0.06062885772582072"
            ]
          },
          "metadata": {},
          "execution_count": 42
        }
      ]
    },
    {
      "cell_type": "code",
      "source": [
        "upper_p_value(526.5, mu_0, sigma_0) # 0.047"
      ],
      "metadata": {
        "colab": {
          "base_uri": "https://localhost:8080/"
        },
        "id": "rYI9u4HFl796",
        "outputId": "63d72f12-6ac7-4c0a-fed7-3abe50aaa5ea"
      },
      "execution_count": 43,
      "outputs": [
        {
          "output_type": "execute_result",
          "data": {
            "text/plain": [
              "0.04686839508859242"
            ]
          },
          "metadata": {},
          "execution_count": 43
        }
      ]
    },
    {
      "cell_type": "markdown",
      "source": [
        "신뢰구간 구하기"
      ],
      "metadata": {
        "id": "TsUXyF4amWqB"
      }
    },
    {
      "cell_type": "code",
      "source": [
        "p_hat = 525 / 1000\n",
        "mu = p_hat\n",
        "sigma = math.sqrt(p_hat * (1 - p_hat) / 1000)   # 0.0158\n"
      ],
      "metadata": {
        "id": "dmMXt5HUl9rr"
      },
      "execution_count": 44,
      "outputs": []
    },
    {
      "cell_type": "code",
      "source": [
        "normal_two_sided_bounds(0.95, mu, sigma)        # [0.4940, 0.5560]"
      ],
      "metadata": {
        "colab": {
          "base_uri": "https://localhost:8080/"
        },
        "id": "9ysJC1pmmBJn",
        "outputId": "38f26082-33ea-4817-ab59-e331153a2765"
      },
      "execution_count": 45,
      "outputs": [
        {
          "output_type": "execute_result",
          "data": {
            "text/plain": [
              "(0.4940490278129096, 0.5559509721870904)"
            ]
          },
          "metadata": {},
          "execution_count": 45
        }
      ]
    },
    {
      "cell_type": "code",
      "source": [
        "p_hat = 540 / 1000\n",
        "mu = p_hat\n",
        "sigma = math.sqrt(p_hat * (1 - p_hat) / 1000) # 0.0158\n",
        "normal_two_sided_bounds(0.95, mu, sigma) # [0.5091, 0.5709]"
      ],
      "metadata": {
        "colab": {
          "base_uri": "https://localhost:8080/"
        },
        "id": "8H9SuoEama2l",
        "outputId": "ae335766-2523-4f38-9d80-150be7579880"
      },
      "execution_count": 46,
      "outputs": [
        {
          "output_type": "execute_result",
          "data": {
            "text/plain": [
              "(0.5091095927295919, 0.5708904072704082)"
            ]
          },
          "metadata": {},
          "execution_count": 46
        }
      ]
    },
    {
      "cell_type": "markdown",
      "source": [
        "p 해킹"
      ],
      "metadata": {
        "id": "9gXqNQx2mkYe"
      }
    },
    {
      "cell_type": "code",
      "source": [
        "from typing import List\n",
        "\n",
        "def run_experiment() -> List[bool]:\n",
        "    \"\"\"Flips a fair coin 1000 times, True = heads, False = tails\"\"\"\n",
        "    return [random.random() < 0.5 for _ in range(1000)]\n",
        "\n",
        "def reject_fairness(experiment: List[bool]) -> bool:\n",
        "    \"\"\"Using the 5% significance levels(신뢰구간)\"\"\"\n",
        "    num_heads = len([flip for flip in experiment if flip])\n",
        "    return num_heads < 469 or num_heads > 531"
      ],
      "metadata": {
        "id": "pYKWr3IfmeA3"
      },
      "execution_count": 47,
      "outputs": []
    },
    {
      "cell_type": "code",
      "source": [
        "random.seed(0)\n",
        "experiments = [run_experiment() for _ in range(1000)]\n",
        "num_rejections = len([experiment\n",
        "                      for experiment in experiments\n",
        "                      if reject_fairness(experiment)])"
      ],
      "metadata": {
        "id": "LcDHwFiqmslH"
      },
      "execution_count": 48,
      "outputs": []
    },
    {
      "cell_type": "code",
      "source": [
        "num_rejections"
      ],
      "metadata": {
        "colab": {
          "base_uri": "https://localhost:8080/"
        },
        "id": "BIIjsj3Gmyn5",
        "outputId": "29a4217e-de29-46a3-9032-8c015df6eb57"
      },
      "execution_count": 49,
      "outputs": [
        {
          "output_type": "execute_result",
          "data": {
            "text/plain": [
              "46"
            ]
          },
          "metadata": {},
          "execution_count": 49
        }
      ]
    },
    {
      "cell_type": "markdown",
      "source": [
        "### 예시: A/B test 해보기"
      ],
      "metadata": {
        "id": "TQJjOT-DnW7Y"
      }
    },
    {
      "cell_type": "code",
      "source": [
        "def estimated_parameters(N: int, n: int) -> Tuple[float, float]:\n",
        "    p = n / N\n",
        "    sigma = math.sqrt(p * (1 - p) / N)\n",
        "    return p, sigma"
      ],
      "metadata": {
        "id": "hpzSs5Sxm1AD"
      },
      "execution_count": 50,
      "outputs": []
    },
    {
      "cell_type": "code",
      "source": [
        "def a_b_test_statistic(N_A: int, n_A: int, N_B: int, n_B: int) -> float:\n",
        "    p_A, sigma_A = estimated_parameters(N_A, n_A)\n",
        "    p_B, sigma_B = estimated_parameters(N_B, n_B)\n",
        "    return (p_B - p_A) / math.sqrt(sigma_A ** 2 + sigma_B ** 2)"
      ],
      "metadata": {
        "id": "i7WWmOX1neSy"
      },
      "execution_count": 51,
      "outputs": []
    },
    {
      "cell_type": "markdown",
      "source": [
        "1,000명 중 200명: 맛있어요!\n",
        "1,000명 중 180명: 편향 없어요!"
      ],
      "metadata": {
        "id": "kHsvzNJun0z_"
      }
    },
    {
      "cell_type": "code",
      "source": [
        "z = a_b_test_statistic(1000, 200, 1000, 180)    # -1.14\n",
        "z"
      ],
      "metadata": {
        "colab": {
          "base_uri": "https://localhost:8080/"
        },
        "id": "OPcqLmYanrqb",
        "outputId": "dfebcd50-fd89-4347-fc14-c28ac1513fde"
      },
      "execution_count": 52,
      "outputs": [
        {
          "output_type": "execute_result",
          "data": {
            "text/plain": [
              "-1.1403464899034472"
            ]
          },
          "metadata": {},
          "execution_count": 52
        }
      ]
    },
    {
      "cell_type": "code",
      "source": [
        "two_sided_p_value(z)#두 광고가 동일하게 효과적일 때 위 처럼(1000명 중 200, 1000명 중 180) 발생할 확률"
      ],
      "metadata": {
        "colab": {
          "base_uri": "https://localhost:8080/"
        },
        "id": "XQ8rSJmFnx8O",
        "outputId": "67b020c4-31df-4438-9aee-b63d41da56b5"
      },
      "execution_count": 53,
      "outputs": [
        {
          "output_type": "execute_result",
          "data": {
            "text/plain": [
              "0.2541419765422359"
            ]
          },
          "metadata": {},
          "execution_count": 53
        }
      ]
    },
    {
      "cell_type": "code",
      "source": [
        "z = a_b_test_statistic(1000, 200, 1000, 150)    # -2.94\n",
        "z"
      ],
      "metadata": {
        "colab": {
          "base_uri": "https://localhost:8080/"
        },
        "id": "omln2wJ4oKSX",
        "outputId": "0b0e8d4a-2e87-4f8a-fd3a-3b0b1b8f88bf"
      },
      "execution_count": 55,
      "outputs": [
        {
          "output_type": "execute_result",
          "data": {
            "text/plain": [
              "-2.948839123097944"
            ]
          },
          "metadata": {},
          "execution_count": 55
        }
      ]
    },
    {
      "cell_type": "code",
      "source": [
        "two_sided_p_value(z) ##두 광고가 동일하게 효과적일 때 위 처럼(1000명 중 200, 1000명 중 150) 발생할 확률"
      ],
      "metadata": {
        "colab": {
          "base_uri": "https://localhost:8080/"
        },
        "id": "Z8_iQ8eyoPDX",
        "outputId": "9a6cabe6-831b-4115-ef3a-ab4f396d06df"
      },
      "execution_count": 57,
      "outputs": [
        {
          "output_type": "execute_result",
          "data": {
            "text/plain": [
              "0.003189699706216853"
            ]
          },
          "metadata": {},
          "execution_count": 57
        }
      ]
    },
    {
      "cell_type": "markdown",
      "source": [
        "숫자 해설: 동일하기에 차이가 발생할 확률이 적음"
      ],
      "metadata": {
        "id": "jxLDhoE7pTLH"
      }
    },
    {
      "cell_type": "markdown",
      "source": [
        "## 베이즈 추론\n",
        ": 만약 동전 앞면이 나타날 확률을 모른다면?"
      ],
      "metadata": {
        "id": "ROhBcnwOpfgO"
      }
    },
    {
      "cell_type": "code",
      "source": [
        "def B(alpha: float, beta: float) -> float:\n",
        "    \"\"\"A normalizing constant so that the total probability is 1\"\"\"\n",
        "    return math.gamma(alpha) * math.gamma(beta) / math.gamma(alpha + beta)"
      ],
      "metadata": {
        "id": "JXAnJzXRpR85"
      },
      "execution_count": 58,
      "outputs": []
    },
    {
      "cell_type": "code",
      "source": [
        "def beta_pdf(x: float, alpha: float, beta: float) -> float:\n",
        "    if x <= 0 or x >= 1:          # no weight outside of [0, 1]\n",
        "        return 0\n",
        "    return x ** (alpha - 1) * (1 - x) ** (beta - 1) / B(alpha, beta)"
      ],
      "metadata": {
        "id": "21fE2O8PoTHZ"
      },
      "execution_count": 59,
      "outputs": []
    }
  ]
}