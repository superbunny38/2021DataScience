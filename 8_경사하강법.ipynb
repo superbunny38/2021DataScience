{
  "nbformat": 4,
  "nbformat_minor": 0,
  "metadata": {
    "colab": {
      "name": "8 경사하강법.ipynb",
      "provenance": [],
      "collapsed_sections": [],
      "authorship_tag": "ABX9TyNZvBlSJOh5ERfbDne7/4BG",
      "include_colab_link": true
    },
    "kernelspec": {
      "name": "python3",
      "display_name": "Python 3"
    },
    "language_info": {
      "name": "python"
    }
  },
  "cells": [
    {
      "cell_type": "markdown",
      "metadata": {
        "id": "view-in-github",
        "colab_type": "text"
      },
      "source": [
        "<a href=\"https://colab.research.google.com/github/superbunny38/2021DataScience/blob/main/8_%EA%B2%BD%EC%82%AC%ED%95%98%EA%B0%95%EB%B2%95.ipynb\" target=\"_parent\"><img src=\"https://colab.research.google.com/assets/colab-badge.svg\" alt=\"Open In Colab\"/></a>"
      ]
    },
    {
      "cell_type": "code",
      "source": [
        "!git clone https://github.com/joelgrus/data-science-from-scratch.git book"
      ],
      "metadata": {
        "colab": {
          "base_uri": "https://localhost:8080/"
        },
        "id": "ALCAGw3Aq5S6",
        "outputId": "cb164c70-6e38-4c8c-be21-89673f500c01"
      },
      "execution_count": 3,
      "outputs": [
        {
          "output_type": "stream",
          "name": "stdout",
          "text": [
            "Cloning into 'book'...\n",
            "remote: Enumerating objects: 392, done.\u001b[K\n",
            "remote: Total 392 (delta 0), reused 0 (delta 0), pack-reused 392\u001b[K\n",
            "Receiving objects: 100% (392/392), 769.61 KiB | 3.15 MiB/s, done.\n",
            "Resolving deltas: 100% (206/206), done.\n"
          ]
        }
      ]
    },
    {
      "cell_type": "code",
      "source": [
        "%pwd"
      ],
      "metadata": {
        "colab": {
          "base_uri": "https://localhost:8080/",
          "height": 35
        },
        "id": "qRS1S61bq9Wj",
        "outputId": "007f7231-0f5a-44f8-8a3f-feb547cc8028"
      },
      "execution_count": 4,
      "outputs": [
        {
          "output_type": "execute_result",
          "data": {
            "application/vnd.google.colaboratory.intrinsic+json": {
              "type": "string"
            },
            "text/plain": [
              "'/content'"
            ]
          },
          "metadata": {},
          "execution_count": 4
        }
      ]
    },
    {
      "cell_type": "code",
      "source": [
        "!mkdir workspace"
      ],
      "metadata": {
        "id": "ADvTpgcnq-_0"
      },
      "execution_count": 5,
      "outputs": []
    },
    {
      "cell_type": "code",
      "source": [
        "!mv /content/book/scratch workspace"
      ],
      "metadata": {
        "id": "c82pzRxOrA3U"
      },
      "execution_count": 6,
      "outputs": []
    },
    {
      "cell_type": "code",
      "source": [
        "%cd workspace"
      ],
      "metadata": {
        "colab": {
          "base_uri": "https://localhost:8080/"
        },
        "id": "7M1eDAh-rDgC",
        "outputId": "cf5f9e11-f516-49e9-a973-cf0d9a0cbfd6"
      },
      "execution_count": 7,
      "outputs": [
        {
          "output_type": "stream",
          "name": "stdout",
          "text": [
            "/content/workspace\n"
          ]
        }
      ]
    },
    {
      "cell_type": "code",
      "source": [
        "from scratch.linear_algebra import Vector, dot\n",
        "\n",
        "def sum_of_squares(v: Vector) -> float:\n",
        "    \"\"\"Computes the sum of squared elements in v\"\"\"\n",
        "    return dot(v, v)"
      ],
      "metadata": {
        "id": "OLeGoCMCq0w7"
      },
      "execution_count": 8,
      "outputs": []
    },
    {
      "cell_type": "code",
      "execution_count": 30,
      "metadata": {
        "id": "79R-LFM_qF-s"
      },
      "outputs": [],
      "source": [
        "from typing import Callable\n",
        "#미분값\n",
        "def difference_quotient(f: Callable[[float], float],\n",
        "                        x: float,\n",
        "                        h: float) -> float:\n",
        "    return (f(x + h) - f(x)) / h\n"
      ]
    },
    {
      "cell_type": "code",
      "source": [
        "def square(x: float) -> float:\n",
        "    return x * x\n"
      ],
      "metadata": {
        "id": "Vrolq5ScsB7U"
      },
      "execution_count": 31,
      "outputs": []
    },
    {
      "cell_type": "code",
      "source": [
        "def derivative(x: float) -> float:#도함수\n",
        "    return 2 * x"
      ],
      "metadata": {
        "id": "mjzZgFjbsI2h"
      },
      "execution_count": 32,
      "outputs": []
    },
    {
      "cell_type": "code",
      "source": [
        "xs = range(-10,11)\n",
        "actuals = [derivative(x) for x in xs]#실제 미분값\n",
        "estimates = [difference_quotient(square, x, h = 0.001) for x in xs]#미분값 예측치"
      ],
      "metadata": {
        "id": "dKukPnt9sMIw"
      },
      "execution_count": 33,
      "outputs": []
    },
    {
      "cell_type": "code",
      "source": [
        "graph = [square(x) for x in xs]"
      ],
      "metadata": {
        "id": "9kfbZgz-uoCy"
      },
      "execution_count": 34,
      "outputs": []
    },
    {
      "cell_type": "code",
      "source": [
        "#두 계싼식의 결과값이 거의 비슷함을 보여주기 위한 그래프\n",
        "import matplotlib.pyplot as plt\n",
        "plt.title(\"Actual Derivatives vs. Estimates\")\n",
        "plt.plot(xs, actuals, 'rx', label = 'Actual')\n",
        "plt.plot(xs, estimates, 'b+', label = 'Estimate')\n",
        "plt.plot(xs, graph, label = 'graph')\n",
        "plt.legend(loc =9)\n",
        "plt.show()"
      ],
      "metadata": {
        "colab": {
          "base_uri": "https://localhost:8080/",
          "height": 281
        },
        "id": "6nw641Mzsf5K",
        "outputId": "4e8dd60e-e14e-4b2d-b493-ec44261433ba"
      },
      "execution_count": 35,
      "outputs": [
        {
          "output_type": "display_data",
          "data": {
            "image/png": "[encoded data removed]",
            "text/plain": [
              "<Figure size 432x288 with 1 Axes>"
            ]
          },
          "metadata": {
            "needs_background": "light"
          }
        }
      ]
    },
    {
      "cell_type": "markdown",
      "source": [
        "다른 것도 해봐야징"
      ],
      "metadata": {
        "id": "awIRJ187tmuM"
      }
    },
    {
      "cell_type": "code",
      "source": [
        "def f(x)->float:\n",
        "  return x**3\n",
        "actual_graph = [x**3 for x in xs]#실제 그래프\n",
        "actuals = [3*(x**2) for x in xs]#실제 미분값\n",
        "estimates = [difference_quotient(f, x, h = 0.001) for x in xs]#미분값 예측치\n",
        "plt.plot(xs,actual_graph,label=\"actual graph\")\n",
        "plt.plot(xs,actuals,'rx',label=\"actual derivatives\")\n",
        "plt.plot(xs, estimates, 'b+',label = 'estimated derivatives')\n",
        "plt.legend()\n",
        "plt.show()"
      ],
      "metadata": {
        "colab": {
          "base_uri": "https://localhost:8080/",
          "height": 265
        },
        "id": "_PK5RnXmtomV",
        "outputId": "df93b230-00f0-4d6a-b8aa-6eadae549b33"
      },
      "execution_count": 38,
      "outputs": [
        {
          "output_type": "display_data",
          "data": {
            "image/png": "[encoded data removed]",
            "text/plain": [
              "<Figure size 432x288 with 1 Axes>"
            ]
          },
          "metadata": {
            "needs_background": "light"
          }
        }
      ]
    },
    {
      "cell_type": "code",
      "source": [
        "#f(x)의 변화량을 알려주는 편도함수\n",
        "def partial_difference_quotient(f: Callable[[Vector],float],\n",
        "                                v: Vector,\n",
        "                                i: int,\n",
        "                                h:float)->float:\n",
        "                                w = [v_j + (h if j == i else 0) for j, v_j in enumerate(v)]\n",
        "                                return (f(w)-f(v))/h"
      ],
      "metadata": {
        "id": "3LueaWr1sxXe"
      },
      "execution_count": 39,
      "outputs": []
    },
    {
      "cell_type": "code",
      "source": [
        "#그래디언트의 근사값\n",
        "def estimate_gradient(f: Callable[[Vector], float],\n",
        "                      v: Vector,\n",
        "                      h: float = 0.0001):\n",
        "    return [partial_difference_quotient(f, v, i, h)\n",
        "            for i in range(len(v))]"
      ],
      "metadata": {
        "id": "NPjRDFphtURx"
      },
      "execution_count": 40,
      "outputs": []
    },
    {
      "cell_type": "markdown",
      "source": [
        "## 그래디언트 적용하기\n",
        "\n",
        "sum_of_squares가 v가 0일 때 최솟값인걸 모른다고 가정하고 그래디언트로 구해보기"
      ],
      "metadata": {
        "id": "9C8UGr5BvI1_"
      }
    },
    {
      "cell_type": "code",
      "source": [
        "import random\n",
        "from scratch.linear_algebra import distance, add, scalar_multiply\n",
        "\n",
        "def gradient_step(v: Vector, gradient: Vector, step_size: float) -> Vector:\n",
        "    \"\"\"Moves `step_size` in the `gradient` direction from `v`\"\"\"\n",
        "    assert len(v) == len(gradient)\n",
        "    step = scalar_multiply(step_size, gradient)\n",
        "    return add(v, step)"
      ],
      "metadata": {
        "id": "8uLjZw3RtZ0I"
      },
      "execution_count": 41,
      "outputs": []
    },
    {
      "cell_type": "code",
      "source": [
        "def sum_of_squares_gradient(v: Vector) -> Vector:\n",
        "    return [2 * v_i for v_i in v]"
      ],
      "metadata": {
        "id": "P3zGvHetve7m"
      },
      "execution_count": 42,
      "outputs": []
    },
    {
      "cell_type": "code",
      "source": [
        "#임의의 시작점을 선택\n",
        "v = [random.uniform(-10,10) for i in range(3)]\n",
        "\n",
        "for epoch in range(1000):\n",
        "  grad = sum_of_squares_gradient(v)#v의 그래디언트 계산\n",
        "  v = gradient_step(v, grad, -0.01)#그래디언트의 음수만큼(반대로) 이동\n",
        "  print(epoch, v)"
      ],
      "metadata": {
        "colab": {
          "base_uri": "https://localhost:8080/"
        },
        "id": "TxkP8p2xvoAX",
        "outputId": "ca83448d-0de9-4e2a-8e09-c3e31405129b"
      },
      "execution_count": 43,
      "outputs": [
        {
          "output_type": "stream",
          "name": "stdout",
          "text": [
            "0 [-1.0118073478512934, 2.3402118764034454, 4.9752679409651455]\n",
            "1 [-0.9915712008942675, 2.2934076388753764, 4.875762582145843]\n",
            "2 [-0.9717397768763821, 2.247539486097869, 4.778247330502926]\n",
            "3 [-0.9523049813388544, 2.2025886963759116, 4.6826823838928675]\n",
            "4 [-0.9332588817120774, 2.1585369224483935, 4.58902873621501]\n",
            "5 [-0.9145937040778358, 2.1153661839994258, 4.49724816149071]\n",
            "6 [-0.896301829996279, 2.073058860319437, 4.4073031982608954]\n",
            "7 [-0.8783757933963535, 2.0315976831130484, 4.319157134295677]\n",
            "8 [-0.8608082775284265, 1.9909657294507874, 4.232773991609764]\n",
            "9 [-0.843592111977858, 1.9511464148617716, 4.148118511777569]\n",
            "10 [-0.8267202697383008, 1.9121234865645362, 4.065156141542017]\n",
            "11 [-0.8101858643435348, 1.8738810168332456, 3.983853018711177]\n",
            "12 [-0.7939821470566641, 1.8364033964965807, 3.9041759583369533]\n",
            "13 [-0.7781025041155308, 1.7996753285666491, 3.826092439170214]\n",
            "14 [-0.7625404540332202, 1.763681821995316, 3.74957059038681]\n",
            "15 [-0.7472896449525558, 1.7284081855554099, 3.674579178579074]\n",
            "16 [-0.7323438520535047, 1.6938400218443017, 3.6010875950074923]\n",
            "17 [-0.7176969750124347, 1.6599632214074156, 3.5290658431073423]\n",
            "18 [-0.703343035512186, 1.6267639569792673, 3.4584845262451953]\n",
            "19 [-0.6892761748019423, 1.594228677839682, 3.3893148357202914]\n",
            "20 [-0.6754906513059034, 1.5623441042828883, 3.3215285390058855]\n",
            "21 [-0.6619808382797853, 1.5310972221972305, 3.2550979682257677]\n",
            "22 [-0.6487412215141896, 1.500475277753286, 3.1899960088612525]\n",
            "23 [-0.6357663970839058, 1.4704657721982202, 3.1261960886840274]\n",
            "24 [-0.6230510691422277, 1.4410564567542559, 3.063672166910347]\n",
            "25 [-0.6105900477593832, 1.4122353276191708, 3.00239872357214]\n",
            "26 [-0.5983782468041955, 1.3839906210667874, 2.9423507491006973]\n",
            "27 [-0.5864106818681116, 1.3563108086454516, 2.8835037341186833]\n",
            "28 [-0.5746824682307494, 1.3291845924725425, 2.82583365943631]\n",
            "29 [-0.5631888188661345, 1.3026009006230916, 2.7693169862475835]\n",
            "30 [-0.5519250424888118, 1.2765488826106297, 2.713930646522632]\n",
            "31 [-0.5408865416390356, 1.2510179049584171, 2.659652033592179]\n",
            "32 [-0.5300688108062549, 1.2259975468592488, 2.6064589929203357]\n",
            "33 [-0.5194674345901298, 1.2014775959220638, 2.554329813061929]\n",
            "34 [-0.5090780858983271, 1.1774480440036226, 2.50324321680069]\n",
            "35 [-0.4988965241803606, 1.15389908312355, 2.4531783524646764]\n",
            "36 [-0.4889185936967534, 1.130821101461079, 2.404114785415383]\n",
            "37 [-0.47914022182281835, 1.1082046794318574, 2.3560324897070752]\n",
            "38 [-0.469557417386362, 1.0860405858432203, 2.3089118399129336]\n",
            "39 [-0.4601662690386347, 1.064319774126356, 2.262733603114675]\n",
            "40 [-0.45096294365786205, 1.0430333786438288, 2.2174789310523817]\n",
            "41 [-0.4419436847847048, 1.0221727110709522, 2.173129352431334]\n",
            "42 [-0.4331048110890107, 1.001729256849533, 2.1296667653827077]\n",
            "43 [-0.4244427148672305, 0.9816946717125424, 2.0870734300750535]\n",
            "44 [-0.4159538605698859, 0.9620607782782916, 2.0453319614735523]\n",
            "45 [-0.4076347833584882, 0.9428195627127258, 2.004425322244081]\n",
            "46 [-0.39948208769131843, 0.9239631714584713, 1.9643368157991994]\n",
            "47 [-0.39149244593749205, 0.9054839080293019, 1.9250500794832155]\n",
            "48 [-0.3836625970187422, 0.8873742298687158, 1.8865490778935512]\n",
            "49 [-0.3759893450783674, 0.8696267452713415, 1.8488180963356802]\n",
            "50 [-0.36846955817680005, 0.8522342103659147, 1.8118417344089666]\n",
            "51 [-0.36110016701326403, 0.8351895261585964, 1.7756048997207872]\n",
            "52 [-0.35387816367299874, 0.8184857356354245, 1.7400928017263715]\n",
            "53 [-0.34680060039953875, 0.8021160209227159, 1.7052909456918441]\n",
            "54 [-0.339864588391548, 0.7860737005042616, 1.6711851267780073]\n",
            "55 [-0.33306729662371704, 0.7703522264941763, 1.6377614242424472]\n",
            "56 [-0.3264059506912427, 0.7549451819642928, 1.6050061957575983]\n",
            "57 [-0.31987783167741785, 0.7398462783250069, 1.5729060718424464]\n",
            "58 [-0.3134802750438695, 0.7250493527585068, 1.5414479504055973]\n",
            "59 [-0.3072106695429921, 0.7105483657033367, 1.5106189913974855]\n",
            "60 [-0.30106645615213223, 0.69633739838927, 1.4804066115695358]\n",
            "61 [-0.2950451270290896, 0.6824106504214846, 1.450798479338145]\n",
            "62 [-0.2891442244885078, 0.668762437413055, 1.421782509751382]\n",
            "63 [-0.28336133999873764, 0.6553871886647938, 1.3933468595563545]\n",
            "64 [-0.27769411319876286, 0.6422794448914979, 1.3654799223652274]\n",
            "65 [-0.2721402309347876, 0.629433855993668, 1.3381703239179228]\n",
            "66 [-0.2666974263160919, 0.6168451788737946, 1.3114069174395644]\n",
            "67 [-0.26136347778977004, 0.6045082752963188, 1.2851787790907732]\n",
            "68 [-0.25613620823397465, 0.5924181097903924, 1.2594752035089578]\n",
            "69 [-0.25101348406929513, 0.5805697475945846, 1.2342856994387787]\n",
            "70 [-0.24599321438790922, 0.5689583526426929, 1.2095999854500032]\n",
            "71 [-0.24107335010015105, 0.557579185589839, 1.1854079857410031]\n",
            "72 [-0.236251883098148, 0.5464276018780422, 1.161699826026183]\n",
            "73 [-0.23152684543618504, 0.5354990498404814, 1.1384658295056593]\n",
            "74 [-0.22689630852746134, 0.5247890688436717, 1.115696512915546]\n",
            "75 [-0.2223583823569121, 0.5142932874667983, 1.0933825826572352]\n",
            "76 [-0.21791121470977387, 0.5040074217174623, 1.0715149310040906]\n",
            "77 [-0.2135529904155784, 0.49392727328311303, 1.0500846323840087]\n",
            "78 [-0.20928193060726683, 0.4840487278174508, 1.0290829397363286]\n",
            "79 [-0.2050962919951215, 0.47436775326110175, 1.008501280941602]\n",
            "80 [-0.20099436615521907, 0.46488039819587973, 0.98833125532277]\n",
            "81 [-0.1969744788321147, 0.45558279023196213, 0.9685646302163146]\n",
            "82 [-0.1930349892554724, 0.4464711344273229, 0.9491933376119883]\n",
            "83 [-0.18917428947036297, 0.43754171173877643, 0.9302094708597486]\n",
            "84 [-0.1853908036809557, 0.4287908775040009, 0.9116052814425536]\n",
            "85 [-0.1816829876073366, 0.4202150599539209, 0.8933731758137026]\n",
            "86 [-0.17804932785518984, 0.41181075875484247, 0.8755057122974286]\n",
            "87 [-0.17448834129808605, 0.4035745435797456, 0.85799559805148]\n",
            "88 [-0.17099857447212433, 0.39550305270815067, 0.8408356860904503]\n",
            "89 [-0.16757860298268185, 0.38759299165398764, 0.8240189723686413]\n",
            "90 [-0.1642270309230282, 0.3798411318209079, 0.8075385929212685]\n",
            "91 [-0.16094249030456764, 0.37224430918448975, 0.7913878210628431]\n",
            "92 [-0.1577236404984763, 0.3647994230008, 0.7755600646415862]\n",
            "93 [-0.15456916768850676, 0.357503434540784, 0.7600488633487545]\n",
            "94 [-0.15147778433473663, 0.3503533658499683, 0.7448478860817794]\n",
            "95 [-0.14844822864804189, 0.34334629853296894, 0.7299509283601439]\n",
            "96 [-0.14547926407508105, 0.3364793725623096, 0.7153519097929409]\n",
            "97 [-0.14256967879357943, 0.3297497851110634, 0.7010448715970822]\n",
            "98 [-0.13971828521770785, 0.3231547894088421, 0.6870239741651405]\n",
            "99 [-0.1369239195133537, 0.3166916936206653, 0.6732834946818377]\n",
            "100 [-0.1341854411230866, 0.310357859748252, 0.659817824788201]\n",
            "101 [-0.13150173230062487, 0.3041507025532869, 0.6466214682924369]\n",
            "102 [-0.12887169765461237, 0.29806768850222115, 0.6336890389265882]\n",
            "103 [-0.12629426370152014, 0.29210633473217673, 0.6210152581480565]\n",
            "104 [-0.12376837842748974, 0.2862642080375332, 0.6085949529850954]\n",
            "105 [-0.12129301085893994, 0.28053892387678253, 0.5964230539253934]\n",
            "106 [-0.11886715064176114, 0.27492814539924687, 0.5844945928468855]\n",
            "107 [-0.11648980762892591, 0.2694295824912619, 0.5728047009899478]\n",
            "108 [-0.1141600114763474, 0.2640409908414367, 0.5613486069701489]\n",
            "109 [-0.11187681124682045, 0.25876017102460797, 0.5501216348307459]\n",
            "110 [-0.10963927502188403, 0.2535849676041158, 0.539119202134131]\n",
            "111 [-0.10744648952144635, 0.2485132682520335, 0.5283368180914484]\n",
            "112 [-0.10529755973101743, 0.24354300288699282, 0.5177700817296195]\n",
            "113 [-0.10319160853639708, 0.23867214282925298, 0.5074146800950271]\n",
            "114 [-0.10112777636566914, 0.2338986999726679, 0.49726638649312654]\n",
            "115 [-0.09910522083835575, 0.22922072597321455, 0.48732105876326404]\n",
            "116 [-0.09712311642158863, 0.22463631145375026, 0.47757463758799873]\n",
            "117 [-0.09518065409315686, 0.22014358522467525, 0.46802314483623875]\n",
            "118 [-0.09327704101129372, 0.21574071352018176, 0.458662681939514]\n",
            "119 [-0.09141150019106785, 0.21142589924977812, 0.4494894283007237]\n",
            "120 [-0.08958327018724649, 0.20719738126478254, 0.44049963973470924]\n",
            "121 [-0.08779160478350156, 0.20305343363948689, 0.43168964694001505]\n",
            "122 [-0.08603577268783154, 0.19899236496669714, 0.42305585400121476]\n",
            "123 [-0.08431505723407491, 0.1950125176673632, 0.4145947369211905]\n",
            "124 [-0.08262875608939341, 0.19111226731401593, 0.4063028421827667]\n",
            "125 [-0.08097618096760553, 0.18729002196773561, 0.3981767853391113]\n",
            "126 [-0.07935665734825342, 0.1835442215283809, 0.3902132496323291]\n",
            "127 [-0.07776952420128835, 0.17987333709781328, 0.38240898463968254]\n",
            "128 [-0.07621413371726259, 0.176275870355857, 0.3747608049468889]\n",
            "129 [-0.07468985104291734, 0.17275035294873986, 0.36726558884795113]\n",
            "130 [-0.07319605402205899, 0.16929534588976505, 0.3599202770709921]\n",
            "131 [-0.07173213294161782, 0.16590943897196975, 0.3527218715295723]\n",
            "132 [-0.07029749028278547, 0.16259125019253035, 0.3456674340989809]\n",
            "133 [-0.06889154047712975, 0.15933942518867975, 0.33875408541700125]\n",
            "134 [-0.06751370966758716, 0.15615263668490614, 0.33197900370866124]\n",
            "135 [-0.06616343547423541, 0.15302958395120803, 0.32533942363448803]\n",
            "136 [-0.0648401667647507, 0.14996899227218385, 0.3188326351617983]\n",
            "137 [-0.06354336342945568, 0.14696961242674017, 0.3124559824585623]\n",
            "138 [-0.062272496160866574, 0.14403022017820535, 0.3062068628093911]\n",
            "139 [-0.06102704623764924, 0.14114961577464125, 0.30008272555320326]\n",
            "140 [-0.05980650531289626, 0.13832662345914842, 0.2940810710421392]\n",
            "141 [-0.05861037520663834, 0.13556009098996546, 0.2881994496212964]\n",
            "142 [-0.05743816770250557, 0.13284888917016616, 0.2824354606288705]\n",
            "143 [-0.05628940434845546, 0.13019191138676284, 0.27678675141629305]\n",
            "144 [-0.05516361626148635, 0.1275880731590276, 0.27125101638796717]\n",
            "145 [-0.054060343936256625, 0.12503631169584703, 0.26582599606020785]\n",
            "146 [-0.05297913705753149, 0.1225355854619301, 0.2605094761390037]\n",
            "147 [-0.05191955431638086, 0.12008487375269149, 0.25529928661622364]\n",
            "148 [-0.05088116323005324, 0.11768317627763766, 0.2501933008838992]\n",
            "149 [-0.049863539965452175, 0.1153295127520849, 0.2451894348662212]\n",
            "150 [-0.04886626916614313, 0.11302292249704321, 0.24028564616889678]\n",
            "151 [-0.04788894378282027, 0.11076246404710234, 0.23547993324551883]\n",
            "152 [-0.04693116490716386, 0.10854721476616029, 0.23077033458060844]\n",
            "153 [-0.04599254160902058, 0.10637627047083709, 0.22615492788899627]\n",
            "154 [-0.04507269077684017, 0.10424874506142034, 0.22163182933121633]\n",
            "155 [-0.044171236961303366, 0.10216377016019194, 0.217199192744592]\n",
            "156 [-0.043287812222077296, 0.1001204947569881, 0.21285520888970016]\n",
            "157 [-0.04242205597763575, 0.09811808486184834, 0.20859810471190615]\n",
            "158 [-0.04157361485808304, 0.09615572316461136, 0.20442614261766803]\n",
            "159 [-0.040742142560921374, 0.09423260870131914, 0.20033761976531467]\n",
            "160 [-0.03992729970970295, 0.09234795652729276, 0.19633086737000838]\n",
            "161 [-0.03912875371550889, 0.0905009973967469, 0.19240425002260822]\n",
            "162 [-0.038346178641198714, 0.08869097744881196, 0.18855616502215605]\n",
            "163 [-0.03757925506837474, 0.08691715789983573, 0.18478504172171292]\n",
            "164 [-0.036827669967007245, 0.08517881474183901, 0.18108934088727865]\n",
            "165 [-0.0360911165676671, 0.08347523844700223, 0.17746755406953307]\n",
            "166 [-0.035369294236313756, 0.0818057336780622, 0.17391820298814242]\n",
            "167 [-0.03466190835158748, 0.08016961900450095, 0.17043983892837958]\n",
            "168 [-0.03396867018455573, 0.07856622662441093, 0.167031042149812]\n",
            "169 [-0.03328929678086462, 0.07699490209192271, 0.16369042130681574]\n",
            "170 [-0.032623510845247325, 0.07545500405008426, 0.16041661288067943]\n",
            "171 [-0.03197104062834238, 0.07394590396908257, 0.15720828062306585]\n",
            "172 [-0.03133161981577553, 0.07246698588970092, 0.15406411501060455]\n",
            "173 [-0.03070498741946002, 0.07101764617190691, 0.15098283271039245]\n",
            "174 [-0.030090887671070817, 0.06959729324846878, 0.14796317605618461]\n",
            "175 [-0.0294890699176494, 0.0682053473834994, 0.14500391253506092]\n",
            "176 [-0.028899288519296414, 0.06684124043582941, 0.14210383428435971]\n",
            "177 [-0.028321302748910485, 0.06550441562711282, 0.13926175759867251]\n",
            "178 [-0.027754876693932274, 0.06419432731457056, 0.13647652244669906]\n",
            "179 [-0.027199779160053627, 0.06291044076827915, 0.13374699199776507]\n",
            "180 [-0.026655783576852554, 0.06165223195291356, 0.13107205215780976]\n",
            "181 [-0.026122667905315502, 0.06041918731385529, 0.12845061111465356]\n",
            "182 [-0.02560021454720919, 0.059210803567578185, 0.12588159889236047]\n",
            "183 [-0.025088210256265005, 0.05802658749622662, 0.12336396691451326]\n",
            "184 [-0.024586446051139705, 0.05686605574630209, 0.120896687576223]\n",
            "185 [-0.024094717130116912, 0.055728734631376044, 0.11847875382469854]\n",
            "186 [-0.023612822787514573, 0.054614159938748526, 0.11610917874820456]\n",
            "187 [-0.02314056633176428, 0.05352187673997356, 0.11378699517324047]\n",
            "188 [-0.022677755005128995, 0.05245143920517409, 0.11151125526977565]\n",
            "189 [-0.022224199905026415, 0.051402410421070605, 0.10928103016438014]\n",
            "190 [-0.021779715906925887, 0.050374362212649196, 0.10709540956109254]\n",
            "191 [-0.02134412158878737, 0.04936687496839621, 0.10495350136987068]\n",
            "192 [-0.020917239157011623, 0.04837953746902828, 0.10285443134247327]\n",
            "193 [-0.020498894373871392, 0.04741194671964771, 0.10079734271562381]\n",
            "194 [-0.020088916486393965, 0.04646370778525476, 0.09878139586131134]\n",
            "195 [-0.019687138156666086, 0.04553443362954966, 0.0968057679440851]\n",
            "196 [-0.019293395393532763, 0.044623744956958665, 0.0948696525852034]\n",
            "197 [-0.018907527485662108, 0.043731270057819495, 0.09297225953349933]\n",
            "198 [-0.018529376935948867, 0.042856644656663105, 0.09111281434282935]\n",
            "199 [-0.01815878939722989, 0.04199951176352984, 0.08929055805597276]\n",
            "200 [-0.01779561360928529, 0.041159521528259246, 0.08750474689485331]\n",
            "201 [-0.017439701337099586, 0.040336331097694064, 0.08575465195695625]\n",
            "202 [-0.017090907310357596, 0.039529604475740186, 0.08403955891781713]\n",
            "203 [-0.016749089164150445, 0.03873901238622538, 0.08235876773946078]\n",
            "204 [-0.016414107380867436, 0.03796423213850087, 0.08071159238467157]\n",
            "205 [-0.016085825233250087, 0.037204947495730854, 0.07909736053697813]\n",
            "206 [-0.015764108728585087, 0.036460848545816237, 0.07751541332623857]\n",
            "207 [-0.015448826554013386, 0.03573163157489991, 0.0759651050597138]\n",
            "208 [-0.015139850022933119, 0.03501699894340191, 0.07444580295851952]\n",
            "209 [-0.014837053022474456, 0.034316658964533876, 0.07295688689934914]\n",
            "210 [-0.014540311962024967, 0.0336303257852432, 0.07149774916136216]\n",
            "211 [-0.014249505722784467, 0.03295771926953833, 0.07006779417813491]\n",
            "212 [-0.013964515608328778, 0.03229856488414756, 0.06866643829457221]\n",
            "213 [-0.013685225296162203, 0.03165259358646461, 0.06729310952868077]\n",
            "214 [-0.013411520790238959, 0.03101954171473532, 0.06594724733810715]\n",
            "215 [-0.01314329037443418, 0.030399150880440616, 0.06462830239134501]\n",
            "216 [-0.012880424566945497, 0.029791167862831803, 0.0633357363435181]\n",
            "217 [-0.012622816075606587, 0.029195344505575167, 0.06206902161664774]\n",
            "218 [-0.012370359754094456, 0.028611437615463663, 0.06082764118431479]\n",
            "219 [-0.012122952559012566, 0.028039208863154388, 0.05961108836062849]\n",
            "220 [-0.011880493507832315, 0.0274784246858913, 0.05841886659341592]\n",
            "221 [-0.011642883637675669, 0.026928856192173473, 0.057250489261547605]\n",
            "222 [-0.011410025964922155, 0.026390279068330004, 0.05610547947631665]\n",
            "223 [-0.011181825445623713, 0.025862473486963404, 0.05498336988679032]\n",
            "224 [-0.010958188936711239, 0.025345224017224135, 0.05388370248905451]\n",
            "225 [-0.010739025157977014, 0.024838319536879653, 0.05280602843927342]\n",
            "226 [-0.010524244654817475, 0.02434155314614206, 0.05174990787048795]\n",
            "227 [-0.010313759761721126, 0.023854722083219218, 0.05071490971307819]\n",
            "228 [-0.010107484566486703, 0.023377627641554835, 0.04970061151881663]\n",
            "229 [-0.00990533487515697, 0.02291007508872374, 0.048706599288440296]\n",
            "230 [-0.009707228177653831, 0.022451873586949264, 0.04773246730267149]\n",
            "231 [-0.009513083614100755, 0.02200283611521028, 0.04677781795661806]\n",
            "232 [-0.00932282194181874, 0.021562779392906073, 0.0458422615974857]\n",
            "233 [-0.009136365502982365, 0.02113152380504795, 0.044925416365535986]\n",
            "234 [-0.008953638192922718, 0.020708893328946994, 0.04402690803822527]\n",
            "235 [-0.008774565429064263, 0.020294715462368055, 0.04314636987746076]\n",
            "236 [-0.008599074120482978, 0.019888821153120694, 0.042283442479911545]\n",
            "237 [-0.008427092638073319, 0.01949104473005828, 0.04143777363031331]\n",
            "238 [-0.008258550785311852, 0.019101223835457114, 0.040609018157707046]\n",
            "239 [-0.008093379769605615, 0.01871919935874797, 0.039796837794552904]\n",
            "240 [-0.007931512174213503, 0.018344815371573012, 0.03900090103866185]\n",
            "241 [-0.007772881930729233, 0.01797791906414155, 0.03822088301788861]\n",
            "242 [-0.007617424292114649, 0.01761836068285872, 0.03745646535753084]\n",
            "243 [-0.007465075806272356, 0.017265993469201546, 0.03670733605038022]\n",
            "244 [-0.007315774290146909, 0.016920673599817516, 0.035973189329372615]\n",
            "245 [-0.007169458804343971, 0.016582260127821165, 0.035253725542785164]\n",
            "246 [-0.0070260696282570916, 0.01625061492526474, 0.03454865103192946]\n",
            "247 [-0.0068855482356919495, 0.015925602626759443, 0.033857678011290866]\n",
            "248 [-0.00674783727097811, 0.015607090574224254, 0.03318052445106505]\n",
            "249 [-0.006612880525558548, 0.015294948762739768, 0.03251691396204375]\n",
            "250 [-0.0064806229150473765, 0.014989049787484972, 0.03186657568280288]\n",
            "251 [-0.006351010456746429, 0.014689268791735273, 0.03122924416914682]\n",
            "252 [-0.0062239902476115, 0.014395483415900568, 0.030604659285763884]\n",
            "253 [-0.00609951044265927, 0.014107573747582557, 0.029992566100048607]\n",
            "254 [-0.005977520233806085, 0.013825422272630906, 0.029392714778047634]\n",
            "255 [-0.005857969829129963, 0.013548913827178289, 0.02880486048248668]\n",
            "256 [-0.005740810432547363, 0.013277935550634723, 0.028228763272836948]\n",
            "257 [-0.005625994223896416, 0.013012376839622029, 0.02766418800738021]\n",
            "258 [-0.005513474339418487, 0.012752129302829589, 0.027110904247232608]\n",
            "259 [-0.0054032048526301175, 0.012497086716772996, 0.026568686162287955]\n",
            "260 [-0.005295140755577515, 0.012247144982437536, 0.026037312439042195]\n",
            "261 [-0.005189237940465965, 0.012002202082788785, 0.025516566190261353]\n",
            "262 [-0.005085453181656646, 0.011762158041133008, 0.025006234866456124]\n",
            "263 [-0.004983744118023513, 0.011526914880310348, 0.024506110169127]\n",
            "264 [-0.0048840692356630425, 0.01129637658270414, 0.024015987965744463]\n",
            "265 [-0.004786387850949782, 0.011070449051050058, 0.023535668206429574]\n",
            "266 [-0.004690660093930786, 0.010849040070029056, 0.02306495484230098]\n",
            "267 [-0.00459684689205217, 0.010632059268628475, 0.022603655745454962]\n",
            "268 [-0.004504909954211126, 0.010419418083255905, 0.02215158263054586]\n",
            "269 [-0.004414811755126904, 0.010211029721590787, 0.021708550977934945]\n",
            "270 [-0.004326515520024366, 0.010006809127158971, 0.021274379958376246]\n",
            "271 [-0.004239985209623879, 0.00980667294461579, 0.020848892359208723]\n",
            "272 [-0.004155185505431401, 0.009610539485723475, 0.020431914512024547]\n",
            "273 [-0.004072081795322773, 0.009418328696009006, 0.020023276221784056]\n",
            "274 [-0.003990640159416317, 0.009229962122088826, 0.019622810697348374]\n",
            "275 [-0.003910827356227991, 0.00904536287964705, 0.019230354483401407]\n",
            "276 [-0.003832610809103431, 0.008864455622054108, 0.01884574739373338]\n",
            "277 [-0.0037559585929213624, 0.008687166509613027, 0.018468832445858712]\n",
            "278 [-0.003680839421062935, 0.008513423179420766, 0.018099455796941537]\n",
            "279 [-0.0036072226326416762, 0.00834315471583235, 0.017737466681002706]\n",
            "280 [-0.0035350781799888425, 0.008176291621515704, 0.017382717347382653]\n",
            "281 [-0.0034643766163890656, 0.00801276578908539, 0.017035063000435]\n",
            "282 [-0.0033950890840612844, 0.007852510473303683, 0.016694361740426298]\n",
            "283 [-0.0033271873023800586, 0.007695460263837609, 0.016360474505617773]\n",
            "284 [-0.0032606435563324572, 0.007541551058560857, 0.016033265015505418]\n",
            "285 [-0.0031954306852058083, 0.00739072003738964, 0.01571259971519531]\n",
            "286 [-0.003131522071501692, 0.007242905636641847, 0.015398347720891404]\n",
            "287 [-0.0030688916300716583, 0.00709804752390901, 0.015090380766473576]\n",
            "288 [-0.003007513797470225, 0.006956086573430829, 0.014788573151144105]\n",
            "289 [-0.0029473635215208206, 0.006816964841962213, 0.014492801688121223]\n",
            "290 [-0.002888416251090404, 0.006680625545122968, 0.014202945654358798]\n",
            "291 [-0.002830647926068596, 0.006547013034220509, 0.013918886741271622]\n",
            "292 [-0.002774034967547224, 0.006416072773536099, 0.01364050900644619]\n",
            "293 [-0.0027185542681962796, 0.006287751318065377, 0.013367698826317265]\n",
            "294 [-0.002664183182832354, 0.00616199629170407, 0.01310034484979092]\n",
            "295 [-0.002610899519175707, 0.006038756365869989, 0.012838337952795102]\n",
            "296 [-0.002558681528792193, 0.005917981238552589, 0.0125815711937392]\n",
            "297 [-0.002507507898216349, 0.005799621613781537, 0.012329939769864415]\n",
            "298 [-0.002457357740252022, 0.005683629181505907, 0.012083340974467126]\n",
            "299 [-0.0024082105854469813, 0.005569956597875789, 0.011841674154977784]\n",
            "300 [-0.0023600463737380416, 0.005458557465918273, 0.011604840671878228]\n",
            "301 [-0.0023128454462632807, 0.005349386316599907, 0.011372743858440663]\n",
            "302 [-0.002266588537338015, 0.005242398590267909, 0.01114528898127185]\n",
            "303 [-0.002221256766591255, 0.0051375506184625505, 0.010922383201646412]\n",
            "304 [-0.00217683163125943, 0.005034799606093299, 0.010703935537613484]\n",
            "305 [-0.0021332949986342413, 0.004934103613971433, 0.010489856826861215]\n",
            "306 [-0.0020906290986615565, 0.004835421541692004, 0.010280059690323992]\n",
            "307 [-0.002048816516688325, 0.004738713110858164, 0.010074458496517513]\n",
            "308 [-0.0020078401863545584, 0.004643938848641001, 0.009872969326587162]\n",
            "309 [-0.001967683382627467, 0.004551060071668181, 0.00967550994005542]\n",
            "310 [-0.0019283297149749177, 0.004460038870234818, 0.009481999741254311]\n",
            "311 [-0.0018897631206754193, 0.004370838092830121, 0.009292359746429224]\n",
            "312 [-0.001851967858261911, 0.0042834213309735185, 0.00910651255150064]\n",
            "313 [-0.0018149285010966728, 0.004197752904354048, 0.008924382300470626]\n",
            "314 [-0.0017786299310747393, 0.004113797846266967, 0.008745894654461213]\n",
            "315 [-0.0017430573324532445, 0.004031521889341628, 0.008570976761371989]\n",
            "316 [-0.0017081961858041797, 0.003950891451554795, 0.00839955722614455]\n",
            "317 [-0.001674032262088096, 0.0038718736225236993, 0.008231566081621658]\n",
            "318 [-0.001640551616846334, 0.0037944361500732255, 0.008066934759989226]\n",
            "319 [-0.0016077405845094073, 0.003718547427071761, 0.00790559606478944]\n",
            "320 [-0.0015755857728192192, 0.003644176478530326, 0.007747484143493652]\n",
            "321 [-0.0015440740573628348, 0.003571292948959719, 0.0075925344606237784]\n",
            "322 [-0.001513192576215578, 0.0034998670899805246, 0.007440683771411303]\n",
            "323 [-0.0014829287246912665, 0.0034298697481809142, 0.007291870095983077]\n",
            "324 [-0.0014532701501974413, 0.003361272353217296, 0.007146032694063415]\n",
            "325 [-0.0014242047471934925, 0.00329404690615295, 0.007003112040182147]\n",
            "326 [-0.0013957206522496226, 0.003228165968029891, 0.006863049799378504]\n",
            "327 [-0.0013678062392046301, 0.003163602648669293, 0.0067257888033909335]\n",
            "328 [-0.0013404501144205375, 0.003100330595695907, 0.006591273027323115]\n",
            "329 [-0.0013136411121321267, 0.003038323983781989, 0.006459447566776653]\n",
            "330 [-0.001287368289889484, 0.002977557504106349, 0.00633025861544112]\n",
            "331 [-0.0012616209240916944, 0.002918006354024222, 0.006203653443132297]\n",
            "332 [-0.0012363885056098606, 0.0028596462269437376, 0.006079580374269651]\n",
            "333 [-0.0012116607354976632, 0.0028024533024048628, 0.0059579887667842585]\n",
            "334 [-0.00118742752078771, 0.0027464042363567654, 0.005838828991448573]\n",
            "335 [-0.0011636789703719558, 0.0026914761516296302, 0.005722052411619602]\n",
            "336 [-0.0011404053909645166, 0.0026376466285970377, 0.00560761136338721]\n",
            "337 [-0.0011175972831452261, 0.002584893696025097, 0.005495459136119466]\n",
            "338 [-0.0010952453374823217, 0.002533195822104595, 0.0053855499533970765]\n",
            "339 [-0.0010733404307326753, 0.0024825319056625034, 0.005277838954329135]\n",
            "340 [-0.0010518736221180219, 0.002432881267549253, 0.0051722821752425525]\n",
            "341 [-0.0010308361496756614, 0.002384223642198268, 0.005068836531737702]\n",
            "342 [-0.0010102194266821483, 0.0023365391693543026, 0.0049674598011029475]\n",
            "343 [-0.0009900150381485053, 0.0022898083859672165, 0.004868110605080888]\n",
            "344 [-0.0009702147373855352, 0.002244012218247872, 0.004770748392979271]\n",
            "345 [-0.0009508104426378245, 0.002199131973882915, 0.004675333425119685]\n",
            "346 [-0.000931794233785068, 0.0021551493344052564, 0.004581826756617292]\n",
            "347 [-0.0009131583491093667, 0.0021120463477171513, 0.0044901902214849465]\n",
            "348 [-0.0008948951821271794, 0.0020698054207628084, 0.004400386417055247]\n",
            "349 [-0.0008769972784846358, 0.002028409312347552, 0.0043123786887141425]\n",
            "350 [-0.000859457332914943, 0.001987841126100601, 0.00422613111493986]\n",
            "351 [-0.0008422681862566442, 0.001948084303578589, 0.004141608492641063]\n",
            "352 [-0.0008254228225315114, 0.0019091226175070172, 0.0040587763227882415]\n",
            "353 [-0.0008089143660808811, 0.0018709401651568769, 0.003977600796332477]\n",
            "354 [-0.0007927360787592635, 0.0018335213618537393, 0.0038980487804058275]\n",
            "355 [-0.0007768813571840782, 0.0017968509346166645, 0.003820087804797711]\n",
            "356 [-0.0007613437300403967, 0.0017609139159243312, 0.0037436860487017566]\n",
            "357 [-0.0007461168554395887, 0.0017256956376058446, 0.0036688123277277213]\n",
            "358 [-0.000731194518330797, 0.0016911817248537278, 0.0035954360811731667]\n",
            "359 [-0.0007165706279641811, 0.0016573580903566532, 0.003523527359549703]\n",
            "360 [-0.0007022392154048975, 0.00162421092854952, 0.0034530568123587093]\n",
            "361 [-0.0006881944310967996, 0.0015917267099785296, 0.003383995676111535]\n",
            "362 [-0.0006744305424748636, 0.001559892175778959, 0.0033163157625893044]\n",
            "363 [-0.0006609419316253663, 0.00152869433226338, 0.003249989447337518]\n",
            "364 [-0.000647723092992859, 0.0014981204456181124, 0.0031849896583907677]\n",
            "365 [-0.0006347686311330018, 0.0014681580367057502, 0.0031212898652229525]\n",
            "366 [-0.0006220732585103418, 0.0014387948759716353, 0.0030588640679184934]\n",
            "367 [-0.000609631793340135, 0.0014100189784522026, 0.0029976867865601237]\n",
            "368 [-0.0005974391574733323, 0.0013818185988831585, 0.0029377330508289215]\n",
            "369 [-0.0005854903743238657, 0.0013541822269054953, 0.002878978389812343]\n",
            "370 [-0.0005737805668373883, 0.0013270985823673853, 0.002821398822016096]\n",
            "371 [-0.0005623049555006405, 0.0013005566107200375, 0.002764970845575774]\n",
            "372 [-0.0005510588563906277, 0.0012745454785056368, 0.002709671428664259]\n",
            "373 [-0.0005400376792628151, 0.001249054568935524, 0.002655478000090974]\n",
            "374 [-0.0005292369256775588, 0.0012240734775568135, 0.0026023684400891542]\n",
            "375 [-0.0005186521871640076, 0.0011995920080056773, 0.0025503210712873713]\n",
            "376 [-0.0005082791434207274, 0.0011756001678455638, 0.002499314649861624]\n",
            "377 [-0.0004981135605523128, 0.0011520881644886524, 0.0024493283568643915]\n",
            "378 [-0.00048815128934126653, 0.0011290464011988793, 0.002400341789727104]\n",
            "379 [-0.0004783882635544412, 0.0011064654731749017, 0.0023523349539325616]\n",
            "380 [-0.00046882049828335235, 0.0010843361637114036, 0.0023052882548539105]\n",
            "381 [-0.0004594440883176853, 0.0010626494404371756, 0.002259182489756832]\n",
            "382 [-0.0004502552065513316, 0.0010413964516284321, 0.0022139988399616953]\n",
            "383 [-0.00044125010242030495, 0.0010205685225958634, 0.0021697188631624614]\n",
            "384 [-0.00043242510037189884, 0.001000157152143946, 0.002126324485899212]\n",
            "385 [-0.00042377659836446085, 0.0009801540091010671, 0.002083797996181228]\n",
            "386 [-0.00041530106639717164, 0.0009605509289190458, 0.002042122036257603]\n",
            "387 [-0.0004069950450692282, 0.0009413399103406649, 0.002001279595532451]\n",
            "388 [-0.0003988551441678436, 0.0009225131121338516, 0.001961254003621802]\n",
            "389 [-0.00039087804128448673, 0.0009040628498911745, 0.001922028923549366]\n",
            "390 [-0.000383060480458797, 0.000885981592893351, 0.0018835883450783787]\n",
            "391 [-0.00037539927084962105, 0.000868261961035484, 0.001845916578176811]\n",
            "392 [-0.0003678912854326286, 0.0008508967218147744, 0.0018089982466132748]\n",
            "393 [-0.000360533459723976, 0.0008338787873784789, 0.0017728182816810093]\n",
            "394 [-0.0003533227905294965, 0.0008172012116309092, 0.001737361916047389]\n",
            "395 [-0.0003462563347189066, 0.0008008571873982911, 0.0017026146777264412]\n",
            "396 [-0.00033933120802452844, 0.0007848400436503253, 0.0016685623841719123]\n",
            "397 [-0.0003325445838640379, 0.0007691432427773188, 0.001635191136488474]\n",
            "398 [-0.00032589369218675714, 0.0007537603779217723, 0.0016024873137587044]\n",
            "399 [-0.000319375818343022, 0.0007386851703633369, 0.0015704375674835303]\n",
            "400 [-0.0003129883019761615, 0.0007239114669560702, 0.0015390288161338597]\n",
            "401 [-0.0003067285359366383, 0.0007094332376169488, 0.0015082482398111824]\n",
            "402 [-0.00030059396521790553, 0.0006952445728646098, 0.0014780832750149588]\n",
            "403 [-0.00029458208591354743, 0.0006813396814073176, 0.0014485216095146596]\n",
            "404 [-0.00028869044419527646, 0.0006677128877791712, 0.0014195511773243664]\n",
            "405 [-0.0002829166353113709, 0.0006543586300235878, 0.0013911601537778791]\n",
            "406 [-0.0002772583026051435, 0.0006412714574231161, 0.0013633369507023215]\n",
            "407 [-0.0002717131365530406, 0.0006284460282746537, 0.001336070211688275]\n",
            "408 [-0.0002662788738219798, 0.0006158771077091606, 0.0013093488074545094]\n",
            "409 [-0.0002609532963455402, 0.0006035595655549775, 0.0012831618313054191]\n",
            "410 [-0.0002557342304186294, 0.0005914883742438779, 0.0012574985946793107]\n",
            "411 [-0.0002506195458102568, 0.0005796586067590003, 0.0012323486227857245]\n",
            "412 [-0.00024560715489405164, 0.0005680654346238203, 0.0012077016503300102]\n",
            "413 [-0.00024069501179617062, 0.0005567041259313439, 0.00118354761732341]\n",
            "414 [-0.00023588111156024722, 0.000545570043412717, 0.0011598766649769418]\n",
            "415 [-0.0002311634893290423, 0.0005346586425444627, 0.001136679131677403]\n",
            "416 [-0.00022654021954246145, 0.0005239654696935734, 0.001113945549043855]\n",
            "417 [-0.00022200941515161223, 0.0005134861602997019, 0.001091666638062978]\n",
            "418 [-0.00021756922684858, 0.0005032164370937078, 0.0010698333053017184]\n",
            "419 [-0.0002132178423116084, 0.0004931521083518336, 0.001048436639195684]\n",
            "420 [-0.00020895348546537624, 0.000483289066184797, 0.0010274679064117703]\n",
            "421 [-0.00020477441575606872, 0.000473623284861101, 0.001006918548283535]\n",
            "422 [-0.00020067892744094734, 0.000464150819163879, 0.0009867801773178642]\n",
            "423 [-0.0001966653488921284, 0.00045486780278060146, 0.0009670445737715069]\n",
            "424 [-0.00019273204191428583, 0.0004457704467249894, 0.0009477036822960768]\n",
            "425 [-0.0001888774010760001, 0.00043685503779048964, 0.0009287496086501552]\n",
            "426 [-0.0001850998530544801, 0.0004281179370346798, 0.0009101746164771521]\n",
            "427 [-0.00018139785599339048, 0.0004195555782939862, 0.000891971124147609]\n",
            "428 [-0.00017776989887352266, 0.0004111644667281065, 0.0008741317016646568]\n",
            "429 [-0.0001742145008960522, 0.0004029411773935444, 0.0008566490676313636]\n",
            "430 [-0.00017073021087813116, 0.0003948823538456735, 0.0008395160862787363]\n",
            "431 [-0.00016731560666056853, 0.00038698470676876005, 0.0008227257645531616]\n",
            "432 [-0.00016396929452735718, 0.00037924501263338485, 0.0008062712492620984]\n",
            "433 [-0.00016068990863681005, 0.00037166011238071715, 0.0007901458242768564]\n",
            "434 [-0.00015747611046407385, 0.0003642269101331028, 0.0007743429077913192]\n",
            "435 [-0.00015432658825479238, 0.0003569423719304408, 0.0007588560496354929]\n",
            "436 [-0.00015124005648969654, 0.00034980352449183195, 0.000743678928642783]\n",
            "437 [-0.00014821525535990262, 0.0003428074540019953, 0.0007288053500699274]\n",
            "438 [-0.00014525095025270457, 0.00033595130492195544, 0.0007142292430685289]\n",
            "439 [-0.0001423459312476505, 0.00032923227882351635, 0.0006999446582071584]\n",
            "440 [-0.00013949901262269747, 0.000322647633247046, 0.0006859457650430151]\n",
            "441 [-0.00013670903237024352, 0.0003161946805821051, 0.0006722268497421548]\n",
            "442 [-0.00013397485172283866, 0.000309870786970463, 0.0006587823127473118]\n",
            "443 [-0.00013129535468838188, 0.00030367337123105373, 0.0006456066664923656]\n",
            "444 [-0.00012866944759461424, 0.00029759990380643264, 0.0006326945331625183]\n",
            "445 [-0.00012609605864272197, 0.000291647905730304, 0.000620040642499268]\n",
            "446 [-0.0001235741374698675, 0.0002858149476156979, 0.0006076398296492826]\n",
            "447 [-0.00012110265472047016, 0.0002800986486633839, 0.000595487033056297]\n",
            "448 [-0.00011868060162606076, 0.0002744966756901162, 0.0005835772923951711]\n",
            "449 [-0.00011630698959353954, 0.0002690067421763139, 0.0005719057465472676]\n",
            "450 [-0.00011398084980166875, 0.0002636266073327876, 0.0005604676316163223]\n",
            "451 [-0.00011170123280563537, 0.00025835407518613187, 0.0005492582789839959]\n",
            "452 [-0.00010946720814952267, 0.0002531869936824092, 0.000538273113404316]\n",
            "453 [-0.00010727786398653222, 0.00024812325380876106, 0.0005275076511362297]\n",
            "454 [-0.00010513230670680157, 0.00024316078873258583, 0.000516957498113505]\n",
            "455 [-0.00010302966057266553, 0.0002382975729579341, 0.000506618348151235]\n",
            "456 [-0.00010096906736121222, 0.00023353162149877541, 0.0004964859811882103]\n",
            "457 [-9.894968601398797e-05, 0.0002288609890687999, 0.00048655626156444607]\n",
            "458 [-9.697069229370821e-05, 0.0002242837692874239, 0.00047682513633315717]\n",
            "459 [-9.503127844783405e-05, 0.00021979809390167542, 0.00046728863360649404]\n",
            "460 [-9.313065287887737e-05, 0.00021540213202364192, 0.00045794286093436414]\n",
            "461 [-9.126803982129982e-05, 0.00021109408938316907, 0.00044878400371567683]\n",
            "462 [-8.944267902487382e-05, 0.00020687220759550568, 0.0004398083236413633]\n",
            "463 [-8.765382544437634e-05, 0.00020273476344359557, 0.00043101215716853604]\n",
            "464 [-8.590074893548881e-05, 0.00019868006817472367, 0.00042239191402516533]\n",
            "465 [-8.418273395677904e-05, 0.0001947064668112292, 0.00041394407574466203]\n",
            "466 [-8.249907927764345e-05, 0.0001908123374750046, 0.0004056651942297688]\n",
            "467 [-8.084909769209058e-05, 0.0001869960907255045, 0.00039755189034517346]\n",
            "468 [-7.923211573824877e-05, 0.00018325616891099443, 0.00038960085253827]\n",
            "469 [-7.764747342348379e-05, 0.00017959104553277454, 0.0003818088354875046]\n",
            "470 [-7.609452395501411e-05, 0.00017599922462211906, 0.00037417265877775455]\n",
            "471 [-7.457263347591383e-05, 0.00017247924012967668, 0.00036668920560219945]\n",
            "472 [-7.308118080639556e-05, 0.00016902965532708314, 0.00035935542149015544]\n",
            "473 [-7.161955719026765e-05, 0.00016564906222054146, 0.00035216831306035236]\n",
            "474 [-7.018716604646229e-05, 0.00016233608097613063, 0.0003451249467991453]\n",
            "475 [-6.878342272553304e-05, 0.000159089359356608, 0.0003382224478631624]\n",
            "476 [-6.740775427102238e-05, 0.00015590757216947586, 0.00033145799890589914]\n",
            "477 [-6.605959918560193e-05, 0.00015278942072608634, 0.0003248288389277812]\n",
            "478 [-6.47384072018899e-05, 0.0001497336323115646, 0.00031833226214922556]\n",
            "479 [-6.34436390578521e-05, 0.00014673895966533333, 0.00031196561690624103]\n",
            "480 [-6.217476627669506e-05, 0.00014380418047202665, 0.0003057263045681162]\n",
            "481 [-6.0931270951161156e-05, 0.0001409280968625861, 0.0002996117784767539]\n",
            "482 [-5.971264553213793e-05, 0.0001381095349253344, 0.0002936195429072188]\n",
            "483 [-5.851839262149517e-05, 0.0001353473442268277, 0.00028774715204907443]\n",
            "484 [-5.7348024769065265e-05, 0.00013264039734229115, 0.00028199220900809296]\n",
            "485 [-5.6201064273683956e-05, 0.00012998758939544532, 0.0002763523648279311]\n",
            "486 [-5.5077042988210276e-05, 0.0001273878376075364, 0.0002708253175313725]\n",
            "487 [-5.397550212844607e-05, 0.00012484008085538568, 0.00026540881118074504]\n",
            "488 [-5.289599208587715e-05, 0.00012234327923827797, 0.00026010063495713015]\n",
            "489 [-5.18380722441596e-05, 0.00011989641365351241, 0.0002548986222579875]\n",
            "490 [-5.080131079927641e-05, 0.00011749848538044216, 0.0002498006498128278]\n",
            "491 [-4.978528458329088e-05, 0.00011514851567283331, 0.0002448046368165712]\n",
            "492 [-4.878957889162506e-05, 0.00011284554535937664, 0.00023990854408023979]\n",
            "493 [-4.781378731379256e-05, 0.00011058863445218911, 0.000235110373198635]\n",
            "494 [-4.685751156751671e-05, 0.00010837686176314533, 0.0002304081657346623]\n",
            "495 [-4.592036133616637e-05, 0.00010620932452788243, 0.00022580000241996905]\n",
            "496 [-4.500195410944304e-05, 0.00010408513803732478, 0.00022128400237156966]\n",
            "497 [-4.410191502725418e-05, 0.00010200343527657828, 0.00021685832232413828]\n",
            "498 [-4.3219876726709095e-05, 9.996336657104672e-05, 0.0002125211558776555]\n",
            "499 [-4.235547919217491e-05, 9.796409923962578e-05, 0.0002082707327601024]\n",
            "500 [-4.150836960833141e-05, 9.600481725483326e-05, 0.00020410531810490033]\n",
            "501 [-4.0678202216164785e-05, 9.40847209097366e-05, 0.00020002321174280232]\n",
            "502 [-3.986463817184149e-05, 9.220302649154187e-05, 0.00019602274750794626]\n",
            "503 [-3.906734540840466e-05, 9.035896596171103e-05, 0.00019210229255778733]\n",
            "504 [-3.828599850023657e-05, 8.855178664247681e-05, 0.0001882602467066316]\n",
            "505 [-3.752027853023184e-05, 8.678075090962728e-05, 0.00018449504177249897]\n",
            "506 [-3.67698729596272e-05, 8.504513589143473e-05, 0.00018080514093704898]\n",
            "507 [-3.6034475500434655e-05, 8.334423317360603e-05, 0.000177189038118308]\n",
            "508 [-3.531378599042596e-05, 8.16773485101339e-05, 0.00017364525735594184]\n",
            "509 [-3.460751027061744e-05, 8.004380153993122e-05, 0.000170172352208823]\n",
            "510 [-3.391536006520509e-05, 7.84429255091326e-05, 0.00016676890516464652]\n",
            "511 [-3.323705286390099e-05, 7.687406699894994e-05, 0.0001634335270613536]\n",
            "512 [-3.257231180662297e-05, 7.533658565897094e-05, 0.00016016485652012652]\n",
            "513 [-3.1920865570490506e-05, 7.382985394579152e-05, 0.000156961559389724]\n",
            "514 [-3.1282448259080696e-05, 7.235325686687569e-05, 0.00015382232820192952]\n",
            "515 [-3.065679929389908e-05, 7.090619172953817e-05, 0.00015074588163789093]\n",
            "516 [-3.0043663308021096e-05, 6.94880678949474e-05, 0.00014773096400513312]\n",
            "517 [-2.9442790041860675e-05, 6.809830653704845e-05, 0.00014477634472503045]\n",
            "518 [-2.885393424102346e-05, 6.673634040630749e-05, 0.00014188081783052985]\n",
            "519 [-2.8276855556202993e-05, 6.540161359818134e-05, 0.00013904320147391924]\n",
            "520 [-2.7711318445078933e-05, 6.409358132621772e-05, 0.00013626233744444086]\n",
            "521 [-2.7157092076177355e-05, 6.281170969969337e-05, 0.00013353709069555204]\n",
            "522 [-2.6613950234653808e-05, 6.15554755056995e-05, 0.000130866348881641]\n",
            "523 [-2.6081671229960733e-05, 6.032436599558551e-05, 0.00012824902190400816]\n",
            "524 [-2.556003780536152e-05, 5.91178786756738e-05, 0.000125684041465928]\n",
            "525 [-2.504883704925429e-05, 5.7935521102160324e-05, 0.00012317036063660944]\n",
            "526 [-2.4547860308269205e-05, 5.677681068011712e-05, 0.00012070695342387726]\n",
            "527 [-2.405690310210382e-05, 5.5641274466514774e-05, 0.00011829281435539972]\n",
            "528 [-2.3575765040061744e-05, 5.452844897718448e-05, 0.00011592695806829172]\n",
            "529 [-2.310424973926051e-05, 5.3437879997640794e-05, 0.00011360841890692589]\n",
            "530 [-2.26421647444753e-05, 5.236912239768798e-05, 0.00011133625052878736]\n",
            "531 [-2.218932144958579e-05, 5.132173994973422e-05, 0.00010910952551821162]\n",
            "532 [-2.1745535020594074e-05, 5.0295305150739535e-05, 0.00010692733500784738]\n",
            "533 [-2.1310624320182192e-05, 4.928939904772474e-05, 0.00010478878830769043]\n",
            "534 [-2.0884411833778548e-05, 4.830361106677025e-05, 0.00010269301254153663]\n",
            "535 [-2.0466723597102975e-05, 4.733753884543485e-05, 0.0001006391522907059]\n",
            "536 [-2.0057389125160917e-05, 4.6390788068526155e-05, 9.862636924489177e-05]\n",
            "537 [-1.9656241342657698e-05, 4.546297230715563e-05, 9.665384185999393e-05]\n",
            "538 [-1.9263116515804544e-05, 4.455371286101252e-05, 9.472076502279406e-05]\n",
            "539 [-1.8877854185488454e-05, 4.366263860379227e-05, 9.282634972233817e-05]\n",
            "540 [-1.8500297101778684e-05, 4.278938583171643e-05, 9.09698227278914e-05]\n",
            "541 [-1.813029115974311e-05, 4.19335981150821e-05, 8.915042627333358e-05]\n",
            "542 [-1.776768533654825e-05, 4.109492615278046e-05, 8.73674177478669e-05]\n",
            "543 [-1.7412331629817285e-05, 4.027302762972485e-05, 8.562006939290956e-05]\n",
            "544 [-1.706408499722094e-05, 3.946756707713035e-05, 8.390766800505137e-05]\n",
            "545 [-1.672280329727652e-05, 3.8678215735587744e-05, 8.222951464495034e-05]\n",
            "546 [-1.638834723133099e-05, 3.790465142087599e-05, 8.058492435205134e-05]\n",
            "547 [-1.6060580286704368e-05, 3.714655839245847e-05, 7.89732258650103e-05]\n",
            "548 [-1.573936868097028e-05, 3.6403627224609304e-05, 7.73937613477101e-05]\n",
            "549 [-1.5424581307350875e-05, 3.567555468011712e-05, 7.58458861207559e-05]\n",
            "550 [-1.5116089681203856e-05, 3.496204358651478e-05, 7.432896839834079e-05]\n",
            "551 [-1.481376788757978e-05, 3.426280271478448e-05, 7.284238903037397e-05]\n",
            "552 [-1.4517492529828183e-05, 3.357754666048879e-05, 7.138554124976649e-05]\n",
            "553 [-1.4227142679231619e-05, 3.2905995727279015e-05, 6.995783042477116e-05]\n",
            "554 [-1.3942599825646986e-05, 3.224787581273344e-05, 6.855867381627574e-05]\n",
            "555 [-1.3663747829134046e-05, 3.160291829647877e-05, 6.718750033995022e-05]\n",
            "556 [-1.3390472872551365e-05, 3.0970859930549196e-05, 6.584375033315122e-05]\n",
            "557 [-1.3122663415100338e-05, 3.0351442731938212e-05, 6.45268753264882e-05]\n",
            "558 [-1.2860210146798331e-05, 2.974441387729945e-05, 6.323633781995844e-05]\n",
            "559 [-1.2603005943862365e-05, 2.914952559975346e-05, 6.197161106355927e-05]\n",
            "560 [-1.2350945824985119e-05, 2.856653508775839e-05, 6.0732178842288086e-05]\n",
            "561 [-1.2103926908485417e-05, 2.7995204386003224e-05, 5.951753526544233e-05]\n",
            "562 [-1.1861848370315708e-05, 2.743530029828316e-05, 5.832718456013348e-05]\n",
            "563 [-1.1624611402909394e-05, 2.6886594292317495e-05, 5.716064086893081e-05]\n",
            "564 [-1.1392119174851206e-05, 2.6348862406471146e-05, 5.6017428051552194e-05]\n",
            "565 [-1.1164276791354182e-05, 2.5821885158341723e-05, 5.489707949052115e-05]\n",
            "566 [-1.0940991255527099e-05, 2.5305447455174888e-05, 5.379913790071073e-05]\n",
            "567 [-1.0722171430416556e-05, 2.479933850607139e-05, 5.272315514269652e-05]\n",
            "568 [-1.0507728001808225e-05, 2.430335173594996e-05, 5.166869203984259e-05]\n",
            "569 [-1.029757344177206e-05, 2.3817284701230963e-05, 5.063531819904574e-05]\n",
            "570 [-1.009162197293662e-05, 2.3340939007206345e-05, 4.9622611835064824e-05]\n",
            "571 [-9.889789533477887e-06, 2.2874120227062218e-05, 4.863015959836353e-05]\n",
            "572 [-9.69199374280833e-06, 2.2416637822520972e-05, 4.765755640639626e-05]\n",
            "573 [-9.498153867952164e-06, 2.1968305066070553e-05, 4.6704405278268334e-05]\n",
            "574 [-9.30819079059312e-06, 2.152893896474914e-05, 4.577031717270297e-05]\n",
            "575 [-9.122026974781258e-06, 2.109836018545416e-05, 4.485491082924891e-05]\n",
            "576 [-8.939586435285634e-06, 2.0676392981745076e-05, 4.395781261266393e-05]\n",
            "577 [-8.76079470657992e-06, 2.0262865122110173e-05, 4.307865636041065e-05]\n",
            "578 [-8.585578812448322e-06, 1.985760781966797e-05, 4.221708323320244e-05]\n",
            "579 [-8.413867236199356e-06, 1.946045566327461e-05, 4.137274156853839e-05]\n",
            "580 [-8.24558989147537e-06, 1.907124655000912e-05, 4.0545286737167625e-05]\n",
            "581 [-8.080678093645862e-06, 1.8689821619008936e-05, 3.9734381002424274e-05]\n",
            "582 [-7.919064531772944e-06, 1.831602518662876e-05, 3.893969338237579e-05]\n",
            "583 [-7.760683241137485e-06, 1.7949704682896183e-05, 3.8160899514728274e-05]\n",
            "584 [-7.6054695763147355e-06, 1.7590710589238258e-05, 3.739768152443371e-05]\n",
            "585 [-7.45336018478844e-06, 1.723889637745349e-05, 3.6649727893945037e-05]\n",
            "586 [-7.304292981092672e-06, 1.689411844990442e-05, 3.5916733336066134e-05]\n",
            "587 [-7.158207121470818e-06, 1.655623608090633e-05, 3.5198398669344815e-05]\n",
            "588 [-7.015042979041402e-06, 1.6225111359288206e-05, 3.449443069595792e-05]\n",
            "589 [-6.874742119460574e-06, 1.590060913210244e-05, 3.3804542082038766e-05]\n",
            "590 [-6.7372472770713624e-06, 1.5582596949460394e-05, 3.312845124039799e-05]\n",
            "591 [-6.602502331529935e-06, 1.5270945010471187e-05, 3.246588221559003e-05]\n",
            "592 [-6.470452284899337e-06, 1.4965526110261764e-05, 3.181656457127823e-05]\n",
            "593 [-6.34104323920135e-06, 1.4666215588056528e-05, 3.1180233279852666e-05]\n",
            "594 [-6.214222374417323e-06, 1.4372891276295398e-05, 3.055662861425561e-05]\n",
            "595 [-6.089937926928976e-06, 1.408543345076949e-05, 2.99454960419705e-05]\n",
            "596 [-5.968139168390397e-06, 1.38037247817541e-05, 2.9346586121131088e-05]\n",
            "597 [-5.848776385022589e-06, 1.3527650286119018e-05, 2.8759654398708467e-05]\n",
            "598 [-5.731800857322137e-06, 1.3257097280396638e-05, 2.81844613107343e-05]\n",
            "599 [-5.617164840175694e-06, 1.2991955334788704e-05, 2.7620772084519612e-05]\n",
            "600 [-5.50482154337218e-06, 1.273211622809293e-05, 2.706835664282922e-05]\n",
            "601 [-5.394725112504736e-06, 1.2477473903531071e-05, 2.6526989509972637e-05]\n",
            "602 [-5.286830610254641e-06, 1.2227924425460449e-05, 2.5996449719773184e-05]\n",
            "603 [-5.181093998049548e-06, 1.198336593695124e-05, 2.547652072537772e-05]\n",
            "604 [-5.077472118088557e-06, 1.1743698618212215e-05, 2.4966990310870164e-05]\n",
            "605 [-4.975922675726786e-06, 1.150882464584797e-05, 2.446765050465276e-05]\n",
            "606 [-4.87640422221225e-06, 1.1278648152931011e-05, 2.3978297494559704e-05]\n",
            "607 [-4.778876137768005e-06, 1.105307518987239e-05, 2.349873154466851e-05]\n",
            "608 [-4.683298615012645e-06, 1.0832013686074942e-05, 2.302875691377514e-05]\n",
            "609 [-4.589632642712392e-06, 1.0615373412353443e-05, 2.256818177549964e-05]\n",
            "610 [-4.497839989858144e-06, 1.0403065944106373e-05, 2.2116818139989647e-05]\n",
            "611 [-4.407883190060981e-06, 1.0195004625224245e-05, 2.1674481777189855e-05]\n",
            "612 [-4.319725526259761e-06, 9.99110453271976e-06, 2.1240992141646057e-05]\n",
            "613 [-4.233331015734566e-06, 9.791282442065365e-06, 2.0816172298813135e-05]\n",
            "614 [-4.1486643954198745e-06, 9.595456793224057e-06, 2.0399848852836873e-05]\n",
            "615 [-4.065691107511477e-06, 9.403547657359576e-06, 1.9991851875780134e-05]\n",
            "616 [-3.984377285361248e-06, 9.215476704212384e-06, 1.9592014838264533e-05]\n",
            "617 [-3.904689739654023e-06, 9.031167170128137e-06, 1.9200174541499244e-05]\n",
            "618 [-3.8265959448609425e-06, 8.850543826725573e-06, 1.881617105066926e-05]\n",
            "619 [-3.7500640259637237e-06, 8.673532950191062e-06, 1.8439847629655874e-05]\n",
            "620 [-3.6750627454444492e-06, 8.500062291187242e-06, 1.8071050677062756e-05]\n",
            "621 [-3.60156149053556e-06, 8.330061045363497e-06, 1.77096296635215e-05]\n",
            "622 [-3.5295302607248488e-06, 8.163459824456226e-06, 1.735543707025107e-05]\n",
            "623 [-3.4589396555103517e-06, 8.0001906279671e-06, 1.700832832884605e-05]\n",
            "624 [-3.3897608624001445e-06, 7.84018681540776e-06, 1.6668161762269128e-05]\n",
            "625 [-3.321965645152142e-06, 7.683383079099604e-06, 1.6334798527023747e-05]\n",
            "626 [-3.255526332249099e-06, 7.529715417517612e-06, 1.600810255648327e-05]\n",
            "627 [-3.190415805604117e-06, 7.37912110916726e-06, 1.5687940505353604e-05]\n",
            "628 [-3.126607489492035e-06, 7.231538686983914e-06, 1.537418169524653e-05]\n",
            "629 [-3.064075339702194e-06, 7.086907913244236e-06, 1.50666980613416e-05]\n",
            "630 [-3.00279383290815e-06, 6.9451697549793516e-06, 1.4765364100114767e-05]\n",
            "631 [-2.942737956249987e-06, 6.806266359879765e-06, 1.4470056818112471e-05]\n",
            "632 [-2.8838831971249873e-06, 6.6701410326821695e-06, 1.4180655681750222e-05]\n",
            "633 [-2.8262055331824875e-06, 6.536738212028526e-06, 1.3897042568115217e-05]\n",
            "634 [-2.769681422518838e-06, 6.4060034477879554e-06, 1.3619101716752913e-05]\n",
            "635 [-2.714287794068461e-06, 6.2778833788321964e-06, 1.3346719682417855e-05]\n",
            "636 [-2.6600020381870917e-06, 6.1523257112555525e-06, 1.3079785288769497e-05]\n",
            "637 [-2.6068019974233497e-06, 6.029279197030441e-06, 1.2818189582994108e-05]\n",
            "638 [-2.5546659574748826e-06, 5.908693613089832e-06, 1.2561825791334225e-05]\n",
            "639 [-2.503572638325385e-06, 5.790519740828036e-06, 1.231058927550754e-05]\n",
            "640 [-2.4535011855588773e-06, 5.674709346011475e-06, 1.2064377489997389e-05]\n",
            "641 [-2.4044311618476996e-06, 5.561215159091245e-06, 1.182308994019744e-05]\n",
            "642 [-2.3563425386107456e-06, 5.44999085590942e-06, 1.1586628141393492e-05]\n",
            "643 [-2.3092156878385305e-06, 5.340991038791232e-06, 1.1354895578565623e-05]\n",
            "644 [-2.2630313740817597e-06, 5.234171218015408e-06, 1.112779766699431e-05]\n",
            "645 [-2.2177707466001247e-06, 5.129487793655099e-06, 1.0905241713654424e-05]\n",
            "646 [-2.1734153316681223e-06, 5.026898037781997e-06, 1.0687136879381335e-05]\n",
            "647 [-2.1299470250347596e-06, 4.926360077026358e-06, 1.0473394141793709e-05]\n",
            "648 [-2.0873480845340643e-06, 4.827832875485831e-06, 1.0263926258957834e-05]\n",
            "649 [-2.045601122843383e-06, 4.731276217976114e-06, 1.0058647733778678e-05]\n",
            "650 [-2.0046891003865154e-06, 4.636650693616592e-06, 9.857474779103104e-06]\n",
            "651 [-1.964595318378785e-06, 4.543917679744261e-06, 9.660325283521043e-06]\n",
            "652 [-1.9253034120112093e-06, 4.453039326149375e-06, 9.467118777850622e-06]\n",
            "653 [-1.8867973437709851e-06, 4.363978539626388e-06, 9.27777640229361e-06]\n",
            "654 [-1.8490613968955653e-06, 4.2766989688338604e-06, 9.092220874247737e-06]\n",
            "655 [-1.812080168957654e-06, 4.191164989457183e-06, 8.910376456762782e-06]\n",
            "656 [-1.7758385655785009e-06, 4.107341689668039e-06, 8.732168927627527e-06]\n",
            "657 [-1.740321794266931e-06, 4.025194855874678e-06, 8.557525549074977e-06]\n",
            "658 [-1.7055153583815924e-06, 3.944690958757185e-06, 8.386375038093477e-06]\n",
            "659 [-1.6714050512139605e-06, 3.8657971395820414e-06, 8.218647537331608e-06]\n",
            "660 [-1.6379769501896812e-06, 3.7884811967904005e-06, 8.054274586584975e-06]\n",
            "661 [-1.6052174111858876e-06, 3.7127115728545924e-06, 7.893189094853276e-06]\n",
            "662 [-1.57311306296217e-06, 3.6384573413975004e-06, 7.735325312956211e-06]\n",
            "663 [-1.5416508017029265e-06, 3.56568819456955e-06, 7.580618806697087e-06]\n",
            "664 [-1.510817785668868e-06, 3.4943744306781593e-06, 7.429006430563145e-06]\n",
            "665 [-1.4806014299554907e-06, 3.4244869420645963e-06, 7.280426301951882e-06]\n",
            "666 [-1.4509894013563808e-06, 3.3559972032233044e-06, 7.1348177759128445e-06]\n",
            "667 [-1.4219696133292532e-06, 3.2888772591588383e-06, 6.9921214203945875e-06]\n",
            "668 [-1.3935302210626683e-06, 3.2230997139756615e-06, 6.852278991986696e-06]\n",
            "669 [-1.365659616641415e-06, 3.1586377196961483e-06, 6.715233412146962e-06]\n",
            "670 [-1.3383464243085866e-06, 3.0954649653022253e-06, 6.580928743904023e-06]\n",
            "671 [-1.311579495822415e-06, 3.0335556659961807e-06, 6.449310169025942e-06]\n",
            "672 [-1.2853479059059666e-06, 2.972884552676257e-06, 6.320323965645424e-06]\n",
            "673 [-1.2596409477878473e-06, 2.9134268616227317e-06, 6.193917486332515e-06]\n",
            "674 [-1.2344481288320903e-06, 2.855158324390277e-06, 6.070039136605865e-06]\n",
            "675 [-1.2097591662554486e-06, 2.7980551579024715e-06, 5.948638353873747e-06]\n",
            "676 [-1.1855639829303396e-06, 2.742094054744422e-06, 5.8296655867962725e-06]\n",
            "677 [-1.1618527032717327e-06, 2.6872521736495334e-06, 5.713072275060347e-06]\n",
            "678 [-1.1386156492062982e-06, 2.6335071301765425e-06, 5.59881082955914e-06]\n",
            "679 [-1.1158433362221721e-06, 2.580836987573012e-06, 5.486834612967957e-06]\n",
            "680 [-1.0935264694977286e-06, 2.5292202478215514e-06, 5.377097920708598e-06]\n",
            "681 [-1.071655940107774e-06, 2.47863584286512e-06, 5.269555962294426e-06]\n",
            "682 [-1.0502228213056186e-06, 2.4290631260078177e-06, 5.164164843048538e-06]\n",
            "683 [-1.0292183648795062e-06, 2.3804818634876613e-06, 5.060881546187567e-06]\n",
            "684 [-1.008633997581916e-06, 2.332872226217908e-06, 4.959663915263816e-06]\n",
            "685 [-9.884613176302778e-07, 2.28621478169355e-06, 4.86047063695854e-06]\n",
            "686 [-9.686920912776722e-07, 2.240490486059679e-06, 4.763261224219369e-06]\n",
            "687 [-9.493182494521187e-07, 2.1956806763384856e-06, 4.667995999734982e-06]\n",
            "688 [-9.303318844630764e-07, 2.151767062811716e-06, 4.5746360797402826e-06]\n",
            "689 [-9.117252467738149e-07, 2.1087317215554817e-06, 4.4831433581454765e-06]\n",
            "690 [-8.934907418383386e-07, 2.066557087124372e-06, 4.393480490982567e-06]\n",
            "691 [-8.756209270015718e-07, 2.0252259453818845e-06, 4.305610881162916e-06]\n",
            "692 [-8.581085084615404e-07, 1.984721426474247e-06, 4.219498663539657e-06]\n",
            "693 [-8.409463382923095e-07, 1.945026997944762e-06, 4.135108690268864e-06]\n",
            "694 [-8.241274115264634e-07, 1.9061264579858667e-06, 4.052406516463487e-06]\n",
            "695 [-8.07644863295934e-07, 1.8680039288261494e-06, 3.971358386134217e-06]\n",
            "696 [-7.914919660300154e-07, 1.8306438502496265e-06, 3.891931218411532e-06]\n",
            "697 [-7.756621267094151e-07, 1.794030973244634e-06, 3.8140925940433017e-06]\n",
            "698 [-7.601488841752268e-07, 1.7581503537797414e-06, 3.7378107421624357e-06]\n",
            "699 [-7.449459064917222e-07, 1.7229873467041466e-06, 3.663054527319187e-06]\n",
            "700 [-7.300469883618878e-07, 1.6885275997700638e-06, 3.5897934367728035e-06]\n",
            "701 [-7.154460485946501e-07, 1.6547570477746624e-06, 3.5179975680373475e-06]\n",
            "702 [-7.011371276227571e-07, 1.6216619068191691e-06, 3.4476376166766005e-06]\n",
            "703 [-6.87114385070302e-07, 1.5892286686827858e-06, 3.3786848643430683e-06]\n",
            "704 [-6.73372097368896e-07, 1.55744409530913e-06, 3.311111167056207e-06]\n",
            "705 [-6.599046554215181e-07, 1.5262952134029476e-06, 3.244888943715083e-06]\n",
            "706 [-6.467065623130877e-07, 1.4957693091348886e-06, 3.179991164840781e-06]\n",
            "707 [-6.337724310668259e-07, 1.4658539229521908e-06, 3.1163913415439656e-06]\n",
            "708 [-6.210969824454894e-07, 1.436536844493147e-06, 3.0540635147130862e-06]\n",
            "709 [-6.086750427965796e-07, 1.407806107603284e-06, 2.9929822444188247e-06]\n",
            "710 [-5.96501541940648e-07, 1.3796499854512183e-06, 2.9331225995304483e-06]\n",
            "711 [-5.84571511101835e-07, 1.3520569857421938e-06, 2.8744601475398392e-06]\n",
            "712 [-5.728800808797983e-07, 1.32501584602735e-06, 2.8169709445890423e-06]\n",
            "713 [-5.614224792622024e-07, 1.298515529106803e-06, 2.7606315256972616e-06]\n",
            "714 [-5.501940296769583e-07, 1.272545218524667e-06, 2.7054188951833166e-06]\n",
            "715 [-5.391901490834192e-07, 1.2470943141541738e-06, 2.6513105172796503e-06]\n",
            "716 [-5.284063461017508e-07, 1.2221524278710902e-06, 2.5982843069340573e-06]\n",
            "717 [-5.178382191797158e-07, 1.1977093793136684e-06, 2.546318620795376e-06]\n",
            "718 [-5.074814547961215e-07, 1.1737551917273951e-06, 2.4953922483794688e-06]\n",
            "719 [-4.973318257001991e-07, 1.1502800878928472e-06, 2.4454844034118795e-06]\n",
            "720 [-4.87385189186195e-07, 1.1272744861349901e-06, 2.396574715343642e-06]\n",
            "721 [-4.776374854024711e-07, 1.1047289964122902e-06, 2.348643221036769e-06]\n",
            "722 [-4.6808473569442166e-07, 1.0826344164840445e-06, 2.301670356616034e-06]\n",
            "723 [-4.587230409805332e-07, 1.0609817281543636e-06, 2.255636949483713e-06]\n",
            "724 [-4.4954858016092253e-07, 1.0397620935912762e-06, 2.210524210494039e-06]\n",
            "725 [-4.405576085577041e-07, 1.0189668517194508e-06, 2.1663137262841583e-06]\n",
            "726 [-4.3174645638655e-07, 9.985875146850617e-07, 2.122987451758475e-06]\n",
            "727 [-4.23111527258819e-07, 9.786157643913604e-07, 2.0805277027233053e-06]\n",
            "728 [-4.146492967136426e-07, 9.590434491035333e-07, 2.0389171486688393e-06]\n",
            "729 [-4.0635631077936973e-07, 9.398625801214626e-07, 1.9981388056954624e-06]\n",
            "730 [-3.982291845637823e-07, 9.210653285190334e-07, 1.9581760295815533e-06]\n",
            "731 [-3.902646008725067e-07, 9.026440219486527e-07, 1.919012508989922e-06]\n",
            "732 [-3.8245930885505655e-07, 8.845911415096796e-07, 1.8806322588101237e-06]\n",
            "733 [-3.748101226779554e-07, 8.668993186794861e-07, 1.8430196136339212e-06]\n",
            "734 [-3.673139202243963e-07, 8.495613323058964e-07, 1.8061592213612428e-06]\n",
            "735 [-3.599676418199084e-07, 8.325701056597785e-07, 1.770036036934018e-06]\n",
            "736 [-3.527682889835102e-07, 8.159187035465829e-07, 1.7346353161953377e-06]\n",
            "737 [-3.4571292320384e-07, 7.996003294756513e-07, 1.699942609871431e-06]\n",
            "738 [-3.387986647397632e-07, 7.836083228861382e-07, 1.6659437576740024e-06]\n",
            "739 [-3.3202269144496795e-07, 7.679361564284155e-07, 1.6326248825205224e-06]\n",
            "740 [-3.253822376160686e-07, 7.525774332998471e-07, 1.599972384870112e-06]\n",
            "741 [-3.188745928637472e-07, 7.375258846338501e-07, 1.5679729371727096e-06]\n",
            "742 [-3.124971010064723e-07, 7.227753669411731e-07, 1.5366134784292553e-06]\n",
            "743 [-3.062471589863428e-07, 7.083198596023497e-07, 1.5058812088606703e-06]\n",
            "744 [-3.0012221580661593e-07, 6.941534624103027e-07, 1.4757635846834569e-06]\n",
            "745 [-2.941197714904836e-07, 6.802703931620966e-07, 1.4462483129897878e-06]\n",
            "746 [-2.882373760606739e-07, 6.666649852988547e-07, 1.417323346729992e-06]\n",
            "747 [-2.824726285394604e-07, 6.533316855928775e-07, 1.3889768797953921e-06]\n",
            "748 [-2.768231759686712e-07, 6.4026505188102e-07, 1.3611973421994844e-06]\n",
            "749 [-2.712867124492978e-07, 6.274597508433996e-07, 1.3339733953554947e-06]\n",
            "750 [-2.6586097820031183e-07, 6.149105558265317e-07, 1.3072939274483848e-06]\n",
            "751 [-2.605437586363056e-07, 6.026123447100011e-07, 1.2811480488994172e-06]\n",
            "752 [-2.553328834635795e-07, 5.90560097815801e-07, 1.2555250879214288e-06]\n",
            "753 [-2.502262257943079e-07, 5.78748895859485e-07, 1.2304145861630004e-06]\n",
            "754 [-2.4522170127842174e-07, 5.671739179422953e-07, 1.2058062944397403e-06]\n",
            "755 [-2.403172672528533e-07, 5.558304395834494e-07, 1.1816901685509453e-06]\n",
            "756 [-2.3551092190779626e-07, 5.447138307917805e-07, 1.1580563651799265e-06]\n",
            "757 [-2.3080070346964034e-07, 5.338195541759449e-07, 1.134895237876328e-06]\n",
            "758 [-2.2618468940024755e-07, 5.23143163092426e-07, 1.1121973331188013e-06]\n",
            "759 [-2.2166099561224258e-07, 5.126802998305775e-07, 1.0899533864564252e-06]\n",
            "760 [-2.1722777569999774e-07, 5.02426693833966e-07, 1.0681543187272967e-06]\n",
            "761 [-2.1288322018599779e-07, 4.923781599572867e-07, 1.0467912323527507e-06]\n",
            "762 [-2.0862555578227784e-07, 4.825305967581409e-07, 1.0258554077056957e-06]\n",
            "763 [-2.0445304466663228e-07, 4.728799848229781e-07, 1.0053382995515818e-06]\n",
            "764 [-2.0036398377329963e-07, 4.6342238512651853e-07, 9.852315335605501e-07]\n",
            "765 [-1.9635670409783363e-07, 4.541539374239882e-07, 9.655269028893391e-07]\n",
            "766 [-1.9242957001587696e-07, 4.450708586755084e-07, 9.462163648315524e-07]\n",
            "767 [-1.8858097861555942e-07, 4.361694415019982e-07, 9.272920375349213e-07]\n",
            "768 [-1.8480935904324823e-07, 4.2744605267195823e-07, 9.087461967842229e-07]\n",
            "769 [-1.8111317186238328e-07, 4.1889713161851907e-07, 8.905712728485384e-07]\n",
            "770 [-1.774909084251356e-07, 4.105191889861487e-07, 8.727598473915676e-07]\n",
            "771 [-1.739410902566329e-07, 4.0230880520642575e-07, 8.553046504437362e-07]\n",
            "772 [-1.7046226845150025e-07, 3.942626291022972e-07, 8.381985574348615e-07]\n",
            "773 [-1.6705302308247024e-07, 3.863773765202513e-07, 8.214345862861642e-07]\n",
            "774 [-1.6371196262082083e-07, 3.786498289898463e-07, 8.05005894560441e-07]\n",
            "775 [-1.604377233684044e-07, 3.7107683241004935e-07, 7.889057766692321e-07]\n",
            "776 [-1.5722896890103633e-07, 3.6365529576184837e-07, 7.731276611358475e-07]\n",
            "777 [-1.540843895230156e-07, 3.563821898466114e-07, 7.576651079131305e-07]\n",
            "778 [-1.510027017325553e-07, 3.492545460496792e-07, 7.42511805754868e-07]\n",
            "779 [-1.479826476979042e-07, 3.422694551286856e-07, 7.276615696397706e-07]\n",
            "780 [-1.4502299474394612e-07, 3.3542406602611186e-07, 7.131083382469752e-07]\n",
            "781 [-1.421225348490672e-07, 3.2871558470558963e-07, 6.988461714820357e-07]\n",
            "782 [-1.3928008415208585e-07, 3.2214127301147784e-07, 6.84869248052395e-07]\n",
            "783 [-1.3649448246904413e-07, 3.156984475512483e-07, 6.71171863091347e-07]\n",
            "784 [-1.3376459281966326e-07, 3.093844786002233e-07, 6.577484258295201e-07]\n",
            "785 [-1.3108930096327e-07, 3.031967890282188e-07, 6.445934573129297e-07]\n",
            "786 [-1.284675149440046e-07, 2.971328532476544e-07, 6.317015881666711e-07]\n",
            "787 [-1.258981646451245e-07, 2.911901961827013e-07, 6.190675564033377e-07]\n",
            "788 [-1.2338020135222203e-07, 2.853663922590473e-07, 6.06686205275271e-07]\n",
            "789 [-1.2091259732517758e-07, 2.7965906441386633e-07, 5.945524811697655e-07]\n",
            "790 [-1.1849434537867403e-07, 2.74065883125589e-07, 5.826614315463702e-07]\n",
            "791 [-1.1612445847110054e-07, 2.6858456546307723e-07, 5.710082029154428e-07]\n",
            "792 [-1.1380196930167854e-07, 2.6321287415381566e-07, 5.59588038857134e-07]\n",
            "793 [-1.1152592991564497e-07, 2.5794861667073936e-07, 5.483962780799913e-07]\n",
            "794 [-1.0929541131733207e-07, 2.527896443373246e-07, 5.374283525183914e-07]\n",
            "795 [-1.0710950309098543e-07, 2.4773385145057807e-07, 5.266797854680236e-07]\n",
            "796 [-1.0496731302916571e-07, 2.4277917442156653e-07, 5.161461897586631e-07]\n",
            "797 [-1.028679667685824e-07, 2.379235909331352e-07, 5.058232659634899e-07]\n",
            "798 [-1.0081060743321074e-07, 2.331651191144725e-07, 4.957068006442201e-07]\n",
            "799 [-9.879439528454653e-08, 2.2850181673218305e-07, 4.857926646313357e-07]\n",
            "800 [-9.681850737885559e-08, 2.239317803975394e-07, 4.7607681133870903e-07]\n",
            "801 [-9.488213723127848e-08, 2.194531447895886e-07, 4.6655527511193485e-07]\n",
            "802 [-9.29844944866529e-08, 2.1506408189379682e-07, 4.5722416960969616e-07]\n",
            "803 [-9.112480459691985e-08, 2.1076280025592088e-07, 4.4807968621750223e-07]\n",
            "804 [-8.930230850498145e-08, 2.0654754425080245e-07, 4.391180924931522e-07]\n",
            "805 [-8.751626233488182e-08, 2.024165933657864e-07, 4.303357306432892e-07]\n",
            "806 [-8.576593708818419e-08, 1.9836826149847067e-07, 4.217290160304234e-07]\n",
            "807 [-8.405061834642051e-08, 1.9440089626850125e-07, 4.1329443570981494e-07]\n",
            "808 [-8.23696059794921e-08, 1.9051287834313123e-07, 4.0502854699561866e-07]\n",
            "809 [-8.072221385990227e-08, 1.867026207762686e-07, 3.969279760557063e-07]\n",
            "810 [-7.910776958270422e-08, 1.8296856836074323e-07, 3.889894165345922e-07]\n",
            "811 [-7.752561419105014e-08, 1.7930919699352836e-07, 3.8120962820390035e-07]\n",
            "812 [-7.597510190722913e-08, 1.757230130536578e-07, 3.7358543563982233e-07]\n",
            "813 [-7.445559986908455e-08, 1.7220855279258466e-07, 3.661137269270259e-07]\n",
            "814 [-7.296648787170286e-08, 1.6876438173673297e-07, 3.587914523884854e-07]\n",
            "815 [-7.15071581142688e-08, 1.653890941019983e-07, 3.516156233407157e-07]\n",
            "816 [-7.007701495198342e-08, 1.6208131221995834e-07, 3.445833108739014e-07]\n",
            "817 [-6.867547465294376e-08, 1.5883968597555917e-07, 3.3769164465642336e-07]\n",
            "818 [-6.730196515988489e-08, 1.55662892256048e-07, 3.3093781176329487e-07]\n",
            "819 [-6.59559258566872e-08, 1.5254963441092702e-07, 3.2431905552802895e-07]\n",
            "820 [-6.463680733955345e-08, 1.4949864172270847e-07, 3.178326744174684e-07]\n",
            "821 [-6.334407119276238e-08, 1.465086688882543e-07, 3.11476020929119e-07]\n",
            "822 [-6.207718976890713e-08, 1.4357849551048922e-07, 3.0524650051053663e-07]\n",
            "823 [-6.083564597352899e-08, 1.4070692560027945e-07, 2.991415705003259e-07]\n",
            "824 [-5.961893305405842e-08, 1.3789278708827385e-07, 2.931587390903194e-07]\n",
            "825 [-5.842655439297725e-08, 1.3513493134650838e-07, 2.87295564308513e-07]\n",
            "826 [-5.7258023305117705e-08, 1.324322327195782e-07, 2.8154965302234276e-07]\n",
            "827 [-5.6112862839015354e-08, 1.2978358806518663e-07, 2.759186599618959e-07]\n",
            "828 [-5.4990605582235045e-08, 1.271879163038829e-07, 2.70400286762658e-07]\n",
            "829 [-5.389079347059034e-08, 1.2464415797780523e-07, 2.6499228102740486e-07]\n",
            "830 [-5.281297760117854e-08, 1.2215127481824913e-07, 2.596924354068568e-07]\n",
            "831 [-5.1756718049154964e-08, 1.1970824932188415e-07, 2.5449858669871966e-07]\n",
            "832 [-5.0721583688171864e-08, 1.1731408433544646e-07, 2.494086149647453e-07]\n",
            "833 [-4.9707152014408426e-08, 1.1496780264873753e-07, 2.444204426654504e-07]\n",
            "834 [-4.871300897412026e-08, 1.1266844659576278e-07, 2.395320338121414e-07]\n",
            "835 [-4.773874879463785e-08, 1.1041507766384753e-07, 2.3474139313589854e-07]\n",
            "836 [-4.6783973818745096e-08, 1.0820677611057057e-07, 2.3004656527318057e-07]\n",
            "837 [-4.58482943423702e-08, 1.0604264058835917e-07, 2.2544563396771697e-07]\n",
            "838 [-4.493132845552279e-08, 1.0392178777659198e-07, 2.2093672128836263e-07]\n",
            "839 [-4.403270188641234e-08, 1.0184335202106014e-07, 2.165179868625954e-07]\n",
            "840 [-4.315204784868409e-08, 9.980648498063893e-08, 2.1218762712534348e-07]\n",
            "841 [-4.228900689171041e-08, 9.781035528102615e-08, 2.079438745828366e-07]\n",
            "842 [-4.1443226753876206e-08, 9.585414817540562e-08, 2.0378499709117988e-07]\n",
            "843 [-4.061436221879868e-08, 9.393706521189751e-08, 1.9970929714935628e-07]\n",
            "844 [-3.9802074974422704e-08, 9.205832390765955e-08, 1.9571511120636916e-07]\n",
            "845 [-3.900603347493425e-08, 9.021715742950637e-08, 1.9180080898224178e-07]\n",
            "846 [-3.822591280543557e-08, 8.841281428091624e-08, 1.8796479280259695e-07]\n",
            "847 [-3.746139454932686e-08, 8.664455799529791e-08, 1.8420549694654502e-07]\n",
            "848 [-3.671216665834032e-08, 8.491166683539195e-08, 1.8052138700761412e-07]\n",
            "849 [-3.597792332517352e-08, 8.321343349868411e-08, 1.7691095926746185e-07]\n",
            "850 [-3.525836485867005e-08, 8.154916482871043e-08, 1.733727400821126e-07]\n",
            "851 [-3.455319756149665e-08, 7.991818153213622e-08, 1.6990528528047036e-07]\n",
            "852 [-3.386213361026672e-08, 7.831981790149349e-08, 1.6650717957486094e-07]\n",
            "853 [-3.318489093806139e-08, 7.675342154346362e-08, 1.6317703598336372e-07]\n",
            "854 [-3.252119311930016e-08, 7.521835311259434e-08, 1.5991349526369645e-07]\n",
            "855 [-3.1870769256914156e-08, 7.371398605034246e-08, 1.5671522535842253e-07]\n",
            "856 [-3.1233353871775874e-08, 7.22397063293356e-08, 1.535809208512541e-07]\n",
            "857 [-3.0608686794340357e-08, 7.07949122027489e-08, 1.50509302434229e-07]\n",
            "858 [-2.999651305845355e-08, 6.937901395869392e-08, 1.4749911638554442e-07]\n",
            "859 [-2.9396582797284483e-08, 6.799143367952004e-08, 1.4454913405783355e-07]\n",
            "860 [-2.8808651141338794e-08, 6.663160500592965e-08, 1.4165815137667688e-07]\n",
            "861 [-2.8232478118512017e-08, 6.529897290581105e-08, 1.3882498834914334e-07]\n",
            "862 [-2.7667828556141777e-08, 6.399299344769483e-08, 1.3604848858216048e-07]\n",
            "863 [-2.711447198501894e-08, 6.271313357874093e-08, 1.3332751881051726e-07]\n",
            "864 [-2.657218254531856e-08, 6.145887090716612e-08, 1.3066096843430693e-07]\n",
            "865 [-2.604073889441219e-08, 6.02296934890228e-08, 1.2804774906562078e-07]\n",
            "866 [-2.5519924116523945e-08, 5.9025099619242345e-08, 1.2548679408430838e-07]\n",
            "867 [-2.5009525634193467e-08, 5.78445976268575e-08, 1.2297705820262222e-07]\n",
            "868 [-2.4509335121509598e-08, 5.668770567432035e-08, 1.2051751703856977e-07]\n",
            "869 [-2.4019148419079406e-08, 5.5553951560833944e-08, 1.1810716669779837e-07]\n",
            "870 [-2.3538765450697818e-08, 5.444287252961727e-08, 1.157450233638424e-07]\n",
            "871 [-2.306799014168386e-08, 5.335401507902492e-08, 1.1343012289656556e-07]\n",
            "872 [-2.2606630338850183e-08, 5.228693477744442e-08, 1.1116152043863426e-07]\n",
            "873 [-2.215449773207318e-08, 5.124119608189553e-08, 1.0893829002986158e-07]\n",
            "874 [-2.1711407777431716e-08, 5.021637216025762e-08, 1.0675952422926435e-07]\n",
            "875 [-2.1277179621883083e-08, 4.9212044717052464e-08, 1.0462433374467906e-07]\n",
            "876 [-2.0851636029445423e-08, 4.8227803822711415e-08, 1.0253184706978548e-07]\n",
            "877 [-2.0434603308856515e-08, 4.726324774625719e-08, 1.0048121012838977e-07]\n",
            "878 [-2.0025911242679385e-08, 4.6317982791332047e-08, 9.847158592582197e-08]\n",
            "879 [-1.9625393017825797e-08, 4.539162313550541e-08, 9.650215420730553e-08]\n",
            "880 [-1.9232885157469282e-08, 4.44837906727953e-08, 9.457211112315942e-08]\n",
            "881 [-1.8848227454319896e-08, 4.359411485933939e-08, 9.268066890069624e-08]\n",
            "882 [-1.84712629052335e-08, 4.2722232562152604e-08, 9.082705552268231e-08]\n",
            "883 [-1.8101837647128827e-08, 4.186778791090955e-08, 8.901051441222866e-08]\n",
            "884 [-1.773980089418625e-08, 4.103043215269136e-08, 8.723030412398409e-08]\n",
            "885 [-1.7385004876302526e-08, 4.0209823509637537e-08, 8.548569804150441e-08]\n",
            "886 [-1.7037304778776475e-08, 3.940562703944479e-08, 8.377598408067432e-08]\n",
            "887 [-1.6696558683200945e-08, 3.861751449865589e-08, 8.210046439906084e-08]\n",
            "888 [-1.6362627509536927e-08, 3.784516420868277e-08, 8.045845511107962e-08]\n",
            "889 [-1.603537495934619e-08, 3.7088260924509116e-08, 7.884928600885803e-08]\n",
            "890 [-1.5714667460159266e-08, 3.634649570601893e-08, 7.727230028868087e-08]\n",
            "891 [-1.540037411095608e-08, 3.5619565791898555e-08, 7.572685428290724e-08]\n",
            "892 [-1.509236662873696e-08, 3.4907174476060586e-08, 7.421231719724909e-08]\n",
            "893 [-1.4790519296162222e-08, 3.4209030986539375e-08, 7.272807085330412e-08]\n",
            "894 [-1.4494708910238977e-08, 3.3524850366808587e-08, 7.127350943623803e-08]\n",
            "895 [-1.4204814732034198e-08, 3.285435335947241e-08, 6.984803924751327e-08]\n",
            "896 [-1.3920718437393514e-08, 3.2197266292282965e-08, 6.845107846256301e-08]\n",
            "897 [-1.3642304068645644e-08, 3.15533209664373e-08, 6.708205689331175e-08]\n",
            "898 [-1.3369457987272732e-08, 3.092225454710856e-08, 6.574041575544551e-08]\n",
            "899 [-1.3102068827527278e-08, 3.0303809456166384e-08, 6.44256074403366e-08]\n",
            "900 [-1.2840027450976732e-08, 2.9697733267043058e-08, 6.313709529152987e-08]\n",
            "901 [-1.2583226901957197e-08, 2.9103778601702198e-08, 6.187435338569927e-08]\n",
            "902 [-1.2331562363918053e-08, 2.8521703029668153e-08, 6.063686631798528e-08]\n",
            "903 [-1.2084931116639692e-08, 2.795126896907479e-08, 5.942412899162557e-08]\n",
            "904 [-1.1843232494306898e-08, 2.7392243589693296e-08, 5.823564641179306e-08]\n",
            "905 [-1.160636784442076e-08, 2.684439871789943e-08, 5.70709334835572e-08]\n",
            "906 [-1.1374240487532345e-08, 2.6307510743541442e-08, 5.5929514813886056e-08]\n",
            "907 [-1.1146755677781699e-08, 2.578136052867061e-08, 5.481092451760834e-08]\n",
            "908 [-1.0923820564226065e-08, 2.52657333180972e-08, 5.371470602725617e-08]\n",
            "909 [-1.0705344152941544e-08, 2.4760418651735253e-08, 5.2640411906711046e-08]\n",
            "910 [-1.0491237269882714e-08, 2.4265210278700548e-08, 5.1587603668576824e-08]\n",
            "911 [-1.028141252448506e-08, 2.3779906073126536e-08, 5.055585159520529e-08]\n",
            "912 [-1.0075784273995358e-08, 2.3304307951664006e-08, 4.954473456330118e-08]\n",
            "913 [-9.874268588515452e-09, 2.2838221792630724e-08, 4.855383987203516e-08]\n",
            "914 [-9.676783216745143e-09, 2.238145735677811e-08, 4.7582763074594457e-08]\n",
            "915 [-9.48324755241024e-09, 2.1933828209642548e-08, 4.663110781310257e-08]\n",
            "916 [-9.293582601362035e-09, 2.1495151645449697e-08, 4.5698485656840516e-08]\n",
            "917 [-9.107710949334794e-09, 2.1065248612540703e-08, 4.478451594370371e-08]\n",
            "918 [-8.925556730348098e-09, 2.0643943640289888e-08, 4.3888825624829633e-08]\n",
            "919 [-8.747045595741137e-09, 2.023106476748409e-08, 4.301104911233304e-08]\n",
            "920 [-8.572104683826314e-09, 1.982644347213441e-08, 4.2150828130086377e-08]\n",
            "921 [-8.400662590149788e-09, 1.942991460269172e-08, 4.130781156748465e-08]\n",
            "922 [-8.232649338346792e-09, 1.9041316310637885e-08, 4.048165533613496e-08]\n",
            "923 [-8.067996351579857e-09, 1.8660489984425126e-08, 3.9672022229412256e-08]\n",
            "924 [-7.90663642454826e-09, 1.8287280184736622e-08, 3.887858178482401e-08]\n",
            "925 [-7.748503696057294e-09, 1.792153458104189e-08, 3.810101014912753e-08]\n",
            "926 [-7.59353362213615e-09, 1.7563103889421053e-08, 3.733898994614498e-08]\n",
            "927 [-7.441662949693426e-09, 1.7211841811632632e-08, 3.6592210147222084e-08]\n",
            "928 [-7.292829690699557e-09, 1.686760497539998e-08, 3.586036594427764e-08]\n",
            "929 [-7.1469730968855665e-09, 1.653025287589198e-08, 3.514315862539209e-08]\n",
            "930 [-7.004033634947855e-09, 1.619964781837414e-08, 3.4440295452884245e-08]\n",
            "931 [-6.863952962248898e-09, 1.5875654862006658e-08, 3.375148954382656e-08]\n",
            "932 [-6.72667390300392e-09, 1.5558141764766525e-08, 3.307645975295003e-08]\n",
            "933 [-6.592140424943842e-09, 1.5246978929471194e-08, 3.2414930557891025e-08]\n",
            "934 [-6.460297616444965e-09, 1.494203935088177e-08, 3.1766631946733206e-08]\n",
            "935 [-6.331091664116066e-09, 1.4643198563864133e-08, 3.113129930779854e-08]\n",
            "936 [-6.204469830833745e-09, 1.435033459258685e-08, 3.050867332164257e-08]\n",
            "937 [-6.08038043421707e-09, 1.4063327900735114e-08, 2.989849985520972e-08]\n",
            "938 [-5.958772825532728e-09, 1.3782061342720411e-08, 2.9300529858105525e-08]\n",
            "939 [-5.839597369022073e-09, 1.3506420115866003e-08, 2.8714519260943413e-08]\n",
            "940 [-5.722805421641632e-09, 1.3236291713548683e-08, 2.8140228875724546e-08]\n",
            "941 [-5.608349313208799e-09, 1.2971565879277709e-08, 2.7577424298210055e-08]\n",
            "942 [-5.496182326944623e-09, 1.2712134561692154e-08, 2.7025875812245853e-08]\n",
            "943 [-5.386258680405731e-09, 1.2457891870458312e-08, 2.6485358296000934e-08]\n",
            "944 [-5.278533506797616e-09, 1.2208734033049146e-08, 2.5955651130080917e-08]\n",
            "945 [-5.172962836661664e-09, 1.1964559352388162e-08, 2.54365381074793e-08]\n",
            "946 [-5.069503579928431e-09, 1.17252681653404e-08, 2.4927807345329712e-08]\n",
            "947 [-4.968113508329863e-09, 1.1490762802033591e-08, 2.442925119842312e-08]\n",
            "948 [-4.868751238163265e-09, 1.1260947545992918e-08, 2.3940666174454656e-08]\n",
            "949 [-4.7713762134e-09, 1.103572859507306e-08, 2.3461852850965563e-08]\n",
            "950 [-4.675948689132e-09, 1.08150140231716e-08, 2.2992615793946252e-08]\n",
            "951 [-4.58242971534936e-09, 1.0598713742708168e-08, 2.2532763478067326e-08]\n",
            "952 [-4.490781121042373e-09, 1.0386739467854005e-08, 2.2082108208505978e-08]\n",
            "953 [-4.400965498621526e-09, 1.0179004678496925e-08, 2.164046604433586e-08]\n",
            "954 [-4.312946188649095e-09, 9.975424584926987e-09, 2.1207656723449143e-08]\n",
            "955 [-4.226687264876113e-09, 9.775916093228447e-09, 2.078350358898016e-08]\n",
            "956 [-4.142153519578591e-09, 9.580397771363879e-09, 2.0367833517200558e-08]\n",
            "957 [-4.0593104491870194e-09, 9.388789815936602e-09, 1.9960476846856547e-08]\n",
            "958 [-3.978124240203279e-09, 9.20101401961787e-09, 1.9561267309919417e-08]\n",
            "959 [-3.898561755399214e-09, 9.016993739225514e-09, 1.917004196372103e-08]\n",
            "960 [-3.820590520291229e-09, 8.836653864441003e-09, 1.878664112444661e-08]\n",
            "961 [-3.744178709885405e-09, 8.659920787152183e-09, 1.8410908301957676e-08]\n",
            "962 [-3.669295135687697e-09, 8.48672237140914e-09, 1.8042690135918522e-08]\n",
            "963 [-3.595909232973943e-09, 8.316987923980957e-09, 1.7681836333200153e-08]\n",
            "964 [-3.5239910483144643e-09, 8.150648165501337e-09, 1.732819960653615e-08]\n",
            "965 [-3.453511227348175e-09, 7.98763520219131e-09, 1.6981635614405426e-08]\n",
            "966 [-3.3844410028012114e-09, 7.827882498147484e-09, 1.6642002902117318e-08]\n",
            "967 [-3.3167521827451874e-09, 7.671324848184534e-09, 1.6309162844074972e-08]\n",
            "968 [-3.250417139090284e-09, 7.517898351220842e-09, 1.5982979587193472e-08]\n",
            "969 [-3.1854087963084783e-09, 7.367540384196425e-09, 1.5663319995449602e-08]\n",
            "970 [-3.1217006203823088e-09, 7.220189576512496e-09, 1.535005359554061e-08]\n",
            "971 [-3.0592666079746627e-09, 7.075785784982247e-09, 1.5043052523629797e-08]\n",
            "972 [-2.9980812758151696e-09, 6.934270069282602e-09, 1.47421914731572e-08]\n",
            "973 [-2.9381196502988662e-09, 6.79558466789695e-09, 1.4447347643694056e-08]\n",
            "974 [-2.879357257292889e-09, 6.659672974539011e-09, 1.4158400690820175e-08]\n",
            "975 [-2.8217701121470314e-09, 6.526479515048231e-09, 1.3875232677003772e-08]\n",
            "976 [-2.7653347099040906e-09, 6.3959499247472665e-09, 1.3597728023463696e-08]\n",
            "977 [-2.710028015706009e-09, 6.2680309262523215e-09, 1.3325773462994421e-08]\n",
            "978 [-2.6558274553918887e-09, 6.142670307727275e-09, 1.3059257993734533e-08]\n",
            "979 [-2.602710906284051e-09, 6.019816901572729e-09, 1.2798072833859843e-08]\n",
            "980 [-2.55065668815837e-09, 5.899420563541275e-09, 1.2542111377182646e-08]\n",
            "981 [-2.4996435543952024e-09, 5.781432152270449e-09, 1.2291269149638993e-08]\n",
            "982 [-2.4496506833072983e-09, 5.66580350922504e-09, 1.2045443766646214e-08]\n",
            "983 [-2.4006576696411525e-09, 5.55248743904054e-09, 1.180453489131329e-08]\n",
            "984 [-2.3526445162483295e-09, 5.441437690259729e-09, 1.1568444193487024e-08]\n",
            "985 [-2.305591625923363e-09, 5.332608936454534e-09, 1.1337075309617283e-08]\n",
            "986 [-2.2594797934048957e-09, 5.225956757725444e-09, 1.1110333803424937e-08]\n",
            "987 [-2.214290197536798e-09, 5.121437622570935e-09, 1.0888127127356438e-08]\n",
            "988 [-2.1700043935860617e-09, 5.019008870119516e-09, 1.0670364584809309e-08]\n",
            "989 [-2.1266043057143405e-09, 4.9186286927171255e-09, 1.0456957293113123e-08]\n",
            "990 [-2.084072219600054e-09, 4.820256118862783e-09, 1.024781814725086e-08]\n",
            "991 [-2.0423907752080527e-09, 4.7238509964855274e-09, 1.0042861784305843e-08]\n",
            "992 [-2.0015429597038917e-09, 4.629373976555817e-09, 9.842004548619725e-09]\n",
            "993 [-1.9615121005098138e-09, 4.5367864970247e-09, 9.645164457647331e-09]\n",
            "994 [-1.9222818584996173e-09, 4.4460507670842064e-09, 9.452261168494384e-09]\n",
            "995 [-1.883836221329625e-09, 4.357129751742522e-09, 9.263215945124497e-09]\n",
            "996 [-1.8461594969030327e-09, 4.269987156707672e-09, 9.077951626222007e-09]\n",
            "997 [-1.8092363069649721e-09, 4.1845874135735184e-09, 8.896392593697567e-09]\n",
            "998 [-1.7730515808256727e-09, 4.100895665302048e-09, 8.718464741823617e-09]\n",
            "999 [-1.7375905492091593e-09, 4.018877751996007e-09, 8.544095446987144e-09]\n"
          ]
        }
      ]
    },
    {
      "cell_type": "code",
      "source": [
        "v"
      ],
      "metadata": {
        "colab": {
          "base_uri": "https://localhost:8080/"
        },
        "id": "N_3lknGFv3w_",
        "outputId": "df10d812-3783-4f6b-94e4-7283a5a2da4d"
      },
      "execution_count": 44,
      "outputs": [
        {
          "output_type": "execute_result",
          "data": {
            "text/plain": [
              "[-1.7375905492091593e-09, 4.018877751996007e-09, 8.544095446987144e-09]"
            ]
          },
          "metadata": {},
          "execution_count": 44
        }
      ]
    },
    {
      "cell_type": "code",
      "source": [
        "distance(v, [0,0,0])<0.01#최소화하기 위해 0,0,0 가깝게 옴"
      ],
      "metadata": {
        "colab": {
          "base_uri": "https://localhost:8080/"
        },
        "id": "nujyMNXEv9XX",
        "outputId": "2a183d88-e9ac-4d4b-9002-5a7fb8735524"
      },
      "execution_count": 46,
      "outputs": [
        {
          "output_type": "execute_result",
          "data": {
            "text/plain": [
              "True"
            ]
          },
          "metadata": {},
          "execution_count": 46
        }
      ]
    },
    {
      "cell_type": "markdown",
      "source": [
        "### 경사하강법으로 손실을 최소화하는 모델의 파라미터를 구할 수 있다\n",
        "\n",
        "$y = 20x + 5$"
      ],
      "metadata": {
        "id": "U4Ts24xtwHsM"
      }
    },
    {
      "cell_type": "code",
      "source": [
        "#한개의 데이터 포인트에서 오차의 그래디언트를 계산해 주는 함수\n",
        "# x ranges from -50 to 49, y is always 20 * x + 5\n",
        "inputs = [(x, 20 * x + 5) for x in range(-50, 50)]\n",
        "\n",
        "def linear_gradient(x: float, y: float, theta: Vector) -> Vector:\n",
        "    slope, intercept = theta\n",
        "    predicted = slope * x + intercept    # The prediction of the model.\n",
        "    error = (predicted - y)              # error is (predicted - actual)\n",
        "    squared_error = error ** 2           # We'll minimize squared error\n",
        "    grad = [2 * error * x, 2 * error]    # using its gradient.\n",
        "    return grad\n"
      ],
      "metadata": {
        "id": "p4kXauvqwBQ8"
      },
      "execution_count": 48,
      "outputs": []
    },
    {
      "cell_type": "markdown",
      "source": [
        "경사하강법 적용 순서:\n",
        "1. 임의의 theta로 시작\n",
        "2. 모든 그래디언트의 평균을 계산\n",
        "3. theta를 2번에서 계산된 값으로 변경\n",
        "4. 반복"
      ],
      "metadata": {
        "id": "wsxF8Iq4wqgI"
      }
    },
    {
      "cell_type": "code",
      "source": [
        "from scratch.linear_algebra import vector_mean\n",
        "\n",
        "#임의의 경사와 절편으로 시작\n",
        "theta = [random.uniform(-1,1), random.uniform(-1,1)]#임의의 theta\n",
        "learning_rate = 0.001#학습률"
      ],
      "metadata": {
        "id": "PEp0ATjkwVL7"
      },
      "execution_count": 59,
      "outputs": []
    },
    {
      "cell_type": "code",
      "source": [
        "for epoch in range(5000):#반복\n",
        "  #모든 그래디언트의 평균을 계산\n",
        "  grad = vector_mean([linear_gradient(x,y,theta) for x,y in inputs])#그래디언트 평균\n",
        "  #그래디언트 만큼 이동\n",
        "  theta = gradient_step(theta, grad, -learning_rate)#왜 학습률 음수로 했대?\n",
        "  if epoch %1000 ==0:\n",
        "    print(epoch, theta)"
      ],
      "metadata": {
        "colab": {
          "base_uri": "https://localhost:8080/"
        },
        "id": "3gubZfYaw-UU",
        "outputId": "99900076-1924-4763-a5c0-6d55ba651d45"
      },
      "execution_count": 60,
      "outputs": [
        {
          "output_type": "stream",
          "name": "stdout",
          "text": [
            "0 [33.73303338350392, 0.16532357906230313]\n",
            "1000 [19.999608245530386, 4.347728572806656]\n",
            "2000 [19.99994705601734, 4.911848237073319]\n",
            "3000 [19.999992844841557, 4.98808665689908]\n",
            "4000 [19.99999903301018, 4.998389961367437]\n"
          ]
        }
      ]
    },
    {
      "cell_type": "code",
      "source": [
        "slope, intercept = theta\n",
        "print(\"{}x+{}\".format(slope, intercept))"
      ],
      "metadata": {
        "colab": {
          "base_uri": "https://localhost:8080/"
        },
        "id": "ctnEWsFexYQf",
        "outputId": "35f56e03-267c-4c4e-9821-1d1b4d0dd965"
      },
      "execution_count": 61,
      "outputs": [
        {
          "output_type": "stream",
          "name": "stdout",
          "text": [
            "19.999999869053543x+4.999781974072964\n"
          ]
        }
      ]
    },
    {
      "cell_type": "markdown",
      "source": [
        "#### 미니배치와 SGD\n",
        ": 전체 데이터셋의 샘플인 미니배치에서 그래디언트를 계산"
      ],
      "metadata": {
        "id": "R4wIfgD9x4TA"
      }
    },
    {
      "cell_type": "code",
      "source": [
        "\n",
        "from typing import TypeVar, List, Iterator\n",
        "\n",
        "#변수의 타입과 무관한 함수를 생성\n",
        "T = TypeVar('T')  # this allows us to type \"generic\" functions\n",
        "\n",
        "def minibatches(dataset: List[T],\n",
        "                batch_size: int,\n",
        "                shuffle: bool = True) -> Iterator[List[T]]:\n",
        "    \"\"\"Generates `batch_size`-sized minibatches from the dataset\"\"\"\n",
        "    # Start indexes 0, batch_size, 2 * batch_size, ...\n",
        "    batch_starts = [start for start in range(0, len(dataset), batch_size)]\n",
        "\n",
        "    if shuffle: random.shuffle(batch_starts)  # shuffle the batches\n",
        "\n",
        "    for start in batch_starts:\n",
        "        end = start + batch_size\n",
        "        yield dataset[start:end]\n"
      ],
      "metadata": {
        "id": "_XCoMdksx2cy"
      },
      "execution_count": 62,
      "outputs": []
    },
    {
      "cell_type": "code",
      "source": [
        "theta = [random.uniform(-1,1), random.uniform(-1,1)]#임의의 theta\n",
        "theta"
      ],
      "metadata": {
        "colab": {
          "base_uri": "https://localhost:8080/"
        },
        "id": "9-BlC5mPyFry",
        "outputId": "e4784ef5-c04c-4f9e-8ab7-072b18541a6a"
      },
      "execution_count": 65,
      "outputs": [
        {
          "output_type": "execute_result",
          "data": {
            "text/plain": [
              "[-0.28523763389888335, 0.8365146348437797]"
            ]
          },
          "metadata": {},
          "execution_count": 65
        }
      ]
    },
    {
      "cell_type": "markdown",
      "source": [
        "미니배치 경사하강법"
      ],
      "metadata": {
        "id": "mO1CwgP7y3A2"
      }
    },
    {
      "cell_type": "code",
      "source": [
        "for epoch in range(1000):\n",
        "  for batch in minibatches(inputs, batch_size= 20):\n",
        "    grad = vector_mean([linear_gradient(x,y,theta) for x, y in batch])\n",
        "    theta = gradient_step(theta, grad, -learning_rate)\n",
        "  if epoch%100 == 0:\n",
        "    print(epoch, theta)"
      ],
      "metadata": {
        "colab": {
          "base_uri": "https://localhost:8080/"
        },
        "id": "s_LnJYvwyS3P",
        "outputId": "a53115bb-4410-409c-d8e6-3b8077e860c8"
      },
      "execution_count": 66,
      "outputs": [
        {
          "output_type": "stream",
          "name": "stdout",
          "text": [
            "0 [18.231065824143062, 0.5987680103633475]\n",
            "100 [20.001043688222993, 3.5455574270862065]\n",
            "200 [19.930394022267627, 4.6083643978336895]\n",
            "300 [19.9874251118762, 4.919787575705816]\n",
            "400 [19.999035394138264, 4.969108773741503]\n",
            "500 [19.999652198641066, 4.992185931337472]\n",
            "600 [20.00006298047021, 4.998554431523136]\n",
            "700 [19.999995889918804, 4.999581310885074]\n",
            "800 [20.000002790027576, 4.9999271727368395]\n",
            "900 [19.999999150119162, 4.999979509906665]\n"
          ]
        }
      ]
    },
    {
      "cell_type": "code",
      "source": [
        "slope2, intercept2 = theta"
      ],
      "metadata": {
        "id": "sHVhjOceypcP"
      },
      "execution_count": 67,
      "outputs": []
    },
    {
      "cell_type": "code",
      "source": [
        "slope2>slope"
      ],
      "metadata": {
        "colab": {
          "base_uri": "https://localhost:8080/"
        },
        "id": "tRluTyvxywYh",
        "outputId": "63eb460e-adf5-46e1-ceb8-e5c2308ffd6d"
      },
      "execution_count": 68,
      "outputs": [
        {
          "output_type": "execute_result",
          "data": {
            "text/plain": [
              "True"
            ]
          },
          "metadata": {},
          "execution_count": 68
        }
      ]
    },
    {
      "cell_type": "code",
      "source": [
        "intercept2 > intercept"
      ],
      "metadata": {
        "colab": {
          "base_uri": "https://localhost:8080/"
        },
        "id": "OQIYEQ3jyyhZ",
        "outputId": "279ed10b-c285-4839-e556-f0c07103e3ed"
      },
      "execution_count": 69,
      "outputs": [
        {
          "output_type": "execute_result",
          "data": {
            "text/plain": [
              "True"
            ]
          },
          "metadata": {},
          "execution_count": 69
        }
      ]
    },
    {
      "cell_type": "markdown",
      "source": [
        "SGD, 단 하나의 데이터포인트에서 그래디언트 계산"
      ],
      "metadata": {
        "id": "5aQa_Iqqy5CT"
      }
    },
    {
      "cell_type": "code",
      "source": [
        "theta = [random.uniform(-1,1), random.uniform(-1,1)]#임의의 theta\n",
        "theta"
      ],
      "metadata": {
        "colab": {
          "base_uri": "https://localhost:8080/"
        },
        "id": "px4DYhnwy0W7",
        "outputId": "d1a267e3-d47d-4ac9-ccaf-1088d496e18c"
      },
      "execution_count": 70,
      "outputs": [
        {
          "output_type": "execute_result",
          "data": {
            "text/plain": [
              "[-0.5749355297616712, -0.7655298029552682]"
            ]
          },
          "metadata": {},
          "execution_count": 70
        }
      ]
    },
    {
      "cell_type": "code",
      "source": [
        "for epoch in range(100):\n",
        "  for x,y in inputs:\n",
        "    grad = linear_gradient(x,y,theta)\n",
        "    theta = gradient_step(theta, grad, -learning_rate)\n",
        "  if(epoch%10 == 0):\n",
        "    print(epoch, theta)"
      ],
      "metadata": {
        "colab": {
          "base_uri": "https://localhost:8080/"
        },
        "id": "EV2mTtKXy_nX",
        "outputId": "7ef0fc3e-bf95-4f5c-a91e-e9012e3118e9"
      },
      "execution_count": 71,
      "outputs": [
        {
          "output_type": "stream",
          "name": "stdout",
          "text": [
            "0 [20.11868356759501, -0.9071341812977282]\n",
            "10 [20.076549811696964, 1.1899302816442505]\n",
            "20 [20.049374217653998, 2.5425255550555295]\n",
            "30 [20.031846094287417, 3.4149422203815876]\n",
            "40 [20.02054056536792, 3.97764626999229]\n",
            "50 [20.01324856822116, 4.340587352773]\n",
            "60 [20.00854524782739, 4.5746823944200985]\n",
            "70 [20.00551163630526, 4.725672435206161]\n",
            "80 [20.0035549657054, 4.823060198890772]\n",
            "90 [20.00229294132536, 4.885874780103076]\n"
          ]
        }
      ]
    },
    {
      "cell_type": "code",
      "source": [
        "slope3, intercept3 = theta"
      ],
      "metadata": {
        "id": "-Po6q0_JzN9i"
      },
      "execution_count": 72,
      "outputs": []
    },
    {
      "cell_type": "code",
      "source": [
        "slope3 >slope2"
      ],
      "metadata": {
        "colab": {
          "base_uri": "https://localhost:8080/"
        },
        "id": "icxs9maQzQJg",
        "outputId": "50125ecc-e684-420d-f093-82ca1921fc35"
      },
      "execution_count": 74,
      "outputs": [
        {
          "output_type": "execute_result",
          "data": {
            "text/plain": [
              "True"
            ]
          },
          "metadata": {},
          "execution_count": 74
        }
      ]
    },
    {
      "cell_type": "code",
      "source": [
        "intercept3 > intercept3"
      ],
      "metadata": {
        "colab": {
          "base_uri": "https://localhost:8080/"
        },
        "id": "HEOqxsuGzSdQ",
        "outputId": "30dcc494-d1ad-4912-a89f-04d536878986"
      },
      "execution_count": 75,
      "outputs": [
        {
          "output_type": "execute_result",
          "data": {
            "text/plain": [
              "False"
            ]
          },
          "metadata": {},
          "execution_count": 75
        }
      ]
    },
    {
      "cell_type": "code",
      "source": [
        "slope3"
      ],
      "metadata": {
        "colab": {
          "base_uri": "https://localhost:8080/"
        },
        "id": "TCmcisfBzVm0",
        "outputId": "3aa4b2a6-8e6c-463b-dc09-782762b2f017"
      },
      "execution_count": 76,
      "outputs": [
        {
          "output_type": "execute_result",
          "data": {
            "text/plain": [
              "20.001545241744015"
            ]
          },
          "metadata": {},
          "execution_count": 76
        }
      ]
    },
    {
      "cell_type": "code",
      "source": [
        "intercept2"
      ],
      "metadata": {
        "colab": {
          "base_uri": "https://localhost:8080/"
        },
        "id": "6808jD_dzXZX",
        "outputId": "92ab3b0b-22ba-40e8-c94c-66528eed00cc"
      },
      "execution_count": 77,
      "outputs": [
        {
          "output_type": "execute_result",
          "data": {
            "text/plain": [
              "4.999994762234289"
            ]
          },
          "metadata": {},
          "execution_count": 77
        }
      ]
    },
    {
      "cell_type": "markdown",
      "source": [
        "SGD: 빠르지만 하나의 데이터포인트가 전체 방향과 상반될 수 있다는 단점\n",
        "\n",
        "\n",
        "minibatch: 느리지만 전체 방향을 더 고려 가능"
      ],
      "metadata": {
        "id": "F4VIUYEtzipS"
      }
    }
  ]
}