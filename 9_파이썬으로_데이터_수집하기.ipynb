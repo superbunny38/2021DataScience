{
  "nbformat": 4,
  "nbformat_minor": 0,
  "metadata": {
    "colab": {
      "name": "9 파이썬으로 데이터 수집하기.ipynb",
      "provenance": [],
      "collapsed_sections": [],
      "toc_visible": true,
      "authorship_tag": "ABX9TyMMTpdDusHActAeDZVd9AOa",
      "include_colab_link": true
    },
    "kernelspec": {
      "name": "python3",
      "display_name": "Python 3"
    },
    "language_info": {
      "name": "python"
    }
  },
  "cells": [
    {
      "cell_type": "markdown",
      "metadata": {
        "id": "view-in-github",
        "colab_type": "text"
      },
      "source": [
        "<a href=\"https://colab.research.google.com/github/superbunny38/2021DataScience/blob/main/9_%ED%8C%8C%EC%9D%B4%EC%8D%AC%EC%9C%BC%EB%A1%9C_%EB%8D%B0%EC%9D%B4%ED%84%B0_%EC%88%98%EC%A7%91%ED%95%98%EA%B8%B0.ipynb\" target=\"_parent\"><img src=\"https://colab.research.google.com/assets/colab-badge.svg\" alt=\"Open In Colab\"/></a>"
      ]
    },
    {
      "cell_type": "markdown",
      "source": [
        "### stdin, stdout"
      ],
      "metadata": {
        "id": "3NlGnNUB8H7X"
      }
    },
    {
      "cell_type": "markdown",
      "source": [
        "문서를 읽고 주어진 정규표현식(regex)과 매칭되는 줄을 출력해주는 코드"
      ],
      "metadata": {
        "id": "Tm1gkhRq3_KY"
      }
    },
    {
      "cell_type": "code",
      "execution_count": 11,
      "metadata": {
        "colab": {
          "base_uri": "https://localhost:8080/"
        },
        "id": "aposoin021VL",
        "outputId": "2f64d7ec-07dc-409e-a05a-208f681f5228"
      },
      "outputs": [
        {
          "output_type": "stream",
          "name": "stdout",
          "text": [
            "Overwriting egrep.py\n"
          ]
        }
      ],
      "source": [
        "%%writefile egrep.py\n",
        "#egrep.py\n",
        "import sys,re\n",
        "\n",
        "regex = sys.argv[1]\n",
        "\n",
        "for line in sys.stdin:\n",
        "\tif re.search(regex,line):\n",
        "\t\tsys.stdout.write(line)"
      ]
    },
    {
      "cell_type": "markdown",
      "source": [
        "줄의 개수를 세고 출력해주는 코드"
      ],
      "metadata": {
        "id": "d_Dn9JUF4E-m"
      }
    },
    {
      "cell_type": "code",
      "source": [
        "%%writefile line_count.py\n",
        "import sys\n",
        "\n",
        "count = 0\n",
        "for line in sys.stdin:\n",
        "\tcount += 1\n",
        "\n",
        "print(count)"
      ],
      "metadata": {
        "colab": {
          "base_uri": "https://localhost:8080/"
        },
        "id": "WtnqEDXR3stq",
        "outputId": "25ba74a1-29c5-4553-9257-d8592d2744dc"
      },
      "execution_count": 12,
      "outputs": [
        {
          "output_type": "stream",
          "name": "stdout",
          "text": [
            "Overwriting line_count.py\n"
          ]
        }
      ]
    },
    {
      "cell_type": "code",
      "source": [
        "%%writefile SomeFile.txt\n",
        "Is there a reason we're not through?\n",
        "Is there a 12-step just for you?\n",
        "Our conversation's all in blue\n",
        "11 \"heys\" (Hey, hey, hey, hey)\n",
        "10 fingers tearin' out my hair\n",
        "9 times, you never made it there\n",
        "I 8 alone at seven, you were 6 minutes away"
      ],
      "metadata": {
        "colab": {
          "base_uri": "https://localhost:8080/"
        },
        "id": "vaN9lT7l38Pm",
        "outputId": "2cf66cf7-af83-4810-b0bb-4c06fea65608"
      },
      "execution_count": 16,
      "outputs": [
        {
          "output_type": "stream",
          "name": "stdout",
          "text": [
            "Overwriting SomeFile.txt\n"
          ]
        }
      ]
    },
    {
      "cell_type": "code",
      "source": [
        "!bash"
      ],
      "metadata": {
        "colab": {
          "base_uri": "https://localhost:8080/"
        },
        "id": "PspeWMGb5R3Z",
        "outputId": "012ba618-120c-4bfa-db84-b99ce3b6d1f8"
      },
      "execution_count": 17,
      "outputs": [
        {
          "output_type": "stream",
          "name": "stdout",
          "text": [
            "bash: cannot set terminal process group (61): Inappropriate ioctl for device\n",
            "bash: no job control in this shell\n",
            "nt.py\n",
            "5\n",
            "\u001b[1;36m/content\u001b[m# exit\n",
            "exit\n"
          ]
        }
      ]
    },
    {
      "cell_type": "code",
      "source": [
        "#cat SomeFile.txt | python egrep.py \"[0-9]\" | python line_count.py"
      ],
      "metadata": {
        "id": "rIA2ptMM5dZd"
      },
      "execution_count": 18,
      "outputs": []
    },
    {
      "cell_type": "code",
      "source": [
        "%%writefile most_common_words.py\n",
        "#most_common_words.py\n",
        "import sys\n",
        "from collections import Counter\n",
        "\n",
        "#출력하고 싶은 단어의 수를 첫 번째 인자로 입력\n",
        "try:\n",
        "\tnum_words = int(sys.argv[1])\n",
        "\n",
        "except:\n",
        "\tprint(\"usage: most common_words.py num_words\")\n",
        "\tsys.exit(1)#exit 코드 뒤에 0 외의 숫자가 들어오면 에러를 의미\n",
        "\n",
        "counter = Counter(word.lower()#소문자로 변환\n",
        "\t\t\t\t  for line in sys.stdin\n",
        "\t\t\t\t  for word in line.strip().split()#띄어쓰기 기준으로 나누기\n",
        "\t\t\t\t  if word)#비어있는 word는 무시\n",
        "\n",
        "for word, count in counter.most_common(num_words):\n",
        "\tsys.stdout.write(str(count))\n",
        "\tsys.stdout.write(\"\\t\")\n",
        "\tsys.stdout.write(word)\n",
        "\tsys.stdout.write(\"\\n\")"
      ],
      "metadata": {
        "colab": {
          "base_uri": "https://localhost:8080/"
        },
        "id": "pJZiiyYt6l1z",
        "outputId": "4f068740-bc50-488f-acbc-76b5365a4612"
      },
      "execution_count": 20,
      "outputs": [
        {
          "output_type": "stream",
          "name": "stdout",
          "text": [
            "Overwriting most_common_words.py\n"
          ]
        }
      ]
    },
    {
      "cell_type": "code",
      "source": [
        "%%writefile little_prince.txt\n",
        "The grown−ups' response, this time, was to advise me to lay aside my drawings of\n",
        "boa constrictors, whether from the inside or the outside, and devote myself instead\n",
        "to geography, history, arithmetic and grammar. That is why, at the age of six, I\n",
        "gave up what might have been a magnificent career as a painter. I had been\n",
        "disheartened by the failure of my Drawing Number One and my Drawing Number\n",
        "Two. Grown−ups never understand anything by themselves, and it is tiresome for\n",
        "children to be always and forever explaining things to them.\n",
        "So then I chose another profession, and learned to pilot airplanes. I have flown a\n",
        "little over all parts of the world; and it is true that geography has been very useful\n",
        "to me. At a glance I can distinguish China from Arizona. If one gets lost in the\n",
        "night, such knowledge is valuable.\n",
        "In the course of this life I have had a great many encounters with a great many\n",
        "people who have been concerned with matters of consequence. I have lived a great\n",
        "deal among grown−ups. I have seen them intimately, close at hand. And that\n",
        "hasn't much improved my opinion of them.\n",
        "Whenever I met one of them who seemed to me at all clear−sighted, I tried the\n",
        "experiment of showing him my Drawing Number One, which I have always kept.\n",
        "I would try to find out, so, if this was a person of true understanding. But,\n",
        "whoever it was, he, or she, would always say:\n",
        "\"That is a hat.\" Then I would never talk to that person about boa constrictors, or\n",
        "primeval forests, or stars. I would bring myself down to his level. I would talk to\n",
        "him about bridge, and golf, and politics, and neckties. And the grown−up would\n",
        "be greatly pleased to have met such a sensible man.\n",
        "It took me a long time to learn where he came from. The little prince, who asked\n",
        "me so many questions, never seemed to hear the ones I asked him. It was from\n",
        "words dropped by chance that, little by little, everything was revealed to me.\n",
        "The first time he saw my airplane, for instance (I shall not draw my airplane; that\n",
        "would be much too complicated for me), he asked me:\n",
        "\"What is that object?\"\n",
        "\"That is not an object. It flies. It is an airplane. It is my airplane.\"\n",
        "And I was proud to have him learn that I could fly.\n",
        "He cried out, then:\n",
        "\"What! You dropped down from the sky?\"\n",
        "\"Yes,\" I answered, modestly.\n",
        "\"Oh! That is funny!\"\n",
        "And the little prince broke into a lovely peal of laughter, which irritated me very\n",
        "much. I like my misfortunes to be taken seriously.\n",
        "Then he added:\n",
        "\"So you, too, come from the sky! Which is your planet?\"\n",
        "At that moment I caught a gleam of light in the impenetrable mystery of his\n",
        "presence; and I demanded, abruptly:\n",
        "\"Do you come from another planet?\"\n",
        "But he did not reply. He tossed his head gently, without taking his eyes from my\n",
        "plane:\n",
        "\"It is true that on that you can't have come from very far away...\"\n",
        "And he sank into a reverie, which lasted a long time. Then, taking my sheep out of\n",
        "his pocket, he buried himself in the contemplation of his treasure.\n",
        "You can imagine how my curiosity was aroused by this half−confidence about the\n",
        "\"other planets.\" I made a great effort, therefore, to find out more on this subject.\n",
        "\"My little man, where do you come from? What is this 'where I live,' of which you\n",
        "speak? Where do you want to take your sheep?\"\n",
        "After a reflective silence he answered:\n",
        "\"The thing that is so good about the box you have given me is that at night he can\n",
        "use it as his house.\"\n",
        "\"That is so. And if you are good I will give you a string, too, so that you can tie\n",
        "him during the day, and a post to tie him to.\" "
      ],
      "metadata": {
        "colab": {
          "base_uri": "https://localhost:8080/"
        },
        "id": "qMRYo6PT6ugZ",
        "outputId": "79ad7703-cf94-4140-e0a2-c65a0ce4469e"
      },
      "execution_count": 21,
      "outputs": [
        {
          "output_type": "stream",
          "name": "stdout",
          "text": [
            "Writing little_prince.txt\n"
          ]
        }
      ]
    },
    {
      "cell_type": "code",
      "source": [
        "!bash"
      ],
      "metadata": {
        "colab": {
          "base_uri": "https://localhost:8080/"
        },
        "id": "IFaf12Yz7zGr",
        "outputId": "27a1bd60-0db2-47f2-d7cf-2ba785c0d734"
      },
      "execution_count": 22,
      "outputs": [
        {
          "output_type": "stream",
          "name": "stdout",
          "text": [
            "bash: cannot set terminal process group (61): Inappropriate ioctl for device\n",
            "bash: no job control in this shell\n",
            "\u001b[1;36m/content\u001b[m# cat little_prince.txt | python most_common_words.py 10\n",
            "25\ti\n",
            "21\tthe\n",
            "21\tto\n",
            "19\ta\n",
            "18\tand\n",
            "16\tof\n",
            "16\tis\n",
            "14\tthat\n",
            "12\tmy\n",
            "11\thave\n",
            "\u001b[1;36m/content\u001b[m# exit\n",
            "exit\n"
          ]
        }
      ]
    },
    {
      "cell_type": "code",
      "source": [
        "#cat little_prince.txt | python most_common_words.py 10"
      ],
      "metadata": {
        "id": "k5onOv80714o"
      },
      "execution_count": 23,
      "outputs": []
    },
    {
      "cell_type": "markdown",
      "source": [
        "### 파일 읽기"
      ],
      "metadata": {
        "id": "lHbyics-8DKV"
      }
    },
    {
      "cell_type": "markdown",
      "source": [
        "read-only"
      ],
      "metadata": {
        "id": "niSLr6Pb9h7g"
      }
    },
    {
      "cell_type": "code",
      "source": [
        "file_for_reading = open(\"chap8.txt\",'r')\n",
        "file_for_reading2 = open(\"part of your word.txt\")#'r'이라고 명시하지 않아도 읽기전용"
      ],
      "metadata": {
        "id": "MjSqE-di798g"
      },
      "execution_count": 24,
      "outputs": []
    },
    {
      "cell_type": "markdown",
      "source": [
        "write(해당 파일이 이미 존재한다며 기존 파일을 제거함)"
      ],
      "metadata": {
        "id": "fOAHsUHr9jNv"
      }
    },
    {
      "cell_type": "code",
      "source": [
        "file_for_writing = open(\"part of your word.txt\",'w')"
      ],
      "metadata": {
        "id": "ApCA5NvZ9bsi"
      },
      "execution_count": 25,
      "outputs": []
    },
    {
      "cell_type": "markdown",
      "source": [
        "append(파일의 맨 끝에 덧붙인다)"
      ],
      "metadata": {
        "id": "JgK0xajz9wJp"
      }
    },
    {
      "cell_type": "code",
      "source": [
        "file_for_appending = open(\"part of your word.txt\",'a')"
      ],
      "metadata": {
        "id": "jqj-_S-992Z3"
      },
      "execution_count": 26,
      "outputs": []
    },
    {
      "cell_type": "markdown",
      "source": [
        "작업이 끝났다면 파일을 닫는 것을 잊지말자"
      ],
      "metadata": {
        "id": "bekQijDH97xb"
      }
    },
    {
      "cell_type": "code",
      "source": [
        "file_for_writing.close()"
      ],
      "metadata": {
        "id": "ra6BtO2w96WZ"
      },
      "execution_count": 27,
      "outputs": []
    },
    {
      "cell_type": "markdown",
      "source": [
        "파일을 자동으로 닫아주는 with 안에서 파일 불러오기"
      ],
      "metadata": {
        "id": "tJ3relff-FHl"
      }
    },
    {
      "cell_type": "code",
      "source": [
        "with open(\"part of your word.txt\") as f:\n",
        "  data = open(\"part of your word.txt\")\n",
        "#이 시점부터는 f가 이미 종료되었기 때문에 f를 다ㅣ 사용하지 말자\n",
        "print(data)"
      ],
      "metadata": {
        "colab": {
          "base_uri": "https://localhost:8080/"
        },
        "id": "yxgSVrCQ-BAT",
        "outputId": "02237db5-2bed-479e-85fe-d263c9690ffd"
      },
      "execution_count": 32,
      "outputs": [
        {
          "output_type": "stream",
          "name": "stdout",
          "text": [
            "<_io.TextIOWrapper name='part of your word.txt' mode='r' encoding='UTF-8'>\n"
          ]
        }
      ]
    },
    {
      "cell_type": "markdown",
      "source": [
        "만약 텍스트 파일 전체가 필요하다면 for를 사용해서 파일의 모든 줄을 반복해서 불러올 수 있다."
      ],
      "metadata": {
        "id": "W6P1Lzay_O4V"
      }
    },
    {
      "cell_type": "code",
      "source": [
        "start_with_hash = 0\n",
        "with open(\"part of your word.txt\") as f:\n",
        "  for line in f:#파일의 각 줄을 살펴본다\n",
        "    if re.match(\"^#\",line):#regex를 사용해서 줄이 '#'로 시작하는지 확인\n",
        "      start_with_hash += 1 "
      ],
      "metadata": {
        "id": "o4wJYLNE-RMX"
      },
      "execution_count": 34,
      "outputs": []
    },
    {
      "cell_type": "code",
      "source": [
        "start_with_hash"
      ],
      "metadata": {
        "colab": {
          "base_uri": "https://localhost:8080/"
        },
        "id": "9vSw4BaGAMAj",
        "outputId": "b0f92d55-e1df-4fdf-a803-0bdb68fa364a"
      },
      "execution_count": 35,
      "outputs": [
        {
          "output_type": "execute_result",
          "data": {
            "text/plain": [
              "0"
            ]
          },
          "metadata": {},
          "execution_count": 35
        }
      ]
    },
    {
      "cell_type": "code",
      "source": [
        "start_with_hash = 0\n",
        "with open(\"egrep.py\") as f:\n",
        "  for line in f:#파일의 각 줄을 살펴본다\n",
        "    if re.match(\"^#\",line):#regex를 사용해서 줄이 '#'로 시작하는지 확인\n",
        "      start_with_hash += 1 "
      ],
      "metadata": {
        "id": "ausGSWtcAPcV"
      },
      "execution_count": 36,
      "outputs": []
    },
    {
      "cell_type": "code",
      "source": [
        "start_with_hash"
      ],
      "metadata": {
        "colab": {
          "base_uri": "https://localhost:8080/"
        },
        "id": "dswykQ8LATnD",
        "outputId": "e075599c-b39b-47c3-82c8-3aa2253f3469"
      },
      "execution_count": 37,
      "outputs": [
        {
          "output_type": "execute_result",
          "data": {
            "text/plain": [
              "1"
            ]
          },
          "metadata": {},
          "execution_count": 37
        }
      ]
    },
    {
      "cell_type": "code",
      "source": [
        "with open('email_addresses.txt', 'w') as f:\n",
        "    f.write(\"joelgrus@gmail.com\\n\")\n",
        "    f.write(\"joel@m.datasciencester.com\\n\")\n",
        "    f.write(\"joelgrus@m.datasciencester.com\\n\")"
      ],
      "metadata": {
        "id": "vci7qHcOAUk5"
      },
      "execution_count": 38,
      "outputs": []
    },
    {
      "cell_type": "code",
      "source": [
        "with open(\"email_addresses.txt\") as f:\n",
        "  for line in f:\n",
        "    print(line)"
      ],
      "metadata": {
        "colab": {
          "base_uri": "https://localhost:8080/"
        },
        "id": "wx7fS_sgAhGH",
        "outputId": "2df27ca9-f631-4ce7-a19e-a67d856f7e6c"
      },
      "execution_count": 39,
      "outputs": [
        {
          "output_type": "stream",
          "name": "stdout",
          "text": [
            "joelgrus@gmail.com\n",
            "\n",
            "joel@m.datasciencester.com\n",
            "\n",
            "joelgrus@m.datasciencester.com\n",
            "\n"
          ]
        }
      ]
    },
    {
      "cell_type": "markdown",
      "source": [
        "@ 뒤에있는 도메인 확보"
      ],
      "metadata": {
        "id": "Km8yrN8kAtUo"
      }
    },
    {
      "cell_type": "code",
      "source": [
        "def get_domain(email_address: str) -> str:\n",
        "    \"\"\"Split on '@' and return the last piece\"\"\"\n",
        "    return email_address.lower().split(\"@\")[-1]"
      ],
      "metadata": {
        "id": "iqlQzifGApVw"
      },
      "execution_count": 40,
      "outputs": []
    },
    {
      "cell_type": "code",
      "source": [
        "assert get_domain('joelgrus@gmail.com') == 'gmail.com'"
      ],
      "metadata": {
        "id": "WVV4fpAAAvqU"
      },
      "execution_count": 41,
      "outputs": []
    },
    {
      "cell_type": "code",
      "source": [
        "assert get_domain('joel@m.datasciencester.com') == 'm.datasciencester.com'"
      ],
      "metadata": {
        "id": "ikjr-YSxAzeL"
      },
      "execution_count": 42,
      "outputs": []
    },
    {
      "cell_type": "markdown",
      "source": [
        "line.strip() 기능: removes any spaces or specified characters at the start and end of a string"
      ],
      "metadata": {
        "id": "a-GG28tuBKp0"
      }
    },
    {
      "cell_type": "code",
      "source": [
        "with open(\"email_addresses.txt\") as f:\n",
        "  for line in f:\n",
        "    print(line.strip())"
      ],
      "metadata": {
        "colab": {
          "base_uri": "https://localhost:8080/"
        },
        "id": "C8TYHDLsA1qn",
        "outputId": "56597121-17cf-40b3-c7e8-76de0b73853a"
      },
      "execution_count": 43,
      "outputs": [
        {
          "output_type": "stream",
          "name": "stdout",
          "text": [
            "joelgrus@gmail.com\n",
            "joel@m.datasciencester.com\n",
            "joelgrus@m.datasciencester.com\n"
          ]
        }
      ]
    },
    {
      "cell_type": "code",
      "source": [
        "with open(\"SomeFile.txt\") as f:\n",
        "  for line in f:\n",
        "    print(line.strip())"
      ],
      "metadata": {
        "colab": {
          "base_uri": "https://localhost:8080/"
        },
        "id": "A0Rn9WFiA-uA",
        "outputId": "9664db3d-5ac4-4e1c-fe4f-67781c7f7959"
      },
      "execution_count": 44,
      "outputs": [
        {
          "output_type": "stream",
          "name": "stdout",
          "text": [
            "Is there a reason we're not through?\n",
            "Is there a 12-step just for you?\n",
            "Our conversation's all in blue\n",
            "11 \"heys\" (Hey, hey, hey, hey)\n",
            "10 fingers tearin' out my hair\n",
            "9 times, you never made it there\n",
            "I 8 alone at seven, you were 6 minutes away\n"
          ]
        }
      ]
    },
    {
      "cell_type": "code",
      "source": [
        "with open(\"SomeFile.txt\") as f:\n",
        "  for line in f:\n",
        "    print(line)"
      ],
      "metadata": {
        "colab": {
          "base_uri": "https://localhost:8080/"
        },
        "id": "6KPUoFbtBIxR",
        "outputId": "e837f86e-459e-453a-8286-1389e4c89124"
      },
      "execution_count": 45,
      "outputs": [
        {
          "output_type": "stream",
          "name": "stdout",
          "text": [
            "Is there a reason we're not through?\n",
            "\n",
            "Is there a 12-step just for you?\n",
            "\n",
            "Our conversation's all in blue\n",
            "\n",
            "11 \"heys\" (Hey, hey, hey, hey)\n",
            "\n",
            "10 fingers tearin' out my hair\n",
            "\n",
            "9 times, you never made it there\n",
            "\n",
            "I 8 alone at seven, you were 6 minutes away\n"
          ]
        }
      ]
    },
    {
      "cell_type": "code",
      "source": [
        "from collections import Counter\n",
        "\n",
        "with open('email_addresses.txt', 'r') as f:\n",
        "    domain_counts = Counter(get_domain(line.strip())\n",
        "                            for line in f\n",
        "                            if \"@\" in line)\n",
        "print(domain_counts)"
      ],
      "metadata": {
        "colab": {
          "base_uri": "https://localhost:8080/"
        },
        "id": "RDB94wmLBNtA",
        "outputId": "7bb54672-863a-41c8-e481-d83c3afa2b3f"
      },
      "execution_count": 47,
      "outputs": [
        {
          "output_type": "stream",
          "name": "stdout",
          "text": [
            "Counter({'m.datasciencester.com': 2, 'gmail.com': 1})\n"
          ]
        }
      ]
    },
    {
      "cell_type": "markdown",
      "source": [
        "구분자가 있는 파일"
      ],
      "metadata": {
        "id": "JWQfVtbUBndI"
      }
    },
    {
      "cell_type": "code",
      "source": [
        "with open('tab_delimited_stock_prices.txt', 'w') as f:\n",
        "    f.write(\"\"\"6/20/2014\\tAAPL\\t90.91\n",
        "6/20/2014\\tMSFT\\t41.68\n",
        "6/20/2014\\tFB\\t64.5\n",
        "6/19/2014\\tAAPL\\t91.86\n",
        "6/19/2014\\tMSFT\\t41.51\n",
        "6/19/2014\\tFB\\t64.34\n",
        "\"\"\")"
      ],
      "metadata": {
        "id": "petW5mNNBdvT"
      },
      "execution_count": 48,
      "outputs": []
    },
    {
      "cell_type": "code",
      "source": [
        "with open('tab_delimited_stock_prices.txt') as f:\n",
        "  for line in f:\n",
        "    print(line)"
      ],
      "metadata": {
        "colab": {
          "base_uri": "https://localhost:8080/"
        },
        "id": "oF5F48RbBwBy",
        "outputId": "17f31a00-a26a-4740-c1f5-f703970659ef"
      },
      "execution_count": 50,
      "outputs": [
        {
          "output_type": "stream",
          "name": "stdout",
          "text": [
            "6/20/2014\tAAPL\t90.91\n",
            "\n",
            "6/20/2014\tMSFT\t41.68\n",
            "\n",
            "6/20/2014\tFB\t64.5\n",
            "\n",
            "6/19/2014\tAAPL\t91.86\n",
            "\n",
            "6/19/2014\tMSFT\t41.51\n",
            "\n",
            "6/19/2014\tFB\t64.34\n",
            "\n"
          ]
        }
      ]
    },
    {
      "cell_type": "code",
      "source": [
        "def process(date,symbol,closing_price):\n",
        "  print(\"날찌: {} 심볼: {} 닫는 가: {}\".format(date, symbol, closing_price))"
      ],
      "metadata": {
        "id": "_j2RUq78CIMN"
      },
      "execution_count": 51,
      "outputs": []
    },
    {
      "cell_type": "code",
      "source": [
        "import csv\n",
        "with open('tab_delimited_stock_prices.txt') as f:\n",
        "    tab_reader = csv.reader(f, delimiter='\\t')#구분자\n",
        "    for row in tab_reader:\n",
        "        date = row[0]\n",
        "        symbol = row[1]\n",
        "        closing_price = float(row[2])\n",
        "        process(date, symbol, closing_price)"
      ],
      "metadata": {
        "colab": {
          "base_uri": "https://localhost:8080/"
        },
        "id": "L11rM2URBzrU",
        "outputId": "ea12aaa1-4a21-45fb-a608-af52f8ed3870"
      },
      "execution_count": 53,
      "outputs": [
        {
          "output_type": "stream",
          "name": "stdout",
          "text": [
            "날찌: 6/20/2014 심볼: AAPL 닫는 가: 90.91\n",
            "날찌: 6/20/2014 심볼: MSFT 닫는 가: 41.68\n",
            "날찌: 6/20/2014 심볼: FB 닫는 가: 64.5\n",
            "날찌: 6/19/2014 심볼: AAPL 닫는 가: 91.86\n",
            "날찌: 6/19/2014 심볼: MSFT 닫는 가: 41.51\n",
            "날찌: 6/19/2014 심볼: FB 닫는 가: 64.34\n"
          ]
        }
      ]
    },
    {
      "cell_type": "markdown",
      "source": [
        "만약 헤더가 포함되어있다면"
      ],
      "metadata": {
        "id": "USfaUV-yCY3F"
      }
    },
    {
      "cell_type": "code",
      "source": [
        "with open('colon_delimited_stock_prices.txt', 'w') as f:\n",
        "    f.write(\"\"\"date:symbol:closing_price\n",
        "6/20/2014:AAPL:90.91\n",
        "6/20/2014:MSFT:41.68\n",
        "6/20/2014:FB:64.5\n",
        "\"\"\")"
      ],
      "metadata": {
        "id": "uvUUWGfzCSH3"
      },
      "execution_count": 54,
      "outputs": []
    },
    {
      "cell_type": "code",
      "source": [
        "with open('colon_delimited_stock_prices.txt') as f:\n",
        "  for line in f:\n",
        "    print(line.strip())"
      ],
      "metadata": {
        "colab": {
          "base_uri": "https://localhost:8080/"
        },
        "id": "eT3mND8zChSm",
        "outputId": "6e8e5e94-5825-4cc0-df56-4323f56ac9c4"
      },
      "execution_count": 55,
      "outputs": [
        {
          "output_type": "stream",
          "name": "stdout",
          "text": [
            "date:symbol:closing_price\n",
            "6/20/2014:AAPL:90.91\n",
            "6/20/2014:MSFT:41.68\n",
            "6/20/2014:FB:64.5\n"
          ]
        }
      ]
    },
    {
      "cell_type": "code",
      "source": [
        "with open('colon_delimited_stock_prices.txt') as f:\n",
        "    colon_reader = csv.DictReader(f, delimiter=':')\n",
        "    for dict_row in colon_reader:\n",
        "        print(dict_row)"
      ],
      "metadata": {
        "colab": {
          "base_uri": "https://localhost:8080/"
        },
        "id": "nH86FSgdCl_Y",
        "outputId": "b65d4b99-0767-4490-f182-a73d6b0e1b26"
      },
      "execution_count": 56,
      "outputs": [
        {
          "output_type": "stream",
          "name": "stdout",
          "text": [
            "OrderedDict([('date', '6/20/2014'), ('symbol', 'AAPL'), ('closing_price', '90.91')])\n",
            "OrderedDict([('date', '6/20/2014'), ('symbol', 'MSFT'), ('closing_price', '41.68')])\n",
            "OrderedDict([('date', '6/20/2014'), ('symbol', 'FB'), ('closing_price', '64.5')])\n"
          ]
        }
      ]
    },
    {
      "cell_type": "code",
      "source": [
        "with open('colon_delimited_stock_prices.txt') as f:\n",
        "    colon_reader = csv.DictReader(f, delimiter=':')\n",
        "    for dict_row in colon_reader:\n",
        "        date = dict_row[\"date\"]\n",
        "        symbol = dict_row[\"symbol\"]\n",
        "        closing_price = float(dict_row[\"closing_price\"])\n",
        "        process(date, symbol, closing_price)"
      ],
      "metadata": {
        "colab": {
          "base_uri": "https://localhost:8080/"
        },
        "id": "qA0PXNeiC7M7",
        "outputId": "aa7f1953-7b6c-42ad-9fcc-2d4ebce643c6"
      },
      "execution_count": 57,
      "outputs": [
        {
          "output_type": "stream",
          "name": "stdout",
          "text": [
            "날찌: 6/20/2014 심볼: AAPL 닫는 가: 90.91\n",
            "날찌: 6/20/2014 심볼: MSFT 닫는 가: 41.68\n",
            "날찌: 6/20/2014 심볼: FB 닫는 가: 64.5\n"
          ]
        }
      ]
    },
    {
      "cell_type": "markdown",
      "source": [
        "파일에 헤더가 없더라도 fieldnames 파라미터로 key를 설정해서 DictReader를 사용할 수 있다"
      ],
      "metadata": {
        "id": "pY6YSWEKDF_g"
      }
    },
    {
      "cell_type": "code",
      "source": [
        "todays_prices = {'AAPL': 90.91, 'MSFT': 41.68, 'FB': 64.5 }"
      ],
      "metadata": {
        "id": "OT36oazcC-sd"
      },
      "execution_count": 58,
      "outputs": []
    },
    {
      "cell_type": "code",
      "source": [
        "with open('comma_delimited_stock_prices.txt', 'w') as f:\n",
        "    csv_writer = csv.writer(f, delimiter=',')\n",
        "    for stock, price in todays_prices.items():\n",
        "        csv_writer.writerow([stock, price])"
      ],
      "metadata": {
        "id": "_sYmoGaPDMS-"
      },
      "execution_count": 59,
      "outputs": []
    },
    {
      "cell_type": "code",
      "source": [
        "with open('comma_delimited_stock_prices.txt') as f:\n",
        "  for line in f:\n",
        "    print(line.strip())"
      ],
      "metadata": {
        "colab": {
          "base_uri": "https://localhost:8080/"
        },
        "id": "7SkK-H2FDQEO",
        "outputId": "0bf629df-498a-49a2-8476-85142630ac1d"
      },
      "execution_count": 60,
      "outputs": [
        {
          "output_type": "stream",
          "name": "stdout",
          "text": [
            "AAPL,90.91\n",
            "MSFT,41.68\n",
            "FB,64.5\n"
          ]
        }
      ]
    },
    {
      "cell_type": "markdown",
      "source": [
        "#### 구분자가 있는 파일을 생성해주는 코드를 직접 만들어 사용한다면 문제가 발생할 수도 있다"
      ],
      "metadata": {
        "id": "LRl8KLtwDfi0"
      }
    },
    {
      "cell_type": "code",
      "source": [
        "results = [[\"test1\", \"success\", \"Monday\"],\n",
        "           [\"test2\", \"success, kind of\", \"Tuesday\"],\n",
        "           [\"test3\", \"failure, kind of\", \"Wednesday\"],\n",
        "           [\"test4\", \"failure, utter\", \"Thursday\"]]"
      ],
      "metadata": {
        "id": "X_2RhJeXDQKb"
      },
      "execution_count": 61,
      "outputs": []
    },
    {
      "cell_type": "markdown",
      "source": [
        "don't do:"
      ],
      "metadata": {
        "id": "N86w60GKDvb7"
      }
    },
    {
      "cell_type": "code",
      "source": [
        "with open('bad_csv.txt', 'w') as f:\n",
        "    for row in results:\n",
        "        f.write(\",\".join(map(str, row))) #필드 안에 쉼표가 있을 수도 있다\n",
        "        f.write(\"\\n\")                    #필드 안에 새로운 줄이 있을 수도 있다"
      ],
      "metadata": {
        "id": "6VKKRcjQDn09"
      },
      "execution_count": 62,
      "outputs": []
    },
    {
      "cell_type": "code",
      "source": [
        "with open('bad_csv.txt') as f:\n",
        "  for line in f:\n",
        "    print(line.strip())#bad result"
      ],
      "metadata": {
        "colab": {
          "base_uri": "https://localhost:8080/"
        },
        "id": "nRJvJH8OD1aV",
        "outputId": "e79a7f74-cc3e-4255-b7c3-ee2a9c01cd3d"
      },
      "execution_count": 63,
      "outputs": [
        {
          "output_type": "stream",
          "name": "stdout",
          "text": [
            "test1,success,Monday\n",
            "test2,success, kind of,Tuesday\n",
            "test3,failure, kind of,Wednesday\n",
            "test4,failure, utter,Thursday\n"
          ]
        }
      ]
    },
    {
      "cell_type": "code",
      "source": [
        "with open('whatabout_csv.txt', 'w') as f:\n",
        "    for row in results:\n",
        "        f.write(\" | \".join(map(str, row))) #필드 안에 쉼표가 있을 수도 있다\n",
        "        f.write(\"\\n\")                    #필드 안에 새로운 줄이 있을 수도 있다"
      ],
      "metadata": {
        "id": "LyEdIZBlD5Lw"
      },
      "execution_count": 66,
      "outputs": []
    },
    {
      "cell_type": "code",
      "source": [
        "with open('whatabout_csv.txt') as f:\n",
        "  for line in f:\n",
        "    print(line.strip())#이건 어때"
      ],
      "metadata": {
        "colab": {
          "base_uri": "https://localhost:8080/"
        },
        "id": "-INcnta-EKZ3",
        "outputId": "99627d13-7ec0-44ef-f673-6de7488b7d4c"
      },
      "execution_count": 67,
      "outputs": [
        {
          "output_type": "stream",
          "name": "stdout",
          "text": [
            "test1 | success | Monday\n",
            "test2 | success, kind of | Tuesday\n",
            "test3 | failure, kind of | Wednesday\n",
            "test4 | failure, utter | Thursday\n"
          ]
        }
      ]
    },
    {
      "cell_type": "markdown",
      "source": [
        "## 웹스크래핑"
      ],
      "metadata": {
        "id": "0gKZGt0lETrJ"
      }
    },
    {
      "cell_type": "markdown",
      "source": [
        "### HTML과 파싱"
      ],
      "metadata": {
        "id": "9WxXIup4EWZs"
      }
    },
    {
      "cell_type": "code",
      "source": [
        "!python -m pip install beautifulsoup4 requests html5lib"
      ],
      "metadata": {
        "colab": {
          "base_uri": "https://localhost:8080/"
        },
        "id": "z5Q2nUsBEPdx",
        "outputId": "d8670aef-16d4-431e-8898-249acb88554b"
      },
      "execution_count": 69,
      "outputs": [
        {
          "output_type": "stream",
          "name": "stdout",
          "text": [
            "Requirement already satisfied: beautifulsoup4 in /usr/local/lib/python3.7/dist-packages (4.6.3)\n",
            "Requirement already satisfied: requests in /usr/local/lib/python3.7/dist-packages (2.23.0)\n",
            "Requirement already satisfied: html5lib in /usr/local/lib/python3.7/dist-packages (1.0.1)\n",
            "Requirement already satisfied: chardet<4,>=3.0.2 in /usr/local/lib/python3.7/dist-packages (from requests) (3.0.4)\n",
            "Requirement already satisfied: idna<3,>=2.5 in /usr/local/lib/python3.7/dist-packages (from requests) (2.10)\n",
            "Requirement already satisfied: certifi>=2017.4.17 in /usr/local/lib/python3.7/dist-packages (from requests) (2021.10.8)\n",
            "Requirement already satisfied: urllib3!=1.25.0,!=1.25.1,<1.26,>=1.21.1 in /usr/local/lib/python3.7/dist-packages (from requests) (1.24.3)\n",
            "Requirement already satisfied: six>=1.9 in /usr/local/lib/python3.7/dist-packages (from html5lib) (1.15.0)\n",
            "Requirement already satisfied: webencodings in /usr/local/lib/python3.7/dist-packages (from html5lib) (0.5.1)\n"
          ]
        }
      ]
    },
    {
      "cell_type": "code",
      "source": [
        "from bs4 import BeautifulSoup\n",
        "import requests"
      ],
      "metadata": {
        "id": "vhPbwnAPE_Rh"
      },
      "execution_count": 70,
      "outputs": []
    },
    {
      "cell_type": "code",
      "source": [
        "url = (\"https://raw.githubusercontent.com/\"\n",
        "       \"joelgrus/data/master/getting-data.html\")\n",
        "html = requests.get(url).text\n",
        "soup = BeautifulSoup(html, 'html5lib')"
      ],
      "metadata": {
        "id": "yQqK91sJF_4a"
      },
      "execution_count": 71,
      "outputs": []
    },
    {
      "cell_type": "code",
      "source": [
        "first_paragraph = soup.find('p')        # or just soup.p"
      ],
      "metadata": {
        "id": "yTq8h2pRGCyQ"
      },
      "execution_count": 72,
      "outputs": []
    },
    {
      "cell_type": "markdown",
      "source": [
        "text 속성을 이용해 tag의 텍스트 내용 추출"
      ],
      "metadata": {
        "id": "ASztiM0kGJts"
      }
    },
    {
      "cell_type": "code",
      "source": [
        "first_paragraph_text = soup.p.text\n",
        "first_paragraph_text[:30]"
      ],
      "metadata": {
        "colab": {
          "base_uri": "https://localhost:8080/",
          "height": 35
        },
        "id": "zriim_nFGH1X",
        "outputId": "b5b0d798-c346-4c52-ccf5-977d5ffe4a90"
      },
      "execution_count": 76,
      "outputs": [
        {
          "output_type": "execute_result",
          "data": {
            "application/vnd.google.colaboratory.intrinsic+json": {
              "type": "string"
            },
            "text/plain": [
              "'This is the first paragraph.'"
            ]
          },
          "metadata": {},
          "execution_count": 76
        }
      ]
    },
    {
      "cell_type": "code",
      "source": [
        "first_paragraph_words = soup.p.text.split()\n",
        "first_paragraph_words"
      ],
      "metadata": {
        "colab": {
          "base_uri": "https://localhost:8080/"
        },
        "id": "WND_7BMpGShb",
        "outputId": "64b48800-d349-44d5-930d-eb5abc7209a4"
      },
      "execution_count": 77,
      "outputs": [
        {
          "output_type": "execute_result",
          "data": {
            "text/plain": [
              "['This', 'is', 'the', 'first', 'paragraph.']"
            ]
          },
          "metadata": {},
          "execution_count": 77
        }
      ]
    },
    {
      "cell_type": "markdown",
      "source": [
        "모든 태그는 딕셔너리처럼 활용 가능"
      ],
      "metadata": {
        "id": "sP3HnBdGGdtI"
      }
    },
    {
      "cell_type": "code",
      "source": [
        "first_paragraph_id = soup.p['id']       # raises KeyError if no 'id'\n",
        "first_paragraph_id"
      ],
      "metadata": {
        "colab": {
          "base_uri": "https://localhost:8080/",
          "height": 35
        },
        "id": "OYDr9GI9GbdJ",
        "outputId": "fa2f3500-372f-4cf5-aa3b-a2abaa6c32bb"
      },
      "execution_count": 78,
      "outputs": [
        {
          "output_type": "execute_result",
          "data": {
            "application/vnd.google.colaboratory.intrinsic+json": {
              "type": "string"
            },
            "text/plain": [
              "'p1'"
            ]
          },
          "metadata": {},
          "execution_count": 78
        }
      ]
    },
    {
      "cell_type": "code",
      "source": [
        "first_paragraph_id2 = soup.p.get('id')  # returns None if no 'id'\n",
        "first_paragraph_id2"
      ],
      "metadata": {
        "colab": {
          "base_uri": "https://localhost:8080/",
          "height": 35
        },
        "id": "v57o1__pGlaU",
        "outputId": "63d50082-763b-4620-fd22-4457a412d755"
      },
      "execution_count": 79,
      "outputs": [
        {
          "output_type": "execute_result",
          "data": {
            "application/vnd.google.colaboratory.intrinsic+json": {
              "type": "string"
            },
            "text/plain": [
              "'p1'"
            ]
          },
          "metadata": {},
          "execution_count": 79
        }
      ]
    },
    {
      "cell_type": "markdown",
      "source": [
        "여러 태그 한 번에 불러오기"
      ],
      "metadata": {
        "id": "2-bIi6BHGqo6"
      }
    },
    {
      "cell_type": "code",
      "source": [
        "all_paragraphs = soup.find_all('p')  # or just soup('p')"
      ],
      "metadata": {
        "id": "yNnm0m4WGo1N"
      },
      "execution_count": 80,
      "outputs": []
    },
    {
      "cell_type": "code",
      "source": [
        "paragraphs_with_ids = [p for p in soup('p') if p.get('id')]"
      ],
      "metadata": {
        "id": "uxz5nAiRGvG1"
      },
      "execution_count": 81,
      "outputs": []
    },
    {
      "cell_type": "code",
      "source": [
        "len(all_paragraphs) "
      ],
      "metadata": {
        "colab": {
          "base_uri": "https://localhost:8080/"
        },
        "id": "9msBgNhgGw9I",
        "outputId": "59f0a18c-6649-42d8-a5ed-449e2966ec56"
      },
      "execution_count": 83,
      "outputs": [
        {
          "output_type": "execute_result",
          "data": {
            "text/plain": [
              "2"
            ]
          },
          "metadata": {},
          "execution_count": 83
        }
      ]
    },
    {
      "cell_type": "code",
      "source": [
        "all_paragraphs"
      ],
      "metadata": {
        "colab": {
          "base_uri": "https://localhost:8080/"
        },
        "id": "Hz2d1w9zHIPL",
        "outputId": "e620d4b2-bb5c-42bc-f32c-7a4f37d758ee"
      },
      "execution_count": 84,
      "outputs": [
        {
          "output_type": "execute_result",
          "data": {
            "text/plain": [
              "[<p id=\"p1\">This is the first paragraph.</p>,\n",
              " <p class=\"important\">This is the second paragraph.</p>]"
            ]
          },
          "metadata": {},
          "execution_count": 84
        }
      ]
    },
    {
      "cell_type": "code",
      "source": [
        "paragraphs_with_ids"
      ],
      "metadata": {
        "colab": {
          "base_uri": "https://localhost:8080/"
        },
        "id": "OkzT2jDCHJIB",
        "outputId": "e1b8e9f7-2a17-4974-b065-87a2444157b3"
      },
      "execution_count": 85,
      "outputs": [
        {
          "output_type": "execute_result",
          "data": {
            "text/plain": [
              "[<p id=\"p1\">This is the first paragraph.</p>]"
            ]
          },
          "metadata": {},
          "execution_count": 85
        }
      ]
    },
    {
      "cell_type": "code",
      "source": [
        "important_paragraphs = soup('p', {'class' : 'important'})\n",
        "important_paragraphs2 = soup('p', 'important')\n",
        "important_paragraphs3 = [p for p in soup('p')\n",
        "                         if 'important' in p.get('class', [])]"
      ],
      "metadata": {
        "id": "O3XgpDr3HLXr"
      },
      "execution_count": 86,
      "outputs": []
    },
    {
      "cell_type": "code",
      "source": [
        "spans_inside_divs = [span\n",
        "                     for div in soup('div')     # for each <div> on the page\n",
        "                     for span in div('span')]   # find each <span> inside it"
      ],
      "metadata": {
        "id": "gecfFR9GHQ6D"
      },
      "execution_count": 87,
      "outputs": []
    },
    {
      "cell_type": "code",
      "source": [
        "len(spans_inside_divs) == 3"
      ],
      "metadata": {
        "colab": {
          "base_uri": "https://localhost:8080/"
        },
        "id": "zLd3i7HjHYCY",
        "outputId": "6159d8e4-d9a2-404d-9903-53f7805760b4"
      },
      "execution_count": 88,
      "outputs": [
        {
          "output_type": "execute_result",
          "data": {
            "text/plain": [
              "True"
            ]
          },
          "metadata": {},
          "execution_count": 88
        }
      ]
    },
    {
      "cell_type": "markdown",
      "source": [
        "#### 예시: 의회 감시하기"
      ],
      "metadata": {
        "id": "tZ-Eh47tHl78"
      }
    },
    {
      "cell_type": "code",
      "source": [
        "from bs4 import BeautifulSoup\n",
        "import requests\n",
        "\n",
        "\n",
        "url = \"https://www.house.gov/representatives\"\n",
        "text = requests.get(url).text\n",
        "soup = BeautifulSoup(text, \"html5lib\")\n",
        "\n",
        "all_urls = [a['href']\n",
        "                for a in soup('a')\n",
        "                if a.has_attr('href')]\n",
        "\n",
        "print(len(all_urls))#너무 많음"
      ],
      "metadata": {
        "colab": {
          "base_uri": "https://localhost:8080/"
        },
        "id": "vXqqA_5RHqQc",
        "outputId": "2fc84449-e3e4-4fac-f99d-0d646411cd12"
      },
      "execution_count": 89,
      "outputs": [
        {
          "output_type": "stream",
          "name": "stdout",
          "text": [
            "967\n"
          ]
        }
      ]
    },
    {
      "cell_type": "code",
      "source": [
        "print(all_urls[:10])"
      ],
      "metadata": {
        "colab": {
          "base_uri": "https://localhost:8080/"
        },
        "id": "xA_hLOtRHqag",
        "outputId": "d8be636b-9b90-49c1-9dd1-7e084c9c7fcc"
      },
      "execution_count": 90,
      "outputs": [
        {
          "output_type": "stream",
          "name": "stdout",
          "text": [
            "['#main-content', '/', '/', '/representatives', '/leadership', '/committees', '/legislative-activity', '/the-house-explained', '/visitors', '/educators-and-students']\n"
          ]
        }
      ]
    },
    {
      "cell_type": "markdown",
      "source": [
        "정규 표현식을 사용해서 .house.gov 혹은 .house.gov/로 끝나는 것만 가져오기"
      ],
      "metadata": {
        "id": "K0j2wsCFIQ-t"
      }
    },
    {
      "cell_type": "code",
      "source": [
        "import re\n",
        "regex = r\"^https?://.*\\.house\\.gov/?$\""
      ],
      "metadata": {
        "id": "N8krdvqRIPwM"
      },
      "execution_count": 91,
      "outputs": []
    },
    {
      "cell_type": "code",
      "source": [
        "#테스트\n",
        "assert re.match(regex, 'http://joel.house.gov')\n",
        "assert re.match(regex, 'https://joel.house.gov')\n",
        "assert re.match(regex, \"http://joel.house.gov/\")\n",
        "assert re.match(regex, \"https://joel.house.gov/\")\n",
        "assert not re.match(regex, 'joel.house.gov')\n",
        "assert not re.match(regex, \"http://joel.house.com\")\n",
        "assert not re.match(regex, \"https://joel.house.gov/biography\")"
      ],
      "metadata": {
        "id": "-iZqDmU_IlpC"
      },
      "execution_count": 92,
      "outputs": []
    },
    {
      "cell_type": "code",
      "source": [
        "#적용하기\n",
        "good_urls = [url for url in all_urls if re.match(regex, url)]\n",
        "\n",
        "print(len(good_urls))"
      ],
      "metadata": {
        "colab": {
          "base_uri": "https://localhost:8080/"
        },
        "id": "ZGuQNHoxIrND",
        "outputId": "c4c3443e-9dc8-4268-8239-f6e6ef9d953e"
      },
      "execution_count": 93,
      "outputs": [
        {
          "output_type": "stream",
          "name": "stdout",
          "text": [
            "878\n"
          ]
        }
      ]
    },
    {
      "cell_type": "code",
      "source": [
        "good_urls = list(set(good_urls))#중복제거\n",
        "print(len(good_urls))"
      ],
      "metadata": {
        "colab": {
          "base_uri": "https://localhost:8080/"
        },
        "id": "9p__Sd5gI2To",
        "outputId": "cbb86506-d1a6-49e0-c62f-5af061c95bbe"
      },
      "execution_count": 94,
      "outputs": [
        {
          "output_type": "stream",
          "name": "stdout",
          "text": [
            "439\n"
          ]
        }
      ]
    },
    {
      "cell_type": "markdown",
      "source": [
        "보도 자료 링크"
      ],
      "metadata": {
        "id": "6-8u55uzHmCx"
      }
    },
    {
      "cell_type": "code",
      "source": [
        "html = requests.get('https://jayapal.house.gov').text\n",
        "soup = BeautifulSoup(html, 'html5lib')\n",
        "#링크가 여러개 등장할 수도 있으니 집합 사용\n",
        "links = {a['href'] for a in soup('a') if 'press releases' in a.text.lower()}\n",
        "print(links)"
      ],
      "metadata": {
        "colab": {
          "base_uri": "https://localhost:8080/"
        },
        "id": "dRaiVkWhHchu",
        "outputId": "30105248-337c-450a-ccd5-83f8e0a85de0"
      },
      "execution_count": 95,
      "outputs": [
        {
          "output_type": "stream",
          "name": "stdout",
          "text": [
            "{'https://jayapal.house.gov/category/press-releases/', 'https://jayapal.house.gov/category/news/'}\n"
          ]
        }
      ]
    },
    {
      "cell_type": "code",
      "source": [
        "from typing import Dict, Set\n",
        "press_releases: Dict[str, Set[str]] = {}\n",
        "    \n",
        "for house_url in good_urls:\n",
        "    html = requests.get(house_url).text\n",
        "    soup = BeautifulSoup(html, 'html5lib')\n",
        "    pr_links = {a['href'] for a in soup('a') if 'press releases'\n",
        "                                                                   in a.text.lower()}\n",
        "    print(f\"{house_url}: {pr_links}\")\n",
        "    press_releases[house_url] = pr_links"
      ],
      "metadata": {
        "colab": {
          "base_uri": "https://localhost:8080/"
        },
        "id": "P0ZtJ597JO-5",
        "outputId": "9d36c24b-4de5-4cec-8c19-c4820d43e33a"
      },
      "execution_count": 97,
      "outputs": [
        {
          "output_type": "stream",
          "name": "stdout",
          "text": [
            "https://lawson.house.gov: {'https://lawson.house.gov/media/press-releases'}\n",
            "https://joewilson.house.gov/: {'/media-center/press-releases'}\n",
            "https://mcmorris.house.gov/: set()\n",
            "https://pappas.house.gov: {'/media/press-releases'}\n",
            "https://lindasanchez.house.gov/: {'/media-center/press-releases'}\n",
            "https://wittman.house.gov/: {'/news/documentquery.aspx?DocumentTypeID=2670'}\n",
            "https://slotkin.house.gov/: {'/media/press-releases'}\n",
            "https://jackson.house.gov: {'/news/documentquery.aspx?DocumentTypeID=27'}\n",
            "https://cloud.house.gov: set()\n",
            "https://stansbury.house.gov/: {'/media/press-releases'}\n",
            "https://kilmer.house.gov: {'https://kilmer.house.gov/news/press-releases'}\n",
            "https://stewart.house.gov: {'/news/documentquery.aspx?DocumentTypeID=27'}\n",
            "https://steube.house.gov/: {'/media/press-releases'}\n",
            "https://sessions.house.gov: {'/media/press-releases'}\n",
            "https://mooney.house.gov/: {'/news/#press'}\n",
            "https://buchanan.house.gov/: set()\n",
            "https://bera.house.gov: {'/media-center/press-releases'}\n",
            "https://wassermanschultz.house.gov/: {'/news/documentquery.aspx?DocumentTypeID=27'}\n",
            "https://kuster.house.gov: {'/news/documentquery.aspx?DocumentTypeID=27'}\n",
            "https://bishop.house.gov/: {'/media-center/press-releases'}\n",
            "https://cline.house.gov: {'/media/press-releases'}\n",
            "https://wilson.house.gov/: set()\n",
            "https://owens.house.gov: {'/media/press-releases'}\n",
            "https://golden.house.gov: {'/media/press-releases'}\n",
            "https://mcbath.house.gov: {'/press-releases'}\n",
            "https://comer.house.gov/: {'/press-release'}\n",
            "https://hoyer.house.gov/: set()\n",
            "https://moolenaar.house.gov/: {'/media-center/press-releases'}\n",
            "https://mullin.house.gov: {'/news/documentquery.aspx?DocumentTypeID=27'}\n",
            "https://hayes.house.gov: {'/media/press-releases'}\n",
            "https://webster.house.gov/: {'/press-releases'}\n",
            "https://fallon.house.gov: {'/media/press-releases'}\n",
            "https://tiffany.house.gov/: {'/media/press-releases'}\n",
            "https://sarbanes.house.gov/: {'/media-center/press-releases'}\n",
            "https://halrogers.house.gov/: {'/press-releases'}\n",
            "https://crawford.house.gov/: {'/News/DocumentQuery.aspx?DocumentTypeID=2080'}\n",
            "https://bergman.house.gov: {'/news/documentquery.aspx?DocumentTypeID=27'}\n",
            "https://keating.house.gov/: set()\n",
            "https://bentz.house.gov: {'/media/press-releases'}\n",
            "https://raskin.house.gov: {'/press-releases'}\n",
            "https://garamendi.house.gov/: {'/media/press-releases'}\n",
            "https://gaetz.house.gov: {'/media/press-releases'}\n",
            "https://cheney.house.gov: {'https://cheney.house.gov/category/press_release/'}\n",
            "https://juliabrownley.house.gov: {'https://juliabrownley.house.gov/category/press-releases/'}\n",
            "https://garbarino.house.gov: {'/media/press-releases'}\n",
            "https://murphy.house.gov: {'/news/documentquery.aspx?DocumentTypeID=27'}\n",
            "https://davis.house.gov: set()\n",
            "https://pelosi.house.gov/: {'/news/press-releases'}\n",
            "https://veasey.house.gov: {'/media-center/press-releases'}\n",
            "https://burchett.house.gov: {'/media/press-releases'}\n",
            "https://hankjohnson.house.gov/: {'/media-center/press-releases'}\n",
            "https://kirkpatrick.house.gov/: set()\n",
            "https://welch.house.gov/: {'/media-center/press-releases'}\n",
            "https://soto.house.gov: {'/media/press-releases'}\n",
            "https://morelle.house.gov: {'/media/press-releases'}\n",
            "https://perlmutter.house.gov/: {'/news/documentquery.aspx?DocumentTypeID=27'}\n",
            "https://youngkim.house.gov: {'/media/press-releases'}\n",
            "https://grijalva.house.gov/: set()\n",
            "https://ritchietorres.house.gov: set()\n",
            "https://gonzalez.house.gov: {'/media/press-releases'}\n",
            "https://calvert.house.gov/: {'/media/press-releases'}\n",
            "https://clayhiggins.house.gov: {'/media/press-releases'}\n",
            "https://robinkelly.house.gov/: {'/media-center/press-releases'}\n",
            "https://mikelevin.house.gov: {'https://mikelevin.house.gov/media/press-releases'}\n",
            "https://stauber.house.gov: {'/media/press-releases'}\n",
            "https://gohmert.house.gov/: {'/News/DocumentQuery.aspx?DocumentTypeID=1954'}\n",
            "https://rush.house.gov: {'/media-center/press-releases'}\n",
            "https://bustos.house.gov: {'https://bustos.house.gov/category/press-release/'}\n",
            "https://banks.house.gov: {'/news/documentquery.aspx?DocumentTypeID=27'}\n",
            "https://vargas.house.gov: {'/media-center/press-releases'}\n",
            "https://demings.house.gov: {'/media/press-releases'}\n",
            "https://cohen.house.gov/: {'/media-center/press-releases'}\n",
            "https://rouzer.house.gov/: {'/press-releases'}\n",
            "https://bass.house.gov/: {'/media-center/press-releases'}\n",
            "https://turner.house.gov/: {'/press-releases'}\n",
            "https://dankildee.house.gov: {'/media/press-releases'}\n",
            "https://fitzpatrick.house.gov/: {'/press-releases'}\n",
            "https://lamalfa.house.gov: {'/media-center/press-releases'}\n",
            "https://brooks.house.gov/: set()\n",
            "https://barrymoore.house.gov: {'/media/press-releases'}\n",
            "https://evans.house.gov/: {'/media-center/press-releases'}\n",
            "https://ross.house.gov: {'/media/press-releases'}\n",
            "https://mchenry.house.gov: {'/news/documentquery.aspx?DocumentTypeID=418'}\n",
            "https://spanberger.house.gov: {'/news/documentsingle.aspx?DocumentID=4280', '/news/documentsingle.aspx?DocumentID=4282', '/news/documentsingle.aspx?DocumentID=4283', '/news/documentsingle.aspx?DocumentID=4279', '/news/documentsingle.aspx?DocumentID=4281', '/news/documentsingle.aspx?DocumentID=4278', '/news/documentquery.aspx?DocumentTypeID=27'}\n",
            "https://mariodiazbalart.house.gov/: {'/media-center/press-releases'}\n",
            "https://nikemawilliams.house.gov: {'/media/press-releases'}\n",
            "https://radewagen.house.gov/: {'/media/press-releases'}\n",
            "https://danbishop.house.gov: {'/media/press-releases'}\n",
            "https://harris.house.gov/: {'/media/press-releases'}\n",
            "https://long.house.gov/: {'/news/documentquery.aspx?DocumentTypeID=27'}\n",
            "https://hudson.house.gov: {'/media/press-releases'}\n",
            "https://langevin.house.gov: {'/press-releases'}\n",
            "https://nadler.house.gov: {'/news/documentquery.aspx?DocumentTypeID=1753'}\n",
            "https://craig.house.gov: {'/media/press-releases'}\n",
            "https://markgreen.house.gov/: {'/press-releases'}\n",
            "https://massie.house.gov: set()\n",
            "https://fitzgerald.house.gov: {'/media/press-releases'}\n",
            "https://cartwright.house.gov: {'/news/documentquery.aspx?DocumentTypeID=2442'}\n",
            "https://neal.house.gov/: {'/news/documentquery.aspx?DocumentTypeID=27'}\n",
            "https://castor.house.gov/: {'/News/DocumentQuery.aspx?DocumentTypeID=821'}\n",
            "https://loudermilk.house.gov: {'/news/documentquery.aspx?DocumentTypeID=27'}\n",
            "https://newman.house.gov: {'/media/press-releases'}\n",
            "https://lahood.house.gov/: {'/press-releases'}\n",
            "https://wexton.house.gov/: {'/news/documentquery.aspx?DocumentTypeID=27'}\n",
            "https://issa.house.gov: {'/media/press-releases'}\n",
            "https://fortenberry.house.gov/: {'/news/press-releases'}\n",
            "https://jones.house.gov: {'/media/press-releases'}\n",
            "https://carey.house.gov: {'/media/press-releases'}\n",
            "https://katko.house.gov/: {'/media-center/press-releases'}\n",
            "https://newhouse.house.gov: {'/media-center/press-releases'}\n",
            "https://chabot.house.gov/: {'/news/documentquery.aspx?DocumentTypeID=2508'}\n",
            "https://gosar.house.gov/: {'/news/documentquery.aspx?DocumentTypeID=27'}\n",
            "https://schrier.house.gov: {'/media/press-releases'}\n",
            "https://luria.house.gov: {'/media/press-releases'}\n",
            "https://schiff.house.gov/: {'https://schiff.house.gov/news/press-releases'}\n",
            "https://jayapal.house.gov: {'https://jayapal.house.gov/category/press-releases/', 'https://jayapal.house.gov/category/news/'}\n",
            "https://bilirakis.house.gov/: {'/media/press-releases'}\n",
            "https://bowman.house.gov: {'/press-releases'}\n",
            "https://algreen.house.gov: {'/media/press-releases'}\n",
            "https://feenstra.house.gov: {'/media/press-releases'}\n",
            "https://luetkemeyer.house.gov/: {'/news/documentquery.aspx?DocumentTypeID=2270'}\n",
            "https://roy.house.gov: {'/media/press-releases'}\n",
            "https://carl.house.gov: {'/media/press-releases'}\n",
            "https://spartz.house.gov: {'/media/press-releases'}\n",
            "https://debbiedingell.house.gov/: {'/news/', '/news/documentquery.aspx?DocumentTypeID=27'}\n",
            "https://casten.house.gov: {'/media/press-releases'}\n",
            "https://rosendale.house.gov: {'/news/documentquery.aspx?DocumentTypeID=27'}\n",
            "https://emmer.house.gov/: {'/press-releases'}\n",
            "https://larson.house.gov/: {'/media-center/press-releases'}\n",
            "https://cardenas.house.gov: {'https://cardenas.house.gov/media-center/press-releases'}\n",
            "https://mcclintock.house.gov/: {'/newsroom/press-releases'}\n",
            "https://suozzi.house.gov: {'/media/press-releases'}\n",
            "https://sewell.house.gov/: {'/frontpage?qt-home_page_tabs=0#qt-home_page_tabs', '/media-center/press-releases'}\n",
            "https://scalise.house.gov/: {'/media/press-releases'}\n",
            "https://susielee.house.gov: {'/media/press-releases'}\n",
            "https://nunes.house.gov/: {'/News/DocumentQuery.aspx?DocumentTypeID=2133'}\n",
            "https://simpson.house.gov: {'/News/DocumentQuery.aspx?DocumentTypeID=1515'}\n",
            "https://davidson.house.gov/: {'/press-releases'}\n",
            "https://gregmurphy.house.gov: {'/media/press-releases'}\n",
            "https://payne.house.gov: {'/media/press-releases'}\n",
            "https://bacon.house.gov: {'/news/documentquery.aspx?DocumentTypeID=27'}\n",
            "https://clyde.house.gov: set()\n",
            "https://joyce.house.gov: set()\n",
            "https://benniethompson.house.gov/: {'/media/press-releases'}\n",
            "https://beyer.house.gov: {'/news/documentquery.aspx?DocumentTypeID=27'}\n",
            "https://scottpeters.house.gov: {'/media-center/press-releases'}\n",
            "https://pallone.house.gov: {'/media/press-releases'}\n",
            "https://stanton.house.gov/: {'/press-releases'}\n",
            "https://arrington.house.gov: {'/news/documentquery.aspx?DocumentTypeID=27'}\n",
            "https://buck.house.gov/: set()\n",
            "https://chrissmith.house.gov/: set()\n",
            "https://meuser.house.gov: {'/media/press-releases'}\n",
            "https://clyburn.house.gov/: {'/press-releases'}\n",
            "https://mikegarcia.house.gov/: {'/news/documentquery.aspx?DocumentTypeID=27'}\n",
            "https://sannicolas.house.gov: set()\n",
            "https://walberg.house.gov/: {'/media/press-releases'}\n",
            "https://fletcher.house.gov: {'/news/documentquery.aspx?DocumentTypeID=27'}\n",
            "https://swalwell.house.gov: {'/media-center/press-releases'}\n",
            "https://huizenga.house.gov/: {'/News/DocumentQuery.aspx?DocumentTypeID=2041'}\n",
            "https://schakowsky.house.gov: {'/media/press-releases'}\n",
            "https://vanduyne.house.gov: {'/media/press-releases'}\n",
            "https://dustyjohnson.house.gov/: {'/media/press-releases'}\n",
            "https://dunn.house.gov: {'/press-releases'}\n",
            "https://eshoo.house.gov/: {'/media/press-releases'}\n",
            "https://cooper.house.gov/: {'/media-center/press-releases'}\n",
            "https://costa.house.gov/: {'/media-center/press-releases'}\n",
            "https://hice.house.gov/: {'/news/documentquery.aspx?DocumentTypeID=27'}\n",
            "https://bourdeaux.house.gov: {'/media/press-releases'}\n",
            "https://foster.house.gov: {'/media/press-releases'}\n",
            "https://estes.house.gov/: {'/news/documentquery.aspx?DocumentTypeID=27'}\n",
            "https://barr.house.gov/: {'/press-releases'}\n",
            "https://mcgovern.house.gov/: {'/news/documentquery.aspx?DocumentTypeID=2472'}\n",
            "https://allred.house.gov/: {'/media/press-releases'}\n",
            "https://gibbs.house.gov/: {'/media-center/press-releases'}\n",
            "https://mcclain.house.gov: {'/media/press-releases'}\n",
            "https://marymiller.house.gov: {'/media/press-releases', '/media/subscribe-press-releases'}\n",
            "https://rubengallego.house.gov/: {'/media-center/press-releases'}\n",
            "https://kelly.house.gov: {'/press-releases'}\n",
            "https://davidscott.house.gov/: {'/News/DocumentQuery.aspx?DocumentTypeID=377'}\n",
            "https://donalds.house.gov: {'/news/documentquery.aspx?DocumentTypeID=27'}\n",
            "https://buddycarter.house.gov/: {'/news/documentquery.aspx?DocumentTypeID=27'}\n",
            "https://roybal-allard.house.gov: {'/news/documentquery.aspx?DocumentTypeID=1465', '#tab2'}\n",
            "https://trentkelly.house.gov/: {'/news/documentsingle.aspx?DocumentID=5528', '/news/documentquery.aspx?DocumentTypeID=27'}\n",
            "https://kustoff.house.gov: {'/media/press-releases'}\n",
            "https://pfluger.house.gov: {'/media/press-releases'}\n",
            "https://waters.house.gov: {'/media-center/press-releases'}\n",
            "https://cuellar.house.gov/: {'/News/DocumentQuery.aspx?DocumentTypeID=1232'}\n",
            "https://jeffduncan.house.gov/: {'/media/press-releases'}\n",
            "https://obernolte.house.gov: {'/media/press-releases'}\n",
            "https://anthonybrown.house.gov: {'/news/documentsingle.aspx?DocumentID=1621', '/news/documentsingle.aspx?DocumentID=1614', '/news/documentquery.aspx?DocumentTypeID=27'}\n",
            "https://price.house.gov/: {'/newsroom/press-releases'}\n",
            "https://ebjohnson.house.gov: {'/media-center/press-releases'}\n",
            "https://hern.house.gov: {'/news/documentquery.aspx?DocumentTypeID=27'}\n",
            "https://seanmaloney.house.gov: set()\n",
            "https://larsen.house.gov: {'/news/documentquery.aspx?DocumentTypeID=27'}\n",
            "https://mccaul.house.gov: {'/media-center/press-releases'}\n",
            "https://fulcher.house.gov/: {'/press-releases'}\n",
            "https://mast.house.gov: {'/press-releases'}\n",
            "https://gonzales.house.gov: {'/media/press-releases'}\n",
            "https://gottheimer.house.gov: {'/news/documentquery.aspx?DocumentTypeID=27'}\n",
            "https://porter.house.gov/: set()\n",
            "https://gonzalez-colon.house.gov: {'/media/press-releases'}\n",
            "https://napolitano.house.gov/: {'/media/press-releases'}\n",
            "https://clarke.house.gov/: {'https://clarke.house.gov/category/press-releases/'}\n",
            "https://zeldin.house.gov/: {'/media-center/press-releases'}\n",
            "https://cicilline.house.gov/: {'/press-releases'}\n",
            "https://sablan.house.gov/: set()\n",
            "https://meng.house.gov: {'/media-center/press-releases'}\n",
            "https://doyle.house.gov: {'/media/press-releases'}\n",
            "https://ellzey.house.gov/: {'/media/press-releases'}\n",
            "https://lawrence.house.gov/: {'/media-center/press-releases'}\n",
            "https://guthrie.house.gov/: set()\n",
            "https://velazquez.house.gov: {'/media-center/press-releases'}\n",
            "https://hinson.house.gov: {'/media/press-releases'}\n",
            "https://sherman.house.gov: {'/media-center', '/media-center/press-releases'}\n",
            "https://donyoung.house.gov/: {'/News/'}\n",
            "https://titus.house.gov/: {'/news/documentquery.aspx?DocumentTypeID=27'}\n",
            "https://barragan.house.gov: set()\n",
            "https://smucker.house.gov/: {'/media/press-releases'}\n",
            "https://biggs.house.gov: {'/media/press-releases'}\n",
            "https://perry.house.gov/: set()\n",
            "https://courtney.house.gov/: {'/media-center/press-releases'}\n",
            "https://weber.house.gov: {'/news/documentquery.aspx?DocumentTypeID=27'}\n",
            "https://carbajal.house.gov: {'/news/documentquery.aspx?DocumentTypeID=27'}\n",
            "https://posey.house.gov/: {'#tab-2', '/News/DocumentQuery.aspx?DocumentTypeID=1487'}\n",
            "https://steil.house.gov: {'/media/press-releases'}\n",
            "https://gwenmoore.house.gov: {'/news/documentquery.aspx?DocumentTypeID=27'}\n",
            "https://laturner.house.gov: {'/media/press-releases'}\n",
            "https://desjarlais.house.gov/: set()\n",
            "https://boebert.house.gov: {'/media/press-releases'}\n",
            "https://williams.house.gov: {'/media-center/press-releases'}\n",
            "https://kevinmccarthy.house.gov/: {'/media-center/press-releases'}\n",
            "https://bush.house.gov: {'/media/press-releases'}\n",
            "https://tenney.house.gov/: {'/media/press-releases'}\n",
            "https://jordan.house.gov/: {'/media/press-releases'}\n",
            "https://mceachin.house.gov: {'/media/press-releases'}\n",
            "https://case.house.gov/: {'/news/documentquery.aspx?DocumentTypeID=27', '/news/documentsingle.aspx?DocumentID=727'}\n",
            "https://billjohnson.house.gov/: {'/News/DocumentQuery.aspx?DocumentTypeID=2085', '/news/documentquery.aspx?DocumentTypeID=2085'}\n",
            "https://lowenthal.house.gov: {'/media/press-releases'}\n",
            "https://westerman.house.gov/: set()\n",
            "https://aderholt.house.gov/: {'/media-center/press-releases'}\n",
            "https://teddeutch.house.gov/: set()\n",
            "https://blumenauer.house.gov/: {'/media-center/press-releases'}\n",
            "https://harshbarger.house.gov: {'/media/press-releases'}\n",
            "https://crow.house.gov/: {'/media/press-releases'}\n",
            "https://mrvan.house.gov: {'/media/press-releases'}\n",
            "https://pocan.house.gov: {'/media-center/press-releases'}\n",
            "https://plaskett.house.gov/: {'/news/documentquery.aspx?documenttypeid=27'}\n",
            "https://harder.house.gov/: {'/media/press-releases'}\n",
            "https://schweikert.house.gov/: {'/media-center/press-releases'}\n",
            "https://norton.house.gov/: {'/media-center/press-releases'}\n",
            "https://stefanik.house.gov/: {'/press-releases'}\n",
            "https://himes.house.gov/: {'/press-releases'}\n",
            "https://axne.house.gov/: {'/media/press-releases'}\n",
            "https://blakemoore.house.gov: {'/media/press-releases'}\n",
            "https://delauro.house.gov/: {'/media-center/press-releases'}\n",
            "https://pingree.house.gov/: set()\n",
            "https://sarajacobs.house.gov: {'/news/documentquery.aspx?DocumentTypeID=27'}\n",
            "https://neguse.house.gov/: {'https://neguse.house.gov/media/press-releases'}\n",
            "https://carter.house.gov/: {'/news/documentquery.aspx?DocumentTypeID=27'}\n",
            "https://takano.house.gov: {'https://takano.house.gov/newsroom/press-releases'}\n",
            "https://cammack.house.gov: {'/media/press-releases'}\n",
            "https://waltz.house.gov: {'/news/documentquery.aspx?DocumentTypeID=27'}\n",
            "https://lesko.house.gov: {'/news/documentquery.aspx?DocumentTypeID=27'}\n",
            "https://kim.house.gov/: {'/media/press-releases'}\n",
            "https://butterfield.house.gov: {'/media-center/press-releases'}\n",
            "https://schneider.house.gov: {'/media/press-releases'}\n",
            "https://panetta.house.gov: {'/media/press-releases'}\n",
            "https://bluntrochester.house.gov: set()\n",
            "https://fleischmann.house.gov/: {'/media/press-releases'}\n",
            "https://troycarter.house.gov: {'/media/press-releases'}\n",
            "https://hagedorn.house.gov/: {'/media/press-releases'}\n",
            "https://tlaib.house.gov/: {'/media/press-releases'}\n",
            "https://johnrose.house.gov/: {'/media/press-releases'}\n",
            "https://hill.house.gov/: {'/news/documentquery.aspx?DocumentTypeID=27'}\n",
            "https://kahele.house.gov: {'/media/press-releases'}\n",
            "https://espaillat.house.gov: {'/media/press-releases'}\n",
            "https://lynch.house.gov/: {'/press-releases'}\n",
            "https://walorski.house.gov: set()\n",
            "https://austinscott.house.gov/: {'/press-releases'}\n",
            "https://jacksonlee.house.gov/: {'/media-center/press-releases'}\n",
            "https://bonamici.house.gov: {'/media/press-releases'}\n",
            "https://burgess.house.gov/: {'/News/DocumentQuery.aspx?DocumentTypeID=75'}\n",
            "https://babin.house.gov: {'/news/documentquery.aspx?DocumentTypeID=27'}\n",
            "https://mikethompson.house.gov/: {'/newsroom/press-releases'}\n",
            "https://phillips.house.gov/: {'/news/documentquery.aspx?DocumentTypeID=27'}\n",
            "https://bobbyscott.house.gov: {'/media-center/press-releases'}\n",
            "https://lofgren.house.gov/: {'/media/press-releases'}\n",
            "https://amodei.house.gov: set()\n",
            "https://timryan.house.gov/: {'/media/press-releases'}\n",
            "https://pressley.house.gov: {'/media/press-releases'}\n",
            "https://rice.house.gov: {'/press-releases'}\n",
            "https://meijer.house.gov: {'/media/press-releases'}\n",
            "https://cawthorn.house.gov: {'/media/press-releases'}\n",
            "https://desaulnier.house.gov/: {'/media-center/press-releases'}\n",
            "https://garretgraves.house.gov/: {'/media-center/press-releases'}\n",
            "https://crenshaw.house.gov/: {'/press-releases'}\n",
            "https://foxx.house.gov/: {'/news/documentquery.aspx?DocumentTypeID=2367'}\n",
            "https://khanna.house.gov: {'/media/press-releases'}\n",
            "https://frankel.house.gov: {'/news/documentquery.aspx?DocumentTypeID=27'}\n",
            "https://rodneydavis.house.gov: set()\n",
            "https://castro.house.gov: {'https://castro.house.gov/media-center/press-releases'}\n",
            "https://palmer.house.gov/: {'/media-center/press-releases'}\n",
            "https://gallagher.house.gov: {'/media/press-releases'}\n",
            "https://carson.house.gov/: {'/newsroom/press-releases'}\n",
            "https://huffman.house.gov: set()\n",
            "https://wild.house.gov: {'/media/press-releases'}\n",
            "https://pascrell.house.gov/: {'/news/documentquery.aspx?DocumentTypeID=27'}\n",
            "https://fernandez.house.gov: {'/media/press-releases'}\n",
            "https://davids.house.gov/: {'/media/press-releases'}\n",
            "https://adams.house.gov: {'/media-center/press-releases'}\n",
            "https://manning.house.gov: {'/media/press-releases'}\n",
            "https://reed.house.gov/: {'/news/documentquery.aspx?DocumentTypeID=27'}\n",
            "https://ferguson.house.gov: {'/news/documentquery.aspx?DocumentTypeID=27'}\n",
            "https://degette.house.gov: {'/newsroom/press-releases'}\n",
            "https://nehls.house.gov: set()\n",
            "https://houlahan.house.gov/: {'/news/documentquery.aspx?DocumentTypeID=27'}\n",
            "https://reschenthaler.house.gov/: {'/media/press-releases'}\n",
            "https://latta.house.gov/: {'/News/DocumentQuery.aspx?DocumentTypeID=1456'}\n",
            "https://franklin.house.gov: {'/media/press-releases'}\n",
            "https://scanlon.house.gov/: {'https://scanlon.house.gov/news/documentquery.aspx?DocumentTypeID=27'}\n",
            "https://underwood.house.gov/: {'/media/press-releases'}\n",
            "https://higgins.house.gov: {'/press-releases/archived-press-releases-2008', '/media-center/press-releases'}\n",
            "https://salazar.house.gov: {'/media/press-releases'}\n",
            "https://hollingsworth.house.gov: set()\n",
            "https://steel.house.gov: {'/media/press-releases'}\n",
            "https://beatty.house.gov: {'/media-center/press-releases'}\n",
            "https://gooden.house.gov: {'/press-releases'}\n",
            "https://mfume.house.gov/: {'/media/press-releases'}\n",
            "https://malinowski.house.gov/: {'/media/press-releases'}\n",
            "https://moulton.house.gov/: set()\n",
            "https://rutherford.house.gov: {'/media/press-releases'}\n",
            "https://lamborn.house.gov/: {'/media/press-releases'}\n",
            "https://jasonsmith.house.gov: set()\n",
            "https://tonko.house.gov/: {'/news/documentquery.aspx?DocumentTypeID=27'}\n",
            "https://norman.house.gov: {'/news/documentquery.aspx?DocumentTypeID=27'}\n",
            "https://strickland.house.gov: {'/media/press-releases'}\n",
            "https://bucshon.house.gov/: {'/news/documentquery.aspx?DocumentTypeID=27'}\n",
            "https://upton.house.gov: {'/News/DocumentQuery.aspx?DocumentTypeID=1828'}\n",
            "https://jacobs.house.gov: {'/media/press-releases'}\n",
            "https://adriansmith.house.gov/: {'/newsroom/press-releases'}\n",
            "https://speier.house.gov/: {'/press-releases'}\n",
            "https://horsford.house.gov: {'/media/press-releases'}\n",
            "https://doggett.house.gov: {'/media/press-releases'}\n",
            "https://cole.house.gov: {'/media-center/press-releases'}\n",
            "https://aguilar.house.gov/: {'https://aguilar.house.gov/category/congress_press_release/'}\n",
            "https://wagner.house.gov: {'/media-center/press-releases'}\n",
            "https://guest.house.gov: {'/media/press-releases'}\n",
            "https://miller.house.gov/: {'/media/press-releases'}\n",
            "https://delgado.house.gov: {'/media/press-releases'}\n",
            "https://thompson.house.gov: {'/media-center/press-releases'}\n",
            "https://kaptur.house.gov/: {'/media-center/press-releases'}\n",
            "https://quigley.house.gov/: {'/media-center/press-releases'}\n",
            "https://sylviagarcia.house.gov/: {'/media/press-releases'}\n",
            "https://lucas.house.gov: {'/news/press-releases'}\n",
            "https://baird.house.gov/: {'/news/documentquery.aspx?DocumentTypeID=27'}\n",
            "https://grothman.house.gov: {'/news/documentquery.aspx?DocumentTypeID=27'}\n",
            "https://bost.house.gov/: {'/press-releases'}\n",
            "https://balderson.house.gov: {'/news/documentquery.aspx?DocumentTypeID=27'}\n",
            "https://crist.house.gov: {'/news/documentquery.aspx?DocumentTypeID=27'}\n",
            "https://torres.house.gov/: {'/media-center/press-releases'}\n",
            "https://lee.house.gov/: set()\n",
            "https://chu.house.gov/: {'/media-center/press-releases'}\n",
            "https://anthonygonzalez.house.gov: {'/news/documentquery.aspx?DocumentTypeID=27'}\n",
            "https://hartzler.house.gov/: {'/media-center/press-releases'}\n",
            "https://mann.house.gov: {'/media/press-releases'}\n",
            "https://ruiz.house.gov: {'/media-center/press-releases'}\n",
            "https://kaygranger.house.gov: {'/press-releases'}\n",
            "https://escobar.house.gov: {'/news/documentquery.aspx?DocumentTypeID=27'}\n",
            "https://letlow.house.gov: {'/media/press-releases'}\n",
            "https://schrader.house.gov/: {'/news/documentquery.aspx?DocumentTypeID=2382'}\n",
            "https://cleaver.house.gov: {'/media-center/press-releases'}\n",
            "https://adamsmith.house.gov/: {'#recentposts-pressreleases', '/press-releases'}\n",
            "https://mikerogers.house.gov/: {'/news/documentquery.aspx?DocumentTypeID=27'}\n",
            "https://gomez.house.gov/: {'/news/documentquery.aspx?DocumentTypeID=27'}\n",
            "https://morgangriffith.house.gov/: {'/News/DocumentQuery.aspx?DocumentTypeID=2235'}\n",
            "https://vela.house.gov: {'/press-release'}\n",
            "https://watsoncoleman.house.gov/: {'/news/documentquery.aspx?DocumentTypeID=27'}\n",
            "https://gimenez.house.gov: {'/media/press-releases'}\n",
            "https://mace.house.gov: {'/media/press-releases'}\n",
            "https://malliotakis.house.gov: {'/media/press-releases'}\n",
            "https://millermeeks.house.gov/: {'/media/press-releases'}\n",
            "https://delbene.house.gov: {'/news/documentquery.aspx?DocumentTypeID=27'}\n",
            "https://kathleenrice.house.gov: {'/news/documentquery.aspx?DocumentTypeID=27'}\n",
            "https://omar.house.gov/: {'/media/press-releases'}\n",
            "https://sherrill.house.gov/: {'/media/press-releases'}\n",
            "https://budd.house.gov: {'/news/documentquery.aspx?DocumentTypeID=27'}\n",
            "https://curtis.house.gov/: {'https://curtis.house.gov/category/press-releases/'}\n",
            "https://mccollum.house.gov: {'/media/press-releases'}\n",
            "https://vandrew.house.gov: {'/media/press-releases'}\n",
            "https://connolly.house.gov/: {'/news/documentquery.aspx?DocumentTypeID=1952'}\n",
            "https://yarmuth.house.gov/: {'/press'}\n",
            "https://lieu.house.gov/: {'/media-center/press-releases'}\n",
            "https://pence.house.gov/: {'/media/press-releases'}\n",
            "https://jeffries.house.gov: {'https://jeffries.house.gov/category/press-release/'}\n",
            "https://fischbach.house.gov: {'/press-releases'}\n",
            "https://kinzinger.house.gov/: {'/news/documentquery.aspx?DocumentTypeID=2665'}\n",
            "https://herrell.house.gov: {'/media/press-releases-c'}\n",
            "https://keller.house.gov: {'/media/press-releases'}\n",
            "https://mikejohnson.house.gov: {'/news/documentsingle.aspx?DocumentID=1010', '/news/documentsingle.aspx?DocumentID=1013', '/news/documentsingle.aspx?DocumentID=1009', '/news/documentquery.aspx?DocumentTypeID=1951', '/news/documentsingle.aspx?DocumentID=1012', '/news/documentsingle.aspx?DocumentID=1011', '/news/documentquery.aspx?DocumentTypeID=27'}\n",
            "https://chuygarcia.house.gov/: {'/media/press-releases'}\n",
            "https://ocasio-cortez.house.gov/: {'/media/press-releases'}\n",
            "https://armstrong.house.gov: {'/media/press-releases'}\n",
            "https://vantaylor.house.gov/: {'/news/documentquery.aspx?DocumentTypeID=27'}\n",
            "https://timmons.house.gov/: {'/news/documentquery.aspx?DocumentTypeID=27'}\n",
            "https://allen.house.gov: {'/news/documentquery.aspx?DocumentTypeID=27'}\n",
            "https://womack.house.gov/: {'/News/DocumentQuery.aspx?DocumentTypeID=2067'}\n",
            "https://johnjoyce.house.gov/: {'/news/documentquery.aspx?DocumentTypeID=27'}\n",
            "https://sires.house.gov: {'/media-center/press-releases'}\n",
            "https://bice.house.gov: {'/media/press-releases'}\n",
            "https://shontelbrown.house.gov: {'/media/press-releases'}\n",
            "https://ohalleran.house.gov: {'/media/press-releases'}\n",
            "https://correa.house.gov: {'/press/table'}\n",
            "https://mckinley.house.gov/: {'/news/documentquery.aspx?DocumentTypeID=27'}\n",
            "https://andylevin.house.gov/: {'/media/press-releases'}\n",
            "https://meeks.house.gov: {'/media/press-releases'}\n",
            "https://dean.house.gov: {'/press-releases'}\n",
            "https://wenstrup.house.gov: {'/news/documentquery.aspx?DocumentTypeID=2491'}\n",
            "https://jhb.house.gov/: {'/News/DocumentQuery.aspx?DocumentTypeID=2113'}\n",
            "https://greene.house.gov: {'/media/press-releases'}\n",
            "https://valadao.house.gov: {'/news/documentquery.aspx?DocumentTypeID=27'}\n",
            "https://lamb.house.gov: {'/media/press-releases'}\n",
            "https://defazio.house.gov/: {'/media-center/press-releases'}\n",
            "https://boyle.house.gov/: {'/media-center/press-releases'}\n",
            "https://mcnerney.house.gov/: {'/media-center/press-releases'}\n",
            "https://stevens.house.gov/: {'/media/press-releases'}\n",
            "https://maloney.house.gov/: {'/news/press-releases'}\n",
            "https://good.house.gov: {'/media/press-releases'}\n",
            "https://krishnamoorthi.house.gov: {'/media/press-releases'}\n",
            "https://trahan.house.gov: set()\n",
            "https://palazzo.house.gov/: {'/News/DocumentQuery.aspx?DocumentTypeID=2519'}\n",
            "https://kevinbrady.house.gov/: {'/news/documentquery.aspx?DocumentTypeID=2657'}\n",
            "https://graves.house.gov/: {'/media/press-releases'}\n",
            "https://auchincloss.house.gov: {'/media/press-releases'}\n",
            "https://norcross.house.gov: set()\n",
            "https://kind.house.gov/: {'/media-center/press-releases'}\n",
            "https://matsui.house.gov: {'/news/documentquery.aspx?DocumentTypeID=27'}\n",
            "https://trone.house.gov: {'https://trone.house.gov/category/congress_press_release/'}\n",
            "https://ruppersberger.house.gov: {'/news-room/press-releases'}\n"
          ]
        }
      ]
    },
    {
      "cell_type": "markdown",
      "source": [
        "보도가 특정 단어를 포함하고 있는지 확인해주는 함수"
      ],
      "metadata": {
        "id": "4HaLxbeqNk-x"
      }
    },
    {
      "cell_type": "code",
      "source": [
        "def paragraph_mentions(text: str, keyword: str) -> bool:\n",
        "    \"\"\"\n",
        "    Returns True if a <p> inside the text mentions {keyword}\n",
        "    \"\"\"\n",
        "    soup = BeautifulSoup(text, 'html5lib')\n",
        "    paragraphs = [p.get_text() for p in soup('p')]\n",
        "\n",
        "    return any(keyword.lower() in paragraph.lower()\n",
        "               for paragraph in paragraphs)"
      ],
      "metadata": {
        "id": "wu1zZ2EJNOiS"
      },
      "execution_count": 98,
      "outputs": []
    },
    {
      "cell_type": "code",
      "source": [
        "text = \"\"\"<body><h1>Facebook</h1><p>Twitter</p>\"\"\""
      ],
      "metadata": {
        "id": "oUDN09PDNu3u"
      },
      "execution_count": 105,
      "outputs": []
    },
    {
      "cell_type": "code",
      "source": [
        "paragraph_mentions(text, \"twitter\")   "
      ],
      "metadata": {
        "colab": {
          "base_uri": "https://localhost:8080/"
        },
        "id": "Z7GiQ99SN53c",
        "outputId": "b1119e76-7b79-4c50-fe86-68414b5bc044"
      },
      "execution_count": 106,
      "outputs": [
        {
          "output_type": "execute_result",
          "data": {
            "text/plain": [
              "True"
            ]
          },
          "metadata": {},
          "execution_count": 106
        }
      ]
    },
    {
      "cell_type": "code",
      "source": [
        "print(paragraph_mentions(text, \"twitter\"))"
      ],
      "metadata": {
        "colab": {
          "base_uri": "https://localhost:8080/"
        },
        "id": "-swFQBhNOh0r",
        "outputId": "22e3be46-40fa-4ca8-ef8b-978cd10a3242"
      },
      "execution_count": 107,
      "outputs": [
        {
          "output_type": "stream",
          "name": "stdout",
          "text": [
            "True\n"
          ]
        }
      ]
    },
    {
      "cell_type": "code",
      "source": [
        "paragraph_mentions(text, \"facebook\")#<p> 안에 없음"
      ],
      "metadata": {
        "colab": {
          "base_uri": "https://localhost:8080/"
        },
        "id": "3TSuDEowN8x-",
        "outputId": "fdbc7a57-8aa2-4977-e769-63b9c3926ded"
      },
      "execution_count": 101,
      "outputs": [
        {
          "output_type": "execute_result",
          "data": {
            "text/plain": [
              "False"
            ]
          },
          "metadata": {},
          "execution_count": 101
        }
      ]
    },
    {
      "cell_type": "code",
      "source": [
        "for house_url, pr_links in press_releases.items():\n",
        "    for pr_link in pr_links:\n",
        "        url = f\"{house_url}/{pr_link}\"\n",
        "        text = requests.get(url).text\n",
        "        \n",
        "        if paragraph_mentions(text, 'data'):#data를 포함한 paragraph 있는 url 출력\n",
        "            print(f\"{house_url}\")\n",
        "            break"
      ],
      "metadata": {
        "colab": {
          "base_uri": "https://localhost:8080/"
        },
        "id": "v1vXWiI7OBjV",
        "outputId": "86646b97-acb3-434d-f552-346ef1208ec6"
      },
      "execution_count": 108,
      "outputs": [
        {
          "output_type": "stream",
          "name": "stdout",
          "text": [
            "https://mullin.house.gov\n",
            "https://spanberger.house.gov\n",
            "https://newhouse.house.gov\n",
            "https://gosar.house.gov/\n",
            "https://susielee.house.gov\n",
            "https://simpson.house.gov\n",
            "https://huizenga.house.gov/\n",
            "https://marymiller.house.gov\n",
            "https://anthonybrown.house.gov\n",
            "https://cicilline.house.gov/\n",
            "https://carbajal.house.gov\n",
            "https://tenney.house.gov/\n",
            "https://lesko.house.gov\n",
            "https://meijer.house.gov\n",
            "https://cawthorn.house.gov\n",
            "https://khanna.house.gov\n",
            "https://guest.house.gov\n",
            "https://delbene.house.gov\n",
            "https://mikejohnson.house.gov\n",
            "https://jhb.house.gov/\n"
          ]
        }
      ]
    },
    {
      "cell_type": "markdown",
      "source": [
        "### API 사용하기"
      ],
      "metadata": {
        "id": "kU8aBVNmOvO0"
      }
    },
    {
      "cell_type": "markdown",
      "source": [
        "#### JSON과 XML"
      ],
      "metadata": {
        "id": "7njoDBTROyo_"
      }
    },
    {
      "cell_type": "markdown",
      "source": [
        "JSON: JavaScript Object Notation\n",
        "\n",
        "```\n",
        "{ \"title\" : \"Data Science Book\",\n",
        "  \"author\" : \"Joel Grus\",\n",
        "  \"publicationYear\" : 2019,\n",
        "  \"topics\" : [ \"data\", \"science\", \"data science\"] }\n",
        "```\n",
        "\n"
      ],
      "metadata": {
        "id": "ukrFTz1nO52X"
      }
    },
    {
      "cell_type": "code",
      "source": [
        "import json\n",
        "serialized = \"\"\"{ \"title\" : \"Data Science Book\",\n",
        "                  \"author\" : \"Joel Grus\",\n",
        "                  \"publicationYear\" : 2019,\n",
        "                  \"topics\" : [ \"data\", \"science\", \"data science\"] }\"\"\""
      ],
      "metadata": {
        "id": "zRiBGq_rORGk"
      },
      "execution_count": 109,
      "outputs": []
    },
    {
      "cell_type": "code",
      "source": [
        "#parse the JSON to create a Python dict\n",
        "deserialized = json.loads(serialized)"
      ],
      "metadata": {
        "id": "fkcymPR-PIe9"
      },
      "execution_count": 111,
      "outputs": []
    },
    {
      "cell_type": "code",
      "source": [
        "deserialized#파이썬 딕셔너리"
      ],
      "metadata": {
        "colab": {
          "base_uri": "https://localhost:8080/"
        },
        "id": "IW3ApzU1PnFa",
        "outputId": "d661abd5-fb05-4383-f36e-60d373776cfa"
      },
      "execution_count": 112,
      "outputs": [
        {
          "output_type": "execute_result",
          "data": {
            "text/plain": [
              "{'author': 'Joel Grus',\n",
              " 'publicationYear': 2019,\n",
              " 'title': 'Data Science Book',\n",
              " 'topics': ['data', 'science', 'data science']}"
            ]
          },
          "metadata": {},
          "execution_count": 112
        }
      ]
    },
    {
      "cell_type": "code",
      "source": [
        "deserialized[\"publicationYear\"]"
      ],
      "metadata": {
        "colab": {
          "base_uri": "https://localhost:8080/"
        },
        "id": "J-HQEdQbP2sb",
        "outputId": "0ecf35ed-eea3-4b5d-9b7c-8550044e862d"
      },
      "execution_count": 113,
      "outputs": [
        {
          "output_type": "execute_result",
          "data": {
            "text/plain": [
              "2019"
            ]
          },
          "metadata": {},
          "execution_count": 113
        }
      ]
    },
    {
      "cell_type": "code",
      "source": [
        "\"data science\" in deserialized[\"topics\"]"
      ],
      "metadata": {
        "colab": {
          "base_uri": "https://localhost:8080/"
        },
        "id": "zzbFSzVBP2yF",
        "outputId": "ee8bbb93-bb15-4303-ad74-83aaf34c5533"
      },
      "execution_count": 114,
      "outputs": [
        {
          "output_type": "execute_result",
          "data": {
            "text/plain": [
              "True"
            ]
          },
          "metadata": {},
          "execution_count": 114
        }
      ]
    },
    {
      "cell_type": "markdown",
      "source": [
        "인증이 필요하지 않은 API 사용하기"
      ],
      "metadata": {
        "id": "Q24E8GZxPufN"
      }
    },
    {
      "cell_type": "code",
      "source": [
        "import requests, json\n",
        "github_user = \"joelgrus\"\n",
        "endpoint = f\"https://api.github.com/users/{github_user}/repos\"\n",
        "repos = json.loads(requests.get(endpoint).text)       "
      ],
      "metadata": {
        "id": "5euOgk3-Pn8s"
      },
      "execution_count": 115,
      "outputs": []
    },
    {
      "cell_type": "code",
      "source": [
        "repos[0]"
      ],
      "metadata": {
        "colab": {
          "base_uri": "https://localhost:8080/"
        },
        "id": "7TcPBNr5QDkp",
        "outputId": "9c39b1c4-847f-4eb1-8277-61b1271cd545"
      },
      "execution_count": 119,
      "outputs": [
        {
          "output_type": "execute_result",
          "data": {
            "text/plain": [
              "{'allow_forking': True,\n",
              " 'archive_url': 'https://api.github.com/repos/joelgrus/advent2017/{archive_format}{/ref}',\n",
              " 'archived': False,\n",
              " 'assignees_url': 'https://api.github.com/repos/joelgrus/advent2017/assignees{/user}',\n",
              " 'blobs_url': 'https://api.github.com/repos/joelgrus/advent2017/git/blobs{/sha}',\n",
              " 'branches_url': 'https://api.github.com/repos/joelgrus/advent2017/branches{/branch}',\n",
              " 'clone_url': 'https://github.com/joelgrus/advent2017.git',\n",
              " 'collaborators_url': 'https://api.github.com/repos/joelgrus/advent2017/collaborators{/collaborator}',\n",
              " 'comments_url': 'https://api.github.com/repos/joelgrus/advent2017/comments{/number}',\n",
              " 'commits_url': 'https://api.github.com/repos/joelgrus/advent2017/commits{/sha}',\n",
              " 'compare_url': 'https://api.github.com/repos/joelgrus/advent2017/compare/{base}...{head}',\n",
              " 'contents_url': 'https://api.github.com/repos/joelgrus/advent2017/contents/{+path}',\n",
              " 'contributors_url': 'https://api.github.com/repos/joelgrus/advent2017/contributors',\n",
              " 'created_at': '2017-12-02T20:13:49Z',\n",
              " 'default_branch': 'master',\n",
              " 'deployments_url': 'https://api.github.com/repos/joelgrus/advent2017/deployments',\n",
              " 'description': 'advent of code 2017',\n",
              " 'disabled': False,\n",
              " 'downloads_url': 'https://api.github.com/repos/joelgrus/advent2017/downloads',\n",
              " 'events_url': 'https://api.github.com/repos/joelgrus/advent2017/events',\n",
              " 'fork': False,\n",
              " 'forks': 2,\n",
              " 'forks_count': 2,\n",
              " 'forks_url': 'https://api.github.com/repos/joelgrus/advent2017/forks',\n",
              " 'full_name': 'joelgrus/advent2017',\n",
              " 'git_commits_url': 'https://api.github.com/repos/joelgrus/advent2017/git/commits{/sha}',\n",
              " 'git_refs_url': 'https://api.github.com/repos/joelgrus/advent2017/git/refs{/sha}',\n",
              " 'git_tags_url': 'https://api.github.com/repos/joelgrus/advent2017/git/tags{/sha}',\n",
              " 'git_url': 'git://github.com/joelgrus/advent2017.git',\n",
              " 'has_downloads': True,\n",
              " 'has_issues': True,\n",
              " 'has_pages': False,\n",
              " 'has_projects': True,\n",
              " 'has_wiki': True,\n",
              " 'homepage': None,\n",
              " 'hooks_url': 'https://api.github.com/repos/joelgrus/advent2017/hooks',\n",
              " 'html_url': 'https://github.com/joelgrus/advent2017',\n",
              " 'id': 112873601,\n",
              " 'is_template': False,\n",
              " 'issue_comment_url': 'https://api.github.com/repos/joelgrus/advent2017/issues/comments{/number}',\n",
              " 'issue_events_url': 'https://api.github.com/repos/joelgrus/advent2017/issues/events{/number}',\n",
              " 'issues_url': 'https://api.github.com/repos/joelgrus/advent2017/issues{/number}',\n",
              " 'keys_url': 'https://api.github.com/repos/joelgrus/advent2017/keys{/key_id}',\n",
              " 'labels_url': 'https://api.github.com/repos/joelgrus/advent2017/labels{/name}',\n",
              " 'language': 'Python',\n",
              " 'languages_url': 'https://api.github.com/repos/joelgrus/advent2017/languages',\n",
              " 'license': None,\n",
              " 'merges_url': 'https://api.github.com/repos/joelgrus/advent2017/merges',\n",
              " 'milestones_url': 'https://api.github.com/repos/joelgrus/advent2017/milestones{/number}',\n",
              " 'mirror_url': None,\n",
              " 'name': 'advent2017',\n",
              " 'node_id': 'MDEwOlJlcG9zaXRvcnkxMTI4NzM2MDE=',\n",
              " 'notifications_url': 'https://api.github.com/repos/joelgrus/advent2017/notifications{?since,all,participating}',\n",
              " 'open_issues': 0,\n",
              " 'open_issues_count': 0,\n",
              " 'owner': {'avatar_url': 'https://avatars.githubusercontent.com/u/1308313?v=4',\n",
              "  'events_url': 'https://api.github.com/users/joelgrus/events{/privacy}',\n",
              "  'followers_url': 'https://api.github.com/users/joelgrus/followers',\n",
              "  'following_url': 'https://api.github.com/users/joelgrus/following{/other_user}',\n",
              "  'gists_url': 'https://api.github.com/users/joelgrus/gists{/gist_id}',\n",
              "  'gravatar_id': '',\n",
              "  'html_url': 'https://github.com/joelgrus',\n",
              "  'id': 1308313,\n",
              "  'login': 'joelgrus',\n",
              "  'node_id': 'MDQ6VXNlcjEzMDgzMTM=',\n",
              "  'organizations_url': 'https://api.github.com/users/joelgrus/orgs',\n",
              "  'received_events_url': 'https://api.github.com/users/joelgrus/received_events',\n",
              "  'repos_url': 'https://api.github.com/users/joelgrus/repos',\n",
              "  'site_admin': False,\n",
              "  'starred_url': 'https://api.github.com/users/joelgrus/starred{/owner}{/repo}',\n",
              "  'subscriptions_url': 'https://api.github.com/users/joelgrus/subscriptions',\n",
              "  'type': 'User',\n",
              "  'url': 'https://api.github.com/users/joelgrus'},\n",
              " 'private': False,\n",
              " 'pulls_url': 'https://api.github.com/repos/joelgrus/advent2017/pulls{/number}',\n",
              " 'pushed_at': '2017-12-26T15:02:27Z',\n",
              " 'releases_url': 'https://api.github.com/repos/joelgrus/advent2017/releases{/id}',\n",
              " 'size': 156,\n",
              " 'ssh_url': 'git@github.com:joelgrus/advent2017.git',\n",
              " 'stargazers_count': 7,\n",
              " 'stargazers_url': 'https://api.github.com/repos/joelgrus/advent2017/stargazers',\n",
              " 'statuses_url': 'https://api.github.com/repos/joelgrus/advent2017/statuses/{sha}',\n",
              " 'subscribers_url': 'https://api.github.com/repos/joelgrus/advent2017/subscribers',\n",
              " 'subscription_url': 'https://api.github.com/repos/joelgrus/advent2017/subscription',\n",
              " 'svn_url': 'https://github.com/joelgrus/advent2017',\n",
              " 'tags_url': 'https://api.github.com/repos/joelgrus/advent2017/tags',\n",
              " 'teams_url': 'https://api.github.com/repos/joelgrus/advent2017/teams',\n",
              " 'topics': [],\n",
              " 'trees_url': 'https://api.github.com/repos/joelgrus/advent2017/git/trees{/sha}',\n",
              " 'updated_at': '2021-07-07T08:44:01Z',\n",
              " 'url': 'https://api.github.com/repos/joelgrus/advent2017',\n",
              " 'visibility': 'public',\n",
              " 'watchers': 7,\n",
              " 'watchers_count': 7}"
            ]
          },
          "metadata": {},
          "execution_count": 119
        }
      ]
    },
    {
      "cell_type": "markdown",
      "source": [
        "내 repository로 해봐야지"
      ],
      "metadata": {
        "id": "-1fBWJ4mQP_F"
      }
    },
    {
      "cell_type": "code",
      "source": [
        "import requests, json\n",
        "github_user = \"superbunny38\"\n",
        "endpoint = f\"https://api.github.com/users/{github_user}/repos\"\n",
        "repos = json.loads(requests.get(endpoint).text)       "
      ],
      "metadata": {
        "id": "pkziM84nQEz3"
      },
      "execution_count": 120,
      "outputs": []
    },
    {
      "cell_type": "code",
      "source": [
        "repos[0]"
      ],
      "metadata": {
        "colab": {
          "base_uri": "https://localhost:8080/"
        },
        "id": "pP-9caN8QVlZ",
        "outputId": "640904d3-f6ed-4e65-818e-07500b70c8c1"
      },
      "execution_count": 121,
      "outputs": [
        {
          "output_type": "execute_result",
          "data": {
            "text/plain": [
              "{'allow_forking': True,\n",
              " 'archive_url': 'https://api.github.com/repos/superbunny38/2021Algorithms/{archive_format}{/ref}',\n",
              " 'archived': False,\n",
              " 'assignees_url': 'https://api.github.com/repos/superbunny38/2021Algorithms/assignees{/user}',\n",
              " 'blobs_url': 'https://api.github.com/repos/superbunny38/2021Algorithms/git/blobs{/sha}',\n",
              " 'branches_url': 'https://api.github.com/repos/superbunny38/2021Algorithms/branches{/branch}',\n",
              " 'clone_url': 'https://github.com/superbunny38/2021Algorithms.git',\n",
              " 'collaborators_url': 'https://api.github.com/repos/superbunny38/2021Algorithms/collaborators{/collaborator}',\n",
              " 'comments_url': 'https://api.github.com/repos/superbunny38/2021Algorithms/comments{/number}',\n",
              " 'commits_url': 'https://api.github.com/repos/superbunny38/2021Algorithms/commits{/sha}',\n",
              " 'compare_url': 'https://api.github.com/repos/superbunny38/2021Algorithms/compare/{base}...{head}',\n",
              " 'contents_url': 'https://api.github.com/repos/superbunny38/2021Algorithms/contents/{+path}',\n",
              " 'contributors_url': 'https://api.github.com/repos/superbunny38/2021Algorithms/contributors',\n",
              " 'created_at': '2021-06-29T08:05:33Z',\n",
              " 'default_branch': 'main',\n",
              " 'deployments_url': 'https://api.github.com/repos/superbunny38/2021Algorithms/deployments',\n",
              " 'description': None,\n",
              " 'disabled': False,\n",
              " 'downloads_url': 'https://api.github.com/repos/superbunny38/2021Algorithms/downloads',\n",
              " 'events_url': 'https://api.github.com/repos/superbunny38/2021Algorithms/events',\n",
              " 'fork': False,\n",
              " 'forks': 0,\n",
              " 'forks_count': 0,\n",
              " 'forks_url': 'https://api.github.com/repos/superbunny38/2021Algorithms/forks',\n",
              " 'full_name': 'superbunny38/2021Algorithms',\n",
              " 'git_commits_url': 'https://api.github.com/repos/superbunny38/2021Algorithms/git/commits{/sha}',\n",
              " 'git_refs_url': 'https://api.github.com/repos/superbunny38/2021Algorithms/git/refs{/sha}',\n",
              " 'git_tags_url': 'https://api.github.com/repos/superbunny38/2021Algorithms/git/tags{/sha}',\n",
              " 'git_url': 'git://github.com/superbunny38/2021Algorithms.git',\n",
              " 'has_downloads': True,\n",
              " 'has_issues': True,\n",
              " 'has_pages': False,\n",
              " 'has_projects': True,\n",
              " 'has_wiki': True,\n",
              " 'homepage': None,\n",
              " 'hooks_url': 'https://api.github.com/repos/superbunny38/2021Algorithms/hooks',\n",
              " 'html_url': 'https://github.com/superbunny38/2021Algorithms',\n",
              " 'id': 381287118,\n",
              " 'is_template': False,\n",
              " 'issue_comment_url': 'https://api.github.com/repos/superbunny38/2021Algorithms/issues/comments{/number}',\n",
              " 'issue_events_url': 'https://api.github.com/repos/superbunny38/2021Algorithms/issues/events{/number}',\n",
              " 'issues_url': 'https://api.github.com/repos/superbunny38/2021Algorithms/issues{/number}',\n",
              " 'keys_url': 'https://api.github.com/repos/superbunny38/2021Algorithms/keys{/key_id}',\n",
              " 'labels_url': 'https://api.github.com/repos/superbunny38/2021Algorithms/labels{/name}',\n",
              " 'language': 'Jupyter Notebook',\n",
              " 'languages_url': 'https://api.github.com/repos/superbunny38/2021Algorithms/languages',\n",
              " 'license': None,\n",
              " 'merges_url': 'https://api.github.com/repos/superbunny38/2021Algorithms/merges',\n",
              " 'milestones_url': 'https://api.github.com/repos/superbunny38/2021Algorithms/milestones{/number}',\n",
              " 'mirror_url': None,\n",
              " 'name': '2021Algorithms',\n",
              " 'node_id': 'MDEwOlJlcG9zaXRvcnkzODEyODcxMTg=',\n",
              " 'notifications_url': 'https://api.github.com/repos/superbunny38/2021Algorithms/notifications{?since,all,participating}',\n",
              " 'open_issues': 0,\n",
              " 'open_issues_count': 0,\n",
              " 'owner': {'avatar_url': 'https://avatars.githubusercontent.com/u/48243487?v=4',\n",
              "  'events_url': 'https://api.github.com/users/superbunny38/events{/privacy}',\n",
              "  'followers_url': 'https://api.github.com/users/superbunny38/followers',\n",
              "  'following_url': 'https://api.github.com/users/superbunny38/following{/other_user}',\n",
              "  'gists_url': 'https://api.github.com/users/superbunny38/gists{/gist_id}',\n",
              "  'gravatar_id': '',\n",
              "  'html_url': 'https://github.com/superbunny38',\n",
              "  'id': 48243487,\n",
              "  'login': 'superbunny38',\n",
              "  'node_id': 'MDQ6VXNlcjQ4MjQzNDg3',\n",
              "  'organizations_url': 'https://api.github.com/users/superbunny38/orgs',\n",
              "  'received_events_url': 'https://api.github.com/users/superbunny38/received_events',\n",
              "  'repos_url': 'https://api.github.com/users/superbunny38/repos',\n",
              "  'site_admin': False,\n",
              "  'starred_url': 'https://api.github.com/users/superbunny38/starred{/owner}{/repo}',\n",
              "  'subscriptions_url': 'https://api.github.com/users/superbunny38/subscriptions',\n",
              "  'type': 'User',\n",
              "  'url': 'https://api.github.com/users/superbunny38'},\n",
              " 'private': False,\n",
              " 'pulls_url': 'https://api.github.com/repos/superbunny38/2021Algorithms/pulls{/number}',\n",
              " 'pushed_at': '2021-12-22T13:02:17Z',\n",
              " 'releases_url': 'https://api.github.com/repos/superbunny38/2021Algorithms/releases{/id}',\n",
              " 'size': 307,\n",
              " 'ssh_url': 'git@github.com:superbunny38/2021Algorithms.git',\n",
              " 'stargazers_count': 0,\n",
              " 'stargazers_url': 'https://api.github.com/repos/superbunny38/2021Algorithms/stargazers',\n",
              " 'statuses_url': 'https://api.github.com/repos/superbunny38/2021Algorithms/statuses/{sha}',\n",
              " 'subscribers_url': 'https://api.github.com/repos/superbunny38/2021Algorithms/subscribers',\n",
              " 'subscription_url': 'https://api.github.com/repos/superbunny38/2021Algorithms/subscription',\n",
              " 'svn_url': 'https://github.com/superbunny38/2021Algorithms',\n",
              " 'tags_url': 'https://api.github.com/repos/superbunny38/2021Algorithms/tags',\n",
              " 'teams_url': 'https://api.github.com/repos/superbunny38/2021Algorithms/teams',\n",
              " 'topics': [],\n",
              " 'trees_url': 'https://api.github.com/repos/superbunny38/2021Algorithms/git/trees{/sha}',\n",
              " 'updated_at': '2021-12-22T13:02:19Z',\n",
              " 'url': 'https://api.github.com/repos/superbunny38/2021Algorithms',\n",
              " 'visibility': 'public',\n",
              " 'watchers': 0,\n",
              " 'watchers_count': 0}"
            ]
          },
          "metadata": {},
          "execution_count": 121
        }
      ]
    },
    {
      "cell_type": "markdown",
      "source": [
        "날짜가 유니코드 문자열로 되어있음\n",
        "\n",
        "```\n",
        "'created_at': '2021-06-29T08:05:33Z',\n",
        "```\n",
        "\n"
      ],
      "metadata": {
        "id": "27rp-Y-NQk02"
      }
    },
    {
      "cell_type": "code",
      "source": [
        "!python -m pip install python-dateutil"
      ],
      "metadata": {
        "colab": {
          "base_uri": "https://localhost:8080/"
        },
        "id": "XJp5KywXQYPU",
        "outputId": "520b8c2b-2dd7-4d82-aa97-df3425fd1b3f"
      },
      "execution_count": 122,
      "outputs": [
        {
          "output_type": "stream",
          "name": "stdout",
          "text": [
            "Requirement already satisfied: python-dateutil in /usr/local/lib/python3.7/dist-packages (2.8.2)\n",
            "Requirement already satisfied: six>=1.5 in /usr/local/lib/python3.7/dist-packages (from python-dateutil) (1.15.0)\n"
          ]
        }
      ]
    },
    {
      "cell_type": "code",
      "source": [
        "from collections import Counter\n",
        "from dateutil.parser import parse\n",
        "dates = [parse(repo[\"created_at\"]) for repo in repos]#parse date\n",
        "month_counts = Counter(date.month for date in dates)\n",
        "weekday_counts = Counter(date.weekday() for date in dates)"
      ],
      "metadata": {
        "id": "7KFbSCUEQsW9"
      },
      "execution_count": 123,
      "outputs": []
    },
    {
      "cell_type": "code",
      "source": [
        "dates"
      ],
      "metadata": {
        "colab": {
          "base_uri": "https://localhost:8080/"
        },
        "id": "cFP7LgrPQ3ji",
        "outputId": "48276ba9-a006-4efa-972b-28fcfac0b3d3"
      },
      "execution_count": 124,
      "outputs": [
        {
          "output_type": "execute_result",
          "data": {
            "text/plain": [
              "[datetime.datetime(2021, 6, 29, 8, 5, 33, tzinfo=tzlocal()),\n",
              " datetime.datetime(2021, 6, 29, 8, 8, 18, tzinfo=tzlocal()),\n",
              " datetime.datetime(2021, 6, 29, 8, 9, 47, tzinfo=tzlocal()),\n",
              " datetime.datetime(2021, 11, 16, 15, 7, 2, tzinfo=tzlocal()),\n",
              " datetime.datetime(2019, 6, 5, 11, 29, 29, tzinfo=tzlocal()),\n",
              " datetime.datetime(2019, 7, 1, 10, 10, 25, tzinfo=tzlocal()),\n",
              " datetime.datetime(2019, 4, 9, 9, 46, 49, tzinfo=tzlocal()),\n",
              " datetime.datetime(2019, 5, 21, 8, 11, 8, tzinfo=tzlocal()),\n",
              " datetime.datetime(2021, 6, 29, 13, 45, 1, tzinfo=tzlocal()),\n",
              " datetime.datetime(2019, 5, 21, 8, 22, 7, tzinfo=tzlocal()),\n",
              " datetime.datetime(2021, 7, 15, 2, 8, 14, tzinfo=tzlocal()),\n",
              " datetime.datetime(2019, 4, 11, 7, 6, 41, tzinfo=tzlocal()),\n",
              " datetime.datetime(2021, 11, 11, 16, 7, 5, tzinfo=tzlocal()),\n",
              " datetime.datetime(2019, 3, 5, 10, 56, 49, tzinfo=tzlocal()),\n",
              " datetime.datetime(2021, 12, 20, 11, 22, 49, tzinfo=tzlocal()),\n",
              " datetime.datetime(2019, 5, 8, 7, 17, 42, tzinfo=tzlocal()),\n",
              " datetime.datetime(2019, 6, 5, 13, 46, 39, tzinfo=tzlocal()),\n",
              " datetime.datetime(2021, 6, 29, 4, 34, 49, tzinfo=tzlocal()),\n",
              " datetime.datetime(2019, 3, 25, 11, 11, 31, tzinfo=tzlocal()),\n",
              " datetime.datetime(2021, 8, 6, 4, 42, 45, tzinfo=tzlocal()),\n",
              " datetime.datetime(2021, 1, 23, 15, 49, 2, tzinfo=tzlocal()),\n",
              " datetime.datetime(2019, 5, 7, 14, 10, 22, tzinfo=tzlocal()),\n",
              " datetime.datetime(2019, 3, 7, 1, 14, 36, tzinfo=tzlocal()),\n",
              " datetime.datetime(2019, 5, 8, 7, 22, 2, tzinfo=tzlocal())]"
            ]
          },
          "metadata": {},
          "execution_count": 124
        }
      ]
    },
    {
      "cell_type": "code",
      "source": [
        "month_counts"
      ],
      "metadata": {
        "colab": {
          "base_uri": "https://localhost:8080/"
        },
        "id": "e2KhThdVQ54F",
        "outputId": "bc8d8839-a5b5-4942-d524-282fb81ca4d4"
      },
      "execution_count": 125,
      "outputs": [
        {
          "output_type": "execute_result",
          "data": {
            "text/plain": [
              "Counter({1: 1, 3: 3, 4: 2, 5: 5, 6: 7, 7: 2, 8: 1, 11: 2, 12: 1})"
            ]
          },
          "metadata": {},
          "execution_count": 125
        }
      ]
    },
    {
      "cell_type": "code",
      "source": [
        "for m,c in month_counts.items():\n",
        "  print(\"month: {} count: {}\".format(m,c))"
      ],
      "metadata": {
        "colab": {
          "base_uri": "https://localhost:8080/"
        },
        "id": "lB0hX_fzRD2K",
        "outputId": "e8a06717-7d68-4644-87c0-01fd7e6cac46"
      },
      "execution_count": 129,
      "outputs": [
        {
          "output_type": "stream",
          "name": "stdout",
          "text": [
            "month: 6 count: 7\n",
            "month: 11 count: 2\n",
            "month: 7 count: 2\n",
            "month: 4 count: 2\n",
            "month: 5 count: 5\n",
            "month: 3 count: 3\n",
            "month: 12 count: 1\n",
            "month: 8 count: 1\n",
            "month: 1 count: 1\n"
          ]
        }
      ]
    },
    {
      "cell_type": "code",
      "source": [
        "weekday_counts"
      ],
      "metadata": {
        "colab": {
          "base_uri": "https://localhost:8080/"
        },
        "id": "DzcwNOYiQ8Ex",
        "outputId": "a1981c4a-db7a-41fe-a783-bd126d56d3e3"
      },
      "execution_count": 126,
      "outputs": [
        {
          "output_type": "execute_result",
          "data": {
            "text/plain": [
              "Counter({0: 3, 1: 11, 2: 4, 3: 4, 4: 1, 5: 1})"
            ]
          },
          "metadata": {},
          "execution_count": 126
        }
      ]
    },
    {
      "cell_type": "markdown",
      "source": [
        "가장 최근에 만든 저장소 9개"
      ],
      "metadata": {
        "id": "TeTLJPyHRXwC"
      }
    },
    {
      "cell_type": "code",
      "source": [
        "last_9_repositories = sorted(repos, key = lambda r: r[\"pushed_at\"], reverse = True)[:9]"
      ],
      "metadata": {
        "id": "elsHGn9-Q-RC"
      },
      "execution_count": 140,
      "outputs": []
    },
    {
      "cell_type": "code",
      "source": [
        "for repo in last_9_repositories:\n",
        "  print(repo['full_name'][13:])"
      ],
      "metadata": {
        "colab": {
          "base_uri": "https://localhost:8080/"
        },
        "id": "XWcHoOBGRgZS",
        "outputId": "060e6a33-7067-4adf-8773-1dfe13dada96"
      },
      "execution_count": 141,
      "outputs": [
        {
          "output_type": "stream",
          "name": "stdout",
          "text": [
            "2021DataScience\n",
            "2021Algorithms\n",
            "2021DeepLearning\n",
            "Projects\n",
            "2021IDLFinalProject\n",
            "Others\n",
            "superbunny38\n",
            "MachineLearningTextbook\n",
            "Textbook-of-MachineLearning\n"
          ]
        }
      ]
    },
    {
      "cell_type": "markdown",
      "source": [
        "최근 레포지토리에서 사용한 언어"
      ],
      "metadata": {
        "id": "5dlnHx6KR6am"
      }
    },
    {
      "cell_type": "code",
      "source": [
        "languages = [repo[\"language\"] for repo in last_9_repositories]"
      ],
      "metadata": {
        "id": "akNDZUmNRh1L"
      },
      "execution_count": 142,
      "outputs": []
    },
    {
      "cell_type": "code",
      "source": [
        "languages"
      ],
      "metadata": {
        "colab": {
          "base_uri": "https://localhost:8080/"
        },
        "id": "fkwFMqPDSOVF",
        "outputId": "7e86781e-c089-4882-c840-f0164ba54713"
      },
      "execution_count": 143,
      "outputs": [
        {
          "output_type": "execute_result",
          "data": {
            "text/plain": [
              "['Jupyter Notebook',\n",
              " 'Jupyter Notebook',\n",
              " 'Jupyter Notebook',\n",
              " 'Jupyter Notebook',\n",
              " None,\n",
              " 'R',\n",
              " None,\n",
              " 'Jupyter Notebook',\n",
              " 'Jupyter Notebook']"
            ]
          },
          "metadata": {},
          "execution_count": 143
        }
      ]
    },
    {
      "cell_type": "markdown",
      "source": [
        "### API 찾기\n",
        "API를 찾을 수 없다면 최후의 보루인 스크래핑이 있다"
      ],
      "metadata": {
        "id": "L7gEJQTvSWgg"
      }
    },
    {
      "cell_type": "markdown",
      "source": [
        "### 예시: 트위터 API 사용하기"
      ],
      "metadata": {
        "id": "YEsAytooSmdz"
      }
    },
    {
      "cell_type": "code",
      "source": [
        "#음 트위터 계정 만들기 싫군"
      ],
      "metadata": {
        "id": "74OhAAw8SPmY"
      },
      "execution_count": null,
      "outputs": []
    }
  ]
}