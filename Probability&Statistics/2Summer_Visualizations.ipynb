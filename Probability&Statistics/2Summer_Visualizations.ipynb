{
  "nbformat": 4,
  "nbformat_minor": 0,
  "metadata": {
    "colab": {
      "name": "2Summer_Visualizations.ipynb",
      "provenance": [],
      "collapsed_sections": [],
      "authorship_tag": "ABX9TyOX0aTigIr2Y+nI6wtbkml3",
      "include_colab_link": true
    },
    "kernelspec": {
      "name": "python3",
      "display_name": "Python 3"
    },
    "language_info": {
      "name": "python"
    }
  },
  "cells": [
    {
      "cell_type": "markdown",
      "metadata": {
        "id": "view-in-github",
        "colab_type": "text"
      },
      "source": [
        "<a href=\"https://colab.research.google.com/github/superbunny38/DataScience/blob/main/Probability%26Statistics/2Summer_Visualizations.ipynb\" target=\"_parent\"><img src=\"https://colab.research.google.com/assets/colab-badge.svg\" alt=\"Open In Colab\"/></a>"
      ]
    },
    {
      "cell_type": "code",
      "execution_count": 11,
      "metadata": {
        "id": "bQz43fhOY0Eb"
      },
      "outputs": [],
      "source": [
        "import numpy as np\n",
        "import pandas as pd\n",
        "import matplotlib.pyplot as plt\n",
        "import nltk"
      ]
    },
    {
      "cell_type": "markdown",
      "source": [
        "# Frequency Table"
      ],
      "metadata": {
        "id": "cvC5v64FZuVg"
      }
    },
    {
      "cell_type": "code",
      "source": [
        "brown,yellow,red,orange,green,blue = \"brown\",\"yellow\",\"red\",\"orange\",\"green\",\"blue\""
      ],
      "metadata": {
        "id": "Xuk0dJg9ZVGn"
      },
      "execution_count": 4,
      "outputs": []
    },
    {
      "cell_type": "code",
      "source": [
        "colors = [brown, brown, yellow, red, red, red, brown, \n",
        "orange, blue, green, blue, brown, yellow, \n",
        "yellow, brown, red, red, brown, brown, \n",
        "brown, green, blue, green, orange, orange, \n",
        "yellow, yellow, yellow, red, brown, red, \n",
        "brown, orange, green, red, brown, yellow, \n",
        "orange, red, green, yellow, yellow, brown, \n",
        "yellow, orange]"
      ],
      "metadata": {
        "id": "4OJ85qrSZPip"
      },
      "execution_count": 5,
      "outputs": []
    },
    {
      "cell_type": "code",
      "source": [
        "data1 = pd.Series(colors)"
      ],
      "metadata": {
        "id": "-FaS0AcvZdsQ"
      },
      "execution_count": 6,
      "outputs": []
    },
    {
      "cell_type": "code",
      "source": [
        "data1.value_counts()"
      ],
      "metadata": {
        "colab": {
          "base_uri": "https://localhost:8080/"
        },
        "id": "z96jXMktZpa0",
        "outputId": "d4699330-cce0-4e82-9e19-92038abe6e97"
      },
      "execution_count": 7,
      "outputs": [
        {
          "output_type": "execute_result",
          "data": {
            "text/plain": [
              "brown     12\n",
              "yellow    10\n",
              "red        9\n",
              "orange     6\n",
              "green      5\n",
              "blue       3\n",
              "dtype: int64"
            ]
          },
          "metadata": {},
          "execution_count": 7
        }
      ]
    },
    {
      "cell_type": "code",
      "source": [
        "fd = nltk.FreqDist(colors)\n",
        "fd"
      ],
      "metadata": {
        "colab": {
          "base_uri": "https://localhost:8080/"
        },
        "id": "FCK8KZGAZs5_",
        "outputId": "d3f27245-270d-4a35-ced2-5d536e2176ce"
      },
      "execution_count": 13,
      "outputs": [
        {
          "output_type": "execute_result",
          "data": {
            "text/plain": [
              "FreqDist({'blue': 3,\n",
              "          'brown': 12,\n",
              "          'green': 5,\n",
              "          'orange': 6,\n",
              "          'red': 9,\n",
              "          'yellow': 10})"
            ]
          },
          "metadata": {},
          "execution_count": 13
        }
      ]
    },
    {
      "cell_type": "markdown",
      "source": [
        "Relative frequency"
      ],
      "metadata": {
        "id": "IE3O6tn8an9c"
      }
    },
    {
      "cell_type": "code",
      "source": [
        "freq_dict = {}\n",
        "for k,v in fd.items():\n",
        "  print(f\"{k}: freq: {v}, relative freq: {v/sum(fd.values())}\")\n",
        "  freq_dict[k] = v/sum(fd.values())"
      ],
      "metadata": {
        "colab": {
          "base_uri": "https://localhost:8080/"
        },
        "id": "kGtVjZR9Z7_Z",
        "outputId": "caf34616-c4ca-45c1-8d0c-ea931f494a50"
      },
      "execution_count": 24,
      "outputs": [
        {
          "output_type": "stream",
          "name": "stdout",
          "text": [
            "brown: freq: 12, relative freq: 0.26666666666666666\n",
            "yellow: freq: 10, relative freq: 0.2222222222222222\n",
            "red: freq: 9, relative freq: 0.2\n",
            "orange: freq: 6, relative freq: 0.13333333333333333\n",
            "blue: freq: 3, relative freq: 0.06666666666666667\n",
            "green: freq: 5, relative freq: 0.1111111111111111\n"
          ]
        }
      ]
    },
    {
      "cell_type": "markdown",
      "source": [
        "## frequency bar graph"
      ],
      "metadata": {
        "id": "UrjqZf1IbV4r"
      }
    },
    {
      "cell_type": "code",
      "source": [
        "plt.hist(colors,bins=np.arange(7)-0.5,rwidth=0.5)\n",
        "plt.xlabel(\"Color\")\n",
        "plt.ylabel(\"Frequency\")\n",
        "plt.title(\"Bar Graph for M&M Color\")"
      ],
      "metadata": {
        "colab": {
          "base_uri": "https://localhost:8080/",
          "height": 313
        },
        "id": "J0OxwaLFarFs",
        "outputId": "e8f8a9ac-040f-403c-f476-9efc91965f9f"
      },
      "execution_count": 41,
      "outputs": [
        {
          "output_type": "execute_result",
          "data": {
            "text/plain": [
              "Text(0.5, 1.0, 'Bar Graph for M&M Color')"
            ]
          },
          "metadata": {},
          "execution_count": 41
        },
        {
          "output_type": "display_data",
          "data": {
            "text/plain": [
              "<Figure size 432x288 with 1 Axes>"
            ],
            "image/png": "[encoded data removed]"
          },
          "metadata": {
            "needs_background": "light"
          }
        }
      ]
    },
    {
      "cell_type": "code",
      "source": [
        "freq_dict#relative frequency"
      ],
      "metadata": {
        "colab": {
          "base_uri": "https://localhost:8080/"
        },
        "id": "CQz-gVQobqfj",
        "outputId": "65af3b9b-98fd-4c71-a78a-155052c8f3b1"
      },
      "execution_count": 26,
      "outputs": [
        {
          "output_type": "execute_result",
          "data": {
            "text/plain": [
              "{'blue': 0.06666666666666667,\n",
              " 'brown': 0.26666666666666666,\n",
              " 'green': 0.1111111111111111,\n",
              " 'orange': 0.13333333333333333,\n",
              " 'red': 0.2,\n",
              " 'yellow': 0.2222222222222222}"
            ]
          },
          "metadata": {},
          "execution_count": 26
        }
      ]
    },
    {
      "cell_type": "code",
      "source": [
        "plt.bar(freq_dict.keys(),freq_dict.values())\n",
        "plt.xlabel(\"Color\")\n",
        "plt.ylabel(\"Relative Frequency\")\n",
        "plt.title(\"Bar Graph for M&M Color\")"
      ],
      "metadata": {
        "colab": {
          "base_uri": "https://localhost:8080/",
          "height": 313
        },
        "id": "09irx5lUbO6g",
        "outputId": "8e8dcf04-2258-4870-81b3-29174f172f47"
      },
      "execution_count": 42,
      "outputs": [
        {
          "output_type": "execute_result",
          "data": {
            "text/plain": [
              "Text(0.5, 1.0, 'Bar Graph for M&M Color')"
            ]
          },
          "metadata": {},
          "execution_count": 42
        },
        {
          "output_type": "display_data",
          "data": {
            "text/plain": [
              "<Figure size 432x288 with 1 Axes>"
            ],
            "image/png": "[encoded data removed]"
          },
          "metadata": {
            "needs_background": "light"
          }
        }
      ]
    },
    {
      "cell_type": "markdown",
      "source": [
        "## Pareto Chart"
      ],
      "metadata": {
        "id": "NCImXtxsio_w"
      }
    },
    {
      "cell_type": "code",
      "source": [
        "df = pd.DataFrame({'color':freq_dict.keys(),'rf':freq_dict.values()})"
      ],
      "metadata": {
        "id": "RKMiTSBpixa6"
      },
      "execution_count": 45,
      "outputs": []
    },
    {
      "cell_type": "code",
      "source": [
        "pareto = df.sort_values(by='rf',ascending=False)"
      ],
      "metadata": {
        "id": "f8BfYa-hbpKp"
      },
      "execution_count": 46,
      "outputs": []
    },
    {
      "cell_type": "code",
      "source": [
        "plt.bar(pareto['color'],pareto['rf'])\n",
        "plt.xlabel(\"Color\")\n",
        "plt.ylabel(\"Relative Frequency\")\n",
        "plt.ylim(0,0.3)\n",
        "plt.title(\"Bar Graph for M&M Color\")"
      ],
      "metadata": {
        "colab": {
          "base_uri": "https://localhost:8080/",
          "height": 313
        },
        "id": "9fdEv2phisaD",
        "outputId": "9031e3d1-d0c1-424f-d38a-af6da214b916"
      },
      "execution_count": 48,
      "outputs": [
        {
          "output_type": "execute_result",
          "data": {
            "text/plain": [
              "Text(0.5, 1.0, 'Bar Graph for M&M Color')"
            ]
          },
          "metadata": {},
          "execution_count": 48
        },
        {
          "output_type": "display_data",
          "data": {
            "text/plain": [
              "<Figure size 432x288 with 1 Axes>"
            ],
            "image/png": "[encoded data removed]"
          },
          "metadata": {
            "needs_background": "light"
          }
        }
      ]
    },
    {
      "cell_type": "markdown",
      "source": [
        "## Comparing Two Data Sets"
      ],
      "metadata": {
        "id": "OmJ_Slr6jTjD"
      }
    },
    {
      "cell_type": "code",
      "source": [
        "df2 = pd.DataFrame({'Marital Status':['Never married','Married','Widowed','Divorced'],\n",
        "                    '1990':[40.4,112.6,13.8,15.1],\n",
        "                    '2006':[55.3,127.7,13.9,22.8]})\n"
      ],
      "metadata": {
        "id": "FLvGVNhzjGHp"
      },
      "execution_count": 49,
      "outputs": []
    },
    {
      "cell_type": "code",
      "source": [
        "df2['1990rf'] = [x/sum(df2['1990']) for x in df2['1990']]\n",
        "df2['2006rf'] = [x/sum(df2['2006']) for x in df2['2006']]"
      ],
      "metadata": {
        "id": "eDmrAr3tjlgE"
      },
      "execution_count": 51,
      "outputs": []
    },
    {
      "cell_type": "code",
      "source": [
        "df2"
      ],
      "metadata": {
        "colab": {
          "base_uri": "https://localhost:8080/",
          "height": 175
        },
        "id": "qhxfh_ockSQG",
        "outputId": "d27f7fa0-38c4-4bc7-9416-2799244857b7"
      },
      "execution_count": 52,
      "outputs": [
        {
          "output_type": "execute_result",
          "data": {
            "text/plain": [
              "  Marital Status   1990   2006    1990rf    2006rf\n",
              "0  Never married   40.4   55.3  0.222100  0.251707\n",
              "1        Married  112.6  127.7  0.619021  0.581247\n",
              "2        Widowed   13.8   13.9  0.075866  0.063268\n",
              "3       Divorced   15.1   22.8  0.083013  0.103778"
            ],
            "text/html": [
              "\n",
              "  <div id=\"df-fab214e9-2061-49f6-b2cf-8786fb0a1d42\">\n",
              "    <div class=\"colab-df-container\">\n",
              "      <div>\n",
              "<style scoped>\n",
              "    .dataframe tbody tr th:only-of-type {\n",
              "        vertical-align: middle;\n",
              "    }\n",
              "\n",
              "    .dataframe tbody tr th {\n",
              "        vertical-align: top;\n",
              "    }\n",
              "\n",
              "    .dataframe thead th {\n",
              "        text-align: right;\n",
              "    }\n",
              "</style>\n",
              "<table border=\"1\" class=\"dataframe\">\n",
              "  <thead>\n",
              "    <tr style=\"text-align: right;\">\n",
              "      <th></th>\n",
              "      <th>Marital Status</th>\n",
              "      <th>1990</th>\n",
              "      <th>2006</th>\n",
              "      <th>1990rf</th>\n",
              "      <th>2006rf</th>\n",
              "    </tr>\n",
              "  </thead>\n",
              "  <tbody>\n",
              "    <tr>\n",
              "      <th>0</th>\n",
              "      <td>Never married</td>\n",
              "      <td>40.4</td>\n",
              "      <td>55.3</td>\n",
              "      <td>0.222100</td>\n",
              "      <td>0.251707</td>\n",
              "    </tr>\n",
              "    <tr>\n",
              "      <th>1</th>\n",
              "      <td>Married</td>\n",
              "      <td>112.6</td>\n",
              "      <td>127.7</td>\n",
              "      <td>0.619021</td>\n",
              "      <td>0.581247</td>\n",
              "    </tr>\n",
              "    <tr>\n",
              "      <th>2</th>\n",
              "      <td>Widowed</td>\n",
              "      <td>13.8</td>\n",
              "      <td>13.9</td>\n",
              "      <td>0.075866</td>\n",
              "      <td>0.063268</td>\n",
              "    </tr>\n",
              "    <tr>\n",
              "      <th>3</th>\n",
              "      <td>Divorced</td>\n",
              "      <td>15.1</td>\n",
              "      <td>22.8</td>\n",
              "      <td>0.083013</td>\n",
              "      <td>0.103778</td>\n",
              "    </tr>\n",
              "  </tbody>\n",
              "</table>\n",
              "</div>\n",
              "      <button class=\"colab-df-convert\" onclick=\"convertToInteractive('df-fab214e9-2061-49f6-b2cf-8786fb0a1d42')\"\n",
              "              title=\"Convert this dataframe to an interactive table.\"\n",
              "              style=\"display:none;\">\n",
              "        \n",
              "  <svg xmlns=\"http://www.w3.org/2000/svg\" height=\"24px\"viewBox=\"0 0 24 24\"\n",
              "       width=\"24px\">\n",
              "    <path d=\"M0 0h24v24H0V0z\" fill=\"none\"/>\n",
              "    <path d=\"M18.56 5.44l.94 2.06.94-2.06 2.06-.94-2.06-.94-.94-2.06-.94 2.06-2.06.94zm-11 1L8.5 8.5l.94-2.06 2.06-.94-2.06-.94L8.5 2.5l-.94 2.06-2.06.94zm10 10l.94 2.06.94-2.06 2.06-.94-2.06-.94-.94-2.06-.94 2.06-2.06.94z\"/><path d=\"M17.41 7.96l-1.37-1.37c-.4-.4-.92-.59-1.43-.59-.52 0-1.04.2-1.43.59L10.3 9.45l-7.72 7.72c-.78.78-.78 2.05 0 2.83L4 21.41c.39.39.9.59 1.41.59.51 0 1.02-.2 1.41-.59l7.78-7.78 2.81-2.81c.8-.78.8-2.07 0-2.86zM5.41 20L4 18.59l7.72-7.72 1.47 1.35L5.41 20z\"/>\n",
              "  </svg>\n",
              "      </button>\n",
              "      \n",
              "  <style>\n",
              "    .colab-df-container {\n",
              "      display:flex;\n",
              "      flex-wrap:wrap;\n",
              "      gap: 12px;\n",
              "    }\n",
              "\n",
              "    .colab-df-convert {\n",
              "      background-color: #E8F0FE;\n",
              "      border: none;\n",
              "      border-radius: 50%;\n",
              "      cursor: pointer;\n",
              "      display: none;\n",
              "      fill: #1967D2;\n",
              "      height: 32px;\n",
              "      padding: 0 0 0 0;\n",
              "      width: 32px;\n",
              "    }\n",
              "\n",
              "    .colab-df-convert:hover {\n",
              "      background-color: #E2EBFA;\n",
              "      box-shadow: 0px 1px 2px rgba(60, 64, 67, 0.3), 0px 1px 3px 1px rgba(60, 64, 67, 0.15);\n",
              "      fill: #174EA6;\n",
              "    }\n",
              "\n",
              "    [theme=dark] .colab-df-convert {\n",
              "      background-color: #3B4455;\n",
              "      fill: #D2E3FC;\n",
              "    }\n",
              "\n",
              "    [theme=dark] .colab-df-convert:hover {\n",
              "      background-color: #434B5C;\n",
              "      box-shadow: 0px 1px 3px 1px rgba(0, 0, 0, 0.15);\n",
              "      filter: drop-shadow(0px 1px 2px rgba(0, 0, 0, 0.3));\n",
              "      fill: #FFFFFF;\n",
              "    }\n",
              "  </style>\n",
              "\n",
              "      <script>\n",
              "        const buttonEl =\n",
              "          document.querySelector('#df-fab214e9-2061-49f6-b2cf-8786fb0a1d42 button.colab-df-convert');\n",
              "        buttonEl.style.display =\n",
              "          google.colab.kernel.accessAllowed ? 'block' : 'none';\n",
              "\n",
              "        async function convertToInteractive(key) {\n",
              "          const element = document.querySelector('#df-fab214e9-2061-49f6-b2cf-8786fb0a1d42');\n",
              "          const dataTable =\n",
              "            await google.colab.kernel.invokeFunction('convertToInteractive',\n",
              "                                                     [key], {});\n",
              "          if (!dataTable) return;\n",
              "\n",
              "          const docLinkHtml = 'Like what you see? Visit the ' +\n",
              "            '<a target=\"_blank\" href=https://colab.research.google.com/notebooks/data_table.ipynb>data table notebook</a>'\n",
              "            + ' to learn more about interactive tables.';\n",
              "          element.innerHTML = '';\n",
              "          dataTable['output_type'] = 'display_data';\n",
              "          await google.colab.output.renderOutput(dataTable, element);\n",
              "          const docLink = document.createElement('div');\n",
              "          docLink.innerHTML = docLinkHtml;\n",
              "          element.appendChild(docLink);\n",
              "        }\n",
              "      </script>\n",
              "    </div>\n",
              "  </div>\n",
              "  "
            ]
          },
          "metadata": {},
          "execution_count": 52
        }
      ]
    },
    {
      "cell_type": "code",
      "source": [
        "df2.plot.bar(x = 'Marital Status', y = ['1990rf', '2006rf'], rot = 40)\n",
        "plt.title(\"Marital Status in 1990 vs 2006\")\n",
        "plt.ylabel(\"Relative Frequency\")\n",
        "plt.ylim(0,0.7)"
      ],
      "metadata": {
        "colab": {
          "base_uri": "https://localhost:8080/",
          "height": 357
        },
        "id": "bMNuQAgGkXcy",
        "outputId": "d127a68c-c229-4b0f-c767-41d6729e64f3"
      },
      "execution_count": 58,
      "outputs": [
        {
          "output_type": "execute_result",
          "data": {
            "text/plain": [
              "(0.0, 0.7)"
            ]
          },
          "metadata": {},
          "execution_count": 58
        },
        {
          "output_type": "display_data",
          "data": {
            "text/plain": [
              "<Figure size 432x288 with 1 Axes>"
            ],
            "image/png": "[encoded data removed]"
          },
          "metadata": {
            "needs_background": "light"
          }
        }
      ]
    },
    {
      "cell_type": "markdown",
      "source": [
        "## Pie Chart"
      ],
      "metadata": {
        "id": "RC9hjbgjlHQN"
      }
    },
    {
      "cell_type": "code",
      "source": [
        "pie_df = pd.DataFrame({'Marital Status':['Never married','Married','Widowed','Divorced'],'Frequency':[55.3,127.7,13.9,22.8]})"
      ],
      "metadata": {
        "id": "6mY35Rb6ks6E"
      },
      "execution_count": 60,
      "outputs": []
    },
    {
      "cell_type": "code",
      "source": [
        "plt.pie(pie_df['Frequency'],labels = pie_df['Marital Status'],autopct='%.0f%%')\n",
        "plt.show()"
      ],
      "metadata": {
        "colab": {
          "base_uri": "https://localhost:8080/",
          "height": 248
        },
        "id": "A4iOskIJlJ54",
        "outputId": "7d8f6f34-eeb3-45fc-e135-fb46a55fd22c"
      },
      "execution_count": 66,
      "outputs": [
        {
          "output_type": "display_data",
          "data": {
            "text/plain": [
              "<Figure size 432x288 with 1 Axes>"
            ],
            "image/png": "[encoded data removed]"
          },
          "metadata": {}
        }
      ]
    },
    {
      "cell_type": "markdown",
      "source": [
        "# Organize Discrete Data in Tables"
      ],
      "metadata": {
        "id": "pKK4e3A5nuUJ"
      }
    },
    {
      "cell_type": "markdown",
      "source": [
        "The following data represent the number of available cars in a \n",
        "household based on a random sample of 50 households. Construct \n",
        "a frequency and relative frequency distribution.\n"
      ],
      "metadata": {
        "id": "uk6V1q8DoEqP"
      }
    },
    {
      "cell_type": "code",
      "source": [
        "cars = [3, 0, 1, 2, 1, 1, 1, 2, 0, 2,\n",
        "4, 2, 2, 2, 1, 2, 2, 0, 2 ,4,\n",
        "1, 1, 3, 2, 4, 1, 2, 1 ,2 ,2,\n",
        "3, 3, 2, 1, 2, 2, 0, 3, 2 ,2,\n",
        "2, 3, 2, 1, 2, 2, 1, 1, 3 ,5]"
      ],
      "metadata": {
        "id": "FXAztGYaldFT"
      },
      "execution_count": 67,
      "outputs": []
    },
    {
      "cell_type": "code",
      "source": [
        "len(cars)"
      ],
      "metadata": {
        "colab": {
          "base_uri": "https://localhost:8080/"
        },
        "id": "LXmbOUb0oVIJ",
        "outputId": "e5da91c4-9fe4-47a6-96ec-06374aec6efd"
      },
      "execution_count": 68,
      "outputs": [
        {
          "output_type": "execute_result",
          "data": {
            "text/plain": [
              "50"
            ]
          },
          "metadata": {},
          "execution_count": 68
        }
      ]
    },
    {
      "cell_type": "code",
      "source": [
        "car_fd = nltk.FreqDist(cars)\n",
        "car_fd"
      ],
      "metadata": {
        "colab": {
          "base_uri": "https://localhost:8080/"
        },
        "id": "KVHKJBGIoWyj",
        "outputId": "7d05a213-acae-48f3-ec95-157ff01b126f"
      },
      "execution_count": 71,
      "outputs": [
        {
          "output_type": "execute_result",
          "data": {
            "text/plain": [
              "FreqDist({0: 4, 1: 13, 2: 22, 3: 7, 4: 3, 5: 1})"
            ]
          },
          "metadata": {},
          "execution_count": 71
        }
      ]
    },
    {
      "cell_type": "code",
      "source": [
        "car_fd.keys()"
      ],
      "metadata": {
        "colab": {
          "base_uri": "https://localhost:8080/"
        },
        "id": "h5PAl9Quo9pV",
        "outputId": "bd5cb86f-3682-49c3-c592-e23711c0cc77"
      },
      "execution_count": 75,
      "outputs": [
        {
          "output_type": "execute_result",
          "data": {
            "text/plain": [
              "dict_keys([3, 0, 1, 2, 4, 5])"
            ]
          },
          "metadata": {},
          "execution_count": 75
        }
      ]
    },
    {
      "cell_type": "code",
      "source": [
        "car_fd.values()"
      ],
      "metadata": {
        "colab": {
          "base_uri": "https://localhost:8080/"
        },
        "id": "AGTVfghLpBW7",
        "outputId": "9ca5631d-fc68-4aa5-c7e6-cf9c0edca248"
      },
      "execution_count": 77,
      "outputs": [
        {
          "output_type": "execute_result",
          "data": {
            "text/plain": [
              "dict_values([7, 4, 13, 22, 3, 1])"
            ]
          },
          "metadata": {},
          "execution_count": 77
        }
      ]
    },
    {
      "cell_type": "code",
      "source": [
        "car_df = pd.DataFrame({'# of Cars':car_fd.keys(),\n",
        "             'Frequency':car_fd.values()})\n",
        "car_df['Relative Frequency'] = [x/sum(car_df['Frequency']) for x in car_df['Frequency']]"
      ],
      "metadata": {
        "id": "s7uX7dmeobhy"
      },
      "execution_count": 73,
      "outputs": []
    },
    {
      "cell_type": "code",
      "source": [
        "sorted_car_df = car_df.sort_values(by = '# of Cars')\n",
        "sorted_car_df"
      ],
      "metadata": {
        "colab": {
          "base_uri": "https://localhost:8080/",
          "height": 237
        },
        "id": "glXvTXzuouta",
        "outputId": "108fb09f-32af-42c6-9065-178722bfe0ab"
      },
      "execution_count": 80,
      "outputs": [
        {
          "output_type": "execute_result",
          "data": {
            "text/plain": [
              "   # of Cars  Frequency  Relative Frequency\n",
              "1          0          4                0.08\n",
              "2          1         13                0.26\n",
              "3          2         22                0.44\n",
              "0          3          7                0.14\n",
              "4          4          3                0.06\n",
              "5          5          1                0.02"
            ],
            "text/html": [
              "\n",
              "  <div id=\"df-51e7addc-7052-4040-8e4a-d011d107a064\">\n",
              "    <div class=\"colab-df-container\">\n",
              "      <div>\n",
              "<style scoped>\n",
              "    .dataframe tbody tr th:only-of-type {\n",
              "        vertical-align: middle;\n",
              "    }\n",
              "\n",
              "    .dataframe tbody tr th {\n",
              "        vertical-align: top;\n",
              "    }\n",
              "\n",
              "    .dataframe thead th {\n",
              "        text-align: right;\n",
              "    }\n",
              "</style>\n",
              "<table border=\"1\" class=\"dataframe\">\n",
              "  <thead>\n",
              "    <tr style=\"text-align: right;\">\n",
              "      <th></th>\n",
              "      <th># of Cars</th>\n",
              "      <th>Frequency</th>\n",
              "      <th>Relative Frequency</th>\n",
              "    </tr>\n",
              "  </thead>\n",
              "  <tbody>\n",
              "    <tr>\n",
              "      <th>1</th>\n",
              "      <td>0</td>\n",
              "      <td>4</td>\n",
              "      <td>0.08</td>\n",
              "    </tr>\n",
              "    <tr>\n",
              "      <th>2</th>\n",
              "      <td>1</td>\n",
              "      <td>13</td>\n",
              "      <td>0.26</td>\n",
              "    </tr>\n",
              "    <tr>\n",
              "      <th>3</th>\n",
              "      <td>2</td>\n",
              "      <td>22</td>\n",
              "      <td>0.44</td>\n",
              "    </tr>\n",
              "    <tr>\n",
              "      <th>0</th>\n",
              "      <td>3</td>\n",
              "      <td>7</td>\n",
              "      <td>0.14</td>\n",
              "    </tr>\n",
              "    <tr>\n",
              "      <th>4</th>\n",
              "      <td>4</td>\n",
              "      <td>3</td>\n",
              "      <td>0.06</td>\n",
              "    </tr>\n",
              "    <tr>\n",
              "      <th>5</th>\n",
              "      <td>5</td>\n",
              "      <td>1</td>\n",
              "      <td>0.02</td>\n",
              "    </tr>\n",
              "  </tbody>\n",
              "</table>\n",
              "</div>\n",
              "      <button class=\"colab-df-convert\" onclick=\"convertToInteractive('df-51e7addc-7052-4040-8e4a-d011d107a064')\"\n",
              "              title=\"Convert this dataframe to an interactive table.\"\n",
              "              style=\"display:none;\">\n",
              "        \n",
              "  <svg xmlns=\"http://www.w3.org/2000/svg\" height=\"24px\"viewBox=\"0 0 24 24\"\n",
              "       width=\"24px\">\n",
              "    <path d=\"M0 0h24v24H0V0z\" fill=\"none\"/>\n",
              "    <path d=\"M18.56 5.44l.94 2.06.94-2.06 2.06-.94-2.06-.94-.94-2.06-.94 2.06-2.06.94zm-11 1L8.5 8.5l.94-2.06 2.06-.94-2.06-.94L8.5 2.5l-.94 2.06-2.06.94zm10 10l.94 2.06.94-2.06 2.06-.94-2.06-.94-.94-2.06-.94 2.06-2.06.94z\"/><path d=\"M17.41 7.96l-1.37-1.37c-.4-.4-.92-.59-1.43-.59-.52 0-1.04.2-1.43.59L10.3 9.45l-7.72 7.72c-.78.78-.78 2.05 0 2.83L4 21.41c.39.39.9.59 1.41.59.51 0 1.02-.2 1.41-.59l7.78-7.78 2.81-2.81c.8-.78.8-2.07 0-2.86zM5.41 20L4 18.59l7.72-7.72 1.47 1.35L5.41 20z\"/>\n",
              "  </svg>\n",
              "      </button>\n",
              "      \n",
              "  <style>\n",
              "    .colab-df-container {\n",
              "      display:flex;\n",
              "      flex-wrap:wrap;\n",
              "      gap: 12px;\n",
              "    }\n",
              "\n",
              "    .colab-df-convert {\n",
              "      background-color: #E8F0FE;\n",
              "      border: none;\n",
              "      border-radius: 50%;\n",
              "      cursor: pointer;\n",
              "      display: none;\n",
              "      fill: #1967D2;\n",
              "      height: 32px;\n",
              "      padding: 0 0 0 0;\n",
              "      width: 32px;\n",
              "    }\n",
              "\n",
              "    .colab-df-convert:hover {\n",
              "      background-color: #E2EBFA;\n",
              "      box-shadow: 0px 1px 2px rgba(60, 64, 67, 0.3), 0px 1px 3px 1px rgba(60, 64, 67, 0.15);\n",
              "      fill: #174EA6;\n",
              "    }\n",
              "\n",
              "    [theme=dark] .colab-df-convert {\n",
              "      background-color: #3B4455;\n",
              "      fill: #D2E3FC;\n",
              "    }\n",
              "\n",
              "    [theme=dark] .colab-df-convert:hover {\n",
              "      background-color: #434B5C;\n",
              "      box-shadow: 0px 1px 3px 1px rgba(0, 0, 0, 0.15);\n",
              "      filter: drop-shadow(0px 1px 2px rgba(0, 0, 0, 0.3));\n",
              "      fill: #FFFFFF;\n",
              "    }\n",
              "  </style>\n",
              "\n",
              "      <script>\n",
              "        const buttonEl =\n",
              "          document.querySelector('#df-51e7addc-7052-4040-8e4a-d011d107a064 button.colab-df-convert');\n",
              "        buttonEl.style.display =\n",
              "          google.colab.kernel.accessAllowed ? 'block' : 'none';\n",
              "\n",
              "        async function convertToInteractive(key) {\n",
              "          const element = document.querySelector('#df-51e7addc-7052-4040-8e4a-d011d107a064');\n",
              "          const dataTable =\n",
              "            await google.colab.kernel.invokeFunction('convertToInteractive',\n",
              "                                                     [key], {});\n",
              "          if (!dataTable) return;\n",
              "\n",
              "          const docLinkHtml = 'Like what you see? Visit the ' +\n",
              "            '<a target=\"_blank\" href=https://colab.research.google.com/notebooks/data_table.ipynb>data table notebook</a>'\n",
              "            + ' to learn more about interactive tables.';\n",
              "          element.innerHTML = '';\n",
              "          dataTable['output_type'] = 'display_data';\n",
              "          await google.colab.output.renderOutput(dataTable, element);\n",
              "          const docLink = document.createElement('div');\n",
              "          docLink.innerHTML = docLinkHtml;\n",
              "          element.appendChild(docLink);\n",
              "        }\n",
              "      </script>\n",
              "    </div>\n",
              "  </div>\n",
              "  "
            ]
          },
          "metadata": {},
          "execution_count": 80
        }
      ]
    },
    {
      "cell_type": "markdown",
      "source": [
        "## Histogram (rectangles should touch each other)"
      ],
      "metadata": {
        "id": "k9Xeebzupdo4"
      }
    },
    {
      "cell_type": "code",
      "source": [
        "plt.hist(cars,bins = np.arange(7)-0.5)\n",
        "plt.ylabel(\"Frequency\")\n",
        "plt.xlabel(\"Number of Cars\")\n",
        "plt.title(\"Available Cars in a Household\")\n",
        "plt.show()"
      ],
      "metadata": {
        "colab": {
          "base_uri": "https://localhost:8080/",
          "height": 295
        },
        "id": "_CXUL2Hdo5Dv",
        "outputId": "319c69c1-4fe8-44a4-9eb7-e24c895e5904"
      },
      "execution_count": 93,
      "outputs": [
        {
          "output_type": "display_data",
          "data": {
            "text/plain": [
              "<Figure size 432x288 with 1 Axes>"
            ],
            "image/png": "[encoded data removed]"
          },
          "metadata": {
            "needs_background": "light"
          }
        }
      ]
    },
    {
      "cell_type": "code",
      "source": [
        "plt.bar(sorted_car_df['# of Cars'], sorted_car_df['Relative Frequency'],width =1)\n",
        "plt.ylabel(\"Frequency\")\n",
        "plt.xlabel(\"Number of Cars\")\n",
        "plt.title(\"Available Cars in a Household\")\n",
        "plt.show()"
      ],
      "metadata": {
        "colab": {
          "base_uri": "https://localhost:8080/",
          "height": 295
        },
        "id": "1rG4awLxps8t",
        "outputId": "77bca606-5a09-435c-aa27-3fddf941808e"
      },
      "execution_count": 97,
      "outputs": [
        {
          "output_type": "display_data",
          "data": {
            "text/plain": [
              "<Figure size 432x288 with 1 Axes>"
            ],
            "image/png": "[encoded data removed]"
          },
          "metadata": {
            "needs_background": "light"
          }
        }
      ]
    },
    {
      "cell_type": "markdown",
      "source": [
        "## Organize Continuous Data in Tables"
      ],
      "metadata": {
        "id": "2bc_VmtRrEcj"
      }
    },
    {
      "cell_type": "markdown",
      "source": [
        "### Organizing Continuous Data into a Frequency and Relative Frequency Distribution"
      ],
      "metadata": {
        "id": "KhvGEF3BsARl"
      }
    },
    {
      "cell_type": "markdown",
      "source": [
        "The following data represent the time between eruptions (in \n",
        "seconds) for a random sample of 45 eruptions at the Old Faithful \n",
        "Geyser in Wyoming. Construct a frequency and relative frequency \n",
        "distribution of the data."
      ],
      "metadata": {
        "id": "X3pJ08shsGlj"
      }
    },
    {
      "cell_type": "code",
      "source": [
        "eruptions = [728, 678, 723, 735, 703, 730, 722,708, 714, 713,\n",
        "             726, 716, 736, 719, 672, 698, 702, 738, 725, 711, \n",
        "             721, 703, 735, 699, 695, 722, 718, 695, 702, 731,\n",
        "             700, 703, 706, 733, 726, 720, 723, 711, 696, 695,\n",
        "             729, 699, 714, 700, 718]"
      ],
      "metadata": {
        "id": "r8K52wsDr_tZ"
      },
      "execution_count": 245,
      "outputs": []
    },
    {
      "cell_type": "code",
      "source": [
        "len(eruptions)"
      ],
      "metadata": {
        "colab": {
          "base_uri": "https://localhost:8080/"
        },
        "id": "Ef-eNIPJq1vR",
        "outputId": "6947b2d3-d36f-4152-bf6d-ce61e7bcb9ad"
      },
      "execution_count": 246,
      "outputs": [
        {
          "output_type": "execute_result",
          "data": {
            "text/plain": [
              "45"
            ]
          },
          "metadata": {},
          "execution_count": 246
        }
      ]
    },
    {
      "cell_type": "code",
      "source": [
        "min(eruptions)"
      ],
      "metadata": {
        "colab": {
          "base_uri": "https://localhost:8080/"
        },
        "id": "E5rRpB0hsrma",
        "outputId": "a733ea73-8a3a-4813-9280-4fbb40e17e49"
      },
      "execution_count": 247,
      "outputs": [
        {
          "output_type": "execute_result",
          "data": {
            "text/plain": [
              "672"
            ]
          },
          "metadata": {},
          "execution_count": 247
        }
      ]
    },
    {
      "cell_type": "code",
      "source": [
        "max(eruptions)"
      ],
      "metadata": {
        "colab": {
          "base_uri": "https://localhost:8080/"
        },
        "id": "BwCqEHz3suHO",
        "outputId": "a2c6d91e-f605-4c1f-8a3a-cf73f3ca0696"
      },
      "execution_count": 248,
      "outputs": [
        {
          "output_type": "execute_result",
          "data": {
            "text/plain": [
              "738"
            ]
          },
          "metadata": {},
          "execution_count": 248
        }
      ]
    },
    {
      "cell_type": "markdown",
      "source": [
        "670-679\n",
        "<br>680-689\n",
        ",..."
      ],
      "metadata": {
        "id": "qRskW0Whs5FB"
      }
    },
    {
      "cell_type": "code",
      "source": [
        "class1 = []\n",
        "class2 = []\n",
        "class3 = []\n",
        "class4 = []\n",
        "class5 = []\n",
        "class6 = []\n",
        "class7 = []\n",
        "for e in eruptions:\n",
        "  if e <680:\n",
        "    class1.append(e)\n",
        "    continue\n",
        "  elif e < 690:\n",
        "    class2.append(e)\n",
        "    continue\n",
        "  elif e < 700:\n",
        "    class3.append(e)\n",
        "    continue\n",
        "  elif e<710:\n",
        "    class4.append(e)\n",
        "    continue\n",
        "  elif e<720:\n",
        "    class5.append(e)\n",
        "    continue\n",
        "  elif e<730:\n",
        "    class6.append(e)\n",
        "    continue\n",
        "  else:\n",
        "    class7.append(e)\n",
        "    continue"
      ],
      "metadata": {
        "id": "BdlVXGWEsu79"
      },
      "execution_count": 294,
      "outputs": []
    },
    {
      "cell_type": "code",
      "source": [
        "classes = [class1,class2,class3,class4, class5, class6, class7]"
      ],
      "metadata": {
        "id": "0ErN6-GZucbr"
      },
      "execution_count": 295,
      "outputs": []
    },
    {
      "cell_type": "code",
      "source": [
        "classes"
      ],
      "metadata": {
        "colab": {
          "base_uri": "https://localhost:8080/"
        },
        "id": "TzjSOw0quq6T",
        "outputId": "dd9c7e16-aa3d-4c21-84fe-4781ae1e7100"
      },
      "execution_count": 296,
      "outputs": [
        {
          "output_type": "execute_result",
          "data": {
            "text/plain": [
              "[[678, 672],\n",
              " [],\n",
              " [698, 699, 695, 695, 696, 695, 699],\n",
              " [703, 708, 702, 703, 702, 700, 703, 706, 700],\n",
              " [714, 713, 716, 719, 711, 718, 711, 714, 718],\n",
              " [728, 723, 722, 726, 725, 721, 722, 726, 720, 723, 729],\n",
              " [735, 730, 736, 738, 735, 731, 733]]"
            ]
          },
          "metadata": {},
          "execution_count": 296
        }
      ]
    },
    {
      "cell_type": "code",
      "source": [
        "len(classes[0])"
      ],
      "metadata": {
        "colab": {
          "base_uri": "https://localhost:8080/"
        },
        "id": "gdaub6Z1uvyb",
        "outputId": "2eae85ba-82df-49d6-ec44-4abf921aa9aa"
      },
      "execution_count": 297,
      "outputs": [
        {
          "output_type": "execute_result",
          "data": {
            "text/plain": [
              "2"
            ]
          },
          "metadata": {},
          "execution_count": 297
        }
      ]
    },
    {
      "cell_type": "code",
      "source": [
        "eruptions_df = {}\n",
        "for i in range(7):\n",
        "  start = 670 + 10*i\n",
        "  varname = f'{start} - {start + 9}'\n",
        "  print(varname,len(classes[i]))\n",
        "  eruptions_df[varname] = len(classes[i])"
      ],
      "metadata": {
        "colab": {
          "base_uri": "https://localhost:8080/"
        },
        "id": "q-XHjCUUtt3u",
        "outputId": "eb15518f-e560-4325-8aa2-ce05b56eba8d"
      },
      "execution_count": 298,
      "outputs": [
        {
          "output_type": "stream",
          "name": "stdout",
          "text": [
            "670 - 679 2\n",
            "680 - 689 0\n",
            "690 - 699 7\n",
            "700 - 709 9\n",
            "710 - 719 9\n",
            "720 - 729 11\n",
            "730 - 739 7\n"
          ]
        }
      ]
    },
    {
      "cell_type": "code",
      "source": [
        "eruptions_df"
      ],
      "metadata": {
        "colab": {
          "base_uri": "https://localhost:8080/"
        },
        "id": "XfczdQgxvAtE",
        "outputId": "4767ea79-8cf2-4522-b4f6-0b3c795f2217"
      },
      "execution_count": 299,
      "outputs": [
        {
          "output_type": "execute_result",
          "data": {
            "text/plain": [
              "{'670 - 679': 2,\n",
              " '680 - 689': 0,\n",
              " '690 - 699': 7,\n",
              " '700 - 709': 9,\n",
              " '710 - 719': 9,\n",
              " '720 - 729': 11,\n",
              " '730 - 739': 7}"
            ]
          },
          "metadata": {},
          "execution_count": 299
        }
      ]
    },
    {
      "cell_type": "code",
      "source": [
        "eruptions_pandas = pd.DataFrame({'Time btw eruptions':eruptions_df.keys(),\n",
        "                                  'Frequency':eruptions_df.values()})"
      ],
      "metadata": {
        "id": "0KSevGoqvOeK"
      },
      "execution_count": 300,
      "outputs": []
    },
    {
      "cell_type": "code",
      "source": [
        "eruptions_pandas['Relative Frequency'] = [x/sum(eruptions_pandas['Frequency']) for x in eruptions_pandas['Frequency']]"
      ],
      "metadata": {
        "id": "x7Cy5pcYvr9G"
      },
      "execution_count": 301,
      "outputs": []
    },
    {
      "cell_type": "code",
      "source": [
        "original_eruptions = eruptions_pandas"
      ],
      "metadata": {
        "id": "11H0lfsIv8Kh"
      },
      "execution_count": 302,
      "outputs": []
    },
    {
      "cell_type": "code",
      "source": [
        "original_eruptions"
      ],
      "metadata": {
        "colab": {
          "base_uri": "https://localhost:8080/",
          "height": 269
        },
        "id": "fUAqWIevFJ5B",
        "outputId": "cc47003e-d581-4faf-fef5-6b186c6fef29"
      },
      "execution_count": 303,
      "outputs": [
        {
          "output_type": "execute_result",
          "data": {
            "text/plain": [
              "  Time btw eruptions  Frequency  Relative Frequency\n",
              "0          670 - 679          2            0.044444\n",
              "1          680 - 689          0            0.000000\n",
              "2          690 - 699          7            0.155556\n",
              "3          700 - 709          9            0.200000\n",
              "4          710 - 719          9            0.200000\n",
              "5          720 - 729         11            0.244444\n",
              "6          730 - 739          7            0.155556"
            ],
            "text/html": [
              "\n",
              "  <div id=\"df-b6cf1799-1116-439a-bc60-f2f854c8643e\">\n",
              "    <div class=\"colab-df-container\">\n",
              "      <div>\n",
              "<style scoped>\n",
              "    .dataframe tbody tr th:only-of-type {\n",
              "        vertical-align: middle;\n",
              "    }\n",
              "\n",
              "    .dataframe tbody tr th {\n",
              "        vertical-align: top;\n",
              "    }\n",
              "\n",
              "    .dataframe thead th {\n",
              "        text-align: right;\n",
              "    }\n",
              "</style>\n",
              "<table border=\"1\" class=\"dataframe\">\n",
              "  <thead>\n",
              "    <tr style=\"text-align: right;\">\n",
              "      <th></th>\n",
              "      <th>Time btw eruptions</th>\n",
              "      <th>Frequency</th>\n",
              "      <th>Relative Frequency</th>\n",
              "    </tr>\n",
              "  </thead>\n",
              "  <tbody>\n",
              "    <tr>\n",
              "      <th>0</th>\n",
              "      <td>670 - 679</td>\n",
              "      <td>2</td>\n",
              "      <td>0.044444</td>\n",
              "    </tr>\n",
              "    <tr>\n",
              "      <th>1</th>\n",
              "      <td>680 - 689</td>\n",
              "      <td>0</td>\n",
              "      <td>0.000000</td>\n",
              "    </tr>\n",
              "    <tr>\n",
              "      <th>2</th>\n",
              "      <td>690 - 699</td>\n",
              "      <td>7</td>\n",
              "      <td>0.155556</td>\n",
              "    </tr>\n",
              "    <tr>\n",
              "      <th>3</th>\n",
              "      <td>700 - 709</td>\n",
              "      <td>9</td>\n",
              "      <td>0.200000</td>\n",
              "    </tr>\n",
              "    <tr>\n",
              "      <th>4</th>\n",
              "      <td>710 - 719</td>\n",
              "      <td>9</td>\n",
              "      <td>0.200000</td>\n",
              "    </tr>\n",
              "    <tr>\n",
              "      <th>5</th>\n",
              "      <td>720 - 729</td>\n",
              "      <td>11</td>\n",
              "      <td>0.244444</td>\n",
              "    </tr>\n",
              "    <tr>\n",
              "      <th>6</th>\n",
              "      <td>730 - 739</td>\n",
              "      <td>7</td>\n",
              "      <td>0.155556</td>\n",
              "    </tr>\n",
              "  </tbody>\n",
              "</table>\n",
              "</div>\n",
              "      <button class=\"colab-df-convert\" onclick=\"convertToInteractive('df-b6cf1799-1116-439a-bc60-f2f854c8643e')\"\n",
              "              title=\"Convert this dataframe to an interactive table.\"\n",
              "              style=\"display:none;\">\n",
              "        \n",
              "  <svg xmlns=\"http://www.w3.org/2000/svg\" height=\"24px\"viewBox=\"0 0 24 24\"\n",
              "       width=\"24px\">\n",
              "    <path d=\"M0 0h24v24H0V0z\" fill=\"none\"/>\n",
              "    <path d=\"M18.56 5.44l.94 2.06.94-2.06 2.06-.94-2.06-.94-.94-2.06-.94 2.06-2.06.94zm-11 1L8.5 8.5l.94-2.06 2.06-.94-2.06-.94L8.5 2.5l-.94 2.06-2.06.94zm10 10l.94 2.06.94-2.06 2.06-.94-2.06-.94-.94-2.06-.94 2.06-2.06.94z\"/><path d=\"M17.41 7.96l-1.37-1.37c-.4-.4-.92-.59-1.43-.59-.52 0-1.04.2-1.43.59L10.3 9.45l-7.72 7.72c-.78.78-.78 2.05 0 2.83L4 21.41c.39.39.9.59 1.41.59.51 0 1.02-.2 1.41-.59l7.78-7.78 2.81-2.81c.8-.78.8-2.07 0-2.86zM5.41 20L4 18.59l7.72-7.72 1.47 1.35L5.41 20z\"/>\n",
              "  </svg>\n",
              "      </button>\n",
              "      \n",
              "  <style>\n",
              "    .colab-df-container {\n",
              "      display:flex;\n",
              "      flex-wrap:wrap;\n",
              "      gap: 12px;\n",
              "    }\n",
              "\n",
              "    .colab-df-convert {\n",
              "      background-color: #E8F0FE;\n",
              "      border: none;\n",
              "      border-radius: 50%;\n",
              "      cursor: pointer;\n",
              "      display: none;\n",
              "      fill: #1967D2;\n",
              "      height: 32px;\n",
              "      padding: 0 0 0 0;\n",
              "      width: 32px;\n",
              "    }\n",
              "\n",
              "    .colab-df-convert:hover {\n",
              "      background-color: #E2EBFA;\n",
              "      box-shadow: 0px 1px 2px rgba(60, 64, 67, 0.3), 0px 1px 3px 1px rgba(60, 64, 67, 0.15);\n",
              "      fill: #174EA6;\n",
              "    }\n",
              "\n",
              "    [theme=dark] .colab-df-convert {\n",
              "      background-color: #3B4455;\n",
              "      fill: #D2E3FC;\n",
              "    }\n",
              "\n",
              "    [theme=dark] .colab-df-convert:hover {\n",
              "      background-color: #434B5C;\n",
              "      box-shadow: 0px 1px 3px 1px rgba(0, 0, 0, 0.15);\n",
              "      filter: drop-shadow(0px 1px 2px rgba(0, 0, 0, 0.3));\n",
              "      fill: #FFFFFF;\n",
              "    }\n",
              "  </style>\n",
              "\n",
              "      <script>\n",
              "        const buttonEl =\n",
              "          document.querySelector('#df-b6cf1799-1116-439a-bc60-f2f854c8643e button.colab-df-convert');\n",
              "        buttonEl.style.display =\n",
              "          google.colab.kernel.accessAllowed ? 'block' : 'none';\n",
              "\n",
              "        async function convertToInteractive(key) {\n",
              "          const element = document.querySelector('#df-b6cf1799-1116-439a-bc60-f2f854c8643e');\n",
              "          const dataTable =\n",
              "            await google.colab.kernel.invokeFunction('convertToInteractive',\n",
              "                                                     [key], {});\n",
              "          if (!dataTable) return;\n",
              "\n",
              "          const docLinkHtml = 'Like what you see? Visit the ' +\n",
              "            '<a target=\"_blank\" href=https://colab.research.google.com/notebooks/data_table.ipynb>data table notebook</a>'\n",
              "            + ' to learn more about interactive tables.';\n",
              "          element.innerHTML = '';\n",
              "          dataTable['output_type'] = 'display_data';\n",
              "          await google.colab.output.renderOutput(dataTable, element);\n",
              "          const docLink = document.createElement('div');\n",
              "          docLink.innerHTML = docLinkHtml;\n",
              "          element.appendChild(docLink);\n",
              "        }\n",
              "      </script>\n",
              "    </div>\n",
              "  </div>\n",
              "  "
            ]
          },
          "metadata": {},
          "execution_count": 303
        }
      ]
    },
    {
      "cell_type": "markdown",
      "source": [
        "smaller interval"
      ],
      "metadata": {
        "id": "3lrjihsswfxB"
      }
    },
    {
      "cell_type": "code",
      "source": [
        "eruptions_df = {}\n",
        "interval = 5\n",
        "for i in range(14):\n",
        "  start = 670 + interval*i\n",
        "  varname = f'{start} - {start + interval-1}'\n",
        "  tmp = [e for e in eruptions if e >= start and e<= start + interval -1 ]\n",
        "  eruptions_df[varname] = len(tmp)"
      ],
      "metadata": {
        "id": "V-hO3Mbnv9N3"
      },
      "execution_count": 237,
      "outputs": []
    },
    {
      "cell_type": "code",
      "source": [
        "eruptions_df"
      ],
      "metadata": {
        "colab": {
          "base_uri": "https://localhost:8080/"
        },
        "id": "E3RGGmgJw8-L",
        "outputId": "7cf9a5ab-c5bc-4e0c-95ef-6a0af7295919"
      },
      "execution_count": 141,
      "outputs": [
        {
          "output_type": "execute_result",
          "data": {
            "text/plain": [
              "{'670 - 674': 1,\n",
              " '675 - 679': 1,\n",
              " '680 - 684': 0,\n",
              " '685 - 689': 0,\n",
              " '690 - 694': 0,\n",
              " '695 - 699': 7,\n",
              " '700 - 704': 7,\n",
              " '705 - 709': 2,\n",
              " '710 - 714': 5,\n",
              " '715 - 719': 4,\n",
              " '720 - 724': 6,\n",
              " '725 - 729': 5,\n",
              " '730 - 734': 3,\n",
              " '735 - 739': 4}"
            ]
          },
          "metadata": {},
          "execution_count": 141
        }
      ]
    },
    {
      "cell_type": "code",
      "source": [
        "eruptions_pandas = pd.DataFrame({'Time btw eruptions':eruptions_df.keys(),\n",
        "                                  'Frequency':eruptions_df.values()})\n",
        "eruptions_pandas['Relative Frequency'] = [x/sum(eruptions_pandas['Frequency']) for x in eruptions_pandas['Frequency']]\n",
        "eruptions_pandas"
      ],
      "metadata": {
        "colab": {
          "base_uri": "https://localhost:8080/",
          "height": 488
        },
        "id": "PAUawO3pxFPg",
        "outputId": "db2ed6ec-14dc-444f-ae90-cba218b0b522"
      },
      "execution_count": 142,
      "outputs": [
        {
          "output_type": "execute_result",
          "data": {
            "text/plain": [
              "   Time btw eruptions  Frequency  Relative Frequency\n",
              "0           670 - 674          1            0.022222\n",
              "1           675 - 679          1            0.022222\n",
              "2           680 - 684          0            0.000000\n",
              "3           685 - 689          0            0.000000\n",
              "4           690 - 694          0            0.000000\n",
              "5           695 - 699          7            0.155556\n",
              "6           700 - 704          7            0.155556\n",
              "7           705 - 709          2            0.044444\n",
              "8           710 - 714          5            0.111111\n",
              "9           715 - 719          4            0.088889\n",
              "10          720 - 724          6            0.133333\n",
              "11          725 - 729          5            0.111111\n",
              "12          730 - 734          3            0.066667\n",
              "13          735 - 739          4            0.088889"
            ],
            "text/html": [
              "\n",
              "  <div id=\"df-fcedfe63-a04c-48f8-ae2f-e6deb15e154e\">\n",
              "    <div class=\"colab-df-container\">\n",
              "      <div>\n",
              "<style scoped>\n",
              "    .dataframe tbody tr th:only-of-type {\n",
              "        vertical-align: middle;\n",
              "    }\n",
              "\n",
              "    .dataframe tbody tr th {\n",
              "        vertical-align: top;\n",
              "    }\n",
              "\n",
              "    .dataframe thead th {\n",
              "        text-align: right;\n",
              "    }\n",
              "</style>\n",
              "<table border=\"1\" class=\"dataframe\">\n",
              "  <thead>\n",
              "    <tr style=\"text-align: right;\">\n",
              "      <th></th>\n",
              "      <th>Time btw eruptions</th>\n",
              "      <th>Frequency</th>\n",
              "      <th>Relative Frequency</th>\n",
              "    </tr>\n",
              "  </thead>\n",
              "  <tbody>\n",
              "    <tr>\n",
              "      <th>0</th>\n",
              "      <td>670 - 674</td>\n",
              "      <td>1</td>\n",
              "      <td>0.022222</td>\n",
              "    </tr>\n",
              "    <tr>\n",
              "      <th>1</th>\n",
              "      <td>675 - 679</td>\n",
              "      <td>1</td>\n",
              "      <td>0.022222</td>\n",
              "    </tr>\n",
              "    <tr>\n",
              "      <th>2</th>\n",
              "      <td>680 - 684</td>\n",
              "      <td>0</td>\n",
              "      <td>0.000000</td>\n",
              "    </tr>\n",
              "    <tr>\n",
              "      <th>3</th>\n",
              "      <td>685 - 689</td>\n",
              "      <td>0</td>\n",
              "      <td>0.000000</td>\n",
              "    </tr>\n",
              "    <tr>\n",
              "      <th>4</th>\n",
              "      <td>690 - 694</td>\n",
              "      <td>0</td>\n",
              "      <td>0.000000</td>\n",
              "    </tr>\n",
              "    <tr>\n",
              "      <th>5</th>\n",
              "      <td>695 - 699</td>\n",
              "      <td>7</td>\n",
              "      <td>0.155556</td>\n",
              "    </tr>\n",
              "    <tr>\n",
              "      <th>6</th>\n",
              "      <td>700 - 704</td>\n",
              "      <td>7</td>\n",
              "      <td>0.155556</td>\n",
              "    </tr>\n",
              "    <tr>\n",
              "      <th>7</th>\n",
              "      <td>705 - 709</td>\n",
              "      <td>2</td>\n",
              "      <td>0.044444</td>\n",
              "    </tr>\n",
              "    <tr>\n",
              "      <th>8</th>\n",
              "      <td>710 - 714</td>\n",
              "      <td>5</td>\n",
              "      <td>0.111111</td>\n",
              "    </tr>\n",
              "    <tr>\n",
              "      <th>9</th>\n",
              "      <td>715 - 719</td>\n",
              "      <td>4</td>\n",
              "      <td>0.088889</td>\n",
              "    </tr>\n",
              "    <tr>\n",
              "      <th>10</th>\n",
              "      <td>720 - 724</td>\n",
              "      <td>6</td>\n",
              "      <td>0.133333</td>\n",
              "    </tr>\n",
              "    <tr>\n",
              "      <th>11</th>\n",
              "      <td>725 - 729</td>\n",
              "      <td>5</td>\n",
              "      <td>0.111111</td>\n",
              "    </tr>\n",
              "    <tr>\n",
              "      <th>12</th>\n",
              "      <td>730 - 734</td>\n",
              "      <td>3</td>\n",
              "      <td>0.066667</td>\n",
              "    </tr>\n",
              "    <tr>\n",
              "      <th>13</th>\n",
              "      <td>735 - 739</td>\n",
              "      <td>4</td>\n",
              "      <td>0.088889</td>\n",
              "    </tr>\n",
              "  </tbody>\n",
              "</table>\n",
              "</div>\n",
              "      <button class=\"colab-df-convert\" onclick=\"convertToInteractive('df-fcedfe63-a04c-48f8-ae2f-e6deb15e154e')\"\n",
              "              title=\"Convert this dataframe to an interactive table.\"\n",
              "              style=\"display:none;\">\n",
              "        \n",
              "  <svg xmlns=\"http://www.w3.org/2000/svg\" height=\"24px\"viewBox=\"0 0 24 24\"\n",
              "       width=\"24px\">\n",
              "    <path d=\"M0 0h24v24H0V0z\" fill=\"none\"/>\n",
              "    <path d=\"M18.56 5.44l.94 2.06.94-2.06 2.06-.94-2.06-.94-.94-2.06-.94 2.06-2.06.94zm-11 1L8.5 8.5l.94-2.06 2.06-.94-2.06-.94L8.5 2.5l-.94 2.06-2.06.94zm10 10l.94 2.06.94-2.06 2.06-.94-2.06-.94-.94-2.06-.94 2.06-2.06.94z\"/><path d=\"M17.41 7.96l-1.37-1.37c-.4-.4-.92-.59-1.43-.59-.52 0-1.04.2-1.43.59L10.3 9.45l-7.72 7.72c-.78.78-.78 2.05 0 2.83L4 21.41c.39.39.9.59 1.41.59.51 0 1.02-.2 1.41-.59l7.78-7.78 2.81-2.81c.8-.78.8-2.07 0-2.86zM5.41 20L4 18.59l7.72-7.72 1.47 1.35L5.41 20z\"/>\n",
              "  </svg>\n",
              "      </button>\n",
              "      \n",
              "  <style>\n",
              "    .colab-df-container {\n",
              "      display:flex;\n",
              "      flex-wrap:wrap;\n",
              "      gap: 12px;\n",
              "    }\n",
              "\n",
              "    .colab-df-convert {\n",
              "      background-color: #E8F0FE;\n",
              "      border: none;\n",
              "      border-radius: 50%;\n",
              "      cursor: pointer;\n",
              "      display: none;\n",
              "      fill: #1967D2;\n",
              "      height: 32px;\n",
              "      padding: 0 0 0 0;\n",
              "      width: 32px;\n",
              "    }\n",
              "\n",
              "    .colab-df-convert:hover {\n",
              "      background-color: #E2EBFA;\n",
              "      box-shadow: 0px 1px 2px rgba(60, 64, 67, 0.3), 0px 1px 3px 1px rgba(60, 64, 67, 0.15);\n",
              "      fill: #174EA6;\n",
              "    }\n",
              "\n",
              "    [theme=dark] .colab-df-convert {\n",
              "      background-color: #3B4455;\n",
              "      fill: #D2E3FC;\n",
              "    }\n",
              "\n",
              "    [theme=dark] .colab-df-convert:hover {\n",
              "      background-color: #434B5C;\n",
              "      box-shadow: 0px 1px 3px 1px rgba(0, 0, 0, 0.15);\n",
              "      filter: drop-shadow(0px 1px 2px rgba(0, 0, 0, 0.3));\n",
              "      fill: #FFFFFF;\n",
              "    }\n",
              "  </style>\n",
              "\n",
              "      <script>\n",
              "        const buttonEl =\n",
              "          document.querySelector('#df-fcedfe63-a04c-48f8-ae2f-e6deb15e154e button.colab-df-convert');\n",
              "        buttonEl.style.display =\n",
              "          google.colab.kernel.accessAllowed ? 'block' : 'none';\n",
              "\n",
              "        async function convertToInteractive(key) {\n",
              "          const element = document.querySelector('#df-fcedfe63-a04c-48f8-ae2f-e6deb15e154e');\n",
              "          const dataTable =\n",
              "            await google.colab.kernel.invokeFunction('convertToInteractive',\n",
              "                                                     [key], {});\n",
              "          if (!dataTable) return;\n",
              "\n",
              "          const docLinkHtml = 'Like what you see? Visit the ' +\n",
              "            '<a target=\"_blank\" href=https://colab.research.google.com/notebooks/data_table.ipynb>data table notebook</a>'\n",
              "            + ' to learn more about interactive tables.';\n",
              "          element.innerHTML = '';\n",
              "          dataTable['output_type'] = 'display_data';\n",
              "          await google.colab.output.renderOutput(dataTable, element);\n",
              "          const docLink = document.createElement('div');\n",
              "          docLink.innerHTML = docLinkHtml;\n",
              "          element.appendChild(docLink);\n",
              "        }\n",
              "      </script>\n",
              "    </div>\n",
              "  </div>\n",
              "  "
            ]
          },
          "metadata": {},
          "execution_count": 142
        }
      ]
    },
    {
      "cell_type": "code",
      "source": [
        "bins=np.arange(670,750, 10)\n",
        "plt.hist(eruptions, bins=bins, edgecolor='w')\n",
        "plt.xticks(bins)\n",
        "plt.title(\"Time between Eruptions\")\n",
        "plt.xlabel(\"Time (seconds)\")\n",
        "plt.ylabel(\"Frequency\")\n",
        "plt.ylim(0,12)\n",
        "plt.show()"
      ],
      "metadata": {
        "colab": {
          "base_uri": "https://localhost:8080/",
          "height": 295
        },
        "id": "WBb9qlLZ1VGi",
        "outputId": "74359e4c-abfe-4839-db11-8b8705d7e9e9"
      },
      "execution_count": 178,
      "outputs": [
        {
          "output_type": "display_data",
          "data": {
            "text/plain": [
              "<Figure size 432x288 with 1 Axes>"
            ],
            "image/png": "[encoded data removed]"
          },
          "metadata": {
            "needs_background": "light"
          }
        }
      ]
    },
    {
      "cell_type": "markdown",
      "source": [
        "width = 5"
      ],
      "metadata": {
        "id": "aIp3mpzR3Kgw"
      }
    },
    {
      "cell_type": "code",
      "source": [
        "bins=np.arange(670,745, 5)\n",
        "plt.hist(eruptions, bins=bins, edgecolor='w')\n",
        "plt.xticks(bins)\n",
        "plt.title(\"Time between Eruptions\")\n",
        "plt.xlabel(\"Time (seconds)\")\n",
        "plt.ylabel(\"Frequency\")\n",
        "plt.ylim(0,12)\n",
        "plt.show()"
      ],
      "metadata": {
        "colab": {
          "base_uri": "https://localhost:8080/",
          "height": 295
        },
        "id": "juSSOpOZyPWC",
        "outputId": "28478614-12a2-4563-eb87-c752aeb1c5af"
      },
      "execution_count": 184,
      "outputs": [
        {
          "output_type": "display_data",
          "data": {
            "text/plain": [
              "<Figure size 432x288 with 1 Axes>"
            ],
            "image/png": "[encoded data removed]"
          },
          "metadata": {
            "needs_background": "light"
          }
        }
      ]
    },
    {
      "cell_type": "markdown",
      "source": [
        "width = 1"
      ],
      "metadata": {
        "id": "v4r2C3F73LjN"
      }
    },
    {
      "cell_type": "code",
      "source": [
        "bins=np.arange(670,741, 1)\n",
        "plt.hist(eruptions, bins=bins, edgecolor='w')\n",
        "plt.xticks(bins)\n",
        "plt.title(\"Time between Eruptions\")\n",
        "plt.xlabel(\"Time (seconds)\")\n",
        "plt.ylabel(\"Frequency\")\n",
        "plt.ylim(0,12)\n",
        "plt.show()"
      ],
      "metadata": {
        "colab": {
          "base_uri": "https://localhost:8080/",
          "height": 295
        },
        "id": "uUSVgFmV2y0R",
        "outputId": "3a16ccf6-b14d-407c-baf0-a8b7468b1aba"
      },
      "execution_count": 185,
      "outputs": [
        {
          "output_type": "display_data",
          "data": {
            "text/plain": [
              "<Figure size 432x288 with 1 Axes>"
            ],
            "image/png": "[encoded data removed]"
          },
          "metadata": {
            "needs_background": "light"
          }
        }
      ]
    },
    {
      "cell_type": "markdown",
      "source": [
        "## Stemp-and-leaf plot"
      ],
      "metadata": {
        "id": "X9fGtnqd3SkE"
      }
    },
    {
      "cell_type": "markdown",
      "source": [
        "An individual is considered to be unemployed if they \n",
        "do not have a job, but are actively seeking \n",
        "employment. The following data represent the \n",
        "unemployment rate in each of the fifty United States \n",
        "plus the District of Columbia in June, 2008. "
      ],
      "metadata": {
        "id": "l6r4vaq03yG_"
      }
    },
    {
      "cell_type": "code",
      "source": [
        "!pip install stemgraphic"
      ],
      "metadata": {
        "colab": {
          "base_uri": "https://localhost:8080/"
        },
        "id": "VFH0KbnJBXol",
        "outputId": "d4709029-09a8-4b49-ba94-955d76aa42ca"
      },
      "execution_count": 189,
      "outputs": [
        {
          "output_type": "stream",
          "name": "stdout",
          "text": [
            "Looking in indexes: https://pypi.org/simple, https://us-python.pkg.dev/colab-wheels/public/simple/\n",
            "Collecting stemgraphic\n",
            "  Downloading stemgraphic-0.9.1-py3-none-any.whl (61 kB)\n",
            "\u001b[K     |████████████████████████████████| 61 kB 514 kB/s \n",
            "\u001b[?25hRequirement already satisfied: docopt in /usr/local/lib/python3.7/dist-packages (from stemgraphic) (0.6.2)\n",
            "Requirement already satisfied: seaborn in /usr/local/lib/python3.7/dist-packages (from stemgraphic) (0.11.2)\n",
            "Requirement already satisfied: pandas in /usr/local/lib/python3.7/dist-packages (from stemgraphic) (1.3.5)\n",
            "Requirement already satisfied: matplotlib in /usr/local/lib/python3.7/dist-packages (from stemgraphic) (3.2.2)\n",
            "Requirement already satisfied: python-dateutil>=2.1 in /usr/local/lib/python3.7/dist-packages (from matplotlib->stemgraphic) (2.8.2)\n",
            "Requirement already satisfied: pyparsing!=2.0.4,!=2.1.2,!=2.1.6,>=2.0.1 in /usr/local/lib/python3.7/dist-packages (from matplotlib->stemgraphic) (3.0.9)\n",
            "Requirement already satisfied: numpy>=1.11 in /usr/local/lib/python3.7/dist-packages (from matplotlib->stemgraphic) (1.21.6)\n",
            "Requirement already satisfied: kiwisolver>=1.0.1 in /usr/local/lib/python3.7/dist-packages (from matplotlib->stemgraphic) (1.4.2)\n",
            "Requirement already satisfied: cycler>=0.10 in /usr/local/lib/python3.7/dist-packages (from matplotlib->stemgraphic) (0.11.0)\n",
            "Requirement already satisfied: typing-extensions in /usr/local/lib/python3.7/dist-packages (from kiwisolver>=1.0.1->matplotlib->stemgraphic) (4.2.0)\n",
            "Requirement already satisfied: six>=1.5 in /usr/local/lib/python3.7/dist-packages (from python-dateutil>=2.1->matplotlib->stemgraphic) (1.15.0)\n",
            "Requirement already satisfied: pytz>=2017.3 in /usr/local/lib/python3.7/dist-packages (from pandas->stemgraphic) (2022.1)\n",
            "Requirement already satisfied: scipy>=1.0 in /usr/local/lib/python3.7/dist-packages (from seaborn->stemgraphic) (1.4.1)\n",
            "Installing collected packages: stemgraphic\n",
            "Successfully installed stemgraphic-0.9.1\n"
          ]
        }
      ]
    },
    {
      "cell_type": "code",
      "source": [
        "import stemgraphic\n",
        "  \n",
        "data = [16, 25, 47, 56, 23, 45, 19, 55, 44, 27]\n",
        "  \n",
        "# calling stem_graphic with required parameters,\n",
        "# data and scale\n",
        "stemgraphic.stem_graphic(data, scale = 10)"
      ],
      "metadata": {
        "colab": {
          "base_uri": "https://localhost:8080/",
          "height": 203
        },
        "id": "tYkzfQaw3QOj",
        "outputId": "9e81ea40-2d3e-488d-cacb-c62f70d22774"
      },
      "execution_count": 190,
      "outputs": [
        {
          "output_type": "execute_result",
          "data": {
            "text/plain": [
              "(<Figure size 540x144 with 1 Axes>,\n",
              " <matplotlib.axes._axes.Axes at 0x7f10e4cbdfd0>)"
            ]
          },
          "metadata": {},
          "execution_count": 190
        },
        {
          "output_type": "display_data",
          "data": {
            "text/plain": [
              "<Figure size 540x144 with 1 Axes>"
            ],
            "image/png": "[encoded data removed]"
          },
          "metadata": {
            "needs_background": "light"
          }
        }
      ]
    },
    {
      "cell_type": "markdown",
      "source": [
        "the raw data can be retrieved from the \n",
        "stem-and-leaf plot."
      ],
      "metadata": {
        "id": "5HuePlbLBwun"
      }
    },
    {
      "cell_type": "code",
      "source": [
        "cars[:5]"
      ],
      "metadata": {
        "colab": {
          "base_uri": "https://localhost:8080/"
        },
        "id": "MPwVvFlrBWQC",
        "outputId": "a38e92bb-bd5e-48d1-becf-ffdbd6efad7c"
      },
      "execution_count": 193,
      "outputs": [
        {
          "output_type": "execute_result",
          "data": {
            "text/plain": [
              "[3, 0, 1, 2, 1]"
            ]
          },
          "metadata": {},
          "execution_count": 193
        }
      ]
    },
    {
      "cell_type": "markdown",
      "source": [
        "## Dot plots"
      ],
      "metadata": {
        "id": "n4KllHX_CYDM"
      }
    },
    {
      "cell_type": "code",
      "source": [
        "import numpy as np; np.random.seed(13)\n",
        "import matplotlib.pyplot as plt\n",
        "\n",
        "data = cars\n",
        "bins = np.arange(7)-0.5\n",
        "\n",
        "hist, edges = np.histogram(data, bins=bins)\n",
        "\n",
        "y = np.arange(1,hist.max()+1)\n",
        "x = np.arange(6)\n",
        "X,Y = np.meshgrid(x,y)\n",
        "\n",
        "plt.scatter(X,Y, c=Y<=hist, cmap=\"Greys\")\n",
        "plt.title(\"Number of Cars in Households\")\n",
        "plt.xlabel(\"Cars\")\n",
        "plt.show()"
      ],
      "metadata": {
        "colab": {
          "base_uri": "https://localhost:8080/",
          "height": 295
        },
        "id": "gnRD6SXqB1Ri",
        "outputId": "e79b660f-41e8-4db9-8e59-def5b4befe25"
      },
      "execution_count": 203,
      "outputs": [
        {
          "output_type": "display_data",
          "data": {
            "text/plain": [
              "<Figure size 432x288 with 1 Axes>"
            ],
            "image/png": "[encoded data removed]"
          },
          "metadata": {
            "needs_background": "light"
          }
        }
      ]
    },
    {
      "cell_type": "markdown",
      "source": [
        "## Frequency Polygons"
      ],
      "metadata": {
        "id": "CRT1O2B6E_l9"
      }
    },
    {
      "cell_type": "code",
      "source": [
        "original_eruptions"
      ],
      "metadata": {
        "colab": {
          "base_uri": "https://localhost:8080/",
          "height": 269
        },
        "id": "W_wEUvYwCZlf",
        "outputId": "28e05506-e6eb-4ba3-f17e-912e6fa01b14"
      },
      "execution_count": 304,
      "outputs": [
        {
          "output_type": "execute_result",
          "data": {
            "text/plain": [
              "  Time btw eruptions  Frequency  Relative Frequency\n",
              "0          670 - 679          2            0.044444\n",
              "1          680 - 689          0            0.000000\n",
              "2          690 - 699          7            0.155556\n",
              "3          700 - 709          9            0.200000\n",
              "4          710 - 719          9            0.200000\n",
              "5          720 - 729         11            0.244444\n",
              "6          730 - 739          7            0.155556"
            ],
            "text/html": [
              "\n",
              "  <div id=\"df-4b979cd3-82f5-491d-a3b5-32e9c6d39165\">\n",
              "    <div class=\"colab-df-container\">\n",
              "      <div>\n",
              "<style scoped>\n",
              "    .dataframe tbody tr th:only-of-type {\n",
              "        vertical-align: middle;\n",
              "    }\n",
              "\n",
              "    .dataframe tbody tr th {\n",
              "        vertical-align: top;\n",
              "    }\n",
              "\n",
              "    .dataframe thead th {\n",
              "        text-align: right;\n",
              "    }\n",
              "</style>\n",
              "<table border=\"1\" class=\"dataframe\">\n",
              "  <thead>\n",
              "    <tr style=\"text-align: right;\">\n",
              "      <th></th>\n",
              "      <th>Time btw eruptions</th>\n",
              "      <th>Frequency</th>\n",
              "      <th>Relative Frequency</th>\n",
              "    </tr>\n",
              "  </thead>\n",
              "  <tbody>\n",
              "    <tr>\n",
              "      <th>0</th>\n",
              "      <td>670 - 679</td>\n",
              "      <td>2</td>\n",
              "      <td>0.044444</td>\n",
              "    </tr>\n",
              "    <tr>\n",
              "      <th>1</th>\n",
              "      <td>680 - 689</td>\n",
              "      <td>0</td>\n",
              "      <td>0.000000</td>\n",
              "    </tr>\n",
              "    <tr>\n",
              "      <th>2</th>\n",
              "      <td>690 - 699</td>\n",
              "      <td>7</td>\n",
              "      <td>0.155556</td>\n",
              "    </tr>\n",
              "    <tr>\n",
              "      <th>3</th>\n",
              "      <td>700 - 709</td>\n",
              "      <td>9</td>\n",
              "      <td>0.200000</td>\n",
              "    </tr>\n",
              "    <tr>\n",
              "      <th>4</th>\n",
              "      <td>710 - 719</td>\n",
              "      <td>9</td>\n",
              "      <td>0.200000</td>\n",
              "    </tr>\n",
              "    <tr>\n",
              "      <th>5</th>\n",
              "      <td>720 - 729</td>\n",
              "      <td>11</td>\n",
              "      <td>0.244444</td>\n",
              "    </tr>\n",
              "    <tr>\n",
              "      <th>6</th>\n",
              "      <td>730 - 739</td>\n",
              "      <td>7</td>\n",
              "      <td>0.155556</td>\n",
              "    </tr>\n",
              "  </tbody>\n",
              "</table>\n",
              "</div>\n",
              "      <button class=\"colab-df-convert\" onclick=\"convertToInteractive('df-4b979cd3-82f5-491d-a3b5-32e9c6d39165')\"\n",
              "              title=\"Convert this dataframe to an interactive table.\"\n",
              "              style=\"display:none;\">\n",
              "        \n",
              "  <svg xmlns=\"http://www.w3.org/2000/svg\" height=\"24px\"viewBox=\"0 0 24 24\"\n",
              "       width=\"24px\">\n",
              "    <path d=\"M0 0h24v24H0V0z\" fill=\"none\"/>\n",
              "    <path d=\"M18.56 5.44l.94 2.06.94-2.06 2.06-.94-2.06-.94-.94-2.06-.94 2.06-2.06.94zm-11 1L8.5 8.5l.94-2.06 2.06-.94-2.06-.94L8.5 2.5l-.94 2.06-2.06.94zm10 10l.94 2.06.94-2.06 2.06-.94-2.06-.94-.94-2.06-.94 2.06-2.06.94z\"/><path d=\"M17.41 7.96l-1.37-1.37c-.4-.4-.92-.59-1.43-.59-.52 0-1.04.2-1.43.59L10.3 9.45l-7.72 7.72c-.78.78-.78 2.05 0 2.83L4 21.41c.39.39.9.59 1.41.59.51 0 1.02-.2 1.41-.59l7.78-7.78 2.81-2.81c.8-.78.8-2.07 0-2.86zM5.41 20L4 18.59l7.72-7.72 1.47 1.35L5.41 20z\"/>\n",
              "  </svg>\n",
              "      </button>\n",
              "      \n",
              "  <style>\n",
              "    .colab-df-container {\n",
              "      display:flex;\n",
              "      flex-wrap:wrap;\n",
              "      gap: 12px;\n",
              "    }\n",
              "\n",
              "    .colab-df-convert {\n",
              "      background-color: #E8F0FE;\n",
              "      border: none;\n",
              "      border-radius: 50%;\n",
              "      cursor: pointer;\n",
              "      display: none;\n",
              "      fill: #1967D2;\n",
              "      height: 32px;\n",
              "      padding: 0 0 0 0;\n",
              "      width: 32px;\n",
              "    }\n",
              "\n",
              "    .colab-df-convert:hover {\n",
              "      background-color: #E2EBFA;\n",
              "      box-shadow: 0px 1px 2px rgba(60, 64, 67, 0.3), 0px 1px 3px 1px rgba(60, 64, 67, 0.15);\n",
              "      fill: #174EA6;\n",
              "    }\n",
              "\n",
              "    [theme=dark] .colab-df-convert {\n",
              "      background-color: #3B4455;\n",
              "      fill: #D2E3FC;\n",
              "    }\n",
              "\n",
              "    [theme=dark] .colab-df-convert:hover {\n",
              "      background-color: #434B5C;\n",
              "      box-shadow: 0px 1px 3px 1px rgba(0, 0, 0, 0.15);\n",
              "      filter: drop-shadow(0px 1px 2px rgba(0, 0, 0, 0.3));\n",
              "      fill: #FFFFFF;\n",
              "    }\n",
              "  </style>\n",
              "\n",
              "      <script>\n",
              "        const buttonEl =\n",
              "          document.querySelector('#df-4b979cd3-82f5-491d-a3b5-32e9c6d39165 button.colab-df-convert');\n",
              "        buttonEl.style.display =\n",
              "          google.colab.kernel.accessAllowed ? 'block' : 'none';\n",
              "\n",
              "        async function convertToInteractive(key) {\n",
              "          const element = document.querySelector('#df-4b979cd3-82f5-491d-a3b5-32e9c6d39165');\n",
              "          const dataTable =\n",
              "            await google.colab.kernel.invokeFunction('convertToInteractive',\n",
              "                                                     [key], {});\n",
              "          if (!dataTable) return;\n",
              "\n",
              "          const docLinkHtml = 'Like what you see? Visit the ' +\n",
              "            '<a target=\"_blank\" href=https://colab.research.google.com/notebooks/data_table.ipynb>data table notebook</a>'\n",
              "            + ' to learn more about interactive tables.';\n",
              "          element.innerHTML = '';\n",
              "          dataTable['output_type'] = 'display_data';\n",
              "          await google.colab.output.renderOutput(dataTable, element);\n",
              "          const docLink = document.createElement('div');\n",
              "          docLink.innerHTML = docLinkHtml;\n",
              "          element.appendChild(docLink);\n",
              "        }\n",
              "      </script>\n",
              "    </div>\n",
              "  </div>\n",
              "  "
            ]
          },
          "metadata": {},
          "execution_count": 304
        }
      ]
    },
    {
      "cell_type": "code",
      "source": [
        "original_eruptions['Class Midpoint'] = [675 + i for i in range(0,70,10)]"
      ],
      "metadata": {
        "id": "qbdTxXz4FNlA"
      },
      "execution_count": 305,
      "outputs": []
    },
    {
      "cell_type": "code",
      "source": [
        "original_eruptions.loc[-1] = ['660 - 669', 0,0.,665]\n",
        "original_eruptions.index = original_eruptions.index + 1\n",
        "original_eruptions = original_eruptions.sort_values(by = 'Class Midpoint')\n",
        "original_eruptions.reset_index(inplace = True)"
      ],
      "metadata": {
        "id": "9S1CWzjLGwO5"
      },
      "execution_count": 306,
      "outputs": []
    },
    {
      "cell_type": "code",
      "source": [
        "original_eruptions = original_eruptions.drop(columns = 'index')"
      ],
      "metadata": {
        "id": "9yDQUQZ9Fd_a"
      },
      "execution_count": 309,
      "outputs": []
    },
    {
      "cell_type": "code",
      "source": [
        "original_eruptions = original_eruptions.append({'Time btw eruptions': '740-749','Frequency': 0,'Relative Frequency':0.,'Class Midpoint':745},ignore_index = True)"
      ],
      "metadata": {
        "id": "d4rCSI4NH-1d"
      },
      "execution_count": 310,
      "outputs": []
    },
    {
      "cell_type": "code",
      "source": [
        "original_eruptions = original_eruptions[:][:-1]"
      ],
      "metadata": {
        "id": "GV2eh_DqIWW-"
      },
      "execution_count": 318,
      "outputs": []
    },
    {
      "cell_type": "code",
      "source": [
        "original_eruptions"
      ],
      "metadata": {
        "colab": {
          "base_uri": "https://localhost:8080/",
          "height": 332
        },
        "id": "0tpcqBXNJepP",
        "outputId": "03718c36-2c35-41a4-c308-301f477f92ed"
      },
      "execution_count": 321,
      "outputs": [
        {
          "output_type": "execute_result",
          "data": {
            "text/plain": [
              "  Time btw eruptions  Frequency  Relative Frequency  Class Midpoint\n",
              "0          660 - 669          0            0.000000             665\n",
              "1          670 - 679          2            0.044444             675\n",
              "2          680 - 689          0            0.000000             685\n",
              "3          690 - 699          7            0.155556             695\n",
              "4          700 - 709          9            0.200000             705\n",
              "5          710 - 719          9            0.200000             715\n",
              "6          720 - 729         11            0.244444             725\n",
              "7          730 - 739          7            0.155556             735\n",
              "8            740-749          0            0.000000             745"
            ],
            "text/html": [
              "\n",
              "  <div id=\"df-b9340417-a35b-4855-83c6-ad23feb65f2b\">\n",
              "    <div class=\"colab-df-container\">\n",
              "      <div>\n",
              "<style scoped>\n",
              "    .dataframe tbody tr th:only-of-type {\n",
              "        vertical-align: middle;\n",
              "    }\n",
              "\n",
              "    .dataframe tbody tr th {\n",
              "        vertical-align: top;\n",
              "    }\n",
              "\n",
              "    .dataframe thead th {\n",
              "        text-align: right;\n",
              "    }\n",
              "</style>\n",
              "<table border=\"1\" class=\"dataframe\">\n",
              "  <thead>\n",
              "    <tr style=\"text-align: right;\">\n",
              "      <th></th>\n",
              "      <th>Time btw eruptions</th>\n",
              "      <th>Frequency</th>\n",
              "      <th>Relative Frequency</th>\n",
              "      <th>Class Midpoint</th>\n",
              "    </tr>\n",
              "  </thead>\n",
              "  <tbody>\n",
              "    <tr>\n",
              "      <th>0</th>\n",
              "      <td>660 - 669</td>\n",
              "      <td>0</td>\n",
              "      <td>0.000000</td>\n",
              "      <td>665</td>\n",
              "    </tr>\n",
              "    <tr>\n",
              "      <th>1</th>\n",
              "      <td>670 - 679</td>\n",
              "      <td>2</td>\n",
              "      <td>0.044444</td>\n",
              "      <td>675</td>\n",
              "    </tr>\n",
              "    <tr>\n",
              "      <th>2</th>\n",
              "      <td>680 - 689</td>\n",
              "      <td>0</td>\n",
              "      <td>0.000000</td>\n",
              "      <td>685</td>\n",
              "    </tr>\n",
              "    <tr>\n",
              "      <th>3</th>\n",
              "      <td>690 - 699</td>\n",
              "      <td>7</td>\n",
              "      <td>0.155556</td>\n",
              "      <td>695</td>\n",
              "    </tr>\n",
              "    <tr>\n",
              "      <th>4</th>\n",
              "      <td>700 - 709</td>\n",
              "      <td>9</td>\n",
              "      <td>0.200000</td>\n",
              "      <td>705</td>\n",
              "    </tr>\n",
              "    <tr>\n",
              "      <th>5</th>\n",
              "      <td>710 - 719</td>\n",
              "      <td>9</td>\n",
              "      <td>0.200000</td>\n",
              "      <td>715</td>\n",
              "    </tr>\n",
              "    <tr>\n",
              "      <th>6</th>\n",
              "      <td>720 - 729</td>\n",
              "      <td>11</td>\n",
              "      <td>0.244444</td>\n",
              "      <td>725</td>\n",
              "    </tr>\n",
              "    <tr>\n",
              "      <th>7</th>\n",
              "      <td>730 - 739</td>\n",
              "      <td>7</td>\n",
              "      <td>0.155556</td>\n",
              "      <td>735</td>\n",
              "    </tr>\n",
              "    <tr>\n",
              "      <th>8</th>\n",
              "      <td>740-749</td>\n",
              "      <td>0</td>\n",
              "      <td>0.000000</td>\n",
              "      <td>745</td>\n",
              "    </tr>\n",
              "  </tbody>\n",
              "</table>\n",
              "</div>\n",
              "      <button class=\"colab-df-convert\" onclick=\"convertToInteractive('df-b9340417-a35b-4855-83c6-ad23feb65f2b')\"\n",
              "              title=\"Convert this dataframe to an interactive table.\"\n",
              "              style=\"display:none;\">\n",
              "        \n",
              "  <svg xmlns=\"http://www.w3.org/2000/svg\" height=\"24px\"viewBox=\"0 0 24 24\"\n",
              "       width=\"24px\">\n",
              "    <path d=\"M0 0h24v24H0V0z\" fill=\"none\"/>\n",
              "    <path d=\"M18.56 5.44l.94 2.06.94-2.06 2.06-.94-2.06-.94-.94-2.06-.94 2.06-2.06.94zm-11 1L8.5 8.5l.94-2.06 2.06-.94-2.06-.94L8.5 2.5l-.94 2.06-2.06.94zm10 10l.94 2.06.94-2.06 2.06-.94-2.06-.94-.94-2.06-.94 2.06-2.06.94z\"/><path d=\"M17.41 7.96l-1.37-1.37c-.4-.4-.92-.59-1.43-.59-.52 0-1.04.2-1.43.59L10.3 9.45l-7.72 7.72c-.78.78-.78 2.05 0 2.83L4 21.41c.39.39.9.59 1.41.59.51 0 1.02-.2 1.41-.59l7.78-7.78 2.81-2.81c.8-.78.8-2.07 0-2.86zM5.41 20L4 18.59l7.72-7.72 1.47 1.35L5.41 20z\"/>\n",
              "  </svg>\n",
              "      </button>\n",
              "      \n",
              "  <style>\n",
              "    .colab-df-container {\n",
              "      display:flex;\n",
              "      flex-wrap:wrap;\n",
              "      gap: 12px;\n",
              "    }\n",
              "\n",
              "    .colab-df-convert {\n",
              "      background-color: #E8F0FE;\n",
              "      border: none;\n",
              "      border-radius: 50%;\n",
              "      cursor: pointer;\n",
              "      display: none;\n",
              "      fill: #1967D2;\n",
              "      height: 32px;\n",
              "      padding: 0 0 0 0;\n",
              "      width: 32px;\n",
              "    }\n",
              "\n",
              "    .colab-df-convert:hover {\n",
              "      background-color: #E2EBFA;\n",
              "      box-shadow: 0px 1px 2px rgba(60, 64, 67, 0.3), 0px 1px 3px 1px rgba(60, 64, 67, 0.15);\n",
              "      fill: #174EA6;\n",
              "    }\n",
              "\n",
              "    [theme=dark] .colab-df-convert {\n",
              "      background-color: #3B4455;\n",
              "      fill: #D2E3FC;\n",
              "    }\n",
              "\n",
              "    [theme=dark] .colab-df-convert:hover {\n",
              "      background-color: #434B5C;\n",
              "      box-shadow: 0px 1px 3px 1px rgba(0, 0, 0, 0.15);\n",
              "      filter: drop-shadow(0px 1px 2px rgba(0, 0, 0, 0.3));\n",
              "      fill: #FFFFFF;\n",
              "    }\n",
              "  </style>\n",
              "\n",
              "      <script>\n",
              "        const buttonEl =\n",
              "          document.querySelector('#df-b9340417-a35b-4855-83c6-ad23feb65f2b button.colab-df-convert');\n",
              "        buttonEl.style.display =\n",
              "          google.colab.kernel.accessAllowed ? 'block' : 'none';\n",
              "\n",
              "        async function convertToInteractive(key) {\n",
              "          const element = document.querySelector('#df-b9340417-a35b-4855-83c6-ad23feb65f2b');\n",
              "          const dataTable =\n",
              "            await google.colab.kernel.invokeFunction('convertToInteractive',\n",
              "                                                     [key], {});\n",
              "          if (!dataTable) return;\n",
              "\n",
              "          const docLinkHtml = 'Like what you see? Visit the ' +\n",
              "            '<a target=\"_blank\" href=https://colab.research.google.com/notebooks/data_table.ipynb>data table notebook</a>'\n",
              "            + ' to learn more about interactive tables.';\n",
              "          element.innerHTML = '';\n",
              "          dataTable['output_type'] = 'display_data';\n",
              "          await google.colab.output.renderOutput(dataTable, element);\n",
              "          const docLink = document.createElement('div');\n",
              "          docLink.innerHTML = docLinkHtml;\n",
              "          element.appendChild(docLink);\n",
              "        }\n",
              "      </script>\n",
              "    </div>\n",
              "  </div>\n",
              "  "
            ]
          },
          "metadata": {},
          "execution_count": 321
        }
      ]
    },
    {
      "cell_type": "code",
      "source": [
        "plt.plot(original_eruptions['Class Midpoint'],original_eruptions['Frequency'])\n",
        "plt.xlim(665,745)\n",
        "plt.ylim(0,13)\n",
        "plt.show()"
      ],
      "metadata": {
        "colab": {
          "base_uri": "https://localhost:8080/",
          "height": 265
        },
        "id": "mRbVw1jnFfMy",
        "outputId": "c00781b8-bf2b-4b70-e0ea-b6ed8ea32312"
      },
      "execution_count": 325,
      "outputs": [
        {
          "output_type": "display_data",
          "data": {
            "text/plain": [
              "<Figure size 432x288 with 1 Axes>"
            ],
            "image/png": "[encoded data removed]"
          },
          "metadata": {
            "needs_background": "light"
          }
        }
      ]
    },
    {
      "cell_type": "markdown",
      "source": [
        "## Cumulative Frequency and Cumulative Relative Frequency"
      ],
      "metadata": {
        "id": "3DOWJkD6J4Xr"
      }
    },
    {
      "cell_type": "code",
      "source": [
        "original_eruptions"
      ],
      "metadata": {
        "colab": {
          "base_uri": "https://localhost:8080/",
          "height": 332
        },
        "id": "LOdHmngoF14x",
        "outputId": "76d842e8-9d19-4d7d-c834-c32e330fb249"
      },
      "execution_count": 326,
      "outputs": [
        {
          "output_type": "execute_result",
          "data": {
            "text/plain": [
              "  Time btw eruptions  Frequency  Relative Frequency  Class Midpoint\n",
              "0          660 - 669          0            0.000000             665\n",
              "1          670 - 679          2            0.044444             675\n",
              "2          680 - 689          0            0.000000             685\n",
              "3          690 - 699          7            0.155556             695\n",
              "4          700 - 709          9            0.200000             705\n",
              "5          710 - 719          9            0.200000             715\n",
              "6          720 - 729         11            0.244444             725\n",
              "7          730 - 739          7            0.155556             735\n",
              "8            740-749          0            0.000000             745"
            ],
            "text/html": [
              "\n",
              "  <div id=\"df-52a74acf-eb5e-44a6-995b-7cde02334ad3\">\n",
              "    <div class=\"colab-df-container\">\n",
              "      <div>\n",
              "<style scoped>\n",
              "    .dataframe tbody tr th:only-of-type {\n",
              "        vertical-align: middle;\n",
              "    }\n",
              "\n",
              "    .dataframe tbody tr th {\n",
              "        vertical-align: top;\n",
              "    }\n",
              "\n",
              "    .dataframe thead th {\n",
              "        text-align: right;\n",
              "    }\n",
              "</style>\n",
              "<table border=\"1\" class=\"dataframe\">\n",
              "  <thead>\n",
              "    <tr style=\"text-align: right;\">\n",
              "      <th></th>\n",
              "      <th>Time btw eruptions</th>\n",
              "      <th>Frequency</th>\n",
              "      <th>Relative Frequency</th>\n",
              "      <th>Class Midpoint</th>\n",
              "    </tr>\n",
              "  </thead>\n",
              "  <tbody>\n",
              "    <tr>\n",
              "      <th>0</th>\n",
              "      <td>660 - 669</td>\n",
              "      <td>0</td>\n",
              "      <td>0.000000</td>\n",
              "      <td>665</td>\n",
              "    </tr>\n",
              "    <tr>\n",
              "      <th>1</th>\n",
              "      <td>670 - 679</td>\n",
              "      <td>2</td>\n",
              "      <td>0.044444</td>\n",
              "      <td>675</td>\n",
              "    </tr>\n",
              "    <tr>\n",
              "      <th>2</th>\n",
              "      <td>680 - 689</td>\n",
              "      <td>0</td>\n",
              "      <td>0.000000</td>\n",
              "      <td>685</td>\n",
              "    </tr>\n",
              "    <tr>\n",
              "      <th>3</th>\n",
              "      <td>690 - 699</td>\n",
              "      <td>7</td>\n",
              "      <td>0.155556</td>\n",
              "      <td>695</td>\n",
              "    </tr>\n",
              "    <tr>\n",
              "      <th>4</th>\n",
              "      <td>700 - 709</td>\n",
              "      <td>9</td>\n",
              "      <td>0.200000</td>\n",
              "      <td>705</td>\n",
              "    </tr>\n",
              "    <tr>\n",
              "      <th>5</th>\n",
              "      <td>710 - 719</td>\n",
              "      <td>9</td>\n",
              "      <td>0.200000</td>\n",
              "      <td>715</td>\n",
              "    </tr>\n",
              "    <tr>\n",
              "      <th>6</th>\n",
              "      <td>720 - 729</td>\n",
              "      <td>11</td>\n",
              "      <td>0.244444</td>\n",
              "      <td>725</td>\n",
              "    </tr>\n",
              "    <tr>\n",
              "      <th>7</th>\n",
              "      <td>730 - 739</td>\n",
              "      <td>7</td>\n",
              "      <td>0.155556</td>\n",
              "      <td>735</td>\n",
              "    </tr>\n",
              "    <tr>\n",
              "      <th>8</th>\n",
              "      <td>740-749</td>\n",
              "      <td>0</td>\n",
              "      <td>0.000000</td>\n",
              "      <td>745</td>\n",
              "    </tr>\n",
              "  </tbody>\n",
              "</table>\n",
              "</div>\n",
              "      <button class=\"colab-df-convert\" onclick=\"convertToInteractive('df-52a74acf-eb5e-44a6-995b-7cde02334ad3')\"\n",
              "              title=\"Convert this dataframe to an interactive table.\"\n",
              "              style=\"display:none;\">\n",
              "        \n",
              "  <svg xmlns=\"http://www.w3.org/2000/svg\" height=\"24px\"viewBox=\"0 0 24 24\"\n",
              "       width=\"24px\">\n",
              "    <path d=\"M0 0h24v24H0V0z\" fill=\"none\"/>\n",
              "    <path d=\"M18.56 5.44l.94 2.06.94-2.06 2.06-.94-2.06-.94-.94-2.06-.94 2.06-2.06.94zm-11 1L8.5 8.5l.94-2.06 2.06-.94-2.06-.94L8.5 2.5l-.94 2.06-2.06.94zm10 10l.94 2.06.94-2.06 2.06-.94-2.06-.94-.94-2.06-.94 2.06-2.06.94z\"/><path d=\"M17.41 7.96l-1.37-1.37c-.4-.4-.92-.59-1.43-.59-.52 0-1.04.2-1.43.59L10.3 9.45l-7.72 7.72c-.78.78-.78 2.05 0 2.83L4 21.41c.39.39.9.59 1.41.59.51 0 1.02-.2 1.41-.59l7.78-7.78 2.81-2.81c.8-.78.8-2.07 0-2.86zM5.41 20L4 18.59l7.72-7.72 1.47 1.35L5.41 20z\"/>\n",
              "  </svg>\n",
              "      </button>\n",
              "      \n",
              "  <style>\n",
              "    .colab-df-container {\n",
              "      display:flex;\n",
              "      flex-wrap:wrap;\n",
              "      gap: 12px;\n",
              "    }\n",
              "\n",
              "    .colab-df-convert {\n",
              "      background-color: #E8F0FE;\n",
              "      border: none;\n",
              "      border-radius: 50%;\n",
              "      cursor: pointer;\n",
              "      display: none;\n",
              "      fill: #1967D2;\n",
              "      height: 32px;\n",
              "      padding: 0 0 0 0;\n",
              "      width: 32px;\n",
              "    }\n",
              "\n",
              "    .colab-df-convert:hover {\n",
              "      background-color: #E2EBFA;\n",
              "      box-shadow: 0px 1px 2px rgba(60, 64, 67, 0.3), 0px 1px 3px 1px rgba(60, 64, 67, 0.15);\n",
              "      fill: #174EA6;\n",
              "    }\n",
              "\n",
              "    [theme=dark] .colab-df-convert {\n",
              "      background-color: #3B4455;\n",
              "      fill: #D2E3FC;\n",
              "    }\n",
              "\n",
              "    [theme=dark] .colab-df-convert:hover {\n",
              "      background-color: #434B5C;\n",
              "      box-shadow: 0px 1px 3px 1px rgba(0, 0, 0, 0.15);\n",
              "      filter: drop-shadow(0px 1px 2px rgba(0, 0, 0, 0.3));\n",
              "      fill: #FFFFFF;\n",
              "    }\n",
              "  </style>\n",
              "\n",
              "      <script>\n",
              "        const buttonEl =\n",
              "          document.querySelector('#df-52a74acf-eb5e-44a6-995b-7cde02334ad3 button.colab-df-convert');\n",
              "        buttonEl.style.display =\n",
              "          google.colab.kernel.accessAllowed ? 'block' : 'none';\n",
              "\n",
              "        async function convertToInteractive(key) {\n",
              "          const element = document.querySelector('#df-52a74acf-eb5e-44a6-995b-7cde02334ad3');\n",
              "          const dataTable =\n",
              "            await google.colab.kernel.invokeFunction('convertToInteractive',\n",
              "                                                     [key], {});\n",
              "          if (!dataTable) return;\n",
              "\n",
              "          const docLinkHtml = 'Like what you see? Visit the ' +\n",
              "            '<a target=\"_blank\" href=https://colab.research.google.com/notebooks/data_table.ipynb>data table notebook</a>'\n",
              "            + ' to learn more about interactive tables.';\n",
              "          element.innerHTML = '';\n",
              "          dataTable['output_type'] = 'display_data';\n",
              "          await google.colab.output.renderOutput(dataTable, element);\n",
              "          const docLink = document.createElement('div');\n",
              "          docLink.innerHTML = docLinkHtml;\n",
              "          element.appendChild(docLink);\n",
              "        }\n",
              "      </script>\n",
              "    </div>\n",
              "  </div>\n",
              "  "
            ]
          },
          "metadata": {},
          "execution_count": 326
        }
      ]
    },
    {
      "cell_type": "code",
      "source": [
        "CF = np.zeros(9)#cumulative freq\n",
        "CRF = np.zeros(9)#cumulative relative freq\n",
        "for i in range(9):\n",
        "  CF[i] = sum(original_eruptions['Frequency'][0:i+1])\n",
        "  CRF[i] = sum(original_eruptions['Relative Frequency'][0:i+1])"
      ],
      "metadata": {
        "id": "p933ZXlvJ9u0"
      },
      "execution_count": 334,
      "outputs": []
    },
    {
      "cell_type": "code",
      "source": [
        "cumul = original_eruptions\n",
        "cumul['Cumulative F']= CF\n",
        "cumul['Cumulative Relative F'] = CRF"
      ],
      "metadata": {
        "id": "mXXtF2fSKNDY"
      },
      "execution_count": 335,
      "outputs": []
    },
    {
      "cell_type": "code",
      "source": [
        "cumul[:][1:8]"
      ],
      "metadata": {
        "colab": {
          "base_uri": "https://localhost:8080/",
          "height": 330
        },
        "id": "UP95RlB4KsDp",
        "outputId": "ee552185-701b-4731-b790-124b809861f2"
      },
      "execution_count": 337,
      "outputs": [
        {
          "output_type": "execute_result",
          "data": {
            "text/plain": [
              "  Time btw eruptions  Frequency  Relative Frequency  Class Midpoint  \\\n",
              "1          670 - 679          2            0.044444             675   \n",
              "2          680 - 689          0            0.000000             685   \n",
              "3          690 - 699          7            0.155556             695   \n",
              "4          700 - 709          9            0.200000             705   \n",
              "5          710 - 719          9            0.200000             715   \n",
              "6          720 - 729         11            0.244444             725   \n",
              "7          730 - 739          7            0.155556             735   \n",
              "\n",
              "   Cumulative F  Cumulative Relative F  \n",
              "1           2.0               0.044444  \n",
              "2           2.0               0.044444  \n",
              "3           9.0               0.200000  \n",
              "4          18.0               0.400000  \n",
              "5          27.0               0.600000  \n",
              "6          38.0               0.844444  \n",
              "7          45.0               1.000000  "
            ],
            "text/html": [
              "\n",
              "  <div id=\"df-375595f7-b0b3-4726-8d7e-c4010e11d45e\">\n",
              "    <div class=\"colab-df-container\">\n",
              "      <div>\n",
              "<style scoped>\n",
              "    .dataframe tbody tr th:only-of-type {\n",
              "        vertical-align: middle;\n",
              "    }\n",
              "\n",
              "    .dataframe tbody tr th {\n",
              "        vertical-align: top;\n",
              "    }\n",
              "\n",
              "    .dataframe thead th {\n",
              "        text-align: right;\n",
              "    }\n",
              "</style>\n",
              "<table border=\"1\" class=\"dataframe\">\n",
              "  <thead>\n",
              "    <tr style=\"text-align: right;\">\n",
              "      <th></th>\n",
              "      <th>Time btw eruptions</th>\n",
              "      <th>Frequency</th>\n",
              "      <th>Relative Frequency</th>\n",
              "      <th>Class Midpoint</th>\n",
              "      <th>Cumulative F</th>\n",
              "      <th>Cumulative Relative F</th>\n",
              "    </tr>\n",
              "  </thead>\n",
              "  <tbody>\n",
              "    <tr>\n",
              "      <th>1</th>\n",
              "      <td>670 - 679</td>\n",
              "      <td>2</td>\n",
              "      <td>0.044444</td>\n",
              "      <td>675</td>\n",
              "      <td>2.0</td>\n",
              "      <td>0.044444</td>\n",
              "    </tr>\n",
              "    <tr>\n",
              "      <th>2</th>\n",
              "      <td>680 - 689</td>\n",
              "      <td>0</td>\n",
              "      <td>0.000000</td>\n",
              "      <td>685</td>\n",
              "      <td>2.0</td>\n",
              "      <td>0.044444</td>\n",
              "    </tr>\n",
              "    <tr>\n",
              "      <th>3</th>\n",
              "      <td>690 - 699</td>\n",
              "      <td>7</td>\n",
              "      <td>0.155556</td>\n",
              "      <td>695</td>\n",
              "      <td>9.0</td>\n",
              "      <td>0.200000</td>\n",
              "    </tr>\n",
              "    <tr>\n",
              "      <th>4</th>\n",
              "      <td>700 - 709</td>\n",
              "      <td>9</td>\n",
              "      <td>0.200000</td>\n",
              "      <td>705</td>\n",
              "      <td>18.0</td>\n",
              "      <td>0.400000</td>\n",
              "    </tr>\n",
              "    <tr>\n",
              "      <th>5</th>\n",
              "      <td>710 - 719</td>\n",
              "      <td>9</td>\n",
              "      <td>0.200000</td>\n",
              "      <td>715</td>\n",
              "      <td>27.0</td>\n",
              "      <td>0.600000</td>\n",
              "    </tr>\n",
              "    <tr>\n",
              "      <th>6</th>\n",
              "      <td>720 - 729</td>\n",
              "      <td>11</td>\n",
              "      <td>0.244444</td>\n",
              "      <td>725</td>\n",
              "      <td>38.0</td>\n",
              "      <td>0.844444</td>\n",
              "    </tr>\n",
              "    <tr>\n",
              "      <th>7</th>\n",
              "      <td>730 - 739</td>\n",
              "      <td>7</td>\n",
              "      <td>0.155556</td>\n",
              "      <td>735</td>\n",
              "      <td>45.0</td>\n",
              "      <td>1.000000</td>\n",
              "    </tr>\n",
              "  </tbody>\n",
              "</table>\n",
              "</div>\n",
              "      <button class=\"colab-df-convert\" onclick=\"convertToInteractive('df-375595f7-b0b3-4726-8d7e-c4010e11d45e')\"\n",
              "              title=\"Convert this dataframe to an interactive table.\"\n",
              "              style=\"display:none;\">\n",
              "        \n",
              "  <svg xmlns=\"http://www.w3.org/2000/svg\" height=\"24px\"viewBox=\"0 0 24 24\"\n",
              "       width=\"24px\">\n",
              "    <path d=\"M0 0h24v24H0V0z\" fill=\"none\"/>\n",
              "    <path d=\"M18.56 5.44l.94 2.06.94-2.06 2.06-.94-2.06-.94-.94-2.06-.94 2.06-2.06.94zm-11 1L8.5 8.5l.94-2.06 2.06-.94-2.06-.94L8.5 2.5l-.94 2.06-2.06.94zm10 10l.94 2.06.94-2.06 2.06-.94-2.06-.94-.94-2.06-.94 2.06-2.06.94z\"/><path d=\"M17.41 7.96l-1.37-1.37c-.4-.4-.92-.59-1.43-.59-.52 0-1.04.2-1.43.59L10.3 9.45l-7.72 7.72c-.78.78-.78 2.05 0 2.83L4 21.41c.39.39.9.59 1.41.59.51 0 1.02-.2 1.41-.59l7.78-7.78 2.81-2.81c.8-.78.8-2.07 0-2.86zM5.41 20L4 18.59l7.72-7.72 1.47 1.35L5.41 20z\"/>\n",
              "  </svg>\n",
              "      </button>\n",
              "      \n",
              "  <style>\n",
              "    .colab-df-container {\n",
              "      display:flex;\n",
              "      flex-wrap:wrap;\n",
              "      gap: 12px;\n",
              "    }\n",
              "\n",
              "    .colab-df-convert {\n",
              "      background-color: #E8F0FE;\n",
              "      border: none;\n",
              "      border-radius: 50%;\n",
              "      cursor: pointer;\n",
              "      display: none;\n",
              "      fill: #1967D2;\n",
              "      height: 32px;\n",
              "      padding: 0 0 0 0;\n",
              "      width: 32px;\n",
              "    }\n",
              "\n",
              "    .colab-df-convert:hover {\n",
              "      background-color: #E2EBFA;\n",
              "      box-shadow: 0px 1px 2px rgba(60, 64, 67, 0.3), 0px 1px 3px 1px rgba(60, 64, 67, 0.15);\n",
              "      fill: #174EA6;\n",
              "    }\n",
              "\n",
              "    [theme=dark] .colab-df-convert {\n",
              "      background-color: #3B4455;\n",
              "      fill: #D2E3FC;\n",
              "    }\n",
              "\n",
              "    [theme=dark] .colab-df-convert:hover {\n",
              "      background-color: #434B5C;\n",
              "      box-shadow: 0px 1px 3px 1px rgba(0, 0, 0, 0.15);\n",
              "      filter: drop-shadow(0px 1px 2px rgba(0, 0, 0, 0.3));\n",
              "      fill: #FFFFFF;\n",
              "    }\n",
              "  </style>\n",
              "\n",
              "      <script>\n",
              "        const buttonEl =\n",
              "          document.querySelector('#df-375595f7-b0b3-4726-8d7e-c4010e11d45e button.colab-df-convert');\n",
              "        buttonEl.style.display =\n",
              "          google.colab.kernel.accessAllowed ? 'block' : 'none';\n",
              "\n",
              "        async function convertToInteractive(key) {\n",
              "          const element = document.querySelector('#df-375595f7-b0b3-4726-8d7e-c4010e11d45e');\n",
              "          const dataTable =\n",
              "            await google.colab.kernel.invokeFunction('convertToInteractive',\n",
              "                                                     [key], {});\n",
              "          if (!dataTable) return;\n",
              "\n",
              "          const docLinkHtml = 'Like what you see? Visit the ' +\n",
              "            '<a target=\"_blank\" href=https://colab.research.google.com/notebooks/data_table.ipynb>data table notebook</a>'\n",
              "            + ' to learn more about interactive tables.';\n",
              "          element.innerHTML = '';\n",
              "          dataTable['output_type'] = 'display_data';\n",
              "          await google.colab.output.renderOutput(dataTable, element);\n",
              "          const docLink = document.createElement('div');\n",
              "          docLink.innerHTML = docLinkHtml;\n",
              "          element.appendChild(docLink);\n",
              "        }\n",
              "      </script>\n",
              "    </div>\n",
              "  </div>\n",
              "  "
            ]
          },
          "metadata": {},
          "execution_count": 337
        }
      ]
    },
    {
      "cell_type": "markdown",
      "source": [
        "## Frequency Ogive"
      ],
      "metadata": {
        "id": "8qKGAw6kK9AV"
      }
    },
    {
      "cell_type": "code",
      "source": [
        "ogive = cumul[:][1:8]\n",
        "ogive['xaxis'] = [o[-3:] for o in ogive['Time btw eruptions']]"
      ],
      "metadata": {
        "id": "8DlPdY3XKsXp"
      },
      "execution_count": 342,
      "outputs": []
    },
    {
      "cell_type": "code",
      "source": [
        "ogive"
      ],
      "metadata": {
        "colab": {
          "base_uri": "https://localhost:8080/",
          "height": 330
        },
        "id": "siykJmgmLYJp",
        "outputId": "cfe8a6eb-2fbd-4f02-a819-dcb13c0417b7"
      },
      "execution_count": 343,
      "outputs": [
        {
          "output_type": "execute_result",
          "data": {
            "text/plain": [
              "  Time btw eruptions  Frequency  Relative Frequency  Class Midpoint  \\\n",
              "1          670 - 679          2            0.044444             675   \n",
              "2          680 - 689          0            0.000000             685   \n",
              "3          690 - 699          7            0.155556             695   \n",
              "4          700 - 709          9            0.200000             705   \n",
              "5          710 - 719          9            0.200000             715   \n",
              "6          720 - 729         11            0.244444             725   \n",
              "7          730 - 739          7            0.155556             735   \n",
              "\n",
              "   Cumulative F  Cumulative Relative F xaxis  \n",
              "1           2.0               0.044444   679  \n",
              "2           2.0               0.044444   689  \n",
              "3           9.0               0.200000   699  \n",
              "4          18.0               0.400000   709  \n",
              "5          27.0               0.600000   719  \n",
              "6          38.0               0.844444   729  \n",
              "7          45.0               1.000000   739  "
            ],
            "text/html": [
              "\n",
              "  <div id=\"df-b03bff5a-cb32-4b3c-a365-12b719b983dc\">\n",
              "    <div class=\"colab-df-container\">\n",
              "      <div>\n",
              "<style scoped>\n",
              "    .dataframe tbody tr th:only-of-type {\n",
              "        vertical-align: middle;\n",
              "    }\n",
              "\n",
              "    .dataframe tbody tr th {\n",
              "        vertical-align: top;\n",
              "    }\n",
              "\n",
              "    .dataframe thead th {\n",
              "        text-align: right;\n",
              "    }\n",
              "</style>\n",
              "<table border=\"1\" class=\"dataframe\">\n",
              "  <thead>\n",
              "    <tr style=\"text-align: right;\">\n",
              "      <th></th>\n",
              "      <th>Time btw eruptions</th>\n",
              "      <th>Frequency</th>\n",
              "      <th>Relative Frequency</th>\n",
              "      <th>Class Midpoint</th>\n",
              "      <th>Cumulative F</th>\n",
              "      <th>Cumulative Relative F</th>\n",
              "      <th>xaxis</th>\n",
              "    </tr>\n",
              "  </thead>\n",
              "  <tbody>\n",
              "    <tr>\n",
              "      <th>1</th>\n",
              "      <td>670 - 679</td>\n",
              "      <td>2</td>\n",
              "      <td>0.044444</td>\n",
              "      <td>675</td>\n",
              "      <td>2.0</td>\n",
              "      <td>0.044444</td>\n",
              "      <td>679</td>\n",
              "    </tr>\n",
              "    <tr>\n",
              "      <th>2</th>\n",
              "      <td>680 - 689</td>\n",
              "      <td>0</td>\n",
              "      <td>0.000000</td>\n",
              "      <td>685</td>\n",
              "      <td>2.0</td>\n",
              "      <td>0.044444</td>\n",
              "      <td>689</td>\n",
              "    </tr>\n",
              "    <tr>\n",
              "      <th>3</th>\n",
              "      <td>690 - 699</td>\n",
              "      <td>7</td>\n",
              "      <td>0.155556</td>\n",
              "      <td>695</td>\n",
              "      <td>9.0</td>\n",
              "      <td>0.200000</td>\n",
              "      <td>699</td>\n",
              "    </tr>\n",
              "    <tr>\n",
              "      <th>4</th>\n",
              "      <td>700 - 709</td>\n",
              "      <td>9</td>\n",
              "      <td>0.200000</td>\n",
              "      <td>705</td>\n",
              "      <td>18.0</td>\n",
              "      <td>0.400000</td>\n",
              "      <td>709</td>\n",
              "    </tr>\n",
              "    <tr>\n",
              "      <th>5</th>\n",
              "      <td>710 - 719</td>\n",
              "      <td>9</td>\n",
              "      <td>0.200000</td>\n",
              "      <td>715</td>\n",
              "      <td>27.0</td>\n",
              "      <td>0.600000</td>\n",
              "      <td>719</td>\n",
              "    </tr>\n",
              "    <tr>\n",
              "      <th>6</th>\n",
              "      <td>720 - 729</td>\n",
              "      <td>11</td>\n",
              "      <td>0.244444</td>\n",
              "      <td>725</td>\n",
              "      <td>38.0</td>\n",
              "      <td>0.844444</td>\n",
              "      <td>729</td>\n",
              "    </tr>\n",
              "    <tr>\n",
              "      <th>7</th>\n",
              "      <td>730 - 739</td>\n",
              "      <td>7</td>\n",
              "      <td>0.155556</td>\n",
              "      <td>735</td>\n",
              "      <td>45.0</td>\n",
              "      <td>1.000000</td>\n",
              "      <td>739</td>\n",
              "    </tr>\n",
              "  </tbody>\n",
              "</table>\n",
              "</div>\n",
              "      <button class=\"colab-df-convert\" onclick=\"convertToInteractive('df-b03bff5a-cb32-4b3c-a365-12b719b983dc')\"\n",
              "              title=\"Convert this dataframe to an interactive table.\"\n",
              "              style=\"display:none;\">\n",
              "        \n",
              "  <svg xmlns=\"http://www.w3.org/2000/svg\" height=\"24px\"viewBox=\"0 0 24 24\"\n",
              "       width=\"24px\">\n",
              "    <path d=\"M0 0h24v24H0V0z\" fill=\"none\"/>\n",
              "    <path d=\"M18.56 5.44l.94 2.06.94-2.06 2.06-.94-2.06-.94-.94-2.06-.94 2.06-2.06.94zm-11 1L8.5 8.5l.94-2.06 2.06-.94-2.06-.94L8.5 2.5l-.94 2.06-2.06.94zm10 10l.94 2.06.94-2.06 2.06-.94-2.06-.94-.94-2.06-.94 2.06-2.06.94z\"/><path d=\"M17.41 7.96l-1.37-1.37c-.4-.4-.92-.59-1.43-.59-.52 0-1.04.2-1.43.59L10.3 9.45l-7.72 7.72c-.78.78-.78 2.05 0 2.83L4 21.41c.39.39.9.59 1.41.59.51 0 1.02-.2 1.41-.59l7.78-7.78 2.81-2.81c.8-.78.8-2.07 0-2.86zM5.41 20L4 18.59l7.72-7.72 1.47 1.35L5.41 20z\"/>\n",
              "  </svg>\n",
              "      </button>\n",
              "      \n",
              "  <style>\n",
              "    .colab-df-container {\n",
              "      display:flex;\n",
              "      flex-wrap:wrap;\n",
              "      gap: 12px;\n",
              "    }\n",
              "\n",
              "    .colab-df-convert {\n",
              "      background-color: #E8F0FE;\n",
              "      border: none;\n",
              "      border-radius: 50%;\n",
              "      cursor: pointer;\n",
              "      display: none;\n",
              "      fill: #1967D2;\n",
              "      height: 32px;\n",
              "      padding: 0 0 0 0;\n",
              "      width: 32px;\n",
              "    }\n",
              "\n",
              "    .colab-df-convert:hover {\n",
              "      background-color: #E2EBFA;\n",
              "      box-shadow: 0px 1px 2px rgba(60, 64, 67, 0.3), 0px 1px 3px 1px rgba(60, 64, 67, 0.15);\n",
              "      fill: #174EA6;\n",
              "    }\n",
              "\n",
              "    [theme=dark] .colab-df-convert {\n",
              "      background-color: #3B4455;\n",
              "      fill: #D2E3FC;\n",
              "    }\n",
              "\n",
              "    [theme=dark] .colab-df-convert:hover {\n",
              "      background-color: #434B5C;\n",
              "      box-shadow: 0px 1px 3px 1px rgba(0, 0, 0, 0.15);\n",
              "      filter: drop-shadow(0px 1px 2px rgba(0, 0, 0, 0.3));\n",
              "      fill: #FFFFFF;\n",
              "    }\n",
              "  </style>\n",
              "\n",
              "      <script>\n",
              "        const buttonEl =\n",
              "          document.querySelector('#df-b03bff5a-cb32-4b3c-a365-12b719b983dc button.colab-df-convert');\n",
              "        buttonEl.style.display =\n",
              "          google.colab.kernel.accessAllowed ? 'block' : 'none';\n",
              "\n",
              "        async function convertToInteractive(key) {\n",
              "          const element = document.querySelector('#df-b03bff5a-cb32-4b3c-a365-12b719b983dc');\n",
              "          const dataTable =\n",
              "            await google.colab.kernel.invokeFunction('convertToInteractive',\n",
              "                                                     [key], {});\n",
              "          if (!dataTable) return;\n",
              "\n",
              "          const docLinkHtml = 'Like what you see? Visit the ' +\n",
              "            '<a target=\"_blank\" href=https://colab.research.google.com/notebooks/data_table.ipynb>data table notebook</a>'\n",
              "            + ' to learn more about interactive tables.';\n",
              "          element.innerHTML = '';\n",
              "          dataTable['output_type'] = 'display_data';\n",
              "          await google.colab.output.renderOutput(dataTable, element);\n",
              "          const docLink = document.createElement('div');\n",
              "          docLink.innerHTML = docLinkHtml;\n",
              "          element.appendChild(docLink);\n",
              "        }\n",
              "      </script>\n",
              "    </div>\n",
              "  </div>\n",
              "  "
            ]
          },
          "metadata": {},
          "execution_count": 343
        }
      ]
    },
    {
      "cell_type": "code",
      "source": [
        "plt.plot(ogive['xaxis'],ogive['Cumulative F'],marker = 'o')\n",
        "plt.title(\"Time between Eruptions\")\n",
        "plt.xlabel(\"Time (seconds)\")\n",
        "plt.ylabel(\"Cumulative Frequency\")\n",
        "plt.ylim(0,50)\n",
        "plt.show()"
      ],
      "metadata": {
        "colab": {
          "base_uri": "https://localhost:8080/",
          "height": 295
        },
        "id": "gXccWjYVLY_O",
        "outputId": "afb6f802-8e1f-47a8-b711-8c1f05a8ac68"
      },
      "execution_count": 346,
      "outputs": [
        {
          "output_type": "display_data",
          "data": {
            "text/plain": [
              "<Figure size 432x288 with 1 Axes>"
            ],
            "image/png": "[encoded data removed]"
          },
          "metadata": {
            "needs_background": "light"
          }
        }
      ]
    },
    {
      "cell_type": "code",
      "source": [
        "plt.plot(ogive['xaxis'],ogive['Cumulative Relative F'],marker = 'o')\n",
        "plt.title(\"Time between Eruptions\")\n",
        "plt.xlabel(\"Time (seconds)\")\n",
        "plt.ylabel(\"Cumulative Frequency\")\n",
        "plt.ylim(0,1.2)\n",
        "plt.show()"
      ],
      "metadata": {
        "colab": {
          "base_uri": "https://localhost:8080/",
          "height": 295
        },
        "id": "rnvbha2dLdJJ",
        "outputId": "b9fca2e1-8ad0-447d-f3ae-38239d324246"
      },
      "execution_count": 348,
      "outputs": [
        {
          "output_type": "display_data",
          "data": {
            "text/plain": [
              "<Figure size 432x288 with 1 Axes>"
            ],
            "image/png": "[encoded data removed]"
          },
          "metadata": {
            "needs_background": "light"
          }
        }
      ]
    },
    {
      "cell_type": "markdown",
      "source": [
        "## Time Series Graphs"
      ],
      "metadata": {
        "id": "10Slen4BMJLw"
      }
    },
    {
      "cell_type": "code",
      "source": [
        "raw_ts = [[1990, 2753.2],\n",
        "[1991, 2633.66],\n",
        "[1992, 3168.83],\n",
        "[1993, 3301.11],\n",
        "[1994, 3834.44],\n",
        "[1995, 5117.12],\n",
        "[1996, 6448.27],\n",
        "[1997, 7908.25],\n",
        "[1998, 9212.84],\n",
        "[1999, 9181.43],\n",
        "[2000, 11497.12],\n",
        "[2001, 10021.71],\n",
        "[2002, 8342.38],\n",
        "[2003, 10452.74],\n",
        "[2004, 10783.75],\n",
        "[2005 ,10783.01],\n",
        "[2006 ,10717.50],\n",
        "[2007, 13264.82]]"
      ],
      "metadata": {
        "id": "x7cghankL_aC"
      },
      "execution_count": 359,
      "outputs": []
    },
    {
      "cell_type": "code",
      "source": [
        "Year = []\n",
        "ClosingValue = []\n",
        "for r in raw_ts:\n",
        "  y,c = r[0],r[1]\n",
        "  Year.append(y)\n",
        "  ClosingValue.append(c)"
      ],
      "metadata": {
        "id": "mQ-ImMr6Mlcl"
      },
      "execution_count": 360,
      "outputs": []
    },
    {
      "cell_type": "code",
      "source": [
        "plt.plot(Year,ClosingValue,marker = 'o')\n",
        "plt.title(\"Dow Jones Industrial Average (1990-2007)\")\n",
        "plt.xlabel(\"Year\")\n",
        "plt.ylabel(\"Closing Value\")\n",
        "plt.show()"
      ],
      "metadata": {
        "colab": {
          "base_uri": "https://localhost:8080/",
          "height": 295
        },
        "id": "uw39l2toMuS4",
        "outputId": "64f4ed87-5220-482f-8ea7-c8a6500f6d8c"
      },
      "execution_count": 361,
      "outputs": [
        {
          "output_type": "display_data",
          "data": {
            "text/plain": [
              "<Figure size 432x288 with 1 Axes>"
            ],
            "image/png": "[encoded data removed]"
          },
          "metadata": {
            "needs_background": "light"
          }
        }
      ]
    },
    {
      "cell_type": "markdown",
      "source": [
        "## Misleading Graphs"
      ],
      "metadata": {
        "id": "CQbEgG26NVVe"
      }
    },
    {
      "cell_type": "code",
      "source": [
        "raw_m = [[1950, 68.2],\n",
        "[1960, 69.7],\n",
        "[1970, 70.8],\n",
        "[1980, 73.7],\n",
        "[1990, 75.4],\n",
        "[2000, 77.0]]"
      ],
      "metadata": {
        "id": "-NEsYQjvM_WC"
      },
      "execution_count": 362,
      "outputs": []
    },
    {
      "cell_type": "code",
      "source": [
        "yr = []\n",
        "le = []\n",
        "for var in raw_m:\n",
        "  yr.append(var[0])\n",
        "  le.append(var[1])"
      ],
      "metadata": {
        "id": "AYdTI0yENdhF"
      },
      "execution_count": 363,
      "outputs": []
    },
    {
      "cell_type": "code",
      "source": [
        "plt.plot(yr,le,marker = 'o')\n",
        "plt.ylim(68,78)\n",
        "plt.show()"
      ],
      "metadata": {
        "colab": {
          "base_uri": "https://localhost:8080/",
          "height": 269
        },
        "id": "DWeWgSSsNthu",
        "outputId": "c4e0e16c-68e4-475c-ca17-9e51d7f629e5"
      },
      "execution_count": 366,
      "outputs": [
        {
          "output_type": "display_data",
          "data": {
            "text/plain": [
              "<Figure size 432x288 with 1 Axes>"
            ],
            "image/png": "[encoded data removed]"
          },
          "metadata": {
            "needs_background": "light"
          }
        }
      ]
    },
    {
      "cell_type": "code",
      "source": [
        "plt.plot(yr,le,marker = 'o')\n",
        "plt.ylim(0,80)\n",
        "plt.show()"
      ],
      "metadata": {
        "colab": {
          "base_uri": "https://localhost:8080/",
          "height": 269
        },
        "id": "sp-Ke3-rNvFS",
        "outputId": "72604dd2-fd1a-44ac-b523-8e7fc2e71803"
      },
      "execution_count": 367,
      "outputs": [
        {
          "output_type": "display_data",
          "data": {
            "text/plain": [
              "<Figure size 432x288 with 1 Axes>"
            ],
            "image/png": "[encoded data removed]"
          },
          "metadata": {
            "needs_background": "light"
          }
        }
      ]
    }
  ]
}