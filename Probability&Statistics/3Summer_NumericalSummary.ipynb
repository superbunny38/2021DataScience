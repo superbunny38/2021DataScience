{
  "nbformat": 4,
  "nbformat_minor": 0,
  "metadata": {
    "colab": {
      "name": "3Summer_NumericalSummary.ipynb",
      "provenance": [],
      "collapsed_sections": [],
      "toc_visible": true,
      "authorship_tag": "ABX9TyOv9yLI37ku4nxQ3KPRYjvT",
      "include_colab_link": true
    },
    "kernelspec": {
      "name": "python3",
      "display_name": "Python 3"
    },
    "language_info": {
      "name": "python"
    }
  },
  "cells": [
    {
      "cell_type": "markdown",
      "metadata": {
        "id": "view-in-github",
        "colab_type": "text"
      },
      "source": [
        "<a href=\"https://colab.research.google.com/github/superbunny38/DataScience/blob/main/Probability%26Statistics/3Summer_NumericalSummary.ipynb\" target=\"_parent\"><img src=\"https://colab.research.google.com/assets/colab-badge.svg\" alt=\"Open In Colab\"/></a>"
      ]
    },
    {
      "cell_type": "code",
      "execution_count": 1,
      "metadata": {
        "id": "Ywibc9WCSy-8"
      },
      "outputs": [],
      "source": [
        "import numpy as np\n",
        "import pandas as pd\n",
        "import seaborn as sns\n",
        "import matplotlib.pyplot as plt\n",
        "from scipy import stats"
      ]
    },
    {
      "cell_type": "code",
      "source": [
        "def sample_std(data):\n",
        "  mean = np.mean(data)\n",
        "  n = len(data)\n",
        "  numer = np.sum((data-mean)**2)\n",
        "  denom = n-1\n",
        "  print(np.sqrt(numer/denom))\n",
        "  return np.sqrt(numer/denom)"
      ],
      "metadata": {
        "id": "NwbhswJOZnGh"
      },
      "execution_count": 1,
      "outputs": []
    },
    {
      "cell_type": "markdown",
      "source": [
        "## Mean vs. Mode -> Resistance"
      ],
      "metadata": {
        "id": "beQS1akEVRhH"
      }
    },
    {
      "cell_type": "code",
      "source": [
        "homeprice = [79995, 128950, 149900, 189900,\n",
        "99899, 130950, 151350 ,203950,\n",
        "105200 ,131800, 154900, 217500,\n",
        "111000 ,132300, 159900 ,260000,\n",
        "120000 ,134950, 163300 ,284900,\n",
        "121700 ,135500, 165000, 299900,\n",
        "125950 ,138500, 174850, 309900,\n",
        "126900 ,147500, 180000, 349900]"
      ],
      "metadata": {
        "id": "3bSVD6pIS_r0"
      },
      "execution_count": 4,
      "outputs": []
    },
    {
      "cell_type": "code",
      "source": [
        "np.mean(homeprice)"
      ],
      "metadata": {
        "colab": {
          "base_uri": "https://localhost:8080/"
        },
        "id": "P4TQmu-5TilT",
        "outputId": "664026e5-3e1c-4734-c0e6-93e7e75af4f5"
      },
      "execution_count": 5,
      "outputs": [
        {
          "output_type": "execute_result",
          "data": {
            "text/plain": [
              "168320.125"
            ]
          },
          "metadata": {},
          "execution_count": 5
        }
      ]
    },
    {
      "cell_type": "code",
      "source": [
        "np.median(homeprice)"
      ],
      "metadata": {
        "colab": {
          "base_uri": "https://localhost:8080/"
        },
        "id": "7uRLw1JdTkCv",
        "outputId": "48f8eed0-915c-4ea5-c1b6-ed9958d0752c"
      },
      "execution_count": 6,
      "outputs": [
        {
          "output_type": "execute_result",
          "data": {
            "text/plain": [
              "148700.0"
            ]
          },
          "metadata": {},
          "execution_count": 6
        }
      ]
    },
    {
      "cell_type": "code",
      "source": [
        "plt.hist(homeprice)\n",
        "plt.ylabel(\"Frequency\")\n",
        "plt.xlabel(\"Asking Price\")\n",
        "plt.title(\"Asking Price of Homes in Lincoln, NE\")\n",
        "plt.show()"
      ],
      "metadata": {
        "colab": {
          "base_uri": "https://localhost:8080/",
          "height": 295
        },
        "id": "ByCHAv-bTvJq",
        "outputId": "7f3ad602-8bb8-4450-be37-183ecdce97e6"
      },
      "execution_count": 10,
      "outputs": [
        {
          "output_type": "display_data",
          "data": {
            "text/plain": [
              "<Figure size 432x288 with 1 Axes>"
            ],
            "image/png": "[encoded data removed]"
          },
          "metadata": {
            "needs_background": "light"
          }
        }
      ]
    },
    {
      "cell_type": "markdown",
      "source": [
        "## Mode (최빈값)"
      ],
      "metadata": {
        "id": "DNQ-cfrzVOI3"
      }
    },
    {
      "cell_type": "code",
      "source": [
        "mode_df = pd.read_excel('/content/vp.xlsx',header = None)\n",
        "mode_df.columns = ['VicePresident','Frequency']"
      ],
      "metadata": {
        "id": "Rw2ZNZCsoTkG"
      },
      "execution_count": 68,
      "outputs": []
    },
    {
      "cell_type": "code",
      "source": [
        "mode_df.sort_values(by='Frequency',ascending= False)"
      ],
      "metadata": {
        "colab": {
          "base_uri": "https://localhost:8080/",
          "height": 770
        },
        "id": "gQhoB7ETqKkp",
        "outputId": "2345fa2f-76be-4ddd-9792-887b9fc4734b"
      },
      "execution_count": 71,
      "outputs": [
        {
          "output_type": "execute_result",
          "data": {
            "text/plain": [
              "      VicePresident  Frequency\n",
              "3          New York          8\n",
              "5          Kentucky          4\n",
              "0     Massachusetts          3\n",
              "10          Vermont          3\n",
              "11             Ohio          3\n",
              "14            Texas          2\n",
              "7    North Carolina          2\n",
              "8             Maine          2\n",
              "2        New Jersey          2\n",
              "1          Virginia          2\n",
              "12          Indiana          2\n",
              "20         Nebraska          2\n",
              "17       California          1\n",
              "21        Minnesota          1\n",
              "19         Maryland          1\n",
              "18     South Dakota          1\n",
              "4    South Carolina          1\n",
              "16         Missouri          1\n",
              "15             lowa          1\n",
              "6      Pennsylvania          1\n",
              "13           Kansas          1\n",
              "9     New Hampshire          1\n",
              "22  Washington D.C.          1"
            ],
            "text/html": [
              "\n",
              "  <div id=\"df-92b1d7e5-6f36-4c08-bd91-34b790a8e9af\">\n",
              "    <div class=\"colab-df-container\">\n",
              "      <div>\n",
              "<style scoped>\n",
              "    .dataframe tbody tr th:only-of-type {\n",
              "        vertical-align: middle;\n",
              "    }\n",
              "\n",
              "    .dataframe tbody tr th {\n",
              "        vertical-align: top;\n",
              "    }\n",
              "\n",
              "    .dataframe thead th {\n",
              "        text-align: right;\n",
              "    }\n",
              "</style>\n",
              "<table border=\"1\" class=\"dataframe\">\n",
              "  <thead>\n",
              "    <tr style=\"text-align: right;\">\n",
              "      <th></th>\n",
              "      <th>VicePresident</th>\n",
              "      <th>Frequency</th>\n",
              "    </tr>\n",
              "  </thead>\n",
              "  <tbody>\n",
              "    <tr>\n",
              "      <th>3</th>\n",
              "      <td>New York</td>\n",
              "      <td>8</td>\n",
              "    </tr>\n",
              "    <tr>\n",
              "      <th>5</th>\n",
              "      <td>Kentucky</td>\n",
              "      <td>4</td>\n",
              "    </tr>\n",
              "    <tr>\n",
              "      <th>0</th>\n",
              "      <td>Massachusetts</td>\n",
              "      <td>3</td>\n",
              "    </tr>\n",
              "    <tr>\n",
              "      <th>10</th>\n",
              "      <td>Vermont</td>\n",
              "      <td>3</td>\n",
              "    </tr>\n",
              "    <tr>\n",
              "      <th>11</th>\n",
              "      <td>Ohio</td>\n",
              "      <td>3</td>\n",
              "    </tr>\n",
              "    <tr>\n",
              "      <th>14</th>\n",
              "      <td>Texas</td>\n",
              "      <td>2</td>\n",
              "    </tr>\n",
              "    <tr>\n",
              "      <th>7</th>\n",
              "      <td>North Carolina</td>\n",
              "      <td>2</td>\n",
              "    </tr>\n",
              "    <tr>\n",
              "      <th>8</th>\n",
              "      <td>Maine</td>\n",
              "      <td>2</td>\n",
              "    </tr>\n",
              "    <tr>\n",
              "      <th>2</th>\n",
              "      <td>New Jersey</td>\n",
              "      <td>2</td>\n",
              "    </tr>\n",
              "    <tr>\n",
              "      <th>1</th>\n",
              "      <td>Virginia</td>\n",
              "      <td>2</td>\n",
              "    </tr>\n",
              "    <tr>\n",
              "      <th>12</th>\n",
              "      <td>Indiana</td>\n",
              "      <td>2</td>\n",
              "    </tr>\n",
              "    <tr>\n",
              "      <th>20</th>\n",
              "      <td>Nebraska</td>\n",
              "      <td>2</td>\n",
              "    </tr>\n",
              "    <tr>\n",
              "      <th>17</th>\n",
              "      <td>California</td>\n",
              "      <td>1</td>\n",
              "    </tr>\n",
              "    <tr>\n",
              "      <th>21</th>\n",
              "      <td>Minnesota</td>\n",
              "      <td>1</td>\n",
              "    </tr>\n",
              "    <tr>\n",
              "      <th>19</th>\n",
              "      <td>Maryland</td>\n",
              "      <td>1</td>\n",
              "    </tr>\n",
              "    <tr>\n",
              "      <th>18</th>\n",
              "      <td>South Dakota</td>\n",
              "      <td>1</td>\n",
              "    </tr>\n",
              "    <tr>\n",
              "      <th>4</th>\n",
              "      <td>South Carolina</td>\n",
              "      <td>1</td>\n",
              "    </tr>\n",
              "    <tr>\n",
              "      <th>16</th>\n",
              "      <td>Missouri</td>\n",
              "      <td>1</td>\n",
              "    </tr>\n",
              "    <tr>\n",
              "      <th>15</th>\n",
              "      <td>lowa</td>\n",
              "      <td>1</td>\n",
              "    </tr>\n",
              "    <tr>\n",
              "      <th>6</th>\n",
              "      <td>Pennsylvania</td>\n",
              "      <td>1</td>\n",
              "    </tr>\n",
              "    <tr>\n",
              "      <th>13</th>\n",
              "      <td>Kansas</td>\n",
              "      <td>1</td>\n",
              "    </tr>\n",
              "    <tr>\n",
              "      <th>9</th>\n",
              "      <td>New Hampshire</td>\n",
              "      <td>1</td>\n",
              "    </tr>\n",
              "    <tr>\n",
              "      <th>22</th>\n",
              "      <td>Washington D.C.</td>\n",
              "      <td>1</td>\n",
              "    </tr>\n",
              "  </tbody>\n",
              "</table>\n",
              "</div>\n",
              "      <button class=\"colab-df-convert\" onclick=\"convertToInteractive('df-92b1d7e5-6f36-4c08-bd91-34b790a8e9af')\"\n",
              "              title=\"Convert this dataframe to an interactive table.\"\n",
              "              style=\"display:none;\">\n",
              "        \n",
              "  <svg xmlns=\"http://www.w3.org/2000/svg\" height=\"24px\"viewBox=\"0 0 24 24\"\n",
              "       width=\"24px\">\n",
              "    <path d=\"M0 0h24v24H0V0z\" fill=\"none\"/>\n",
              "    <path d=\"M18.56 5.44l.94 2.06.94-2.06 2.06-.94-2.06-.94-.94-2.06-.94 2.06-2.06.94zm-11 1L8.5 8.5l.94-2.06 2.06-.94-2.06-.94L8.5 2.5l-.94 2.06-2.06.94zm10 10l.94 2.06.94-2.06 2.06-.94-2.06-.94-.94-2.06-.94 2.06-2.06.94z\"/><path d=\"M17.41 7.96l-1.37-1.37c-.4-.4-.92-.59-1.43-.59-.52 0-1.04.2-1.43.59L10.3 9.45l-7.72 7.72c-.78.78-.78 2.05 0 2.83L4 21.41c.39.39.9.59 1.41.59.51 0 1.02-.2 1.41-.59l7.78-7.78 2.81-2.81c.8-.78.8-2.07 0-2.86zM5.41 20L4 18.59l7.72-7.72 1.47 1.35L5.41 20z\"/>\n",
              "  </svg>\n",
              "      </button>\n",
              "      \n",
              "  <style>\n",
              "    .colab-df-container {\n",
              "      display:flex;\n",
              "      flex-wrap:wrap;\n",
              "      gap: 12px;\n",
              "    }\n",
              "\n",
              "    .colab-df-convert {\n",
              "      background-color: #E8F0FE;\n",
              "      border: none;\n",
              "      border-radius: 50%;\n",
              "      cursor: pointer;\n",
              "      display: none;\n",
              "      fill: #1967D2;\n",
              "      height: 32px;\n",
              "      padding: 0 0 0 0;\n",
              "      width: 32px;\n",
              "    }\n",
              "\n",
              "    .colab-df-convert:hover {\n",
              "      background-color: #E2EBFA;\n",
              "      box-shadow: 0px 1px 2px rgba(60, 64, 67, 0.3), 0px 1px 3px 1px rgba(60, 64, 67, 0.15);\n",
              "      fill: #174EA6;\n",
              "    }\n",
              "\n",
              "    [theme=dark] .colab-df-convert {\n",
              "      background-color: #3B4455;\n",
              "      fill: #D2E3FC;\n",
              "    }\n",
              "\n",
              "    [theme=dark] .colab-df-convert:hover {\n",
              "      background-color: #434B5C;\n",
              "      box-shadow: 0px 1px 3px 1px rgba(0, 0, 0, 0.15);\n",
              "      filter: drop-shadow(0px 1px 2px rgba(0, 0, 0, 0.3));\n",
              "      fill: #FFFFFF;\n",
              "    }\n",
              "  </style>\n",
              "\n",
              "      <script>\n",
              "        const buttonEl =\n",
              "          document.querySelector('#df-92b1d7e5-6f36-4c08-bd91-34b790a8e9af button.colab-df-convert');\n",
              "        buttonEl.style.display =\n",
              "          google.colab.kernel.accessAllowed ? 'block' : 'none';\n",
              "\n",
              "        async function convertToInteractive(key) {\n",
              "          const element = document.querySelector('#df-92b1d7e5-6f36-4c08-bd91-34b790a8e9af');\n",
              "          const dataTable =\n",
              "            await google.colab.kernel.invokeFunction('convertToInteractive',\n",
              "                                                     [key], {});\n",
              "          if (!dataTable) return;\n",
              "\n",
              "          const docLinkHtml = 'Like what you see? Visit the ' +\n",
              "            '<a target=\"_blank\" href=https://colab.research.google.com/notebooks/data_table.ipynb>data table notebook</a>'\n",
              "            + ' to learn more about interactive tables.';\n",
              "          element.innerHTML = '';\n",
              "          dataTable['output_type'] = 'display_data';\n",
              "          await google.colab.output.renderOutput(dataTable, element);\n",
              "          const docLink = document.createElement('div');\n",
              "          docLink.innerHTML = docLinkHtml;\n",
              "          element.appendChild(docLink);\n",
              "        }\n",
              "      </script>\n",
              "    </div>\n",
              "  </div>\n",
              "  "
            ]
          },
          "metadata": {},
          "execution_count": 71
        }
      ]
    },
    {
      "cell_type": "code",
      "source": [
        "stats.mode([1,1,2,3,3,3,3])"
      ],
      "metadata": {
        "colab": {
          "base_uri": "https://localhost:8080/"
        },
        "id": "5WCePm1HT6dg",
        "outputId": "812d9ee6-f9b6-47fe-f96c-2a7eddd785f9"
      },
      "execution_count": 13,
      "outputs": [
        {
          "output_type": "execute_result",
          "data": {
            "text/plain": [
              "ModeResult(mode=array([3]), count=array([4]))"
            ]
          },
          "metadata": {},
          "execution_count": 13
        }
      ]
    },
    {
      "cell_type": "markdown",
      "source": [
        "## Standard Deviation"
      ],
      "metadata": {
        "id": "PaeO55VnXdSN"
      }
    },
    {
      "cell_type": "code",
      "source": [
        "travel = [23,36,23,18,5,26,43]"
      ],
      "metadata": {
        "id": "Do6iXQjfVDsj"
      },
      "execution_count": 14,
      "outputs": []
    },
    {
      "cell_type": "code",
      "source": [
        "np.mean(travel)"
      ],
      "metadata": {
        "colab": {
          "base_uri": "https://localhost:8080/"
        },
        "id": "zOvB3UykXkTT",
        "outputId": "f0301497-30c0-4b6d-b8f7-89ed91cabd32"
      },
      "execution_count": 15,
      "outputs": [
        {
          "output_type": "execute_result",
          "data": {
            "text/plain": [
              "24.857142857142858"
            ]
          },
          "metadata": {},
          "execution_count": 15
        }
      ]
    },
    {
      "cell_type": "code",
      "source": [
        "np.var(travel)"
      ],
      "metadata": {
        "colab": {
          "base_uri": "https://localhost:8080/"
        },
        "id": "5WpbVH5mXlKk",
        "outputId": "90a0ade6-02fe-4625-dcf6-d9e6d783c36f"
      },
      "execution_count": 16,
      "outputs": [
        {
          "output_type": "execute_result",
          "data": {
            "text/plain": [
              "128.9795918367347"
            ]
          },
          "metadata": {},
          "execution_count": 16
        }
      ]
    },
    {
      "cell_type": "code",
      "source": [
        "np.std(travel)"
      ],
      "metadata": {
        "colab": {
          "base_uri": "https://localhost:8080/"
        },
        "id": "qcff24HNXpfu",
        "outputId": "3134835f-834a-49ea-e459-2a4cddd677c6"
      },
      "execution_count": 17,
      "outputs": [
        {
          "output_type": "execute_result",
          "data": {
            "text/plain": [
              "11.356918236772453"
            ]
          },
          "metadata": {},
          "execution_count": 17
        }
      ]
    },
    {
      "cell_type": "markdown",
      "source": [
        "## Sample Standard Deviation"
      ],
      "metadata": {
        "id": "xlTTlK8FZvx-"
      }
    },
    {
      "cell_type": "markdown",
      "source": [
        "$s = \\sqrt{\\frac{\\sum (x_i - x)^2}{n-1}}$\n",
        "\n",
        "$x$는 sample mean임"
      ],
      "metadata": {
        "id": "Oy5rqV4aZ63c"
      }
    },
    {
      "cell_type": "code",
      "source": [
        "sample1 =  [5,26,36]\n",
        "n = len(sample1)"
      ],
      "metadata": {
        "id": "gYS3LBdYZvNJ"
      },
      "execution_count": 26,
      "outputs": []
    },
    {
      "cell_type": "code",
      "source": [
        "[(t - np.mean(sample1))**2 for t in sample1]"
      ],
      "metadata": {
        "colab": {
          "base_uri": "https://localhost:8080/"
        },
        "id": "m8sIjiQJXqSh",
        "outputId": "cc9cdb51-89c7-49d2-c524-b21d5023ff37"
      },
      "execution_count": 24,
      "outputs": [
        {
          "output_type": "execute_result",
          "data": {
            "text/plain": [
              "[300.4444444444444, 13.444444444444454, 186.7777777777778]"
            ]
          },
          "metadata": {},
          "execution_count": 24
        }
      ]
    },
    {
      "cell_type": "code",
      "source": [
        "np.sum([(t - np.mean(sample1))**2 for t in sample1])"
      ],
      "metadata": {
        "colab": {
          "base_uri": "https://localhost:8080/"
        },
        "id": "gjS95Yu3ZdzK",
        "outputId": "b9aeba3c-1165-4422-e416-e9934fea65a2"
      },
      "execution_count": 25,
      "outputs": [
        {
          "output_type": "execute_result",
          "data": {
            "text/plain": [
              "500.66666666666663"
            ]
          },
          "metadata": {},
          "execution_count": 25
        }
      ]
    },
    {
      "cell_type": "code",
      "source": [
        "numerator = np.sum([(t - np.mean(sample1))**2 for t in sample1])\n",
        "denominator = n-1"
      ],
      "metadata": {
        "id": "PUA8yaiyZptz"
      },
      "execution_count": 27,
      "outputs": []
    },
    {
      "cell_type": "code",
      "source": [
        "np.sqrt(numerator/denominator)"
      ],
      "metadata": {
        "colab": {
          "base_uri": "https://localhost:8080/"
        },
        "id": "lpnNqjNWaP--",
        "outputId": "580415f5-72cb-4a7f-d3e0-ea8479dbed90"
      },
      "execution_count": 28,
      "outputs": [
        {
          "output_type": "execute_result",
          "data": {
            "text/plain": [
              "15.821925715074423"
            ]
          },
          "metadata": {},
          "execution_count": 28
        }
      ]
    },
    {
      "cell_type": "markdown",
      "source": [
        "$s = \\sqrt{\\frac{\\sum{x_i^2 - \\frac{(\\sum x_i)^2}{n}}}{n-1}}$"
      ],
      "metadata": {
        "id": "60aDeYwwaWU0"
      }
    },
    {
      "cell_type": "code",
      "source": [
        "np.sum([x**2 for x in sample1])"
      ],
      "metadata": {
        "colab": {
          "base_uri": "https://localhost:8080/"
        },
        "id": "ejXl_7HdaSCj",
        "outputId": "b5895cb0-c141-4b62-fdd6-fcbb1c8e9746"
      },
      "execution_count": 29,
      "outputs": [
        {
          "output_type": "execute_result",
          "data": {
            "text/plain": [
              "1997"
            ]
          },
          "metadata": {},
          "execution_count": 29
        }
      ]
    },
    {
      "cell_type": "code",
      "source": [
        "np.sum([x for x in sample1])**2/n"
      ],
      "metadata": {
        "colab": {
          "base_uri": "https://localhost:8080/"
        },
        "id": "FOCL0zxkcxTb",
        "outputId": "4b1b85ee-0f22-4217-a4af-0dfb7683cabb"
      },
      "execution_count": 38,
      "outputs": [
        {
          "output_type": "execute_result",
          "data": {
            "text/plain": [
              "1496.3333333333333"
            ]
          },
          "metadata": {},
          "execution_count": 38
        }
      ]
    },
    {
      "cell_type": "code",
      "source": [
        "numer = np.sum([x**2 for x in sample1]) - np.sum([x for x in sample1])**2/n\n",
        "denom = n-1"
      ],
      "metadata": {
        "id": "-ltkLXmabB71"
      },
      "execution_count": 39,
      "outputs": []
    },
    {
      "cell_type": "code",
      "source": [
        "np.sqrt(numer/denom)"
      ],
      "metadata": {
        "colab": {
          "base_uri": "https://localhost:8080/"
        },
        "id": "lNJ4_x18bJ4e",
        "outputId": "9109799f-f723-4ccc-8414-689dc25e3b78"
      },
      "execution_count": 40,
      "outputs": [
        {
          "output_type": "execute_result",
          "data": {
            "text/plain": [
              "15.821925715074425"
            ]
          },
          "metadata": {},
          "execution_count": 40
        }
      ]
    },
    {
      "cell_type": "code",
      "source": [
        "travel_times = [23,36,23,18,5,26,43]\n",
        "n= len(travel_times)"
      ],
      "metadata": {
        "id": "LXgwNjjCbl_p"
      },
      "execution_count": 42,
      "outputs": []
    },
    {
      "cell_type": "code",
      "source": [
        "#sample variance\n",
        "np.var(travel_times)*n/(n-1)"
      ],
      "metadata": {
        "colab": {
          "base_uri": "https://localhost:8080/"
        },
        "id": "EozyZKQxeUUs",
        "outputId": "521fff7e-1e09-4550-bb91-b5d80b892cb2"
      },
      "execution_count": 43,
      "outputs": [
        {
          "output_type": "execute_result",
          "data": {
            "text/plain": [
              "150.47619047619048"
            ]
          },
          "metadata": {},
          "execution_count": 43
        }
      ]
    },
    {
      "cell_type": "code",
      "source": [
        "#polulation variance\n",
        "np.var(travel_times)"
      ],
      "metadata": {
        "colab": {
          "base_uri": "https://localhost:8080/"
        },
        "id": "D1gGS7C4edA_",
        "outputId": "8c723e88-4683-439c-9245-8347f297cb9a"
      },
      "execution_count": 44,
      "outputs": [
        {
          "output_type": "execute_result",
          "data": {
            "text/plain": [
              "128.9795918367347"
            ]
          },
          "metadata": {},
          "execution_count": 44
        }
      ]
    },
    {
      "cell_type": "code",
      "source": [
        "np.mean(travel_times)"
      ],
      "metadata": {
        "colab": {
          "base_uri": "https://localhost:8080/"
        },
        "id": "fH1Jliu-ehpL",
        "outputId": "030ccc21-938d-4b73-b95a-48326acbe8b7"
      },
      "execution_count": 45,
      "outputs": [
        {
          "output_type": "execute_result",
          "data": {
            "text/plain": [
              "24.857142857142858"
            ]
          },
          "metadata": {},
          "execution_count": 45
        }
      ]
    },
    {
      "cell_type": "code",
      "source": [
        "np.sum([(t-np.mean(travel_times))**2 for t in travel_times])"
      ],
      "metadata": {
        "colab": {
          "base_uri": "https://localhost:8080/"
        },
        "id": "1C9eVf3vfFHj",
        "outputId": "fe2fd348-beaf-456e-9c84-d9b56c713d0a"
      },
      "execution_count": 46,
      "outputs": [
        {
          "output_type": "execute_result",
          "data": {
            "text/plain": [
              "902.8571428571429"
            ]
          },
          "metadata": {},
          "execution_count": 46
        }
      ]
    },
    {
      "cell_type": "code",
      "source": [
        "np.sum([(t-np.mean(travel_times))**2 for t in travel_times])/n#population variance"
      ],
      "metadata": {
        "colab": {
          "base_uri": "https://localhost:8080/"
        },
        "id": "p9c1GMQHfSzN",
        "outputId": "da685bd3-7bcd-49d5-cf98-2bcdfb40e85a"
      },
      "execution_count": 47,
      "outputs": [
        {
          "output_type": "execute_result",
          "data": {
            "text/plain": [
              "128.9795918367347"
            ]
          },
          "metadata": {},
          "execution_count": 47
        }
      ]
    },
    {
      "cell_type": "code",
      "source": [
        "np.sum([(t-np.mean(travel_times))**2 for t in travel_times])/(n-1)#sample variance"
      ],
      "metadata": {
        "colab": {
          "base_uri": "https://localhost:8080/"
        },
        "id": "C-CrBJs3fVdb",
        "outputId": "d7875cd4-5955-4a31-c8f4-556580f4f144"
      },
      "execution_count": 48,
      "outputs": [
        {
          "output_type": "execute_result",
          "data": {
            "text/plain": [
              "150.47619047619048"
            ]
          },
          "metadata": {},
          "execution_count": 48
        }
      ]
    },
    {
      "cell_type": "markdown",
      "source": [
        "## Using the Empirical Rule"
      ],
      "metadata": {
        "id": "kpHsW3Hpgd71"
      }
    },
    {
      "cell_type": "code",
      "source": [
        "chol = [41, 48, 43, 38, 35, 37, 44, 44, 44,\n",
        "62, 75, 77, 58, 82, 39, 85, 55, 54,\n",
        "67, 69, 69, 70, 65, 72, 74, 74, 74,\n",
        "60, 60, 60, 61, 62, 63, 64, 64, 64,\n",
        "54, 54, 55, 56, 56, 56, 57, 58, 59,\n",
        "45, 47, 47, 48, 48, 50, 52, 52, 53]"
      ],
      "metadata": {
        "id": "MDlJN40AfW-S"
      },
      "execution_count": 2,
      "outputs": []
    },
    {
      "cell_type": "code",
      "source": [
        "def calc_emperical(x):\n",
        "  x_mean = np.mean(x)\n",
        "  print(\"Mean is: \",x_mean)\n",
        "  x_std = np.std(x)\n",
        "  print(\"Standard deviation is: \",x_std)\n",
        "  print(\"50% mean: \",x_mean)\n",
        "  sd_68_low = (x_mean - x_std)\n",
        "  sd_68_high =  (x_mean + x_std)\n",
        "  print(\"68% fall between: \", sd_68_low, \"and\", sd_68_high)\n",
        "  sd_95_low = (x_mean - 2*x_std)\n",
        "  sd_95_high =  (x_mean + 2*x_std)\n",
        "  print(\"95% fall between: \", sd_95_low, \"and\", sd_95_high)\n",
        "  sd_99_low = (x_mean - 3*x_std)\n",
        "  sd_99_high =  (x_mean + 3*x_std)\n",
        "  print(\"99.7% fall between: \", sd_99_low, \"and\", sd_99_high)\n",
        "  return sd_68_low, sd_68_high, sd_95_low, sd_95_high, sd_99_low, sd_99_high\n",
        "\n",
        "sd_68_low, sd_68_high, sd_95_low, sd_95_high, sd_99_low, sd_99_high = calc_emperical(chol)"
      ],
      "metadata": {
        "colab": {
          "base_uri": "https://localhost:8080/"
        },
        "id": "mYa2SEkoh2Oc",
        "outputId": "ab56d39f-48ae-4542-a8bc-d48d9045f5f2"
      },
      "execution_count": 10,
      "outputs": [
        {
          "output_type": "stream",
          "name": "stdout",
          "text": [
            "Mean is:  57.407407407407405\n",
            "Standard deviation is:  11.696024203435648\n",
            "50% mean:  57.407407407407405\n",
            "68% fall between:  45.71138320397176 and 69.10343161084305\n",
            "95% fall between:  34.01535900053611 and 80.7994558142787\n",
            "99.7% fall between:  22.31933479710046 and 92.49548001771436\n"
          ]
        }
      ]
    },
    {
      "cell_type": "code",
      "source": [
        "len(chol)"
      ],
      "metadata": {
        "colab": {
          "base_uri": "https://localhost:8080/"
        },
        "id": "dT9_eyLig4ra",
        "outputId": "3ed95889-b83c-4c0e-efdd-522db9953c7c"
      },
      "execution_count": 52,
      "outputs": [
        {
          "output_type": "execute_result",
          "data": {
            "text/plain": [
              "54"
            ]
          },
          "metadata": {},
          "execution_count": 52
        }
      ]
    },
    {
      "cell_type": "markdown",
      "source": [
        "(a)  Compute the population mean and standard \n",
        "deviation.\n"
      ],
      "metadata": {
        "id": "PQUbyeEnhEXD"
      }
    },
    {
      "cell_type": "code",
      "source": [
        "np.mean(chol)#mean"
      ],
      "metadata": {
        "colab": {
          "base_uri": "https://localhost:8080/"
        },
        "id": "do62IWQVg6B3",
        "outputId": "f1d4cd11-ad7e-4109-fed3-35011e7bc2a8"
      },
      "execution_count": 53,
      "outputs": [
        {
          "output_type": "execute_result",
          "data": {
            "text/plain": [
              "57.407407407407405"
            ]
          },
          "metadata": {},
          "execution_count": 53
        }
      ]
    },
    {
      "cell_type": "code",
      "source": [
        "np.std(chol)#standard deviation"
      ],
      "metadata": {
        "colab": {
          "base_uri": "https://localhost:8080/"
        },
        "id": "ybJ4cg6ihBH1",
        "outputId": "90fb6cff-64c7-4583-8871-736c4b5d47b7"
      },
      "execution_count": 54,
      "outputs": [
        {
          "output_type": "execute_result",
          "data": {
            "text/plain": [
              "11.696024203435648"
            ]
          },
          "metadata": {},
          "execution_count": 54
        }
      ]
    },
    {
      "cell_type": "code",
      "source": [
        "np.median(chol)#median"
      ],
      "metadata": {
        "colab": {
          "base_uri": "https://localhost:8080/"
        },
        "id": "TrymSw-3rRqq",
        "outputId": "58876027-c43d-4a89-f763-7b9ec538e578"
      },
      "execution_count": 72,
      "outputs": [
        {
          "output_type": "execute_result",
          "data": {
            "text/plain": [
              "56.5"
            ]
          },
          "metadata": {},
          "execution_count": 72
        }
      ]
    },
    {
      "cell_type": "code",
      "source": [
        "np.var(chol)#squared standard deviation, variance"
      ],
      "metadata": {
        "colab": {
          "base_uri": "https://localhost:8080/"
        },
        "id": "DhMie5dOrbqM",
        "outputId": "491f4b99-26c0-4c09-f965-4ba5a26b9020"
      },
      "execution_count": 73,
      "outputs": [
        {
          "output_type": "execute_result",
          "data": {
            "text/plain": [
              "136.7969821673525"
            ]
          },
          "metadata": {},
          "execution_count": 73
        }
      ]
    },
    {
      "cell_type": "markdown",
      "source": [
        "(b) Draw a histogram to verify the data is bell-shaped."
      ],
      "metadata": {
        "id": "dzE9uKBIhLuv"
      }
    },
    {
      "cell_type": "code",
      "source": [
        "plt.hist(chol)\n",
        "plt.show()"
      ],
      "metadata": {
        "colab": {
          "base_uri": "https://localhost:8080/",
          "height": 265
        },
        "id": "Nsgvw9g1hGvJ",
        "outputId": "b56b6e9e-ad35-4454-d71d-12ba27ba73e7"
      },
      "execution_count": 56,
      "outputs": [
        {
          "output_type": "display_data",
          "data": {
            "text/plain": [
              "<Figure size 432x288 with 1 Axes>"
            ],
            "image/png": "[encoded data removed]"
          },
          "metadata": {
            "needs_background": "light"
          }
        }
      ]
    },
    {
      "cell_type": "code",
      "source": [
        "print(\"min:\",np.mean(chol)-3*np.std(chol))\n",
        "print(\"max:\",np.mean(chol)+3*np.std(chol))"
      ],
      "metadata": {
        "colab": {
          "base_uri": "https://localhost:8080/"
        },
        "id": "VimfqJ0lry1Y",
        "outputId": "1c92026d-da2d-44df-d2ef-c9e06c4690f6"
      },
      "execution_count": 75,
      "outputs": [
        {
          "output_type": "stream",
          "name": "stdout",
          "text": [
            "min: 22.31933479710046\n",
            "max: 92.49548001771436\n"
          ]
        }
      ]
    },
    {
      "cell_type": "markdown",
      "source": [
        "(c) Determine the percentage of all patients that have \n",
        "serum HDL within 3 standard deviations of the \n",
        "mean according to the Empirical Rule."
      ],
      "metadata": {
        "id": "5TANlY6MhdIk"
      }
    },
    {
      "cell_type": "markdown",
      "source": [
        "99.7%"
      ],
      "metadata": {
        "id": "3e3YJPfOg-_3"
      }
    },
    {
      "cell_type": "code",
      "source": [
        "min(chol)"
      ],
      "metadata": {
        "colab": {
          "base_uri": "https://localhost:8080/"
        },
        "id": "JGjZupnctwOx",
        "outputId": "18ba8934-a896-46c4-ee0f-096aa31816e3"
      },
      "execution_count": 82,
      "outputs": [
        {
          "output_type": "execute_result",
          "data": {
            "text/plain": [
              "35"
            ]
          },
          "metadata": {},
          "execution_count": 82
        }
      ]
    },
    {
      "cell_type": "code",
      "source": [
        "max(chol)"
      ],
      "metadata": {
        "colab": {
          "base_uri": "https://localhost:8080/"
        },
        "id": "0KBiKEPBtyOP",
        "outputId": "627195fb-16a1-4200-9730-afdd0060bccf"
      },
      "execution_count": 83,
      "outputs": [
        {
          "output_type": "execute_result",
          "data": {
            "text/plain": [
              "85"
            ]
          },
          "metadata": {},
          "execution_count": 83
        }
      ]
    },
    {
      "cell_type": "code",
      "source": [
        "minimum = np.mean(chol)-3*np.std(chol)#mean - std*3\n",
        "maximum = np.mean(chol)+3*np.std(chol)#mean + std*3"
      ],
      "metadata": {
        "id": "Z0frcmRQsG-g"
      },
      "execution_count": 76,
      "outputs": []
    },
    {
      "cell_type": "code",
      "source": [
        "in_range = [x for x in chol if x >= minimum and x <= maximum]"
      ],
      "metadata": {
        "id": "572avHgLhNk6"
      },
      "execution_count": 77,
      "outputs": []
    },
    {
      "cell_type": "code",
      "source": [
        "len(in_range)"
      ],
      "metadata": {
        "colab": {
          "base_uri": "https://localhost:8080/"
        },
        "id": "beqsHj47hg8H",
        "outputId": "4eebe848-aae3-4008-d61f-cf67a9d3f572"
      },
      "execution_count": 80,
      "outputs": [
        {
          "output_type": "execute_result",
          "data": {
            "text/plain": [
              "54"
            ]
          },
          "metadata": {},
          "execution_count": 80
        }
      ]
    },
    {
      "cell_type": "code",
      "source": [
        "len(chol)"
      ],
      "metadata": {
        "colab": {
          "base_uri": "https://localhost:8080/"
        },
        "id": "KsNCSk-psT-q",
        "outputId": "e6faedc1-6f9f-4fde-abae-60fe1e23f6eb"
      },
      "execution_count": 81,
      "outputs": [
        {
          "output_type": "execute_result",
          "data": {
            "text/plain": [
              "54"
            ]
          },
          "metadata": {},
          "execution_count": 81
        }
      ]
    },
    {
      "cell_type": "markdown",
      "source": [
        "(d)  Determine the percentage of all patients that have \n",
        "serum HDL between 34 and 69.1 according to the \n",
        "Empirical Rule."
      ],
      "metadata": {
        "id": "8CgPo4m2hVDp"
      }
    },
    {
      "cell_type": "markdown",
      "source": [
        "![image.png](data:image/png;base64,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)"
      ],
      "metadata": {
        "id": "CLAWyoW3jJLq"
      }
    },
    {
      "cell_type": "markdown",
      "source": [
        "81.5"
      ],
      "metadata": {
        "id": "fL0edsaGhuPB"
      }
    },
    {
      "cell_type": "markdown",
      "source": [
        "(e) Determine the actual percentage of patients that \n",
        "have serum HDL between 34 and 69.1."
      ],
      "metadata": {
        "id": "TvgDOwdbhzOg"
      }
    },
    {
      "cell_type": "code",
      "source": [
        "between = [c for c in chol if c>34 and c<=69.1]"
      ],
      "metadata": {
        "id": "-4pLlDc2sf2a"
      },
      "execution_count": 4,
      "outputs": []
    },
    {
      "cell_type": "code",
      "source": [
        "len(between)"
      ],
      "metadata": {
        "colab": {
          "base_uri": "https://localhost:8080/"
        },
        "id": "BTtAJtElutZV",
        "outputId": "559a5a12-bbd5-4d3f-bb6a-96308d620f5a"
      },
      "execution_count": 5,
      "outputs": [
        {
          "output_type": "execute_result",
          "data": {
            "text/plain": [
              "45"
            ]
          },
          "metadata": {},
          "execution_count": 5
        }
      ]
    },
    {
      "cell_type": "code",
      "source": [
        "len(chol)"
      ],
      "metadata": {
        "colab": {
          "base_uri": "https://localhost:8080/"
        },
        "id": "_aJnyNdhutbs",
        "outputId": "a78f1f6f-7054-4ba5-e6f3-d79f22e6eeae"
      },
      "execution_count": 6,
      "outputs": [
        {
          "output_type": "execute_result",
          "data": {
            "text/plain": [
              "54"
            ]
          },
          "metadata": {},
          "execution_count": 6
        }
      ]
    },
    {
      "cell_type": "code",
      "source": [
        "len(between)/len(chol)#answer for (e)"
      ],
      "metadata": {
        "colab": {
          "base_uri": "https://localhost:8080/"
        },
        "id": "Y464OxkRutes",
        "outputId": "57d4e6a2-eac6-4675-caf7-df244a78f787"
      },
      "execution_count": 7,
      "outputs": [
        {
          "output_type": "execute_result",
          "data": {
            "text/plain": [
              "0.8333333333333334"
            ]
          },
          "metadata": {},
          "execution_count": 7
        }
      ]
    },
    {
      "cell_type": "markdown",
      "source": [
        "# Chebyshev’s Inequality\n"
      ],
      "metadata": {
        "id": "zuCGk2M5iP51"
      }
    },
    {
      "cell_type": "markdown",
      "source": [
        "$(1-\\frac{1}{k^2})100$% of the data lie between $\\mu$ - $kσ$ and $\\mu + kσ$ for $k$>1"
      ],
      "metadata": {
        "id": "qxo-ZBAhiRCS"
      }
    },
    {
      "cell_type": "markdown",
      "source": [
        "(a) determine the percentage of patients that have serum \n",
        "HDL within 3 standard deviations of the mean. "
      ],
      "metadata": {
        "id": "YHpbNHx2j3QG"
      }
    },
    {
      "cell_type": "markdown",
      "source": [
        "$(1-\\frac{1}{3^2})100$%"
      ],
      "metadata": {
        "id": "ug73cWtBj5-V"
      }
    },
    {
      "cell_type": "code",
      "source": [
        "(1-1/9)*100"
      ],
      "metadata": {
        "colab": {
          "base_uri": "https://localhost:8080/"
        },
        "id": "W8advMD-kAsj",
        "outputId": "8e702a9a-4344-4098-85ef-4e17bba7669a"
      },
      "execution_count": 8,
      "outputs": [
        {
          "output_type": "execute_result",
          "data": {
            "text/plain": [
              "88.88888888888889"
            ]
          },
          "metadata": {},
          "execution_count": 8
        }
      ]
    },
    {
      "cell_type": "markdown",
      "source": [
        "Approximate the Mean of a Variable from **Grouped \n",
        "Data**"
      ],
      "metadata": {
        "id": "J7ifNQmGkk9E"
      }
    },
    {
      "cell_type": "markdown",
      "source": [
        "![image.png](data:image/png;base64,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)"
      ],
      "metadata": {
        "id": "JSPJK81Xm8fN"
      }
    },
    {
      "cell_type": "code",
      "source": [
        "Hours = ['0']\n",
        "Frequency = [0, 130, 250, 230, 180, 100, 60, 50]\n",
        "middle = [0]\n",
        "for i in range(len(Frequency)-1):\n",
        "  start_n = i*5+1\n",
        "  start = str(start_n)\n",
        "  end_n = start_n + 4\n",
        "  end = str(end_n)\n",
        "  middle.append((start_n+end_n+1)/2)\n",
        "  Hours.append(start+\"-\"+end)"
      ],
      "metadata": {
        "id": "meNh1t7Sk_jk"
      },
      "execution_count": 20,
      "outputs": []
    },
    {
      "cell_type": "code",
      "source": [
        "prepare_df = pd.DataFrame({\"Hours\": Hours, \"Frequency\": Frequency})\n",
        "prepare_df"
      ],
      "metadata": {
        "colab": {
          "base_uri": "https://localhost:8080/",
          "height": 300
        },
        "id": "-QutuUUElrDA",
        "outputId": "dcf5f4cd-2aa9-4934-c04b-a89b651bdcf7"
      },
      "execution_count": 21,
      "outputs": [
        {
          "output_type": "execute_result",
          "data": {
            "text/plain": [
              "   Hours  Frequency\n",
              "0      0          0\n",
              "1    1-5        130\n",
              "2   6-10        250\n",
              "3  11-15        230\n",
              "4  16-20        180\n",
              "5  21-25        100\n",
              "6  26-30         60\n",
              "7  31-35         50"
            ],
            "text/html": [
              "\n",
              "  <div id=\"df-5cdc3f85-8fb5-4417-95a4-31287dd95c17\">\n",
              "    <div class=\"colab-df-container\">\n",
              "      <div>\n",
              "<style scoped>\n",
              "    .dataframe tbody tr th:only-of-type {\n",
              "        vertical-align: middle;\n",
              "    }\n",
              "\n",
              "    .dataframe tbody tr th {\n",
              "        vertical-align: top;\n",
              "    }\n",
              "\n",
              "    .dataframe thead th {\n",
              "        text-align: right;\n",
              "    }\n",
              "</style>\n",
              "<table border=\"1\" class=\"dataframe\">\n",
              "  <thead>\n",
              "    <tr style=\"text-align: right;\">\n",
              "      <th></th>\n",
              "      <th>Hours</th>\n",
              "      <th>Frequency</th>\n",
              "    </tr>\n",
              "  </thead>\n",
              "  <tbody>\n",
              "    <tr>\n",
              "      <th>0</th>\n",
              "      <td>0</td>\n",
              "      <td>0</td>\n",
              "    </tr>\n",
              "    <tr>\n",
              "      <th>1</th>\n",
              "      <td>1-5</td>\n",
              "      <td>130</td>\n",
              "    </tr>\n",
              "    <tr>\n",
              "      <th>2</th>\n",
              "      <td>6-10</td>\n",
              "      <td>250</td>\n",
              "    </tr>\n",
              "    <tr>\n",
              "      <th>3</th>\n",
              "      <td>11-15</td>\n",
              "      <td>230</td>\n",
              "    </tr>\n",
              "    <tr>\n",
              "      <th>4</th>\n",
              "      <td>16-20</td>\n",
              "      <td>180</td>\n",
              "    </tr>\n",
              "    <tr>\n",
              "      <th>5</th>\n",
              "      <td>21-25</td>\n",
              "      <td>100</td>\n",
              "    </tr>\n",
              "    <tr>\n",
              "      <th>6</th>\n",
              "      <td>26-30</td>\n",
              "      <td>60</td>\n",
              "    </tr>\n",
              "    <tr>\n",
              "      <th>7</th>\n",
              "      <td>31-35</td>\n",
              "      <td>50</td>\n",
              "    </tr>\n",
              "  </tbody>\n",
              "</table>\n",
              "</div>\n",
              "      <button class=\"colab-df-convert\" onclick=\"convertToInteractive('df-5cdc3f85-8fb5-4417-95a4-31287dd95c17')\"\n",
              "              title=\"Convert this dataframe to an interactive table.\"\n",
              "              style=\"display:none;\">\n",
              "        \n",
              "  <svg xmlns=\"http://www.w3.org/2000/svg\" height=\"24px\"viewBox=\"0 0 24 24\"\n",
              "       width=\"24px\">\n",
              "    <path d=\"M0 0h24v24H0V0z\" fill=\"none\"/>\n",
              "    <path d=\"M18.56 5.44l.94 2.06.94-2.06 2.06-.94-2.06-.94-.94-2.06-.94 2.06-2.06.94zm-11 1L8.5 8.5l.94-2.06 2.06-.94-2.06-.94L8.5 2.5l-.94 2.06-2.06.94zm10 10l.94 2.06.94-2.06 2.06-.94-2.06-.94-.94-2.06-.94 2.06-2.06.94z\"/><path d=\"M17.41 7.96l-1.37-1.37c-.4-.4-.92-.59-1.43-.59-.52 0-1.04.2-1.43.59L10.3 9.45l-7.72 7.72c-.78.78-.78 2.05 0 2.83L4 21.41c.39.39.9.59 1.41.59.51 0 1.02-.2 1.41-.59l7.78-7.78 2.81-2.81c.8-.78.8-2.07 0-2.86zM5.41 20L4 18.59l7.72-7.72 1.47 1.35L5.41 20z\"/>\n",
              "  </svg>\n",
              "      </button>\n",
              "      \n",
              "  <style>\n",
              "    .colab-df-container {\n",
              "      display:flex;\n",
              "      flex-wrap:wrap;\n",
              "      gap: 12px;\n",
              "    }\n",
              "\n",
              "    .colab-df-convert {\n",
              "      background-color: #E8F0FE;\n",
              "      border: none;\n",
              "      border-radius: 50%;\n",
              "      cursor: pointer;\n",
              "      display: none;\n",
              "      fill: #1967D2;\n",
              "      height: 32px;\n",
              "      padding: 0 0 0 0;\n",
              "      width: 32px;\n",
              "    }\n",
              "\n",
              "    .colab-df-convert:hover {\n",
              "      background-color: #E2EBFA;\n",
              "      box-shadow: 0px 1px 2px rgba(60, 64, 67, 0.3), 0px 1px 3px 1px rgba(60, 64, 67, 0.15);\n",
              "      fill: #174EA6;\n",
              "    }\n",
              "\n",
              "    [theme=dark] .colab-df-convert {\n",
              "      background-color: #3B4455;\n",
              "      fill: #D2E3FC;\n",
              "    }\n",
              "\n",
              "    [theme=dark] .colab-df-convert:hover {\n",
              "      background-color: #434B5C;\n",
              "      box-shadow: 0px 1px 3px 1px rgba(0, 0, 0, 0.15);\n",
              "      filter: drop-shadow(0px 1px 2px rgba(0, 0, 0, 0.3));\n",
              "      fill: #FFFFFF;\n",
              "    }\n",
              "  </style>\n",
              "\n",
              "      <script>\n",
              "        const buttonEl =\n",
              "          document.querySelector('#df-5cdc3f85-8fb5-4417-95a4-31287dd95c17 button.colab-df-convert');\n",
              "        buttonEl.style.display =\n",
              "          google.colab.kernel.accessAllowed ? 'block' : 'none';\n",
              "\n",
              "        async function convertToInteractive(key) {\n",
              "          const element = document.querySelector('#df-5cdc3f85-8fb5-4417-95a4-31287dd95c17');\n",
              "          const dataTable =\n",
              "            await google.colab.kernel.invokeFunction('convertToInteractive',\n",
              "                                                     [key], {});\n",
              "          if (!dataTable) return;\n",
              "\n",
              "          const docLinkHtml = 'Like what you see? Visit the ' +\n",
              "            '<a target=\"_blank\" href=https://colab.research.google.com/notebooks/data_table.ipynb>data table notebook</a>'\n",
              "            + ' to learn more about interactive tables.';\n",
              "          element.innerHTML = '';\n",
              "          dataTable['output_type'] = 'display_data';\n",
              "          await google.colab.output.renderOutput(dataTable, element);\n",
              "          const docLink = document.createElement('div');\n",
              "          docLink.innerHTML = docLinkHtml;\n",
              "          element.appendChild(docLink);\n",
              "        }\n",
              "      </script>\n",
              "    </div>\n",
              "  </div>\n",
              "  "
            ]
          },
          "metadata": {},
          "execution_count": 21
        }
      ]
    },
    {
      "cell_type": "code",
      "source": [
        "prepare_df['xi'] = middle\n",
        "prepare_df['xf'] = prepare_df['xi']*prepare_df['Frequency']"
      ],
      "metadata": {
        "id": "jBJqEDgpl6Ks"
      },
      "execution_count": 23,
      "outputs": []
    },
    {
      "cell_type": "code",
      "source": [
        "prepare_df"
      ],
      "metadata": {
        "colab": {
          "base_uri": "https://localhost:8080/",
          "height": 300
        },
        "id": "_UztlZ-GmxSU",
        "outputId": "cbaf4913-1bf1-4e08-ee6c-89ea887055d8"
      },
      "execution_count": 24,
      "outputs": [
        {
          "output_type": "execute_result",
          "data": {
            "text/plain": [
              "   Hours  Frequency    xi      xf\n",
              "0      0          0   0.0     0.0\n",
              "1    1-5        130   3.5   455.0\n",
              "2   6-10        250   8.5  2125.0\n",
              "3  11-15        230  13.5  3105.0\n",
              "4  16-20        180  18.5  3330.0\n",
              "5  21-25        100  23.5  2350.0\n",
              "6  26-30         60  28.5  1710.0\n",
              "7  31-35         50  33.5  1675.0"
            ],
            "text/html": [
              "\n",
              "  <div id=\"df-658d85d4-cdc5-482d-8160-225323d9037e\">\n",
              "    <div class=\"colab-df-container\">\n",
              "      <div>\n",
              "<style scoped>\n",
              "    .dataframe tbody tr th:only-of-type {\n",
              "        vertical-align: middle;\n",
              "    }\n",
              "\n",
              "    .dataframe tbody tr th {\n",
              "        vertical-align: top;\n",
              "    }\n",
              "\n",
              "    .dataframe thead th {\n",
              "        text-align: right;\n",
              "    }\n",
              "</style>\n",
              "<table border=\"1\" class=\"dataframe\">\n",
              "  <thead>\n",
              "    <tr style=\"text-align: right;\">\n",
              "      <th></th>\n",
              "      <th>Hours</th>\n",
              "      <th>Frequency</th>\n",
              "      <th>xi</th>\n",
              "      <th>xf</th>\n",
              "    </tr>\n",
              "  </thead>\n",
              "  <tbody>\n",
              "    <tr>\n",
              "      <th>0</th>\n",
              "      <td>0</td>\n",
              "      <td>0</td>\n",
              "      <td>0.0</td>\n",
              "      <td>0.0</td>\n",
              "    </tr>\n",
              "    <tr>\n",
              "      <th>1</th>\n",
              "      <td>1-5</td>\n",
              "      <td>130</td>\n",
              "      <td>3.5</td>\n",
              "      <td>455.0</td>\n",
              "    </tr>\n",
              "    <tr>\n",
              "      <th>2</th>\n",
              "      <td>6-10</td>\n",
              "      <td>250</td>\n",
              "      <td>8.5</td>\n",
              "      <td>2125.0</td>\n",
              "    </tr>\n",
              "    <tr>\n",
              "      <th>3</th>\n",
              "      <td>11-15</td>\n",
              "      <td>230</td>\n",
              "      <td>13.5</td>\n",
              "      <td>3105.0</td>\n",
              "    </tr>\n",
              "    <tr>\n",
              "      <th>4</th>\n",
              "      <td>16-20</td>\n",
              "      <td>180</td>\n",
              "      <td>18.5</td>\n",
              "      <td>3330.0</td>\n",
              "    </tr>\n",
              "    <tr>\n",
              "      <th>5</th>\n",
              "      <td>21-25</td>\n",
              "      <td>100</td>\n",
              "      <td>23.5</td>\n",
              "      <td>2350.0</td>\n",
              "    </tr>\n",
              "    <tr>\n",
              "      <th>6</th>\n",
              "      <td>26-30</td>\n",
              "      <td>60</td>\n",
              "      <td>28.5</td>\n",
              "      <td>1710.0</td>\n",
              "    </tr>\n",
              "    <tr>\n",
              "      <th>7</th>\n",
              "      <td>31-35</td>\n",
              "      <td>50</td>\n",
              "      <td>33.5</td>\n",
              "      <td>1675.0</td>\n",
              "    </tr>\n",
              "  </tbody>\n",
              "</table>\n",
              "</div>\n",
              "      <button class=\"colab-df-convert\" onclick=\"convertToInteractive('df-658d85d4-cdc5-482d-8160-225323d9037e')\"\n",
              "              title=\"Convert this dataframe to an interactive table.\"\n",
              "              style=\"display:none;\">\n",
              "        \n",
              "  <svg xmlns=\"http://www.w3.org/2000/svg\" height=\"24px\"viewBox=\"0 0 24 24\"\n",
              "       width=\"24px\">\n",
              "    <path d=\"M0 0h24v24H0V0z\" fill=\"none\"/>\n",
              "    <path d=\"M18.56 5.44l.94 2.06.94-2.06 2.06-.94-2.06-.94-.94-2.06-.94 2.06-2.06.94zm-11 1L8.5 8.5l.94-2.06 2.06-.94-2.06-.94L8.5 2.5l-.94 2.06-2.06.94zm10 10l.94 2.06.94-2.06 2.06-.94-2.06-.94-.94-2.06-.94 2.06-2.06.94z\"/><path d=\"M17.41 7.96l-1.37-1.37c-.4-.4-.92-.59-1.43-.59-.52 0-1.04.2-1.43.59L10.3 9.45l-7.72 7.72c-.78.78-.78 2.05 0 2.83L4 21.41c.39.39.9.59 1.41.59.51 0 1.02-.2 1.41-.59l7.78-7.78 2.81-2.81c.8-.78.8-2.07 0-2.86zM5.41 20L4 18.59l7.72-7.72 1.47 1.35L5.41 20z\"/>\n",
              "  </svg>\n",
              "      </button>\n",
              "      \n",
              "  <style>\n",
              "    .colab-df-container {\n",
              "      display:flex;\n",
              "      flex-wrap:wrap;\n",
              "      gap: 12px;\n",
              "    }\n",
              "\n",
              "    .colab-df-convert {\n",
              "      background-color: #E8F0FE;\n",
              "      border: none;\n",
              "      border-radius: 50%;\n",
              "      cursor: pointer;\n",
              "      display: none;\n",
              "      fill: #1967D2;\n",
              "      height: 32px;\n",
              "      padding: 0 0 0 0;\n",
              "      width: 32px;\n",
              "    }\n",
              "\n",
              "    .colab-df-convert:hover {\n",
              "      background-color: #E2EBFA;\n",
              "      box-shadow: 0px 1px 2px rgba(60, 64, 67, 0.3), 0px 1px 3px 1px rgba(60, 64, 67, 0.15);\n",
              "      fill: #174EA6;\n",
              "    }\n",
              "\n",
              "    [theme=dark] .colab-df-convert {\n",
              "      background-color: #3B4455;\n",
              "      fill: #D2E3FC;\n",
              "    }\n",
              "\n",
              "    [theme=dark] .colab-df-convert:hover {\n",
              "      background-color: #434B5C;\n",
              "      box-shadow: 0px 1px 3px 1px rgba(0, 0, 0, 0.15);\n",
              "      filter: drop-shadow(0px 1px 2px rgba(0, 0, 0, 0.3));\n",
              "      fill: #FFFFFF;\n",
              "    }\n",
              "  </style>\n",
              "\n",
              "      <script>\n",
              "        const buttonEl =\n",
              "          document.querySelector('#df-658d85d4-cdc5-482d-8160-225323d9037e button.colab-df-convert');\n",
              "        buttonEl.style.display =\n",
              "          google.colab.kernel.accessAllowed ? 'block' : 'none';\n",
              "\n",
              "        async function convertToInteractive(key) {\n",
              "          const element = document.querySelector('#df-658d85d4-cdc5-482d-8160-225323d9037e');\n",
              "          const dataTable =\n",
              "            await google.colab.kernel.invokeFunction('convertToInteractive',\n",
              "                                                     [key], {});\n",
              "          if (!dataTable) return;\n",
              "\n",
              "          const docLinkHtml = 'Like what you see? Visit the ' +\n",
              "            '<a target=\"_blank\" href=https://colab.research.google.com/notebooks/data_table.ipynb>data table notebook</a>'\n",
              "            + ' to learn more about interactive tables.';\n",
              "          element.innerHTML = '';\n",
              "          dataTable['output_type'] = 'display_data';\n",
              "          await google.colab.output.renderOutput(dataTable, element);\n",
              "          const docLink = document.createElement('div');\n",
              "          docLink.innerHTML = docLinkHtml;\n",
              "          element.appendChild(docLink);\n",
              "        }\n",
              "      </script>\n",
              "    </div>\n",
              "  </div>\n",
              "  "
            ]
          },
          "metadata": {},
          "execution_count": 24
        }
      ]
    },
    {
      "cell_type": "code",
      "source": [
        "sum_f = sum(prepare_df['Frequency'])\n",
        "sum_xf = sum(prepare_df['xf'])\n",
        "print(f\"sum f_i: {sum_f}, sum xf: {sum_xf}\")"
      ],
      "metadata": {
        "colab": {
          "base_uri": "https://localhost:8080/"
        },
        "id": "kdbicBc7mxel",
        "outputId": "e9139023-88fd-48ad-fa6e-7be22a31dcc7"
      },
      "execution_count": 27,
      "outputs": [
        {
          "output_type": "stream",
          "name": "stdout",
          "text": [
            "sum f_i: 1000, sum xf: 14750.0\n"
          ]
        }
      ]
    },
    {
      "cell_type": "code",
      "source": [
        "sum_xf/sum_f"
      ],
      "metadata": {
        "colab": {
          "base_uri": "https://localhost:8080/"
        },
        "id": "IfyOzf-hnDdx",
        "outputId": "672c5b35-1ed9-41a5-89af-ae0653d3a7b1"
      },
      "execution_count": 48,
      "outputs": [
        {
          "output_type": "execute_result",
          "data": {
            "text/plain": [
              "14.75"
            ]
          },
          "metadata": {},
          "execution_count": 48
        }
      ]
    },
    {
      "cell_type": "markdown",
      "source": [
        "## Weighted Mean\n",
        "![image.png](data:image/png;base64,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)"
      ],
      "metadata": {
        "id": "JRO1L6OInS_u"
      }
    },
    {
      "cell_type": "code",
      "source": [
        "raisins = 1.25\n",
        "chocolate = 3.25\n",
        "cashews = 5.4\n",
        "\n",
        "total_cost = 1*raisins + 2*chocolate + 1.5*cashews\n",
        "total_cost"
      ],
      "metadata": {
        "colab": {
          "base_uri": "https://localhost:8080/"
        },
        "id": "QkUvmCfdnfW6",
        "outputId": "c8b34fb1-e983-4c02-fffb-6b50010d6abc"
      },
      "execution_count": 29,
      "outputs": [
        {
          "output_type": "execute_result",
          "data": {
            "text/plain": [
              "15.850000000000001"
            ]
          },
          "metadata": {},
          "execution_count": 29
        }
      ]
    },
    {
      "cell_type": "code",
      "source": [
        "total_cost/4.5"
      ],
      "metadata": {
        "colab": {
          "base_uri": "https://localhost:8080/"
        },
        "id": "Ikx5QxGHn1e3",
        "outputId": "a15a01a9-03a4-43a2-94f4-e29dfa98d073"
      },
      "execution_count": 31,
      "outputs": [
        {
          "output_type": "execute_result",
          "data": {
            "text/plain": [
              "3.5222222222222226"
            ]
          },
          "metadata": {},
          "execution_count": 31
        }
      ]
    },
    {
      "cell_type": "markdown",
      "source": [
        "![image.png](data:image/png;base64,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)"
      ],
      "metadata": {
        "id": "E8sMHMDEoCfX"
      }
    },
    {
      "cell_type": "markdown",
      "source": [
        "![image.png](data:image/png;base64,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)"
      ],
      "metadata": {
        "id": "Re1cz2a1oH4r"
      }
    },
    {
      "cell_type": "markdown",
      "source": [
        "Approximate the standard deviation number of hours spent \n",
        "preparing for class each week.\n",
        "**sample std**\n",
        "\n",
        "**엄청 많이 틀림**"
      ],
      "metadata": {
        "id": "49nwEaFTpoz-"
      }
    },
    {
      "cell_type": "code",
      "source": [
        "mean = np.sum(prepare_df['xi']*prepare_df['Frequency'])/np.sum(prepare_df['Frequency'])"
      ],
      "metadata": {
        "id": "U9o4dzBuqmfH"
      },
      "execution_count": 49,
      "outputs": []
    },
    {
      "cell_type": "code",
      "source": [
        "prepare_df['x-mean'] = prepare_df['xi']-mean"
      ],
      "metadata": {
        "id": "hbie9ZKvqBny"
      },
      "execution_count": 50,
      "outputs": []
    },
    {
      "cell_type": "code",
      "source": [
        "mean"
      ],
      "metadata": {
        "colab": {
          "base_uri": "https://localhost:8080/"
        },
        "id": "5TP1BnIzqkgy",
        "outputId": "0bee5e7e-5475-493e-fd32-2e848b6791d0"
      },
      "execution_count": 51,
      "outputs": [
        {
          "output_type": "execute_result",
          "data": {
            "text/plain": [
              "14.75"
            ]
          },
          "metadata": {},
          "execution_count": 51
        }
      ]
    },
    {
      "cell_type": "code",
      "source": [
        "prepare_df"
      ],
      "metadata": {
        "colab": {
          "base_uri": "https://localhost:8080/",
          "height": 300
        },
        "id": "PMq4YdF2rk8Q",
        "outputId": "d6f7cdde-af0e-499b-e3b6-1f3d575ae03e"
      },
      "execution_count": 56,
      "outputs": [
        {
          "output_type": "execute_result",
          "data": {
            "text/plain": [
              "   Hours  Frequency    xi      xf  x-mean\n",
              "0      0          0   0.0     0.0  -14.75\n",
              "1    1-5        130   3.5   455.0  -11.25\n",
              "2   6-10        250   8.5  2125.0   -6.25\n",
              "3  11-15        230  13.5  3105.0   -1.25\n",
              "4  16-20        180  18.5  3330.0    3.75\n",
              "5  21-25        100  23.5  2350.0    8.75\n",
              "6  26-30         60  28.5  1710.0   13.75\n",
              "7  31-35         50  33.5  1675.0   18.75"
            ],
            "text/html": [
              "\n",
              "  <div id=\"df-4bf04d40-388a-4a66-86b7-8253c7c10015\">\n",
              "    <div class=\"colab-df-container\">\n",
              "      <div>\n",
              "<style scoped>\n",
              "    .dataframe tbody tr th:only-of-type {\n",
              "        vertical-align: middle;\n",
              "    }\n",
              "\n",
              "    .dataframe tbody tr th {\n",
              "        vertical-align: top;\n",
              "    }\n",
              "\n",
              "    .dataframe thead th {\n",
              "        text-align: right;\n",
              "    }\n",
              "</style>\n",
              "<table border=\"1\" class=\"dataframe\">\n",
              "  <thead>\n",
              "    <tr style=\"text-align: right;\">\n",
              "      <th></th>\n",
              "      <th>Hours</th>\n",
              "      <th>Frequency</th>\n",
              "      <th>xi</th>\n",
              "      <th>xf</th>\n",
              "      <th>x-mean</th>\n",
              "    </tr>\n",
              "  </thead>\n",
              "  <tbody>\n",
              "    <tr>\n",
              "      <th>0</th>\n",
              "      <td>0</td>\n",
              "      <td>0</td>\n",
              "      <td>0.0</td>\n",
              "      <td>0.0</td>\n",
              "      <td>-14.75</td>\n",
              "    </tr>\n",
              "    <tr>\n",
              "      <th>1</th>\n",
              "      <td>1-5</td>\n",
              "      <td>130</td>\n",
              "      <td>3.5</td>\n",
              "      <td>455.0</td>\n",
              "      <td>-11.25</td>\n",
              "    </tr>\n",
              "    <tr>\n",
              "      <th>2</th>\n",
              "      <td>6-10</td>\n",
              "      <td>250</td>\n",
              "      <td>8.5</td>\n",
              "      <td>2125.0</td>\n",
              "      <td>-6.25</td>\n",
              "    </tr>\n",
              "    <tr>\n",
              "      <th>3</th>\n",
              "      <td>11-15</td>\n",
              "      <td>230</td>\n",
              "      <td>13.5</td>\n",
              "      <td>3105.0</td>\n",
              "      <td>-1.25</td>\n",
              "    </tr>\n",
              "    <tr>\n",
              "      <th>4</th>\n",
              "      <td>16-20</td>\n",
              "      <td>180</td>\n",
              "      <td>18.5</td>\n",
              "      <td>3330.0</td>\n",
              "      <td>3.75</td>\n",
              "    </tr>\n",
              "    <tr>\n",
              "      <th>5</th>\n",
              "      <td>21-25</td>\n",
              "      <td>100</td>\n",
              "      <td>23.5</td>\n",
              "      <td>2350.0</td>\n",
              "      <td>8.75</td>\n",
              "    </tr>\n",
              "    <tr>\n",
              "      <th>6</th>\n",
              "      <td>26-30</td>\n",
              "      <td>60</td>\n",
              "      <td>28.5</td>\n",
              "      <td>1710.0</td>\n",
              "      <td>13.75</td>\n",
              "    </tr>\n",
              "    <tr>\n",
              "      <th>7</th>\n",
              "      <td>31-35</td>\n",
              "      <td>50</td>\n",
              "      <td>33.5</td>\n",
              "      <td>1675.0</td>\n",
              "      <td>18.75</td>\n",
              "    </tr>\n",
              "  </tbody>\n",
              "</table>\n",
              "</div>\n",
              "      <button class=\"colab-df-convert\" onclick=\"convertToInteractive('df-4bf04d40-388a-4a66-86b7-8253c7c10015')\"\n",
              "              title=\"Convert this dataframe to an interactive table.\"\n",
              "              style=\"display:none;\">\n",
              "        \n",
              "  <svg xmlns=\"http://www.w3.org/2000/svg\" height=\"24px\"viewBox=\"0 0 24 24\"\n",
              "       width=\"24px\">\n",
              "    <path d=\"M0 0h24v24H0V0z\" fill=\"none\"/>\n",
              "    <path d=\"M18.56 5.44l.94 2.06.94-2.06 2.06-.94-2.06-.94-.94-2.06-.94 2.06-2.06.94zm-11 1L8.5 8.5l.94-2.06 2.06-.94-2.06-.94L8.5 2.5l-.94 2.06-2.06.94zm10 10l.94 2.06.94-2.06 2.06-.94-2.06-.94-.94-2.06-.94 2.06-2.06.94z\"/><path d=\"M17.41 7.96l-1.37-1.37c-.4-.4-.92-.59-1.43-.59-.52 0-1.04.2-1.43.59L10.3 9.45l-7.72 7.72c-.78.78-.78 2.05 0 2.83L4 21.41c.39.39.9.59 1.41.59.51 0 1.02-.2 1.41-.59l7.78-7.78 2.81-2.81c.8-.78.8-2.07 0-2.86zM5.41 20L4 18.59l7.72-7.72 1.47 1.35L5.41 20z\"/>\n",
              "  </svg>\n",
              "      </button>\n",
              "      \n",
              "  <style>\n",
              "    .colab-df-container {\n",
              "      display:flex;\n",
              "      flex-wrap:wrap;\n",
              "      gap: 12px;\n",
              "    }\n",
              "\n",
              "    .colab-df-convert {\n",
              "      background-color: #E8F0FE;\n",
              "      border: none;\n",
              "      border-radius: 50%;\n",
              "      cursor: pointer;\n",
              "      display: none;\n",
              "      fill: #1967D2;\n",
              "      height: 32px;\n",
              "      padding: 0 0 0 0;\n",
              "      width: 32px;\n",
              "    }\n",
              "\n",
              "    .colab-df-convert:hover {\n",
              "      background-color: #E2EBFA;\n",
              "      box-shadow: 0px 1px 2px rgba(60, 64, 67, 0.3), 0px 1px 3px 1px rgba(60, 64, 67, 0.15);\n",
              "      fill: #174EA6;\n",
              "    }\n",
              "\n",
              "    [theme=dark] .colab-df-convert {\n",
              "      background-color: #3B4455;\n",
              "      fill: #D2E3FC;\n",
              "    }\n",
              "\n",
              "    [theme=dark] .colab-df-convert:hover {\n",
              "      background-color: #434B5C;\n",
              "      box-shadow: 0px 1px 3px 1px rgba(0, 0, 0, 0.15);\n",
              "      filter: drop-shadow(0px 1px 2px rgba(0, 0, 0, 0.3));\n",
              "      fill: #FFFFFF;\n",
              "    }\n",
              "  </style>\n",
              "\n",
              "      <script>\n",
              "        const buttonEl =\n",
              "          document.querySelector('#df-4bf04d40-388a-4a66-86b7-8253c7c10015 button.colab-df-convert');\n",
              "        buttonEl.style.display =\n",
              "          google.colab.kernel.accessAllowed ? 'block' : 'none';\n",
              "\n",
              "        async function convertToInteractive(key) {\n",
              "          const element = document.querySelector('#df-4bf04d40-388a-4a66-86b7-8253c7c10015');\n",
              "          const dataTable =\n",
              "            await google.colab.kernel.invokeFunction('convertToInteractive',\n",
              "                                                     [key], {});\n",
              "          if (!dataTable) return;\n",
              "\n",
              "          const docLinkHtml = 'Like what you see? Visit the ' +\n",
              "            '<a target=\"_blank\" href=https://colab.research.google.com/notebooks/data_table.ipynb>data table notebook</a>'\n",
              "            + ' to learn more about interactive tables.';\n",
              "          element.innerHTML = '';\n",
              "          dataTable['output_type'] = 'display_data';\n",
              "          await google.colab.output.renderOutput(dataTable, element);\n",
              "          const docLink = document.createElement('div');\n",
              "          docLink.innerHTML = docLinkHtml;\n",
              "          element.appendChild(docLink);\n",
              "        }\n",
              "      </script>\n",
              "    </div>\n",
              "  </div>\n",
              "  "
            ]
          },
          "metadata": {},
          "execution_count": 56
        }
      ]
    },
    {
      "cell_type": "code",
      "source": [
        "prepare_df['x-mean'][0] = 0\n",
        "prepare_df"
      ],
      "metadata": {
        "colab": {
          "base_uri": "https://localhost:8080/",
          "height": 391
        },
        "id": "JYkKTyGap8oT",
        "outputId": "7aa3a1c8-9a87-4550-c2fd-a85bb77b526b"
      },
      "execution_count": 58,
      "outputs": [
        {
          "output_type": "stream",
          "name": "stderr",
          "text": [
            "/usr/local/lib/python3.7/dist-packages/ipykernel_launcher.py:1: SettingWithCopyWarning: \n",
            "A value is trying to be set on a copy of a slice from a DataFrame\n",
            "\n",
            "See the caveats in the documentation: https://pandas.pydata.org/pandas-docs/stable/user_guide/indexing.html#returning-a-view-versus-a-copy\n",
            "  \"\"\"Entry point for launching an IPython kernel.\n"
          ]
        },
        {
          "output_type": "execute_result",
          "data": {
            "text/plain": [
              "   Hours  Frequency    xi      xf  x-mean\n",
              "0      0          0   0.0     0.0    0.00\n",
              "1    1-5        130   3.5   455.0  -11.25\n",
              "2   6-10        250   8.5  2125.0   -6.25\n",
              "3  11-15        230  13.5  3105.0   -1.25\n",
              "4  16-20        180  18.5  3330.0    3.75\n",
              "5  21-25        100  23.5  2350.0    8.75\n",
              "6  26-30         60  28.5  1710.0   13.75\n",
              "7  31-35         50  33.5  1675.0   18.75"
            ],
            "text/html": [
              "\n",
              "  <div id=\"df-8c3f7560-ad66-47ea-88a8-6721324ad9df\">\n",
              "    <div class=\"colab-df-container\">\n",
              "      <div>\n",
              "<style scoped>\n",
              "    .dataframe tbody tr th:only-of-type {\n",
              "        vertical-align: middle;\n",
              "    }\n",
              "\n",
              "    .dataframe tbody tr th {\n",
              "        vertical-align: top;\n",
              "    }\n",
              "\n",
              "    .dataframe thead th {\n",
              "        text-align: right;\n",
              "    }\n",
              "</style>\n",
              "<table border=\"1\" class=\"dataframe\">\n",
              "  <thead>\n",
              "    <tr style=\"text-align: right;\">\n",
              "      <th></th>\n",
              "      <th>Hours</th>\n",
              "      <th>Frequency</th>\n",
              "      <th>xi</th>\n",
              "      <th>xf</th>\n",
              "      <th>x-mean</th>\n",
              "    </tr>\n",
              "  </thead>\n",
              "  <tbody>\n",
              "    <tr>\n",
              "      <th>0</th>\n",
              "      <td>0</td>\n",
              "      <td>0</td>\n",
              "      <td>0.0</td>\n",
              "      <td>0.0</td>\n",
              "      <td>0.00</td>\n",
              "    </tr>\n",
              "    <tr>\n",
              "      <th>1</th>\n",
              "      <td>1-5</td>\n",
              "      <td>130</td>\n",
              "      <td>3.5</td>\n",
              "      <td>455.0</td>\n",
              "      <td>-11.25</td>\n",
              "    </tr>\n",
              "    <tr>\n",
              "      <th>2</th>\n",
              "      <td>6-10</td>\n",
              "      <td>250</td>\n",
              "      <td>8.5</td>\n",
              "      <td>2125.0</td>\n",
              "      <td>-6.25</td>\n",
              "    </tr>\n",
              "    <tr>\n",
              "      <th>3</th>\n",
              "      <td>11-15</td>\n",
              "      <td>230</td>\n",
              "      <td>13.5</td>\n",
              "      <td>3105.0</td>\n",
              "      <td>-1.25</td>\n",
              "    </tr>\n",
              "    <tr>\n",
              "      <th>4</th>\n",
              "      <td>16-20</td>\n",
              "      <td>180</td>\n",
              "      <td>18.5</td>\n",
              "      <td>3330.0</td>\n",
              "      <td>3.75</td>\n",
              "    </tr>\n",
              "    <tr>\n",
              "      <th>5</th>\n",
              "      <td>21-25</td>\n",
              "      <td>100</td>\n",
              "      <td>23.5</td>\n",
              "      <td>2350.0</td>\n",
              "      <td>8.75</td>\n",
              "    </tr>\n",
              "    <tr>\n",
              "      <th>6</th>\n",
              "      <td>26-30</td>\n",
              "      <td>60</td>\n",
              "      <td>28.5</td>\n",
              "      <td>1710.0</td>\n",
              "      <td>13.75</td>\n",
              "    </tr>\n",
              "    <tr>\n",
              "      <th>7</th>\n",
              "      <td>31-35</td>\n",
              "      <td>50</td>\n",
              "      <td>33.5</td>\n",
              "      <td>1675.0</td>\n",
              "      <td>18.75</td>\n",
              "    </tr>\n",
              "  </tbody>\n",
              "</table>\n",
              "</div>\n",
              "      <button class=\"colab-df-convert\" onclick=\"convertToInteractive('df-8c3f7560-ad66-47ea-88a8-6721324ad9df')\"\n",
              "              title=\"Convert this dataframe to an interactive table.\"\n",
              "              style=\"display:none;\">\n",
              "        \n",
              "  <svg xmlns=\"http://www.w3.org/2000/svg\" height=\"24px\"viewBox=\"0 0 24 24\"\n",
              "       width=\"24px\">\n",
              "    <path d=\"M0 0h24v24H0V0z\" fill=\"none\"/>\n",
              "    <path d=\"M18.56 5.44l.94 2.06.94-2.06 2.06-.94-2.06-.94-.94-2.06-.94 2.06-2.06.94zm-11 1L8.5 8.5l.94-2.06 2.06-.94-2.06-.94L8.5 2.5l-.94 2.06-2.06.94zm10 10l.94 2.06.94-2.06 2.06-.94-2.06-.94-.94-2.06-.94 2.06-2.06.94z\"/><path d=\"M17.41 7.96l-1.37-1.37c-.4-.4-.92-.59-1.43-.59-.52 0-1.04.2-1.43.59L10.3 9.45l-7.72 7.72c-.78.78-.78 2.05 0 2.83L4 21.41c.39.39.9.59 1.41.59.51 0 1.02-.2 1.41-.59l7.78-7.78 2.81-2.81c.8-.78.8-2.07 0-2.86zM5.41 20L4 18.59l7.72-7.72 1.47 1.35L5.41 20z\"/>\n",
              "  </svg>\n",
              "      </button>\n",
              "      \n",
              "  <style>\n",
              "    .colab-df-container {\n",
              "      display:flex;\n",
              "      flex-wrap:wrap;\n",
              "      gap: 12px;\n",
              "    }\n",
              "\n",
              "    .colab-df-convert {\n",
              "      background-color: #E8F0FE;\n",
              "      border: none;\n",
              "      border-radius: 50%;\n",
              "      cursor: pointer;\n",
              "      display: none;\n",
              "      fill: #1967D2;\n",
              "      height: 32px;\n",
              "      padding: 0 0 0 0;\n",
              "      width: 32px;\n",
              "    }\n",
              "\n",
              "    .colab-df-convert:hover {\n",
              "      background-color: #E2EBFA;\n",
              "      box-shadow: 0px 1px 2px rgba(60, 64, 67, 0.3), 0px 1px 3px 1px rgba(60, 64, 67, 0.15);\n",
              "      fill: #174EA6;\n",
              "    }\n",
              "\n",
              "    [theme=dark] .colab-df-convert {\n",
              "      background-color: #3B4455;\n",
              "      fill: #D2E3FC;\n",
              "    }\n",
              "\n",
              "    [theme=dark] .colab-df-convert:hover {\n",
              "      background-color: #434B5C;\n",
              "      box-shadow: 0px 1px 3px 1px rgba(0, 0, 0, 0.15);\n",
              "      filter: drop-shadow(0px 1px 2px rgba(0, 0, 0, 0.3));\n",
              "      fill: #FFFFFF;\n",
              "    }\n",
              "  </style>\n",
              "\n",
              "      <script>\n",
              "        const buttonEl =\n",
              "          document.querySelector('#df-8c3f7560-ad66-47ea-88a8-6721324ad9df button.colab-df-convert');\n",
              "        buttonEl.style.display =\n",
              "          google.colab.kernel.accessAllowed ? 'block' : 'none';\n",
              "\n",
              "        async function convertToInteractive(key) {\n",
              "          const element = document.querySelector('#df-8c3f7560-ad66-47ea-88a8-6721324ad9df');\n",
              "          const dataTable =\n",
              "            await google.colab.kernel.invokeFunction('convertToInteractive',\n",
              "                                                     [key], {});\n",
              "          if (!dataTable) return;\n",
              "\n",
              "          const docLinkHtml = 'Like what you see? Visit the ' +\n",
              "            '<a target=\"_blank\" href=https://colab.research.google.com/notebooks/data_table.ipynb>data table notebook</a>'\n",
              "            + ' to learn more about interactive tables.';\n",
              "          element.innerHTML = '';\n",
              "          dataTable['output_type'] = 'display_data';\n",
              "          await google.colab.output.renderOutput(dataTable, element);\n",
              "          const docLink = document.createElement('div');\n",
              "          docLink.innerHTML = docLinkHtml;\n",
              "          element.appendChild(docLink);\n",
              "        }\n",
              "      </script>\n",
              "    </div>\n",
              "  </div>\n",
              "  "
            ]
          },
          "metadata": {},
          "execution_count": 58
        }
      ]
    },
    {
      "cell_type": "code",
      "source": [
        "numerator = np.sum((prepare_df['xi']-mean)**2*prepare_df['Frequency'])\n",
        "denominator = np.sum(prepare_df['Frequency'])"
      ],
      "metadata": {
        "id": "AT2V1rSZo2iD"
      },
      "execution_count": 59,
      "outputs": []
    },
    {
      "cell_type": "code",
      "source": [
        "numerator"
      ],
      "metadata": {
        "colab": {
          "base_uri": "https://localhost:8080/"
        },
        "id": "j8Trr9IvpsyV",
        "outputId": "2da84e2f-5ccd-46cc-a24a-75ab447379ad"
      },
      "execution_count": 60,
      "outputs": [
        {
          "output_type": "execute_result",
          "data": {
            "text/plain": [
              "65687.5"
            ]
          },
          "metadata": {},
          "execution_count": 60
        }
      ]
    },
    {
      "cell_type": "code",
      "source": [
        "sample_var = numerator/(denominator-1)\n",
        "sample_var"
      ],
      "metadata": {
        "colab": {
          "base_uri": "https://localhost:8080/"
        },
        "id": "lWPWhwgur2LY",
        "outputId": "ccc65bc5-ec81-4408-efa9-4921fb37bdaf"
      },
      "execution_count": 65,
      "outputs": [
        {
          "output_type": "execute_result",
          "data": {
            "text/plain": [
              "65.75325325325325"
            ]
          },
          "metadata": {},
          "execution_count": 65
        }
      ]
    },
    {
      "cell_type": "code",
      "source": [
        "sample_std = np.sqrt(sample_var)\n",
        "sample_std"
      ],
      "metadata": {
        "colab": {
          "base_uri": "https://localhost:8080/"
        },
        "id": "p9lyO_5Npceq",
        "outputId": "82fab260-3090-4bef-ffef-23e2e5cc2d2a"
      },
      "execution_count": 66,
      "outputs": [
        {
          "output_type": "execute_result",
          "data": {
            "text/plain": [
              "8.10883797182144"
            ]
          },
          "metadata": {},
          "execution_count": 66
        }
      ]
    },
    {
      "cell_type": "markdown",
      "source": [
        "# Z-score"
      ],
      "metadata": {
        "id": "6yIQgGUhspyP"
      }
    },
    {
      "cell_type": "markdown",
      "source": [
        "![image.png](data:image/png;base64,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)"
      ],
      "metadata": {
        "id": "-OOWRA_TsrGz"
      }
    },
    {
      "cell_type": "code",
      "source": [
        "sample_male = 83\n",
        "sample_female = 76\n",
        "mean_male = 69.1\n",
        "std_male = 2.8\n",
        "mean_female = 63.7\n",
        "std_female = 2.7"
      ],
      "metadata": {
        "id": "6zY8d9m0sttE"
      },
      "execution_count": 68,
      "outputs": []
    },
    {
      "cell_type": "code",
      "source": [
        "z_male = (sample_male-mean_male)/std_male\n",
        "z_female = (sample_female - mean_female)/std_female\n",
        "\n",
        "print(f\"z-score of Kevin: {z_male} z-score of Candace: {z_female}\")\n",
        "print(f\"Is Kevin taller than Candace? {z_male > z_female}\")"
      ],
      "metadata": {
        "colab": {
          "base_uri": "https://localhost:8080/"
        },
        "id": "jp9bEwEFstzX",
        "outputId": "fd95cb3e-63b7-44d1-bd02-cb06fc925585"
      },
      "execution_count": 69,
      "outputs": [
        {
          "output_type": "stream",
          "name": "stdout",
          "text": [
            "z-score of Kevin: 4.964285714285716 z-score of Candace: 4.5555555555555545\n",
            "Is Kevin taller than Candace? True\n"
          ]
        }
      ]
    },
    {
      "cell_type": "markdown",
      "source": [
        "# Quartiles"
      ],
      "metadata": {
        "id": "T07d6-ufuq00"
      }
    },
    {
      "cell_type": "markdown",
      "source": [
        "![image.png](data:image/png;base64,iVBORw0KGgoAAAANSUhEUgAAA3UAAACXCAYAAACyanI0AAAgAElEQVR4nOzdd3Bc153o+W9HdKMTQgPoRs4gIgkmECRFiUmZkm1ZwUmyLXvG41dv3rzZqpm3b2p2vVuvdv95Wzvjtzs7DuPxjJNGkq1ASgxiEEkAJGKDyDnn0OgEdO7eP4DuIRghBpOUzqcKJbH79L3nXjTuPb97zvkdSTgcDiMIgiAIgiAIgiA8tCJhWzgcXvcTCoWQPuC6CYIgCIIgCIIgCHdBBHWCIAiCIAiCIAiPMBHUCYIgCIIgCIIgPMJEUCcIgiAIgiAIgvAIE0GdIAiCIAiCIAjCI0wEdYIgCIIgCIIgCI8wEdQJgiAIgiAIgiA8wkRQJwiCIAiCIAiC8AgTQZ0gCIIgCIIgCMIjTAR1giAIgiAIgiAIjzAR1AmCIAiCIAiCIDzCRFAnCIIgCIIgCILwCPvcBXVer5fp6WksFguBQCD6ejAYZGpqitbW1gdYO0EQBOFh5HA46O3tpaWlZd3rra2tfPjBBzQ0NDygmgmCIAjC7ck/S2G3283s7CwjIyMAKBUKlEolsbGx6PR6tFot8fHx96WitxMMBpmbm6Orq4vuri78fj/FxcXI5XLm5uYYHBzE0mLB6bCzZcuWB1JHQRCELyq/34/dbmdmZoahgUEkMiklJSVkZ2cjk8lu+rlAIIDNZuPC+fMEg0HS09Mxp6aSmJiITqe763pFHvhZWlro7OxEr9ezdevW6Pu9PT1cvnyZ8vJydu7cedf7EwRBeFh4vV6sVisL8/MMDgziD/gxm82kpaeTmJiIXq9/0FUUPoMNB3Uej4eRkREu1dUxPDyMUqlEq9Uil69uIj4+nvKKigca1E1NTnLy+HHOnj3LrupqwuEwAPPz85w7e5ZPTn1CcnLSfa+L2+0GQK1W3/d9CYIgPAoCgQCLi4u0tbXx//74fxAMBfnu977Hyy+/fMv7htvt5sqVK/zof/lf8fl8vPraqxw8fJiYmJh7FtSNjY1x/PhxWi2tHDx0cN37RqORnNxcUlJS7npfgiAIDxOfz8fMzAxtbW38P3//Y5xOJ88feZ5nnnsOpVL5hQrqPg9t9w0Pv5yamuLMmTNcunSJP/vhD/mf/+t/5T//5V/ypS9/GZlcTnNzMw67437W9ZaUSiXFJSWUlpVf915paSlbtmzBaEy87/UIBAIMDgwwNjZ23/clCILwqFCr1eTn5/P000+jNxiw2+y0tbbS29MTfQB3rXA4jM1m41JtLcFgEIDq3bvZt28fZrP5ntRLqVSyefNmCgsKb/j+wUOH+PM//3Oee/75e7I/QRCEh4VOp6O8vJzDhw+jUqkAKCktZdeuXaSlpT3g2v3xhEIhBgcHGR0dfdBVuSsbDuq6u7tpaW4mKSkJk8kUHS6TmprKc889x3PPPYfbvXLfKroRarUajSb2hu+53W6Wl5fvex36+vo4ceIErRbLfd+XIAjCo0QqlRIXF0dxaQk6nY7W1lYaGxvx+Xw3LB8MBllZWcF1n6/dGo3mkX46KwiCcKdkMhlxcXFIJBIAYmNjiY29cVv688rlcnHy5EkuXbr0oKtyVzYc1M3OzNDb04vdbsfv90dfl8lkmM1mCouK0BsM96WSGyWRSKJfyj+2SJT/zttv097eHn2qLAiCIKySSCRIpVLkcjnFpSWoVCp6e3oZ6B+4YfmZmRmGBocoKCi8r9f2B3nvEARBeJAi1+XINfCLdD0Mh8M4HA6OfvghdTW1WK3WB12lu7LhOXWp5lTS09MY6B/g9+++y+EnnyQ+Ph65XI5SqSQ5OXldZD80NMToyAgzMzPoDQZ27NhBq8XC5UuXMMTFUV1dzabiYnw+H11dXTQ0NLBktZKZkcmex/ayadOm6Hw9gI72dhwOBxKpFLvNhnVpiZKSEsrLy285yX4jFhYWmJmZwe12EwwE6OruZlNREZuKi0lISABW5xSOjozgdLkIh8OsLC9js9mIT0hg7969eL1exsbG6OzoYHllhZmZGZqbmtDqdBQVFd1V/QRBED5vtu/YgVQqZXhoiKamJkrLSte9HwgEmJmeZmpqim3btyGV3vgZZDgcxu/3MzI8gtfrxeNZTei1vLJCdXU1aWlp6+4RDoeDsbExlqxWYmJikKxtd2Ji/LptDgwMMDkxwcrKCiazmaqqqmiZ3p4eFtcaACsrK0xNTlK8dk+KDGNaWFhgcGCQyckJFhcXee7555mcnKSxvh673U5xaSmPP/74uqfkgiAIj4pwOEx7WxtOpxOpTMaS1YrD4Vhtn1dUIJFI8Pv9zM7M0tPTzfDwMOrYWI4cOcKFCxcYHR2loKCAbdu2YTQaCYVCrKys0NPdjdvtxm63o1AqKS4uJjMzc92+A4EAtiUb09PThMIhnA4HwyMj5Oflsam4mPj4eAKBAEtLSwz096NSqZDLFUxOTuD1+dixYwcpKSkMDw3T29vLwsICk+PjNDY2olapKCu/fjrXw27DQV1xaQkHDh7kg/c/4J2338Fms7Ft+3aKioqIi4tDpVJFb2QACoWC0bExLnx6nhhVDGqVCofTicPhoKm5maWlJRatVmJjY7FarXi9XiYmJujq7EIqk2E0GjGZTHi9Xtrb2/ngvfeo3LqV3NxcVhQK5mZnab/ShlqlJjsnm5iYmDs6AbOzswwNDbG8vExKcjKBtSD1xPETLC3ZqK6uRqfXMT4+zq9/9Wuef+EIsWo14VCIgcFBFhcX2bt3L1KpFJPJRCgUIhAIIJPJUKlUKJXKO6qXIAjC51lxcTF+n4+Tk5M0NjbwxP4nyMzMjAY3S9Yl7HY7hjgDZrP5pkGdz+fjwoULaDVadHodMSoVEomE0ZERhgYH+e6bb5KYmIhcLmdpaYnu7tWGRVFREUqFAolEwvz8PA6Hc912JRIJ4XCY+sv1DA0PsWfvXqqqqgiFQrS3t/PR0WNkZWdRUlJCIBDA6XTyq3/5F779ne+yqXgTsbGxyGQylpeXqampoe1KG4mJiSgUChxOJx0dHfT396PX6Xhi/34R1AmC8EjxeDy0tbXx/h/+QNWuXWRlZeFSKJianqajvYNYjYbMzMzV0RkKOVarlQsXLuD1eNixYwdymYz+vj5iYmLYsmULoVAIl9PJ+++/j16vx5iUFE2U1WqxsHXbNrweD3sfe4y4uDiGh4eZGB8nLi4edayagFqNx+3mzJkz2Gw2Hn/iCdxuNydPniRWrSYnNxdljBKPx8Pc/Dx2ux2TyYRWpyUUChEKBZHJ5ahiYlDeYUzxoG14+GVaWhoHDh7k8JOHCYdDvPW7t/jdb37LhfPnGR8bw+v1riufkZFBTEwMc3NzzExPEwgEqKys5Juvv44x0UhjQwOXL10iEAhQVFTEa6+9xsuvvEIoGKS5qZGBgdXhOF6vl0t1dVhaLCQlJbGlspLde/ZQXFLC6U8+4fLly3c8Vy4YDNJqsTA0OIjRaKS8ooLNmzfz4osvMjk5SU1NDSMjw3g8HoaGhjj64YdoNBqKijaxs6qKLVu2YFprbMTExFBcXIxWu5qNLSkpidKyMnJycu6oboIgCJ9niYmJbN26lYyMDPp6eqmtqSUUCkXfHx0dZWVlhYqKiptuw+fzMTU1RUN9PXqDnvz8fCoqKtizdy8FhYW8+/Y79HR34/F48Hq9XLlyhbraOqRSKdu3b6di82bKKyrIy8snLi4uul2JRIJCoSA7Oxun08nQ4BAu52rQFw6HaW5qoqWlBY1GQ+XWrVRVVbFr1y5OnTzFpUt12Gw2YDUrdIopBavVysT4ODabjYzMTJ4/coQdO3YyNjbOyZMn1x23IAjCo8DtdlNXW4ultZWUlBS2VFay97HHKCwsXG2fX7qM2+1GLpdjMpkwmc34/X6mJqcIh8M8tm8fBw8epKSkBL1ej9fjYWBggH/55b9gMBjYsmULW7ZsIRgM8uEHH1JbU8PAwAAejwe7zU5PdzfT09Pk5OawadMmtm3fzqHDhxkbHeP8+fPMTE9jtVr5w7vvEg6HycrKoqioiG3btrF582ZiYmKQSqXk5eURq9EAq2338ooKCgtvnDjrYbfhoE4ul1NQUMCb3/se3/v+90lMTKSutpZf/NM/8d577zEyPLxurh2A1+PB5/OSkmLiyaeeIi8vjy1btlBcUozL6UIhV0R/oXl5eTz22GMkGo0MDQ1FgzqpVEp8fDxPHNhPSkoK4XAYmUxGjDIGv99Pd3fXdQHlRrlcLurq6liYnyclJQWHw4FrbXhlYVEhPp+XhYUFQqEQwWAQlUrF+XOfMjIywsrKCgUFBVRXV9/RvgVBEL7oNhUXU16xGZfLxfnzn+JwOAgGg7jdbianJvH7/be8uTrsDhrqG0hMTCQ2Nhafz4fD4UAqlZKWmkp8fDx9fX2srKywsLDAp+fO0d/Xx759+9ZtJys7i9TU1Ou2r9FobjjaIi4ujj1795CZmUk4HF57sLc6UqWvrw+XyxUtGwwEWFlZTSK2f/9+tmzZQllZGeUV5Wi0GhrrG26a/VMQBOFhJZVKSUhI4MCBAyQlJa22z6UylAolfr+frq7OdUmw/H4/brcbhUJBbm4uWq2WF158kT179qBWq7HZbNTU1DA7M7Pag6bVkmg0kpKSgkIuJyMjgz/74Q8xmUz09PRgtVqJT0hAKpXicDhwOBwkJiZiMplYWVlhYmJidSmdhUW6uroYGx3FarWSkJhIWVkZRqPxAZ69++MzLT4OoNfrefa559i6bRs//clPOHvmDL/+1a+YnJzkP/3FX9zwxrhRBoMBpVKx7jWtVss3v/Wt6E3P5/MxMT4RTUYyPj5+XTC5UUNDQwwPDTOnmaW2pmbde3l5eeTl5ZGamorBYGBzRQU7d1Xx05/8hNHREb70la9QXl6+7umuIAiCsHEmk4my8jLOnk3miqWVmos1PP7E4/T39xMOhcjKyrrl5+0OO5cu1SGRSFCpVGi12nXv/+CHf4ZGo0WpVNLd1cX42BgGQ9xdpeqWyWR85aWXovekyHyR5uZmAKanp/F4PHe8fUEQhEeBwWDgW6+/Hv231+tlfGyczs5OAoHAZ26f2+x26urqCIVChMNhwuEwCQkJJCUl4XK5aLFY+NrXvw5AT28PFouF5ORklq96iAZQsbkChUKJ3mAgKSmJr33j6/zsJz+lpbmFg4cOcejQIYo2fT5zXXzmoA5Wh6YkJyfzpz/4AcnJyXx07BitLRbef+89fvgf/sO9riOwuoD4xQsXWFxcJDU1laSku4+w7TYbPp+Xiopynnr66RuWiTylTUpO5i/+4i+Qy+U0NTbR09vLgQMHeP7IEfLz8++6LoIgCF9EWVlZ7NpVzdv/9ha1tbXs2LmDpsZGEhISyMnNveVnHXYHjQ2NfOe73+HgwYPE3WARc6lUikqlYnBwkImJCQyGe/Mgzmq1cvnyZcbHxkhOTiHFJBYnFwThi2d+fp7z58+zZLWSlpZ2xz1gep2OyspKOtraGRwaIi09HcNaVn2DwcBje/ciX0t61dPdjd/nZ/fu3Wzbvv26bUWG0Mvlcr768suoVCpOf3Ka37/7Lg319Rx54QgvvPjiHefjeFhtKKibnZ3F6XSi1WoxmUxIJBLkcjnJycnse/xxRkZGOPHxcS5funzPgzqfz0d/fz//9LOfU7G5gp1VVaSkpNDb03vX25bLFUgkUmx2++pch4yM68p4PB5WVlZQq9VkZGbypz/4AbU1NdTU1HDp0iVUajWZmZkiIYogCMIdSEtLo7q6mpqai9TW1FBeXobP5yMlJQW9Xn/Lz0plUlSqGMbGxpDJZOh0unXvh8NhfD4fgUBgLZmXGo/Hw9LSEvE3CAA3IhQKMTAwwK//9V8xp6ayY+dOzGYzS0tLd7Q9QRCER4nT6cTr9aLVahkYGOBnP/0p27dvp6qqiuSUFNrb2u9ou/EJCRw8eJBPTp1iYGCA4uJi7DY7LpeLnbuq2L1nD7K1rPiqGBXTy9MsLS1dd92H1cyYwWCQYDBIQkICzzzzDKWlpdTU1lJ/6TLvv/ceAC+/8sqdn4iH0Ibm1EmlUsbGxmi7cuW6NepycnJIT09HqVRiiLv369S53W5OHD/O8PAQZrOZoqIizGbzPVkoNik5idjYWEZHR+nu7r7u/aHBQcZGR1lcXKS3pwefz0dBQQHPPPssX/7yl0lMSKS9rY35+fm7rosgCMIXkVqtJic3h6qqXSwuLPDe7/+AVqslMytr3bI2N6LVatlUXExTYxMdHZ047I7oe6FQCLfbTX19PcvLy6SmppGUlITVaqWzo+OO6xsKhTh39ix9fX3EJyRQUlJCWlraF26xXkEQvngCgQDTU1P09/ezvLzMxx9/zMjwCKlpaRRt2nRX7fOYmBiysrI4/OSTaGJjGRsdZWpqiqzsbL768svrsiBn52Tj9/tpampiZGTkujqOjozQ19eH2+3G0tJCQmIilVu38qUvfYlnnn0GVYyKs2fP3vX5eNhsqKdOp9PhdDrp7OggPiGByspKZDIZEokEr9eLz+cjOTmZ3bt33/MK+v1+Ojo6UCiVqNVqZDIZLpeLubm5aJlAIEAgELhpyuubMZvNlJSUcPnyJc6eOYtGo8FsNgOrQ2ump6Ywm1ORSqWrXw6Ph9LSUsxmM9W7dzM4OEhvb++6zGWGOAM2u201NavLhdPpJCkpKXq+BEEQvqhCoRA+nw+FQoH0quthQkICjz/xOGfPnMG1vEx6ejopKSnRz9wsGVacwcDuPXuwtFj46NgxAn4/efl5yORyVpaXV+e3rX02JzeH/Px8Ll68wIkTJ4iPj8e4dm32+XzRjJWBYBCbzYZer7/hPSUcDtPT00MYossWuN1upqeno2WCwSCBQEBc8wVBeOT4/X78fj8KxfocF8FgkMHBQfr7+ojVaPD5fLS3ta0uW6ZWI5VKcTqd6zo6gp+hfe5wOOjs7FzNhmkwoFap0On1JCUlXTeks7SsjNbWVtrb2nn/vfc4dOgQ6thYgoEA8/Pz2Gw2UlJScDmdfPTRR6RnZGA0GsnJySEYCGC1Wtd15hgMBmJiVHg9Hux2OxKJBJ/PR3x8/F2vhf3HtKGgTqVSoVAomJmZoaamBoNeT2gtC+X42Dgup4vKrZVUXxXULS8vs7KyQiAQiN4wdTody8vLq4t8r2U4W1paik5udzgceL1eAmvZwpaXl5HJZKSmpdHT3U1bWxuxGg0qlYqlpSVMZhMul4uZ6Wni4+ORSqUsLy9HGwF2ux2FQoHP52N5rS6RhQh1Oh06nY6Dhw/hcNixtLZitS5SWFiIRqPB7nBQVFhISkoKEokEj8eDpaWF+Ph4YmNjcblcJCUloVKrSU5Ojh53cXFxNOjs7FzN/JOwlp1H3OAFQfiiCgaDuFwuJicnWVlexmaz4XK5UKvV6HQ6ysvL2b5jO2azmdy8PNRqNYFAYHWx8NHRaGKSxcVF5ufn0Wg06PR6qquraWlupqOtHafTSVZWFnrDakDmcrn45re+hVarRafTsXNXFRMT41xpvYJcLicnJ5f4hHhUMSqcTid6vR6VSsX09DQqlQqf14fH44ner5xOJyqVCpPJxPT0NN1d3SQnJWGIi2N2Zpb09HQ8Hg+zMzNkZWWhVCpxOp3RES52mx2vx0swFMS1vIzf7ycYDK5mZEtIQC6Xi/uEIAh/NH6/n+XlZRYXFwkGgwBMTkzS2dm5bu1pALvdTs3Fi6hUKp559lnkcjlpaWn09fVxpbUVVUwMCqUyGlA5HU6mp6fR6fVIJJLotTAYDLIwP09CYiJKpTIa8C0uLnL06FFSklMoLilGIZfjcjpxOZ2Mj41jiDNgMKz+RLLPz83NcfLEidU4ICEBjUaD0+mktKyM/IICrIuLDAwM0N3dTV5eHkqlEtfyMmlpaeva7oWFhaRnZLCwsEBLSwvJyckoFAr0ev0jFdTJfvSjH/1oIwUXFxcJhUKYTCYuX77M2TNn6OjoYH5hnuKSEo688ALZ2dnR8oODg1gsFqanp9FqNGRkZpKUlERfXx8tFgtW6yI6nZ6k5CQMBgM+n4+WlhZaLa34/H6Sk5NJTU0lOTkZs9nM7Nwc589fYLB/gITEBMrLy9Hr9TRcric+Po709HTsDgeWFgtjY2PoDQYy1/Y5NTVFa2srY6NjqFQqsrKyMSYZUSgUmM1mUlNTiYmJYXR0lMt1lwiFQ+zes4c9e/ZgTjXj8XhYXLRis9uYmZ5mZmaGocFBTGYzBw8eXDeeVyqTMTszQ29vL06Hg9KyMtLT08WNWhCELzS3283IyAh1dXXUXLhIbGwsiYkJ6HQ6lEoloVAICVBWXk56ejoq1WqgNTgwwOXLlxkZHkalUqHRaAiHw6hjY0lKSkKv11OxeTMqlYruri4sFgtOp4uysjJefuUVzGYzCoUCmUxGeno6+QUF+P1+LBYLFz49z8rKCplZmWi0GjQaDVs2byYuPh69Xk9fbx8tzc04nQ4SjUZS09IwmUwYjUaWlpa4XFtHe0cHOq2Wyq2VJCcn02ppRRWjIjMrC4lEwpW2Nrq7uwkFgxQUFKwOAV2y0t7eztDgIDKZnJycHBITE6PrJgmCIPwxOJ1Ouru7V9eA6+9HoVCw4nbT09NDQ0PDup8/vPsuoyMjVG7dyv79+5HJZJhTU5mdmeH8p58yNDSE0WikrKwMrVbL5UuXSDQaSc/IYGlpiVZLK6OjI8ikUkypZuLi4lCr1dFh9ktLS1y+fJlTJ09SW1PLJ6c+4cTxE5w4foKLFy8yNzfHyoqb9PR04uLiyMjMJCszE9fyMhc+PU9vTy9GYyIHDx+mqqoKg8FAIBhkZXmZ0dFRHHY7Y6OjTIyPYzQao4EprGb2X1lZYXBwkPGxMdLT09m2ffsjFdCFw2Ek4Q0ukHP1EMdgMLh6A5ZIkEgkyGSy6E9EMBiMTlCXSiTExKiQyWXR14PBIFKpFKVSGf1cMBjE6/USDoeRy+XRCP7az0Ru0AG/H6/Ph1KpjHYT+3w+/H5/dEFwuVxOKBSKdidLJJLo67CaIScYDOL3+wkEAoRCIWQyWTRrjlQqJRQKRd+LHHNkbSKZTLbuJhwIBKJPIq7ejiAIwhdZOByODkuMDO2Ry+XRoenhcDh67Y78hEKh6PU3st6RXC6Pfk4mk0VTX0eu8aFQKHqfUCgU0Wt2pA6hUAi/z0dg7T4WuU5H3otc02UyWfSeFHk9cr+KDCONDLGMHEuknpH7l0Qiwe/34/P5CIfDqGJikK/tK1JfWB0NEzkP4gGgIAh/LFdfY/0+H2G46ciyyFQjpVJJTExM9Jp+bftcKpVGr4VXt8+vvuZF2uFXX/MW5heoq6sjGAiwc1dVtMMkEAhgs9no7u7m6NGj/PVf/zU5OTmEw+Ho/SQQCACr94fI9VgikUSv1cDqkP9I+10iQb52f4gcm9/vJ+D3I7nq/vEwioRtkXtf5CcUCm08qBMEQRAEQRAEQbjXhoeHefedd3jj29+ODkcHosGb1Wrl3Xff5aWXXsJkMj3g2j44twrqxDgPQRAEQRAEQRAemJWVFTo7O2lvb8dqtUZ79fx+/2oW+t5etm3bFs3DIVxPjAsUBEEQBEEQBOGB0Wg05Obm0tjQQKvFgipGRXxCPMnJydH5d7m5udclcBH+nQjqBEEQBEEQBEF4YJKSknjhxRe50tpKZ2cn7hU3icZEAJKTkynatCk6V1m4MTGnThAEQRAEQRAE4SEn5tQJgiAIgiAIgiB8TomgThAEQRAEQRAE4REmgjpBEARBEARBEIRHmAjq7qNQKITDbufChQu43e4HXR1BEARBEARBEO5COBzG7/dz5coVJicmHnR1ojaU/dLpdLKwsMDU5CTj4xNIJBJSU80Eg0FCV+VZkUmlaHU6EhMSSTGloFar71vF71QwGMTj8TAyMsJAfz9utweDQU9qWhppaWkYjcZ15f1+Py6Xi8mJCbo6uzCnmtlUXEx8fHx0YcQbsdlsDA8P09nRQc3FixRv2vRQng9BEARBEAThi8fr9bK4uMj8/DwD/f34/QESEuJRqdUEAoF1ZTWxscTFry4xEB8f/4BqfGter5fp6WmGBgeZm5tHqVRgTk0lIyODpKQkYmJiomVDoRBer5fZ2Vm6OjqRK+Tk5uWRmZmJUqm86T58Ph/jY2P09PZSW1PLwYMHSEtP/2Mc3m1tKKhbXl5mbGyM06dO8c7b7yCTy3n9jdeB1SAJVqPWYDCITCZDq9Wxbfs2ioqKiIuLQ6FQ3HVFnU4nKpXqrrcVDodxu90M9PfzL7/8JQP9A+Tk5vL0M09z6PDh64K6YDCIzWajubmZH//9j3n5lZdJTknBYDDctr4Wi4V333mHkaFhPB7PXdVbEARBEARBEO4Vn8/H3Nwc7W1t/Pjv/h6n08kTB/ZTWFi4rt0aCASQSqWo1bHk5+expbISk8m0Lki6E8vLy8hksnu29pzf72dyYoKPP/qYc+fOIZfJePLpp3j+yBHi4uLW1TccDuPxeBgdHeXnP/85ZrOJr3z1q5jN5lsGdYFAgPHxcd55+23a29ooLt50T+p+L2woqDOZTOj1eubn5nnn7XdQyOV8+zvfISUlJVrG5/MxNTXFiePH+d1vfsuZM6f5yksvcfjwYcxmM1LpnY30jHRxtra2UlhQQIrJdEfbiZDL5RiNRl780peYnJqKBotpaWnk5+dfV16lUmEymSgpLaWwqJDX33iDlJQUZDLZLfeTkZHBjh07qK2pYWRo+K7qLAiCIAiCIAj3kk6no6ysjOTkZH76jz/B6XSyf/9+Xn3ttWiZcDiM3W7n/Pnz/P6dd/j4o4+o3l3Nt15/nYKCAiQSyR2tHRcKhejp6SEuLo68vLx7cjxarZY9e/fi8XqZmZ1haHCIxMRESkpK0Gg068rKZDIMBgPFxcUUFBXy+L597Nu377adR7Gxsex7/HEuXLhAf1/fPan3vbLhSEutVqPRxN70fYVCQWZmJq+/8Qbf+5Pv4/V4+OUvfsH777+Py+W64wA/2s4AACAASURBVAp6vV6am5t5//33mZycvOPt3Mhjjz1GenoGY2OjdHR04PV6b1jObrdjW7Lx/T/5E+Lj4zccoAb8fhwOx72ssiAIgiAIgiDcEzKZjLi4uFsGZgaDgWeffZbvvvkm+fn5nDx+gv/rv/93bDYboVDojvbrcDg4evQorRbLnVb9poqKiti+fQcup5OamhpcTucN6xkOh+nu6ubQwUOUV1TcclrVtRwOBwF/4PYF/4g2HNTdLhKXSCRrXbNqnn3uOfY9/jhSqYzmxiaam5ruqHIul4srV67w85/9jPm5Oe71Oun5+fns2LkDvd7AQP8APd09Nyzn8Xhwu93s2LGDmJgYsZq9IAiCIAiC8MiLtN9v1raNtP8VCgXbt2/nqaefIiMjg96eHj7+6COWl5c/0/4i05refecdGusbsNvt9+Iw1klOTqZyayXFJcWMjoxisbTesIMpHA6zsDBPXn4eKSkpj3z7fuMh6QZJJBISExOp2rWLzo5Ourq6uHjxIvsPHIiWcbvd9Pf1YbVaUSgU0RNdtWsXer0eqVRKMBjE6XQyNDhI25U2cnJz6O/vRyKRkpScREZGBj6vl7a2NtxuN3K5nJnZWQJ+P6VlZZSUlNy2rmq1mpLSUpoamxgfH+fy5ctsqdyyrszCwgJOp5Pc3Bx0Oh0AKysr9PX2YrPbkcvlLLtcSCQSqnbtQqfT3bInz+PxMDY6SmNjI52dnWRmZvLa175GTEwM/f39NDY0MDY2RmFhIa997WvRYZ6BQIDFxUVmZ2ZXs2o67AwODVFcXMymTZuIi4v7zL8rQRAEQRAEQdgIrU5HcUkJ5Zsr+MO7v+ftt/6NAwcPotfrgdWpWLOzs/R0d6M3GHA4HISCQfLy88nOzkYulxMIBOjv76evrw/b0hIjIyM01Nej0+spLi6O7qu/v5/5uTlC4TA+r5eh4WFKS0oor6hAq9Xesp5KpZL09HQ2b95CR0cHn547R0lpybp8GJGkiZlZWSQmJqJUKpmenmZkeJhAIIBSqaSzs5OsrCzKysvXTTm7kUAgwNLSEi3NzVyqu4TeoOfQoUNsKi5mdnaWluZm6mrrSEtP4/kjR8jNzQVWh6G63W6GBocIh8MsL7uYmJxEFRPD9h07MJvNG/793LclDcrKyjCbzau/sOERbDZb9L36y5c5deoUw8PDaDQapDIZ586do76+fl05tVpNisnE8vIyoVCImJgY1LFqlAolDrud2tpafvWvv8Lj8aDRaFDFxDA8PMx7f3iPkeGRDXUJFxUVUVZeRjAYoKG+nuGh4XUZf2w2G263m6zs7Ohrl+rqOHXqFGOjo9ExuufOnaOh4fZPHKRSKTEqFU6nk4+OHqO2tha3241EIkGtUjE9Nc3xjz+mubl5Xc9kf38/nZ2dhEKh1aGwWi0+n49TJ0/R0NAglkwQBEEQBEEQ7qu0tDRKSkrw+/309fUxPzeHz+cDYHh4mOMff0x9fT2xajU6nY6u7m7qamsZGRkBVtvBcYY4AsEgoVAIpUJJrEazLolJR0cH7/3hPXp6etBoNKjVaoKBAL/77e+40noFp9N523omJyWzY+dOkpNTaG5uoqe7Z92UKJ/Px+joKFlZWcTGxq7V/TgXLlxAo9USGxuLUqnk9Cenqb1Yw8LCwm33KZfL0en1fHruHOfOnWNqagqJRIJSqUQqlXLs6FEuXLiA1WqNfmZpaYkLFy7g8XhQKBVoNBokQGdnJx+8/z4Oh2PDIxXveU9dhMlkivZseb1e5ufno71JjY2NDA8Pk5e3mkFndnaWX//qV3xy6hSZGRkkJCREx/gWFRUhXesOzczMjEbxE2s9ax3t7fzHP/+P5BcUkJefz+zsHL/51a/YtGkTaelpt53/Zjab2bxlC60WC0ODg9TV1fEV81eQy+W43W5WVlYIh8PRYwGor69nYmKC4pISKisrmRgf5ze/+Q0nT5wgOzv7lqlelUolWVlZ1/UkqlQqCgoLyc3Lve4zS0tL9HR34w8E2LZtW/RJQ3x8PP/7j/43An4/hQUFZOfk3O7XIggEAgHsdjtLS0s47HYCaxlslQoFcfHx0cxPj/owBEG4EZ/PF/3+2+326M1SpVKRmJBAUnLyLTOfCcKjLNIrYLVaWVxcjDbG5TIZOr0eo9H40KarFx4Oer1+Xa/V/MICuV4vSqWSsdFR6uvryc3NpbSsDKlUSl1dHQ0NDeh0OvLz81EoFBQUFkSDOJPJRFlZ2bp9XLlyhVaLhWeefYbKykr8fj+JRiM//cefkJGZSWpa6rp2+Y3o9DqKS4rZuXMnx49/TGNjA3n5eej1+uhyZV6PB51Wi0KhYGhwkOamJuLi49i6dSvhcJi09HROfHwcj8dDVk72dRnyryaXy4mPj2f37t3rljBTKBSkpKSwbdu262KSlZUVRkZGaG9r41uvv47RaEShUGAym5mZmeGjYx+xq7qasrKyDc33u29B3dVCoRB+vz/6b6PRiF6vJzcvj2AwiNfrJRwOc+XKlXU9dbciVyhITU3l6WefQafXEwqFkMlkKBTy1eGRfb0Eg8ENLYGQn5fPlsqt9Pb2celSHU8+9SQxMTHMzs7iXnGjN+jXlU9KSsJoNJKTk0MwGMTn8xEKhWi1tN6XxChdnV3YbLbVdTDCYexr5ygxIQGTebUnc2pqSgR1wi0Fg0FWVlaYnZ2lv7+fqclJJiYmon9/SqWStPR0du7cSX5+PrGxsXectVYQHjaBQACXy8XU1BSDg4PR738wGCQcDqNWq8nJyWHb9u3k5eWJBxvC504kmJucnGRocIihoUGWl5ej1//ExESKiorYtn078fHxd5zVUPhi8fv90ZFxWq2WwsJCKrduBVYfooWCQUZHRxke3ngm+Li4OHZV7yK/oCD64C0SBA4NDW54Hp7BYODgoUNcvHiR9vZ29j72GDk5OavrT09OYjQmIV2b5qTRaimvKCc5JYVwOBz9u5BIpUzPTDMzM7Ph+m/UzMwMPd09JCcno1QoWFmbnxijVGI2m1Gp1fT39W1oShncx6AuFApFfxEymWxd1Pqd736XcDhMKBRi2eViYm019vnZOTyeG2egvJbJZOL1N96I7svj8TA0NMRA/wBen5fJyckNd1empqVSWlZKrCaW2os1DAwMEBsbGx1eefUYX4Dv/8mfRI/P5Vod+wowNzuL7yYZNO9GV1cnnZ2dzM3N4bwmaNyxYwdKpRK9/tbr5glfbJGUxPX19Xx07BiBQIDX33iDV197Da1Wi9/vp6O9nbfeeoujH37I3/zN31BeUXFdCmBBeBSFw2GsVitnz57l4oULaLVavv6Nb1BSUoJCocDn81FXW8t7773HmTNn+Ov/8l+igZ0gfB6EQiF6unv44IP3GRsb48CBA/zpD34QzehttVr5/bvv8s///M/09vby3TffRKVS3Xb5JuGLJ9J+j1Bf9T2p3r2bXdXV0aBoYmKClZUVnA4Hjs+QEOW5556LbsPn87G4uEhDfQPBYHC1w2WDU440Gg3btm8jMzuL7o5OOtrbKSkpYWV5mcmJCb705S9Hy+7atYuqqirC4TCBQAC3201zUzN2ux2v17vhTqfPYmZmhsbGBlQqFbGxsdf9vX3961+/bWbSq923oK6vr4/5+Xk0Wi0ZmRmkX7Pa+sDAAN1dXXg8ntt2od5MMBhkfn6eUydP4vV6yc7JIT7hsw8bkMvl5OXlcfjQId763VtcvnQJnU6H2+2+aaO2v6+f7u5ufH7fuoD1fujq7CQcCrNnzx4qKyuvL7CWlUgQbmZubo4PP/yQS3V1FBYW8s1vfpNEozH65Esul5OTm8tjj+3j+Ecf84tf/IK/+qu/Ir+g4AHXXBDu3tTUFL/+9a8Z6O9n27ZtvPDiiyQmJkaHsygUCkrLyhgcHORnP/kpP//Zz/jbv/1bEdQJnxvnzp3jd7/+DRqtljfe+DZbt20lNjY22lg0GAxs37GDkeERjn/0Mfn5+Tyxf/99b98Ij57Z2VkGBgaQyWSkmE1k5+QQG/vvS55ZrVYsLRbGx8fIzsmJDvH9rJaWlmhqbGRgYACj0UhaWvpn7jmWSCRotVpeeOEF5mdm6e/ro6Oj46ZDjF0uFz09PVy+dAmNVsvmzZuJiVHedMmzuzU9NcXgwCBvfPsNDj/5JPJrH6KsZSbd6FIL9y2os1gsTExMkJGRQWVlJQqFItqzdfbsWbweL5lZmaSnp0e7Gz8Ll8tFW1sbP/3JTzly5Ajbd+wgOTmZhfn5z7ytSMbO4tJS/H4/Rz88is/rZds1WWci9T/9yScEAkGysrJITUuNDoe8X9RqNTMzsywtLaG5QcafQCAQHQYqGiHCtZaWlvjwgw/49NNPSU1N5fkjRzCnpq5LYSyRSNDpdKSmpeLz+bC0tDA0NITJbL5tlilBeFgFg0GWlpb4zW9+Q1NTE5WVlRw8eJCUlJR1T0QlEgnx8fEkJSXhcDhorG9gdGwMlVqNSqV6gEcgCHfH7/fT3NTE7377WzxeLwcPH6Jya+V1D9MjeQziE+KZm5vj/Pnz7KquFkGdcJ3xsTGutF4hVhPLoUOHolnrPR4PHe3tdHZ2kZaWxhP796PT6aivr//M+xgYGOCt3/5udTHxx/aSajYTDIU+85QQiUSCXC5ny5Yt6HQ6mhqbQCLh8SeeoPSaIY2Tk5OcOH6coaEhnn32WdLS00lISECtVuNw3D4xy51YHd4pYWxsDLVafV0bPhgMEggE8Pl8KBSK2x7/PZ8wEwqF6O/vp66mllAoRHV1Ndu3bwdWgyJLSwsfHzuGy+WioKCA9PR0DJ+hazFicXGR06dPMzMzTW5eLgUFBSQlJa3LnvNZRMYB76zayfzcHAMDA6sT56+aFBkMBmlqauLY0WN4vR7yC/JX62+4v0Mfc/PycHvcNDc3Mzo6uu69QCDA0OAgA/39Yv6TcEN1dXV8+umnyKQyqqt3U1BQgEwmu+5vTiaTRf9+nA4nc3NzIquq8Ejz+/2cOX2aC+fPk5iQSFVVFVnZ2TccUiaXy1EqlYRCIWw2G7Ozs3f8hFkQHgaBQID5uXl+/atf02ppXU0aUVUVTT9/LblcjkKhWBt21iS+/8J1pqenaWpqYnh4iIrNm3n2ueeivXTDw8OcPn2a1lYLm4o3kZ29mljkTjobLl68SE9vDzqDnpKSEtLS01ezQt7BHE+pVEpmZiY7du5AJpczPDSM0+EgIzNzXbn29nZamlsIh6GsvJzs7Gz0ej0y2f1LP2I0GklJSeHypct0d3Xj8Xii7wWDQZasVurr6wmHwxs69g3X1O/34/P5b/q+z+fDZrMxNTnJxx99jM22RHX1Lg4cOrjuxA0NDTE0NER5xWbkcjler5fFxUVWVlaiY3QjSVUiUWlScjJyuZxgMMji4iLhcBinw0Ffby9arTa6ILjNZmNxcREgOiY2EAgglUpvG/Ao1hKvPPvcc3S0r3bNxsXFrQsSw+EwgwMDDA0Nsat6123rfysqlYrklGTmZmcZHx9HIpGwvLzM5MQkUqkUpVJJIBBAJpNRUVHBldYrXGm9wgfvvc/+A/uJjY0lEAgwOzuL0+kkNS1tw92zwhdDpJfizOnT9Pf18+RTT7Jt+7abPvjw+/2srKxE/72xGamC8HDy+/1MT09z7NgxJsYneOqppyktKb1pA8Pn8627oQrCo87lctHY2MilujriE+LZsmULGRkZNy3v9/ujibMiCVSEz79IXoqb/b7D4TAOh4PZmRlqa2tpb2sjJzeXZ555hpKSkmjbc3Z2djWvhdcTvc5arVacTme0XRzpeVIqlcTHx6NUKnG73dHEJ4FAgPj4eAYHBvD7/cSq1chkMrxeLxMTE9F2dmQ7EonktvM+I0MwH3/iCbq7u/H7AyQmJl43vWpqchLrkpXU9NX2dDgcZmpqKnpfCIVC0SXPbptZP9XMxOQkk5OTTE1OEQqH6O3pWV3CYe3cBINBUlNTKS8v59/e+jfeeustnnnmaVJMJiQSCXa7nfm5OaQy2Q0fxN/IhqIAt9u9uvD17Ez0wIaHhrBarYTD4dVuV7eb8fFxxsbG6O/vY/fu3Rw8dIic3Nx1872MRiNGo5HBgQFqa2rIzs5memaG+IQEpDIpU1NTzM/PYzAYUCgUxMTEsLNqJ5OTkwwPD+P1+TAYDCjXMsP09PRQX1+/+kQpDF6PF6PRiN1mjw7/3OjwAa1Wy86qKlLTUtm2fcd1Cw1KJJJo5su+3j7qauvIzMxgZnaWhMREpFIpExMTZGVno1arV7/IPh/hcJilJRvJKSn/HqgmJbH3scc4eeIEn5w8RWFRERBmZmaGWI0GvV7PwsICKSkpFG3axO49uzl29BinTp1kcmqShPgENFoNTqeTyspK8vLyNnSMwhdHIBCgra2N9rZ2ILw6XDg19ablPR4PC/P/vg5LnMEghp4Jj6zl5WVaLRY62ztQq9Xk5uZgTLp5Omqn08nS0hKweq1PSEgQc5WFR1YoFMJqtfLRsWP4fD52VFWRm5t7y14Tp8PBwvwCSqWS/IICFOJB8eee3+/H4XAwOjoaDVhmZ2fpWQtAJIBMLmdsbIyJ8XE62tsxJiVx+MknqaqqWvd90ul0JCUlMTDQz8kTJ6jatQun04lMJkOlUmOz2RkfH48Gc6UlJViampmamqKlpYXk5GTUajVxcXGkpKQwPDxMX18fDQ0NJCcnMzU1RVp6Gn6fn9mZWWw2GwaDYcPJfEpKS8nLz0cikbLpmgSIsLpMmFarZXpqipqaGgoKCpiemkav1+NY+9uILM/mdrvxeDyrCR+Xl3G5XOsyhj+2bx/Hjh6jpbkFuUyOIT6OyYkJYmJiSEhIiC6ZlpySQnV1Nd3d3Vyqq8PhsGNKMaHT6wiFQsTGxvLSV7+64WOU/ehHP/rR7QrNzMzQ2dlJR1sbC/MLxGo0uJZdNDY00NDQQFt7Oz3d3UxMTFBRUcE3X3+dPXv3knzNvAWAlJQUfH4/7Veu0NbWRiAYJCcnh61bt9LV1YXdZsOcmkpWVlb0s2p1LAMDgwwNDRKr0VBYWIjZbMaYmMjMzAxnT59hdmaW1LRUioqKkCsUtLVeIdGYSF5+/oYz+EWydC6vrHD4ycOYTKZ170skElJMJjweD62WVjo6OgiHQ+Tk5lJRUUFnRwd2h52M9HRUKhWdXV309fYCUFBYiDHJGP2lq1QqUtPScLvd1NbW4nQ62bRpE4lJRtxuN5s2bSIQCGI2mdHpdWRmZpKRkYHT4aCuppb+vj6SU1J48skn2bZ9+02HUwhfXB6Ph7fffpuO9nbKy8s5tPaQ5WaWlpawWCzU1tSgVqt55dVXycrKEsN6hUfS3Nwcv3/3Xfp6e9n3+OM8sf+JdXOkrzUzM0NTYxOtFgt6vZ43vvPtaGZAQXjU+P1+BgYG+Pv/++8IhUJ85aWXqLhFRuNQKMSV1lZOnz6Nz+vlxS+9yOYtW+54SovwaHA6nfT19dHc1MTw0PDqKLFgkN7eXi5fuoTFYqG3p4f29nZMZjNHjhzh+SNHyM/Pv659HxcXh0oVw9jEBOfOnMFqtWIymSguLmZleYWxsTFkMhlbKiuRy+UY4uJwupwMDg6ysLBARmYmFRUVSKVSEhIScC0vr16TW6+gVqnYvn07ycnJdHd1I5PJyMjMuOU1/VpqtRqfz0dRUdENkw5G5pl2d3Vx7uxZAoEAlZVbMJlNzExPY7PbMZvNpKWl0dXVhcViYWXFjdlsxmw2YzAYor2WkQfo3V1d9PX1k2g0srOqisGhQcrKyohVx6I3rK4LmZiYSFlZGTK5nJbmZrq7upBIJGzfuZOnn36apKSkDfXShcNhJOEN9K+HQiGCwWD0B4j+Mq8d5ym7qpvw2kpEduX3+6NPBCLlYXX4i2Qtk2NkG+FwmGAwGO26lclkyOVyJBJJtPs1GAyuez0y7FKhUCCXyz/TTTkcDuP3+2/4uRvV/+pyPq8XiVQa7Y2L1Duy1sXV5yWSEtbv9xMMBqPZbSLHK5PJkEql152HyPFefS422i0rfLHYbDa+9+ab9PX0cuSFI3zt61+nrLz8puW7Ojv5+c9/zqkTJ3n51Vf47ptvkp7+2bNNCcLDoLu7m//053/OxNg4b37ve7z08lfJzs6+afmamhr+9Ze/pKO9g5dffYXvff/7aLVa8f0XHkkOh4OLFy7wP/3nvwTgH/7x/6P6mkWRr+ZyufjFP/2Cf/yHfyA9PZ2/+x8/Jj8/XyRf+5yLtC2vXk86kkQtHA4jAVj7/0h7/eokazfaVmTdukgbFVZHDoVCoei8zUj5SNlIQpNI+Wvbu5H3ItuXSaXI12KFz+Lqtvu1IsMrg4EAoXA4us9wKIR/7XOR+OTq44yUu/q8RLZ19f4iw0ivbt9LpdJoPHB1+UhMEClz7XmO/Pfqn1AotLHhl5E5aXc7FCVysEql8oYXihud5Gt/0deWv9HrVyd8uJM63uwi9lnrf6tzFhkHvNEv5K3OgyDcSCgUYmpyCr/fj06vJ/YWPdYul4vu7m5qLl5ELpfz1FNPk5iYKBq0wiPL5/MxPTVFKBQiLj7ulvcEm81Gq8VCS3MLxqQknn/+eVQqlfj+C48sr9eL7ap1wXQ63S3/BkaGhxkbG8WYlMT+gwfIzc0V7Y0vgEjbErjrAP527fUblb/Zd/Jm7eO7jUVu9Z2O5LPg2vMgkyG/Zp+3a49HtnXtOb166YeIq+OBu+0ZF3+xgvA5JZVKSUtPY9nlij7xuZne3l5qa2tRyBV8/RvfpLCocN18Or/fz+LiIleuXCE3N5f09HSR6lp4qCmVStJS0xgdG73tiA2LxYKlpQVjkpFXX3uNzKys6A3bZrPR091NU1MTM9MzFJeWcPjQIRKuWudOEB42SqVy3bIFt/obsNvtnD59ms6ODkpKSnjm2Wej13+/37823+cSU1OTFBQUcODgQZLXEtgJgvDwEJMFBOFzSqFQsHfvXnQ6HS6X66bLE0xNTlJXW8vU5CTPPPssX3npK9F1ZwCWrEsM9PfTamnlrd/+ltHRUZHqWnjo6fV6du/di0KuwGG333Tx2JHhYc5/+iler4/nnn+ep55+KppR2ePx0NfXx+joKBKpFK/PS83Fi5w5cwbrWqZlQXgYqdVqUs1mTObVTHou1/J11+3I8Le6ujosFgtp6em88OILFBUVRcv09PQwMz1NTIwSiURCa2sr777zDssu1x/7kARBuA0R1AnC51RMTAz7DxygsKiIiYkJBgYGooFdOBzG6/UyOjrK+fPnGR0dpbyigpdfeYXMzMx1T2B9Ph8rKys4HQ6aGptEqmvhkRAXF8fBgwfJyc2lt7eX8bHxaGAXCoVwu90MDgxw+vRprNYldlVX8/yRI+syxNrtdpZdLtLT03nhhRd47WtfIykpiY+OfcTs7OyDOjRBuC2lUklaWhqHnnySuLg4ent7mZubi6aEDwQCLC4u0tjYSM3FixiTkvjSl7/M/gMH1o3CsC4urg5JPnKEV199FZPJRG1tLZ6bPCQRBOHBEX3ngvA5JZfLqaio4Nnnn+PD9z+gob4eo9FIcnIyUqmUlZUVLC0ttHd0UFxczNPPPENaWtp120kxpZBiSkGr1T6AoxCEO6PRaNi6bSsvfulFjh09SkNDAyq1ioSEBGA1fXtjYyNdXV08tu8x9u3bd90yNm63m9KyMuLj41EoFMTHx/P4E0/QcLket1usaSc83BKNRr7xjW8wOzNDe3sbCQnxlJaWoo6Nxev1Mj4+zieffIImNpYjL7zA5s2brxtWX15RgUqlIiYmBq/XS25eHsFgUCRQEYSH0IayXwqC8OjyeDxYWlo4evQoltZWYpRKEhMTiYuLo6qqih07d5Keno5CoViXVenaDLa9PT189Ssv8d/+z/+Dxx9/nLi4uAd1SIKwIeFwGI/HQ11tLe+99x5DQ0Oo1WoSEhIwGo3s3r2HHTt3YDQao9mHI5+7UQZnh8PB+U/P093dxVdffpncWywRIggPg1AoxPT0NEePHuXYhx/i8/lIX1u/t7S0lG3btlFSWhqdfxfJpHf1/LtwOIzdbqetrY2W5ub/n737Do7ruhN8/+0IdECjG+hGDkQiAQIgBSYwS5QokRIVHOQgB43t8dgzNbP1tt7+sRP2zU7Ve/v2Tb39w/buet56POMcJNtjWZREUaIokAQjSILIsZGBBhpAR3Sj0739/gDQZgskQQUSBHE+VSoVLy5unybPvff8TvgdXvrSl8gUa0oFYVV87OyXgiCsXSkpKWzctImdk5OUV1Rw+PDhhf0SFQpSUlPRarWJl3M0GmV6eppQKEReXp5IhiKseSkpKdRu2cLo2BiPHTrE7t27SU1NTewXmpKSkmjAhkIhZmdniUQiFBYWLsuyFgwGuXTpIp/69KfJyspaja8jCB+KQqEgOzubqqoqMiwZFBYVUlFenth+KUWrRXPTqJvb7WZ8fJzam7a/mZiYoLe3l8az5zj93nugUPC1r31NdOwJwgNGBHWC8JBzOp28/vrrvP/ee0QiEQYHByksLKSgoICysjKysxemVgaDQQYHBujt7eXxJ54Q02uENU+WZSYnJ/nVL3/JxQsXSNXp6OzooLCwkMLCQsrKy7Farej1erxeL319fcxMT/PYoUPLssVOTU3R3NzM3n37KC8vFx0ewpoQi8W42tTEr3/5KyYmJrBarZRvrKCivJySklLy8vMS29eMjY0xOjq6bIPyjIwMamtryczIINNm5be/+U2ic1C8JwThwSGCOkF4SMViMez9dgYGB4gsroVYymTZdPkKFosZm81GmslESkoKRqMxEeilpaV96E09BeFBEgwGsdvtDAwMoFKp2bRpEy63m/a2di5fuoTFYsFmy8JoNKLVakk3p1NYVERFefmyRu3MzAxjY2Po9XqqqqrE/SE88CRJwuv1cqO5mcnJSfLy8lAqlXi8Hq5cvkzT5StYrVbMdRFCwgAAIABJREFUZjMGgwGFQkFObg41tbUUFhYmXUun06HT6TCZTMQkif/xve8RjUZFwixBeMCIoE4QHmLRWBSjwcDuPXtQq9V4PR6Ghobo6+3F6/UxPz9PMBAkdfGlnZuXR+2WLR9rc09BeBDE43GkmES6ycShxw+hYCE4GxgYZHBgAJ/Ph9/vx+/zoTcaMFssFBYWsqmyMuk6s7OzDA4O4vf7KSkpSWwREggEMJlMSXuBCcKDJB6PI0kSxRs2UFNTSyAwx5TTyejICKMjo/h8PlwuF16vF5PJxKbKSkpKSsjKykpkSHa73OgNeoxGI/F4HI1aTV3dNiwWi+jYEIQHjAjqBOEhpVKpqKioQKPRJC1633/gAOFwmImJCTweD5IkkZ6eTk5ODunp6cuuEw6HCQQCOJ1O4vE4MzMzzEzPkJqamrRBuSA8SHQ6HVWbq9BqtUkJTx6TJAKBAA6HA5/PRzweT2SF/WCG10AgwJXLV+js7ESv1xGNROjp7sY/N4fNaqVycdROEB40KpUKi8XCwUcfXXYPRCIRvF4vDoeDcCiMRqshNzd3WfKTubk5mpqa0Gg1FBUVkZKSgs/n5+U/eVlsPi4IDyBxRwrCQ0qhUJCSkrLsuFKpRKfTUVZWdlfXWVpr1NbWhs1mo6+3lwxLBnq9nrz8vJUvIAirQKlU3rL+q1QqTCYTJpNpxWtMTU1x9swZLlw4v+xn/88//iNWq/UTKasg3Au3uwe0Wi02mw2bzXbH34/FYvT399HR0UF+fj5127aRl5vHkaNH71WRBUH4GMSWBoIg3JEsy4lpPLFYDJVKhUqlQqlUJo0ACsLDRpZlotEokiQt+9lS1swPbnsgCA+DpTTpsVgMWZZRKBSoVKrE/wVBWB132tJABHWCIAiCIAiCIAgPuDsFdaKbXRAEQRAEQRAEYQ0TQZ0gCIIgCIIgCMIatq6DuvONjYyPja12MQThvotEIrz7zju4Xe7VLoog3Hcej4eTb58kHA6vdlEEYVV4vV5Ovv02oVBotYsiCPedY8LBubNnV7sYn7h1HdR99zvf4dq1a6tdDEG47+bn5/n7//R/MDQ0tNpFEYT7bmx0jL/7m7/B7/evdlEEYVWMj43xN//xr/H5fKtdFEG471paWvhv/+9/W+1ifOLWdVAnCIIgCIIgCIKw1omgThAEQRAEQRAEYQ0TQZ0gCIIgCIIgCMIaJoI6QRAEQRAEQRCENUwEdYIgCIIgCIIgCGuYCOoEQRAEQRAEQRDWMBHUCYIgCIIgCIIgrGEiqBMEQRAEQRAEQVjDRFAnCIIgCIIgCIKwhomgThAEQRAEQRAEYQ0TQZ0gCIIgCIIgCMIaJoI6QRAEQRAEQRCENUwEdYIgCIIgCIIgCGuYCOoEQRAEQRAEQRDWMBHUCYIgCIIgCIIgrGGKeDweX+1CrJbPv/giwUAQq8222kURhPsqFotxo7mZTZWVpKWlrXZxBOG+CszN0dnZySN1dWg0mtUujiDcd4FAgI72durq6tBotatdHEG4r2ZnZ1Eqlfzh+OurXZQPbSlsi8fjSf/JsiyCutLSMmq3bFntogiCIAiCIAiCcI91dnbS3tb20AV16lUu26rbu28vz7/wwmoXQxAEQRAEQRCEe+ztE2/T3ta22sX4xIk1dYIgCIIgCIIgCGuYCOoEQRAEQRAEQRDWMBHUCYIgCIIgCIIgrGEiqBMEQRAEQRAEQVjDRFAnCIIgCIIgCIKwhomgThAEQRAEQRAEYQ0TQZ0gCIIgCIIgCMIatu73qRM+HFmWicViyLJMamrqahdHEO4rWZaJRqMoFAq0Wu1qF0cQ7rtIJEI8HkelUqFWiyaEsH7E43HC4TAKhQK1Wo1KpVrtIglCEvFEXkfi8ThSLEZMkpBlGQCVSnXbl7MkSUSjUSRJShyLRCK43W4ASktLl52/dN0larUahUKRVIZ4PE4kEkGr1aJQKJJ+fi8sfW8UCmKxmHggr1PxeJxYLIYkSUiShEKhSNT9W9WFWCxGNBpNqtPhcJiZmRn0ej0FBQXLzo/H40nHNBrNsjIsdYwsBYX3pf5LUuL/ov6vT0vP3lgshhSLIcfjKJXKxDvgg/Vh6dxoNJpUrx0OBwCZmZlYLJbEuUt17GYqlWrZM37pPXGrn90Lsiwjy7Ko/+vczc/epbqqVCoTdUGpVC47PxqNEo1Gk46Njo6SmpqK1WolLS0tcXzpflEoFMTj8cT75YPXXar/S/fe/SDLcqLuR6NR1CoVKrV6WdmEtU8EdetIJBKh4f33aWxspLWlBa02hbrt2zhw4AAHDhxYdn5XVxc/+pd/oelKU+JYnDgvfOrTfPPPvrns/OvXrzNgt//xgELBsWPHMBqNiUPRaJSxsTF+8uMf861vf5ucnJx7/mBb+t4qlZozZ8+QbjLx9NPPUF1TfU8/V3iweNxuGhoaOH/+PB1t7WTarOzYsYMDBw+yffv2ZedfvHiRX/3iF7S3tSeOxeNxvv0Xf84Ln/rUsvMbz51jamoq8Wej0cixZ59NOicUCtHd3U1DQwPf/va3SU1NveeN2rm5Odrb23HNznLp8mVMaWkcOnSIHTt33tPPFR4skiQxNTnJ68ePc+niRcZHxygtK2P/gf3s2buXioqKpPOj0ShvvPEGP/vJT5idmU0cr9lSy1dffnlZp97ZM2eYnZ1FrVYTiUZJTUlh9549ZGVlJZ3X3d1Nd1cX23fsoLi4+N594UUul4vu7m5mpqdpbGyksLCQp595ho0bN97zzxYeHLFYDHt/PydOnODy5ctMOibZunUrBx49yK5duygqKko6PxKJ8KMf/Yg3jh/H5/ECCx1wO3bt5Fvf+hYGgyHp2k6nkzffeIP09HSCwSCZViv79u0jMzMz6bqtLS2MjI5SVFREXV3dvf/iLHTEtNy4gVqt4ZVXfs3hw4d59LHHyMvLuy+fL9w/IqhbJyYdDn73u9+hUCjIy8vDYDAwMDDA+XPn6O/pRalQsHPXrsTowezsLE6nE1tWFs8+98eGqUajZfuOHUmBGsCVy5dpaWkhJyeHHTt24PF6ef0Pf+C9U6fYu28fNpsNgJnpaS5fusTGjRsxGAz3vKfI7/fTfL2Z06dP8+WvfIW9e/YyOTmJx+O+p58rPFh6eno49e67KJVKysrKsJjN9Pb18c477zAyPALxONt37Eicv1BHPBQVF7Nhw4bEca02hdraLej1+sQxWZY5e/YsHR0dbK6upnLTJkbHxrhw/jwnTpzg4MGDiQbA6Ogo3V3dlJSUJEaq76X5+Xk6Ojr479/9Lv/Xf/kvpKamcuHixcRoi7A+xGIxrl+/zh9ee43i4mK2b99OYUEh7e1t/PQnP6Wvr49v/tmfJQVZdrud+WCQ+t27Ud5UTzeUlJCXl5d4ds/NzXH27FlabtzgiSeeoKi4mOnpaa5fv87/90//xP/27/89aWlpqFQqnE4nExMTyPE42dnZ9/x7z83NcfHCBU69+y7/8a//Go1Wy/nGRmZnZ1f+ZeGhEY1Gee+997h08SK5ubns3r2bScckN5qb6e7uZmx0lM9/4QtJQU5nRwdajYb9+/ffVP8VVGzaSEZmZqL+R6NRRkdH+c53vsPRo0ep3LSJQCBA09Wr/OIXv+DrX/86RqMRhUKBx+Ohs6uLWCzGoUOH7st3Hx8f58L58wwMDvK1P/kak5MOotEowWDwvny+cH+JoG4d8Hg8DA0NodPpeeSRraSlpSHH4wwPDXHy5EkuNJ6noaGBrY888segbmaGWCzGkaNHMZlMiWupVCrM6eZl0zUvXrxIMBikpraW3Lw8UnU6zGYzDQ0NVFRUYLPZ8Pv9DA4OMjY2xue/8AUMBsM9b9T6fD4uXrzI1NQUBoOBnbt24vV40enEesD1wul04phwYLFYqKmtRa/TIUkSPb29/OH3r9HW2srlKxVJQZ3D4cCg1/P0M88kdWCoVCqsmdak0WVZlnnv1CnMZjNZWVnk5uURiUZRKpW8cfw427dvx2Aw4HK5sNvt+Hw+Hn300cT0s3vJ7XbT2tKKvd+OJSMDS0YGZosFs9l8Tz9XeLCMj48zOztL3bZt1FRXo9ZoCIVCXLpYwttvvUVHewfd3d1JQd2000lGRgY7du5Met7r9fqk+jPn9/PmG29QVlZGdk4OOTk5GI1GhoaG+PUvf8WxZ/upqalBpVLR29uL2+WiprYWnU53z7/35OQk7W1tjI+Pk5Oby+7UVDIyMu7LCKHw4LDb7UQiEXbs2EFFRQUqtZr5YJDc3FxOnDhBe1sbO3ftSgrqJiYmKCktZf/+/ahuqv9Go5H09PTEnwOBAN1d3VxoPM+3v/UtCouKiEajXLt2natXmjh06BA1NTUAXG1qIhIOs6myMqlddS+NjIzQ2toKCgW2LBuPP/EEwUAQq9V6Xz5fuL9EULcOBAIBgsF59u/fT1l5WaJBmp+fj98/x7WrV7na1JSYOz4/P8/AwAB2u53c3Fx0Oh1ZWVl3XBTf19eHxWxJjGCoVCosFgtdnZ34/H5goWHR399PQWEhRUVF97xBC+D3+bl08SIG48JIidVqFQ+zdcbr9aJUKdmzdy8lJSWJ4zm5uYyNjjIwYKe9rS1xfOEl3UUkEiEnN5e0tLRlU8huFo/HaW9vZ9++faSmpACg1WhITUnl+rXrhMNhYKFhMTk5SUFhAXn592fay8z0dNJ3s1gst5xqKjzc5vx+9Ho9+/btS2pMZmRk4JiY4P3336e3p4cjR44AC50aQ0NDaDQaUlNSMFssSQ3Zm4VCIZqvN1NXV0fKYv03Go2km0z4vF7Gx8aprKxkamqK6elpjEbjsqmb98r4+Dh9fX0AKJVKMjMz2bNnz335bOHB4fF4yMnJYfPmzUmddCZTOr29vYyOjjA0OMi+ffuQZZmJ8QkGBwcp3rBhoRPDYlk2O2lJKBTC4XAw5/djNBrRaDRoNBrUajVut5upySmqq6txuVz09PSQl59PVVXV/frqjI6M0N3VReXmzSiVymVrwYWHiwjq1oGUlBRy83LZuCl5DYHRaCQvL5es7Gx8Hm9ikbvL5aKjvYPzF84zMzNLTk4227Zvp6CggIyMjMSL+2Y6nQ5ZlhMNWFmWmZubQ5eqQ61SEQgEGBsdZS4Q4NmPOe1AkiS8Xi+Rxc+SJIlQOIxerycjIwONRkMkEiEYDDI2NkZfby9bHtnK7OwsBr0eg9GYWOAsPPyWkprcHNABpKenk5+fj8WSQSgUShx3Op20tLQwOjrK2NgYBQUF1G3bRm5uLmazeVnyEwCD3kA0EiWy2DESi8UIhUIYjUaUSiV+v5+hoSHUKhWPPPLIR/4uS4v93S4X8uLi/GAwSDAQIM1kIjc3F7VajSRJBObmGB0bY2xsDFmWcU5NEQ6FMBiN6PV6kShiHbFYMtDp9MtGB/Ly8rBl2ZCkWNI90NnZSXNzM/PBeaampigqKmJzdTX5+fnL6o5SqcRoMOD3+xMdg+FwmEAggEKhQKdLJR6P03KjBaVCQXlFxcfKnCzLMi6XK5GFUJYkYpKEVqPBarOh0WiIxWL4/X5GhoeZmppCrVIzuTjl2JSeTkpKiqj/60h2VjYarWZZYFa8oRiz2czAgD2p7XL9+nVaWlro6+tjeGiIktJSNm3aRH5+PikpKUnLRlQqFampC22iYDCYSMQSDodRqZSJn7W0tKDVaikqKkokGPooYrEYXq+Xubk5NBoN0mIyI5VajclkSlx7bm6O+fl5BgcHGR8fp6yiInEPZGRmiuzND6l1HdRlZWUlrY15WN1pdEqWZfR6PdXV1WgXG6s+n4/5+Xk8Ljen3nmHcCTMOydP8tSRIzz+xBNs2LBhWcP20OOP093VhdPpxOv14na7mZiY4Oljz5CTm8vQ0BAej4eysrKPPPVlKcPUzMwMnR0d+P1+1BoNwWCQifFxTCYTu3fvpqi4ONGI7u3pSfx+T3c3MzMzlJeXi6BuHcnPz7/tz2RZJtOaydatWxPHvB4v0UiUifFxhgaHiBOnuLiYZ599lkcfe4ycnJykUWulUslzzz/H8PAwMzMzeL1eZl0uAsEAL33pJYxGIz09PUixGGXl5Xcsz50sZe9zOp203GhBpVKiUCgZHh7CbrdTVFTEE4cPU1RURCwWY3h4mOGhIWChIdDW2obeaKC8rIzCoqL7Mv1NeDDcbmR4qQGakZFBbW1t4rjH7cbr8TBgH+DGjWaUCiWP1D3CF196iS1bt2IymRINW1N6Ol946YvY7XamnU7MZjNOp5ORkRGyc3KorqkhHA7T2dlBZVVV0hrVD2upQdt0pYlAIIBWuzCN1OPxoNVqE6PxoVCI/v7+xNrRYDDI9eZmAGqqq8m+Dwm6hAdHSWnJLY8vbc+Ul5dPxWLinIU2xjR+r4/e7h4uXbiI3qBnV309X/ziF6msqkpKcJWWlkZlZRVWqxX7wABmi4W5uTk8Hjd5efmUV1QwPz/P1aYm9u7b97ES9ESjUaanp2lra2PS4cBsNhMMBnG73SgUCjZsKKF+d33iHhwdGcExsXAPzN90D9TX1y9L4LLe6HS6+7Ku935T/cM//MM/rHYhVstTTz1FaVnZfZkG+KDq7++nubmZY8eepaS0FLVaTWZmJvv27+f5T73Ath0L64EazzVy4fx5NFrNLXuaCgoKCAYC9PX10draSm9vL1qtlk9/5jNkZ2dz4fx5wpEIhw4d+si9tEt7xPzzD35ANBpj+/Yd7Ny1k4qKCoo3bODnP/sZN27coKioiLKyMvLy8lCp1Lz2+9+TnZPDV19+mV27dpGRkbGu/82FP7p+/ToOxySHDz9JUfFC9rOs7CwOP3mYZ44do6a2BuJx3n/vNI3nGrFlZZGfn7+sU6C0tJSZ6emF+t/SwvDQEJmZmYm1o2+99Ra2rCx27tx5y5HuuyHLMrOzs3zvu98lIyOTHTt2smXrFh6pq6Oyqopr167xwx/+kLq6usTapnAkwqWLFwnMzfGf/vPfU1tbS0ZmJhqNRtwDAlNTU1w4f4FoNMIXX3opUa83bdrEs889x6HHHycvLw//nJ9zZ8/R0trCpsrKpI4NjUZDxcaNOBwO7HY7Q4ODXLt6lcmpKb7+ja9TWVlJ47lzpKebqaqsItOa+ZHrntPp5MRbb+H3+3nyqSfZ+sgjbN68Gb1Ox4ULF3j1lVfYs3cvFouFgoICnE4nzdevYzAa+Nu/+zvKy8tJN5vvy3pW4cE3NjbG+6dPk52TzTPPPJNI3rZ161Y+/ZnPsGffXqw2GzPTM1y8cIHrzc3s3LWL9PT0RKeASqUi3ZzOxk2beOP4cWZnZ7l06RIKpZIvfPGL5Obm0niuEYCtW7dis9k+ct0bGBjgvVOncLvdvPSlL7F582aqa2qoWByF+8lPfsyA3U59fT1ZWVkUFRdjt9tpa2ujsqqKP/uzP6O8vBy9Xr/u639RURFPP/PMQ9W5E4/H1/dInfoW06jWk5HhEdwuF/v372fP3j2J4XilUolSqcRsNrN161ZKS0vZv/8A//zPP6Cjo4O21tZlU9lSUlLYt3//sjTp6enpdHV1oVQqKS0p+VgjZOFwmHPnzjE+Ps7uPXsoLCpEqVSi0Wgwm808+eRT/Phf/5VzZ8+SmZGZ+PmSpe8lCAC9Pb3E5TgHDhygbtsfU0sv1ROr1Up9fT0bN27k8ccf57vf+x4XL1xkc1UVubm5ifMXppjpeOqpp4jGYonjKqUSnU5H8/VmLGYzRUVFSWmwPyyvx8PFCxeYnp6mdksttixboj5nZGSwb/9+fveb3/LWW29hMBgoKS1N/FyhUIj6LyzT29tLbl4eu/fuSWQohj/uX1pQUMCxZ59lx86dnG04w7/+6F9pOP0+WVlZVFZWAovTL41GPv2ZzyzsP6dULowALs4CmZqaorW1lcOHn6SgsOAjNybdbjeXL13i1V+/wv/5f/+XREZNgLz8fLZs2cJbb7zJibfe4rMvvrjQeP5A/ReEm7W2tCwkD6qpJiMjAyCxv5xKpaKsrIycnBx27tzJqXdP8bOf/pR33nmHF198MTHjYun5X19fz6ZNm0hNSSG2uCecYXFa8vnzjXzhi18kOzv7Y3VonGk4w9mzZ/ibv/3bpCnE6enp1NVtY3h4mNf/8Dr79u1n7769SSPq4h5I9rC+D9d1ULee+f1+uru7CAaDPHH48C2DLZVKhV6vR6fTYTKZeGb8GK//4TW6OrvYt39/0vC9UqkkLS0t6TpLm3e2t7WRkZlJeXk5Pp+Pzo4OPB4PZrMZl8tFQWEhFRUVt12IvCQUCnGmoQGfz0dqampixEOhUKDVaqmuqUaOy4wMDzM7O0NhUeEn9LclPGw8Hg+tba3odKnsqq+/ZbClVqsxLq4/S09P5/nnn+f466/T29tLdU1NInHE0gbK6R/IKCnLMpFIhKamJrZsqaWwsJCpqSn6ensJBAKYzWYmJyep2ryZ4uLiFadDuj0ezp8/TyQSQa/XJ02BTk1NpbSkhKINCz2zsy4XJfcpGYWwNvX29DIzM0NpaQmP1NXdcq2oVqtFq9ViMBgw6A0MjwwzNDzE+Ph4Iqhbqv9LjeKb+f1+zjc2LjSOc3Pw+XzY7XampqawWCxMOhxsrq5mw4YNK3Z4zM7O0rH47igsLEwa8U5LS6OktJScvFza29s5+vTTSUGqINxMkiQ6Ozvx+XzU1NawefPmWyaCS0lJISUlBb1ej1qtZmR4mObr13n88ceTptErlcqFe+QDddjlctHV2UlpaSk5OTmEQiFuNDfjcrsxGgyJ98CWrVtXrP8T4+P0dHcTmg+xYcOGZev6bDbbQhvL66Wvr4+6bXX3LcOm8OB4+MJUYUXRaJTW1lZ8Ph+bKitXXOO21BO1b98+MiwZuFwu/IsZLe8kHo/T2dFBLBYjOzubSDRKU1MTN27cwGqzYV6cBnPt6lUuXryYtFD/ViKRCNeuXr3l/ipLvcpajZaJiQmxD5FwS0sdDZcvX0ahUFBZWbniBqxLIxGHDx9Gq9HicrkIBAIrflY4HKblxg00GjU5ubl4PB6arlyhr78fq822EAQqFDQ0NNDa2ppYqH87ft/CnouyLC/7mUqlwmAwkJGRwdDgEF6PZ8XyCeuTLMv4fD6uX7+G0WCgsrJyxcQNGo2G3LxcDhw4wJx/Do975foVCoUYGxujvb2dqs2b0ev1XG1q4vr166RotZhMJlRqNSfffpuBgYFEkpXbcblc2Pv7E++jmxu1Sx0waWlpdHV2iT24hNuKxWK4XC4uXbxIfkHBXa2xT01Npbi4mMcOPcbE+PhdPf+j0ShOp5Pu7m727d+PWq2m4f336ezsRKPRYMnIwGg0cunSJa5evYrbfee9cycnJxkdHUWlWpgB8sERP71BT3Z2NpIk0d/fx/z8/Mp/GcJDRwR161BnZyfjY2Pk5edTW1t7x60KbpZfkI9pcS75Sr8jy/LCBpxNTRQUFFBQUMDw8DAXzp9HqVSya9cuqmtq2L5jBw6Hg7MNZ5ienl6xDOFwhLgcX3ZcqVQuNBJUqsTif0H4oFgsRvP16zidTioqKiivqLirOfVKpZINGzag0+nuqv4vNRzOnz9PdU0NNpuN9vZ2mpub0ev17Ny5k82bN7Nz507a29u5fOnyii91Ob4w8reSaDSCdIvATxBkWSYYDHL16lVkWaasrIzcFTo1ligUCvLy8zGbzag1K78zFvZIbCEvL4/c3Fz8fj+XL11mesrJjp07qa6uZs+ePVy+fJmO9nb8vjt3FMqyTHQxsUUwGLzlMz4ejxOJhBOZnAXhZpIk4fF4uHr1KqmpqWzatOmuE4ZoNBoKi4pISzOhvot3hmt2ltHRUXQ6HWVlZbhcLt59511C8yHq6uqora1ly9atRCIRTr/3HhMTE3e8XkySiEkxYrEYPp9vWeeeVqvFsDjbKRqNintgnRJB3ToiyzIzMzNcXQy0tmzZkpjyFY/HmZubu2MwFAqFFvasy85asWc3Eolg7+/H5/dTVFyM1WplcnKSsbExNty0Hi87OxuVUoVjYoJJx+Qdr6nRaBbWPin+mDp4ycLLPIIsyxQVFd1xXzFhfYpGowuJIS5c4JFHHqGioiIxhUuSJPx+/y1HwYDE1gFppjRycnJW7NkNBAIMDQ0RDAbZuHEjJpOJ4eFhPB4PBTdN2ykoKECKRhkfG2N25s6jy2lGI7VbapmfnycQCCTV/5tVbd58y6lwwvoWj8cJhUIMDQ3R0d7Onj17kp7Fd3MPhMNhamprVhzdDofDOCYcDA8P8/wLL2A0GnFMOBgbGyMej5OZmYlarSY3N5c5/xyjI6N4vd47XtNisVBaWrqwj9jExC1H9jQaDY/U1X2stavCw2lpmyW73U5vby/Hnn02aYpuNBq94wicLMtEo1F27tqJeYX2TzQaZWhoiLHRUQ4cPIhCoWBsdIzJyUl0Ol0iG7lGo6GiooKenp4VO/VysrMpKCgkFAoxPDy87D6VJGlhawOViqqqzesis7uwnAjq1glZlgnMzXHy7bfZVV9PTW0tOp0OSZISe2otTckMh8OEQqFEo3Fpb6zBwUEqNm2kfvfuO7404/E4fr+fM2fOsHfv3sSDc2ntxc2BoyRJyLKc+NmdpKam8thjjy1kGeztZXZ2NtEbJUkS4+PjoIDyigpybkpkIQiyJDE9Pc37p09z7NlnKSsrQ6vVJuq/1+ulpaUlUffD4XCini5tJdDT08Pu3bsT985tP0uWmZmepqO9nWefey5xryiVylvW/3g8flf132KxUF9fz0C/nfb2djweT6L+x+PxxP26Y8eOhzJVs/DRxeNxIuEwE+PjnG9s5KUvfYn8goJEfYxGo/i8XlpbW5mfnycUCiU6yZZ+X5IkJh0OyssryMnJueNnjY2NMTg4yMaNG8nOzkatVhONRZEXn/dL9f7D1H+r1UpVVRVKpZLenl6CwWCi/i9dU6vVcuDAAUxiyxrhJktL4uaLAAAgAElEQVQdEgN2O/39/fzpn/5pYr3ZUv2fmZmhq6uLaDTK/Pw80Wg0qf5HIhEmxsepq9u2Yqe20+lkdHQUSZIoW8ywvjRdeKmuLl03Fosl3g13kl9QQFlZGbFojO7Fct48GhcMBpmZnkav11MnOjbWLZEoZZ1wuVycevddNBoNc3NzDA4OJh4i4XCYSYeDaDSKwWDgwvnzhEIhDh48yPYdOwDwer20t7dTsmEDm6ur7/hZS4vhgaQEKPn5+RQVFdHR3s6xY8cAGBkZweVykW5OX3H/rpSUFA4cPEhzczM9PT2UtLVx4OBBtFot4XCY0++9x+Enn+TgwYNikbyQZGRkhEuXLqHT6fB6vUnrDQKBANNOJ7IsMzQ0xGu//z0ZGRkcfPRRqqqqkCQJt9tNy40b1NfXr5iAxOVyMTIyspC8p7o6MVWzrKyMqclJ+u12Hjt0CFjYUsTv81NeUYEt6851Nt1s5tHHHuPq1atcbWqirKyM9PR0NBoNXq+Xy5evYDQa2blrlxipFpLEYjHa29t577332LFzJ2NjY0lr0mZnZxkfG6OyqoqmK02cOdNAWVkZBx99lKKiIkKhED09PXi9XvYfOHDHkbpoNEp/Xx+DQ4N885vfTBwvKSnBarPhdrsZHh6msLCQ4eFhopEIuXl5mC3m214TFjo1du/Zw+joKK+++gpFxUVs2bIlkWGzvb2dzMxM9h84gGkxiZEgwEKdbGxspKuri61bt2K325OCqInxcXx+PxuKN9DwfgPvvvsO+/btY/eePWRnZ+Pz+ejr6yMYDPL4E0+sGNRdv36dYDDIU0eOJI4VFS9kPx4dG2V4eJjS0lIikQg3btygpqbmtnsJL8nKyuKxQ4/hnJrin77/T2zaVEnFxopEB6NjYoKBgQG+9o2vs2XrFjFSt06JoG4dmJyc5L1Tp/jJj36MUqUiJSUl6YW+lIb67//hP5Obm0uaycSVy1doa21l9969FBYUoFarqaqqoqCgYMUsfbOzs3R2dvLkU08lpdStqKggHA5z5fJlTrz1FjqdjpGRETZWbmLz5s1kWu88t31p3dyXv/IVzjc2cunSJQYGBigrKyMUCmGxWDj46KMUFBQQjUYZGRmh+fp1JEmit6eHC42N+P1+CgoKVnyACg+PwcFB3jz+Bq//4Q+o1CpSUlKTXuiSJJGdnc1f/+3fYDabSTOZOHvmDG2trezYuZPsnBw0Gg179u6lID9/xX3mxsYWptns278/KaPgI488gixJ9Pf38/aJE6SmptLX18fBQ4+xc+dOzOY7N2rVajU5OTn8+V/8BS03bnD69Gk6OzooKSlJ9CT/yde+RklJCQqFguGhYboWM7xFIhGOv/46W7ZupaioCJPJdNdraYW17/q1a7z6yqs0XblC47lGVCol8Md7IC3NSN327TxXUcHU1BQajYY333yTc+ca2bKllrKyMjRaLQcOHlyYMn+HNUWDg4MEAgGqKiuTsu9lZmby3PPP09HRztkzZ8jPz6ffbufzX/wCu+p3rZj9WKlUkpuby2dffBG9Xs8777xDX28vObm5xGUZg17P1772NaxWK5IkMWAfoL+vn7m5Oebn5/n9v/0bmyoryc/Px2g0PlT7Uwl31tDQwO9+81t6e3p47913USqT/+0zMjM4cOAA5eXlTDgmUCgU/PznP+f06dPU1tZSUFCIwWjgyJEjpKen3zEV/vj4OLIsk19QkDSinZWVxUtf/hKDAwNcvHCBocFB/H4/ZrOZw08+uWKn9tIWC1/44hew2mz85je/oaKinOzsbJQqFdFolM3V1VRVVWE0GgkGgwwMDDA4OIjP66OtpZUzZ86QlZWVWB8uPHwUcbGa8qHn9/sZHBigs7PrtudoNGoOP/kker2e0dFR7P125ueDZOfkLIwGqNVk5+Sg1+tX3NvD4/EwOjpKRUUFWq02adqBz+djdHQUjUaDRq0mEAig0+vJyspKpIhfSSwWY2xsDIfDgUqlIiMjA0mS0KXqyM7JJiUlhWg0it/vZ2x0NPG9N1dvxmq1kp6eLqYmrCMul4v+vn4GBgZue47ZnM5jhw6hUqmw2+0MLI40Z2VlkWYyodFoyMvLS6rPtzM1NYXH42HDhg1JAaAkSczOzuJ0OtGo1ag1Gnw+H2azGZvNtmKjFv44Dc7hcDA+Po5Wq8VisaBUKonH4+Tl5aHRaJLutaHBIcLhEBUVFWRlZ2M2m5P2OBIefqMjI3T39Nx23aZer6OouJitW7cSDAbp7+9ndGQEWY5jtVmxWq3oUnXk5uWu2BkwMzODz+tFp9cn7ecICzM+pqenCQQC6PV6fF4vtqwssrKySE1NvavvEovFGB0dZXx8HIPBgNFgQKVSoU1JIScnB5VKlRhdHxpa2H5BAZSVl2Oz2UhPT7+r+1h4ePT19dHf13/bdZsmUxqlZWVUVFQQCATo6e5mfHwcjUaDzWZbyFRpMJKbt/KyDq/Xi9vtRqfTLZsG73K5cDqdxKJRUnU6YtEo0WiU0rKyZRldbyccDjMxMcHw8DAmkwmjwbAwvVOlIj09PdFhHQ6HF959/f2Mj41jMOiprqnBaDRisVhuuYWJsDbcvOzi5v9kWRZBnSAIgiAIgiAIwoPuTkGd6KoSBEEQBEEQBEFYw0RQJwiCIAiCIAiCsIaJoE4QBEEQBEEQBGENE0GdIAiCIAiCIAjCGiaCOkEQBEEQBEEQhDVMBHWCIAiCIAiCIAhrmAjqBEEQBEEQBEEQ1jAR1AnAwn4XkUgEl8vF/Pz8qpYjGo0yPj5OMBhctXII60s8HicWizE1NUUkElnVssiyTCAQwDk1RSgUWtWyCOtDPB4nHA4zOTmJJEmrWhZJkvD7/UxOThKNRle1LML6IMsywWCQmZmZ1S5K4vk/NjqKLMurXRxhjRFB3Tq3tGHh/Pw8g4ODvHPyJCMjI6tSFlmWCYVCOBwOfvC//hd9fX2rUg5hfVmqd06nk1d+/WumpqZWpRzxeBxJkpibm6O5uZnf/va3q3YvCuuHJEkEg0EGBwf55S9+saqdaZIk4XK5uHLlCr/65S9xu92rVhZhfYjFYszNzdHR0cHrr7++qmWRJAmfz0dzczPf//73V72DUVh71KtdAGF1SZKEw+HgD6+9xm9f/Q25+XkUFhWxadOm+14Wt9vNubPn+NWvfom9386jjz1238sgrD+OiQlOnTrF8ePHGRocZP/+AxQWFt73ckiSxOjICL///e959ZVXKS0rpX737vteDmF9sdvtvHPyJO++8w5O5zRf/spXSEtLW5WyDA4M8G//9m+89tprbNy4kc+++OKqlENYP9rb2jhx4gRnz57FaDDyjW98Y9XK0tvTw4kTJ3jvvfeYD86LkTrhQxMjdetQX19fogdUpVKRkZFBfX09wWCQUCi0ag8Sk8lETW0NFosFSZKIf8xyuFwuMdonJInFYrS3txMIBBLHMq1Wtj7yCOnp6YRD4VWr/yqVCqvNxvYdO5jz+4lEIsTj8Y98vcnJSYaHhz/BEgprXTAYpL29PWlaY0FBAZurqzEYjIRWceo9gNVmo6S0FL/PRywa+1jXGh4eZnJy8hMqmfAw8Hg89Pb2Jh0rKy+nYuNGUlNTCYfDq1SyBUVFRVRVVWE0GIh+AqN0IyMjOByOT6Bkwlohgrp1JBaLYbfbOXXqFGNjYwAoFAp0Oh3FGzagUqlWtXwajYb09PTFhuxHb8wCzMzMcO3aNc6fP//JFE5Y8+bn5+nu7ubEiRNJ07pSU1OxmM0fK4D6JCgUCgwGA0VFRSgUio91rVAoxLWrV7l48eInVDphrYtGo4yNjfGbV19NWqup1+sxpaWtev0HMBqN5GRnf+zrBINBzp09S2tr6ydQKuFhEA6H6enp4e0TJ5KOp6WlodfrP26T4xNhMBoxGo3In8C9ODo6yrmzZ+np6fkESiasFSKoWycikQjj4+O88cYb3GhuxufzJX6mVCpJTU392A3JT0o4HP5YDQyv18vVpiZOnz7NiBipEFgI6Ox2O8ePH6ejvX1ZMqClRBGrTalUkpKS8rGuEQqFaGtr40xDA91dXZ9QyYS1bCmgO9PQQGNj47IEJLIsE4mu/vodtVqNVqv9yL8fj8eZn5/n2tWrnGloYHho6BMsnbBWRSIR7HY7ZxoauHb12rKfS5L0wCTlkWT5Y5VFlmWcTienTp3i8uXLD0TyF+H+EWvq1oGlbEpdXV28+cYbmM1mPG43k5OT6HV6TOmmpPMjkQiOiQkcDgdzcwHSzemUlpai1+sTo3lL2TK9Xi8A0UgEn99PSkoK2dnZGAyGuyqbx+MhGAgix2UUCgWzs7NoNBpgeYApSRJOp5NYLIZSqSQQCCDLMjarlUyrNXHOxPg4Fy5c4Mb1Zrbv2I5jwoFKrcJisaDRaBLZ1TweD1qtdqExH4+TmZmJMS0NpVL0dTxMZFnG6/XS2trK22+doKCwgJmZGUxpJoxGIwZjcl2NRqNMTU3hmJhgLhAgMyODDSUlpKSkJNWNSCSCz+dLTJNxu93o9HqsVutdr0nyeDwEg0Hi8TjKxU4V59TULTs1wuEws7OzSLEYKpUKr8+HWq3GZrVitlgS501PT3PxwgXa2tooKyvDMTGBQqnEZrOhUqmIxWJ4PB4CgQBqtZrIYjCblZ2NTqcT9f8h5Pf56ejo4OyZM7hnXUw6HIRDIdLN5oVRikVLz/Xx8XEcExNEo1FsWVkUFBSQmpqadM35+Xnm5uaIRaPEWZgdYTabsVqtSde8naUkXU6nE1mWE/V/dnb2lucvJXSZmZkhJSVlYXqyLJNuNmM2m1EqlUiSxKRjkoaGBnp7eykpKcUxMYFGo8FqsyWu5XG7CQQCxFl4PrhcLqxWKzab7WN3qggPHrfbTXNzM1cuX15IxjYxAUBGZmbSv3dclgmHw3jcbhyTk/h9PrQpKeTk5FBQUJA0m0mWZeaD8wSCgUSnoMfjwWazkZGRsWI9Wsr0PTs7C/E4kiyjAHyLz/UPWkqi4vV60Wo0hCORhXaL1YrRaESpVCbuX7vdzql33iU4H2TO72fS4UCbkkJGRgYAszMzzIdCKIBINEpgbo5Mq5WsrKxVn7ElfDwiqFsHZFkmEokw5/fjnHJiNBoZGRkhJSWV/Pz8pKBOkiRmZ2a4ePEiJ0+epLe7h7yCfP7q3/07amtrMRqNwMILfWJigpHhkYUGptdDe3s7KSkpHDx4kLpt2275YLrZnN9Pe1s7TqcTlUqJSqXC7Xaj1WoTL/gl0WgUp9PJW2+8iSndhF6vZ2BgALfbzdYtWzny9FF0Oh2xWIxgMIjb5cLn8xEIBGhpaUGn01G3rQ6NRoPL5aKlpYXOjg7Ky8uZmZlhZmaG+vp6tmzdumpJAoR7Q5IkwqEQPq+Xmelp8vLz6O/rYz44T2lp6bKgbmZmmtnZGU6+fZKurk6qqqr4i7/8S8rLyxOjCEv1sbu7m9hir+q1a9fQ6fTs3rObbdu2LWsE32wp4+yNGzdwu92oVCq0ix0Ok5OTy4K6cDjM8NAQDQ0NWCwW9Ho9ra2tyLLMrl272H/gADqdDoBp5zQul4twOILb7aalpQW1Ws3BRx9FpVLhnJqiqamJyclJcvPymF2s/0899RQVGzfeVYNcWFv8i8/+QDCIJEl0dHSQlpZGTW3tsqBuamqKAbudt958C4fDQf3uer768stUVFQkzguHw4yNjTE8NEQsFiMej9PY2Ehubh4HHz1I5aZKtCl3HnGLxWJMTU5y6dJl1GoVqampSJJEd1f3bb9DR3s7ly5dorKyEo/Hw8zMDJWVldTv3o3ZbEaWZSYmJvB4PIktSlpaWjCZTImgzu/3c/nyZSYnJ0lPTycSiXDp0iVKS0t55tgxCgsLFzsWhYeF2+VmZnqa+fkQodA8LS0tAOyqr08KvpZGtLs6O3n33XfpaG8nNTWVJw4f5uvf+AZmszlxrsfjYWx0jNnZWeLEmZ2d5crly1RX13Dg4AE2rLCkJRQKMTExQWtLS6KTQqFQ4HA40N6i/rlcLpqbm+nt6aGkpISZmRlmZ2fZvXs3tVu2kLY4hTq6GKTNTE+jUquYmpqira2NzEwrFosFn89HQ0MD8/PzmEwmXC4X3d3dlJeX8/wLL5CZmSkCuzVMdMmuAyqViqysLB5/4gk0i4FW7ZYtPHH4CSqrKpPO9Xq99Pf3k5aWxldffpmXvvxlWppv8PprrzF70zB+f18fr7zyCuUV5ezdt5fnnn+eFz/3OTweD9//n99nenp6xXKdPHmSlpYbbNhQzPMvvMDRp59m/4EDDA4OLpt+MDk5yU9+/GO++53vsHXrVp597jm++vLL5Obm8cMf/pBLFy8hSRJarZZt27dTWlYGgNls5sjRIxx89GAiWGs8d46f/fSnzLpcPP3MM3zlq19lbm6OkydP0tbW9rH+roUHj1qtpqi4mN179iSO1e/ezaHHD1G8oXjZ+Y2NjSiUSj73+c/xxOEnabrSxGu//33SOqSx0TGuNjXh9/k4cvQoR44e5S//6q+Ydjr56Y9/Qkd7xx3LFAqFOHf2HKfefZfy8nKee+45jhw9Sn39bnSpumXn9/X18a//8i/84mc/55ljx3jm2DH+9JvfJBaN8fOf/oyWGy2Jc+u21WFbbMDm5uZx5OhRnjh8ONFQPX78OL/73e+ISRLPPfccn//CFxgeHub48eMMDg5+uL9cYU0oKi5KPOvVajWHHn+cI0ePkp+fn3SeJEm8c/IkmVYrL3/tT6itreXC+fOcevfdpPP6+/oTdW6p/v/v/+E/cOXyZV759SvY7fYVy+T3+/nOd74DwO49ezhy9Ci76uuxZWfd8vyWlhZ+8IMfMDQ0xKHHH+elL30JlUrF+++/z+XLl4GFddl79+1NdD6WlZVx5OhR9uzdm7jOibfe4p++/31cLhcvfOpTvPCpT/Gtb3+bX/3il7z15lsiucpDaFPlJoqLF571pjRTos5abprhAODz+3jzjTdI1en40pe/zJ9+85tYrVbON56nrTW5bXD69GlutNyguqaaQ4cO8dnPfpbPfe5zvHH8OG8efyNpicutjI6O8i8//CEajZb9Bw7wwqc+xdPPPENubi7j4xPLzm9oaOAXP/85brebZ44d46svv4zX6+XkyZN0dCy8bxQKBUajkScOH04EoKVlZRx+8knqttURjUb5zauv8j//+/8gNTWV555/ns997nMcPXqU733nu5x+7zQej+cj/z0Lq08EdeuAQqFI+u+Dx26Wnp7O9u3b2bN3L9u2bWPfvr1sqqyk4f2GxLSY0dFRRkdHKS0tJTc3F7VajUKhoLi4mIL8Alyzs9xobr5teSKRyMKeSD//BWlpaeTl56NQKFCpVOj1ejIyMlCqlldNjUbD3v37MBiNKBQK0tPTMZvTmZvz09XVhSRJd/yeN39Xi8VC9ebNKBSKxHSz7u5uhkSj9qFzq3//29V/gCNHjnDw4EF27NzJnj27yc7J4cSbbyXW4UUiEW603KC1tZVd9fWJ66SlpVFSWoIcl+nsvH1QFwqF6O3t5R//639l165d5C/Wf4VCgdliZmf9rluWy2QysbN+FyqVCoVCQUZGBgaDgVmXC7u9f9l3++D3vPmaubm5lJWVJdX/lpYW0aB9SN1NnYCFgO8zn/0su3fvpr6+nl31u9CmpHC24UzinEgkQuP5RqamJqndsuWPdddspmJjBW63G/vAnYM6t9vNhfMX6Ovro6a2BqvVikKhwGKxsKF4eUfLEoPBQF1dHSqVCqVSiUKhYGhoiO7u7mXf7VZ/XlJeUUHxhg0oFAq0Wi25ubkoFArs9n5cLtfd/8UKa8Ld1n+z2cJXvvIV9uzZw5YtW3js0CE2V1czOengzJmGxHltrW1IsRgbiovJyMhIXKt2yxbS000MDg4yMDBw2/JMTExw5fIVJiYm2LtvLwaDAYVCgUajwZiWtmxJzJLMzEyqqqqSnttdXV2JLMd309aLx+PUbqklJydnIVGeXo/VZkOSJLq6ugjMzX3Ev2XhQSCmXwpJVCoVeoMh0dNpNBpJ1aUyNzeHJEkAjI2N0dzcTEpKCk1XriT9vindxGOPH0Kjuf3Um0gkQutiA9Jmy0rM8156UC0FiTfLzMzkU5/+NKH5eaxWK9FoFIfDwdjYGPPzIUZGhu86FX397t2UV1RgtVoT6/TCkQgzzmncLrHZ7XpnMqUnRnUNBgMajQafz5eYEul0Ount7qGvt4/+vr6kZAwmk4mtW7diXVzjeSs+n4+W5mYmJycpKSnBZPrjC1ytVide8DcrKirixc9/HikWQ6PREIlEGBkZYXp6mrk5PxMTy3t2b+epI0eYn5/HZrMRiUSYmJhIrEX1+/13fR3h4bMUWC2tiTYYDCiVSuZuauiNj4/T292DJEv0dHdj7/9jh0JRURGZmZlYbpqmdisej4erV5tITU3FYDAkpuqr1erbrkWqrq7m23/+52RmZKDRaHA6nczPz+N2uZhxrjwzZMneffuoqakhIzMTSZKY88/R0dlBLBbD4XCIe2AdU6vVZGRmJv6s0Wgwp5sTG5Qvae9op6+3l7m5uWXLTLZt345Wm4Jadfvm9eTkJJ2dHeh0OoxGY2K641Ln9q2mP+7du5eqyspEu2VqaopIJIJzyonHfXftFrVazZNPPsmevXvJy8sjFovhdrvp6+1DjsuMjowsSyImrC0iqBM+tNHRUfr7+tl/YH/SAxAWFh4rFAr0utuvywmFQjQ1NREKh9HpdHeV7Uyv11NaWorf76f5+nXC4TBarRZJkpBlmWAweNflz8vLw2g0MjoyyoDdTkpqKtFolEgk8sBkwBIeXG63m5mZGRQKyM7JSfrZ0v1wp0RBHo+H5hs3iMfjSQ3aOzGZTOh0OjweD2fPnAGFghStFkmWiMViSVNDV7K0HmNifCKxj6O8mCBAin28vcGEh5/T6cTlcmGz2cj6wPYD9Yv1f6Wgzu1yc7WpCbPFcteJeZYSsAwPD3Pp4kU0Gg3z8/OJZ/fdKigoIGCxMDIyQkdHBxq1mnh8YQQjFAoRE/eAsEitVt/y+dzW2kYoNE9tbe2yNtAThw+jUqqWTe28mcPhoKO9nZLS0rvOOp6fn4/RaGRsdBT7R2y3KJVKNpSU4Pf7sdvtuFwuNGp1os4Hg0EkseH5miaCOuFDCwYC+Hw+DAYDlZWVy34uyzKyLBNbzNL3wYeWLEm43W5kSSIUChGNRldcmB4Oh5mYmOD906dRqVRYMjLYUFxM5gceqCuJRqOLCV6GCQSCqDVqLBkZqETGP+EuxWIxYosjZlar9ZajcpIkEQ6HbznqEI1GE1ljg8EgsVhsxcAuGAwyODC40JjVasi0WsnNzSXdlP6hyh6JRBgeGmJ8YoLQfIhUXWpi+pAg3I1YNIokSYlMx7dqvMZiMSKRyG077CKRCDPTM0lZW+8kGo0yPT3NwMAAfp8flUpJbl7eXXWIfNDs7CxNV67gmHBgSDOSk5NDYWGBSA4h3DWPx41SqcRqs92yDSRJEvF4HEmSblmv5oNB3G43JXf5edFolPHxcUZHRggEAmg0GjIyM///9u7lq40sP+D4Fz2QEA9JgIReJSSEDXIbG8fttp3T7nTbTmeRzHJmMflnejVZTc5kl1lNHov0SXKSzslkgnsyJgbsNm4Mwt02IEAvoydISIBAqhJSFkLVttN+kJOTGPf9nMOOElXiV7furXvv74fmmDFbr9fZ2tpienqa3Z0dunt68LjdOF3OY32O8PYSPVnh2KxWK0ajkcVHjygWi+qyTECdNcuk02rD9iK9Xk8gEECv17O5mXvthmJoJnCZnJzkl3/5S/x+Pzdu3ODc+fOYzcfr1OZyOX775ZdM3ZnC7XZz8+ZNzpw5o2YOFITXMZlMmEwmNbPki/b398nn8y+dPTaZTGqB8fjRQ/p1stkst25N8Pnnf8flK1e4efMmo6Oj6jLpN5VKpfiXL77g0eIjhgJDfPzxx5w6dep/1DkWfpi6ursxGo2k0+nvLWy8u7tLoVB45exxR4cRt+ShvFdulkV4zezY9vY2M9PT/Ppff43NZuP6jRuMjY09t3T5TS0uLvL555+TyWT45JNP+Oijj3A4HGJQJ7wxt9tNsVhkdXX1uWWZ0OwDbW9vUygUnusbPav7KBvr3u7uc1tbXiaXy3Hr1i2mp6fxeCRu3LxJMBik4xUZlr9PrVZjdnaWv/3rv6HeaHD9+nUuX7nyyu0CwskiBnU/MM/WmTs8PFTTUR+HJEk4nU5m733F5O1JSqUS1WqVarXK3t4ekfV1pqam/ltdr5Z2g4Fz587T0dHB2uoaqWQSRVHUGZDW+bSWVkKzBtLk7ducOn0K7+AgJpNJPf/W9Tz706bRqHVbGvVmmt96vc6jxUU16UvwTJBGo0GtVntuANqqnyS8e56N/xf/72/KbrdjH7BTLBaZmZ5mb2+ParWKLMscHBwQXllhbm7upbNf3d3dBINn0Gq13J2ZIZlMIsuyGv+Koqjn1Jr1jsfjLCwsMDI6iiRJtLe3q+ffup5nf1pJJFr3eeteuf/VV0xNTVGrKQQCAfV7qNfrz8X/cb8T4e3X2rP8Ykwct61zuVz09fWRSqWY+/pryuUysiyr8b8YCrH0mqL3PT09jIyMsLy0xOLiIvl8HkVR1OdAS+v+XA2Huf2728RjMcYvjKPVatVreLHdfjb+6/X6c9faaDS4OzNDrVZjaDhAX1+fmgb+xfgX98C75X8r/gHOnTuHXJW5OzXNwvwClUoF+agPVCqVWJifZ3l5+aUz1TabDbfbzeNvHxMKhdjb21Nj/9k2vRWXi6EQdyYnKW4XGQ2Ofvf8eqHdfvZaNEerpFrX2/r8WxMTdHV34ff7MZvN1F8odi7i/2QTr2d/QLRaLe+NnaVarVJTFNbX16kcVDg9cvpYn+Pz+7ly9Qrz8w/5s5/9jEhkHa/XC0AsFqOtrcBVNE8AAAk+SURBVI0f/+QnLz3eaDRy6YNLeH2DTExMoCgyf/jpp1is1udKIaytrXF2bAyXywU0O7j5fJ5sJoPdbieVSrEaXlV/v1qtqhmkHA4H3kEvjUaDvb095ufnCZ4Jqo1ePp9naWmJYDDIysoKmUyGSrX5ZlmWZSqVyrFnAYW3W2dnJ++NnW0W3JZllp4s0W5ox+9/00UwTWazmQ+vXWPj6VN+82+/YXNzk2vXrtFhMhGLRtFqtXzwweWXziKYzWbev/Q+58bP8x9f/hYa8NHHf4DL5UKuysSiUfWBms1m1RTTiqKwubVFJpPB4/GwsrJCIpEAvtsPBGAwGPBIEjabjb29PeLxOHq9Xi10Ds09HZFIBLfbzdLSEpubm9SUZmf64OCAer1+7FlA4e1m7ukhEAgQWVsnHo9TqVTY398/djvX19fHp3/0Kfl8nn/8+38gkUjw4bVrAKwsL2O19nL16tVXxo+1t5erV3+fL/7pn/mrX/2KUrHE2Lkx2mjj0eIj9feSyaRangNgb2+PUCjE+Pg4kUiEZDKpxnQrmYXZbGZoaAiz2cx2cZt4PK4mexkZGVE/J5fLqXVR787cVffl1RSFSqWCRqMRhcjfITabDUnyEIvFiEajGI1GdnZ2GHhhX+ib+L2LFwmFQtyamODPf/5z/vhHf4LdZqO8v8+333zD+fPn+eT69Zce73K5GB+/wOTvbvMXv/gFP/3pn+Lz+9BoNGomS0VRmJ+f59KlS+pxW/ktlpaWGB0dVfst1WoVaPZbqtWq+twZPjVMJBJpJsFKpUgmk4ycbvb1SqUSuWyW3d1dKpUK8w/n1b+hHPV/dDqdqNd4Amk/++yzz/6/T0L4v9FoNJBlhbW1VaLRKLXDQ1xuF0aDkYWFBW5NTEBbGx5JwuFwUKvVWAiFuHPnDsXtbU6PjGC325uFXPv78Xg8VCsVZu/P8nDuIeX9fU6fPs2HH36Iz+9/6XKW1sDL5Xaj1+lYXl7m/v1ZsrkcZrOZcrlMIBBgcNCH2+XGYrWoxyQSCaanpojH43R1dWF3DCBXZb5ZfITdZkeSJEwmE4qiqAO3RCKOw+FE8kr09vaiKAqrq2Huztwll8vR1d2Nw+kknUqRyWTo6Ohg+NQp0aC9Yw4PD5FlhSdPHpNIJNDp9UiShFarZSEUYurOHba3C4yMjmKz29jd3eXhw4fMzt5nd2eXsbFzWK1WDAYDVqsV+8AAWq2WjY0Nvrp7j0w6g8vl4tIHHxAMBl9afFyj0WAymZolNTQaEok49+426yA1Gg2cTgeJRJzxCxfwDQ5is9nUbJyR9XW+/PcJcrksff399Pb2slMqEYlEsNnt+P1+NYPgzu4ukUiEaCRCT3c3o6OjDAwMsF8u8/jJE+a+nmN7exuL1YpHkggvr1AslbBaLEher4j/d4xWq0Wr0RCNRlheXqZNo1Frd80vLPDg/n12d5txbrFayOVyzM7OsriwwGHtkNFgELPZ3NxLarPR19dPo1EnGosxNfmfFAoFAsPDXL58maHA0CsTYOl0OnqtvdgdAyiyzMO5OR4/fkyj0aDH3MP29jYXL17EI0n09fVhtligDWKxKJO3b5POZGhvb8fhcFAqlYjH4mh1WoLBIHq9HmNHB5tbW0TW10lnMvT29jI6OorBYECn07FdLBKan2fuwdfIiszw8Cn07XrCKytAGy6Xi4GBAbHX9B2i0+lQajWi0SiPv/2WDqORoaEhyuUyDx48IBQKUVMUfD4fnZ2d1Go1VsNhpu5MsbKyQld3N0NDQ1gsFjo7O3E4HFisVnLZHDPTU8zPPVRfWF98/31sNttL+0AGg4G+vj5cbhelUom7MzMshkLIsoxer0er1XJ65DROpwtJkrBYrVRlmXA4zL1799jc3KSruxuXy8XG0w1y2Rymzk51WwtApVIlkYizvrbGzs4OkiTh8XgwGAzkcjkezD7g22++abYDvkEMBgOLoUW6urvwuN1YrVYR/ydMo9GgrSHmWH8wDg8PyWQyrK2uUqvVGBgYwO3xYDQayWazhBYW0On1+P1+vF4vOp2uuW9ieZlyeZ/gmSCSJNHV1UW9XmenVCIai5GIx6nVathsdgZ9gzgcjjfao7a/v8/Tp0+Jx+Psl/fp7bXicrvZ2dlBr9fT2dmJrd9Gd083siyTz+cJh8MU8nn6+/sZ9PkwGo1sbGyQiMUZCY7i9/sxGo2USiUSiQSpVErNnNl645tKpYisr7O7u4vT6cTtaW6SX1lZoXJwgM/vJxAIiH1G75hqtUo6nSYcDqPT6XC73biOki18F+dlzpx5D4/kAZqx0pzRPmD8wgWcDifGDiMajYZyuUxyY4NUKkUhX6CrpxtJknC73a/d69NaEhOJREilUhSLRQzt7bjcbux2O+FwmP7+fqxWKxaLBY1GQzabbWYsy+fxeDwM+nw0Gg0S8TiFQoGRkRH1ZUqlUiGRSPA0kUCr1eL3+/FIEoeHh0SjUeKxGIqi4HS51JnwxcVFdFotgeFhdbArvDsURaFQKLD05AmVSgXJ61X3dj592swEXK1UGb9wAYfT0UyqE4+TSCTQtLVx/vw4NrsNvV6PRqOhVCqxsbFBJp2mUCjQ29fH4OAgTqfzldlfW2q1GltbWyQ3Nkin02i1WpwuFz09PSSTSew2G2aLBetRhsxcLsfa6ir5rTwOlxO3243BYCAei7GVz+P1egkGg2r8r62tkc1k6DCZ8Pl8aqH1YrFILBYjlUzS1taGd3AQr9dLNptldSWMpdfK8PDwczOEwskny3Kz/7O2hqIoDB21ibIsE4vFSCQStAFnz57FZrej1WopFYtEolEy6TQWq5VgMEh/fz86nY5qtUoulyMei5FOpwHwDg7i8/mwWq2vzeotyzKFQkE9XqvT4XQ66erqonJwgL69nZ7uHgYczZnEZDJJZH2dcrmMw9mMf61Wy/LyMtVqFb/fz9DQkNpvyWVzrEfWKe/t0dvbi/eopl6xWDy6N7J0dBjxHr04zGYyLC+v4PVKDAUCavFy4e3zfUvFW8tvxaBOEARBEARBEAThLfeqQZ1IlCIIgiAIgiAIgnCCiUGdIAiCIAiCIAjCCSYGdYIgCIIgCIIgCCeYGNQJgiAIgiAIgiCcYGJQJwiCIAiCIAiCcIKJQZ0gCIIgCIIgCMIJ9l+SPhCIzoO4DgAAAABJRU5ErkJggg==)"
      ],
      "metadata": {
        "id": "_4TggizkuwGv"
      }
    },
    {
      "cell_type": "markdown",
      "source": [
        "Find and interpret the quartiles for speed in the \n",
        "construction zone"
      ],
      "metadata": {
        "id": "PQvSSl_SvsM-"
      }
    },
    {
      "cell_type": "code",
      "source": [
        "vehicles = [20, 24, 27, 28, 29, 30, 32, 33, 34, 36, 38, 39, 40, 40]"
      ],
      "metadata": {
        "id": "CV6SfJDist51"
      },
      "execution_count": 70,
      "outputs": []
    },
    {
      "cell_type": "code",
      "source": [
        "Q2 = np.median(vehicles)\n",
        "Q2"
      ],
      "metadata": {
        "colab": {
          "base_uri": "https://localhost:8080/"
        },
        "id": "Za21GofU2tAD",
        "outputId": "913c142f-d491-4144-9226-51e76552e687"
      },
      "execution_count": 86,
      "outputs": [
        {
          "output_type": "execute_result",
          "data": {
            "text/plain": [
              "32.5"
            ]
          },
          "metadata": {},
          "execution_count": 86
        }
      ]
    },
    {
      "cell_type": "code",
      "source": [
        "vehicles.sort()#Sort"
      ],
      "metadata": {
        "id": "Loag6AZevwUF"
      },
      "execution_count": 72,
      "outputs": []
    },
    {
      "cell_type": "code",
      "source": [
        "vehicles"
      ],
      "metadata": {
        "colab": {
          "base_uri": "https://localhost:8080/"
        },
        "id": "OdKJr-CTvxyc",
        "outputId": "5e9a925c-736e-4572-a293-168616599113"
      },
      "execution_count": 73,
      "outputs": [
        {
          "output_type": "execute_result",
          "data": {
            "text/plain": [
              "[20, 24, 27, 28, 29, 30, 32, 33, 34, 36, 38, 39, 40, 40]"
            ]
          },
          "metadata": {},
          "execution_count": 73
        }
      ]
    },
    {
      "cell_type": "code",
      "source": [
        "n = len(vehicles)\n",
        "mid_point = int(n/2)\n",
        "\n",
        "small = vehicles[:mid_point]\n",
        "big = vehicles[mid_point:]\n",
        "print(small)\n",
        "print(big)"
      ],
      "metadata": {
        "colab": {
          "base_uri": "https://localhost:8080/"
        },
        "id": "4UHLVDRsv0Yl",
        "outputId": "87859063-7fe3-4244-d2d2-b3eda66f7700"
      },
      "execution_count": 85,
      "outputs": [
        {
          "output_type": "stream",
          "name": "stdout",
          "text": [
            "[20, 24, 27, 28, 29, 30, 32]\n",
            "[33, 34, 36, 38, 39, 40, 40]\n"
          ]
        }
      ]
    },
    {
      "cell_type": "code",
      "source": [
        "assert len(small) == len(big)\n",
        "Q1 = np.median(small)\n",
        "Q3 = np.median(big)"
      ],
      "metadata": {
        "id": "JRLUc9Crv8SY"
      },
      "execution_count": 83,
      "outputs": []
    },
    {
      "cell_type": "code",
      "source": [
        "print(f\"Q1: {Q1}, Q2: {Q2}, Q3: {Q3}\")"
      ],
      "metadata": {
        "colab": {
          "base_uri": "https://localhost:8080/"
        },
        "id": "i-vDzOUnv9yV",
        "outputId": "17726bd0-1cfc-44d3-b91c-5634e2080126"
      },
      "execution_count": 84,
      "outputs": [
        {
          "output_type": "stream",
          "name": "stdout",
          "text": [
            "Q1: 28.0, Q2: 32.5, Q3: 38.0\n"
          ]
        }
      ]
    },
    {
      "cell_type": "code",
      "source": [
        "IQR = Q3-Q1"
      ],
      "metadata": {
        "id": "idXNMW-6zEDg"
      },
      "execution_count": 94,
      "outputs": []
    },
    {
      "cell_type": "code",
      "source": [
        "def get_quantile(data, ret = None, interpretation = None):\n",
        "  data.sort()\n",
        "  assert data[0] <= data[1]\n",
        "  n = len(data)\n",
        "  mid_point = int(n/2)\n",
        "  small = data[:mid_point]\n",
        "  big = data[mid_point:]\n",
        "  print(\"small: \",small)\n",
        "  print(\"big: \",big)\n",
        "  Q1 = np.median(small)\n",
        "  Q2 = np.median(data)\n",
        "  Q3 = np.median(big)\n",
        "  IQR = Q3-Q1\n",
        "  print(f\"\\n\\nQ1: {Q1}, Q2: {Q2}, Q3: {Q3}, IQR: {Q3-Q1}\")\n",
        "  if interpretation != None:\n",
        "    print(f\"25% of the _ are less than equal to {Q1}\")\n",
        "    print(f\"75% of the _ are greater than {Q1}\")\n",
        "    print(f\"50% of the _ are less than or equal to {Q2}\")\n",
        "    print(f\"50% of the _ are greater than {Q2}\")\n",
        "    print(f\"75% of the _ are less than or equal to {Q3}\")\n",
        "    print(f\"25% of the _ are greater than {Q3}\")\n",
        "    print(\"\\n\\n\")\n",
        "    print(f\"The range of the middle 50% is {IQR}\")\n",
        "  if ret != None:\n",
        "    return Q1,Q2,Q3,IQR\n",
        "  else:\n",
        "    return None"
      ],
      "metadata": {
        "id": "hsAbsfShwY0h"
      },
      "execution_count": 103,
      "outputs": []
    },
    {
      "cell_type": "code",
      "source": [
        "get_quantile(vehicles,interpretation = \"Yes\")"
      ],
      "metadata": {
        "colab": {
          "base_uri": "https://localhost:8080/"
        },
        "id": "KZv0v23FxJ05",
        "outputId": "56527c82-2896-4bf4-80c3-6de62b779339"
      },
      "execution_count": 92,
      "outputs": [
        {
          "output_type": "stream",
          "name": "stdout",
          "text": [
            "small:  [20, 24, 27, 28, 29, 30, 32]\n",
            "big:  [33, 34, 36, 38, 39, 40, 40]\n",
            "\n",
            "\n",
            "Q1: 28.0, Q2: 32.5, Q3: 38.0, IQR: 10.0\n",
            "25% of the _ are less than equal to 28.0\n",
            "75% of the _ are greater than 28.0\n",
            "50% of the _ are less than or equal to 32.5\n",
            "50% of the _ are greater than 32.5\n",
            "75% of the _ are less than or equal to 38.0\n",
            "25% of the _ are greater than 38.0\n"
          ]
        }
      ]
    },
    {
      "cell_type": "markdown",
      "source": [
        "![image.png](data:image/png;base64,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)"
      ],
      "metadata": {
        "id": "2Z8zy4ply1Ki"
      }
    },
    {
      "cell_type": "markdown",
      "source": [
        "## Outliers"
      ],
      "metadata": {
        "id": "tFf38Jzdy9ix"
      }
    },
    {
      "cell_type": "code",
      "source": [
        "lower_fence = Q1-1.5*IQR\n",
        "upper_fence = Q3+1.5*IQR"
      ],
      "metadata": {
        "id": "BOjxTSnRy0fj"
      },
      "execution_count": 95,
      "outputs": []
    },
    {
      "cell_type": "code",
      "source": [
        "np.sum(vehicles<lower_fence)#less than"
      ],
      "metadata": {
        "colab": {
          "base_uri": "https://localhost:8080/"
        },
        "id": "8oG4wi6WxLdT",
        "outputId": "2f25528b-4a75-438a-f3db-8686763a6d65"
      },
      "execution_count": 97,
      "outputs": [
        {
          "output_type": "execute_result",
          "data": {
            "text/plain": [
              "0"
            ]
          },
          "metadata": {},
          "execution_count": 97
        }
      ]
    },
    {
      "cell_type": "code",
      "source": [
        "np.sum(vehicles>upper_fence)#greater than"
      ],
      "metadata": {
        "colab": {
          "base_uri": "https://localhost:8080/"
        },
        "id": "0LgBgAIFzTDC",
        "outputId": "8373a149-6e48-4408-c664-b6f78360fa3f"
      },
      "execution_count": 98,
      "outputs": [
        {
          "output_type": "execute_result",
          "data": {
            "text/plain": [
              "0"
            ]
          },
          "metadata": {},
          "execution_count": 98
        }
      ]
    },
    {
      "cell_type": "markdown",
      "source": [
        "no outliers"
      ],
      "metadata": {
        "id": "ckWnxU7nzd3r"
      }
    },
    {
      "cell_type": "markdown",
      "source": [
        "## Five-Number summary"
      ],
      "metadata": {
        "id": "ATrDDwKjzsOz"
      }
    },
    {
      "cell_type": "code",
      "source": [
        "def fiveNSummary(data):\n",
        "  data.sort()\n",
        "  min = np.min(data)\n",
        "  max = np.max(data)\n",
        "  Q1,Q2,Q3,IQR = get_quantile(data,ret = True)\n",
        "  median = np.median(data)\n",
        "  answer = [min,Q1,median,Q3,max]\n",
        "  print(f\"min: {min} Q1: {Q1} median: {median} Q3: {Q3} max: {max}\")\n",
        "  return answer"
      ],
      "metadata": {
        "id": "xSdQ38mJzcSQ"
      },
      "execution_count": 106,
      "outputs": []
    },
    {
      "cell_type": "code",
      "source": [
        "survey = [['Pulaski Bank and Trust Company', 6.5],\n",
        "['Rainier Pacific Savings Bank', 12.0],\n",
        "['Wells Fargo Bank NA', 14.4],\n",
        "['Firstbank of Colorado', 14.4],\n",
        "['Lafayette Ambassador Bank', 14.3],\n",
        "['Infibank', 13.0],\n",
        "['United Bank, Inc.', 13.3],\n",
        "['First National Bank of The Mid-Cities', 13.9],\n",
        "['Bank of Louisiana', 9.9],\n",
        "['Bar Harbor Bank and Trust Company', 14.5]]"
      ],
      "metadata": {
        "id": "vlOONeaQ0S8s"
      },
      "execution_count": 107,
      "outputs": []
    },
    {
      "cell_type": "code",
      "source": [
        "Institution = []\n",
        "Rate = []\n",
        "for s in survey:\n",
        "  Institution.append(s[0])\n",
        "  Rate.append(s[1])"
      ],
      "metadata": {
        "id": "UmGP2bGi1Bme"
      },
      "execution_count": 108,
      "outputs": []
    },
    {
      "cell_type": "code",
      "source": [
        "answer = fiveNSummary(Rate)"
      ],
      "metadata": {
        "colab": {
          "base_uri": "https://localhost:8080/"
        },
        "id": "P_sOdCgp1JZ6",
        "outputId": "afd249ea-5e60-4f9b-dd77-f18a2d5afbfb"
      },
      "execution_count": 109,
      "outputs": [
        {
          "output_type": "stream",
          "name": "stdout",
          "text": [
            "small:  [6.5, 9.9, 12.0, 13.0, 13.3]\n",
            "big:  [13.9, 14.3, 14.4, 14.4, 14.5]\n",
            "\n",
            "\n",
            "Q1: 12.0, Q2: 13.600000000000001, Q3: 14.4, IQR: 2.4000000000000004\n",
            "min: 6.5 Q1: 12.0 median: 13.600000000000001 Q3: 14.4 max: 14.5\n"
          ]
        }
      ]
    },
    {
      "cell_type": "code",
      "source": [
        "answer"
      ],
      "metadata": {
        "colab": {
          "base_uri": "https://localhost:8080/"
        },
        "id": "2M-353vu1NQZ",
        "outputId": "80aca34a-941b-486a-80b5-4396d57085e0"
      },
      "execution_count": 105,
      "outputs": [
        {
          "output_type": "execute_result",
          "data": {
            "text/plain": [
              "[6.5, 12.0, 13.600000000000001, 14.4, 14.5]"
            ]
          },
          "metadata": {},
          "execution_count": 105
        }
      ]
    },
    {
      "cell_type": "code",
      "source": [
        "def draw_boxplot(data):\n",
        "  answer = fiveNSummary(data)\n",
        "  min, Q1, median, Q3, max = answer[0],answer[1],answer[2],answer[3],answer[4]\n",
        "  IQR = Q3-Q1\n",
        "  lower_fence = Q1-1.5*IQR\n",
        "  upper_fence = Q3+1.5*IQR\n",
        "  plt.plot(max,marker = 'o',label = \"max\")\n",
        "  plt.plot(Q3,marker = 'o',label=\"third quartile (Q3)\")\n",
        "  plt.plot(median, marker = 'o',label = \"median\")\n",
        "  plt.plot(Q1, marker = 'o',label = \"first quartile (Q1)\")\n",
        "  plt.plot(min,marker = 'o', label = \"min\")\n",
        "  low_outlier = []\n",
        "  upper_outlier = []\n",
        "  for d in data:\n",
        "    if d<lower_fence:\n",
        "      low_outlier.append(d)\n",
        "    if d>upper_fence:\n",
        "      upper_outlier.append(d)\n",
        "  for l in low_outlier:\n",
        "    plt.plot(l,marker = 'o',label = 'outlier')\n",
        "  for l in upper_outlier:\n",
        "    plt.plot(l,marker = 'o',label = 'outlier')\n",
        "  print(\"low fence:\",lower_fence, \"upper fence:\",upper_fence)\n",
        "  print(\"outlier:\",low_outlier,upper_outlier)\n",
        "  plt.legend()\n",
        "  plt.show()\n",
        "  return"
      ],
      "metadata": {
        "id": "6KUU_LRk1T16"
      },
      "execution_count": 131,
      "outputs": []
    },
    {
      "cell_type": "code",
      "source": [
        "draw_boxplot(Rate)"
      ],
      "metadata": {
        "colab": {
          "base_uri": "https://localhost:8080/",
          "height": 410
        },
        "id": "7bnKmSXu2XXR",
        "outputId": "ef5092fc-a0b9-42ce-e331-e410d6020f78"
      },
      "execution_count": 132,
      "outputs": [
        {
          "output_type": "stream",
          "name": "stdout",
          "text": [
            "small:  [6.5, 9.9, 12.0, 13.0, 13.3]\n",
            "big:  [13.9, 14.3, 14.4, 14.4, 14.5]\n",
            "\n",
            "\n",
            "Q1: 12.0, Q2: 13.600000000000001, Q3: 14.4, IQR: 2.4000000000000004\n",
            "min: 6.5 Q1: 12.0 median: 13.600000000000001 Q3: 14.4 max: 14.5\n",
            "low fence: 8.399999999999999 upper fence: 18.0\n",
            "outlier: [6.5] []\n"
          ]
        },
        {
          "output_type": "display_data",
          "data": {
            "text/plain": [
              "<Figure size 432x288 with 1 Axes>"
            ],
            "image/png": "[encoded data removed]"
          },
          "metadata": {
            "needs_background": "light"
          }
        }
      ]
    },
    {
      "cell_type": "markdown",
      "source": [
        "답:\n",
        "\n",
        "![image.png](data:image/png;base64,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)"
      ],
      "metadata": {
        "id": "3T-6HHFQ4xNh"
      }
    },
    {
      "cell_type": "markdown",
      "source": [
        "*: outlier<br>\n",
        "[: lower fence<br>\n",
        "-: outlier 아닌 최소 값 <br>\n",
        "첫 |: Q1<br>\n",
        "두번째 |: median<br>\n",
        "세번째 |: Q3<br>\n",
        "-: outlier 아닌 최대 값<br>\n",
        "]:upper fence"
      ],
      "metadata": {
        "id": "q_ARPumy4yhA"
      }
    },
    {
      "cell_type": "code",
      "source": [
        ""
      ],
      "metadata": {
        "id": "lbOK_Y9C4weM"
      },
      "execution_count": null,
      "outputs": []
    },
    {
      "cell_type": "code",
      "source": [
        ""
      ],
      "metadata": {
        "id": "Kmk3sUNx4ezv"
      },
      "execution_count": null,
      "outputs": []
    }
  ]
}