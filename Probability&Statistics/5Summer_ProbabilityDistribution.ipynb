{
  "nbformat": 4,
  "nbformat_minor": 0,
  "metadata": {
    "colab": {
      "name": "5Summer_ProbabilityDistribution.ipynb",
      "provenance": [],
      "collapsed_sections": [],
      "authorship_tag": "ABX9TyPYeYfT9YxpATCuUQxXHUmT",
      "include_colab_link": true
    },
    "kernelspec": {
      "name": "python3",
      "display_name": "Python 3"
    },
    "language_info": {
      "name": "python"
    }
  },
  "cells": [
    {
      "cell_type": "markdown",
      "metadata": {
        "id": "view-in-github",
        "colab_type": "text"
      },
      "source": [
        "<a href=\"https://colab.research.google.com/github/superbunny38/DataScience/blob/main/Probability%26Statistics/5Summer_ProbabilityDistribution.ipynb\" target=\"_parent\"><img src=\"https://colab.research.google.com/assets/colab-badge.svg\" alt=\"Open In Colab\"/></a>"
      ]
    },
    {
      "cell_type": "code",
      "execution_count": 1,
      "metadata": {
        "id": "yAmQf_b8ohNE"
      },
      "outputs": [],
      "source": [
        "import numpy as np\n",
        "import pandas as pd\n",
        "import matplotlib.pyplot as plt"
      ]
    },
    {
      "cell_type": "markdown",
      "source": [
        "# Binomial Probability Distribution"
      ],
      "metadata": {
        "id": "GhXkkiVKo0iQ"
      }
    },
    {
      "cell_type": "code",
      "source": [
        "from scipy.stats import binom\n",
        "# setting the values\n",
        "# of n and p\n",
        "n = 6\n",
        "p = 0.6\n",
        "# defining the list of r values\n",
        "r_values = list(range(n + 1))\n",
        "# obtaining the mean and variance \n",
        "mean, var = binom.stats(n, p)\n",
        "# list of pmf values\n",
        "dist = [binom.pmf(r, n, p) for r in r_values ]\n",
        "# printing the table\n",
        "print(\"r\\tp(r)\")\n",
        "for i in range(n + 1):\n",
        "    print(str(r_values[i]) + \"\\t\" + str(dist[i]))\n",
        "# printing mean and variance\n",
        "print(\"mean = \"+str(mean))\n",
        "print(\"variance = \"+str(var))"
      ],
      "metadata": {
        "colab": {
          "base_uri": "https://localhost:8080/"
        },
        "id": "jtt9h4Xsoqb5",
        "outputId": "2c249657-cde0-4394-b240-2fa4a5d31207"
      },
      "execution_count": 2,
      "outputs": [
        {
          "output_type": "stream",
          "name": "stdout",
          "text": [
            "r\tp(r)\n",
            "0\t0.004096000000000002\n",
            "1\t0.03686400000000005\n",
            "2\t0.13824000000000003\n",
            "3\t0.2764800000000001\n",
            "4\t0.31104\n",
            "5\t0.18662400000000007\n",
            "6\t0.04665599999999999\n",
            "mean = 3.5999999999999996\n",
            "variance = 1.44\n"
          ]
        }
      ]
    },
    {
      "cell_type": "code",
      "source": [
        "from scipy.stats import binom\n",
        "# setting the values\n",
        "# of n and p\n",
        "n = 10\n",
        "p = 0.35\n",
        "# defining the list of r values\n",
        "r_values = list(range(n + 1))\n",
        "# obtaining the mean and variance \n",
        "mean, var = binom.stats(n, p)\n",
        "# list of pmf values\n",
        "dist = [binom.pmf(r, n, p) for r in r_values ]\n",
        "\n",
        "cumul = [0]\n",
        "for value in dist:\n",
        "  cumul.append(cumul[-1]+value)\n",
        "\n",
        "cumul.pop(0)\n",
        "# printing the table\n",
        "print(\"r\\tp(r)\")\n",
        "for i in range(n + 1):\n",
        "    print(str(r_values[i]) + \"\\t\" + str(dist[i]) + \"\\t\" + str(cumul[i]))\n",
        "\n",
        "# printing mean and variance\n",
        "print(\"mean = \"+str(mean))\n",
        "print(\"variance = \"+str(var))\n",
        "print(\"std = \"+str(np.sqrt(var)))"
      ],
      "metadata": {
        "colab": {
          "base_uri": "https://localhost:8080/"
        },
        "id": "lSCPNbjmovGT",
        "outputId": "713e0cda-b4fc-4afe-ac37-a9b9c733be8e"
      },
      "execution_count": 8,
      "outputs": [
        {
          "output_type": "stream",
          "name": "stdout",
          "text": [
            "r\tp(r)\n",
            "0\t0.013462743344628913\t0.013462743344628913\n",
            "1\t0.07249169493261728\t0.08595443827724619\n",
            "2\t0.175652953105957\t0.2616073913832032\n",
            "3\t0.2522196249726563\t0.5138270163558596\n",
            "4\t0.2376684927626953\t0.7514955091185549\n",
            "5\t0.15357041070820318\t0.9050659198267581\n",
            "6\t0.0689097996767578\t0.9739757195035159\n",
            "7\t0.02120301528515624\t0.9951787347886721\n",
            "8\t0.004281378086425777\t0.999460112875098\n",
            "9\t0.0005123016513671869\t0.9999724145264651\n",
            "10\t2.7585473535156207e-05\t1.0000000000000002\n",
            "mean = 3.5\n",
            "variance = 2.275\n",
            "std = 1.5083103128998356\n"
          ]
        }
      ]
    },
    {
      "cell_type": "code",
      "source": [
        "def p_hist(n,p):\n",
        "  r_values = list(range(n + 1))\n",
        "  # obtaining the mean and variance \n",
        "  mean, var = binom.stats(n, p)\n",
        "  # list of pmf values\n",
        "  dist = [binom.pmf(r, n, p) for r in r_values ]\n",
        "  n = len(dist)-1\n",
        "  x = list(range(n+1))\n",
        "  print(\"mean:\",mean,\"variance:\",var)\n",
        "  plt.title(f\"Boinomial Histogram, n = {n}, p = {p}\")\n",
        "  plt.ylabel('P( X = x )')\n",
        "  plt.xlabel('x')\n",
        "  plt.bar(x,dist,width = 1.,edgecolor='black')\n",
        "  plt.xticks(np.arange(0,n+1,1))"
      ],
      "metadata": {
        "id": "MelixzRgpM9W"
      },
      "execution_count": 28,
      "outputs": []
    },
    {
      "cell_type": "code",
      "source": [
        "p_hist(8,0.15)"
      ],
      "metadata": {
        "colab": {
          "base_uri": "https://localhost:8080/",
          "height": 313
        },
        "id": "Oex43oOZr8zS",
        "outputId": "09535abe-b592-4c66-e47c-5518b90cd423"
      },
      "execution_count": 29,
      "outputs": [
        {
          "output_type": "stream",
          "name": "stdout",
          "text": [
            "mean: 1.2 variance: 1.02\n"
          ]
        },
        {
          "output_type": "display_data",
          "data": {
            "text/plain": [
              "<Figure size 432x288 with 1 Axes>"
            ],
            "image/png": "[encoded data removed]"
          },
          "metadata": {
            "needs_background": "light"
          }
        }
      ]
    },
    {
      "cell_type": "code",
      "source": [
        "p_hist(8,0.5)"
      ],
      "metadata": {
        "colab": {
          "base_uri": "https://localhost:8080/",
          "height": 313
        },
        "id": "pqJn4FJqr-CW",
        "outputId": "782c5656-ba19-410f-9d51-5956c65d500d"
      },
      "execution_count": 30,
      "outputs": [
        {
          "output_type": "stream",
          "name": "stdout",
          "text": [
            "mean: 4.0 variance: 2.0\n"
          ]
        },
        {
          "output_type": "display_data",
          "data": {
            "text/plain": [
              "<Figure size 432x288 with 1 Axes>"
            ],
            "image/png": "[encoded data removed]"
          },
          "metadata": {
            "needs_background": "light"
          }
        }
      ]
    },
    {
      "cell_type": "code",
      "source": [
        "p_hist(8,0.85)"
      ],
      "metadata": {
        "colab": {
          "base_uri": "https://localhost:8080/",
          "height": 313
        },
        "id": "cPLJaMSht9Eh",
        "outputId": "bcfe7ef0-ba7e-4b2d-a39f-23fe776d6a8d"
      },
      "execution_count": 31,
      "outputs": [
        {
          "output_type": "stream",
          "name": "stdout",
          "text": [
            "mean: 6.8 variance: 1.02\n"
          ]
        },
        {
          "output_type": "display_data",
          "data": {
            "text/plain": [
              "<Figure size 432x288 with 1 Axes>"
            ],
            "image/png": "[encoded data removed]"
          },
          "metadata": {
            "needs_background": "light"
          }
        }
      ]
    },
    {
      "cell_type": "code",
      "source": [
        "p_hist(25,0.8)"
      ],
      "metadata": {
        "colab": {
          "base_uri": "https://localhost:8080/",
          "height": 313
        },
        "id": "q2InuT1Pt_hi",
        "outputId": "34318853-6fb6-4b0e-e5bb-8d13627004de"
      },
      "execution_count": 32,
      "outputs": [
        {
          "output_type": "stream",
          "name": "stdout",
          "text": [
            "mean: 20.0 variance: 3.999999999999999\n"
          ]
        },
        {
          "output_type": "display_data",
          "data": {
            "text/plain": [
              "<Figure size 432x288 with 1 Axes>"
            ],
            "image/png": "[encoded data removed]"
          },
          "metadata": {
            "needs_background": "light"
          }
        }
      ]
    },
    {
      "cell_type": "code",
      "source": [
        "p_hist(50,0.8)"
      ],
      "metadata": {
        "colab": {
          "base_uri": "https://localhost:8080/",
          "height": 313
        },
        "id": "lkXap3MyuC27",
        "outputId": "ccfec2bc-cffa-4c1c-c8f0-1bcdd5925bf9"
      },
      "execution_count": 33,
      "outputs": [
        {
          "output_type": "stream",
          "name": "stdout",
          "text": [
            "mean: 40.0 variance: 7.999999999999998\n"
          ]
        },
        {
          "output_type": "display_data",
          "data": {
            "text/plain": [
              "<Figure size 432x288 with 1 Axes>"
            ],
            "image/png": "[encoded data removed]"
          },
          "metadata": {
            "needs_background": "light"
          }
        }
      ]
    },
    {
      "cell_type": "code",
      "source": [
        "p_hist(70,0.8)"
      ],
      "metadata": {
        "colab": {
          "base_uri": "https://localhost:8080/",
          "height": 313
        },
        "id": "FU44nTLduGfE",
        "outputId": "7388b482-2dea-45dd-ef55-589deaae55bb"
      },
      "execution_count": 35,
      "outputs": [
        {
          "output_type": "stream",
          "name": "stdout",
          "text": [
            "mean: 56.0 variance: 11.199999999999998\n"
          ]
        },
        {
          "output_type": "display_data",
          "data": {
            "text/plain": [
              "<Figure size 432x288 with 1 Axes>"
            ],
            "image/png": "[encoded data removed]"
          },
          "metadata": {
            "needs_background": "light"
          }
        }
      ]
    },
    {
      "cell_type": "code",
      "source": [
        "def empirical_binomial(n,p):\n",
        "  r_values = list(range(n + 1))\n",
        "  # obtaining the mean and variance \n",
        "  mean, var = binom.stats(n, p)\n",
        "  std = np.sqrt(var)\n",
        "  print(f\"68% of the observations lie between {mean-std} and {mean + std}\")\n",
        "  print(f\"95% of the observations lie between {mean-2*std} and {mean + 2*std}\")\n",
        "  print(f\"99.7% of the observations lie between {mean-3*std} and {mean + 3*std}\")"
      ],
      "metadata": {
        "id": "8Qeoc22GuJ0u"
      },
      "execution_count": 36,
      "outputs": []
    },
    {
      "cell_type": "code",
      "source": [
        "empirical_binomial(400,0.35)"
      ],
      "metadata": {
        "colab": {
          "base_uri": "https://localhost:8080/"
        },
        "id": "LuO4PURpvd1Z",
        "outputId": "a8892d1f-9faa-4988-ef4f-a172c3236d37"
      },
      "execution_count": 37,
      "outputs": [
        {
          "output_type": "stream",
          "name": "stdout",
          "text": [
            "68% of the observations lie between 130.46060798583053 and 149.53939201416947\n",
            "95% of the observations lie between 120.92121597166108 and 159.0787840283389\n",
            "99.7% of the observations lie between 111.38182395749163 and 168.61817604250837\n"
          ]
        }
      ]
    },
    {
      "cell_type": "markdown",
      "source": [
        "# Poisson Probability Distribution Function\n",
        "\n",
        "$P(X=x)=P(x)=\\frac{(λt)^x}{x!}e^{-λt}$\n",
        "\n",
        "$\\lambda$: average number of occurences of the event in some interval of length =1\n",
        "\n",
        "$t$: fixed length"
      ],
      "metadata": {
        "id": "2O-ariVqx67T"
      }
    },
    {
      "cell_type": "code",
      "source": [
        "import math\n",
        "def p_poisson(l,t,x):#lambda,t,x\n",
        "  #lambda * t\n",
        "  tmp = l*t\n",
        "  numerator = tmp**x\n",
        "  denominator = math.factorial(x)\n",
        "  right = np.exp(-l*t)\n",
        "  p = numerator*right/denominator\n",
        "  \n",
        "  return p\n"
      ],
      "metadata": {
        "id": "hO8pbPc1vjZt"
      },
      "execution_count": 39,
      "outputs": []
    },
    {
      "cell_type": "code",
      "source": [
        "def pmf_poisson(l,t,n = 30):\n",
        "  dist = []\n",
        "  x = 0\n",
        "  n_zeros = 0\n",
        "  for i in range(n):\n",
        "    p = p_poisson(l,t,x)\n",
        "    dist.append(p)\n",
        "    if p == 0:\n",
        "      n_zeros += 1\n",
        "    else:\n",
        "      n_zeros = 0\n",
        "    if n_zeros > 3:\n",
        "      break\n",
        "    x+= 1\n",
        "  return dist"
      ],
      "metadata": {
        "id": "IZX8aTW420HV"
      },
      "execution_count": 54,
      "outputs": []
    },
    {
      "cell_type": "code",
      "source": [
        "def poisson_stat(l,t):\n",
        "  mean = l*t\n",
        "  var = l*t\n",
        "  std = np.sqrt(var)\n",
        "  print(f\"mean: {mean}, std: {std}\")\n",
        "  return mean, var, std"
      ],
      "metadata": {
        "id": "5sYcboqp0X1a"
      },
      "execution_count": 41,
      "outputs": []
    },
    {
      "cell_type": "code",
      "source": [
        "p_poisson(0.6,10,3)"
      ],
      "metadata": {
        "colab": {
          "base_uri": "https://localhost:8080/"
        },
        "id": "DhN0-QkG0Jfy",
        "outputId": "0672963a-44a1-4433-8f66-7caec8e3b314"
      },
      "execution_count": 42,
      "outputs": [
        {
          "output_type": "execute_result",
          "data": {
            "text/plain": [
              "0.08923507835998891"
            ]
          },
          "metadata": {},
          "execution_count": 42
        }
      ]
    },
    {
      "cell_type": "code",
      "source": [
        "poisson_stat(0.6,5)"
      ],
      "metadata": {
        "colab": {
          "base_uri": "https://localhost:8080/"
        },
        "id": "l1QyCSpE0OLg",
        "outputId": "f7660d62-1fa8-4aab-858b-bf432345ee2d"
      },
      "execution_count": 43,
      "outputs": [
        {
          "output_type": "stream",
          "name": "stdout",
          "text": [
            "mean: 3.0, std: 1.7320508075688772\n"
          ]
        },
        {
          "output_type": "execute_result",
          "data": {
            "text/plain": [
              "(3.0, 3.0, 1.7320508075688772)"
            ]
          },
          "metadata": {},
          "execution_count": 43
        }
      ]
    },
    {
      "cell_type": "code",
      "source": [
        "Number = list(np.arange(0,12,1))"
      ],
      "metadata": {
        "id": "TlK3S4rt0tR1"
      },
      "execution_count": 44,
      "outputs": []
    },
    {
      "cell_type": "code",
      "source": [
        "Number"
      ],
      "metadata": {
        "colab": {
          "base_uri": "https://localhost:8080/"
        },
        "id": "2oFXYT3N10q2",
        "outputId": "5e8f28a0-74f5-40b2-d5f7-b1e827a05073"
      },
      "execution_count": 45,
      "outputs": [
        {
          "output_type": "execute_result",
          "data": {
            "text/plain": [
              "[0, 1, 2, 3, 4, 5, 6, 7, 8, 9, 10, 11]"
            ]
          },
          "metadata": {},
          "execution_count": 45
        }
      ]
    },
    {
      "cell_type": "code",
      "source": [
        "Frequency = [57,203,383,525,532,408,273,139,45,27,10,6]"
      ],
      "metadata": {
        "id": "ZbbCtXwZ11Pd"
      },
      "execution_count": 46,
      "outputs": []
    },
    {
      "cell_type": "code",
      "source": [
        "pd.DataFrame({'Number Detected':Number, 'Frequency':Frequency})"
      ],
      "metadata": {
        "colab": {
          "base_uri": "https://localhost:8080/",
          "height": 426
        },
        "id": "3j_xOyUo17fc",
        "outputId": "8a259369-6e48-4190-d834-4eb0bff7039c"
      },
      "execution_count": 49,
      "outputs": [
        {
          "output_type": "execute_result",
          "data": {
            "text/plain": [
              "    Number Detected  Frequency\n",
              "0                 0         57\n",
              "1                 1        203\n",
              "2                 2        383\n",
              "3                 3        525\n",
              "4                 4        532\n",
              "5                 5        408\n",
              "6                 6        273\n",
              "7                 7        139\n",
              "8                 8         45\n",
              "9                 9         27\n",
              "10               10         10\n",
              "11               11          6"
            ],
            "text/html": [
              "\n",
              "  <div id=\"df-1d059a11-b30c-42f8-baba-7150a03cf12e\">\n",
              "    <div class=\"colab-df-container\">\n",
              "      <div>\n",
              "<style scoped>\n",
              "    .dataframe tbody tr th:only-of-type {\n",
              "        vertical-align: middle;\n",
              "    }\n",
              "\n",
              "    .dataframe tbody tr th {\n",
              "        vertical-align: top;\n",
              "    }\n",
              "\n",
              "    .dataframe thead th {\n",
              "        text-align: right;\n",
              "    }\n",
              "</style>\n",
              "<table border=\"1\" class=\"dataframe\">\n",
              "  <thead>\n",
              "    <tr style=\"text-align: right;\">\n",
              "      <th></th>\n",
              "      <th>Number Detected</th>\n",
              "      <th>Frequency</th>\n",
              "    </tr>\n",
              "  </thead>\n",
              "  <tbody>\n",
              "    <tr>\n",
              "      <th>0</th>\n",
              "      <td>0</td>\n",
              "      <td>57</td>\n",
              "    </tr>\n",
              "    <tr>\n",
              "      <th>1</th>\n",
              "      <td>1</td>\n",
              "      <td>203</td>\n",
              "    </tr>\n",
              "    <tr>\n",
              "      <th>2</th>\n",
              "      <td>2</td>\n",
              "      <td>383</td>\n",
              "    </tr>\n",
              "    <tr>\n",
              "      <th>3</th>\n",
              "      <td>3</td>\n",
              "      <td>525</td>\n",
              "    </tr>\n",
              "    <tr>\n",
              "      <th>4</th>\n",
              "      <td>4</td>\n",
              "      <td>532</td>\n",
              "    </tr>\n",
              "    <tr>\n",
              "      <th>5</th>\n",
              "      <td>5</td>\n",
              "      <td>408</td>\n",
              "    </tr>\n",
              "    <tr>\n",
              "      <th>6</th>\n",
              "      <td>6</td>\n",
              "      <td>273</td>\n",
              "    </tr>\n",
              "    <tr>\n",
              "      <th>7</th>\n",
              "      <td>7</td>\n",
              "      <td>139</td>\n",
              "    </tr>\n",
              "    <tr>\n",
              "      <th>8</th>\n",
              "      <td>8</td>\n",
              "      <td>45</td>\n",
              "    </tr>\n",
              "    <tr>\n",
              "      <th>9</th>\n",
              "      <td>9</td>\n",
              "      <td>27</td>\n",
              "    </tr>\n",
              "    <tr>\n",
              "      <th>10</th>\n",
              "      <td>10</td>\n",
              "      <td>10</td>\n",
              "    </tr>\n",
              "    <tr>\n",
              "      <th>11</th>\n",
              "      <td>11</td>\n",
              "      <td>6</td>\n",
              "    </tr>\n",
              "  </tbody>\n",
              "</table>\n",
              "</div>\n",
              "      <button class=\"colab-df-convert\" onclick=\"convertToInteractive('df-1d059a11-b30c-42f8-baba-7150a03cf12e')\"\n",
              "              title=\"Convert this dataframe to an interactive table.\"\n",
              "              style=\"display:none;\">\n",
              "        \n",
              "  <svg xmlns=\"http://www.w3.org/2000/svg\" height=\"24px\"viewBox=\"0 0 24 24\"\n",
              "       width=\"24px\">\n",
              "    <path d=\"M0 0h24v24H0V0z\" fill=\"none\"/>\n",
              "    <path d=\"M18.56 5.44l.94 2.06.94-2.06 2.06-.94-2.06-.94-.94-2.06-.94 2.06-2.06.94zm-11 1L8.5 8.5l.94-2.06 2.06-.94-2.06-.94L8.5 2.5l-.94 2.06-2.06.94zm10 10l.94 2.06.94-2.06 2.06-.94-2.06-.94-.94-2.06-.94 2.06-2.06.94z\"/><path d=\"M17.41 7.96l-1.37-1.37c-.4-.4-.92-.59-1.43-.59-.52 0-1.04.2-1.43.59L10.3 9.45l-7.72 7.72c-.78.78-.78 2.05 0 2.83L4 21.41c.39.39.9.59 1.41.59.51 0 1.02-.2 1.41-.59l7.78-7.78 2.81-2.81c.8-.78.8-2.07 0-2.86zM5.41 20L4 18.59l7.72-7.72 1.47 1.35L5.41 20z\"/>\n",
              "  </svg>\n",
              "      </button>\n",
              "      \n",
              "  <style>\n",
              "    .colab-df-container {\n",
              "      display:flex;\n",
              "      flex-wrap:wrap;\n",
              "      gap: 12px;\n",
              "    }\n",
              "\n",
              "    .colab-df-convert {\n",
              "      background-color: #E8F0FE;\n",
              "      border: none;\n",
              "      border-radius: 50%;\n",
              "      cursor: pointer;\n",
              "      display: none;\n",
              "      fill: #1967D2;\n",
              "      height: 32px;\n",
              "      padding: 0 0 0 0;\n",
              "      width: 32px;\n",
              "    }\n",
              "\n",
              "    .colab-df-convert:hover {\n",
              "      background-color: #E2EBFA;\n",
              "      box-shadow: 0px 1px 2px rgba(60, 64, 67, 0.3), 0px 1px 3px 1px rgba(60, 64, 67, 0.15);\n",
              "      fill: #174EA6;\n",
              "    }\n",
              "\n",
              "    [theme=dark] .colab-df-convert {\n",
              "      background-color: #3B4455;\n",
              "      fill: #D2E3FC;\n",
              "    }\n",
              "\n",
              "    [theme=dark] .colab-df-convert:hover {\n",
              "      background-color: #434B5C;\n",
              "      box-shadow: 0px 1px 3px 1px rgba(0, 0, 0, 0.15);\n",
              "      filter: drop-shadow(0px 1px 2px rgba(0, 0, 0, 0.3));\n",
              "      fill: #FFFFFF;\n",
              "    }\n",
              "  </style>\n",
              "\n",
              "      <script>\n",
              "        const buttonEl =\n",
              "          document.querySelector('#df-1d059a11-b30c-42f8-baba-7150a03cf12e button.colab-df-convert');\n",
              "        buttonEl.style.display =\n",
              "          google.colab.kernel.accessAllowed ? 'block' : 'none';\n",
              "\n",
              "        async function convertToInteractive(key) {\n",
              "          const element = document.querySelector('#df-1d059a11-b30c-42f8-baba-7150a03cf12e');\n",
              "          const dataTable =\n",
              "            await google.colab.kernel.invokeFunction('convertToInteractive',\n",
              "                                                     [key], {});\n",
              "          if (!dataTable) return;\n",
              "\n",
              "          const docLinkHtml = 'Like what you see? Visit the ' +\n",
              "            '<a target=\"_blank\" href=https://colab.research.google.com/notebooks/data_table.ipynb>data table notebook</a>'\n",
              "            + ' to learn more about interactive tables.';\n",
              "          element.innerHTML = '';\n",
              "          dataTable['output_type'] = 'display_data';\n",
              "          await google.colab.output.renderOutput(dataTable, element);\n",
              "          const docLink = document.createElement('div');\n",
              "          docLink.innerHTML = docLinkHtml;\n",
              "          element.appendChild(docLink);\n",
              "        }\n",
              "      </script>\n",
              "    </div>\n",
              "  </div>\n",
              "  "
            ]
          },
          "metadata": {},
          "execution_count": 49
        }
      ]
    },
    {
      "cell_type": "code",
      "source": [
        "p_poisson(203,7.5,1)"
      ],
      "metadata": {
        "colab": {
          "base_uri": "https://localhost:8080/"
        },
        "id": "aDG9fmQP2B2v",
        "outputId": "ac221cd4-ae72-431b-ad6b-1c0bec75945b"
      },
      "execution_count": 51,
      "outputs": [
        {
          "output_type": "execute_result",
          "data": {
            "text/plain": [
              "0.0"
            ]
          },
          "metadata": {},
          "execution_count": 51
        }
      ]
    },
    {
      "cell_type": "code",
      "source": [
        "pmf_poisson(0.2,30)"
      ],
      "metadata": {
        "colab": {
          "base_uri": "https://localhost:8080/"
        },
        "id": "yvEr7TEX2SkN",
        "outputId": "6a65a9ea-574d-4f90-ed40-5a4a4b90f7ee"
      },
      "execution_count": 55,
      "outputs": [
        {
          "output_type": "execute_result",
          "data": {
            "text/plain": [
              "[0.0024787521766663585,\n",
              " 0.014872513059998151,\n",
              " 0.044617539179994455,\n",
              " 0.08923507835998891,\n",
              " 0.13385261753998337,\n",
              " 0.16062314104798003,\n",
              " 0.16062314104798003,\n",
              " 0.13767697804112575,\n",
              " 0.1032577335308443,\n",
              " 0.06883848902056287,\n",
              " 0.041303093412337726,\n",
              " 0.022528960043093304,\n",
              " 0.011264480021546652,\n",
              " 0.0051989907791753776,\n",
              " 0.0022281389053608763,\n",
              " 0.0008912555621443505,\n",
              " 0.0003342208358041314,\n",
              " 0.00011796029498969344,\n",
              " 3.9320098329897816e-05,\n",
              " 1.2416873156809836e-05,\n",
              " 3.7250619470429508e-06,\n",
              " 1.064303413440843e-06,\n",
              " 2.902645673020481e-07,\n",
              " 7.57211914700995e-08,\n",
              " 1.8930297867524878e-08,\n",
              " 4.5432714882059706e-09,\n",
              " 1.04844726650907e-09,\n",
              " 2.3298828144646e-10,\n",
              " 4.992606030995572e-11,\n",
              " 1.0329529719301183e-11]"
            ]
          },
          "metadata": {},
          "execution_count": 55
        }
      ]
    },
    {
      "cell_type": "markdown",
      "source": [
        "# Hypergeometric Probabilty Distribution"
      ],
      "metadata": {
        "id": "-U8BAj5wL-iW"
      }
    },
    {
      "cell_type": "code",
      "source": [
        "import math\n",
        "\n",
        "def nCr(n,r):\n",
        "    f = math.factorial\n",
        "    return f(n) / f(r) / f(n-r)"
      ],
      "metadata": {
        "id": "77WskqmrMyAu"
      },
      "execution_count": 7,
      "outputs": []
    },
    {
      "cell_type": "code",
      "source": [
        "def p_hyper(N,n,k,x):\n",
        "  numerator = nCr(k,x)*nCr(N-k,n-x)\n",
        "  denominator = nCr(N,n)\n",
        "  p = numerator/denominator\n",
        "  return p"
      ],
      "metadata": {
        "id": "F7v-SKqY3WyD"
      },
      "execution_count": 11,
      "outputs": []
    },
    {
      "cell_type": "code",
      "source": [
        "p_hyper(30,4,18,3)"
      ],
      "metadata": {
        "colab": {
          "base_uri": "https://localhost:8080/"
        },
        "id": "7BFGaLMpMbX1",
        "outputId": "3f202768-fe40-48e7-a0a5-4fc2ca2405a9"
      },
      "execution_count": 12,
      "outputs": [
        {
          "output_type": "execute_result",
          "data": {
            "text/plain": [
              "0.3573070607553367"
            ]
          },
          "metadata": {},
          "execution_count": 12
        }
      ]
    },
    {
      "cell_type": "code",
      "source": [
        "def hyper_stat(N,n,k):\n",
        "  mean = n*k/N\n",
        "  var = (N-n)/(N-1)*mean*(N-k)/N\n",
        "  std = np.sqrt(var)\n",
        "  print(f\"mean: {mean}, var: {var}, std: {std}\")\n",
        "  return mean,var"
      ],
      "metadata": {
        "id": "rXMLMpIGMdim"
      },
      "execution_count": 15,
      "outputs": []
    },
    {
      "cell_type": "code",
      "source": [
        "hyper_stat(30,4,18)"
      ],
      "metadata": {
        "colab": {
          "base_uri": "https://localhost:8080/"
        },
        "id": "HbwXSYtXNR5R",
        "outputId": "e4b46605-6636-4555-81fe-4608a7926641"
      },
      "execution_count": 16,
      "outputs": [
        {
          "output_type": "stream",
          "name": "stdout",
          "text": [
            "mean: 2.4, var: 0.8606896551724137, std: 0.927733612182082\n"
          ]
        },
        {
          "output_type": "execute_result",
          "data": {
            "text/plain": [
              "(2.4, 0.8606896551724137)"
            ]
          },
          "metadata": {},
          "execution_count": 16
        }
      ]
    },
    {
      "cell_type": "code",
      "source": [
        "def pmf_hyper(N,n,k):\n",
        "  dist = []\n",
        "  for i in range(n+1):\n",
        "    p = p_hyper(N,n,k,i)\n",
        "    dist.append(p)\n",
        "  return dist"
      ],
      "metadata": {
        "id": "CSexF_OLNUBO"
      },
      "execution_count": 17,
      "outputs": []
    },
    {
      "cell_type": "code",
      "source": [
        "pmf_hyper(30,4,18)"
      ],
      "metadata": {
        "colab": {
          "base_uri": "https://localhost:8080/"
        },
        "id": "-ob1D9QpRFu_",
        "outputId": "d7140093-a8ac-4eb9-986b-7858b6d66b3b"
      },
      "execution_count": 18,
      "outputs": [
        {
          "output_type": "execute_result",
          "data": {
            "text/plain": [
              "[0.018062397372742203,\n",
              " 0.14449917898193762,\n",
              " 0.3684729064039409,\n",
              " 0.3573070607553367,\n",
              " 0.11165845648604271]"
            ]
          },
          "metadata": {},
          "execution_count": 18
        }
      ]
    },
    {
      "cell_type": "code",
      "source": [
        ""
      ],
      "metadata": {
        "id": "iy414xQWRJgf"
      },
      "execution_count": null,
      "outputs": []
    }
  ]
}