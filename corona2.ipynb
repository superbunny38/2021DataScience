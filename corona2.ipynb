{
  "nbformat": 4,
  "nbformat_minor": 0,
  "metadata": {
    "colab": {
      "name": "corona2.ipynb",
      "provenance": [],
      "authorship_tag": "ABX9TyPpV+Ixv+jebbgUBGcoWCde",
      "include_colab_link": true
    },
    "kernelspec": {
      "name": "python3",
      "display_name": "Python 3"
    },
    "language_info": {
      "name": "python"
    }
  },
  "cells": [
    {
      "cell_type": "markdown",
      "metadata": {
        "id": "view-in-github",
        "colab_type": "text"
      },
      "source": [
        "<a href=\"https://colab.research.google.com/github/superbunny38/2021DataScience/blob/main/corona2.ipynb\" target=\"_parent\"><img src=\"https://colab.research.google.com/assets/colab-badge.svg\" alt=\"Open In Colab\"/></a>"
      ]
    },
    {
      "cell_type": "code",
      "metadata": {
        "id": "ookZKl6yXlF5"
      },
      "source": [
        "import pandas as pd\n",
        "import matplotlib.pyplot as plt\n",
        "from bs4 import BeautifulSoup\n",
        "from urllib.request import Request, urlopen\n",
        "from urllib.parse import unquote, quote_plus, urlencode"
      ],
      "execution_count": 1,
      "outputs": []
    },
    {
      "cell_type": "code",
      "metadata": {
        "id": "_zIDoTxlXl8m"
      },
      "source": [
        "url = 'http://openapi.data.go.kr/openapi/service/rest/Covid19/getCovid19GenAgeCaseInfJson'\n",
        "serviceKey = 'UIZ4nR8Yx%2FM2qRLipwYmfJVi%2B6Fl8uCyx4gSk7S07xo1oOkiRf3hHp8xiiBljk2z6YDG5Kxrq3gCnA3jVWZJ4Q%3D%3D'\n",
        "decodekey = 'UIZ4nR8Yx/M2qRLipwYmfJVi+6Fl8uCyx4gSk7S07xo1oOkiRf3hHp8xiiBljk2z6YDG5Kxrq3gCnA3jVWZJ4Q=='"
      ],
      "execution_count": 15,
      "outputs": []
    },
    {
      "cell_type": "code",
      "metadata": {
        "colab": {
          "base_uri": "https://localhost:8080/",
          "height": 70
        },
        "id": "JgQ146jvXo3L",
        "outputId": "b93aac43-8596-42ee-cc47-09bc776dc9f0"
      },
      "source": [
        "import requests\n",
        "from bs4 import BeautifulSoup as bs\n",
        "import lxml\n",
        "from urllib import parse\n",
        "startCreateDt = 2019414\n",
        "endCreateDt = 20210709\n",
        "params = {'ServiceKey':parse.unquote(serviceKey), # 서비스키(필수)\n",
        "          'startCreateDt':startCreateDt, # 데이터 생성일 시작범위(선택)\n",
        "          'endCreateDt':endCreateDt # 데이터 생성일 종료범위(선택)\n",
        "}\n",
        "res = requests.get(url, params=params)\n",
        "soup = bs(res.text, \"lxml\")\n",
        "#soup = BeautifulSoup(res, \"lxml\")\n",
        "\n",
        "'''\n",
        "query_params = '?' + urlencode({\n",
        "    quote_plus('serviceKey'): decodekey,\n",
        "    quote_plus('startCreateDt'): startCreateDt,\n",
        "    quote_plus('endCreateDt'): endCreateDt\n",
        "})\n",
        "\n",
        "URL = url + query_params'''"
      ],
      "execution_count": 16,
      "outputs": [
        {
          "output_type": "execute_result",
          "data": {
            "application/vnd.google.colaboratory.intrinsic+json": {
              "type": "string"
            },
            "text/plain": [
              "\"\\nquery_params = '?' + urlencode({\\n    quote_plus('serviceKey'): decodekey,\\n    quote_plus('startCreateDt'): startCreateDt,\\n    quote_plus('endCreateDt'): endCreateDt\\n})\\n\\nURL = url + query_params\""
            ]
          },
          "metadata": {
            "tags": []
          },
          "execution_count": 16
        }
      ]
    },
    {
      "cell_type": "code",
      "metadata": {
        "id": "a5vFxVPrXq03"
      },
      "source": [
        "items = soup.find_all('item')"
      ],
      "execution_count": 17,
      "outputs": []
    },
    {
      "cell_type": "code",
      "metadata": {
        "id": "sW1k-VzKX0Wi"
      },
      "source": [
        "response = {\n",
        "            'confCase': '확진자',\n",
        "            'confCaseRate': '확진률',\n",
        "            'createDt': '등록일시분초',\n",
        "            'criticalRate': '치명률',\n",
        "            'death': '사망자',\n",
        "            'deathRate': '사망률',\n",
        "            'gubun': '구분',\n",
        "            'seq': '고유값',\n",
        "            'updateDt': '수정일시분초'\n",
        "            }"
      ],
      "execution_count": 19,
      "outputs": []
    },
    {
      "cell_type": "code",
      "metadata": {
        "colab": {
          "base_uri": "https://localhost:8080/"
        },
        "id": "uZx373qSZOWP",
        "outputId": "eda8ce63-7605-4c7a-d773-ce880b322822"
      },
      "source": [
        "# xml을 dictionary로 바꿔 리스트 원소로 추가\n",
        "lst = []\n",
        "for y in items:\n",
        "    l = {}\n",
        "    for x in y:\n",
        "        l[x.name] = x.text\n",
        "    lst.append(l)\n",
        "lst[:2]"
      ],
      "execution_count": 20,
      "outputs": [
        {
          "output_type": "execute_result",
          "data": {
            "text/plain": [
              "[{'confcase': '7487',\n",
              "  'confcaserate': '4.56',\n",
              "  'createdt': '2021-07-08 14:44:56.8',\n",
              "  'criticalrate': '0',\n",
              "  'death': '0',\n",
              "  'deathrate': '0.00',\n",
              "  'gubun': '0-9',\n",
              "  'seq': '10057',\n",
              "  'updatedt': 'null'},\n",
              " {'confcase': '12060',\n",
              "  'confcaserate': '7.35',\n",
              "  'createdt': '2021-07-08 14:44:56.8',\n",
              "  'criticalrate': '0',\n",
              "  'death': '0',\n",
              "  'deathrate': '0.00',\n",
              "  'gubun': '10-19',\n",
              "  'seq': '10056',\n",
              "  'updatedt': 'null'}]"
            ]
          },
          "metadata": {
            "tags": []
          },
          "execution_count": 20
        }
      ]
    },
    {
      "cell_type": "code",
      "metadata": {
        "colab": {
          "base_uri": "https://localhost:8080/",
          "height": 202
        },
        "id": "qKHzrDulZUVg",
        "outputId": "1d64bb22-6854-42fe-bb9b-a6b5e65bd251"
      },
      "source": [
        "df = pd.DataFrame(lst)\n",
        "#print(response.keys())\n",
        "#df.columns = df.columns.map(response.keys())\n",
        "df.columns = list(response.values())\n",
        "#print(df.columns)\n",
        "df.head()"
      ],
      "execution_count": 32,
      "outputs": [
        {
          "output_type": "execute_result",
          "data": {
            "text/html": [
              "<div>\n",
              "<style scoped>\n",
              "    .dataframe tbody tr th:only-of-type {\n",
              "        vertical-align: middle;\n",
              "    }\n",
              "\n",
              "    .dataframe tbody tr th {\n",
              "        vertical-align: top;\n",
              "    }\n",
              "\n",
              "    .dataframe thead th {\n",
              "        text-align: right;\n",
              "    }\n",
              "</style>\n",
              "<table border=\"1\" class=\"dataframe\">\n",
              "  <thead>\n",
              "    <tr style=\"text-align: right;\">\n",
              "      <th></th>\n",
              "      <th>확진자</th>\n",
              "      <th>확진률</th>\n",
              "      <th>등록일시분초</th>\n",
              "      <th>치명률</th>\n",
              "      <th>사망자</th>\n",
              "      <th>사망률</th>\n",
              "      <th>구분</th>\n",
              "      <th>고유값</th>\n",
              "      <th>수정일시분초</th>\n",
              "    </tr>\n",
              "  </thead>\n",
              "  <tbody>\n",
              "    <tr>\n",
              "      <th>0</th>\n",
              "      <td>7487</td>\n",
              "      <td>4.56</td>\n",
              "      <td>2021-07-08 14:44:56.8</td>\n",
              "      <td>0</td>\n",
              "      <td>0</td>\n",
              "      <td>0.00</td>\n",
              "      <td>0-9</td>\n",
              "      <td>10057</td>\n",
              "      <td>null</td>\n",
              "    </tr>\n",
              "    <tr>\n",
              "      <th>1</th>\n",
              "      <td>12060</td>\n",
              "      <td>7.35</td>\n",
              "      <td>2021-07-08 14:44:56.8</td>\n",
              "      <td>0</td>\n",
              "      <td>0</td>\n",
              "      <td>0.00</td>\n",
              "      <td>10-19</td>\n",
              "      <td>10056</td>\n",
              "      <td>null</td>\n",
              "    </tr>\n",
              "    <tr>\n",
              "      <th>2</th>\n",
              "      <td>25916</td>\n",
              "      <td>15.8</td>\n",
              "      <td>2021-07-08 14:44:56.8</td>\n",
              "      <td>0.01</td>\n",
              "      <td>3</td>\n",
              "      <td>0.15</td>\n",
              "      <td>20-29</td>\n",
              "      <td>10055</td>\n",
              "      <td>null</td>\n",
              "    </tr>\n",
              "    <tr>\n",
              "      <th>3</th>\n",
              "      <td>23287</td>\n",
              "      <td>14.2</td>\n",
              "      <td>2021-07-08 14:44:56.8</td>\n",
              "      <td>0.03</td>\n",
              "      <td>8</td>\n",
              "      <td>0.39</td>\n",
              "      <td>30-39</td>\n",
              "      <td>10054</td>\n",
              "      <td>null</td>\n",
              "    </tr>\n",
              "    <tr>\n",
              "      <th>4</th>\n",
              "      <td>25549</td>\n",
              "      <td>15.58</td>\n",
              "      <td>2021-07-08 14:44:56.8</td>\n",
              "      <td>0.06</td>\n",
              "      <td>15</td>\n",
              "      <td>0.74</td>\n",
              "      <td>40-49</td>\n",
              "      <td>10053</td>\n",
              "      <td>null</td>\n",
              "    </tr>\n",
              "  </tbody>\n",
              "</table>\n",
              "</div>"
            ],
            "text/plain": [
              "     확진자    확진률                 등록일시분초   치명률 사망자   사망률     구분    고유값 수정일시분초\n",
              "0   7487   4.56  2021-07-08 14:44:56.8     0   0  0.00    0-9  10057   null\n",
              "1  12060   7.35  2021-07-08 14:44:56.8     0   0  0.00  10-19  10056   null\n",
              "2  25916   15.8  2021-07-08 14:44:56.8  0.01   3  0.15  20-29  10055   null\n",
              "3  23287   14.2  2021-07-08 14:44:56.8  0.03   8  0.39  30-39  10054   null\n",
              "4  25549  15.58  2021-07-08 14:44:56.8  0.06  15  0.74  40-49  10053   null"
            ]
          },
          "metadata": {
            "tags": []
          },
          "execution_count": 32
        }
      ]
    },
    {
      "cell_type": "code",
      "metadata": {
        "colab": {
          "base_uri": "https://localhost:8080/",
          "height": 510
        },
        "id": "YKJOSj2_aIlq",
        "outputId": "a08b39c2-0761-418c-b8ad-cf38e2bfe240"
      },
      "source": [
        "df.head(15)"
      ],
      "execution_count": 34,
      "outputs": [
        {
          "output_type": "execute_result",
          "data": {
            "text/html": [
              "<div>\n",
              "<style scoped>\n",
              "    .dataframe tbody tr th:only-of-type {\n",
              "        vertical-align: middle;\n",
              "    }\n",
              "\n",
              "    .dataframe tbody tr th {\n",
              "        vertical-align: top;\n",
              "    }\n",
              "\n",
              "    .dataframe thead th {\n",
              "        text-align: right;\n",
              "    }\n",
              "</style>\n",
              "<table border=\"1\" class=\"dataframe\">\n",
              "  <thead>\n",
              "    <tr style=\"text-align: right;\">\n",
              "      <th></th>\n",
              "      <th>확진자</th>\n",
              "      <th>확진률</th>\n",
              "      <th>등록일시분초</th>\n",
              "      <th>치명률</th>\n",
              "      <th>사망자</th>\n",
              "      <th>사망률</th>\n",
              "      <th>구분</th>\n",
              "      <th>고유값</th>\n",
              "      <th>수정일시분초</th>\n",
              "    </tr>\n",
              "  </thead>\n",
              "  <tbody>\n",
              "    <tr>\n",
              "      <th>0</th>\n",
              "      <td>7487</td>\n",
              "      <td>4.56</td>\n",
              "      <td>2021-07-08 14:44:56.8</td>\n",
              "      <td>0</td>\n",
              "      <td>0</td>\n",
              "      <td>0.00</td>\n",
              "      <td>0-9</td>\n",
              "      <td>10057</td>\n",
              "      <td>null</td>\n",
              "    </tr>\n",
              "    <tr>\n",
              "      <th>1</th>\n",
              "      <td>12060</td>\n",
              "      <td>7.35</td>\n",
              "      <td>2021-07-08 14:44:56.8</td>\n",
              "      <td>0</td>\n",
              "      <td>0</td>\n",
              "      <td>0.00</td>\n",
              "      <td>10-19</td>\n",
              "      <td>10056</td>\n",
              "      <td>null</td>\n",
              "    </tr>\n",
              "    <tr>\n",
              "      <th>2</th>\n",
              "      <td>25916</td>\n",
              "      <td>15.8</td>\n",
              "      <td>2021-07-08 14:44:56.8</td>\n",
              "      <td>0.01</td>\n",
              "      <td>3</td>\n",
              "      <td>0.15</td>\n",
              "      <td>20-29</td>\n",
              "      <td>10055</td>\n",
              "      <td>null</td>\n",
              "    </tr>\n",
              "    <tr>\n",
              "      <th>3</th>\n",
              "      <td>23287</td>\n",
              "      <td>14.2</td>\n",
              "      <td>2021-07-08 14:44:56.8</td>\n",
              "      <td>0.03</td>\n",
              "      <td>8</td>\n",
              "      <td>0.39</td>\n",
              "      <td>30-39</td>\n",
              "      <td>10054</td>\n",
              "      <td>null</td>\n",
              "    </tr>\n",
              "    <tr>\n",
              "      <th>4</th>\n",
              "      <td>25549</td>\n",
              "      <td>15.58</td>\n",
              "      <td>2021-07-08 14:44:56.8</td>\n",
              "      <td>0.06</td>\n",
              "      <td>15</td>\n",
              "      <td>0.74</td>\n",
              "      <td>40-49</td>\n",
              "      <td>10053</td>\n",
              "      <td>null</td>\n",
              "    </tr>\n",
              "    <tr>\n",
              "      <th>5</th>\n",
              "      <td>29901</td>\n",
              "      <td>18.23</td>\n",
              "      <td>2021-07-08 14:44:56.8</td>\n",
              "      <td>0.24</td>\n",
              "      <td>73</td>\n",
              "      <td>3.59</td>\n",
              "      <td>50-59</td>\n",
              "      <td>10052</td>\n",
              "      <td>null</td>\n",
              "    </tr>\n",
              "    <tr>\n",
              "      <th>6</th>\n",
              "      <td>23470</td>\n",
              "      <td>14.31</td>\n",
              "      <td>2021-07-08 14:44:56.8</td>\n",
              "      <td>1.04</td>\n",
              "      <td>245</td>\n",
              "      <td>12.05</td>\n",
              "      <td>60-69</td>\n",
              "      <td>10051</td>\n",
              "      <td>null</td>\n",
              "    </tr>\n",
              "    <tr>\n",
              "      <th>7</th>\n",
              "      <td>10422</td>\n",
              "      <td>6.35</td>\n",
              "      <td>2021-07-08 14:44:56.799</td>\n",
              "      <td>5.59</td>\n",
              "      <td>583</td>\n",
              "      <td>28.66</td>\n",
              "      <td>70-79</td>\n",
              "      <td>10050</td>\n",
              "      <td>null</td>\n",
              "    </tr>\n",
              "    <tr>\n",
              "      <th>8</th>\n",
              "      <td>5936</td>\n",
              "      <td>3.62</td>\n",
              "      <td>2021-07-08 14:44:56.799</td>\n",
              "      <td>18.65</td>\n",
              "      <td>1107</td>\n",
              "      <td>54.42</td>\n",
              "      <td>80 이상</td>\n",
              "      <td>10049</td>\n",
              "      <td>null</td>\n",
              "    </tr>\n",
              "    <tr>\n",
              "      <th>9</th>\n",
              "      <td>81168</td>\n",
              "      <td>49.48</td>\n",
              "      <td>2021-07-08 14:44:56.799</td>\n",
              "      <td>1.27</td>\n",
              "      <td>1028</td>\n",
              "      <td>50.54</td>\n",
              "      <td>여성</td>\n",
              "      <td>10048</td>\n",
              "      <td>null</td>\n",
              "    </tr>\n",
              "    <tr>\n",
              "      <th>10</th>\n",
              "      <td>82860</td>\n",
              "      <td>50.52</td>\n",
              "      <td>2021-07-08 14:44:56.799</td>\n",
              "      <td>1.21</td>\n",
              "      <td>1006</td>\n",
              "      <td>49.46</td>\n",
              "      <td>남성</td>\n",
              "      <td>10047</td>\n",
              "      <td>null</td>\n",
              "    </tr>\n",
              "    <tr>\n",
              "      <th>11</th>\n",
              "      <td>7430</td>\n",
              "      <td>4.57</td>\n",
              "      <td>2021-07-07 14:26:59.478</td>\n",
              "      <td>0</td>\n",
              "      <td>0</td>\n",
              "      <td>0.00</td>\n",
              "      <td>0-9</td>\n",
              "      <td>10035</td>\n",
              "      <td>null</td>\n",
              "    </tr>\n",
              "    <tr>\n",
              "      <th>12</th>\n",
              "      <td>11941</td>\n",
              "      <td>7.34</td>\n",
              "      <td>2021-07-07 14:26:59.478</td>\n",
              "      <td>0</td>\n",
              "      <td>0</td>\n",
              "      <td>0.00</td>\n",
              "      <td>10-19</td>\n",
              "      <td>10034</td>\n",
              "      <td>null</td>\n",
              "    </tr>\n",
              "    <tr>\n",
              "      <th>13</th>\n",
              "      <td>25564</td>\n",
              "      <td>15.71</td>\n",
              "      <td>2021-07-07 14:26:59.478</td>\n",
              "      <td>0.01</td>\n",
              "      <td>3</td>\n",
              "      <td>0.15</td>\n",
              "      <td>20-29</td>\n",
              "      <td>10033</td>\n",
              "      <td>null</td>\n",
              "    </tr>\n",
              "    <tr>\n",
              "      <th>14</th>\n",
              "      <td>23060</td>\n",
              "      <td>14.17</td>\n",
              "      <td>2021-07-07 14:26:59.478</td>\n",
              "      <td>0.03</td>\n",
              "      <td>8</td>\n",
              "      <td>0.39</td>\n",
              "      <td>30-39</td>\n",
              "      <td>10032</td>\n",
              "      <td>null</td>\n",
              "    </tr>\n",
              "  </tbody>\n",
              "</table>\n",
              "</div>"
            ],
            "text/plain": [
              "      확진자    확진률                   등록일시분초    치명률  ...    사망률     구분    고유값 수정일시분초\n",
              "0    7487   4.56    2021-07-08 14:44:56.8      0  ...   0.00    0-9  10057   null\n",
              "1   12060   7.35    2021-07-08 14:44:56.8      0  ...   0.00  10-19  10056   null\n",
              "2   25916   15.8    2021-07-08 14:44:56.8   0.01  ...   0.15  20-29  10055   null\n",
              "3   23287   14.2    2021-07-08 14:44:56.8   0.03  ...   0.39  30-39  10054   null\n",
              "4   25549  15.58    2021-07-08 14:44:56.8   0.06  ...   0.74  40-49  10053   null\n",
              "5   29901  18.23    2021-07-08 14:44:56.8   0.24  ...   3.59  50-59  10052   null\n",
              "6   23470  14.31    2021-07-08 14:44:56.8   1.04  ...  12.05  60-69  10051   null\n",
              "7   10422   6.35  2021-07-08 14:44:56.799   5.59  ...  28.66  70-79  10050   null\n",
              "8    5936   3.62  2021-07-08 14:44:56.799  18.65  ...  54.42  80 이상  10049   null\n",
              "9   81168  49.48  2021-07-08 14:44:56.799   1.27  ...  50.54     여성  10048   null\n",
              "10  82860  50.52  2021-07-08 14:44:56.799   1.21  ...  49.46     남성  10047   null\n",
              "11   7430   4.57  2021-07-07 14:26:59.478      0  ...   0.00    0-9  10035   null\n",
              "12  11941   7.34  2021-07-07 14:26:59.478      0  ...   0.00  10-19  10034   null\n",
              "13  25564  15.71  2021-07-07 14:26:59.478   0.01  ...   0.15  20-29  10033   null\n",
              "14  23060  14.17  2021-07-07 14:26:59.478   0.03  ...   0.39  30-39  10032   null\n",
              "\n",
              "[15 rows x 9 columns]"
            ]
          },
          "metadata": {
            "tags": []
          },
          "execution_count": 34
        }
      ]
    },
    {
      "cell_type": "code",
      "metadata": {
        "id": "c0XsPfHCbxZp"
      },
      "source": [
        "now = df[:11]"
      ],
      "execution_count": 38,
      "outputs": []
    },
    {
      "cell_type": "code",
      "metadata": {
        "colab": {
          "base_uri": "https://localhost:8080/",
          "height": 79
        },
        "id": "Dg7te62dcEFj",
        "outputId": "8564561a-f6a5-4aa1-ff15-089e439cb18a"
      },
      "source": [
        "female_now = now[now[\"구분\"]==\"여성\"]\n",
        "female_now"
      ],
      "execution_count": 41,
      "outputs": [
        {
          "output_type": "execute_result",
          "data": {
            "text/html": [
              "<div>\n",
              "<style scoped>\n",
              "    .dataframe tbody tr th:only-of-type {\n",
              "        vertical-align: middle;\n",
              "    }\n",
              "\n",
              "    .dataframe tbody tr th {\n",
              "        vertical-align: top;\n",
              "    }\n",
              "\n",
              "    .dataframe thead th {\n",
              "        text-align: right;\n",
              "    }\n",
              "</style>\n",
              "<table border=\"1\" class=\"dataframe\">\n",
              "  <thead>\n",
              "    <tr style=\"text-align: right;\">\n",
              "      <th></th>\n",
              "      <th>확진자</th>\n",
              "      <th>확진률</th>\n",
              "      <th>등록일시분초</th>\n",
              "      <th>치명률</th>\n",
              "      <th>사망자</th>\n",
              "      <th>사망률</th>\n",
              "      <th>구분</th>\n",
              "      <th>고유값</th>\n",
              "      <th>수정일시분초</th>\n",
              "    </tr>\n",
              "  </thead>\n",
              "  <tbody>\n",
              "    <tr>\n",
              "      <th>9</th>\n",
              "      <td>81168</td>\n",
              "      <td>49.48</td>\n",
              "      <td>2021-07-08 14:44:56.799</td>\n",
              "      <td>1.27</td>\n",
              "      <td>1028</td>\n",
              "      <td>50.54</td>\n",
              "      <td>여성</td>\n",
              "      <td>10048</td>\n",
              "      <td>null</td>\n",
              "    </tr>\n",
              "  </tbody>\n",
              "</table>\n",
              "</div>"
            ],
            "text/plain": [
              "     확진자    확진률                   등록일시분초   치명률   사망자    사망률  구분    고유값 수정일시분초\n",
              "9  81168  49.48  2021-07-08 14:44:56.799  1.27  1028  50.54  여성  10048   null"
            ]
          },
          "metadata": {
            "tags": []
          },
          "execution_count": 41
        }
      ]
    },
    {
      "cell_type": "code",
      "metadata": {
        "colab": {
          "base_uri": "https://localhost:8080/",
          "height": 79
        },
        "id": "Wr3dwVtVcLSV",
        "outputId": "a1eac464-637b-4c39-ec2d-de5e5bc9d1ad"
      },
      "source": [
        "male_now = now[now[\"구분\"]==\"남성\"]\n",
        "male_now"
      ],
      "execution_count": 42,
      "outputs": [
        {
          "output_type": "execute_result",
          "data": {
            "text/html": [
              "<div>\n",
              "<style scoped>\n",
              "    .dataframe tbody tr th:only-of-type {\n",
              "        vertical-align: middle;\n",
              "    }\n",
              "\n",
              "    .dataframe tbody tr th {\n",
              "        vertical-align: top;\n",
              "    }\n",
              "\n",
              "    .dataframe thead th {\n",
              "        text-align: right;\n",
              "    }\n",
              "</style>\n",
              "<table border=\"1\" class=\"dataframe\">\n",
              "  <thead>\n",
              "    <tr style=\"text-align: right;\">\n",
              "      <th></th>\n",
              "      <th>확진자</th>\n",
              "      <th>확진률</th>\n",
              "      <th>등록일시분초</th>\n",
              "      <th>치명률</th>\n",
              "      <th>사망자</th>\n",
              "      <th>사망률</th>\n",
              "      <th>구분</th>\n",
              "      <th>고유값</th>\n",
              "      <th>수정일시분초</th>\n",
              "    </tr>\n",
              "  </thead>\n",
              "  <tbody>\n",
              "    <tr>\n",
              "      <th>10</th>\n",
              "      <td>82860</td>\n",
              "      <td>50.52</td>\n",
              "      <td>2021-07-08 14:44:56.799</td>\n",
              "      <td>1.21</td>\n",
              "      <td>1006</td>\n",
              "      <td>49.46</td>\n",
              "      <td>남성</td>\n",
              "      <td>10047</td>\n",
              "      <td>null</td>\n",
              "    </tr>\n",
              "  </tbody>\n",
              "</table>\n",
              "</div>"
            ],
            "text/plain": [
              "      확진자    확진률                   등록일시분초   치명률   사망자    사망률  구분    고유값 수정일시분초\n",
              "10  82860  50.52  2021-07-08 14:44:56.799  1.21  1006  49.46  남성  10047   null"
            ]
          },
          "metadata": {
            "tags": []
          },
          "execution_count": 42
        }
      ]
    },
    {
      "cell_type": "code",
      "metadata": {
        "colab": {
          "base_uri": "https://localhost:8080/",
          "height": 274
        },
        "id": "DGVsC441cNxm",
        "outputId": "0be53ca2-7fd3-4c9c-eef7-ce807fe62938"
      },
      "source": [
        "#여성 남성 수 비교\n",
        "import matplotlib.pyplot as plt\n",
        "import numpy as np\n",
        "\n",
        "\n",
        "label = [\"Female\",\"Male\"]\n",
        "index = np.arange(len(label))\n",
        "y = [int(female_now[\"확진자\"]),int(male_now[\"확진자\"])]\n",
        "plt.ylim(75000,86000)\n",
        "plt.bar(index,y)\n",
        "plt.xticks(index, label, fontsize=15)\n",
        "plt.show()"
      ],
      "execution_count": 71,
      "outputs": [
        {
          "output_type": "display_data",
          "data": {
            "image/png": "[encoded data removed]",
            "text/plain": [
              "<Figure size 432x288 with 1 Axes>"
            ]
          },
          "metadata": {
            "tags": [],
            "needs_background": "light"
          }
        }
      ]
    },
    {
      "cell_type": "code",
      "metadata": {
        "colab": {
          "base_uri": "https://localhost:8080/",
          "height": 270
        },
        "id": "_2ak1ZIdfakC",
        "outputId": "30302da1-4fa0-4edf-fb44-fa3cd0730fcf"
      },
      "source": [
        "#여성 남성 수 비교\n",
        "import matplotlib.pyplot as plt\n",
        "import numpy as np\n",
        "\n",
        "\n",
        "label = [\"Female\",\"Male\"]\n",
        "index = np.arange(len(label))\n",
        "y = [int(female_now[\"확진자\"]),int(male_now[\"확진자\"])]\n",
        "plt.scatter(index,y)\n",
        "plt.xticks(index, label, fontsize=15)\n",
        "plt.show()"
      ],
      "execution_count": 64,
      "outputs": [
        {
          "output_type": "display_data",
          "data": {
            "image/png": "[encoded data removed]",
            "text/plain": [
              "<Figure size 432x288 with 1 Axes>"
            ]
          },
          "metadata": {
            "tags": [],
            "needs_background": "light"
          }
        }
      ]
    },
    {
      "cell_type": "code",
      "metadata": {
        "id": "Rp4cLz0PdB9k"
      },
      "source": [
        "#연령\n",
        "import matplotlib.pyplot as plt\n",
        "import numpy as np\n",
        "\n",
        "age_now = now[:9]\n",
        "label = [x for x in age_now[\"구분\"]]\n",
        "label[8] = 'over 80'"
      ],
      "execution_count": 58,
      "outputs": []
    },
    {
      "cell_type": "code",
      "metadata": {
        "colab": {
          "base_uri": "https://localhost:8080/"
        },
        "id": "CGpoZorsekMe",
        "outputId": "b240e13b-4717-4bc8-8d37-1539b44b6567"
      },
      "source": [
        "index = np.arange(len(label))\n",
        "y = [int(x) for x in age_now[\"확진자\"]]\n",
        "print(index)\n",
        "print(y)"
      ],
      "execution_count": 59,
      "outputs": [
        {
          "output_type": "stream",
          "text": [
            "[0 1 2 3 4 5 6 7 8]\n",
            "[7487, 12060, 25916, 23287, 25549, 29901, 23470, 10422, 5936]\n"
          ],
          "name": "stdout"
        }
      ]
    },
    {
      "cell_type": "code",
      "metadata": {
        "colab": {
          "base_uri": "https://localhost:8080/",
          "height": 611
        },
        "id": "RQ0clFjBeykm",
        "outputId": "bcc03cc8-da76-4406-cd7f-acde846adb88"
      },
      "source": [
        "plt.figure(figsize=(15, 10))\n",
        "plt.bar(index,y)\n",
        "plt.xticks(index, label, fontsize=15)\n",
        "plt.xlabel(\"age\")\n",
        "plt.ylabel(\"number of confirmed patients\")\n",
        "plt.show()"
      ],
      "execution_count": 62,
      "outputs": [
        {
          "output_type": "display_data",
          "data": {
            "image/png": "[encoded data removed]",
            "text/plain": [
              "<Figure size 1080x720 with 1 Axes>"
            ]
          },
          "metadata": {
            "tags": [],
            "needs_background": "light"
          }
        }
      ]
    },
    {
      "cell_type": "code",
      "metadata": {
        "id": "YJFqfMQ_fO4V"
      },
      "source": [
        ""
      ],
      "execution_count": null,
      "outputs": []
    }
  ]
}